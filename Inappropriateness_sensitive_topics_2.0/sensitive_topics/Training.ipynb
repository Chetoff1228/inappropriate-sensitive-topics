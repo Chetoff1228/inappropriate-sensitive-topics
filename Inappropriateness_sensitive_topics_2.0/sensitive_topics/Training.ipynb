{
 "cells": [
  {
   "cell_type": "code",
   "execution_count": 1,
   "metadata": {},
   "outputs": [],
   "source": [
    "import pandas as pd\n",
    "import numpy as np\n",
    "from transformers import BertTokenizer, BertForSequenceClassification, Trainer, TrainingArguments\n",
    "from sklearn.metrics import accuracy_score, precision_recall_fscore_support, classification_report\n",
    "\n",
    "from transformers.trainer_callback import EarlyStoppingCallback\n",
    "\n",
    "import torch\n",
    "from torch.utils.data import Dataset, DataLoader"
   ]
  },
  {
   "cell_type": "code",
   "execution_count": 1,
   "metadata": {},
   "outputs": [],
   "source": [
    "import pandas as pd\n"
   ]
  },
  {
   "cell_type": "code",
   "execution_count": 2,
   "metadata": {},
   "outputs": [],
   "source": [
    "df = pd.read_csv('train.csv')\n",
    "df_val = pd.read_csv('val.csv')\n",
    "df_test = pd.read_csv('test.csv')"
   ]
  },
  {
   "cell_type": "code",
   "execution_count": 3,
   "metadata": {},
   "outputs": [
    {
     "data": {
      "text/html": [
       "<div>\n",
       "<style scoped>\n",
       "    .dataframe tbody tr th:only-of-type {\n",
       "        vertical-align: middle;\n",
       "    }\n",
       "\n",
       "    .dataframe tbody tr th {\n",
       "        vertical-align: top;\n",
       "    }\n",
       "\n",
       "    .dataframe thead th {\n",
       "        text-align: right;\n",
       "    }\n",
       "</style>\n",
       "<table border=\"1\" class=\"dataframe\">\n",
       "  <thead>\n",
       "    <tr style=\"text-align: right;\">\n",
       "      <th></th>\n",
       "      <th>text</th>\n",
       "      <th>offline_crime</th>\n",
       "      <th>online_crime</th>\n",
       "      <th>drugs</th>\n",
       "      <th>gambling</th>\n",
       "      <th>pornography</th>\n",
       "      <th>prostitution</th>\n",
       "      <th>slavery</th>\n",
       "      <th>suicide</th>\n",
       "      <th>terrorism</th>\n",
       "      <th>weapons</th>\n",
       "      <th>body_shaming</th>\n",
       "      <th>health_shaming</th>\n",
       "      <th>politics</th>\n",
       "      <th>racism</th>\n",
       "      <th>religion</th>\n",
       "      <th>sexual_minorities</th>\n",
       "      <th>sexism</th>\n",
       "      <th>social_injustice</th>\n",
       "    </tr>\n",
       "  </thead>\n",
       "  <tbody>\n",
       "    <tr>\n",
       "      <th>0</th>\n",
       "      <td>Убийства и мы все знаем что убийца там ☝️</td>\n",
       "      <td>1</td>\n",
       "      <td>0</td>\n",
       "      <td>0</td>\n",
       "      <td>0</td>\n",
       "      <td>0</td>\n",
       "      <td>0</td>\n",
       "      <td>0</td>\n",
       "      <td>0</td>\n",
       "      <td>0</td>\n",
       "      <td>0</td>\n",
       "      <td>0</td>\n",
       "      <td>0</td>\n",
       "      <td>0</td>\n",
       "      <td>0</td>\n",
       "      <td>0</td>\n",
       "      <td>0</td>\n",
       "      <td>0</td>\n",
       "      <td>0</td>\n",
       "    </tr>\n",
       "    <tr>\n",
       "      <th>1</th>\n",
       "      <td>...а потом граждане возмущаются что ктото кое ...</td>\n",
       "      <td>1</td>\n",
       "      <td>0</td>\n",
       "      <td>0</td>\n",
       "      <td>0</td>\n",
       "      <td>0</td>\n",
       "      <td>0</td>\n",
       "      <td>0</td>\n",
       "      <td>0</td>\n",
       "      <td>0</td>\n",
       "      <td>0</td>\n",
       "      <td>0</td>\n",
       "      <td>0</td>\n",
       "      <td>0</td>\n",
       "      <td>0</td>\n",
       "      <td>0</td>\n",
       "      <td>0</td>\n",
       "      <td>0</td>\n",
       "      <td>0</td>\n",
       "    </tr>\n",
       "    <tr>\n",
       "      <th>2</th>\n",
       "      <td>Да преступление не тяжкое, могут под домашний ...</td>\n",
       "      <td>1</td>\n",
       "      <td>0</td>\n",
       "      <td>0</td>\n",
       "      <td>0</td>\n",
       "      <td>0</td>\n",
       "      <td>0</td>\n",
       "      <td>0</td>\n",
       "      <td>0</td>\n",
       "      <td>0</td>\n",
       "      <td>0</td>\n",
       "      <td>0</td>\n",
       "      <td>0</td>\n",
       "      <td>0</td>\n",
       "      <td>0</td>\n",
       "      <td>0</td>\n",
       "      <td>0</td>\n",
       "      <td>0</td>\n",
       "      <td>0</td>\n",
       "    </tr>\n",
       "    <tr>\n",
       "      <th>3</th>\n",
       "      <td>Не льсти себе: Вот моя бывшая вообще мило пост...</td>\n",
       "      <td>1</td>\n",
       "      <td>0</td>\n",
       "      <td>0</td>\n",
       "      <td>0</td>\n",
       "      <td>0</td>\n",
       "      <td>0</td>\n",
       "      <td>0</td>\n",
       "      <td>0</td>\n",
       "      <td>0</td>\n",
       "      <td>0</td>\n",
       "      <td>0</td>\n",
       "      <td>0</td>\n",
       "      <td>0</td>\n",
       "      <td>0</td>\n",
       "      <td>0</td>\n",
       "      <td>0</td>\n",
       "      <td>0</td>\n",
       "      <td>0</td>\n",
       "    </tr>\n",
       "    <tr>\n",
       "      <th>4</th>\n",
       "      <td>Стать правителем и посадить их всех в тюрьму. ...</td>\n",
       "      <td>1</td>\n",
       "      <td>0</td>\n",
       "      <td>0</td>\n",
       "      <td>0</td>\n",
       "      <td>0</td>\n",
       "      <td>0</td>\n",
       "      <td>0</td>\n",
       "      <td>0</td>\n",
       "      <td>0</td>\n",
       "      <td>0</td>\n",
       "      <td>0</td>\n",
       "      <td>0</td>\n",
       "      <td>0</td>\n",
       "      <td>0</td>\n",
       "      <td>0</td>\n",
       "      <td>0</td>\n",
       "      <td>0</td>\n",
       "      <td>0</td>\n",
       "    </tr>\n",
       "  </tbody>\n",
       "</table>\n",
       "</div>"
      ],
      "text/plain": [
       "                                                text  offline_crime  \\\n",
       "0          Убийства и мы все знаем что убийца там ☝️              1   \n",
       "1  ...а потом граждане возмущаются что ктото кое ...              1   \n",
       "2  Да преступление не тяжкое, могут под домашний ...              1   \n",
       "3  Не льсти себе: Вот моя бывшая вообще мило пост...              1   \n",
       "4  Стать правителем и посадить их всех в тюрьму. ...              1   \n",
       "\n",
       "   online_crime  drugs  gambling  pornography  prostitution  slavery  suicide  \\\n",
       "0             0      0         0            0             0        0        0   \n",
       "1             0      0         0            0             0        0        0   \n",
       "2             0      0         0            0             0        0        0   \n",
       "3             0      0         0            0             0        0        0   \n",
       "4             0      0         0            0             0        0        0   \n",
       "\n",
       "   terrorism  weapons  body_shaming  health_shaming  politics  racism  \\\n",
       "0          0        0             0               0         0       0   \n",
       "1          0        0             0               0         0       0   \n",
       "2          0        0             0               0         0       0   \n",
       "3          0        0             0               0         0       0   \n",
       "4          0        0             0               0         0       0   \n",
       "\n",
       "   religion  sexual_minorities  sexism  social_injustice  \n",
       "0         0                  0       0                 0  \n",
       "1         0                  0       0                 0  \n",
       "2         0                  0       0                 0  \n",
       "3         0                  0       0                 0  \n",
       "4         0                  0       0                 0  "
      ]
     },
     "execution_count": 3,
     "metadata": {},
     "output_type": "execute_result"
    }
   ],
   "source": [
    "df.head()"
   ]
  },
  {
   "cell_type": "code",
   "execution_count": 4,
   "metadata": {},
   "outputs": [
    {
     "data": {
      "text/plain": [
       "['offline_crime',\n",
       " 'online_crime',\n",
       " 'drugs',\n",
       " 'gambling',\n",
       " 'pornography',\n",
       " 'prostitution',\n",
       " 'slavery',\n",
       " 'suicide',\n",
       " 'terrorism',\n",
       " 'weapons',\n",
       " 'body_shaming',\n",
       " 'health_shaming',\n",
       " 'politics',\n",
       " 'racism',\n",
       " 'religion',\n",
       " 'sexual_minorities',\n",
       " 'sexism',\n",
       " 'social_injustice']"
      ]
     },
     "execution_count": 4,
     "metadata": {},
     "output_type": "execute_result"
    }
   ],
   "source": [
    "necessary_columns = list(df.columns)[1:] \n",
    "necessary_columns"
   ]
  },
  {
   "cell_type": "code",
   "execution_count": 4,
   "metadata": {},
   "outputs": [],
   "source": [
    "def get_labels(dataframe):\n",
    "    labels =[]\n",
    "    for i, el in dataframe.iterrows():\n",
    "        current_sample_labels = []\n",
    "        any_class = False\n",
    "        for clm in necessary_columns:\n",
    "            if el[clm] == 1:\n",
    "                any_class = True\n",
    "                current_sample_labels.append(clm)\n",
    "        if any_class == False:\n",
    "            current_sample_labels.append(\"none\")\n",
    "        current_sample_labels = ','.join(current_sample_labels)\n",
    "        labels.append(current_sample_labels)\n",
    "    return labels\n",
    "train_labels = get_labels(df)\n",
    "val_labels = get_labels(df_val)\n",
    "test_labels = get_labels(df_test)"
   ]
  },
  {
   "cell_type": "code",
   "execution_count": 5,
   "metadata": {},
   "outputs": [
    {
     "data": {
      "text/plain": [
       "392"
      ]
     },
     "execution_count": 5,
     "metadata": {},
     "output_type": "execute_result"
    }
   ],
   "source": [
    "len(set(train_labels))        "
   ]
  },
  {
   "cell_type": "code",
   "execution_count": 6,
   "metadata": {},
   "outputs": [],
   "source": [
    "df_train_adjusted = pd.DataFrame({'text':list(df['text']), 'labels':train_labels})\n",
    "df_val_adjusted = pd.DataFrame({'text':list(df_val['text']), 'labels':val_labels})\n",
    "df_test_adjusted = pd.DataFrame({'text':list(df_test['text']), 'labels':test_labels})"
   ]
  },
  {
   "cell_type": "code",
   "execution_count": 7,
   "metadata": {},
   "outputs": [],
   "source": [
    "mapping = dict()\n",
    "mapping['none'] = 0\n",
    "\n",
    "for label in train_labels:\n",
    "    if label not in mapping:\n",
    "        mapping[label] = len(mapping)\n",
    "\n",
    "for label in test_labels:\n",
    "    if label not in mapping:\n",
    "        mapping[label] = len(mapping)\n",
    "        \n",
    "for label in val_labels:\n",
    "    if label not in mapping:\n",
    "        mapping[label] = len(mapping)"
   ]
  },
  {
   "cell_type": "code",
   "execution_count": 8,
   "metadata": {},
   "outputs": [
    {
     "data": {
      "text/plain": [
       "393"
      ]
     },
     "execution_count": 8,
     "metadata": {},
     "output_type": "execute_result"
    }
   ],
   "source": [
    "len(mapping)"
   ]
  },
  {
   "cell_type": "code",
   "execution_count": 9,
   "metadata": {},
   "outputs": [],
   "source": [
    "df_train_adjusted['class'] = df_train_adjusted['labels'].apply(lambda x: mapping[x])\n",
    "df_test_adjusted['class'] = df_test_adjusted['labels'].apply(lambda x: mapping[x])\n",
    "df_val_adjusted['class'] = df_val_adjusted['labels'].apply(lambda x: mapping[x])"
   ]
  },
  {
   "cell_type": "code",
   "execution_count": 11,
   "metadata": {},
   "outputs": [],
   "source": [
    "labels_val = df_val_adjusted['labels'].tolist()"
   ]
  },
  {
   "cell_type": "code",
   "execution_count": 12,
   "metadata": {},
   "outputs": [],
   "source": [
    "x_train = df_train_adjusted['text'].tolist()\n",
    "y_train = df_train_adjusted['class'].tolist()\n",
    "x_test = df_test_adjusted['text'].tolist()\n",
    "y_test = df_test_adjusted['class'].tolist()\n",
    "x_val = df_val_adjusted['text'].tolist()\n",
    "y_val = df_val_adjusted['class'].tolist()"
   ]
  },
  {
   "cell_type": "code",
   "execution_count": 14,
   "metadata": {},
   "outputs": [],
   "source": [
    "class UnsafeData(Dataset):\n",
    "\n",
    "    def __init__(self, texts, targets, tokenizer, max_len):\n",
    "        \n",
    "        super().__init__()\n",
    "        \n",
    "        self.texts = texts\n",
    "        self.targets = targets        \n",
    "        self.max_len = max_len\n",
    "        self.tokenizer = tokenizer\n",
    "\n",
    "    def __len__(self):\n",
    "        \n",
    "        return len(self.texts)\n",
    "\n",
    "    \n",
    "    def __getitem__(self, index):\n",
    "        x = self.texts[index]\n",
    "\n",
    "        enc_dict = self.tokenizer(x, truncation=True, max_length=self.max_len, padding='max_length')\n",
    "      \n",
    "        item = {key: torch.tensor(val).long() for key, val in enc_dict.items()}\n",
    "        item['labels'] = torch.tensor(self.targets[index]).long()\n",
    "\n",
    "        return item "
   ]
  },
  {
   "cell_type": "code",
   "execution_count": 106,
   "metadata": {},
   "outputs": [],
   "source": [
    "model_name = 'DeepPavlov/rubert-base-cased-conversational'"
   ]
  },
  {
   "cell_type": "code",
   "execution_count": 107,
   "metadata": {},
   "outputs": [
    {
     "name": "stderr",
     "output_type": "stream",
     "text": [
      "Some weights of BertForSequenceClassification were not initialized from the model checkpoint at DeepPavlov/rubert-base-cased-conversational and are newly initialized: ['classifier.weight', 'classifier.bias']\n",
      "You should probably TRAIN this model on a down-stream task to be able to use it for predictions and inference.\n"
     ]
    }
   ],
   "source": [
    "tokenizer = BertTokenizer.from_pretrained(model_name)\n",
    "model = BertForSequenceClassification.from_pretrained(model_name, num_labels = len(mapping))"
   ]
  },
  {
   "cell_type": "code",
   "execution_count": 108,
   "metadata": {},
   "outputs": [],
   "source": [
    "train_dataset = UnsafeData(x_train, y_train, tokenizer, max_len = 60)\n",
    "test_dataset = UnsafeData(x_test, y_test, tokenizer, max_len = 60)\n",
    "val_dataset = UnsafeData(x_val, y_val, tokenizer, max_len = 60)"
   ]
  },
  {
   "cell_type": "code",
   "execution_count": 109,
   "metadata": {},
   "outputs": [
    {
     "data": {
      "text/plain": [
       "(31130, 1156, 1017)"
      ]
     },
     "execution_count": 109,
     "metadata": {},
     "output_type": "execute_result"
    }
   ],
   "source": [
    "len(train_dataset), len(test_dataset), len(val_dataset)"
   ]
  },
  {
   "cell_type": "code",
   "execution_count": 110,
   "metadata": {},
   "outputs": [
    {
     "data": {
      "text/plain": [
       "{'input_ids': tensor([  101,  2270, 47970,   994,   846,  2181,   132,   458,  2396,  7370,\n",
       "          1536,  1967,   838,  3005,   132,  1235,   322, 19121,   322, 28114,\n",
       "           846,  2181,   132, 75832,   371,   801,  5827,   130,  1064,   802,\n",
       "          7134,   322, 37442,   846,  2181,  1981,  6080,   132,  1190,  4302,\n",
       "           340, 11728,  1143,  2838,  1088, 11757,   132,   102,     0,     0,\n",
       "             0,     0,     0,     0,     0,     0,     0,     0,     0,     0]),\n",
       " 'token_type_ids': tensor([0, 0, 0, 0, 0, 0, 0, 0, 0, 0, 0, 0, 0, 0, 0, 0, 0, 0, 0, 0, 0, 0, 0, 0,\n",
       "         0, 0, 0, 0, 0, 0, 0, 0, 0, 0, 0, 0, 0, 0, 0, 0, 0, 0, 0, 0, 0, 0, 0, 0,\n",
       "         0, 0, 0, 0, 0, 0, 0, 0, 0, 0, 0, 0]),\n",
       " 'attention_mask': tensor([1, 1, 1, 1, 1, 1, 1, 1, 1, 1, 1, 1, 1, 1, 1, 1, 1, 1, 1, 1, 1, 1, 1, 1,\n",
       "         1, 1, 1, 1, 1, 1, 1, 1, 1, 1, 1, 1, 1, 1, 1, 1, 1, 1, 1, 1, 1, 1, 1, 1,\n",
       "         0, 0, 0, 0, 0, 0, 0, 0, 0, 0, 0, 0]),\n",
       " 'labels': tensor(1)}"
      ]
     },
     "execution_count": 110,
     "metadata": {},
     "output_type": "execute_result"
    }
   ],
   "source": [
    "val_dataset[10]"
   ]
  },
  {
   "cell_type": "code",
   "execution_count": 5,
   "metadata": {},
   "outputs": [
    {
     "data": {
      "text/plain": [
       "['offline_crime',\n",
       " 'online_crime',\n",
       " 'drugs',\n",
       " 'gambling',\n",
       " 'pornography',\n",
       " 'prostitution',\n",
       " 'slavery',\n",
       " 'suicide',\n",
       " 'terrorism',\n",
       " 'weapons',\n",
       " 'body_shaming',\n",
       " 'health_shaming',\n",
       " 'politics',\n",
       " 'racism',\n",
       " 'religion',\n",
       " 'sexual_minorities',\n",
       " 'sexism',\n",
       " 'social_injustice',\n",
       " 'none']"
      ]
     },
     "execution_count": 5,
     "metadata": {},
     "output_type": "execute_result"
    }
   ],
   "source": [
    "topics_list = necessary_columns + ['none']\n",
    "topics_list"
   ]
  },
  {
   "cell_type": "code",
   "execution_count": 112,
   "metadata": {},
   "outputs": [],
   "source": [
    "target_vaiables_id2topic_dict = {val:key for key, val in mapping.items()}"
   ]
  },
  {
   "cell_type": "code",
   "execution_count": 113,
   "metadata": {},
   "outputs": [],
   "source": [
    "def adjust_multilabel(y, is_pred = False):\n",
    "    y_adjusted = []\n",
    "    for y_c in y:\n",
    "        y_test_curr = [0]*19\n",
    "        if is_pred == True:\n",
    "            y_c = target_vaiables_id2topic_dict[np.argmax(y_c)]\n",
    "        else:\n",
    "            y_c = target_vaiables_id2topic_dict[y_c]\n",
    "        for tag in y_c.split(\",\"):\n",
    "            topic_index = topics_list.index(tag)\n",
    "            y_test_curr[topic_index] = 1\n",
    "        y_adjusted.append(y_test_curr)\n",
    "    return y_adjusted"
   ]
  },
  {
   "cell_type": "code",
   "execution_count": 114,
   "metadata": {},
   "outputs": [],
   "source": [
    "def compute_metrics(pred):\n",
    "    labels = pred.label_ids\n",
    "    labels = adjust_multilabel(labels, is_pred = False)\n",
    "    preds = pred.predictions\n",
    "    preds = adjust_multilabel(preds, is_pred = True)\n",
    "    precision, recall, f1, _ = precision_recall_fscore_support(labels, preds, average='weighted', zero_division = 0)\n",
    "    acc = accuracy_score(labels, preds)\n",
    "    return {\n",
    "        'accuracy': acc,\n",
    "        'f1': f1,\n",
    "        'precision': precision,\n",
    "        'recall': recall\n",
    "    }"
   ]
  },
  {
   "cell_type": "code",
   "execution_count": 115,
   "metadata": {},
   "outputs": [],
   "source": [
    "training_args = TrainingArguments(\n",
    "    output_dir='/kaggle/working/bert1',\n",
    "    num_train_epochs=10,\n",
    "    per_device_train_batch_size=64,\n",
    "    per_device_eval_batch_size=64,\n",
    "    logging_steps = 600,\n",
    "    evaluation_strategy = 'steps',\n",
    "    warmup_steps=500,\n",
    "    weight_decay=0.01,\n",
    "    logging_dir='/kaggle/working/bert1/logs',\n",
    "    save_steps = 5000,\n",
    "    metric_for_best_model  = 'f1',\n",
    "    greater_is_better = True,\n",
    "    load_best_model_at_end = True    \n",
    ")"
   ]
  },
  {
   "cell_type": "code",
   "execution_count": 116,
   "metadata": {},
   "outputs": [
    {
     "name": "stderr",
     "output_type": "stream",
     "text": [
      "W&B installed but not logged in. Run `wandb login` or set the WANDB_API_KEY env variable.\n"
     ]
    }
   ],
   "source": [
    "trainer = Trainer(\n",
    "    model=model,\n",
    "    args=training_args,\n",
    "    compute_metrics=compute_metrics,\n",
    "    train_dataset=train_dataset,\n",
    "    eval_dataset=val_dataset\n",
    ")"
   ]
  },
  {
   "cell_type": "code",
   "execution_count": 117,
   "metadata": {},
   "outputs": [],
   "source": [
    "trainer.add_callback(EarlyStoppingCallback(4))"
   ]
  },
  {
   "cell_type": "code",
   "execution_count": 118,
   "metadata": {},
   "outputs": [
    {
     "data": {
      "text/html": [
       "\n",
       "    <div>\n",
       "        <style>\n",
       "            /* Turns off some styling */\n",
       "            progress {\n",
       "                /* gets rid of default border in Firefox and Opera. */\n",
       "                border: none;\n",
       "                /* Needs to be in here for Safari polyfill so background images work as expected. */\n",
       "                background-size: auto;\n",
       "            }\n",
       "        </style>\n",
       "      \n",
       "      <progress value='4870' max='4870' style='width:300px; height:20px; vertical-align: middle;'></progress>\n",
       "      [4870/4870 36:44, Epoch 10/10]\n",
       "    </div>\n",
       "    <table border=\"1\" class=\"dataframe\">\n",
       "  <thead>\n",
       "    <tr style=\"text-align: left;\">\n",
       "      <th>Step</th>\n",
       "      <th>Training Loss</th>\n",
       "      <th>Validation Loss</th>\n",
       "      <th>Accuracy</th>\n",
       "      <th>F1</th>\n",
       "      <th>Precision</th>\n",
       "      <th>Recall</th>\n",
       "      <th>Runtime</th>\n",
       "      <th>Samples Per Second</th>\n",
       "    </tr>\n",
       "  </thead>\n",
       "  <tbody>\n",
       "    <tr>\n",
       "      <td>600</td>\n",
       "      <td>2.637900</td>\n",
       "      <td>2.709408</td>\n",
       "      <td>0.467060</td>\n",
       "      <td>0.552528</td>\n",
       "      <td>0.744309</td>\n",
       "      <td>0.493662</td>\n",
       "      <td>1.955700</td>\n",
       "      <td>520.007000</td>\n",
       "    </tr>\n",
       "    <tr>\n",
       "      <td>1200</td>\n",
       "      <td>0.813100</td>\n",
       "      <td>2.307045</td>\n",
       "      <td>0.505408</td>\n",
       "      <td>0.643172</td>\n",
       "      <td>0.745199</td>\n",
       "      <td>0.583099</td>\n",
       "      <td>1.957700</td>\n",
       "      <td>519.484000</td>\n",
       "    </tr>\n",
       "    <tr>\n",
       "      <td>1800</td>\n",
       "      <td>0.531600</td>\n",
       "      <td>2.200252</td>\n",
       "      <td>0.528024</td>\n",
       "      <td>0.667087</td>\n",
       "      <td>0.727995</td>\n",
       "      <td>0.626056</td>\n",
       "      <td>1.953700</td>\n",
       "      <td>520.551000</td>\n",
       "    </tr>\n",
       "    <tr>\n",
       "      <td>2400</td>\n",
       "      <td>0.372300</td>\n",
       "      <td>2.377110</td>\n",
       "      <td>0.514258</td>\n",
       "      <td>0.664307</td>\n",
       "      <td>0.732823</td>\n",
       "      <td>0.621831</td>\n",
       "      <td>1.986600</td>\n",
       "      <td>511.931000</td>\n",
       "    </tr>\n",
       "    <tr>\n",
       "      <td>3000</td>\n",
       "      <td>0.267600</td>\n",
       "      <td>2.510347</td>\n",
       "      <td>0.516224</td>\n",
       "      <td>0.676894</td>\n",
       "      <td>0.723119</td>\n",
       "      <td>0.645070</td>\n",
       "      <td>1.952300</td>\n",
       "      <td>520.918000</td>\n",
       "    </tr>\n",
       "    <tr>\n",
       "      <td>3600</td>\n",
       "      <td>0.210300</td>\n",
       "      <td>2.601495</td>\n",
       "      <td>0.527040</td>\n",
       "      <td>0.691697</td>\n",
       "      <td>0.730733</td>\n",
       "      <td>0.665493</td>\n",
       "      <td>1.954600</td>\n",
       "      <td>520.300000</td>\n",
       "    </tr>\n",
       "    <tr>\n",
       "      <td>4200</td>\n",
       "      <td>0.165400</td>\n",
       "      <td>2.595600</td>\n",
       "      <td>0.519174</td>\n",
       "      <td>0.697182</td>\n",
       "      <td>0.720685</td>\n",
       "      <td>0.678873</td>\n",
       "      <td>1.986300</td>\n",
       "      <td>511.996000</td>\n",
       "    </tr>\n",
       "    <tr>\n",
       "      <td>4800</td>\n",
       "      <td>0.139500</td>\n",
       "      <td>2.692417</td>\n",
       "      <td>0.534907</td>\n",
       "      <td>0.695313</td>\n",
       "      <td>0.734905</td>\n",
       "      <td>0.666901</td>\n",
       "      <td>1.953700</td>\n",
       "      <td>520.538000</td>\n",
       "    </tr>\n",
       "  </tbody>\n",
       "</table><p>"
      ],
      "text/plain": [
       "<IPython.core.display.HTML object>"
      ]
     },
     "metadata": {},
     "output_type": "display_data"
    },
    {
     "data": {
      "text/plain": [
       "TrainOutput(global_step=4870, training_loss=0.6350461391942457, metrics={'train_runtime': 2204.6277, 'train_samples_per_second': 2.209, 'total_flos': 19965548168676000, 'epoch': 10.0})"
      ]
     },
     "execution_count": 118,
     "metadata": {},
     "output_type": "execute_result"
    }
   ],
   "source": [
    "trainer.train()"
   ]
  },
  {
   "cell_type": "code",
   "execution_count": 128,
   "metadata": {},
   "outputs": [
    {
     "data": {
      "text/plain": [
       "{'eval_loss': 2.595600128173828,\n",
       " 'eval_accuracy': 0.5191740412979351,\n",
       " 'eval_f1': 0.6971824976816428,\n",
       " 'eval_precision': 0.7206845731822252,\n",
       " 'eval_recall': 0.6788732394366197,\n",
       " 'eval_runtime': 1.9869,\n",
       " 'eval_samples_per_second': 511.849,\n",
       " 'epoch': 10.0}"
      ]
     },
     "execution_count": 128,
     "metadata": {},
     "output_type": "execute_result"
    }
   ],
   "source": [
    "trainer.evaluate()"
   ]
  },
  {
   "cell_type": "code",
   "execution_count": 126,
   "metadata": {},
   "outputs": [],
   "source": [
    "trainer.save_model('multi-class')"
   ]
  },
  {
   "cell_type": "markdown",
   "metadata": {},
   "source": [
    "Get metrics with validation dataset"
   ]
  },
  {
   "cell_type": "code",
   "execution_count": 120,
   "metadata": {},
   "outputs": [],
   "source": [
    "pred = trainer.predict(val_dataset)"
   ]
  },
  {
   "cell_type": "code",
   "execution_count": 121,
   "metadata": {},
   "outputs": [],
   "source": [
    "pr = pred.predictions"
   ]
  },
  {
   "cell_type": "code",
   "execution_count": 122,
   "metadata": {},
   "outputs": [
    {
     "name": "stdout",
     "output_type": "stream",
     "text": [
      "                precision    recall  f1-score   support\n",
      "\n",
      "          none       0.65      0.59      0.62       188\n",
      "    crime_real       0.62      0.58      0.60        76\n",
      "     crime_web       0.50      0.48      0.49        23\n",
      "         drugs       0.79      0.86      0.83        58\n",
      "      gambling       0.40      1.00      0.57         2\n",
      "   pornography       0.71      0.73      0.72       128\n",
      "  prostitution       0.82      0.76      0.79        55\n",
      "       slavery       0.80      0.73      0.76        22\n",
      "       suicide       0.75      0.75      0.75         4\n",
      "     terrorism       0.50      0.42      0.46        26\n",
      "       weapons       0.87      0.95      0.91        96\n",
      "  body_shaming       0.85      0.74      0.79        68\n",
      " halth_shaming       0.79      0.72      0.75        72\n",
      "      politics       0.69      0.56      0.62       159\n",
      "        racism       0.79      0.72      0.75       127\n",
      "      religion       0.90      0.84      0.87        63\n",
      "sex_minorities       0.73      0.55      0.63        58\n",
      "        sexism       0.69      0.77      0.73        81\n",
      "        social       0.56      0.52      0.54       114\n",
      "\n",
      "     micro avg       0.72      0.68      0.70      1420\n",
      "     macro avg       0.71      0.70      0.69      1420\n",
      "  weighted avg       0.72      0.68      0.70      1420\n",
      "   samples avg       0.74      0.71      0.70      1420\n",
      "\n"
     ]
    }
   ],
   "source": [
    "print(classification_report(adjust_multilabel(y_val, is_pred = False), adjust_multilabel(pr, is_pred = True),\n",
    "                           target_names=topics_list, zero_division = 0))"
   ]
  },
  {
   "cell_type": "markdown",
   "metadata": {},
   "source": [
    "Get metrics for test dataset"
   ]
  },
  {
   "cell_type": "code",
   "execution_count": 123,
   "metadata": {},
   "outputs": [],
   "source": [
    "pred2 = trainer.predict(test_dataset)"
   ]
  },
  {
   "cell_type": "code",
   "execution_count": 124,
   "metadata": {},
   "outputs": [],
   "source": [
    "pr2 = pred2.predictions"
   ]
  },
  {
   "cell_type": "code",
   "execution_count": 125,
   "metadata": {},
   "outputs": [
    {
     "name": "stdout",
     "output_type": "stream",
     "text": [
      "                precision    recall  f1-score   support\n",
      "\n",
      "          none       0.61      0.59      0.60       188\n",
      "    crime_real       0.63      0.49      0.55       108\n",
      "     crime_web       0.46      0.46      0.46        28\n",
      "         drugs       0.84      0.87      0.85        70\n",
      "      gambling       0.42      0.83      0.56         6\n",
      "   pornography       0.68      0.59      0.63       163\n",
      "  prostitution       0.69      0.65      0.67        77\n",
      "       slavery       0.78      0.64      0.70        33\n",
      "       suicide       0.50      0.33      0.40         6\n",
      "     terrorism       0.66      0.49      0.56        39\n",
      "       weapons       0.83      0.86      0.84       107\n",
      "  body_shaming       0.82      0.75      0.78        89\n",
      " halth_shaming       0.82      0.60      0.69        85\n",
      "      politics       0.67      0.61      0.64       191\n",
      "        racism       0.85      0.66      0.74       163\n",
      "      religion       0.91      0.70      0.79        83\n",
      "sex_minorities       0.68      0.51      0.59        84\n",
      "        sexism       0.66      0.60      0.63       107\n",
      "        social       0.52      0.44      0.47       148\n",
      "\n",
      "     micro avg       0.70      0.62      0.66      1775\n",
      "     macro avg       0.68      0.61      0.64      1775\n",
      "  weighted avg       0.71      0.62      0.66      1775\n",
      "   samples avg       0.72      0.66      0.67      1775\n",
      "\n"
     ]
    }
   ],
   "source": [
    "print(classification_report(adjust_multilabel(y_test, is_pred = False), adjust_multilabel(pr2, is_pred = True),\n",
    "                           target_names=topics_list, zero_division = 0))"
   ]
  }
 ],
 "metadata": {
  "kernelspec": {
   "display_name": "Python 3",
   "language": "python",
   "name": "python3"
  },
  "language_info": {
   "codemirror_mode": {
    "name": "ipython",
    "version": 3
   },
   "file_extension": ".py",
   "mimetype": "text/x-python",
   "name": "python",
   "nbconvert_exporter": "python",
   "pygments_lexer": "ipython3",
   "version": "3.8.8"
  }
 },
 "nbformat": 4,
 "nbformat_minor": 4
}
