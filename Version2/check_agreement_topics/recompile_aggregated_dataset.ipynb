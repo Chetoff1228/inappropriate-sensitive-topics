{
 "cells": [
  {
   "cell_type": "code",
   "execution_count": 16,
   "metadata": {},
   "outputs": [],
   "source": [
    "import pandas as pd\n",
    "import os\n",
    "import re"
   ]
  },
  {
   "cell_type": "code",
   "execution_count": 3,
   "metadata": {},
   "outputs": [],
   "source": [
    "df_sensitive = pd.read_csv(\"sensitive_topics_vs_source.csv\")\n",
    "df_sensitive_toloka = df_sensitive[df_sensitive['source'] == 'toloka']\n",
    "toloka_trtes_set = set(df_sensitive[df_sensitive['source']=='trtest']['text'])"
   ]
  },
  {
   "cell_type": "code",
   "execution_count": 7,
   "metadata": {},
   "outputs": [],
   "source": [
    "topics = list(df_sensitive.columns[1:-1])"
   ]
  },
  {
   "cell_type": "code",
   "execution_count": 143,
   "metadata": {},
   "outputs": [
    {
     "data": {
      "text/plain": [
       "['offline_crime',\n",
       " 'online_crime',\n",
       " 'drugs',\n",
       " 'gambling',\n",
       " 'pornography',\n",
       " 'prostitution',\n",
       " 'slavery',\n",
       " 'suicide',\n",
       " 'terrorism',\n",
       " 'weapons',\n",
       " 'body_shaming',\n",
       " 'health_shaming',\n",
       " 'politics',\n",
       " 'racism',\n",
       " 'religion',\n",
       " 'sexual_minorities',\n",
       " 'sexism',\n",
       " 'social_injustice']"
      ]
     },
     "execution_count": 143,
     "metadata": {},
     "output_type": "execute_result"
    }
   ],
   "source": [
    "topics"
   ]
  },
  {
   "cell_type": "code",
   "execution_count": 11,
   "metadata": {
    "scrolled": true
   },
   "outputs": [
    {
     "data": {
      "text/plain": [
       "'dsfds'"
      ]
     },
     "execution_count": 11,
     "metadata": {},
     "output_type": "execute_result"
    }
   ],
   "source": [
    "'OUTPUT:dsfds'[7:]"
   ]
  },
  {
   "cell_type": "code",
   "execution_count": 153,
   "metadata": {},
   "outputs": [],
   "source": [
    "old2new_topic = {'crime_real':'offline_crime','crime_web':'online_crime','halth_shaming':'health_shaming',\n",
    "                'social':'social_injustice','sex_minorities':'sexual_minorities'}"
   ]
  },
  {
   "cell_type": "code",
   "execution_count": 214,
   "metadata": {},
   "outputs": [
    {
     "name": "stdout",
     "output_type": "stream",
     "text": [
      "maybe_old/g1r.tsv\n",
      "./directly_from_toloka/maybe_old/g1.tsv\n",
      "maybe_old/g2r.tsv\n",
      "./directly_from_toloka/maybe_old/g2.tsv\n"
     ]
    }
   ],
   "source": [
    "def update_batch_dict(df_hc, thrsh, collected_texts_dict, file):\n",
    "    confidnece_columns = []\n",
    "    output_columns = []\n",
    "    for c in df_hc.columns:\n",
    "        if 'CONFIDENCE' in c:\n",
    "            df_hc[c] = df_hc[c].apply(lambda x: float(x[:-1])/100)\n",
    "            confidnece_columns.append(c)\n",
    "        if 'OUTPUT' in c:\n",
    "            output_columns.append(c)\n",
    "    \n",
    "    meet_req_list = []\n",
    "    for i, el in df_hc.iterrows():\n",
    "        confidence_above_threshold = all([el[c] > thrsh for c in confidnece_columns if c not in ('CONFIDENCE:none',\n",
    "                                                                                             'CONFIDENCE:obscene',\n",
    "                                                                                             'CONFIDENCE:toxic')])\n",
    "        \n",
    "#         confidence_above_threshold = [el[c] > thrsh for c in confidnece_columns if c not in ('CONFIDENCE:none',\n",
    "#                                                                                              'CONFIDENCE:obscene',\n",
    "#                                                                                              'CONFIDENCE:toxic')]\n",
    "        \n",
    "        collected_topics_conf = [0] * 18\n",
    "        for confidence_colname, output_colname in zip(confidnece_columns, output_columns):\n",
    "            short_topic = confidence_colname[11:]\n",
    "            assert short_topic in output_colname\n",
    "            output_value = el[output_colname]\n",
    "            confidence_value = el[confidence_colname] if output_value == True else 1 - el[confidence_colname]\n",
    "            if short_topic in ('none','obscene','toxic'):\n",
    "                continue\n",
    "            short_topic = old2new_topic.get(short_topic, short_topic)\n",
    "            \n",
    "            topic_index = topics.index(short_topic)\n",
    "            collected_topics_conf[topic_index] = confidence_value\n",
    "\n",
    "        if el['INPUT:text'] in collected_texts_dict:\n",
    "            if collected_texts_dict[el['INPUT:text']]['is_high_conf'] != False:#false нельзя исправлять. если один раз не соотве то все\n",
    "                collected_texts_dict[el['INPUT:text']]['is_high_conf'] = confidence_above_threshold \n",
    "            new_topics_list = []\n",
    "            for existing_values, values_to_add in zip(collected_texts_dict[el['INPUT:text']]['topics_conf'], collected_topics_conf):\n",
    "                if existing_values > 0:\n",
    "                    assert values_to_add == 0, \"{} {}\".format(i, el['text'])\n",
    "\n",
    "                new_topics_list.append(existing_values+values_to_add)  \n",
    "            new_topics_list = [round(v,3) for v in new_topics_list]\n",
    "            assert len(new_topics_list) == 18\n",
    "            collected_texts_dict[el['INPUT:text']]['topics_conf'] = new_topics_list\n",
    "            collected_texts_dict[el['INPUT:text']]['file'].append(file)\n",
    "            \n",
    "        else:\n",
    "            collected_texts_dict[el['INPUT:text']] = {}\n",
    "            collected_texts_dict[el['INPUT:text']]['topics_conf'] = [round(v,3) for v in collected_topics_conf]\n",
    "            collected_texts_dict[el['INPUT:text']]['is_high_conf'] = confidence_above_threshold\n",
    "            collected_texts_dict[el['INPUT:text']]['file'] = [file]\n",
    "            \n",
    "    return set([k for k,v in collected_texts_dict.items() if v['is_high_conf'] == True])\n",
    "    \n",
    "def turn_batch_into_pd(batch_list):\n",
    "    pass\n",
    "    \n",
    "def get_aggr_batch_with_filtering(batch_name, drop_unconfident_thrsh = None, \n",
    "                                  drop_traintest_examples = False, print_output = False, drop_trtest = True):\n",
    "    if batch_name == 'first': \n",
    "        raw_files = ['g1r.tsv','g2r.tsv','g3r.tsv']\n",
    "    elif batch_name == 'fourth':\n",
    "        raw_files = ['g1_4r.tsv','g2_4r.tsv','g3_4r.tsv']\n",
    "    elif batch_name == 'old':\n",
    "        raw_files = ['maybe_old/g1r.tsv','maybe_old/g2r.tsv']\n",
    "    \n",
    "    engaged_texts= set()\n",
    "    \n",
    "    collected_texts_dict = {}\n",
    "   \n",
    "#     collected_agreements = []\n",
    "\n",
    "    for i, file in enumerate(raw_files):\n",
    "        print(file)\n",
    "        batch_path = \"./directly_from_toloka/\"+file\n",
    "        df_curr_common= pd.read_csv(batch_path, sep = '\\t')\n",
    "        \n",
    "        if print_output == True: print(\"before dropping trtest ...\", len(df_curr_common))\n",
    "        df_curr_common = df_curr_common[~df_curr_common['INPUT:text'].isin(toloka_trtes_set)]#!!\n",
    "        if print_output == True: print(\"after dropping trtest ...\", len(df_curr_common))\n",
    "        \n",
    "        \n",
    "        file_agg = re.sub('r','',file)\n",
    "        \n",
    "        batch_path_agg = \"./directly_from_toloka/\"+file_agg\n",
    "        print(batch_path_agg)\n",
    "        df_curr_agg = pd.read_csv(batch_path_agg, sep = '\\t')\n",
    "\n",
    "        current_high_conf_texts = update_batch_dict(df_curr_agg, drop_unconfident_thrsh, collected_texts_dict, file_agg)\n",
    "    return collected_texts_dict\n",
    "\n",
    "#         if print_output == True: print(\"before dropping low conf ... \", len(df_curr_common))\n",
    "#         df_curr_common = df_curr_common[df_curr_common['INPUT:text'].isin(current_high_conf_texts)]\n",
    "#         if print_output == True: print(\"after dropping low conf ...\", len(df_curr_common))\n",
    "\n",
    "dct = get_aggr_batch_with_filtering(\"old\", drop_unconfident_thrsh = 0.9)"
   ]
  },
  {
   "cell_type": "code",
   "execution_count": 211,
   "metadata": {},
   "outputs": [
    {
     "data": {
      "text/plain": [
       "3379"
      ]
     },
     "execution_count": 211,
     "metadata": {},
     "output_type": "execute_result"
    }
   ],
   "source": [
    "len(dct)"
   ]
  },
  {
   "cell_type": "code",
   "execution_count": 212,
   "metadata": {},
   "outputs": [
    {
     "data": {
      "text/plain": [
       "2211"
      ]
     },
     "execution_count": 212,
     "metadata": {},
     "output_type": "execute_result"
    }
   ],
   "source": [
    "2211"
   ]
  },
  {
   "cell_type": "code",
   "execution_count": 213,
   "metadata": {
    "scrolled": false
   },
   "outputs": [
    {
     "name": "stdout",
     "output_type": "stream",
     "text": [
      "2211\n",
      "или баба просто сидит и стебется над тупыми мужланами\n",
      "offline_crime 0.0\n",
      "online_crime 0.009\n",
      "drugs 0.0\n",
      "gambling 0.001\n",
      "pornography 0.0\n",
      "prostitution 0.003\n",
      "slavery 0.0\n",
      "suicide 0.007\n",
      "terrorism 0.013\n",
      "weapons 0.0\n",
      "body_shaming 0\n",
      "health_shaming 0\n",
      "politics 0\n",
      "racism 0\n",
      "religion 0\n",
      "sexual_minorities 0\n",
      "sexism 0\n",
      "social_injustice 0\n",
      "[True, True, True, True, True, True, True, True, True, True]\n",
      "['maybe_old/g1.tsv']\n"
     ]
    }
   ],
   "source": [
    "import random\n",
    "index_r = random.randint(1,len(dct))\n",
    "index_r = 2211\n",
    "print(index_r)\n",
    "index_r_text = list(dct.keys())[index_r]\n",
    "print(index_r_text)\n",
    "for c, t in zip(dct[index_r_text]['topics_conf'], topics):\n",
    "    print(t,c)\n",
    "print(dct[index_r_text]['is_high_conf'])\n",
    "print(dct[index_r_text]['file'])"
   ]
  },
  {
   "cell_type": "code",
   "execution_count": 163,
   "metadata": {},
   "outputs": [],
   "source": [
    "#first 2394"
   ]
  },
  {
   "cell_type": "code",
   "execution_count": null,
   "metadata": {},
   "outputs": [],
   "source": []
  }
 ],
 "metadata": {
  "kernelspec": {
   "display_name": "Python 3",
   "language": "python",
   "name": "python3"
  },
  "language_info": {
   "codemirror_mode": {
    "name": "ipython",
    "version": 3
   },
   "file_extension": ".py",
   "mimetype": "text/x-python",
   "name": "python",
   "nbconvert_exporter": "python",
   "pygments_lexer": "ipython3",
   "version": "3.8.10"
  }
 },
 "nbformat": 4,
 "nbformat_minor": 4
}
