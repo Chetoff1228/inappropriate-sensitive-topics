{
 "cells": [
  {
   "cell_type": "code",
   "execution_count": 1,
   "metadata": {},
   "outputs": [],
   "source": [
    "TEXT2SOURCEDICT = {}"
   ]
  },
  {
   "cell_type": "code",
   "execution_count": 54,
   "metadata": {},
   "outputs": [],
   "source": [
    "import re\n",
    "import pandas as pd\n",
    "import os\n",
    "def depersonalize(text):\n",
    "    text = str(text)\n",
    "    url_regex = r\"(?i)\\b((?:https?://|www\\d{0,3}[.]|[a-z0-9.\\-]+[.][a-z]{2,4}/)(?:[^\\s()<>]+|\\(([^\\s()<>]+|(\\([^\\s()<>]+\\)))*\\))+(?:\\(([^\\s()<>]+|(\\([^\\s()<>]+\\)))*\\)|[^\\s`!()\\[\\]{};:'\\\".,<>?«»“”‘’]))\"\n",
    "    text= re.sub(url_regex, \"url\", text)\n",
    "    text = re.sub(\"id[\\d]*\",'',text)\n",
    "    text = re.sub(\"> ?\",'',text)\n",
    "    text = re.sub(\"@[\\w]*\",'',text)\n",
    "#     text = re.sub(\"\\+[\\d]*\", \"\", text)\n",
    "    text = re.sub(\"[\\d]+\", \"NUMBER\", text)\n",
    "    text = re.sub(\">>\", \"\", text)\n",
    "#     text = re.sub(\"[\\d]{3,100}\", \"\", text)\n",
    "    text = re.sub(\"[\\t|\\n|\\r]\", \"\", text)\n",
    "    text = re.sub(\"[(OP)|url|nickname|phone_number]\", \"\", text)\n",
    "    return text"
   ]
  },
  {
   "cell_type": "code",
   "execution_count": 3,
   "metadata": {},
   "outputs": [],
   "source": [
    "# tr test"
   ]
  },
  {
   "cell_type": "code",
   "execution_count": 12,
   "metadata": {},
   "outputs": [],
   "source": [
    "def get_texts_from_folder(folder, txt, sep):\n",
    "    txt_set = set()\n",
    "    for f in os.listdir(folder):\n",
    "        pth = os.path.join(folder, f)\n",
    "        df_t = pd.read_csv(pth, sep=sep)\n",
    "        texts_set = set(df_t[txt].tolist())\n",
    "        txt_set = txt_set.union(texts_set)\n",
    "    return txt_set"
   ]
  },
  {
   "cell_type": "code",
   "execution_count": 5,
   "metadata": {},
   "outputs": [],
   "source": [
    "train_tes_texts_set = get_texts_from_folder('./gr0_train/',\"INPUT:text\", '\\t')"
   ]
  },
  {
   "cell_type": "code",
   "execution_count": 6,
   "metadata": {},
   "outputs": [],
   "source": [
    "fpaths = ['g1.tsv','g2.tsv','g3.tsv','g1_4.tsv','g2_4.tsv','g3_4.tsv','maybe_old/g1.tsv','maybe_old/g2.tsv']\n",
    "for f in fpaths:\n",
    "    pth = './directly_from_toloka/' + f\n",
    "    df_c = pd.read_csv(pth, sep = '\\t')\n",
    "    golden_columns = [c for c in df_c.columns if 'GOLDEN' in c]\n",
    "    df_c = df_c[~df_c[golden_columns[1]].isna()]\n",
    "    train_tes_texts_set = train_tes_texts_set.union(set(df_c['INPUT:text'].tolist()))"
   ]
  },
  {
   "cell_type": "code",
   "execution_count": 7,
   "metadata": {},
   "outputs": [],
   "source": [
    "def add_set_to_dict(text_set, category):\n",
    "    for t in text_set:\n",
    "        if t not in TEXT2SOURCEDICT:\n",
    "            TEXT2SOURCEDICT[t] = category\n",
    "            \n",
    "        t_pr = depersonalize(t)\n",
    "        if t_pr not in TEXT2SOURCEDICT:\n",
    "            TEXT2SOURCEDICT[t_pr] = category"
   ]
  },
  {
   "cell_type": "code",
   "execution_count": 8,
   "metadata": {},
   "outputs": [],
   "source": [
    "add_set_to_dict(train_tes_texts_set, \"trtest\")"
   ]
  },
  {
   "cell_type": "code",
   "execution_count": 9,
   "metadata": {},
   "outputs": [
    {
     "data": {
      "text/plain": [
       "912"
      ]
     },
     "execution_count": 9,
     "metadata": {},
     "output_type": "execute_result"
    }
   ],
   "source": [
    "len(TEXT2SOURCEDICT)"
   ]
  },
  {
   "cell_type": "code",
   "execution_count": null,
   "metadata": {},
   "outputs": [],
   "source": [
    "# toloka"
   ]
  },
  {
   "cell_type": "code",
   "execution_count": 10,
   "metadata": {},
   "outputs": [],
   "source": [
    "toloka_set = get_texts_from_folder('./gr1_toloka/','text',',')"
   ]
  },
  {
   "cell_type": "code",
   "execution_count": 13,
   "metadata": {},
   "outputs": [],
   "source": [
    "add_set_to_dict(toloka_set, \"toloka\")"
   ]
  },
  {
   "cell_type": "code",
   "execution_count": 14,
   "metadata": {},
   "outputs": [
    {
     "data": {
      "text/plain": [
       "12939"
      ]
     },
     "execution_count": 14,
     "metadata": {},
     "output_type": "execute_result"
    }
   ],
   "source": [
    "len(TEXT2SOURCEDICT)"
   ]
  },
  {
   "cell_type": "code",
   "execution_count": 15,
   "metadata": {},
   "outputs": [],
   "source": [
    "# \"self\""
   ]
  },
  {
   "cell_type": "code",
   "execution_count": 16,
   "metadata": {},
   "outputs": [],
   "source": [
    "df1_s = pd.read_csv('./gr2_self/export_ready_st1 - Sheet1.csv')\n",
    "df2_s = pd.read_csv('./gr2_self/SELF_LABEL_export_ready_st2_multilabel_view.csv')\n",
    "df2_s = df2_s[:1000]\n",
    "df_self = pd.concat([df1_s,df2_s])"
   ]
  },
  {
   "cell_type": "code",
   "execution_count": 17,
   "metadata": {},
   "outputs": [
    {
     "data": {
      "text/plain": [
       "2009"
      ]
     },
     "execution_count": 17,
     "metadata": {},
     "output_type": "execute_result"
    }
   ],
   "source": [
    "self_list = set(df_self['text'].tolist())\n",
    "len(self_list)"
   ]
  },
  {
   "cell_type": "code",
   "execution_count": 18,
   "metadata": {},
   "outputs": [
    {
     "data": {
      "text/plain": [
       "15356"
      ]
     },
     "execution_count": 18,
     "metadata": {},
     "output_type": "execute_result"
    }
   ],
   "source": [
    "add_set_to_dict(self_list, \"self\")\n",
    "len(TEXT2SOURCEDICT)"
   ]
  },
  {
   "cell_type": "code",
   "execution_count": 19,
   "metadata": {},
   "outputs": [],
   "source": [
    "# kw"
   ]
  },
  {
   "cell_type": "code",
   "execution_count": 20,
   "metadata": {},
   "outputs": [],
   "source": [
    "df2_s = pd.read_csv('./gr2_self/SELF_LABEL_export_ready_st2_multilabel_view.csv')\n",
    "df2_s = df2_s[1000:]\n",
    "df3_s = pd.read_csv('./gr2_self/SELF_LABLE_export_ready_st3_multilabel_view.csv')\n",
    "df4_s = pd.read_csv('./gr2_self/SELF_LABLE_export_ready_st4_multilabel_view.csv')\n",
    "df_kw = pd.concat([df2_s,df3_s,df4_s])\n",
    "kw_list = set(df_kw['text'].tolist())"
   ]
  },
  {
   "cell_type": "code",
   "execution_count": 21,
   "metadata": {},
   "outputs": [
    {
     "data": {
      "text/plain": [
       "51849"
      ]
     },
     "execution_count": 21,
     "metadata": {},
     "output_type": "execute_result"
    }
   ],
   "source": [
    "add_set_to_dict(kw_list, \"kw\")\n",
    "len(TEXT2SOURCEDICT)"
   ]
  },
  {
   "cell_type": "code",
   "execution_count": 22,
   "metadata": {},
   "outputs": [],
   "source": [
    "# \"kwolga\""
   ]
  },
  {
   "cell_type": "code",
   "execution_count": 23,
   "metadata": {},
   "outputs": [],
   "source": [
    "df_kwolga_list = []\n",
    "folder = './gr3_kw_olga/'\n",
    "for f in os.listdir(folder):\n",
    "    filepath = os.path.join(folder, f)\n",
    "    df_curr = pd.read_csv(filepath, header = None)\n",
    "    df_kwolga_list.append(df_curr)\n",
    "    \n",
    "df_kwolga = pd.concat(df_kwolga_list)"
   ]
  },
  {
   "cell_type": "code",
   "execution_count": 24,
   "metadata": {},
   "outputs": [],
   "source": [
    "kwolga_set = set(df_kwolga[0].tolist())"
   ]
  },
  {
   "cell_type": "code",
   "execution_count": 25,
   "metadata": {},
   "outputs": [
    {
     "data": {
      "text/plain": [
       "51887"
      ]
     },
     "execution_count": 25,
     "metadata": {},
     "output_type": "execute_result"
    }
   ],
   "source": [
    "add_set_to_dict(kwolga_set, \"kwolga\")\n",
    "len(TEXT2SOURCEDICT)"
   ]
  },
  {
   "cell_type": "code",
   "execution_count": 26,
   "metadata": {},
   "outputs": [],
   "source": [
    "# Считаем"
   ]
  },
  {
   "cell_type": "code",
   "execution_count": 27,
   "metadata": {},
   "outputs": [],
   "source": [
    "from collections import Counter"
   ]
  },
  {
   "cell_type": "code",
   "execution_count": 28,
   "metadata": {},
   "outputs": [],
   "source": [
    "df_sensitive_published = pd.read_csv(\"../sensitive_topics/sensitive_topics.csv\")"
   ]
  },
  {
   "cell_type": "code",
   "execution_count": 29,
   "metadata": {},
   "outputs": [
    {
     "data": {
      "text/plain": [
       "33303"
      ]
     },
     "execution_count": 29,
     "metadata": {},
     "output_type": "execute_result"
    }
   ],
   "source": [
    "len(df_sensitive_published)"
   ]
  },
  {
   "cell_type": "code",
   "execution_count": 30,
   "metadata": {},
   "outputs": [
    {
     "name": "stdout",
     "output_type": "stream",
     "text": [
      " 365 marked as toloka but actually not found\n"
     ]
    }
   ],
   "source": [
    "source_list = []\n",
    "not_found = 0\n",
    "for t in df_sensitive_published['text'].tolist():\n",
    "    t_proc = depersonalize(t)\n",
    "    if t in TEXT2SOURCEDICT:\n",
    "        source_list.append(TEXT2SOURCEDICT[t])\n",
    "    elif t_proc in TEXT2SOURCEDICT:\n",
    "        source_list.append(TEXT2SOURCEDICT[t_proc])\n",
    "    else:\n",
    "        not_found += 1\n",
    "        source_list.append('toloka')\n",
    "print(\" {} marked as toloka but actually not found\".format(not_found))"
   ]
  },
  {
   "cell_type": "code",
   "execution_count": 36,
   "metadata": {},
   "outputs": [
    {
     "data": {
      "text/plain": [
       "[('kw', 21656), ('toloka', 9291), ('self', 1978), ('trtest', 378)]"
      ]
     },
     "execution_count": 36,
     "metadata": {},
     "output_type": "execute_result"
    }
   ],
   "source": [
    "Counter(source_list).most_common(100)"
   ]
  },
  {
   "cell_type": "code",
   "execution_count": 37,
   "metadata": {},
   "outputs": [],
   "source": [
    "train_tes_texts_set_proc = set([depersonalize(t) for t in train_tes_texts_set])"
   ]
  },
  {
   "cell_type": "code",
   "execution_count": 38,
   "metadata": {},
   "outputs": [
    {
     "data": {
      "text/plain": [
       "Counter({False: 32925, True: 378})"
      ]
     },
     "execution_count": 38,
     "metadata": {},
     "output_type": "execute_result"
    }
   ],
   "source": [
    "Counter(df_sensitive_published['text'].isin(train_tes_texts_set_proc))"
   ]
  },
  {
   "cell_type": "code",
   "execution_count": 39,
   "metadata": {},
   "outputs": [],
   "source": [
    "df_sensitive_published['source'] = source_list"
   ]
  },
  {
   "cell_type": "code",
   "execution_count": 40,
   "metadata": {},
   "outputs": [],
   "source": [
    "df_sensitive_published.to_csv(\"sensitive_topics_vs_source.csv\", index = None)"
   ]
  },
  {
   "cell_type": "markdown",
   "metadata": {},
   "source": [
    "# Восстанавливаем после переработки"
   ]
  },
  {
   "cell_type": "code",
   "execution_count": 30,
   "metadata": {},
   "outputs": [],
   "source": [
    "df_sensitive_published = pd.read_csv(\"sensitive_topics_vs_source.csv\")"
   ]
  },
  {
   "cell_type": "code",
   "execution_count": 31,
   "metadata": {},
   "outputs": [
    {
     "data": {
      "text/plain": [
       "33303"
      ]
     },
     "execution_count": 31,
     "metadata": {},
     "output_type": "execute_result"
    }
   ],
   "source": [
    "len(df_sensitive_published)"
   ]
  },
  {
   "cell_type": "code",
   "execution_count": 32,
   "metadata": {},
   "outputs": [
    {
     "data": {
      "text/html": [
       "<div>\n",
       "<style scoped>\n",
       "    .dataframe tbody tr th:only-of-type {\n",
       "        vertical-align: middle;\n",
       "    }\n",
       "\n",
       "    .dataframe tbody tr th {\n",
       "        vertical-align: top;\n",
       "    }\n",
       "\n",
       "    .dataframe thead th {\n",
       "        text-align: right;\n",
       "    }\n",
       "</style>\n",
       "<table border=\"1\" class=\"dataframe\">\n",
       "  <thead>\n",
       "    <tr style=\"text-align: right;\">\n",
       "      <th></th>\n",
       "      <th>text</th>\n",
       "      <th>offline_crime</th>\n",
       "      <th>online_crime</th>\n",
       "      <th>drugs</th>\n",
       "      <th>gambling</th>\n",
       "      <th>pornography</th>\n",
       "      <th>prostitution</th>\n",
       "      <th>slavery</th>\n",
       "      <th>suicide</th>\n",
       "      <th>terrorism</th>\n",
       "      <th>weapons</th>\n",
       "      <th>body_shaming</th>\n",
       "      <th>health_shaming</th>\n",
       "      <th>politics</th>\n",
       "      <th>racism</th>\n",
       "      <th>religion</th>\n",
       "      <th>sexual_minorities</th>\n",
       "      <th>sexism</th>\n",
       "      <th>social_injustice</th>\n",
       "      <th>source</th>\n",
       "    </tr>\n",
       "  </thead>\n",
       "  <tbody>\n",
       "    <tr>\n",
       "      <th>0</th>\n",
       "      <td>РРРРРРЯЯЯЯЯЯЯ РУССКИЕ ВАНЬКИ НИКОМУ НЕ НУЖНЫ!!...</td>\n",
       "      <td>0.0</td>\n",
       "      <td>0.0</td>\n",
       "      <td>0.0</td>\n",
       "      <td>0.0</td>\n",
       "      <td>0.0</td>\n",
       "      <td>0.00</td>\n",
       "      <td>0.0</td>\n",
       "      <td>0.0</td>\n",
       "      <td>0.0</td>\n",
       "      <td>0.0</td>\n",
       "      <td>0.0</td>\n",
       "      <td>0.0</td>\n",
       "      <td>0.0</td>\n",
       "      <td>1.0</td>\n",
       "      <td>0.0</td>\n",
       "      <td>0.0</td>\n",
       "      <td>1.0</td>\n",
       "      <td>0.0</td>\n",
       "      <td>toloka</td>\n",
       "    </tr>\n",
       "    <tr>\n",
       "      <th>1</th>\n",
       "      <td>По моему, быдло тот кто осуждает чужие предпоч...</td>\n",
       "      <td>0.0</td>\n",
       "      <td>0.0</td>\n",
       "      <td>0.0</td>\n",
       "      <td>0.0</td>\n",
       "      <td>1.0</td>\n",
       "      <td>0.80</td>\n",
       "      <td>0.0</td>\n",
       "      <td>0.0</td>\n",
       "      <td>0.0</td>\n",
       "      <td>0.0</td>\n",
       "      <td>0.0</td>\n",
       "      <td>0.0</td>\n",
       "      <td>0.0</td>\n",
       "      <td>0.0</td>\n",
       "      <td>0.0</td>\n",
       "      <td>0.0</td>\n",
       "      <td>1.0</td>\n",
       "      <td>0.0</td>\n",
       "      <td>toloka</td>\n",
       "    </tr>\n",
       "    <tr>\n",
       "      <th>2</th>\n",
       "      <td>Бабы это вообще безхуйные сиськастые ссущие си...</td>\n",
       "      <td>0.0</td>\n",
       "      <td>0.0</td>\n",
       "      <td>0.0</td>\n",
       "      <td>0.0</td>\n",
       "      <td>0.0</td>\n",
       "      <td>0.00</td>\n",
       "      <td>0.0</td>\n",
       "      <td>0.0</td>\n",
       "      <td>0.0</td>\n",
       "      <td>0.0</td>\n",
       "      <td>0.0</td>\n",
       "      <td>0.0</td>\n",
       "      <td>0.0</td>\n",
       "      <td>0.0</td>\n",
       "      <td>0.0</td>\n",
       "      <td>0.0</td>\n",
       "      <td>1.0</td>\n",
       "      <td>0.0</td>\n",
       "      <td>trtest</td>\n",
       "    </tr>\n",
       "    <tr>\n",
       "      <th>3</th>\n",
       "      <td>изнасиловалиа говорила что девственницаЯ так д...</td>\n",
       "      <td>0.0</td>\n",
       "      <td>0.0</td>\n",
       "      <td>0.0</td>\n",
       "      <td>0.0</td>\n",
       "      <td>1.0</td>\n",
       "      <td>0.00</td>\n",
       "      <td>0.0</td>\n",
       "      <td>0.0</td>\n",
       "      <td>0.0</td>\n",
       "      <td>0.0</td>\n",
       "      <td>0.0</td>\n",
       "      <td>0.0</td>\n",
       "      <td>0.0</td>\n",
       "      <td>0.0</td>\n",
       "      <td>0.0</td>\n",
       "      <td>0.0</td>\n",
       "      <td>1.0</td>\n",
       "      <td>0.0</td>\n",
       "      <td>trtest</td>\n",
       "    </tr>\n",
       "    <tr>\n",
       "      <th>4</th>\n",
       "      <td>и что ? не сосут только уебищные тни, видосов ...</td>\n",
       "      <td>0.0</td>\n",
       "      <td>0.0</td>\n",
       "      <td>0.0</td>\n",
       "      <td>0.0</td>\n",
       "      <td>1.0</td>\n",
       "      <td>0.75</td>\n",
       "      <td>0.0</td>\n",
       "      <td>0.0</td>\n",
       "      <td>0.0</td>\n",
       "      <td>0.0</td>\n",
       "      <td>0.0</td>\n",
       "      <td>0.0</td>\n",
       "      <td>0.0</td>\n",
       "      <td>0.0</td>\n",
       "      <td>0.0</td>\n",
       "      <td>0.0</td>\n",
       "      <td>1.0</td>\n",
       "      <td>0.0</td>\n",
       "      <td>toloka</td>\n",
       "    </tr>\n",
       "  </tbody>\n",
       "</table>\n",
       "</div>"
      ],
      "text/plain": [
       "                                                text  offline_crime  \\\n",
       "0  РРРРРРЯЯЯЯЯЯЯ РУССКИЕ ВАНЬКИ НИКОМУ НЕ НУЖНЫ!!...            0.0   \n",
       "1  По моему, быдло тот кто осуждает чужие предпоч...            0.0   \n",
       "2  Бабы это вообще безхуйные сиськастые ссущие си...            0.0   \n",
       "3  изнасиловалиа говорила что девственницаЯ так д...            0.0   \n",
       "4  и что ? не сосут только уебищные тни, видосов ...            0.0   \n",
       "\n",
       "   online_crime  drugs  gambling  pornography  prostitution  slavery  suicide  \\\n",
       "0           0.0    0.0       0.0          0.0          0.00      0.0      0.0   \n",
       "1           0.0    0.0       0.0          1.0          0.80      0.0      0.0   \n",
       "2           0.0    0.0       0.0          0.0          0.00      0.0      0.0   \n",
       "3           0.0    0.0       0.0          1.0          0.00      0.0      0.0   \n",
       "4           0.0    0.0       0.0          1.0          0.75      0.0      0.0   \n",
       "\n",
       "   terrorism  weapons  body_shaming  health_shaming  politics  racism  \\\n",
       "0        0.0      0.0           0.0             0.0       0.0     1.0   \n",
       "1        0.0      0.0           0.0             0.0       0.0     0.0   \n",
       "2        0.0      0.0           0.0             0.0       0.0     0.0   \n",
       "3        0.0      0.0           0.0             0.0       0.0     0.0   \n",
       "4        0.0      0.0           0.0             0.0       0.0     0.0   \n",
       "\n",
       "   religion  sexual_minorities  sexism  social_injustice  source  \n",
       "0       0.0                0.0     1.0               0.0  toloka  \n",
       "1       0.0                0.0     1.0               0.0  toloka  \n",
       "2       0.0                0.0     1.0               0.0  trtest  \n",
       "3       0.0                0.0     1.0               0.0  trtest  \n",
       "4       0.0                0.0     1.0               0.0  toloka  "
      ]
     },
     "execution_count": 32,
     "metadata": {},
     "output_type": "execute_result"
    }
   ],
   "source": [
    "df_sensitive_published.head()"
   ]
  },
  {
   "cell_type": "markdown",
   "metadata": {},
   "source": [
    "# Присоединяем переразмеченную толоку"
   ]
  },
  {
   "cell_type": "code",
   "execution_count": 33,
   "metadata": {},
   "outputs": [],
   "source": [
    "import pandas as pd"
   ]
  },
  {
   "cell_type": "code",
   "execution_count": 34,
   "metadata": {},
   "outputs": [],
   "source": [
    "df_toloka_relabeled = pd.read_csv(\"TOLOKA_low_conf_for_manual_relabeling_ready.csv\")"
   ]
  },
  {
   "cell_type": "code",
   "execution_count": 16,
   "metadata": {},
   "outputs": [
    {
     "data": {
      "text/plain": [
       "1788"
      ]
     },
     "execution_count": 16,
     "metadata": {},
     "output_type": "execute_result"
    }
   ],
   "source": [
    "len(df_toloka_relabeled)"
   ]
  },
  {
   "cell_type": "code",
   "execution_count": 35,
   "metadata": {},
   "outputs": [],
   "source": [
    "df_toloka_relabeled_really_lbl = df_toloka_relabeled[~df_toloka_relabeled['vote1'].isna()]\n",
    "# df_toloka_relabeled_no_really = df_toloka_relabeled[df_toloka_relabeled['vote1'].isna()]"
   ]
  },
  {
   "cell_type": "code",
   "execution_count": 36,
   "metadata": {},
   "outputs": [],
   "source": [
    "df_sensitive_published_witout_dropped_toloka = df_sensitive_published[~df_sensitive_published['text'].isin(df_toloka_relabeled_really_lbl['text'])]"
   ]
  },
  {
   "cell_type": "markdown",
   "metadata": {},
   "source": [
    "### Обрабатываем реально переразмеченную часть"
   ]
  },
  {
   "cell_type": "code",
   "execution_count": 37,
   "metadata": {},
   "outputs": [],
   "source": [
    "df_toloka_relabeled_really_lbl = df_toloka_relabeled_really_lbl[['text','vote1','vote2','vote3']]"
   ]
  },
  {
   "cell_type": "code",
   "execution_count": 40,
   "metadata": {
    "scrolled": true
   },
   "outputs": [
    {
     "data": {
      "text/plain": [
       "18"
      ]
     },
     "execution_count": 40,
     "metadata": {},
     "output_type": "execute_result"
    }
   ],
   "source": [
    "topics = list(df_sensitive_published.columns[1:-1])\n",
    "len(topics)"
   ]
  },
  {
   "cell_type": "code",
   "execution_count": 41,
   "metadata": {},
   "outputs": [],
   "source": [
    "collected_data = []\n",
    "for i, el in df_toloka_relabeled_really_lbl.iterrows():\n",
    "    assert type(el['vote1']) == str\n",
    "    current_data = [el['text']]\n",
    "    topics_list = [0] * len(topics)\n",
    "    for vote in ['vote1','vote2','vote3']:\n",
    "        if type(el[vote]) == str:\n",
    "            voted_topic = el[vote]\n",
    "            if voted_topic == 'none':\n",
    "                break\n",
    "            index_in_list = topics.index(voted_topic)\n",
    "            topics_list[index_in_list] = 1\n",
    "    current_data = current_data + topics_list + ['toloka_real_manual_relabel']\n",
    "    collected_data.append(current_data)\n",
    "    \n",
    "df_toloka_relabeled_really_lbl_multiview = pd.DataFrame(data = collected_data, columns = df_sensitive_published.columns)"
   ]
  },
  {
   "cell_type": "code",
   "execution_count": 42,
   "metadata": {
    "scrolled": false
   },
   "outputs": [
    {
     "data": {
      "text/html": [
       "<div>\n",
       "<style scoped>\n",
       "    .dataframe tbody tr th:only-of-type {\n",
       "        vertical-align: middle;\n",
       "    }\n",
       "\n",
       "    .dataframe tbody tr th {\n",
       "        vertical-align: top;\n",
       "    }\n",
       "\n",
       "    .dataframe thead th {\n",
       "        text-align: right;\n",
       "    }\n",
       "</style>\n",
       "<table border=\"1\" class=\"dataframe\">\n",
       "  <thead>\n",
       "    <tr style=\"text-align: right;\">\n",
       "      <th></th>\n",
       "      <th>text</th>\n",
       "      <th>offline_crime</th>\n",
       "      <th>online_crime</th>\n",
       "      <th>drugs</th>\n",
       "      <th>gambling</th>\n",
       "      <th>pornography</th>\n",
       "      <th>prostitution</th>\n",
       "      <th>slavery</th>\n",
       "      <th>suicide</th>\n",
       "      <th>terrorism</th>\n",
       "      <th>weapons</th>\n",
       "      <th>body_shaming</th>\n",
       "      <th>health_shaming</th>\n",
       "      <th>politics</th>\n",
       "      <th>racism</th>\n",
       "      <th>religion</th>\n",
       "      <th>sexual_minorities</th>\n",
       "      <th>sexism</th>\n",
       "      <th>social_injustice</th>\n",
       "      <th>source</th>\n",
       "    </tr>\n",
       "  </thead>\n",
       "  <tbody>\n",
       "    <tr>\n",
       "      <th>398</th>\n",
       "      <td>Удваиваю этого поехавшего. Нет места лучше, че...</td>\n",
       "      <td>0</td>\n",
       "      <td>0</td>\n",
       "      <td>1</td>\n",
       "      <td>0</td>\n",
       "      <td>0</td>\n",
       "      <td>0</td>\n",
       "      <td>0</td>\n",
       "      <td>0</td>\n",
       "      <td>0</td>\n",
       "      <td>0</td>\n",
       "      <td>0</td>\n",
       "      <td>0</td>\n",
       "      <td>0</td>\n",
       "      <td>0</td>\n",
       "      <td>0</td>\n",
       "      <td>0</td>\n",
       "      <td>0</td>\n",
       "      <td>0</td>\n",
       "      <td>toloka_real_manual_relabel</td>\n",
       "    </tr>\n",
       "    <tr>\n",
       "      <th>242</th>\n",
       "      <td>Рссылкой,считаю,придёться замарачиваться тпк ч...</td>\n",
       "      <td>0</td>\n",
       "      <td>0</td>\n",
       "      <td>0</td>\n",
       "      <td>0</td>\n",
       "      <td>0</td>\n",
       "      <td>0</td>\n",
       "      <td>0</td>\n",
       "      <td>0</td>\n",
       "      <td>0</td>\n",
       "      <td>0</td>\n",
       "      <td>0</td>\n",
       "      <td>0</td>\n",
       "      <td>0</td>\n",
       "      <td>0</td>\n",
       "      <td>0</td>\n",
       "      <td>0</td>\n",
       "      <td>0</td>\n",
       "      <td>0</td>\n",
       "      <td>toloka_real_manual_relabel</td>\n",
       "    </tr>\n",
       "    <tr>\n",
       "      <th>305</th>\n",
       "      <td>АХУЕТЬ! да в Лесото просто жируют! ещё и гандж...</td>\n",
       "      <td>0</td>\n",
       "      <td>0</td>\n",
       "      <td>1</td>\n",
       "      <td>0</td>\n",
       "      <td>0</td>\n",
       "      <td>0</td>\n",
       "      <td>0</td>\n",
       "      <td>0</td>\n",
       "      <td>0</td>\n",
       "      <td>0</td>\n",
       "      <td>0</td>\n",
       "      <td>0</td>\n",
       "      <td>0</td>\n",
       "      <td>0</td>\n",
       "      <td>0</td>\n",
       "      <td>0</td>\n",
       "      <td>0</td>\n",
       "      <td>0</td>\n",
       "      <td>toloka_real_manual_relabel</td>\n",
       "    </tr>\n",
       "    <tr>\n",
       "      <th>152</th>\n",
       "      <td>Хочу купитькартыдолларовой или рублевой?В  не ...</td>\n",
       "      <td>0</td>\n",
       "      <td>0</td>\n",
       "      <td>0</td>\n",
       "      <td>0</td>\n",
       "      <td>0</td>\n",
       "      <td>0</td>\n",
       "      <td>0</td>\n",
       "      <td>0</td>\n",
       "      <td>0</td>\n",
       "      <td>0</td>\n",
       "      <td>0</td>\n",
       "      <td>0</td>\n",
       "      <td>0</td>\n",
       "      <td>0</td>\n",
       "      <td>0</td>\n",
       "      <td>0</td>\n",
       "      <td>0</td>\n",
       "      <td>0</td>\n",
       "      <td>toloka_real_manual_relabel</td>\n",
       "    </tr>\n",
       "    <tr>\n",
       "      <th>168</th>\n",
       "      <td>Иди дрочи на губастых тощих шлюх, пидор.</td>\n",
       "      <td>0</td>\n",
       "      <td>0</td>\n",
       "      <td>0</td>\n",
       "      <td>0</td>\n",
       "      <td>1</td>\n",
       "      <td>0</td>\n",
       "      <td>0</td>\n",
       "      <td>0</td>\n",
       "      <td>0</td>\n",
       "      <td>0</td>\n",
       "      <td>1</td>\n",
       "      <td>0</td>\n",
       "      <td>0</td>\n",
       "      <td>0</td>\n",
       "      <td>0</td>\n",
       "      <td>0</td>\n",
       "      <td>0</td>\n",
       "      <td>0</td>\n",
       "      <td>toloka_real_manual_relabel</td>\n",
       "    </tr>\n",
       "  </tbody>\n",
       "</table>\n",
       "</div>"
      ],
      "text/plain": [
       "                                                  text  offline_crime  \\\n",
       "398  Удваиваю этого поехавшего. Нет места лучше, че...              0   \n",
       "242  Рссылкой,считаю,придёться замарачиваться тпк ч...              0   \n",
       "305  АХУЕТЬ! да в Лесото просто жируют! ещё и гандж...              0   \n",
       "152  Хочу купитькартыдолларовой или рублевой?В  не ...              0   \n",
       "168           Иди дрочи на губастых тощих шлюх, пидор.              0   \n",
       "\n",
       "     online_crime  drugs  gambling  pornography  prostitution  slavery  \\\n",
       "398             0      1         0            0             0        0   \n",
       "242             0      0         0            0             0        0   \n",
       "305             0      1         0            0             0        0   \n",
       "152             0      0         0            0             0        0   \n",
       "168             0      0         0            1             0        0   \n",
       "\n",
       "     suicide  terrorism  weapons  body_shaming  health_shaming  politics  \\\n",
       "398        0          0        0             0               0         0   \n",
       "242        0          0        0             0               0         0   \n",
       "305        0          0        0             0               0         0   \n",
       "152        0          0        0             0               0         0   \n",
       "168        0          0        0             1               0         0   \n",
       "\n",
       "     racism  religion  sexual_minorities  sexism  social_injustice  \\\n",
       "398       0         0                  0       0                 0   \n",
       "242       0         0                  0       0                 0   \n",
       "305       0         0                  0       0                 0   \n",
       "152       0         0                  0       0                 0   \n",
       "168       0         0                  0       0                 0   \n",
       "\n",
       "                         source  \n",
       "398  toloka_real_manual_relabel  \n",
       "242  toloka_real_manual_relabel  \n",
       "305  toloka_real_manual_relabel  \n",
       "152  toloka_real_manual_relabel  \n",
       "168  toloka_real_manual_relabel  "
      ]
     },
     "execution_count": 42,
     "metadata": {},
     "output_type": "execute_result"
    }
   ],
   "source": [
    "df_toloka_relabeled_really_lbl_multiview.sample(5)"
   ]
  },
  {
   "cell_type": "markdown",
   "metadata": {},
   "source": [
    "### ту толоку которую не переразмечаем - НЕ ТРОГАЕМ "
   ]
  },
  {
   "cell_type": "code",
   "execution_count": 43,
   "metadata": {},
   "outputs": [],
   "source": [
    "refactored_sensitive_df = pd.concat([df_sensitive_published_witout_dropped_toloka,\n",
    "                                    df_toloka_relabeled_really_lbl_multiview,\n",
    "                                    ])\n",
    "refactored_sensitive_df.drop_duplicates(subset = ['text'],inplace = True)"
   ]
  },
  {
   "cell_type": "code",
   "execution_count": 85,
   "metadata": {},
   "outputs": [],
   "source": [
    "# Sanity check"
   ]
  },
  {
   "cell_type": "code",
   "execution_count": 44,
   "metadata": {},
   "outputs": [
    {
     "data": {
      "text/plain": [
       "33303"
      ]
     },
     "execution_count": 44,
     "metadata": {},
     "output_type": "execute_result"
    }
   ],
   "source": [
    "len(df_sensitive_published)"
   ]
  },
  {
   "cell_type": "code",
   "execution_count": 45,
   "metadata": {},
   "outputs": [
    {
     "data": {
      "text/plain": [
       "33304"
      ]
     },
     "execution_count": 45,
     "metadata": {},
     "output_type": "execute_result"
    }
   ],
   "source": [
    "len(refactored_sensitive_df)"
   ]
  },
  {
   "cell_type": "code",
   "execution_count": 46,
   "metadata": {},
   "outputs": [],
   "source": [
    "original_set = set(df_sensitive_published['text'])\n",
    "refubrished_set = set(refactored_sensitive_df['text'])"
   ]
  },
  {
   "cell_type": "code",
   "execution_count": 47,
   "metadata": {},
   "outputs": [
    {
     "data": {
      "text/plain": [
       "33303"
      ]
     },
     "execution_count": 47,
     "metadata": {},
     "output_type": "execute_result"
    }
   ],
   "source": [
    "len(original_set & refubrished_set)"
   ]
  },
  {
   "cell_type": "markdown",
   "metadata": {},
   "source": [
    "# Добавляем семплы из специфических источников но без ключевых слов (все размечены реально руками)"
   ]
  },
  {
   "cell_type": "code",
   "execution_count": 48,
   "metadata": {},
   "outputs": [],
   "source": [
    "df_no_kw = pd.read_csv(\"no_keyword_spec_forums_for_self_label_ready.csv\")"
   ]
  },
  {
   "cell_type": "code",
   "execution_count": 49,
   "metadata": {},
   "outputs": [],
   "source": [
    "df_no_kw.drop(columns = ['topic'], inplace = True)"
   ]
  },
  {
   "cell_type": "code",
   "execution_count": 50,
   "metadata": {
    "scrolled": true
   },
   "outputs": [
    {
     "data": {
      "text/html": [
       "<div>\n",
       "<style scoped>\n",
       "    .dataframe tbody tr th:only-of-type {\n",
       "        vertical-align: middle;\n",
       "    }\n",
       "\n",
       "    .dataframe tbody tr th {\n",
       "        vertical-align: top;\n",
       "    }\n",
       "\n",
       "    .dataframe thead th {\n",
       "        text-align: right;\n",
       "    }\n",
       "</style>\n",
       "<table border=\"1\" class=\"dataframe\">\n",
       "  <thead>\n",
       "    <tr style=\"text-align: right;\">\n",
       "      <th></th>\n",
       "      <th>processed</th>\n",
       "      <th>vote1</th>\n",
       "      <th>vote2</th>\n",
       "    </tr>\n",
       "  </thead>\n",
       "  <tbody>\n",
       "    <tr>\n",
       "      <th>0</th>\n",
       "      <td>Удлинители бывают различных видов: металличес...</td>\n",
       "      <td>none</td>\n",
       "      <td>NaN</td>\n",
       "    </tr>\n",
       "    <tr>\n",
       "      <th>1</th>\n",
       "      <td>1 степень - способность к общению со снижением...</td>\n",
       "      <td>none</td>\n",
       "      <td>NaN</td>\n",
       "    </tr>\n",
       "    <tr>\n",
       "      <th>2</th>\n",
       "      <td>Просто получается что любви то у тебя и нет и...</td>\n",
       "      <td>none</td>\n",
       "      <td>NaN</td>\n",
       "    </tr>\n",
       "    <tr>\n",
       "      <th>3</th>\n",
       "      <td>Ну если ты за  жрал гавно и кормил комаров то ...</td>\n",
       "      <td>social_injustice</td>\n",
       "      <td>NaN</td>\n",
       "    </tr>\n",
       "    <tr>\n",
       "      <th>4</th>\n",
       "      <td>... или я уже ничего не понимаю.</td>\n",
       "      <td>none</td>\n",
       "      <td>NaN</td>\n",
       "    </tr>\n",
       "  </tbody>\n",
       "</table>\n",
       "</div>"
      ],
      "text/plain": [
       "                                           processed             vote1 vote2\n",
       "0   Удлинители бывают различных видов: металличес...              none   NaN\n",
       "1  1 степень - способность к общению со снижением...              none   NaN\n",
       "2   Просто получается что любви то у тебя и нет и...              none   NaN\n",
       "3  Ну если ты за  жрал гавно и кормил комаров то ...  social_injustice   NaN\n",
       "4                   ... или я уже ничего не понимаю.              none   NaN"
      ]
     },
     "execution_count": 50,
     "metadata": {},
     "output_type": "execute_result"
    }
   ],
   "source": [
    "df_no_kw.head()"
   ]
  },
  {
   "cell_type": "code",
   "execution_count": 51,
   "metadata": {},
   "outputs": [],
   "source": [
    "collected_data = []\n",
    "for i, el in df_no_kw.iterrows():\n",
    "    assert type(el['vote1']) == str\n",
    "    current_data = [el['processed']]\n",
    "    topics_list = [0] * len(topics)\n",
    "    for vote in ['vote1','vote2']:\n",
    "        if type(el[vote]) == str:\n",
    "            voted_topic = el[vote]\n",
    "            if voted_topic == 'none':\n",
    "                break\n",
    "            index_in_list = topics.index(voted_topic)\n",
    "            topics_list[index_in_list] = 1\n",
    "    current_data = current_data + topics_list + ['no_kw_manual_relabel']\n",
    "    collected_data.append(current_data)\n",
    "    \n",
    "df_no_kw_multiview = pd.DataFrame(data = collected_data, columns = df_sensitive_published.columns)"
   ]
  },
  {
   "cell_type": "code",
   "execution_count": 52,
   "metadata": {},
   "outputs": [
    {
     "data": {
      "text/html": [
       "<div>\n",
       "<style scoped>\n",
       "    .dataframe tbody tr th:only-of-type {\n",
       "        vertical-align: middle;\n",
       "    }\n",
       "\n",
       "    .dataframe tbody tr th {\n",
       "        vertical-align: top;\n",
       "    }\n",
       "\n",
       "    .dataframe thead th {\n",
       "        text-align: right;\n",
       "    }\n",
       "</style>\n",
       "<table border=\"1\" class=\"dataframe\">\n",
       "  <thead>\n",
       "    <tr style=\"text-align: right;\">\n",
       "      <th></th>\n",
       "      <th>text</th>\n",
       "      <th>offline_crime</th>\n",
       "      <th>online_crime</th>\n",
       "      <th>drugs</th>\n",
       "      <th>gambling</th>\n",
       "      <th>pornography</th>\n",
       "      <th>prostitution</th>\n",
       "      <th>slavery</th>\n",
       "      <th>suicide</th>\n",
       "      <th>terrorism</th>\n",
       "      <th>weapons</th>\n",
       "      <th>body_shaming</th>\n",
       "      <th>health_shaming</th>\n",
       "      <th>politics</th>\n",
       "      <th>racism</th>\n",
       "      <th>religion</th>\n",
       "      <th>sexual_minorities</th>\n",
       "      <th>sexism</th>\n",
       "      <th>social_injustice</th>\n",
       "      <th>source</th>\n",
       "    </tr>\n",
       "  </thead>\n",
       "  <tbody>\n",
       "    <tr>\n",
       "      <th>416</th>\n",
       "      <td>Мракобесие рождается от непонимания тех или ин...</td>\n",
       "      <td>0</td>\n",
       "      <td>0</td>\n",
       "      <td>0</td>\n",
       "      <td>0</td>\n",
       "      <td>0</td>\n",
       "      <td>0</td>\n",
       "      <td>0</td>\n",
       "      <td>0</td>\n",
       "      <td>0</td>\n",
       "      <td>0</td>\n",
       "      <td>0</td>\n",
       "      <td>0</td>\n",
       "      <td>0</td>\n",
       "      <td>0</td>\n",
       "      <td>1</td>\n",
       "      <td>0</td>\n",
       "      <td>0</td>\n",
       "      <td>0</td>\n",
       "      <td>no_kw_manual_relabel</td>\n",
       "    </tr>\n",
       "    <tr>\n",
       "      <th>584</th>\n",
       "      <td>— Ну да, пока купит, пока подключит — будешь н...</td>\n",
       "      <td>0</td>\n",
       "      <td>0</td>\n",
       "      <td>0</td>\n",
       "      <td>0</td>\n",
       "      <td>0</td>\n",
       "      <td>0</td>\n",
       "      <td>0</td>\n",
       "      <td>0</td>\n",
       "      <td>0</td>\n",
       "      <td>0</td>\n",
       "      <td>0</td>\n",
       "      <td>0</td>\n",
       "      <td>0</td>\n",
       "      <td>0</td>\n",
       "      <td>0</td>\n",
       "      <td>0</td>\n",
       "      <td>0</td>\n",
       "      <td>0</td>\n",
       "      <td>no_kw_manual_relabel</td>\n",
       "    </tr>\n",
       "    <tr>\n",
       "      <th>109</th>\n",
       "      <td>Этот вопрос вы можете задать скоро, кажется ...</td>\n",
       "      <td>0</td>\n",
       "      <td>0</td>\n",
       "      <td>0</td>\n",
       "      <td>0</td>\n",
       "      <td>0</td>\n",
       "      <td>0</td>\n",
       "      <td>0</td>\n",
       "      <td>0</td>\n",
       "      <td>0</td>\n",
       "      <td>0</td>\n",
       "      <td>0</td>\n",
       "      <td>0</td>\n",
       "      <td>0</td>\n",
       "      <td>0</td>\n",
       "      <td>0</td>\n",
       "      <td>0</td>\n",
       "      <td>0</td>\n",
       "      <td>0</td>\n",
       "      <td>no_kw_manual_relabel</td>\n",
       "    </tr>\n",
       "  </tbody>\n",
       "</table>\n",
       "</div>"
      ],
      "text/plain": [
       "                                                  text  offline_crime  \\\n",
       "416  Мракобесие рождается от непонимания тех или ин...              0   \n",
       "584  — Ну да, пока купит, пока подключит — будешь н...              0   \n",
       "109    Этот вопрос вы можете задать скоро, кажется ...              0   \n",
       "\n",
       "     online_crime  drugs  gambling  pornography  prostitution  slavery  \\\n",
       "416             0      0         0            0             0        0   \n",
       "584             0      0         0            0             0        0   \n",
       "109             0      0         0            0             0        0   \n",
       "\n",
       "     suicide  terrorism  weapons  body_shaming  health_shaming  politics  \\\n",
       "416        0          0        0             0               0         0   \n",
       "584        0          0        0             0               0         0   \n",
       "109        0          0        0             0               0         0   \n",
       "\n",
       "     racism  religion  sexual_minorities  sexism  social_injustice  \\\n",
       "416       0         1                  0       0                 0   \n",
       "584       0         0                  0       0                 0   \n",
       "109       0         0                  0       0                 0   \n",
       "\n",
       "                   source  \n",
       "416  no_kw_manual_relabel  \n",
       "584  no_kw_manual_relabel  \n",
       "109  no_kw_manual_relabel  "
      ]
     },
     "execution_count": 52,
     "metadata": {},
     "output_type": "execute_result"
    }
   ],
   "source": [
    "df_no_kw_multiview.sample(3)"
   ]
  },
  {
   "cell_type": "code",
   "execution_count": 55,
   "metadata": {},
   "outputs": [],
   "source": [
    "df_no_kw_multiview['text'] = df_no_kw_multiview['text'].apply(depersonalize)"
   ]
  },
  {
   "cell_type": "code",
   "execution_count": 56,
   "metadata": {},
   "outputs": [
    {
     "data": {
      "text/html": [
       "<div>\n",
       "<style scoped>\n",
       "    .dataframe tbody tr th:only-of-type {\n",
       "        vertical-align: middle;\n",
       "    }\n",
       "\n",
       "    .dataframe tbody tr th {\n",
       "        vertical-align: top;\n",
       "    }\n",
       "\n",
       "    .dataframe thead th {\n",
       "        text-align: right;\n",
       "    }\n",
       "</style>\n",
       "<table border=\"1\" class=\"dataframe\">\n",
       "  <thead>\n",
       "    <tr style=\"text-align: right;\">\n",
       "      <th></th>\n",
       "      <th>text</th>\n",
       "      <th>offline_crime</th>\n",
       "      <th>online_crime</th>\n",
       "      <th>drugs</th>\n",
       "      <th>gambling</th>\n",
       "      <th>pornography</th>\n",
       "      <th>prostitution</th>\n",
       "      <th>slavery</th>\n",
       "      <th>suicide</th>\n",
       "      <th>terrorism</th>\n",
       "      <th>weapons</th>\n",
       "      <th>body_shaming</th>\n",
       "      <th>health_shaming</th>\n",
       "      <th>politics</th>\n",
       "      <th>racism</th>\n",
       "      <th>religion</th>\n",
       "      <th>sexual_minorities</th>\n",
       "      <th>sexism</th>\n",
       "      <th>social_injustice</th>\n",
       "      <th>source</th>\n",
       "    </tr>\n",
       "  </thead>\n",
       "  <tbody>\n",
       "    <tr>\n",
       "      <th>414</th>\n",
       "      <td>Разве можно требоватьневозможное?\" это говорит...</td>\n",
       "      <td>0</td>\n",
       "      <td>0</td>\n",
       "      <td>0</td>\n",
       "      <td>0</td>\n",
       "      <td>0</td>\n",
       "      <td>0</td>\n",
       "      <td>0</td>\n",
       "      <td>0</td>\n",
       "      <td>0</td>\n",
       "      <td>0</td>\n",
       "      <td>0</td>\n",
       "      <td>0</td>\n",
       "      <td>0</td>\n",
       "      <td>0</td>\n",
       "      <td>0</td>\n",
       "      <td>0</td>\n",
       "      <td>0</td>\n",
       "      <td>0</td>\n",
       "      <td>no_kw_manual_relabel</td>\n",
       "    </tr>\n",
       "    <tr>\n",
       "      <th>500</th>\n",
       "      <td>, с Днём рождения! Здоровья и счастья</td>\n",
       "      <td>0</td>\n",
       "      <td>0</td>\n",
       "      <td>0</td>\n",
       "      <td>0</td>\n",
       "      <td>0</td>\n",
       "      <td>0</td>\n",
       "      <td>0</td>\n",
       "      <td>0</td>\n",
       "      <td>0</td>\n",
       "      <td>0</td>\n",
       "      <td>0</td>\n",
       "      <td>0</td>\n",
       "      <td>0</td>\n",
       "      <td>0</td>\n",
       "      <td>0</td>\n",
       "      <td>0</td>\n",
       "      <td>0</td>\n",
       "      <td>0</td>\n",
       "      <td>no_kw_manual_relabel</td>\n",
       "    </tr>\n",
       "    <tr>\n",
       "      <th>379</th>\n",
       "      <td>Человек-это заключительный этап эволюции...от ...</td>\n",
       "      <td>0</td>\n",
       "      <td>0</td>\n",
       "      <td>0</td>\n",
       "      <td>0</td>\n",
       "      <td>0</td>\n",
       "      <td>0</td>\n",
       "      <td>0</td>\n",
       "      <td>0</td>\n",
       "      <td>0</td>\n",
       "      <td>0</td>\n",
       "      <td>0</td>\n",
       "      <td>0</td>\n",
       "      <td>0</td>\n",
       "      <td>0</td>\n",
       "      <td>0</td>\n",
       "      <td>0</td>\n",
       "      <td>0</td>\n",
       "      <td>0</td>\n",
       "      <td>no_kw_manual_relabel</td>\n",
       "    </tr>\n",
       "  </tbody>\n",
       "</table>\n",
       "</div>"
      ],
      "text/plain": [
       "                                                  text  offline_crime  \\\n",
       "414  Разве можно требоватьневозможное?\" это говорит...              0   \n",
       "500              , с Днём рождения! Здоровья и счастья              0   \n",
       "379  Человек-это заключительный этап эволюции...от ...              0   \n",
       "\n",
       "     online_crime  drugs  gambling  pornography  prostitution  slavery  \\\n",
       "414             0      0         0            0             0        0   \n",
       "500             0      0         0            0             0        0   \n",
       "379             0      0         0            0             0        0   \n",
       "\n",
       "     suicide  terrorism  weapons  body_shaming  health_shaming  politics  \\\n",
       "414        0          0        0             0               0         0   \n",
       "500        0          0        0             0               0         0   \n",
       "379        0          0        0             0               0         0   \n",
       "\n",
       "     racism  religion  sexual_minorities  sexism  social_injustice  \\\n",
       "414       0         0                  0       0                 0   \n",
       "500       0         0                  0       0                 0   \n",
       "379       0         0                  0       0                 0   \n",
       "\n",
       "                   source  \n",
       "414  no_kw_manual_relabel  \n",
       "500  no_kw_manual_relabel  \n",
       "379  no_kw_manual_relabel  "
      ]
     },
     "execution_count": 56,
     "metadata": {},
     "output_type": "execute_result"
    }
   ],
   "source": [
    "df_no_kw_multiview.sample(3)"
   ]
  },
  {
   "cell_type": "code",
   "execution_count": 57,
   "metadata": {},
   "outputs": [
    {
     "data": {
      "text/plain": [
       "33304"
      ]
     },
     "execution_count": 57,
     "metadata": {},
     "output_type": "execute_result"
    }
   ],
   "source": [
    "len(refactored_sensitive_df)"
   ]
  },
  {
   "cell_type": "code",
   "execution_count": 58,
   "metadata": {},
   "outputs": [],
   "source": [
    "df_sensitive_new = pd.concat([refactored_sensitive_df, df_no_kw_multiview])"
   ]
  },
  {
   "cell_type": "code",
   "execution_count": 59,
   "metadata": {},
   "outputs": [
    {
     "data": {
      "text/plain": [
       "33904"
      ]
     },
     "execution_count": 59,
     "metadata": {},
     "output_type": "execute_result"
    }
   ],
   "source": [
    "len(df_sensitive_new)"
   ]
  },
  {
   "cell_type": "code",
   "execution_count": 61,
   "metadata": {},
   "outputs": [
    {
     "data": {
      "text/plain": [
       "[('kw', 21656),\n",
       " ('toloka', 8766),\n",
       " ('self', 1978),\n",
       " ('no_kw_manual_relabel', 600),\n",
       " ('toloka_real_manual_relabel', 526),\n",
       " ('trtest', 378)]"
      ]
     },
     "execution_count": 61,
     "metadata": {},
     "output_type": "execute_result"
    }
   ],
   "source": [
    "from collections import Counter\n",
    "Counter(df_sensitive_new['source']).most_common(10)"
   ]
  },
  {
   "cell_type": "code",
   "execution_count": 62,
   "metadata": {},
   "outputs": [],
   "source": [
    "df_sensitive_new.to_csv(\"sensitive_topics_vers3.csv\",index = None)"
   ]
  },
  {
   "cell_type": "code",
   "execution_count": null,
   "metadata": {},
   "outputs": [],
   "source": []
  }
 ],
 "metadata": {
  "kernelspec": {
   "display_name": "Python 3",
   "language": "python",
   "name": "python3"
  },
  "language_info": {
   "codemirror_mode": {
    "name": "ipython",
    "version": 3
   },
   "file_extension": ".py",
   "mimetype": "text/x-python",
   "name": "python",
   "nbconvert_exporter": "python",
   "pygments_lexer": "ipython3",
   "version": "3.8.10"
  }
 },
 "nbformat": 4,
 "nbformat_minor": 4
}
