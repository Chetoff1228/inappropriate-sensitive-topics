{
 "cells": [
  {
   "cell_type": "code",
   "execution_count": 1,
   "metadata": {},
   "outputs": [],
   "source": [
    "import pandas as pd"
   ]
  },
  {
   "cell_type": "code",
   "execution_count": 2,
   "metadata": {},
   "outputs": [],
   "source": [
    "def get_aggr_batch_with_filtering():\n",
    "    raw_files = ['g1r.tsv','g2r.tsv','g3r.tsv', 'g1_4r.tsv','g2_4r.tsv','g3_4r.tsv', 'maybe_old/g1r.tsv','maybe_old/g2r.tsv']\n",
    "    \n",
    "    workers_ids = []\n",
    "    \n",
    "    for i, file in enumerate(raw_files):\n",
    "        batch_path = \"./directly_from_toloka/\"+file\n",
    "        df_curr_common= pd.read_csv(batch_path, sep = '\\t')\n",
    "        \n",
    "        columns_to_merge = [c for c in df_curr_common.columns if c == 'INPUT:text' or 'OUTPUT' in c  or c =='ASSIGNMENT:worker_id']\n",
    "        df_curr_common = df_curr_common[columns_to_merge]\n",
    "        \n",
    "        workers_ids.extend(df_curr_common['ASSIGNMENT:worker_id'].tolist())\n",
    "    return set(workers_ids)"
   ]
  },
  {
   "cell_type": "code",
   "execution_count": 3,
   "metadata": {},
   "outputs": [],
   "source": [
    "wids = get_aggr_batch_with_filtering()"
   ]
  },
  {
   "cell_type": "code",
   "execution_count": 4,
   "metadata": {},
   "outputs": [
    {
     "data": {
      "text/plain": [
       "926"
      ]
     },
     "execution_count": 4,
     "metadata": {},
     "output_type": "execute_result"
    }
   ],
   "source": [
    "len(wids)"
   ]
  }
 ],
 "metadata": {
  "kernelspec": {
   "display_name": "Python 3",
   "language": "python",
   "name": "python3"
  },
  "language_info": {
   "codemirror_mode": {
    "name": "ipython",
    "version": 3
   },
   "file_extension": ".py",
   "mimetype": "text/x-python",
   "name": "python",
   "nbconvert_exporter": "python",
   "pygments_lexer": "ipython3",
   "version": "3.8.10"
  }
 },
 "nbformat": 4,
 "nbformat_minor": 4
}
