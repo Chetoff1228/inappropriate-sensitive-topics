{
 "cells": [
  {
   "cell_type": "code",
   "execution_count": 1,
   "metadata": {},
   "outputs": [],
   "source": [
    "import os\n",
    "import pandas as pd\n",
    "import numpy as np\n",
    "import matplotlib.pyplot as plt "
   ]
  },
  {
   "cell_type": "code",
   "execution_count": 2,
   "metadata": {},
   "outputs": [],
   "source": [
    "from nltk.metrics import masi_distance\n",
    "from collections import Counter\n",
    "from nltk.metrics import agreement\n",
    "from nltk.metrics.agreement import AnnotationTask"
   ]
  },
  {
   "cell_type": "code",
   "execution_count": 3,
   "metadata": {},
   "outputs": [],
   "source": [
    "import re\n",
    "\n",
    "def depersonalize(text):\n",
    "    text = str(text)\n",
    "    url_regex = r\"(?i)\\b((?:https?://|www\\d{0,3}[.]|[a-z0-9.\\-]+[.][a-z]{2,4}/)(?:[^\\s()<>]+|\\(([^\\s()<>]+|(\\([^\\s()<>]+\\)))*\\))+(?:\\(([^\\s()<>]+|(\\([^\\s()<>]+\\)))*\\)|[^\\s`!()\\[\\]{};:'\\\".,<>?«»“”‘’]))\"\n",
    "    text= re.sub(url_regex, \"url\", text)\n",
    "    text = re.sub(\"id[\\d]*\",'',text)\n",
    "    text = re.sub(\"> ?\",'',text)\n",
    "    text = re.sub(\"@[\\w]*\",'',text)\n",
    "#     text = re.sub(\"\\+[\\d]*\", \"\", text)\n",
    "    text = re.sub(\"[\\d]+\", \"NUMBER\", text)\n",
    "    text = re.sub(\">>\", \"\", text)\n",
    "#     text = re.sub(\"[\\d]{3,100}\", \"\", text)\n",
    "    text = re.sub(\"[\\t|\\n|\\r]\", \"\", text)\n",
    "    text = re.sub(\"[(OP)|url|nickname|phone_number]\", \"\", text)\n",
    "    return text"
   ]
  },
  {
   "cell_type": "code",
   "execution_count": 4,
   "metadata": {},
   "outputs": [],
   "source": [
    "df_sensitive = pd.read_csv(\"sensitive_topics_vers3.csv\")"
   ]
  },
  {
   "cell_type": "code",
   "execution_count": 5,
   "metadata": {},
   "outputs": [
    {
     "data": {
      "text/plain": [
       "Counter({'toloka': 8766,\n",
       "         'trtest': 378,\n",
       "         'self': 1978,\n",
       "         'kw': 21656,\n",
       "         'toloka_real_manual_relabel': 526,\n",
       "         'no_kw_manual_relabel': 600})"
      ]
     },
     "execution_count": 5,
     "metadata": {},
     "output_type": "execute_result"
    }
   ],
   "source": [
    "Counter(df_sensitive['source'])"
   ]
  },
  {
   "cell_type": "code",
   "execution_count": 6,
   "metadata": {},
   "outputs": [],
   "source": [
    "df_sensitive_toloka = df_sensitive[df_sensitive['source'] == 'toloka']\n",
    "toloka_trtes_set = set(df_sensitive[df_sensitive['source']=='trtest']['text'])"
   ]
  },
  {
   "cell_type": "code",
   "execution_count": 7,
   "metadata": {
    "scrolled": true
   },
   "outputs": [
    {
     "data": {
      "text/plain": [
       "378"
      ]
     },
     "execution_count": 7,
     "metadata": {},
     "output_type": "execute_result"
    }
   ],
   "source": [
    "len(toloka_trtes_set)"
   ]
  },
  {
   "cell_type": "code",
   "execution_count": 8,
   "metadata": {},
   "outputs": [
    {
     "data": {
      "text/plain": [
       "8766"
      ]
     },
     "execution_count": 8,
     "metadata": {},
     "output_type": "execute_result"
    }
   ],
   "source": [
    "df_sensitive_toloka_texts_set = set(df_sensitive_toloka['text'])\n",
    "len(df_sensitive_toloka_texts_set)"
   ]
  },
  {
   "cell_type": "code",
   "execution_count": 9,
   "metadata": {},
   "outputs": [],
   "source": [
    "old2new_topic = {'crime_real':'offline_crime','crime_web':'online_crime','halth_shaming':'health_shaming',\n",
    "                'social':'social_injustice','sex_minorities':'sexual_minorities'}\n",
    "\n",
    "topics = list(df_sensitive.columns[1:-1])"
   ]
  },
  {
   "cell_type": "code",
   "execution_count": 10,
   "metadata": {},
   "outputs": [],
   "source": [
    "# def update_batch_dict(df_hc, thrsh, collected_texts_dict, file):\n",
    "#     confidnece_columns = []\n",
    "#     output_columns = []\n",
    "#     for c in df_hc.columns:\n",
    "#         if 'CONFIDENCE' in c:\n",
    "#             df_hc[c] = df_hc[c].apply(lambda x: float(x[:-1])/100)\n",
    "#             confidnece_columns.append(c)\n",
    "#         if 'OUTPUT' in c:\n",
    "#             output_columns.append(c)\n",
    "    \n",
    "#     meet_req_list = []\n",
    "    \n",
    "#     for i, el in df_hc.iterrows():\n",
    "# #         confidence_above_threshold = all([el[c] > thrsh for c in confidnece_columns if c not in ('CONFIDENCE:none',\n",
    "# #                                                                                              'CONFIDENCE:obscene',\n",
    "# #                                                                                              'CONFIDENCE:toxic')])\n",
    "        \n",
    "#         confidence_above_threshold = all([el[c] > thrsh for c in confidnece_columns])\n",
    "        \n",
    "#         meet_req_list.append(confidence_above_threshold)\n",
    "        \n",
    "#         collected_topics_conf = [0] * 18\n",
    "#         for confidence_colname, output_colname in zip(confidnece_columns, output_columns):\n",
    "#             short_topic = confidence_colname[11:]\n",
    "#             assert short_topic in output_colname\n",
    "#             output_value = el[output_colname]\n",
    "#             confidence_value = el[confidence_colname] if output_value == True else 1 - el[confidence_colname]\n",
    "#             if short_topic in ('none','obscene','toxic'):\n",
    "#                 continue\n",
    "#             short_topic = old2new_topic.get(short_topic, short_topic)\n",
    "            \n",
    "#             topic_index = topics.index(short_topic)\n",
    "#             collected_topics_conf[topic_index] = confidence_value\n",
    "\n",
    "#         if el['INPUT:text'] in collected_texts_dict:\n",
    "# #             collected_texts_dict[el['INPUT:text']]['is_high_conf'] = confidence_above_threshold \n",
    "            \n",
    "#             if collected_texts_dict[el['INPUT:text']]['is_high_conf'] != False:#false нельзя исправлять. если один раз не соотве то все\n",
    "#                 collected_texts_dict[el['INPUT:text']]['is_high_conf'] = confidence_above_threshold \n",
    "#             new_topics_list = []\n",
    "#             for existing_values, values_to_add in zip(collected_texts_dict[el['INPUT:text']]['topics_conf'], collected_topics_conf):\n",
    "#                 if existing_values > 0:\n",
    "#                     assert values_to_add == 0, \"{} {}\".format(i, el['text'])\n",
    "\n",
    "#                 new_topics_list.append(existing_values+values_to_add)  \n",
    "#             new_topics_list = [round(v,3) for v in new_topics_list]\n",
    "#             assert len(new_topics_list) == 18\n",
    "#             collected_texts_dict[el['INPUT:text']]['topics_conf'] = new_topics_list\n",
    "#             collected_texts_dict[el['INPUT:text']]['file'].append(file)\n",
    "            \n",
    "#         else:\n",
    "#             collected_texts_dict[el['INPUT:text']] = {}\n",
    "#             collected_texts_dict[el['INPUT:text']]['topics_conf'] = [round(v,3) for v in collected_topics_conf]\n",
    "#             collected_texts_dict[el['INPUT:text']]['is_high_conf'] = confidence_above_threshold\n",
    "#             collected_texts_dict[el['INPUT:text']]['file'] = [file]\n",
    "#     df_hc['meet_req'] = meet_req_list\n",
    "# #     return set(df_hc[df_hc['meet_req'] == True]['INPUT:text'])   \n",
    "#     return set([k for k,v in collected_texts_dict.items() if v['is_high_conf'] == True])"
   ]
  },
  {
   "cell_type": "code",
   "execution_count": 11,
   "metadata": {},
   "outputs": [
    {
     "name": "stdout",
     "output_type": "stream",
     "text": [
      "====================================================================================================\n",
      "before dropping trtest ... 12705\n",
      "after dropping trtest ... 10006\n",
      "before dropping low conf ...  10006\n",
      "after dropping low conf ... 7668\n",
      "====================================================================================================\n",
      "before dropping trtest ... 15009\n",
      "after dropping trtest ... 12250\n",
      "before dropping low conf ...  12250\n",
      "after dropping low conf ... 8540\n",
      "====================================================================================================\n",
      "before dropping trtest ... 16934\n",
      "after dropping trtest ... 13810\n",
      "before dropping low conf ...  13810\n",
      "after dropping low conf ... 8641\n",
      "----\n",
      "set_df_hc 1837\n",
      "set_df_lc 557\n",
      "intersect 2 different datsastes 0\n"
     ]
    }
   ],
   "source": [
    "def calc_agreement_nltk(df_group):\n",
    "    worker2id = {}\n",
    "    for pair in df_group['ASSIGNMENT:worker_id'].tolist():\n",
    "        if pair not in worker2id:\n",
    "            worker2id[pair] = len(worker2id)\n",
    "    df_group['worker_idx'] = df_group['ASSIGNMENT:worker_id'].map(worker2id)\n",
    "    \n",
    "    text2ids = {}\n",
    "    for t in set(df_group['INPUT:text'].tolist()):\n",
    "        if t not in text2ids:\n",
    "            text2ids[t] = len(text2ids)\n",
    "    df_group['text_idx'] = df_group['INPUT:text'].map(text2ids)\n",
    "    ids2text = {idx:text for text,idx in text2ids.items()}\n",
    "    \n",
    "    reply_columns = [c for c in df_group.columns if 'OUTPUT' in c]\n",
    "    \n",
    "    collected_data = []\n",
    "    item_idx_dict = {}\n",
    "    \n",
    "    for i,el in df_group.iterrows():\n",
    "        coder_idx = el['worker_idx']\n",
    "        \n",
    "        item_idx = el['text_idx']\n",
    "        \n",
    "        if item_idx in item_idx_dict:\n",
    "            item_idx_dict[item_idx] += 1\n",
    "        else:\n",
    "            item_idx_dict[item_idx] = 1\n",
    "            \n",
    "        labels_list = []\n",
    "        for repl in reply_columns:\n",
    "            if el[repl] == True:\n",
    "                labels_list.append(repl[7:])\n",
    "\n",
    "        if len(labels_list) == 0: labels_list = ['none']\n",
    "        collected_triplet = (coder_idx,item_idx,frozenset(labels_list))\n",
    "        collected_data.append(collected_triplet)\n",
    "        \n",
    "    task = AnnotationTask(distance = masi_distance)\n",
    "    \n",
    "    task.load_array(collected_data)\n",
    "    \n",
    "    return task.alpha()\n",
    "\n",
    "def split_df_upon_confidence(df_hc, thrsh):\n",
    "    confidnece_columns = []\n",
    "    for c in df_hc.columns:\n",
    "        if 'CONFIDENCE' in c:\n",
    "            df_hc[c] = df_hc[c].apply(lambda x: float(x[:-1])/100)\n",
    "            confidnece_columns.append(c)\n",
    "    \n",
    "    meet_req_list = []\n",
    "    for i, el in df_hc.iterrows():\n",
    "        #ЕСЛИ ТАК ДЕЛАТЬ ТО СОГЛАСОВАННОСТЬ ПАДАЕТ\n",
    "#         all_above = all([el[c] > thrsh for c in confidnece_columns if c not in ('CONFIDENCE:none',\n",
    "#                                                                                              'CONFIDENCE:obscene',\n",
    "#                                                                                              'CONFIDENCE:toxic')])\n",
    "        all_above = all([el[c] > thrsh for c in confidnece_columns])\n",
    "        meet_req_list.append(all_above)\n",
    "    df_hc['meet_req'] = meet_req_list \n",
    "    \n",
    "#     df_hc['meet_req'] = df_hc.apply(lambda x: all([x[c] > thrsh for c in confidnece_columns]), axis = 1)\n",
    "    \n",
    "    return df_hc[df_hc['meet_req'] == True], df_hc[df_hc['meet_req'] == False]\n",
    "\n",
    "def process_dict(dct_sep):\n",
    "    columns = ['text'] + topics + ['source']\n",
    "    data = []\n",
    "    for text, values in dct_sep.items():\n",
    "        current_data = [text]\n",
    "        current_data += values['topics_conf']\n",
    "        current_data.append(values['file']) \n",
    "        data.append(current_data)\n",
    "    return pd.DataFrame(data = data, columns = columns)\n",
    "\n",
    "def dict2pd(dct):\n",
    "    dct_meetreq = {k:v for k,v in dct.items() if v['is_high_conf'] == True}\n",
    "    \n",
    "    dct_NO_meetreq = {k:v for k,v in dct.items() if v['is_high_conf'] == False}\n",
    "    \n",
    "    return process_dict(dct_meetreq), process_dict(dct_NO_meetreq)\n",
    "    \n",
    "def get_aggr_batch_with_filtering(batch_name, drop_unconfident_thrsh = None, \n",
    "                                  drop_traintest_examples = False, print_output = True, drop_trtest = True):\n",
    "    if batch_name == 'first': \n",
    "        raw_files = ['g1r.tsv','g2r.tsv','g3r.tsv']\n",
    "    elif batch_name == 'fourth':\n",
    "        raw_files = ['g1_4r.tsv','g2_4r.tsv','g3_4r.tsv']\n",
    "    elif batch_name == 'old':\n",
    "        raw_files = ['maybe_old/g1r.tsv','maybe_old/g2r.tsv']\n",
    "    \n",
    "    engaged_texts_high_conf= set()\n",
    "   \n",
    "    collected_agreements = []\n",
    "    collected_datasets_high_conf = []\n",
    "    collected_datasets_low_conf = []\n",
    "    \n",
    "    for i, file in enumerate(raw_files):\n",
    "        if print_output == True: print(\"=\"*100)\n",
    "        batch_path = \"./directly_from_toloka/\"+file\n",
    "        df_curr_common= pd.read_csv(batch_path, sep = '\\t')\n",
    "        \n",
    "        if drop_trtest == True:\n",
    "            if print_output == True: print(\"before dropping trtest ...\", len(df_curr_common))\n",
    "            df_curr_common = df_curr_common[~df_curr_common['INPUT:text'].isin(toloka_trtes_set)]#!!\n",
    "            if print_output == True: print(\"after dropping trtest ...\", len(df_curr_common))\n",
    "            \n",
    "        if drop_unconfident_thrsh:\n",
    "            file_agg = re.sub('r','',file)\n",
    "            batch_path_agg = \"./directly_from_toloka/\"+file_agg\n",
    "            df_curr_agg = pd.read_csv(batch_path_agg, sep = '\\t')\n",
    "        \n",
    "            df_aggr_high_conf,df_aggr_low_conf = split_df_upon_confidence(df_curr_agg, drop_unconfident_thrsh)\n",
    "            collected_datasets_high_conf.append(df_aggr_high_conf)\n",
    "            collected_datasets_low_conf.append(df_aggr_low_conf)\n",
    "            \n",
    "            if print_output == True: print(\"before dropping low conf ... \", len(df_curr_common))\n",
    "            df_curr_common = df_curr_common[df_curr_common['INPUT:text'].isin(df_aggr_high_conf['INPUT:text'])]\n",
    "            if print_output == True: print(\"after dropping low conf ...\", len(df_curr_common))\n",
    "                \n",
    "        engaged_texts_high_conf = engaged_texts_high_conf.union(set(df_curr_common['INPUT:text']))\n",
    "        \n",
    "\n",
    "        columns_to_merge = [c for c in df_curr_common.columns if c == 'INPUT:text' or 'OUTPUT' in c  or c =='ASSIGNMENT:worker_id']\n",
    "        df_curr_common = df_curr_common[columns_to_merge]\n",
    "        \n",
    "        alpha_curr = calc_agreement_nltk(df_curr_common)\n",
    "            \n",
    "        collected_agreements.append(alpha_curr)\n",
    "        \n",
    "    df_hc = pd.concat(collected_datasets_high_conf)\n",
    "    \n",
    "    df_lc = pd.concat(collected_datasets_low_conf)\n",
    "    \n",
    "    df_hc_actually_low = df_hc[df_hc['INPUT:text'].isin(df_lc['INPUT:text'])]\n",
    "    df_hc_actually_high = df_hc[~df_hc['INPUT:text'].isin(df_lc['INPUT:text'])]\n",
    "    \n",
    "    df_lc_really_low = pd.concat([df_hc_actually_low,df_lc])\n",
    "\n",
    "    set_df_hc = set(df_hc_actually_high['INPUT:text'])\n",
    "    set_df_lc = set(df_lc_really_low['INPUT:text'])\n",
    "\n",
    "    if print_output == True:\n",
    "        print('----')\n",
    "        print(\"set_df_hc\", len(set_df_hc))\n",
    "        print(\"set_df_lc\", len(set_df_lc))\n",
    "        print(\"intersect 2 different datsastes\", len(set_df_hc & set_df_lc))\n",
    "    \n",
    "    return collected_agreements, engaged_texts_high_conf, df_hc_actually_high, df_lc_really_low\n",
    "#если отдавать тексты engaged_texts_high_conf в рамках батча то кол-во сораняемых текстов выше\n",
    "# если отдавать датафрейм сформированный из всех только выосоуверенных семплов то ниже\n",
    "    \n",
    "\n",
    "aggr, engtxt, dfhc, dflc = get_aggr_batch_with_filtering('first',drop_unconfident_thrsh = 0.8, print_output = True)"
   ]
  },
  {
   "cell_type": "code",
   "execution_count": 12,
   "metadata": {},
   "outputs": [
    {
     "data": {
      "text/plain": [
       "([0.39641539683044846, 0.6211801748074177, 0.39857040655455145],\n",
       " 2289,\n",
       " 5226,\n",
       " 1671)"
      ]
     },
     "execution_count": 12,
     "metadata": {},
     "output_type": "execute_result"
    }
   ],
   "source": [
    "aggr, len(engtxt), len(dfhc), len(dflc)"
   ]
  },
  {
   "cell_type": "code",
   "execution_count": null,
   "metadata": {},
   "outputs": [],
   "source": [
    "# first - при новом подсчете однако проще относимся к обнволяемости допустимости требований\n",
    "# ====================================================================================================\n",
    "# before dropping trtest ... 12705\n",
    "# after dropping trtest ... 10006\n",
    "# before dropping low conf ...  10006\n",
    "# after dropping low conf ... 7673\n",
    "# ====================================================================================================\n",
    "# before dropping trtest ... 15009\n",
    "# after dropping trtest ... 12250\n",
    "# before dropping low conf ...  12250\n",
    "# after dropping low conf ... 8977\n",
    "# ====================================================================================================\n",
    "# before dropping trtest ... 16934\n",
    "# after dropping trtest ... 13810\n",
    "# before dropping low conf ...  13810\n",
    "# after dropping low conf ... 9648"
   ]
  },
  {
   "cell_type": "code",
   "execution_count": 154,
   "metadata": {},
   "outputs": [],
   "source": [
    "# first - при простом подсчете - метрики норм\n",
    "# ====================================================================================================\n",
    "# before dropping trtest ... 12705\n",
    "# after dropping trtest ... 10006\n",
    "# before dropping low conf ...  10006\n",
    "# after dropping low conf ... 7668\n",
    "# ====================================================================================================\n",
    "# before dropping trtest ... 15009\n",
    "# after dropping trtest ... 12250\n",
    "# before dropping low conf ...  12250\n",
    "# after dropping low conf ... 8540\n",
    "# ====================================================================================================\n",
    "# before dropping trtest ... 16934\n",
    "# after dropping trtest ... 13810\n",
    "# before dropping low conf ...  13810\n",
    "# after dropping low conf ... 8641"
   ]
  },
  {
   "cell_type": "code",
   "execution_count": 17,
   "metadata": {},
   "outputs": [
    {
     "name": "stdout",
     "output_type": "stream",
     "text": [
      "first\n",
      "====================================================================================================\n",
      "before dropping trtest ... 12705\n",
      "after dropping trtest ... 10006\n",
      "before dropping low conf ...  10006\n",
      "after dropping low conf ... 7673\n",
      "====================================================================================================\n",
      "before dropping trtest ... 15009\n",
      "after dropping trtest ... 12250\n",
      "before dropping low conf ...  12250\n",
      "after dropping low conf ... 9373\n",
      "====================================================================================================\n",
      "before dropping trtest ... 16934\n",
      "after dropping trtest ... 13810\n",
      "before dropping low conf ...  13810\n",
      "after dropping low conf ... 10084\n",
      "----\n",
      "set_df_hc 2394\n",
      "set_df_lc 0\n",
      "intersect 2 different datsastes 0\n",
      "fourth\n",
      "====================================================================================================\n",
      "before dropping trtest ... 33186\n",
      "after dropping trtest ... 27715\n",
      "before dropping low conf ...  27715\n",
      "after dropping low conf ... 22965\n",
      "====================================================================================================\n",
      "before dropping trtest ... 39363\n",
      "after dropping trtest ... 33894\n",
      "before dropping low conf ...  33894\n",
      "after dropping low conf ... 27405\n",
      "====================================================================================================\n",
      "before dropping trtest ... 27241\n",
      "after dropping trtest ... 23246\n",
      "before dropping low conf ...  23246\n",
      "after dropping low conf ... 18811\n",
      "----\n",
      "set_df_hc 4624\n",
      "set_df_lc 0\n",
      "intersect 2 different datsastes 0\n",
      "old\n",
      "====================================================================================================\n",
      "before dropping trtest ... 8666\n",
      "after dropping trtest ... 8038\n",
      "before dropping low conf ...  8038\n",
      "after dropping low conf ... 6578\n",
      "====================================================================================================\n",
      "before dropping trtest ... 3898\n",
      "after dropping trtest ... 3678\n",
      "before dropping low conf ...  3678\n",
      "after dropping low conf ... 3106\n",
      "----\n",
      "set_df_hc 3379\n",
      "set_df_lc 0\n",
      "intersect 2 different datsastes 0\n"
     ]
    }
   ],
   "source": [
    "def get_filter_stats_from_all_batches(drop_unconfident_thrsh, batches = ['first','fourth','old'],drop_trtest=False):\n",
    "    \n",
    "    collected_agreements = []\n",
    "    \n",
    "    texts_set = set ()\n",
    "    texts_set_from_df = set()\n",
    "    for batch in batches:#\n",
    "        print(batch)\n",
    "        aggr_lst_curr, eng_txt_hc, df_hc, df_lc = get_aggr_batch_with_filtering(batch, \n",
    "                                                                     drop_unconfident_thrsh = drop_unconfident_thrsh,\n",
    "                                                                    drop_trtest = drop_trtest)\n",
    "        collected_agreements.extend(aggr_lst_curr)\n",
    "        \n",
    "        texts_set = texts_set.union(eng_txt_hc)\n",
    "        texts_set_from_df = texts_set_from_df.union(set(df_hc['INPUT:text']))\n",
    "            \n",
    "    \n",
    "    return np.mean(aggr_lst_curr), texts_set, texts_set_from_df\n",
    "    \n",
    "agrmnt, alltxtx_s,alltxtx_df  = get_filter_stats_from_all_batches(drop_unconfident_thrsh = 0.01,drop_trtest = True)"
   ]
  },
  {
   "cell_type": "code",
   "execution_count": 19,
   "metadata": {},
   "outputs": [
    {
     "data": {
      "text/plain": [
       "(0.3577573665487953, 9868, 10132)"
      ]
     },
     "execution_count": 19,
     "metadata": {},
     "output_type": "execute_result"
    }
   ],
   "source": [
    "agrmnt, len(alltxtx_s), len(alltxtx_df)"
   ]
  },
  {
   "cell_type": "code",
   "execution_count": 26,
   "metadata": {},
   "outputs": [
    {
     "data": {
      "text/plain": [
       "Counter({False: 2519, True: 6247})"
      ]
     },
     "execution_count": 26,
     "metadata": {},
     "output_type": "execute_result"
    }
   ],
   "source": [
    "Counter(df_sensitive_toloka['text'].isin(alltxtx_df))"
   ]
  },
  {
   "cell_type": "code",
   "execution_count": 27,
   "metadata": {},
   "outputs": [
    {
     "name": "stderr",
     "output_type": "stream",
     "text": [
      "<ipython-input-27-60397948224c>:1: SettingWithCopyWarning: \n",
      "A value is trying to be set on a copy of a slice from a DataFrame.\n",
      "Try using .loc[row_indexer,col_indexer] = value instead\n",
      "\n",
      "See the caveats in the documentation: https://pandas.pydata.org/pandas-docs/stable/user_guide/indexing.html#returning-a-view-versus-a-copy\n",
      "  df_sensitive_toloka['found_in_raw'] = df_sensitive_toloka['text'].isin(alltxtx_df)\n"
     ]
    }
   ],
   "source": [
    "df_sensitive_toloka['found_in_raw'] = df_sensitive_toloka['text'].isin(alltxtx_df)"
   ]
  },
  {
   "cell_type": "code",
   "execution_count": 37,
   "metadata": {},
   "outputs": [
    {
     "name": "stdout",
     "output_type": "stream",
     "text": [
      "То есть при разрыве с близкой дистанции осколочное поражения наносится восходящим потоком осколков с высокой скоростью, и для защиты от него нужны мощные современные СИБ да и то они не всегда помогают.\n",
      "\n",
      "Но как правило - NUMBER% стычек - это быдло, пьянь и гопота на улице - на всех вышеприведенных видео это есть.\n",
      "\n",
      "Мда, знать бы где упасть =\n",
      "\n"
     ]
    }
   ],
   "source": [
    "for t in df_sensitive_toloka[df_sensitive_toloka['found_in_raw']==False].sample(3)['text']:\n",
    "    print(t)\n",
    "    print()"
   ]
  },
  {
   "cell_type": "code",
   "execution_count": 130,
   "metadata": {
    "scrolled": false
   },
   "outputs": [],
   "source": [
    "# (0.4744957067281026, 8694)"
   ]
  },
  {
   "cell_type": "raw",
   "metadata": {},
   "source": [
    "ЗНАЧЕНИЯ БЕЗ ИСПОЛЬЗВАНИЯ СТАРОГО БАТЧА (НО ПРИ ЭТОМ ТЕРЯЕТСЯ ПОКРТИЕ ЗАЯВЛЕННОЙ ТОЛОКИ)\n",
    "(0.6154409816812249, 0.4973849218904598, 7009, 0.5033888322235552, 7000)\n",
    "\n",
    "ЗНАЧЕНИЯ С ИСПОЛЬЗОВАНИЕМ СТАРОГО БАЧТА (СОГЛАСОВАННОСТЬ ЛУЧШЕ, НО ТОЛОКА ПОКРЫВАЕТСЯ ТОЛЬКО НА 60 ПРОЦ)\n",
    "(0.5300340415816449, 0.42408801155211906, 10130, 0.42859094430194056, 10129)\n",
    "\n",
    "ЗНАЧЕНИЯ С ИСПОЛЬЗОВАНИЕМ СТАРОГО БАЧТА но исходная согласованность подсчитывается через nltk пакет\n",
    "(0.5694888889975732, 0.42408801155211906, 10130, 0.42859094430194056, 10129)"
   ]
  },
  {
   "cell_type": "code",
   "execution_count": 265,
   "metadata": {},
   "outputs": [],
   "source": [
    "def check_different_filtering_options(batches = ['first','fourth','old'], drop_trtest = True):\n",
    "    data = []\n",
    "    for ds_thrsh_curr in [0.98]:#0.95 0.48,\n",
    "        agg, engaged_txt_from_set, engaged_txt_from_df = get_filter_stats_from_all_batches(batches = batches, drop_unconfident_thrsh = ds_thrsh_curr, drop_trtest = drop_trtest)\n",
    "        \n",
    "        data.append([ds_thrsh_curr, agg, len(engaged_txt_from_set), len(engaged_txt_from_df)])\n",
    "    df_rep = pd.DataFrame(data = data, columns = ['threshold','agreeement_via_threshold','most_topics_high_conf','all_topics_high_conf'])\n",
    "    return df_rep"
   ]
  },
  {
   "cell_type": "code",
   "execution_count": 269,
   "metadata": {
    "scrolled": false
   },
   "outputs": [
    {
     "name": "stdout",
     "output_type": "stream",
     "text": [
      "first\n",
      "====================================================================================================\n",
      "before dropping trtest ... 12705\n",
      "after dropping trtest ... 10006\n",
      "before dropping low conf ...  10006\n",
      "after dropping low conf ... 7642\n",
      "====================================================================================================\n",
      "before dropping trtest ... 15009\n",
      "after dropping trtest ... 12250\n",
      "before dropping low conf ...  12250\n",
      "after dropping low conf ... 6612\n",
      "====================================================================================================\n",
      "before dropping trtest ... 16934\n",
      "after dropping trtest ... 13810\n",
      "before dropping low conf ...  13810\n",
      "after dropping low conf ... 5897\n",
      "----\n",
      "set_df_hc 878\n",
      "set_df_lc 1516\n",
      "intersect 2 different datsastes 0\n",
      "fourth\n",
      "====================================================================================================\n",
      "before dropping trtest ... 33186\n",
      "after dropping trtest ... 27715\n",
      "before dropping low conf ...  27715\n",
      "after dropping low conf ... 12322\n",
      "====================================================================================================\n",
      "before dropping trtest ... 39363\n",
      "after dropping trtest ... 33894\n",
      "before dropping low conf ...  33894\n",
      "after dropping low conf ... 21717\n",
      "====================================================================================================\n",
      "before dropping trtest ... 27241\n",
      "after dropping trtest ... 23246\n",
      "before dropping low conf ...  23246\n",
      "after dropping low conf ... 12303\n",
      "----\n",
      "set_df_hc 1215\n",
      "set_df_lc 3409\n",
      "intersect 2 different datsastes 0\n",
      "old\n",
      "====================================================================================================\n",
      "before dropping trtest ... 8666\n",
      "after dropping trtest ... 8038\n",
      "before dropping low conf ...  8038\n",
      "after dropping low conf ... 1093\n",
      "====================================================================================================\n",
      "before dropping trtest ... 3898\n",
      "after dropping trtest ... 3678\n",
      "before dropping low conf ...  3678\n",
      "after dropping low conf ... 967\n",
      "----\n",
      "set_df_hc 605\n",
      "set_df_lc 2774\n",
      "intersect 2 different datsastes 0\n"
     ]
    },
    {
     "data": {
      "text/html": [
       "<div>\n",
       "<style scoped>\n",
       "    .dataframe tbody tr th:only-of-type {\n",
       "        vertical-align: middle;\n",
       "    }\n",
       "\n",
       "    .dataframe tbody tr th {\n",
       "        vertical-align: top;\n",
       "    }\n",
       "\n",
       "    .dataframe thead th {\n",
       "        text-align: right;\n",
       "    }\n",
       "</style>\n",
       "<table border=\"1\" class=\"dataframe\">\n",
       "  <thead>\n",
       "    <tr style=\"text-align: right;\">\n",
       "      <th></th>\n",
       "      <th>threshold</th>\n",
       "      <th>agreeement_via_threshold</th>\n",
       "      <th>most_topics_high_conf</th>\n",
       "      <th>all_topics_high_conf</th>\n",
       "    </tr>\n",
       "  </thead>\n",
       "  <tbody>\n",
       "    <tr>\n",
       "      <th>0</th>\n",
       "      <td>0.98</td>\n",
       "      <td>0.669712</td>\n",
       "      <td>7066</td>\n",
       "      <td>2583</td>\n",
       "    </tr>\n",
       "  </tbody>\n",
       "</table>\n",
       "</div>"
      ],
      "text/plain": [
       "   threshold  agreeement_via_threshold  most_topics_high_conf  \\\n",
       "0       0.98                  0.669712                   7066   \n",
       "\n",
       "   all_topics_high_conf  \n",
       "0                  2583  "
      ]
     },
     "execution_count": 269,
     "metadata": {},
     "output_type": "execute_result"
    }
   ],
   "source": [
    "df_no_trtes_rep = check_different_filtering_options(drop_trtest=True)\n",
    "df_no_trtes_rep.head()"
   ]
  },
  {
   "cell_type": "code",
   "execution_count": 276,
   "metadata": {},
   "outputs": [
    {
     "name": "stdout",
     "output_type": "stream",
     "text": [
      "first\n",
      "====================================================================================================\n",
      "before dropping low conf ...  12705\n",
      "after dropping low conf ... 9044\n",
      "====================================================================================================\n",
      "before dropping low conf ...  15009\n",
      "after dropping low conf ... 8138\n",
      "====================================================================================================\n",
      "before dropping low conf ...  16934\n",
      "after dropping low conf ... 7907\n",
      "----\n",
      "set_df_hc 878\n",
      "set_df_lc 1516\n",
      "intersect 2 different datsastes 0\n",
      "fourth\n",
      "====================================================================================================\n",
      "before dropping low conf ...  33186\n",
      "after dropping low conf ... 15167\n",
      "====================================================================================================\n",
      "before dropping low conf ...  39363\n",
      "after dropping low conf ... 24923\n",
      "====================================================================================================\n",
      "before dropping low conf ...  27241\n",
      "after dropping low conf ... 14677\n",
      "----\n",
      "set_df_hc 1215\n",
      "set_df_lc 3409\n",
      "intersect 2 different datsastes 0\n",
      "old\n",
      "====================================================================================================\n",
      "before dropping low conf ...  8666\n",
      "after dropping low conf ... 1269\n",
      "====================================================================================================\n",
      "before dropping low conf ...  3898\n",
      "after dropping low conf ... 1046\n",
      "----\n",
      "set_df_hc 605\n",
      "set_df_lc 2774\n",
      "intersect 2 different datsastes 0\n"
     ]
    }
   ],
   "source": [
    "agg, engaged_txt_notstrict,  engaged_txt_strict = get_filter_stats_from_all_batches(drop_unconfident_thrsh = 0.98)"
   ]
  },
  {
   "cell_type": "code",
   "execution_count": 73,
   "metadata": {},
   "outputs": [],
   "source": [
    "agg_0, engaged_txt_0 = get_filter_stats_from_all_batches(drop_unconfident_thrsh = None)"
   ]
  },
  {
   "cell_type": "markdown",
   "metadata": {},
   "source": [
    "### Честный подход (берем чисто те тексты из которых у нас образовалась такая согласованность - это хороший файл. дропаем на переразметку то что не вошло)"
   ]
  },
  {
   "cell_type": "code",
   "execution_count": 277,
   "metadata": {},
   "outputs": [],
   "source": [
    "engaged_txt_proc = set([depersonalize(t) for t in engaged_txt_notstrict])"
   ]
  },
  {
   "cell_type": "code",
   "execution_count": 278,
   "metadata": {},
   "outputs": [
    {
     "name": "stderr",
     "output_type": "stream",
     "text": [
      "<ipython-input-278-af291f1dfe91>:1: SettingWithCopyWarning: \n",
      "A value is trying to be set on a copy of a slice from a DataFrame.\n",
      "Try using .loc[row_indexer,col_indexer] = value instead\n",
      "\n",
      "See the caveats in the documentation: https://pandas.pydata.org/pandas-docs/stable/user_guide/indexing.html#returning-a-view-versus-a-copy\n",
      "  df_sensitive_toloka['text'] = [depersonalize(t) for t in df_sensitive_toloka['text'].tolist() ]\n"
     ]
    }
   ],
   "source": [
    "df_sensitive_toloka['text'] = [depersonalize(t) for t in df_sensitive_toloka['text'].tolist() ]"
   ]
  },
  {
   "cell_type": "code",
   "execution_count": 279,
   "metadata": {},
   "outputs": [],
   "source": [
    "df_sensitive_toloka_dropped_via_engaged = df_sensitive_toloka[df_sensitive_toloka['text'].isin(engaged_txt_proc)]\n",
    "df_sensitive_toloka_lowaggreem_via_engaged = df_sensitive_toloka[~df_sensitive_toloka['text'].isin(engaged_txt_proc)]"
   ]
  },
  {
   "cell_type": "code",
   "execution_count": 280,
   "metadata": {},
   "outputs": [],
   "source": [
    "df_sensitive_toloka_lowaggreem_via_engaged_set = set(df_sensitive_toloka_lowaggreem_via_engaged['text'])"
   ]
  },
  {
   "cell_type": "code",
   "execution_count": 281,
   "metadata": {},
   "outputs": [
    {
     "data": {
      "text/plain": [
       "(6169, 3122)"
      ]
     },
     "execution_count": 281,
     "metadata": {},
     "output_type": "execute_result"
    }
   ],
   "source": [
    "len(df_sensitive_toloka_dropped_via_engaged), len(df_sensitive_toloka_lowaggreem_via_engaged)"
   ]
  },
  {
   "cell_type": "code",
   "execution_count": 282,
   "metadata": {},
   "outputs": [],
   "source": [
    "df_sensitive_toloka_dropped_via_engaged_set = set(df_sensitive_toloka_dropped_via_engaged['text'].tolist())"
   ]
  },
  {
   "cell_type": "code",
   "execution_count": 283,
   "metadata": {},
   "outputs": [
    {
     "data": {
      "text/plain": [
       "6169"
      ]
     },
     "execution_count": 283,
     "metadata": {},
     "output_type": "execute_result"
    }
   ],
   "source": [
    "len(engaged_txt_proc & df_sensitive_toloka_dropped_via_engaged_set)"
   ]
  },
  {
   "cell_type": "code",
   "execution_count": 284,
   "metadata": {},
   "outputs": [
    {
     "data": {
      "text/plain": [
       "0.8521895289404614"
      ]
     },
     "execution_count": 284,
     "metadata": {},
     "output_type": "execute_result"
    }
   ],
   "source": [
    "len(engaged_txt_proc & df_sensitive_toloka_dropped_via_engaged_set)/ len(engaged_txt_proc)"
   ]
  },
  {
   "cell_type": "code",
   "execution_count": 71,
   "metadata": {},
   "outputs": [],
   "source": [
    "# получается что около тысячи семплов из реальной толоки не ищутся ..."
   ]
  },
  {
   "cell_type": "code",
   "execution_count": 64,
   "metadata": {},
   "outputs": [],
   "source": [
    "# проверим сколько из правильно оставленных текстов соответсвуют требованию высокого конфиенса"
   ]
  },
  {
   "cell_type": "code",
   "execution_count": 285,
   "metadata": {},
   "outputs": [
    {
     "name": "stderr",
     "output_type": "stream",
     "text": [
      "<ipython-input-285-d3fe0aa92149>:2: SettingWithCopyWarning: \n",
      "A value is trying to be set on a copy of a slice from a DataFrame.\n",
      "Try using .loc[row_indexer,col_indexer] = value instead\n",
      "\n",
      "See the caveats in the documentation: https://pandas.pydata.org/pandas-docs/stable/user_guide/indexing.html#returning-a-view-versus-a-copy\n",
      "  df_sensitive_toloka_dropped_via_engaged['meet_req']= df_sensitive_toloka_dropped_via_engaged.apply(lambda x: all([float(x[c]) > 0.98 or float(x[c]) < 0.02 for c in confidnece_columns]), axis = 1)\n"
     ]
    },
    {
     "data": {
      "text/plain": [
       "Counter({False: 734, True: 5435})"
      ]
     },
     "execution_count": 285,
     "metadata": {},
     "output_type": "execute_result"
    }
   ],
   "source": [
    "confidnece_columns = df_sensitive_toloka.columns[1:-2].tolist()\n",
    "df_sensitive_toloka_dropped_via_engaged['meet_req']= df_sensitive_toloka_dropped_via_engaged.apply(lambda x: all([float(x[c]) > 0.98 or float(x[c]) < 0.02 for c in confidnece_columns]), axis = 1)\n",
    "Counter(df_sensitive_toloka_dropped_via_engaged['meet_req'])"
   ]
  },
  {
   "cell_type": "code",
   "execution_count": 67,
   "metadata": {
    "scrolled": true
   },
   "outputs": [
    {
     "data": {
      "text/plain": [
       "0.8810179931917653"
      ]
     },
     "execution_count": 67,
     "metadata": {},
     "output_type": "execute_result"
    }
   ],
   "source": [
    "5435  / (5435 + 734)"
   ]
  },
  {
   "cell_type": "code",
   "execution_count": 68,
   "metadata": {},
   "outputs": [],
   "source": [
    "# большая часть правильно выкинутых действительно имеет высокий конфиденс. хотя непонятно почему не все"
   ]
  },
  {
   "cell_type": "markdown",
   "metadata": {},
   "source": [
    "### Упрощенный подход"
   ]
  },
  {
   "cell_type": "code",
   "execution_count": 54,
   "metadata": {},
   "outputs": [
    {
     "name": "stderr",
     "output_type": "stream",
     "text": [
      "<ipython-input-54-3e2a10992746>:2: SettingWithCopyWarning: \n",
      "A value is trying to be set on a copy of a slice from a DataFrame.\n",
      "Try using .loc[row_indexer,col_indexer] = value instead\n",
      "\n",
      "See the caveats in the documentation: https://pandas.pydata.org/pandas-docs/stable/user_guide/indexing.html#returning-a-view-versus-a-copy\n",
      "  df_sensitive_toloka['meet_req']= df_sensitive_toloka.apply(lambda x: all([float(x[c]) > 0.98 or float(x[c]) < 0.02 for c in confidnece_columns]), axis = 1)\n"
     ]
    },
    {
     "data": {
      "text/plain": [
       "7503"
      ]
     },
     "execution_count": 54,
     "metadata": {},
     "output_type": "execute_result"
    }
   ],
   "source": [
    "confidnece_columns = df_sensitive_toloka.columns[1:-2].tolist()\n",
    "df_sensitive_toloka['meet_req']= df_sensitive_toloka.apply(lambda x: all([float(x[c]) > 0.98 or float(x[c]) < 0.02 for c in confidnece_columns]), axis = 1)\n",
    "df_sensitive_toloka_dropped = df_sensitive_toloka[df_sensitive_toloka['meet_req'] == True]\n",
    "len(df_sensitive_toloka_dropped)"
   ]
  },
  {
   "cell_type": "code",
   "execution_count": 55,
   "metadata": {},
   "outputs": [],
   "source": [
    "df_sensitive_toloka_lowconf = df_sensitive_toloka[df_sensitive_toloka['meet_req'] == False]\n",
    "df_sensitive_toloka_lowconf_set = set(df_sensitive_toloka_lowconf['text'].tolist())"
   ]
  },
  {
   "cell_type": "code",
   "execution_count": 56,
   "metadata": {},
   "outputs": [],
   "source": [
    "df_sensitive_toloka_with_threshold_texts_set = set(df_sensitive_toloka_dropped['text'].tolist())"
   ]
  },
  {
   "cell_type": "code",
   "execution_count": 57,
   "metadata": {
    "scrolled": false
   },
   "outputs": [
    {
     "data": {
      "text/plain": [
       "(5435, 7503)"
      ]
     },
     "execution_count": 57,
     "metadata": {},
     "output_type": "execute_result"
    }
   ],
   "source": [
    "len(df_sensitive_toloka_with_threshold_texts_set & engaged_txt_proc), len(df_sensitive_toloka_with_threshold_texts_set)"
   ]
  },
  {
   "cell_type": "code",
   "execution_count": 58,
   "metadata": {
    "scrolled": true
   },
   "outputs": [
    {
     "data": {
      "text/plain": [
       "0.7243769159003065"
      ]
     },
     "execution_count": 58,
     "metadata": {},
     "output_type": "execute_result"
    }
   ],
   "source": [
    "len(df_sensitive_toloka_with_threshold_texts_set & engaged_txt_proc) / len(df_sensitive_toloka_with_threshold_texts_set)"
   ]
  },
  {
   "cell_type": "raw",
   "metadata": {},
   "source": [
    "72% - покрытие текстов из сырой толкои предобратотанных и отфильрованных по конфиденсу относительно текстов выложенных в доступ обозначаемых как толока. то есть мы врем относительно источникам этих текстов где-то на 25-30 процентов."
   ]
  },
  {
   "cell_type": "markdown",
   "metadata": {},
   "source": [
    "### Смотрим на масштаб трагедии"
   ]
  },
  {
   "cell_type": "code",
   "execution_count": 287,
   "metadata": {},
   "outputs": [
    {
     "data": {
      "text/plain": [
       "5435"
      ]
     },
     "execution_count": 287,
     "metadata": {},
     "output_type": "execute_result"
    }
   ],
   "source": [
    "len(df_sensitive_toloka_dropped_via_engaged_set & df_sensitive_toloka_with_threshold_texts_set)"
   ]
  },
  {
   "cell_type": "code",
   "execution_count": 288,
   "metadata": {},
   "outputs": [
    {
     "data": {
      "text/plain": [
       "(3122, 1788)"
      ]
     },
     "execution_count": 288,
     "metadata": {},
     "output_type": "execute_result"
    }
   ],
   "source": [
    "len(df_sensitive_toloka_lowaggreem_via_engaged_set), len(df_sensitive_toloka_lowconf_set)"
   ]
  },
  {
   "cell_type": "code",
   "execution_count": 289,
   "metadata": {},
   "outputs": [
    {
     "data": {
      "text/plain": [
       "(1054,)"
      ]
     },
     "execution_count": 289,
     "metadata": {},
     "output_type": "execute_result"
    }
   ],
   "source": [
    "len(df_sensitive_toloka_lowaggreem_via_engaged_set & df_sensitive_toloka_lowconf_set), "
   ]
  },
  {
   "cell_type": "code",
   "execution_count": 290,
   "metadata": {},
   "outputs": [
    {
     "data": {
      "text/plain": [
       "0.3376040999359385"
      ]
     },
     "execution_count": 290,
     "metadata": {},
     "output_type": "execute_result"
    }
   ],
   "source": [
    "len(df_sensitive_toloka_lowaggreem_via_engaged_set & df_sensitive_toloka_lowconf_set)/len(df_sensitive_toloka_lowaggreem_via_engaged_set)"
   ]
  },
  {
   "cell_type": "raw",
   "metadata": {},
   "source": [
    "# Трагедия большая. получается выкидывая только по конфиденсу мы выикдываем только 30 процентов от тех тестов которые повляли снижение согласованност"
   ]
  },
  {
   "cell_type": "code",
   "execution_count": 38,
   "metadata": {},
   "outputs": [],
   "source": [
    "# Не зря ли размечал? (смотрим сколько из преразмеченного входит в состав дропнутого из живых файлов)"
   ]
  },
  {
   "cell_type": "code",
   "execution_count": 39,
   "metadata": {},
   "outputs": [],
   "source": [
    "df_toloka_relabeled = pd.read_csv(\"TOLOKA_low_conf_for_manual_relabeling_ready.csv\")"
   ]
  },
  {
   "cell_type": "code",
   "execution_count": 41,
   "metadata": {},
   "outputs": [],
   "source": [
    "df_toloka_relabeled_really_lbl = df_toloka_relabeled[~df_toloka_relabeled['vote1'].isna()]\n",
    "df_toloka_relabeled_really_lbl_set  = set(df_toloka_relabeled_really_lbl['text'])"
   ]
  },
  {
   "cell_type": "code",
   "execution_count": 42,
   "metadata": {},
   "outputs": [
    {
     "data": {
      "text/plain": [
       "526"
      ]
     },
     "execution_count": 42,
     "metadata": {},
     "output_type": "execute_result"
    }
   ],
   "source": [
    "len(df_toloka_relabeled_really_lbl_set)"
   ]
  },
  {
   "cell_type": "code",
   "execution_count": 286,
   "metadata": {},
   "outputs": [
    {
     "data": {
      "text/plain": [
       "0.6463878326996197"
      ]
     },
     "execution_count": 286,
     "metadata": {},
     "output_type": "execute_result"
    }
   ],
   "source": [
    "len(df_toloka_relabeled_really_lbl_set & df_sensitive_toloka_lowaggreem_via_engaged_set)/len(df_toloka_relabeled_really_lbl_set)"
   ]
  },
  {
   "cell_type": "code",
   "execution_count": 46,
   "metadata": {},
   "outputs": [],
   "source": [
    "# ну такое. вроде не совсем зря"
   ]
  },
  {
   "cell_type": "code",
   "execution_count": null,
   "metadata": {},
   "outputs": [],
   "source": []
  },
  {
   "cell_type": "code",
   "execution_count": null,
   "metadata": {},
   "outputs": [],
   "source": []
  },
  {
   "cell_type": "markdown",
   "metadata": {},
   "source": [
    "## Визуализируем кол-во семплов"
   ]
  },
  {
   "cell_type": "code",
   "execution_count": 87,
   "metadata": {},
   "outputs": [],
   "source": [
    "# df_sensitive_toloka_dropped = df_sensitive_toloka[df_sensitive_toloka['text'].isin(engaged_txt_proc)]\n",
    "# len(df_sensitive_toloka_dropped)\n",
    "# df_sensitive_toloka_dropped.to_csv(\"TOLOKA_high_conf_for_verification.csv\", index = None)\n",
    "# 6169"
   ]
  },
  {
   "cell_type": "code",
   "execution_count": 98,
   "metadata": {},
   "outputs": [
    {
     "data": {
      "text/plain": [
       "1788"
      ]
     },
     "execution_count": 98,
     "metadata": {},
     "output_type": "execute_result"
    }
   ],
   "source": [
    "df_sensitive_toloka_OUT= df_sensitive_toloka[~df_sensitive_toloka['text'].isin(df_sensitive_toloka_dropped['text'])]\n",
    "print(len(df_sensitive_toloka_OUT))\n",
    "# df_sensitive_toloka_OUT.to_csv(\"TOLOKA_low_conf_for_manual_relabeling.csv\", index = None)"
   ]
  },
  {
   "cell_type": "code",
   "execution_count": 25,
   "metadata": {},
   "outputs": [],
   "source": [
    "topics = ['offline_crime', 'online_crime', 'drugs', 'gambling', 'pornography',\n",
    "       'prostitution', 'slavery', 'suicide', 'terrorism', 'weapons',\n",
    "       'body_shaming', 'health_shaming', 'politics', 'racism', 'religion',\n",
    "       'sexual_minorities', 'sexism', 'social_injustice']"
   ]
  },
  {
   "cell_type": "code",
   "execution_count": 49,
   "metadata": {},
   "outputs": [],
   "source": [
    "def get_count(df):\n",
    "    \n",
    "    def round_up(val):\n",
    "        if float(val) > 0.5:\n",
    "            return 1\n",
    "        return 0\n",
    "\n",
    "    df_count = pd.DataFrame()\n",
    "    for c in topics:\n",
    "        if c != 'text':\n",
    "            df_count[c] = df[c].apply(round_up)\n",
    "            \n",
    "    counts = []\n",
    "    names = []\n",
    "    for col in df_count.columns:\n",
    "        cnt = sum(df_count[col])\n",
    "        counts.append(cnt)\n",
    "        names.append(col)\n",
    "        \n",
    "    df_count_fin = pd.DataFrame({'class':names, 'count':counts})\n",
    "    df_count_fin_sorted = df_count_fin.sort_values('count', ascending = False)\n",
    "    return df_count_fin_sorted, len(df)"
   ]
  },
  {
   "cell_type": "code",
   "execution_count": 50,
   "metadata": {},
   "outputs": [],
   "source": [
    "def plot_df(df, df_len):\n",
    "    dct = {}\n",
    "    for  i,d in df.iterrows():\n",
    "        t,c = d\n",
    "        dct[t] = c\n",
    "    same_order_values = [dct[t] for t in topics]\n",
    "    \n",
    "        # Generate a normal distribution, center at x=0 and y=5\n",
    "    x_positions = np.arange(len(topics) )\n",
    "    y = same_order_values\n",
    "\n",
    "    # We can set the number of bins with the `bins` kwarg\n",
    "    plt.bar(x_positions,y, align='center', alpha=0.5)\n",
    "    plt.xticks(x_positions, topics)\n",
    "    plt.xticks(rotation = 85, fontsize=14)\n",
    "    plt.ylabel('count per topic', fontsize=14)\n",
    "    plt.title(\"Total сount of samples = {}\".format(df_len), fontsize=14)\n",
    "\n",
    "    plt.show()\n",
    "#     plt.savefig(\"multi_count.pdf\",format='pdf', bbox_inches='tight')"
   ]
  },
  {
   "cell_type": "code",
   "execution_count": 51,
   "metadata": {},
   "outputs": [
    {
     "name": "stderr",
     "output_type": "stream",
     "text": [
      "<ipython-input-50-8e5d82b97891>:19: UserWarning: Matplotlib is currently using agg, which is a non-GUI backend, so cannot show the figure.\n",
      "  plt.show()\n"
     ]
    },
    {
     "data": {
      "image/png": "[encoded data removed]",
      "text/plain": [
       "<Figure size 432x288 with 1 Axes>"
      ]
     },
     "metadata": {
      "needs_background": "light"
     },
     "output_type": "display_data"
    }
   ],
   "source": [
    "dfr, df_len = get_count(df_sensitive_toloka)\n",
    "plot_df(dfr, df_len)"
   ]
  },
  {
   "cell_type": "code",
   "execution_count": 100,
   "metadata": {},
   "outputs": [
    {
     "name": "stderr",
     "output_type": "stream",
     "text": [
      "<ipython-input-50-8e5d82b97891>:19: UserWarning: Matplotlib is currently using agg, which is a non-GUI backend, so cannot show the figure.\n",
      "  plt.show()\n"
     ]
    },
    {
     "data": {
      "image/png": "[encoded data removed]",
      "text/plain": [
       "<Figure size 432x288 with 1 Axes>"
      ]
     },
     "metadata": {
      "needs_background": "light"
     },
     "output_type": "display_data"
    }
   ],
   "source": [
    "dfr, df_len = get_count(df_sensitive_toloka_dropped)\n",
    "plot_df(dfr, df_len)"
   ]
  },
  {
   "cell_type": "code",
   "execution_count": 101,
   "metadata": {},
   "outputs": [
    {
     "name": "stderr",
     "output_type": "stream",
     "text": [
      "<ipython-input-50-8e5d82b97891>:19: UserWarning: Matplotlib is currently using agg, which is a non-GUI backend, so cannot show the figure.\n",
      "  plt.show()\n"
     ]
    },
    {
     "data": {
      "image/png": "[encoded data removed]",
      "text/plain": [
       "<Figure size 432x288 with 1 Axes>"
      ]
     },
     "metadata": {
      "needs_background": "light"
     },
     "output_type": "display_data"
    }
   ],
   "source": [
    "df_sensitive_no_toloka = df_sensitive[df_sensitive['source']!='toloka']\n",
    "df_sensitive_with_dropped_toloka = pd.concat([df_sensitive_no_toloka,df_sensitive_toloka_dropped])\n",
    "dfr, df_len = get_count(df_sensitive_with_dropped_toloka)\n",
    "plot_df(dfr, df_len)"
   ]
  },
  {
   "cell_type": "code",
   "execution_count": 102,
   "metadata": {},
   "outputs": [
    {
     "name": "stderr",
     "output_type": "stream",
     "text": [
      "<ipython-input-50-8e5d82b97891>:19: UserWarning: Matplotlib is currently using agg, which is a non-GUI backend, so cannot show the figure.\n",
      "  plt.show()\n"
     ]
    },
    {
     "data": {
      "image/png": "[encoded data removed]",
      "text/plain": [
       "<Figure size 432x288 with 1 Axes>"
      ]
     },
     "metadata": {
      "needs_background": "light"
     },
     "output_type": "display_data"
    }
   ],
   "source": [
    "dfr, df_len = get_count(df_sensitive)\n",
    "plot_df(dfr, df_len)"
   ]
  }
 ],
 "metadata": {
  "kernelspec": {
   "display_name": "Python 3",
   "language": "python",
   "name": "python3"
  },
  "language_info": {
   "codemirror_mode": {
    "name": "ipython",
    "version": 3
   },
   "file_extension": ".py",
   "mimetype": "text/x-python",
   "name": "python",
   "nbconvert_exporter": "python",
   "pygments_lexer": "ipython3",
   "version": "3.8.10"
  }
 },
 "nbformat": 4,
 "nbformat_minor": 4
}
