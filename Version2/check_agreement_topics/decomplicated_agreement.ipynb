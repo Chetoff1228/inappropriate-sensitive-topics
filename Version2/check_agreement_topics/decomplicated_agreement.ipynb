{
 "cells": [
  {
   "cell_type": "code",
   "execution_count": 1,
   "metadata": {},
   "outputs": [],
   "source": [
    "import os\n",
    "import pandas as pd\n",
    "import numpy as np"
   ]
  },
  {
   "cell_type": "code",
   "execution_count": 2,
   "metadata": {},
   "outputs": [],
   "source": [
    "from typing import Any, Callable, Iterable, Optional, Sequence, Union"
   ]
  },
  {
   "cell_type": "code",
   "execution_count": 14,
   "metadata": {},
   "outputs": [],
   "source": [
    "from nltk.metrics import masi_distance\n",
    "from collections import Counter\n",
    "from nltk.metrics import agreement\n",
    "from nltk.metrics.agreement import AnnotationTask"
   ]
  },
  {
   "cell_type": "code",
   "execution_count": 4,
   "metadata": {},
   "outputs": [],
   "source": [
    "import re\n",
    "\n",
    "def depersonalize(text):\n",
    "    text = str(text)\n",
    "    url_regex = r\"(?i)\\b((?:https?://|www\\d{0,3}[.]|[a-z0-9.\\-]+[.][a-z]{2,4}/)(?:[^\\s()<>]+|\\(([^\\s()<>]+|(\\([^\\s()<>]+\\)))*\\))+(?:\\(([^\\s()<>]+|(\\([^\\s()<>]+\\)))*\\)|[^\\s`!()\\[\\]{};:'\\\".,<>?«»“”‘’]))\"\n",
    "    text= re.sub(url_regex, \"url\", text)\n",
    "    text = re.sub(\"id[\\d]*\",'',text)\n",
    "    text = re.sub(\"> ?\",'',text)\n",
    "    text = re.sub(\"@[\\w]*\",'',text)\n",
    "#     text = re.sub(\"\\+[\\d]*\", \"\", text)\n",
    "    text = re.sub(\"[\\d]+\", \"NUMBER\", text)\n",
    "    text = re.sub(\">>\", \"\", text)\n",
    "#     text = re.sub(\"[\\d]{3,100}\", \"\", text)\n",
    "    text = re.sub(\"[\\t|\\n|\\r]\", \"\", text)\n",
    "    text = re.sub(\"[(OP)|url|nickname|phone_number]\", \"\", text)\n",
    "    return text"
   ]
  },
  {
   "cell_type": "code",
   "execution_count": 5,
   "metadata": {},
   "outputs": [],
   "source": [
    "df_sensitive = pd.read_csv(\"sensitive_topics_vs_source.csv\")"
   ]
  },
  {
   "cell_type": "code",
   "execution_count": 11,
   "metadata": {},
   "outputs": [],
   "source": [
    "df_sensitive_toloka = df_sensitive[df_sensitive['source'] == 'toloka']\n",
    "toloka_trtes_set = set(df_sensitive[df_sensitive['source']=='toloka_trtest']['text'])"
   ]
  },
  {
   "cell_type": "code",
   "execution_count": 7,
   "metadata": {},
   "outputs": [
    {
     "data": {
      "text/plain": [
       "9278"
      ]
     },
     "execution_count": 7,
     "metadata": {},
     "output_type": "execute_result"
    }
   ],
   "source": [
    "len(df_sensitive_toloka)"
   ]
  },
  {
   "cell_type": "code",
   "execution_count": 8,
   "metadata": {},
   "outputs": [
    {
     "data": {
      "text/plain": [
       "9278"
      ]
     },
     "execution_count": 8,
     "metadata": {},
     "output_type": "execute_result"
    }
   ],
   "source": [
    "df_sensitive_toloka_texts_set = set(df_sensitive_toloka['text'])\n",
    "len(df_sensitive_toloka_texts_set)"
   ]
  },
  {
   "cell_type": "code",
   "execution_count": 17,
   "metadata": {},
   "outputs": [],
   "source": [
    "class color:\n",
    "   PURPLE = '\\033[95m'\n",
    "   CYAN = '\\033[96m'\n",
    "   DARKCYAN = '\\033[36m'\n",
    "   BLUE = '\\033[94m'\n",
    "   GREEN = '\\033[92m'\n",
    "   YELLOW = '\\033[93m'\n",
    "   RED = '\\033[91m'\n",
    "   BOLD = '\\033[1m'\n",
    "   UNDERLINE = '\\033[4m'\n",
    "   END = '\\033[0m'"
   ]
  },
  {
   "cell_type": "code",
   "execution_count": 16,
   "metadata": {},
   "outputs": [
    {
     "name": "stdout",
     "output_type": "stream",
     "text": [
      "====================================================================================================\n",
      "before dropping trtest ... 12705\n",
      "after dropping trtest ... 10006\n",
      "before dropping low conf ... 10006\n",
      "after dropping low conf ... 7668\n",
      "====================================================================================================\n",
      "before dropping trtest ... 15009\n",
      "after dropping trtest ... 12250\n",
      "before dropping low conf ... 12250\n",
      "after dropping low conf ... 8540\n",
      "====================================================================================================\n",
      "before dropping trtest ... 16934\n",
      "after dropping trtest ... 13810\n",
      "before dropping low conf ... 13810\n",
      "after dropping low conf ... 8641\n"
     ]
    }
   ],
   "source": [
    "def calc_agreement_nltk(df_group):\n",
    "    worker2id = {}\n",
    "    for pair in df_group['ASSIGNMENT:worker_id'].tolist():\n",
    "        if pair not in worker2id:\n",
    "            worker2id[pair] = len(worker2id)\n",
    "    df_group['worker_idx'] = df_group['ASSIGNMENT:worker_id'].map(worker2id)\n",
    "    \n",
    "    text2ids = {}\n",
    "    for t in set(df_group['INPUT:text'].tolist()):\n",
    "        if t not in text2ids:\n",
    "            text2ids[t] = len(text2ids)\n",
    "    df_group['text_idx'] = df_group['INPUT:text'].map(text2ids)\n",
    "    ids2text = {idx:text for text,idx in text2ids.items()}\n",
    "    \n",
    "    reply_columns = [c for c in df_group.columns if 'OUTPUT' in c]\n",
    "    \n",
    "    collected_data = []\n",
    "    item_idx_dict = {}\n",
    "    \n",
    "    for i,el in df_group.iterrows():\n",
    "        coder_idx = el['worker_idx']\n",
    "        \n",
    "        item_idx = el['text_idx']\n",
    "        \n",
    "        if item_idx in item_idx_dict:\n",
    "            item_idx_dict[item_idx] += 1\n",
    "        else:\n",
    "            item_idx_dict[item_idx] = 1\n",
    "            \n",
    "        labels_list = []\n",
    "        for repl in reply_columns:\n",
    "            if el[repl] == True:\n",
    "                labels_list.append(repl[7:])\n",
    "\n",
    "        if len(labels_list) == 0: labels_list = ['none']\n",
    "        collected_triplet = (coder_idx,item_idx,frozenset(labels_list))\n",
    "        collected_data.append(collected_triplet)\n",
    "        \n",
    "    task = AnnotationTask(distance = masi_distance)\n",
    "    \n",
    "    task.load_array(collected_data)\n",
    "    \n",
    "    return task.alpha() #,\n",
    "\n",
    "def get_high_conf_texts(df_hc, thrsh):\n",
    "    confidnece_columns = []\n",
    "    for c in df_hc.columns:\n",
    "        if 'CONFIDENCE' in c:\n",
    "            df_hc[c] = df_hc[c].apply(lambda x: float(x[:-1])/100)\n",
    "            confidnece_columns.append(c)\n",
    "            \n",
    "    df_hc['meet_req'] = df_hc.apply(lambda x: all([x[c] > thrsh for c in confidnece_columns]), axis = 1)\n",
    "    \n",
    "    return set(df_hc[df_hc['meet_req'] == True]['INPUT:text'])\n",
    "    \n",
    "def get_aggr_batch_with_filtering(batch_name, drop_unconfident_thrsh = None, \n",
    "                                  drop_traintest_examples = False, print_output = False, drop_trtest = True):\n",
    "    if batch_name == 'first': \n",
    "        raw_files = ['g1r.tsv','g2r.tsv','g3r.tsv']\n",
    "    elif batch_name == 'fourth':\n",
    "        raw_files = ['g1_4r.tsv','g2_4r.tsv','g3_4r.tsv']\n",
    "    elif batch_name == 'old':\n",
    "        raw_files = ['maybe_old/g1r.tsv','maybe_old/g2r.tsv']\n",
    "    \n",
    "    engaged_texts= set()\n",
    "   \n",
    "    collected_agreements = []\n",
    "\n",
    "    for i, file in enumerate(raw_files):\n",
    "        if print_output == True: print(\"=\"*100)\n",
    "        batch_path = \"./directly_from_toloka/\"+file\n",
    "        df_curr_common= pd.read_csv(batch_path, sep = '\\t')\n",
    "        \n",
    "        if drop_trtest == True:\n",
    "            if print_output == True: print(\"before dropping trtest ...\", len(df_curr_common))\n",
    "            df_curr_common = df_curr_common[~df_curr_common['INPUT:text'].isin(toloka_trtes_set)]#!!\n",
    "            if print_output == True: print(\"after dropping trtest ...\", len(df_curr_common))\n",
    "            \n",
    "        if drop_unconfident_thrsh:\n",
    "            file_agg = re.sub('r','',file)\n",
    "            batch_path_agg = \"./directly_from_toloka/\"+file_agg\n",
    "            df_curr_agg = pd.read_csv(batch_path_agg, sep = '\\t')\n",
    "        \n",
    "            current_high_conf_texts = get_high_conf_texts(df_curr_agg, drop_unconfident_thrsh)\n",
    "            \n",
    "            if print_output == True: print(\"before dropping low conf ...\", len(df_curr_common))\n",
    "            df_curr_common = df_curr_common[df_curr_common['INPUT:text'].isin(current_high_conf_texts)]\n",
    "            if print_output == True: print(\"after dropping low conf ...\", len(df_curr_common))\n",
    "                \n",
    "        engaged_texts = engaged_texts.union(set(df_curr_common['INPUT:text']))\n",
    "        \n",
    "        columns_to_merge = [c for c in df_curr_common.columns if c == 'INPUT:text' or 'OUTPUT' in c  or c =='ASSIGNMENT:worker_id']\n",
    "        df_curr_common = df_curr_common[columns_to_merge]\n",
    "        \n",
    "        alpha_curr = calc_agreement_nltk(df_curr_common)\n",
    "            \n",
    "        collected_agreements.append(alpha_curr)\n",
    "            \n",
    "    return collected_agreements, engaged_texts\n",
    "\n",
    "aggr, eng_txts = get_aggr_batch_with_filtering('first',drop_unconfident_thrsh = 0.8, print_output = True)"
   ]
  },
  {
   "cell_type": "code",
   "execution_count": 83,
   "metadata": {},
   "outputs": [
    {
     "data": {
      "text/plain": [
       "([0.39641539683044824, 0.6211801748074177, 0.39857040655455145], 2289)"
      ]
     },
     "execution_count": 83,
     "metadata": {},
     "output_type": "execute_result"
    }
   ],
   "source": [
    "aggr, len(eng_txts)"
   ]
  },
  {
   "cell_type": "code",
   "execution_count": 84,
   "metadata": {},
   "outputs": [
    {
     "name": "stdout",
     "output_type": "stream",
     "text": [
      "====================================================================================================\n",
      "before dropping trtest ... 12705\n",
      "after dropping trtest ... 10006\n",
      "before dropping low conf ... 10006\n",
      "after dropping low conf ... 7668\n",
      "====================================================================================================\n",
      "before dropping trtest ... 15009\n",
      "after dropping trtest ... 12250\n",
      "before dropping low conf ... 12250\n",
      "after dropping low conf ... 8540\n",
      "====================================================================================================\n",
      "before dropping trtest ... 16934\n",
      "after dropping trtest ... 13810\n",
      "before dropping low conf ... 13810\n",
      "after dropping low conf ... 8641\n",
      "====================================================================================================\n",
      "before dropping trtest ... 33186\n",
      "after dropping trtest ... 27715\n",
      "before dropping low conf ... 27715\n",
      "after dropping low conf ... 19448\n",
      "====================================================================================================\n",
      "before dropping trtest ... 39363\n",
      "after dropping trtest ... 33894\n",
      "before dropping low conf ... 33894\n",
      "after dropping low conf ... 25467\n",
      "====================================================================================================\n",
      "before dropping trtest ... 27241\n",
      "after dropping trtest ... 23246\n",
      "before dropping low conf ... 23246\n",
      "after dropping low conf ... 16550\n",
      "====================================================================================================\n",
      "before dropping trtest ... 8666\n",
      "after dropping trtest ... 8042\n",
      "before dropping low conf ... 8042\n",
      "after dropping low conf ... 3969\n",
      "====================================================================================================\n",
      "before dropping trtest ... 3898\n",
      "after dropping trtest ... 3678\n",
      "before dropping low conf ... 3678\n",
      "after dropping low conf ... 2203\n"
     ]
    }
   ],
   "source": [
    "def get_filter_stats_from_all_batches(drop_unconfident_thrsh, batches = ['first','fourth','old'],drop_trtest=True):\n",
    "    \n",
    "    collected_agreements_no_pruned = []\n",
    "    \n",
    "    texts_set = set ()\n",
    "    for batch in batches:#\n",
    "        aggr_lst_curr, eng_txts_curr = get_aggr_batch_with_filtering(batch, \n",
    "                                                                     drop_unconfident_thrsh = drop_unconfident_thrsh,\n",
    "                                                                    drop_trtest = drop_trtest)\n",
    "        collected_agreements_no_pruned.extend(aggr_lst_curr)\n",
    "        \n",
    "        texts_set = texts_set.union(eng_txts_curr)\n",
    "    \n",
    "    return np.mean(aggr_lst_curr), texts_set\n",
    "    \n",
    "agrmnt, alltxtx = get_filter_stats_from_all_batches(0.8)"
   ]
  },
  {
   "cell_type": "code",
   "execution_count": 85,
   "metadata": {
    "scrolled": true
   },
   "outputs": [
    {
     "data": {
      "text/plain": [
       "(0.4744957067281021, 8694)"
      ]
     },
     "execution_count": 85,
     "metadata": {},
     "output_type": "execute_result"
    }
   ],
   "source": [
    "agrmnt, len(alltxtx)"
   ]
  },
  {
   "cell_type": "raw",
   "metadata": {},
   "source": [
    "ЗНАЧЕНИЯ БЕЗ ИСПОЛЬЗВАНИЯ СТАРОГО БАТЧА (НО ПРИ ЭТОМ ТЕРЯЕТСЯ ПОКРТИЕ ЗАЯВЛЕННОЙ ТОЛОКИ)\n",
    "(0.6154409816812249, 0.4973849218904598, 7009, 0.5033888322235552, 7000)\n",
    "\n",
    "ЗНАЧЕНИЯ С ИСПОЛЬЗОВАНИЕМ СТАРОГО БАЧТА (СОГЛАСОВАННОСТЬ ЛУЧШЕ, НО ТОЛОКА ПОКРЫВАЕТСЯ ТОЛЬКО НА 60 ПРОЦ)\n",
    "(0.5300340415816449, 0.42408801155211906, 10130, 0.42859094430194056, 10129)\n",
    "\n",
    "ЗНАЧЕНИЯ С ИСПОЛЬЗОВАНИЕМ СТАРОГО БАЧТА но исходная согласованность подсчитывается через nltk пакет\n",
    "(0.5694888889975732, 0.42408801155211906, 10130, 0.42859094430194056, 10129)"
   ]
  },
  {
   "cell_type": "code",
   "execution_count": 86,
   "metadata": {},
   "outputs": [],
   "source": [
    "def check_different_filtering_options(batches = ['first','fourth','old'], drop_trtest = True):\n",
    "    data = []\n",
    "    for ds_thrsh_curr in [0.95,0.98]:\n",
    "        agg, engaged_txt = get_filter_stats_from_all_batches(batches = batches, drop_unconfident_thrsh = ds_thrsh_curr, drop_trtest = drop_trtest)\n",
    "        \n",
    "        data.append([ds_thrsh_curr, agg, len(engaged_txt)])\n",
    "    df_rep = pd.DataFrame(data = data, columns = ['threshold','agreeement_via_threshold','all_engaged_texts'])\n",
    "    return df_rep"
   ]
  },
  {
   "cell_type": "code",
   "execution_count": 87,
   "metadata": {},
   "outputs": [
    {
     "name": "stdout",
     "output_type": "stream",
     "text": [
      "====================================================================================================\n",
      "before dropping trtest ... 12705\n",
      "after dropping trtest ... 10006\n",
      "before dropping low conf ... 10006\n",
      "after dropping low conf ... 7649\n",
      "====================================================================================================\n",
      "before dropping trtest ... 15009\n",
      "after dropping trtest ... 12250\n",
      "before dropping low conf ... 12250\n",
      "after dropping low conf ... 7797\n",
      "====================================================================================================\n",
      "before dropping trtest ... 16934\n",
      "after dropping trtest ... 13810\n",
      "before dropping low conf ... 13810\n",
      "after dropping low conf ... 6870\n",
      "====================================================================================================\n",
      "before dropping trtest ... 33186\n",
      "after dropping trtest ... 27715\n",
      "before dropping low conf ... 27715\n",
      "after dropping low conf ... 15187\n",
      "====================================================================================================\n",
      "before dropping trtest ... 39363\n",
      "after dropping trtest ... 33894\n",
      "before dropping low conf ... 33894\n",
      "after dropping low conf ... 23329\n",
      "====================================================================================================\n",
      "before dropping trtest ... 27241\n",
      "after dropping trtest ... 23246\n",
      "before dropping low conf ... 23246\n",
      "after dropping low conf ... 14049\n",
      "====================================================================================================\n",
      "before dropping trtest ... 8666\n",
      "after dropping trtest ... 8042\n",
      "before dropping low conf ... 8042\n",
      "after dropping low conf ... 1972\n",
      "====================================================================================================\n",
      "before dropping trtest ... 3898\n",
      "after dropping trtest ... 3678\n",
      "before dropping low conf ... 3678\n",
      "after dropping low conf ... 1296\n",
      "====================================================================================================\n",
      "before dropping trtest ... 12705\n",
      "after dropping trtest ... 10006\n",
      "before dropping low conf ... 10006\n",
      "after dropping low conf ... 7642\n",
      "====================================================================================================\n",
      "before dropping trtest ... 15009\n",
      "after dropping trtest ... 12250\n",
      "before dropping low conf ... 12250\n",
      "after dropping low conf ... 6612\n",
      "====================================================================================================\n",
      "before dropping trtest ... 16934\n",
      "after dropping trtest ... 13810\n",
      "before dropping low conf ... 13810\n",
      "after dropping low conf ... 5897\n",
      "====================================================================================================\n",
      "before dropping trtest ... 33186\n",
      "after dropping trtest ... 27715\n",
      "before dropping low conf ... 27715\n",
      "after dropping low conf ... 12322\n",
      "====================================================================================================\n",
      "before dropping trtest ... 39363\n",
      "after dropping trtest ... 33894\n",
      "before dropping low conf ... 33894\n",
      "after dropping low conf ... 21717\n",
      "====================================================================================================\n",
      "before dropping trtest ... 27241\n",
      "after dropping trtest ... 23246\n",
      "before dropping low conf ... 23246\n",
      "after dropping low conf ... 12303\n",
      "====================================================================================================\n",
      "before dropping trtest ... 8666\n",
      "after dropping trtest ... 8042\n",
      "before dropping low conf ... 8042\n",
      "after dropping low conf ... 1093\n",
      "====================================================================================================\n",
      "before dropping trtest ... 3898\n",
      "after dropping trtest ... 3678\n",
      "before dropping low conf ... 3678\n",
      "after dropping low conf ... 967\n"
     ]
    },
    {
     "data": {
      "text/html": [
       "<div>\n",
       "<style scoped>\n",
       "    .dataframe tbody tr th:only-of-type {\n",
       "        vertical-align: middle;\n",
       "    }\n",
       "\n",
       "    .dataframe tbody tr th {\n",
       "        vertical-align: top;\n",
       "    }\n",
       "\n",
       "    .dataframe thead th {\n",
       "        text-align: right;\n",
       "    }\n",
       "</style>\n",
       "<table border=\"1\" class=\"dataframe\">\n",
       "  <thead>\n",
       "    <tr style=\"text-align: right;\">\n",
       "      <th></th>\n",
       "      <th>threshold</th>\n",
       "      <th>agreeement_via_threshold</th>\n",
       "      <th>all_engaged_texts</th>\n",
       "    </tr>\n",
       "  </thead>\n",
       "  <tbody>\n",
       "    <tr>\n",
       "      <th>0</th>\n",
       "      <td>0.95</td>\n",
       "      <td>0.608286</td>\n",
       "      <td>7610</td>\n",
       "    </tr>\n",
       "    <tr>\n",
       "      <th>1</th>\n",
       "      <td>0.98</td>\n",
       "      <td>0.669712</td>\n",
       "      <td>7066</td>\n",
       "    </tr>\n",
       "  </tbody>\n",
       "</table>\n",
       "</div>"
      ],
      "text/plain": [
       "   threshold  agreeement_via_threshold  all_engaged_texts\n",
       "0       0.95                  0.608286               7610\n",
       "1       0.98                  0.669712               7066"
      ]
     },
     "execution_count": 87,
     "metadata": {},
     "output_type": "execute_result"
    }
   ],
   "source": [
    "df_no_trtes_rep = check_different_filtering_options(drop_trtest=True)\n",
    "df_no_trtes_rep.head()"
   ]
  },
  {
   "cell_type": "code",
   "execution_count": 80,
   "metadata": {},
   "outputs": [
    {
     "data": {
      "text/html": [
       "<div>\n",
       "<style scoped>\n",
       "    .dataframe tbody tr th:only-of-type {\n",
       "        vertical-align: middle;\n",
       "    }\n",
       "\n",
       "    .dataframe tbody tr th {\n",
       "        vertical-align: top;\n",
       "    }\n",
       "\n",
       "    .dataframe thead th {\n",
       "        text-align: right;\n",
       "    }\n",
       "</style>\n",
       "<table border=\"1\" class=\"dataframe\">\n",
       "  <thead>\n",
       "    <tr style=\"text-align: right;\">\n",
       "      <th></th>\n",
       "      <th>threshold</th>\n",
       "      <th>agreeement_via_threshold</th>\n",
       "      <th>all_engaged_texts</th>\n",
       "    </tr>\n",
       "  </thead>\n",
       "  <tbody>\n",
       "    <tr>\n",
       "      <th>0</th>\n",
       "      <td>0.95</td>\n",
       "      <td>0.606345</td>\n",
       "      <td>7804</td>\n",
       "    </tr>\n",
       "    <tr>\n",
       "      <th>1</th>\n",
       "      <td>0.98</td>\n",
       "      <td>0.667156</td>\n",
       "      <td>7247</td>\n",
       "    </tr>\n",
       "  </tbody>\n",
       "</table>\n",
       "</div>"
      ],
      "text/plain": [
       "   threshold  agreeement_via_threshold  all_engaged_texts\n",
       "0       0.95                  0.606345               7804\n",
       "1       0.98                  0.667156               7247"
      ]
     },
     "execution_count": 80,
     "metadata": {},
     "output_type": "execute_result"
    }
   ],
   "source": [
    "df = check_different_filtering_options(batches = 'first','fourth')\n",
    "df.head()"
   ]
  },
  {
   "cell_type": "code",
   "execution_count": null,
   "metadata": {},
   "outputs": [],
   "source": []
  },
  {
   "cell_type": "code",
   "execution_count": null,
   "metadata": {},
   "outputs": [],
   "source": []
  }
 ],
 "metadata": {
  "kernelspec": {
   "display_name": "Python 3",
   "language": "python",
   "name": "python3"
  },
  "language_info": {
   "codemirror_mode": {
    "name": "ipython",
    "version": 3
   },
   "file_extension": ".py",
   "mimetype": "text/x-python",
   "name": "python",
   "nbconvert_exporter": "python",
   "pygments_lexer": "ipython3",
   "version": "3.8.10"
  }
 },
 "nbformat": 4,
 "nbformat_minor": 4
}
