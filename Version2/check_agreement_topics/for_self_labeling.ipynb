{
 "cells": [
  {
   "cell_type": "code",
   "execution_count": 19,
   "metadata": {},
   "outputs": [],
   "source": [
    "import pandas as pd\n",
    "from collections import Counter"
   ]
  },
  {
   "cell_type": "code",
   "execution_count": 20,
   "metadata": {},
   "outputs": [],
   "source": [
    "df_sens = pd.read_csv(\"sensitive_topics_vs_source.csv\")"
   ]
  },
  {
   "cell_type": "code",
   "execution_count": 21,
   "metadata": {},
   "outputs": [
    {
     "data": {
      "text/plain": [
       "Counter({'toloka': 9291, 'trtest': 378, 'self': 1978, 'kw': 21656})"
      ]
     },
     "execution_count": 21,
     "metadata": {},
     "output_type": "execute_result"
    }
   ],
   "source": [
    "Counter(df_sens['source'])"
   ]
  },
  {
   "cell_type": "code",
   "execution_count": 22,
   "metadata": {},
   "outputs": [],
   "source": [
    "topics = ['offline_crime', 'online_crime', 'drugs', 'gambling', 'pornography',\n",
    "       'prostitution', 'slavery', 'suicide', 'terrorism', 'weapons',\n",
    "       'body_shaming', 'health_shaming', 'politics', 'racism', 'religion',\n",
    "       'sexual_minorities', 'sexism', 'social_injustice']"
   ]
  },
  {
   "cell_type": "code",
   "execution_count": 23,
   "metadata": {
    "scrolled": false
   },
   "outputs": [
    {
     "data": {
      "text/html": [
       "<div>\n",
       "<style scoped>\n",
       "    .dataframe tbody tr th:only-of-type {\n",
       "        vertical-align: middle;\n",
       "    }\n",
       "\n",
       "    .dataframe tbody tr th {\n",
       "        vertical-align: top;\n",
       "    }\n",
       "\n",
       "    .dataframe thead th {\n",
       "        text-align: right;\n",
       "    }\n",
       "</style>\n",
       "<table border=\"1\" class=\"dataframe\">\n",
       "  <thead>\n",
       "    <tr style=\"text-align: right;\">\n",
       "      <th></th>\n",
       "      <th>text</th>\n",
       "      <th>offline_crime</th>\n",
       "      <th>online_crime</th>\n",
       "      <th>drugs</th>\n",
       "      <th>gambling</th>\n",
       "      <th>pornography</th>\n",
       "      <th>prostitution</th>\n",
       "      <th>slavery</th>\n",
       "      <th>suicide</th>\n",
       "      <th>terrorism</th>\n",
       "      <th>weapons</th>\n",
       "      <th>body_shaming</th>\n",
       "      <th>health_shaming</th>\n",
       "      <th>politics</th>\n",
       "      <th>racism</th>\n",
       "      <th>religion</th>\n",
       "      <th>sexual_minorities</th>\n",
       "      <th>sexism</th>\n",
       "      <th>social_injustice</th>\n",
       "      <th>source</th>\n",
       "    </tr>\n",
       "  </thead>\n",
       "  <tbody>\n",
       "    <tr>\n",
       "      <th>0</th>\n",
       "      <td>РРРРРРЯЯЯЯЯЯЯ РУССКИЕ ВАНЬКИ НИКОМУ НЕ НУЖНЫ!!...</td>\n",
       "      <td>0.0</td>\n",
       "      <td>0.0</td>\n",
       "      <td>0.0</td>\n",
       "      <td>0.0</td>\n",
       "      <td>0.0</td>\n",
       "      <td>0.00</td>\n",
       "      <td>0.0</td>\n",
       "      <td>0.0</td>\n",
       "      <td>0.0</td>\n",
       "      <td>0.0</td>\n",
       "      <td>0.0</td>\n",
       "      <td>0.0</td>\n",
       "      <td>0.0</td>\n",
       "      <td>1.0</td>\n",
       "      <td>0.0</td>\n",
       "      <td>0.0</td>\n",
       "      <td>1.0</td>\n",
       "      <td>0.0</td>\n",
       "      <td>toloka</td>\n",
       "    </tr>\n",
       "    <tr>\n",
       "      <th>1</th>\n",
       "      <td>По моему, быдло тот кто осуждает чужие предпоч...</td>\n",
       "      <td>0.0</td>\n",
       "      <td>0.0</td>\n",
       "      <td>0.0</td>\n",
       "      <td>0.0</td>\n",
       "      <td>1.0</td>\n",
       "      <td>0.80</td>\n",
       "      <td>0.0</td>\n",
       "      <td>0.0</td>\n",
       "      <td>0.0</td>\n",
       "      <td>0.0</td>\n",
       "      <td>0.0</td>\n",
       "      <td>0.0</td>\n",
       "      <td>0.0</td>\n",
       "      <td>0.0</td>\n",
       "      <td>0.0</td>\n",
       "      <td>0.0</td>\n",
       "      <td>1.0</td>\n",
       "      <td>0.0</td>\n",
       "      <td>toloka</td>\n",
       "    </tr>\n",
       "    <tr>\n",
       "      <th>2</th>\n",
       "      <td>Бабы это вообще безхуйные сиськастые ссущие си...</td>\n",
       "      <td>0.0</td>\n",
       "      <td>0.0</td>\n",
       "      <td>0.0</td>\n",
       "      <td>0.0</td>\n",
       "      <td>0.0</td>\n",
       "      <td>0.00</td>\n",
       "      <td>0.0</td>\n",
       "      <td>0.0</td>\n",
       "      <td>0.0</td>\n",
       "      <td>0.0</td>\n",
       "      <td>0.0</td>\n",
       "      <td>0.0</td>\n",
       "      <td>0.0</td>\n",
       "      <td>0.0</td>\n",
       "      <td>0.0</td>\n",
       "      <td>0.0</td>\n",
       "      <td>1.0</td>\n",
       "      <td>0.0</td>\n",
       "      <td>trtest</td>\n",
       "    </tr>\n",
       "    <tr>\n",
       "      <th>3</th>\n",
       "      <td>изнасиловалиа говорила что девственницаЯ так д...</td>\n",
       "      <td>0.0</td>\n",
       "      <td>0.0</td>\n",
       "      <td>0.0</td>\n",
       "      <td>0.0</td>\n",
       "      <td>1.0</td>\n",
       "      <td>0.00</td>\n",
       "      <td>0.0</td>\n",
       "      <td>0.0</td>\n",
       "      <td>0.0</td>\n",
       "      <td>0.0</td>\n",
       "      <td>0.0</td>\n",
       "      <td>0.0</td>\n",
       "      <td>0.0</td>\n",
       "      <td>0.0</td>\n",
       "      <td>0.0</td>\n",
       "      <td>0.0</td>\n",
       "      <td>1.0</td>\n",
       "      <td>0.0</td>\n",
       "      <td>trtest</td>\n",
       "    </tr>\n",
       "    <tr>\n",
       "      <th>4</th>\n",
       "      <td>и что ? не сосут только уебищные тни, видосов ...</td>\n",
       "      <td>0.0</td>\n",
       "      <td>0.0</td>\n",
       "      <td>0.0</td>\n",
       "      <td>0.0</td>\n",
       "      <td>1.0</td>\n",
       "      <td>0.75</td>\n",
       "      <td>0.0</td>\n",
       "      <td>0.0</td>\n",
       "      <td>0.0</td>\n",
       "      <td>0.0</td>\n",
       "      <td>0.0</td>\n",
       "      <td>0.0</td>\n",
       "      <td>0.0</td>\n",
       "      <td>0.0</td>\n",
       "      <td>0.0</td>\n",
       "      <td>0.0</td>\n",
       "      <td>1.0</td>\n",
       "      <td>0.0</td>\n",
       "      <td>toloka</td>\n",
       "    </tr>\n",
       "  </tbody>\n",
       "</table>\n",
       "</div>"
      ],
      "text/plain": [
       "                                                text  offline_crime  \\\n",
       "0  РРРРРРЯЯЯЯЯЯЯ РУССКИЕ ВАНЬКИ НИКОМУ НЕ НУЖНЫ!!...            0.0   \n",
       "1  По моему, быдло тот кто осуждает чужие предпоч...            0.0   \n",
       "2  Бабы это вообще безхуйные сиськастые ссущие си...            0.0   \n",
       "3  изнасиловалиа говорила что девственницаЯ так д...            0.0   \n",
       "4  и что ? не сосут только уебищные тни, видосов ...            0.0   \n",
       "\n",
       "   online_crime  drugs  gambling  pornography  prostitution  slavery  suicide  \\\n",
       "0           0.0    0.0       0.0          0.0          0.00      0.0      0.0   \n",
       "1           0.0    0.0       0.0          1.0          0.80      0.0      0.0   \n",
       "2           0.0    0.0       0.0          0.0          0.00      0.0      0.0   \n",
       "3           0.0    0.0       0.0          1.0          0.00      0.0      0.0   \n",
       "4           0.0    0.0       0.0          1.0          0.75      0.0      0.0   \n",
       "\n",
       "   terrorism  weapons  body_shaming  health_shaming  politics  racism  \\\n",
       "0        0.0      0.0           0.0             0.0       0.0     1.0   \n",
       "1        0.0      0.0           0.0             0.0       0.0     0.0   \n",
       "2        0.0      0.0           0.0             0.0       0.0     0.0   \n",
       "3        0.0      0.0           0.0             0.0       0.0     0.0   \n",
       "4        0.0      0.0           0.0             0.0       0.0     0.0   \n",
       "\n",
       "   religion  sexual_minorities  sexism  social_injustice  source  \n",
       "0       0.0                0.0     1.0               0.0  toloka  \n",
       "1       0.0                0.0     1.0               0.0  toloka  \n",
       "2       0.0                0.0     1.0               0.0  trtest  \n",
       "3       0.0                0.0     1.0               0.0  trtest  \n",
       "4       0.0                0.0     1.0               0.0  toloka  "
      ]
     },
     "execution_count": 23,
     "metadata": {},
     "output_type": "execute_result"
    }
   ],
   "source": [
    "df_sens.head()"
   ]
  },
  {
   "cell_type": "code",
   "execution_count": 24,
   "metadata": {},
   "outputs": [],
   "source": [
    "def get_self_check_df(target_df):\n",
    "    collected_df_list = []\n",
    "    for t in topics:\n",
    "        df_c = target_df[target_df[t] > 0.8][:10]\n",
    "        topics_curr = [t] * len(df_c)\n",
    "        df_c['topic'] = topics_curr\n",
    "        df_c = df_c[['text','topic']]\n",
    "        collected_df_list.append(df_c)\n",
    "    df_check = pd.concat(collected_df_list)      \n",
    "    df_check.drop_duplicates(subset = ['text'], inplace = True)\n",
    "    return df_check\n",
    "    "
   ]
  },
  {
   "cell_type": "code",
   "execution_count": 25,
   "metadata": {},
   "outputs": [],
   "source": [
    "df_sens_kw = df_sens[df_sens['source'] == 'kw']"
   ]
  },
  {
   "cell_type": "code",
   "execution_count": 26,
   "metadata": {},
   "outputs": [],
   "source": [
    "df_sens_kw_for_check = get_self_check_df(df_sens_kw)"
   ]
  },
  {
   "cell_type": "code",
   "execution_count": 27,
   "metadata": {
    "scrolled": true
   },
   "outputs": [
    {
     "data": {
      "text/plain": [
       "(173,\n",
       " Counter({'offline_crime': 10,\n",
       "          'online_crime': 10,\n",
       "          'drugs': 10,\n",
       "          'gambling': 10,\n",
       "          'pornography': 10,\n",
       "          'prostitution': 10,\n",
       "          'slavery': 10,\n",
       "          'suicide': 10,\n",
       "          'terrorism': 10,\n",
       "          'weapons': 10,\n",
       "          'body_shaming': 10,\n",
       "          'health_shaming': 10,\n",
       "          'politics': 8,\n",
       "          'racism': 8,\n",
       "          'religion': 10,\n",
       "          'sexual_minorities': 9,\n",
       "          'sexism': 10,\n",
       "          'social_injustice': 8}))"
      ]
     },
     "execution_count": 27,
     "metadata": {},
     "output_type": "execute_result"
    }
   ],
   "source": [
    "len(df_sens_kw_for_check), Counter(df_sens_kw_for_check['topic'])"
   ]
  },
  {
   "cell_type": "code",
   "execution_count": 28,
   "metadata": {},
   "outputs": [],
   "source": [
    "df_sens_kw_for_check.to_csv(\"check_keywords_lables.csv\",index = None)"
   ]
  },
  {
   "cell_type": "code",
   "execution_count": 29,
   "metadata": {},
   "outputs": [],
   "source": [
    "df_self = df_sens[df_sens['source'] == 'self']"
   ]
  },
  {
   "cell_type": "code",
   "execution_count": 30,
   "metadata": {},
   "outputs": [],
   "source": [
    "df_self_for_check = get_self_check_df(df_self)"
   ]
  },
  {
   "cell_type": "code",
   "execution_count": 31,
   "metadata": {
    "scrolled": true
   },
   "outputs": [
    {
     "data": {
      "text/plain": [
       "(101,\n",
       " Counter({'offline_crime': 10,\n",
       "          'online_crime': 10,\n",
       "          'drugs': 10,\n",
       "          'gambling': 1,\n",
       "          'pornography': 10,\n",
       "          'prostitution': 1,\n",
       "          'slavery': 2,\n",
       "          'suicide': 10,\n",
       "          'terrorism': 2,\n",
       "          'weapons': 4,\n",
       "          'body_shaming': 1,\n",
       "          'health_shaming': 10,\n",
       "          'politics': 9,\n",
       "          'sexual_minorities': 1,\n",
       "          'sexism': 10,\n",
       "          'social_injustice': 10}))"
      ]
     },
     "execution_count": 31,
     "metadata": {},
     "output_type": "execute_result"
    }
   ],
   "source": [
    "len(df_self_for_check), Counter(df_self_for_check['topic'])"
   ]
  },
  {
   "cell_type": "code",
   "execution_count": 32,
   "metadata": {},
   "outputs": [],
   "source": [
    "df_self_for_check.to_csv(\"check_self_lables.csv\",index = None)"
   ]
  },
  {
   "cell_type": "code",
   "execution_count": 33,
   "metadata": {},
   "outputs": [],
   "source": [
    "df_toloka_high_conf = pd.read_csv(\"TOLOKA_high_conf_for_verification.csv\")"
   ]
  },
  {
   "cell_type": "code",
   "execution_count": 34,
   "metadata": {},
   "outputs": [],
   "source": [
    "df_toloka_high_conf_for_check = get_self_check_df(df_toloka_high_conf)"
   ]
  },
  {
   "cell_type": "code",
   "execution_count": 35,
   "metadata": {},
   "outputs": [
    {
     "data": {
      "text/plain": [
       "(158,\n",
       " Counter({'offline_crime': 10,\n",
       "          'online_crime': 10,\n",
       "          'drugs': 10,\n",
       "          'gambling': 6,\n",
       "          'pornography': 9,\n",
       "          'prostitution': 8,\n",
       "          'slavery': 9,\n",
       "          'suicide': 10,\n",
       "          'terrorism': 10,\n",
       "          'weapons': 8,\n",
       "          'body_shaming': 10,\n",
       "          'health_shaming': 10,\n",
       "          'politics': 8,\n",
       "          'racism': 8,\n",
       "          'religion': 7,\n",
       "          'sexual_minorities': 8,\n",
       "          'sexism': 8,\n",
       "          'social_injustice': 9}))"
      ]
     },
     "execution_count": 35,
     "metadata": {},
     "output_type": "execute_result"
    }
   ],
   "source": [
    "len(df_toloka_high_conf_for_check), Counter(df_toloka_high_conf_for_check['topic'])"
   ]
  },
  {
   "cell_type": "code",
   "execution_count": 36,
   "metadata": {},
   "outputs": [],
   "source": [
    "df_toloka_high_conf_for_check.to_csv(\"check_toloka_high_conf_lables.csv\", index = None)"
   ]
  },
  {
   "cell_type": "markdown",
   "metadata": {},
   "source": [
    "# Восполнение полноты ключевых слов"
   ]
  },
  {
   "cell_type": "code",
   "execution_count": 37,
   "metadata": {},
   "outputs": [],
   "source": [
    "import os\n",
    "import pandas as pd"
   ]
  },
  {
   "cell_type": "code",
   "execution_count": 43,
   "metadata": {},
   "outputs": [],
   "source": [
    "folder = './gr3_kw_self'\n",
    "collected_df = []\n",
    "for f in os.listdir(folder):\n",
    "    if 'nokw' in f:\n",
    "        topic = f.split(\"_\")[:-1]\n",
    "        pth = os.path.join(folder,f)\n",
    "        df_c = pd.read_csv(pth)\n",
    "        df_c = df_c.sample(150, random_state = 1)\n",
    "        \n",
    "        df_c['topic'] = ['_'.join(topic)] * len(df_c)\n",
    "        collected_df.append(df_c)\n",
    "        \n",
    "collected_df = pd.concat(collected_df)\n"
   ]
  },
  {
   "cell_type": "code",
   "execution_count": 44,
   "metadata": {},
   "outputs": [
    {
     "data": {
      "text/html": [
       "<div>\n",
       "<style scoped>\n",
       "    .dataframe tbody tr th:only-of-type {\n",
       "        vertical-align: middle;\n",
       "    }\n",
       "\n",
       "    .dataframe tbody tr th {\n",
       "        vertical-align: top;\n",
       "    }\n",
       "\n",
       "    .dataframe thead th {\n",
       "        text-align: right;\n",
       "    }\n",
       "</style>\n",
       "<table border=\"1\" class=\"dataframe\">\n",
       "  <thead>\n",
       "    <tr style=\"text-align: right;\">\n",
       "      <th></th>\n",
       "      <th>processed</th>\n",
       "      <th>topic</th>\n",
       "    </tr>\n",
       "  </thead>\n",
       "  <tbody>\n",
       "    <tr>\n",
       "      <th>6317</th>\n",
       "      <td>Удлинители бывают различных видов: металличес...</td>\n",
       "      <td>halth_shaming</td>\n",
       "    </tr>\n",
       "    <tr>\n",
       "      <th>27538</th>\n",
       "      <td>1 степень - способность к общению со снижение...</td>\n",
       "      <td>halth_shaming</td>\n",
       "    </tr>\n",
       "    <tr>\n",
       "      <th>99732</th>\n",
       "      <td>Просто получается что любви то у тебя и нет и...</td>\n",
       "      <td>halth_shaming</td>\n",
       "    </tr>\n",
       "    <tr>\n",
       "      <th>33892</th>\n",
       "      <td>Ну если ты за  жрал гавно и кормил комаров то...</td>\n",
       "      <td>halth_shaming</td>\n",
       "    </tr>\n",
       "    <tr>\n",
       "      <th>96338</th>\n",
       "      <td>... или я уже ничего не понимаю.</td>\n",
       "      <td>halth_shaming</td>\n",
       "    </tr>\n",
       "  </tbody>\n",
       "</table>\n",
       "</div>"
      ],
      "text/plain": [
       "                                               processed          topic\n",
       "6317    Удлинители бывают различных видов: металличес...  halth_shaming\n",
       "27538   1 степень - способность к общению со снижение...  halth_shaming\n",
       "99732   Просто получается что любви то у тебя и нет и...  halth_shaming\n",
       "33892   Ну если ты за  жрал гавно и кормил комаров то...  halth_shaming\n",
       "96338                 ... или я уже ничего не понимаю.    halth_shaming"
      ]
     },
     "execution_count": 44,
     "metadata": {},
     "output_type": "execute_result"
    }
   ],
   "source": [
    "collected_df.head()"
   ]
  },
  {
   "cell_type": "code",
   "execution_count": 46,
   "metadata": {},
   "outputs": [],
   "source": [
    "collected_df.to_csv(\"no_keyword_spec_forums_for_self_label.csv\", index = None)"
   ]
  },
  {
   "cell_type": "code",
   "execution_count": null,
   "metadata": {},
   "outputs": [],
   "source": []
  }
 ],
 "metadata": {
  "kernelspec": {
   "display_name": "Python 3",
   "language": "python",
   "name": "python3"
  },
  "language_info": {
   "codemirror_mode": {
    "name": "ipython",
    "version": 3
   },
   "file_extension": ".py",
   "mimetype": "text/x-python",
   "name": "python",
   "nbconvert_exporter": "python",
   "pygments_lexer": "ipython3",
   "version": "3.8.10"
  }
 },
 "nbformat": 4,
 "nbformat_minor": 4
}
