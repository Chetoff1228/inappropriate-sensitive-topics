{
 "cells": [
  {
   "cell_type": "code",
   "execution_count": 9,
   "metadata": {},
   "outputs": [],
   "source": [
    "import pandas as pd\n",
    "from collections import Counter"
   ]
  },
  {
   "cell_type": "markdown",
   "metadata": {},
   "source": [
    "# Согласованность на самостоятельно размеченных"
   ]
  },
  {
   "cell_type": "raw",
   "metadata": {},
   "source": [
    "https://scikit-learn.org/stable/modules/generated/sklearn.metrics.cohen_kappa_score.html#r219a3b9132e1-1"
   ]
  },
  {
   "cell_type": "raw",
   "metadata": {},
   "source": [
    "The kappa score (see docstring) is a number between -1 and 1. Scores above .8 are generally considered good agreement; zero or lower means no agreement (practically random labels)."
   ]
  },
  {
   "cell_type": "code",
   "execution_count": 3,
   "metadata": {},
   "outputs": [],
   "source": [
    "df_sens = pd.read_csv(\"sensitive_topics_vers3.csv\")"
   ]
  },
  {
   "cell_type": "code",
   "execution_count": 11,
   "metadata": {},
   "outputs": [],
   "source": [
    "df_sens_self = df_sens[df_sens['source'] == 'self']"
   ]
  },
  {
   "cell_type": "code",
   "execution_count": 10,
   "metadata": {},
   "outputs": [
    {
     "data": {
      "text/plain": [
       "Counter({'toloka': 8766,\n",
       "         'trtest': 378,\n",
       "         'self': 1978,\n",
       "         'kw': 21656,\n",
       "         'toloka_real_manual_relabel': 526,\n",
       "         'no_kw_manual_relabel': 600})"
      ]
     },
     "execution_count": 10,
     "metadata": {},
     "output_type": "execute_result"
    }
   ],
   "source": [
    "Counter(df_sens['source'])"
   ]
  },
  {
   "cell_type": "code",
   "execution_count": 4,
   "metadata": {},
   "outputs": [
    {
     "data": {
      "text/plain": [
       "Index(['text', 'offline_crime', 'online_crime', 'drugs', 'gambling',\n",
       "       'pornography', 'prostitution', 'slavery', 'suicide', 'terrorism',\n",
       "       'weapons', 'body_shaming', 'health_shaming', 'politics', 'racism',\n",
       "       'religion', 'sexual_minorities', 'sexism', 'social_injustice',\n",
       "       'source'],\n",
       "      dtype='object')"
      ]
     },
     "execution_count": 4,
     "metadata": {},
     "output_type": "execute_result"
    }
   ],
   "source": [
    "df_sens.columns"
   ]
  },
  {
   "cell_type": "code",
   "execution_count": 16,
   "metadata": {},
   "outputs": [
    {
     "data": {
      "text/plain": [
       "['offline_crime',\n",
       " 'online_crime',\n",
       " 'drugs',\n",
       " 'gambling',\n",
       " 'pornography',\n",
       " 'prostitution',\n",
       " 'slavery',\n",
       " 'suicide',\n",
       " 'terrorism',\n",
       " 'weapons',\n",
       " 'body_shaming',\n",
       " 'health_shaming',\n",
       " 'politics',\n",
       " 'racism',\n",
       " 'religion',\n",
       " 'sexual_minorities',\n",
       " 'sexism',\n",
       " 'social_injustice']"
      ]
     },
     "execution_count": 16,
     "metadata": {},
     "output_type": "execute_result"
    }
   ],
   "source": [
    "topics = list(df_sens_self.columns[1:-1])\n",
    "topics"
   ]
  },
  {
   "cell_type": "code",
   "execution_count": 29,
   "metadata": {},
   "outputs": [
    {
     "name": "stderr",
     "output_type": "stream",
     "text": [
      "<ipython-input-29-b07134c5fe98>:1: SettingWithCopyWarning: \n",
      "A value is trying to be set on a copy of a slice from a DataFrame.\n",
      "Try using .loc[row_indexer,col_indexer] = value instead\n",
      "\n",
      "See the caveats in the documentation: https://pandas.pydata.org/pandas-docs/stable/user_guide/indexing.html#returning-a-view-versus-a-copy\n",
      "  df_sens_self['topic_num'] = df_sens_self.apply(lambda x: len([t for t in topics if x[t] > 0.8]), axis = 1)\n"
     ]
    }
   ],
   "source": [
    "df_sens_self['topic_num'] = df_sens_self.apply(lambda x: len([t for t in topics if x[t] > 0.8]), axis = 1)"
   ]
  },
  {
   "cell_type": "code",
   "execution_count": 30,
   "metadata": {},
   "outputs": [
    {
     "data": {
      "text/plain": [
       "Counter({1: 1271, 0: 703, 2: 4})"
      ]
     },
     "execution_count": 30,
     "metadata": {},
     "output_type": "execute_result"
    }
   ],
   "source": [
    "Counter(df_sens_self['topic_num'])"
   ]
  },
  {
   "cell_type": "code",
   "execution_count": 18,
   "metadata": {},
   "outputs": [
    {
     "name": "stderr",
     "output_type": "stream",
     "text": [
      "<ipython-input-18-7c6040b727da>:1: SettingWithCopyWarning: \n",
      "A value is trying to be set on a copy of a slice from a DataFrame.\n",
      "Try using .loc[row_indexer,col_indexer] = value instead\n",
      "\n",
      "See the caveats in the documentation: https://pandas.pydata.org/pandas-docs/stable/user_guide/indexing.html#returning-a-view-versus-a-copy\n",
      "  df_sens_self['named_topics'] = df_sens_self.apply(lambda x: ','.join([t for t in topics if x[t] > 0.8]), axis = 1)\n"
     ]
    }
   ],
   "source": [
    "df_sens_self['named_topics'] = df_sens_self.apply(lambda x: ','.join([t for t in topics if x[t] > 0.8]), axis = 1)"
   ]
  },
  {
   "cell_type": "code",
   "execution_count": 19,
   "metadata": {},
   "outputs": [
    {
     "data": {
      "text/html": [
       "<div>\n",
       "<style scoped>\n",
       "    .dataframe tbody tr th:only-of-type {\n",
       "        vertical-align: middle;\n",
       "    }\n",
       "\n",
       "    .dataframe tbody tr th {\n",
       "        vertical-align: top;\n",
       "    }\n",
       "\n",
       "    .dataframe thead th {\n",
       "        text-align: right;\n",
       "    }\n",
       "</style>\n",
       "<table border=\"1\" class=\"dataframe\">\n",
       "  <thead>\n",
       "    <tr style=\"text-align: right;\">\n",
       "      <th></th>\n",
       "      <th>text</th>\n",
       "      <th>offline_crime</th>\n",
       "      <th>online_crime</th>\n",
       "      <th>drugs</th>\n",
       "      <th>gambling</th>\n",
       "      <th>pornography</th>\n",
       "      <th>prostitution</th>\n",
       "      <th>slavery</th>\n",
       "      <th>suicide</th>\n",
       "      <th>terrorism</th>\n",
       "      <th>...</th>\n",
       "      <th>body_shaming</th>\n",
       "      <th>health_shaming</th>\n",
       "      <th>politics</th>\n",
       "      <th>racism</th>\n",
       "      <th>religion</th>\n",
       "      <th>sexual_minorities</th>\n",
       "      <th>sexism</th>\n",
       "      <th>social_injustice</th>\n",
       "      <th>source</th>\n",
       "      <th>named_topics</th>\n",
       "    </tr>\n",
       "  </thead>\n",
       "  <tbody>\n",
       "    <tr>\n",
       "      <th>607</th>\n",
       "      <td>Зачем мужчины покупают себе крутые автомобили?...</td>\n",
       "      <td>0.0</td>\n",
       "      <td>0.0</td>\n",
       "      <td>0.0</td>\n",
       "      <td>0.0</td>\n",
       "      <td>0.0</td>\n",
       "      <td>0.0</td>\n",
       "      <td>0.0</td>\n",
       "      <td>0.0</td>\n",
       "      <td>0.0</td>\n",
       "      <td>...</td>\n",
       "      <td>0.0</td>\n",
       "      <td>0.0</td>\n",
       "      <td>0.0</td>\n",
       "      <td>0.0</td>\n",
       "      <td>0.0</td>\n",
       "      <td>0.0</td>\n",
       "      <td>1.0</td>\n",
       "      <td>0.0</td>\n",
       "      <td>self</td>\n",
       "      <td>sexism</td>\n",
       "    </tr>\n",
       "    <tr>\n",
       "      <th>608</th>\n",
       "      <td>идея не новая.... большевики-революционеры, хо...</td>\n",
       "      <td>0.0</td>\n",
       "      <td>0.0</td>\n",
       "      <td>0.0</td>\n",
       "      <td>0.0</td>\n",
       "      <td>0.0</td>\n",
       "      <td>0.0</td>\n",
       "      <td>0.0</td>\n",
       "      <td>0.0</td>\n",
       "      <td>0.0</td>\n",
       "      <td>...</td>\n",
       "      <td>0.0</td>\n",
       "      <td>0.0</td>\n",
       "      <td>0.8</td>\n",
       "      <td>0.0</td>\n",
       "      <td>0.0</td>\n",
       "      <td>0.0</td>\n",
       "      <td>1.0</td>\n",
       "      <td>0.0</td>\n",
       "      <td>self</td>\n",
       "      <td>sexism</td>\n",
       "    </tr>\n",
       "    <tr>\n",
       "      <th>609</th>\n",
       "      <td>Какое бл.ять резюме,вы там оба чтоли ку ку?не ...</td>\n",
       "      <td>0.0</td>\n",
       "      <td>0.0</td>\n",
       "      <td>0.0</td>\n",
       "      <td>0.0</td>\n",
       "      <td>0.0</td>\n",
       "      <td>0.0</td>\n",
       "      <td>0.0</td>\n",
       "      <td>0.0</td>\n",
       "      <td>0.0</td>\n",
       "      <td>...</td>\n",
       "      <td>0.0</td>\n",
       "      <td>0.0</td>\n",
       "      <td>0.0</td>\n",
       "      <td>0.0</td>\n",
       "      <td>0.0</td>\n",
       "      <td>0.0</td>\n",
       "      <td>1.0</td>\n",
       "      <td>0.0</td>\n",
       "      <td>self</td>\n",
       "      <td>sexism</td>\n",
       "    </tr>\n",
       "    <tr>\n",
       "      <th>610</th>\n",
       "      <td>Да какой там мужик? У него обязанности посуду ...</td>\n",
       "      <td>0.0</td>\n",
       "      <td>0.0</td>\n",
       "      <td>0.0</td>\n",
       "      <td>0.0</td>\n",
       "      <td>0.0</td>\n",
       "      <td>0.0</td>\n",
       "      <td>0.0</td>\n",
       "      <td>0.0</td>\n",
       "      <td>0.0</td>\n",
       "      <td>...</td>\n",
       "      <td>0.0</td>\n",
       "      <td>0.0</td>\n",
       "      <td>0.0</td>\n",
       "      <td>0.0</td>\n",
       "      <td>0.0</td>\n",
       "      <td>0.0</td>\n",
       "      <td>1.0</td>\n",
       "      <td>0.0</td>\n",
       "      <td>self</td>\n",
       "      <td>sexism</td>\n",
       "    </tr>\n",
       "    <tr>\n",
       "      <th>611</th>\n",
       "      <td>Не ты че я же девочка</td>\n",
       "      <td>0.0</td>\n",
       "      <td>0.0</td>\n",
       "      <td>0.0</td>\n",
       "      <td>0.0</td>\n",
       "      <td>0.0</td>\n",
       "      <td>0.0</td>\n",
       "      <td>0.0</td>\n",
       "      <td>0.0</td>\n",
       "      <td>0.0</td>\n",
       "      <td>...</td>\n",
       "      <td>0.0</td>\n",
       "      <td>0.0</td>\n",
       "      <td>0.0</td>\n",
       "      <td>0.0</td>\n",
       "      <td>0.0</td>\n",
       "      <td>0.0</td>\n",
       "      <td>1.0</td>\n",
       "      <td>0.0</td>\n",
       "      <td>self</td>\n",
       "      <td>sexism</td>\n",
       "    </tr>\n",
       "  </tbody>\n",
       "</table>\n",
       "<p>5 rows × 21 columns</p>\n",
       "</div>"
      ],
      "text/plain": [
       "                                                  text  offline_crime  \\\n",
       "607  Зачем мужчины покупают себе крутые автомобили?...            0.0   \n",
       "608  идея не новая.... большевики-революционеры, хо...            0.0   \n",
       "609  Какое бл.ять резюме,вы там оба чтоли ку ку?не ...            0.0   \n",
       "610  Да какой там мужик? У него обязанности посуду ...            0.0   \n",
       "611                              Не ты че я же девочка            0.0   \n",
       "\n",
       "     online_crime  drugs  gambling  pornography  prostitution  slavery  \\\n",
       "607           0.0    0.0       0.0          0.0           0.0      0.0   \n",
       "608           0.0    0.0       0.0          0.0           0.0      0.0   \n",
       "609           0.0    0.0       0.0          0.0           0.0      0.0   \n",
       "610           0.0    0.0       0.0          0.0           0.0      0.0   \n",
       "611           0.0    0.0       0.0          0.0           0.0      0.0   \n",
       "\n",
       "     suicide  terrorism  ...  body_shaming  health_shaming  politics  racism  \\\n",
       "607      0.0        0.0  ...           0.0             0.0       0.0     0.0   \n",
       "608      0.0        0.0  ...           0.0             0.0       0.8     0.0   \n",
       "609      0.0        0.0  ...           0.0             0.0       0.0     0.0   \n",
       "610      0.0        0.0  ...           0.0             0.0       0.0     0.0   \n",
       "611      0.0        0.0  ...           0.0             0.0       0.0     0.0   \n",
       "\n",
       "     religion  sexual_minorities  sexism  social_injustice  source  \\\n",
       "607       0.0                0.0     1.0               0.0    self   \n",
       "608       0.0                0.0     1.0               0.0    self   \n",
       "609       0.0                0.0     1.0               0.0    self   \n",
       "610       0.0                0.0     1.0               0.0    self   \n",
       "611       0.0                0.0     1.0               0.0    self   \n",
       "\n",
       "    named_topics  \n",
       "607       sexism  \n",
       "608       sexism  \n",
       "609       sexism  \n",
       "610       sexism  \n",
       "611       sexism  \n",
       "\n",
       "[5 rows x 21 columns]"
      ]
     },
     "execution_count": 19,
     "metadata": {},
     "output_type": "execute_result"
    }
   ],
   "source": [
    "df_sens_self.head()"
   ]
  },
  {
   "cell_type": "code",
   "execution_count": 20,
   "metadata": {},
   "outputs": [],
   "source": [
    "df_sens_self_only_source = df_sens_self[['text','named_topics']]"
   ]
  },
  {
   "cell_type": "code",
   "execution_count": 7,
   "metadata": {},
   "outputs": [],
   "source": [
    "df_varvara_self = pd.read_csv(\"check_self_lables - Varvara.csv\")"
   ]
  },
  {
   "cell_type": "code",
   "execution_count": 8,
   "metadata": {},
   "outputs": [
    {
     "data": {
      "text/html": [
       "<div>\n",
       "<style scoped>\n",
       "    .dataframe tbody tr th:only-of-type {\n",
       "        vertical-align: middle;\n",
       "    }\n",
       "\n",
       "    .dataframe tbody tr th {\n",
       "        vertical-align: top;\n",
       "    }\n",
       "\n",
       "    .dataframe thead th {\n",
       "        text-align: right;\n",
       "    }\n",
       "</style>\n",
       "<table border=\"1\" class=\"dataframe\">\n",
       "  <thead>\n",
       "    <tr style=\"text-align: right;\">\n",
       "      <th></th>\n",
       "      <th>text</th>\n",
       "      <th>topic</th>\n",
       "      <th>Unnamed: 2</th>\n",
       "      <th>Unnamed: 3</th>\n",
       "    </tr>\n",
       "  </thead>\n",
       "  <tbody>\n",
       "    <tr>\n",
       "      <th>0</th>\n",
       "      <td>У знакомого есть офигенные муравьи. Мы им к...</td>\n",
       "      <td>offline_crime</td>\n",
       "      <td>offline_crime</td>\n",
       "      <td>NaN</td>\n",
       "    </tr>\n",
       "    <tr>\n",
       "      <th>1</th>\n",
       "      <td>-проникновения инородных предметов в тело. ост...</td>\n",
       "      <td>weapons</td>\n",
       "      <td>health_shaming</td>\n",
       "      <td>NaN</td>\n",
       "    </tr>\n",
       "    <tr>\n",
       "      <th>2</th>\n",
       "      <td>…Опять завыла собака. Я решился подойти к окну...</td>\n",
       "      <td>weapons</td>\n",
       "      <td>health_shaming</td>\n",
       "      <td>weapons</td>\n",
       "    </tr>\n",
       "    <tr>\n",
       "      <th>3</th>\n",
       "      <td>.S пройдена проверка на авторитетных бордах.</td>\n",
       "      <td>health_shaming</td>\n",
       "      <td>online_crime</td>\n",
       "      <td>NaN</td>\n",
       "    </tr>\n",
       "    <tr>\n",
       "      <th>4</th>\n",
       "      <td>Istg:-автоматически зарегистрированные аккаунт...</td>\n",
       "      <td>online_crime</td>\n",
       "      <td>online_crime</td>\n",
       "      <td>NaN</td>\n",
       "    </tr>\n",
       "  </tbody>\n",
       "</table>\n",
       "</div>"
      ],
      "text/plain": [
       "                                                text           topic  \\\n",
       "0     У знакомого есть офигенные муравьи. Мы им к...   offline_crime   \n",
       "1  -проникновения инородных предметов в тело. ост...         weapons   \n",
       "2  …Опять завыла собака. Я решился подойти к окну...         weapons   \n",
       "3       .S пройдена проверка на авторитетных бордах.  health_shaming   \n",
       "4  Istg:-автоматически зарегистрированные аккаунт...    online_crime   \n",
       "\n",
       "       Unnamed: 2 Unnamed: 3  \n",
       "0   offline_crime        NaN  \n",
       "1  health_shaming        NaN  \n",
       "2  health_shaming    weapons  \n",
       "3    online_crime        NaN  \n",
       "4    online_crime        NaN  "
      ]
     },
     "execution_count": 8,
     "metadata": {},
     "output_type": "execute_result"
    }
   ],
   "source": [
    "df_varvara_self.head()"
   ]
  },
  {
   "cell_type": "code",
   "execution_count": 12,
   "metadata": {},
   "outputs": [
    {
     "data": {
      "text/plain": [
       "Counter({True: 101})"
      ]
     },
     "execution_count": 12,
     "metadata": {},
     "output_type": "execute_result"
    }
   ],
   "source": [
    "Counter(df_varvara_self['text'].isin(df_sens_self['text']))"
   ]
  },
  {
   "cell_type": "code",
   "execution_count": 21,
   "metadata": {},
   "outputs": [],
   "source": [
    "df_varvara_self_joined = df_varvara_self.merge(df_sens_self_only_source, on = 'text',how = 'left')"
   ]
  },
  {
   "cell_type": "code",
   "execution_count": 22,
   "metadata": {},
   "outputs": [
    {
     "data": {
      "text/html": [
       "<div>\n",
       "<style scoped>\n",
       "    .dataframe tbody tr th:only-of-type {\n",
       "        vertical-align: middle;\n",
       "    }\n",
       "\n",
       "    .dataframe tbody tr th {\n",
       "        vertical-align: top;\n",
       "    }\n",
       "\n",
       "    .dataframe thead th {\n",
       "        text-align: right;\n",
       "    }\n",
       "</style>\n",
       "<table border=\"1\" class=\"dataframe\">\n",
       "  <thead>\n",
       "    <tr style=\"text-align: right;\">\n",
       "      <th></th>\n",
       "      <th>text</th>\n",
       "      <th>topic</th>\n",
       "      <th>Unnamed: 2</th>\n",
       "      <th>Unnamed: 3</th>\n",
       "      <th>named_topics</th>\n",
       "    </tr>\n",
       "  </thead>\n",
       "  <tbody>\n",
       "    <tr>\n",
       "      <th>0</th>\n",
       "      <td>У знакомого есть офигенные муравьи. Мы им к...</td>\n",
       "      <td>offline_crime</td>\n",
       "      <td>offline_crime</td>\n",
       "      <td>NaN</td>\n",
       "      <td>offline_crime</td>\n",
       "    </tr>\n",
       "    <tr>\n",
       "      <th>1</th>\n",
       "      <td>-проникновения инородных предметов в тело. ост...</td>\n",
       "      <td>weapons</td>\n",
       "      <td>health_shaming</td>\n",
       "      <td>NaN</td>\n",
       "      <td>weapons</td>\n",
       "    </tr>\n",
       "    <tr>\n",
       "      <th>2</th>\n",
       "      <td>…Опять завыла собака. Я решился подойти к окну...</td>\n",
       "      <td>weapons</td>\n",
       "      <td>health_shaming</td>\n",
       "      <td>weapons</td>\n",
       "      <td>weapons</td>\n",
       "    </tr>\n",
       "    <tr>\n",
       "      <th>3</th>\n",
       "      <td>.S пройдена проверка на авторитетных бордах.</td>\n",
       "      <td>health_shaming</td>\n",
       "      <td>online_crime</td>\n",
       "      <td>NaN</td>\n",
       "      <td>health_shaming</td>\n",
       "    </tr>\n",
       "    <tr>\n",
       "      <th>4</th>\n",
       "      <td>Istg:-автоматически зарегистрированные аккаунт...</td>\n",
       "      <td>online_crime</td>\n",
       "      <td>online_crime</td>\n",
       "      <td>NaN</td>\n",
       "      <td>online_crime</td>\n",
       "    </tr>\n",
       "  </tbody>\n",
       "</table>\n",
       "</div>"
      ],
      "text/plain": [
       "                                                text           topic  \\\n",
       "0     У знакомого есть офигенные муравьи. Мы им к...   offline_crime   \n",
       "1  -проникновения инородных предметов в тело. ост...         weapons   \n",
       "2  …Опять завыла собака. Я решился подойти к окну...         weapons   \n",
       "3       .S пройдена проверка на авторитетных бордах.  health_shaming   \n",
       "4  Istg:-автоматически зарегистрированные аккаунт...    online_crime   \n",
       "\n",
       "       Unnamed: 2 Unnamed: 3    named_topics  \n",
       "0   offline_crime        NaN   offline_crime  \n",
       "1  health_shaming        NaN         weapons  \n",
       "2  health_shaming    weapons         weapons  \n",
       "3    online_crime        NaN  health_shaming  \n",
       "4    online_crime        NaN    online_crime  "
      ]
     },
     "execution_count": 22,
     "metadata": {},
     "output_type": "execute_result"
    }
   ],
   "source": [
    "df_varvara_self_joined.head()"
   ]
  },
  {
   "cell_type": "code",
   "execution_count": 23,
   "metadata": {},
   "outputs": [
    {
     "data": {
      "text/plain": [
       "Counter({'offline_crime': 10,\n",
       "         'weapons': 4,\n",
       "         'health_shaming': 10,\n",
       "         'online_crime': 10,\n",
       "         'sexism': 10,\n",
       "         'politics': 9,\n",
       "         'suicide': 10,\n",
       "         'prostitution': 1,\n",
       "         'social_injustice': 10,\n",
       "         'drugs': 10,\n",
       "         'slavery': 2,\n",
       "         'pornography': 10,\n",
       "         'body_shaming': 1,\n",
       "         'terrorism': 2,\n",
       "         'sexual_minorities': 1,\n",
       "         'gambling': 1})"
      ]
     },
     "execution_count": 23,
     "metadata": {},
     "output_type": "execute_result"
    }
   ],
   "source": [
    "Counter(df_varvara_self_joined['named_topics'])"
   ]
  },
  {
   "cell_type": "code",
   "execution_count": 25,
   "metadata": {},
   "outputs": [
    {
     "data": {
      "text/plain": [
       "Counter({True: 101})"
      ]
     },
     "execution_count": 25,
     "metadata": {},
     "output_type": "execute_result"
    }
   ],
   "source": [
    "Counter(df_varvara_self_joined['topic'] == df_varvara_self_joined['named_topics'])"
   ]
  },
  {
   "cell_type": "code",
   "execution_count": 27,
   "metadata": {},
   "outputs": [
    {
     "data": {
      "text/plain": [
       "0.6850198946123239"
      ]
     },
     "execution_count": 27,
     "metadata": {},
     "output_type": "execute_result"
    }
   ],
   "source": [
    "from sklearn.metrics import cohen_kappa_score\n",
    "# y_true = [2, 0, 2, 2, 0, 1]\n",
    "# y_pred = [0, 0, 2, 2, 0, 2]\n",
    "\n",
    "y_true = df_varvara_self_joined['topic'].tolist()\n",
    "y_pred = df_varvara_self_joined['Unnamed: 2'].tolist()\n",
    "\n",
    "cohen_kappa_score(y_true, y_pred)"
   ]
  },
  {
   "cell_type": "code",
   "execution_count": 28,
   "metadata": {},
   "outputs": [],
   "source": [
    "from nltk.metrics.agreement import AnnotationTask\n",
    "from nltk.metrics import masi_distance"
   ]
  },
  {
   "cell_type": "code",
   "execution_count": 35,
   "metadata": {},
   "outputs": [
    {
     "data": {
      "text/plain": [
       "0.6584675135528764"
      ]
     },
     "execution_count": 35,
     "metadata": {},
     "output_type": "execute_result"
    }
   ],
   "source": [
    "collected_data = []\n",
    "for item_idx,el in df_varvara_self_joined.iterrows():\n",
    "    for coder_idx,label in zip([0,1],[el['topic'],el['Unnamed: 2']]):\n",
    "        collected_triplet = (coder_idx,item_idx,label)#frozenset(labels_list\n",
    "        collected_data.append(collected_triplet)\n",
    "                              \n",
    "task = AnnotationTask()\n",
    "    \n",
    "task.load_array(collected_data)\n",
    "\n",
    "task.alpha()"
   ]
  },
  {
   "cell_type": "markdown",
   "metadata": {},
   "source": [
    "# Согласованность по ключевым словам"
   ]
  },
  {
   "cell_type": "code",
   "execution_count": 38,
   "metadata": {},
   "outputs": [],
   "source": [
    "df_kw_lbl = pd.read_csv(\"check_keywords_lables - check_keywords_lables.csv\")"
   ]
  },
  {
   "cell_type": "code",
   "execution_count": 39,
   "metadata": {},
   "outputs": [
    {
     "data": {
      "text/html": [
       "<div>\n",
       "<style scoped>\n",
       "    .dataframe tbody tr th:only-of-type {\n",
       "        vertical-align: middle;\n",
       "    }\n",
       "\n",
       "    .dataframe tbody tr th {\n",
       "        vertical-align: top;\n",
       "    }\n",
       "\n",
       "    .dataframe thead th {\n",
       "        text-align: right;\n",
       "    }\n",
       "</style>\n",
       "<table border=\"1\" class=\"dataframe\">\n",
       "  <thead>\n",
       "    <tr style=\"text-align: right;\">\n",
       "      <th></th>\n",
       "      <th>text</th>\n",
       "      <th>topic</th>\n",
       "      <th>nikolay_1</th>\n",
       "      <th>nikolay_2</th>\n",
       "      <th>varvara_1</th>\n",
       "      <th>varvara_2</th>\n",
       "    </tr>\n",
       "  </thead>\n",
       "  <tbody>\n",
       "    <tr>\n",
       "      <th>0</th>\n",
       "      <td>, NUMBER,NUMBER годпа прошло примерно, никто в...</td>\n",
       "      <td>offline_crime</td>\n",
       "      <td>offline_crime</td>\n",
       "      <td>NaN</td>\n",
       "      <td>offline_crime</td>\n",
       "      <td>NaN</td>\n",
       "    </tr>\n",
       "    <tr>\n",
       "      <th>1</th>\n",
       "      <td>\"Аполлония, немного помолившись, отошла в стор...</td>\n",
       "      <td>religion</td>\n",
       "      <td>suicide</td>\n",
       "      <td>NaN</td>\n",
       "      <td>religion</td>\n",
       "      <td>NaN</td>\n",
       "    </tr>\n",
       "    <tr>\n",
       "      <th>2</th>\n",
       "      <td>\"Давай на спор\" - такие передачи делают из нас...</td>\n",
       "      <td>pornography</td>\n",
       "      <td>pornography</td>\n",
       "      <td>NaN</td>\n",
       "      <td>social_injustice</td>\n",
       "      <td>NaN</td>\n",
       "    </tr>\n",
       "    <tr>\n",
       "      <th>3</th>\n",
       "      <td>\"Хороший\" товарищ Конечно ему понравилось, что...</td>\n",
       "      <td>online_crime</td>\n",
       "      <td>gambling</td>\n",
       "      <td>NaN</td>\n",
       "      <td>gambling</td>\n",
       "      <td>online_crime</td>\n",
       "    </tr>\n",
       "    <tr>\n",
       "      <th>4</th>\n",
       "      <td>NUMBER Кто сказал, что ты некрасивая?</td>\n",
       "      <td>body_shaming</td>\n",
       "      <td>body_shaming</td>\n",
       "      <td>NaN</td>\n",
       "      <td>body_shaming</td>\n",
       "      <td>NaN</td>\n",
       "    </tr>\n",
       "  </tbody>\n",
       "</table>\n",
       "</div>"
      ],
      "text/plain": [
       "                                                text          topic  \\\n",
       "0  , NUMBER,NUMBER годпа прошло примерно, никто в...  offline_crime   \n",
       "1  \"Аполлония, немного помолившись, отошла в стор...       religion   \n",
       "2  \"Давай на спор\" - такие передачи делают из нас...    pornography   \n",
       "3  \"Хороший\" товарищ Конечно ему понравилось, что...   online_crime   \n",
       "4              NUMBER Кто сказал, что ты некрасивая?   body_shaming   \n",
       "\n",
       "       nikolay_1 nikolay_2         varvara_1     varvara_2  \n",
       "0  offline_crime       NaN     offline_crime           NaN  \n",
       "1        suicide       NaN          religion           NaN  \n",
       "2    pornography       NaN  social_injustice           NaN  \n",
       "3       gambling       NaN          gambling  online_crime  \n",
       "4   body_shaming       NaN      body_shaming           NaN  "
      ]
     },
     "execution_count": 39,
     "metadata": {},
     "output_type": "execute_result"
    }
   ],
   "source": [
    "df_kw_lbl.head()"
   ]
  },
  {
   "cell_type": "code",
   "execution_count": 42,
   "metadata": {},
   "outputs": [
    {
     "data": {
      "text/plain": [
       "0.5330396588794728"
      ]
     },
     "execution_count": 42,
     "metadata": {},
     "output_type": "execute_result"
    }
   ],
   "source": [
    "collected_data = []\n",
    "for item_idx,el in df_kw_lbl.iterrows():\n",
    "    for coder_name, coder_idx in zip(['nikolay','varvara'],[0,1]):\n",
    "        labels_list = []\n",
    "        for lbl_idx in ['1','2']:\n",
    "            columns_name  = coder_name + '_' + lbl_idx\n",
    "            vote = el[columns_name]\n",
    "            if isinstance(vote, str):\n",
    "                labels_list.append(vote)\n",
    "        if len(labels_list) == 0:\n",
    "            labels_list.append('none')\n",
    "        \n",
    "        collected_triplet = (coder_idx,item_idx,frozenset(labels_list))#\n",
    "        collected_data.append(collected_triplet)\n",
    "                              \n",
    "task = AnnotationTask(distance = masi_distance)\n",
    "    \n",
    "task.load_array(collected_data)\n",
    "\n",
    "task.alpha()"
   ]
  },
  {
   "cell_type": "code",
   "execution_count": 44,
   "metadata": {},
   "outputs": [],
   "source": [
    "df_kw_lbl['is_one_expert_match'] = df_kw_lbl.apply(lambda x: any([n == v for n in x[['nikolay_1','nikolay_2']] for v in x[['varvara_1','varvara_2']]]), \n",
    "                                                  axis = 1)"
   ]
  },
  {
   "cell_type": "code",
   "execution_count": 48,
   "metadata": {},
   "outputs": [
    {
     "data": {
      "text/plain": [
       "0.7398843930635838"
      ]
     },
     "execution_count": 48,
     "metadata": {},
     "output_type": "execute_result"
    }
   ],
   "source": [
    "len(df_kw_lbl[df_kw_lbl['is_one_expert_match'] == True])/len(df_kw_lbl)"
   ]
  },
  {
   "cell_type": "code",
   "execution_count": 47,
   "metadata": {},
   "outputs": [
    {
     "data": {
      "text/plain": [
       "Counter({True: 128, False: 45})"
      ]
     },
     "execution_count": 47,
     "metadata": {},
     "output_type": "execute_result"
    }
   ],
   "source": [
    "Counter(df_kw_lbl['is_one_expert_match'])"
   ]
  },
  {
   "cell_type": "code",
   "execution_count": 64,
   "metadata": {},
   "outputs": [
    {
     "data": {
      "text/html": [
       "<div>\n",
       "<style scoped>\n",
       "    .dataframe tbody tr th:only-of-type {\n",
       "        vertical-align: middle;\n",
       "    }\n",
       "\n",
       "    .dataframe tbody tr th {\n",
       "        vertical-align: top;\n",
       "    }\n",
       "\n",
       "    .dataframe thead th {\n",
       "        text-align: right;\n",
       "    }\n",
       "</style>\n",
       "<table border=\"1\" class=\"dataframe\">\n",
       "  <thead>\n",
       "    <tr style=\"text-align: right;\">\n",
       "      <th></th>\n",
       "      <th>text</th>\n",
       "      <th>topic</th>\n",
       "      <th>nikolay_1</th>\n",
       "      <th>nikolay_2</th>\n",
       "      <th>varvara_1</th>\n",
       "      <th>varvara_2</th>\n",
       "      <th>is_one_expert_match</th>\n",
       "    </tr>\n",
       "  </thead>\n",
       "  <tbody>\n",
       "    <tr>\n",
       "      <th>132</th>\n",
       "      <td>Сейчас уже идут просрочки и судя по предыдущем...</td>\n",
       "      <td>social_injustice</td>\n",
       "      <td>social_injustice</td>\n",
       "      <td>NaN</td>\n",
       "      <td>social_injustice</td>\n",
       "      <td>NaN</td>\n",
       "      <td>True</td>\n",
       "    </tr>\n",
       "    <tr>\n",
       "      <th>145</th>\n",
       "      <td>Так у него сиськи как у бабы, лол. Смотришь на...</td>\n",
       "      <td>body_shaming</td>\n",
       "      <td>sexual_minorities</td>\n",
       "      <td>NaN</td>\n",
       "      <td>body_shaming</td>\n",
       "      <td>NaN</td>\n",
       "      <td>False</td>\n",
       "    </tr>\n",
       "    <tr>\n",
       "      <th>117</th>\n",
       "      <td>помогите мне ! дайте совет ! как мне поступить...</td>\n",
       "      <td>suicide</td>\n",
       "      <td>suicide</td>\n",
       "      <td>NaN</td>\n",
       "      <td>suicide</td>\n",
       "      <td>NaN</td>\n",
       "      <td>True</td>\n",
       "    </tr>\n",
       "    <tr>\n",
       "      <th>90</th>\n",
       "      <td>Негр или латинос в большинстве своём, жестокий...</td>\n",
       "      <td>terrorism</td>\n",
       "      <td>racism</td>\n",
       "      <td>NaN</td>\n",
       "      <td>racism</td>\n",
       "      <td>offline_crime</td>\n",
       "      <td>True</td>\n",
       "    </tr>\n",
       "  </tbody>\n",
       "</table>\n",
       "</div>"
      ],
      "text/plain": [
       "                                                  text             topic  \\\n",
       "132  Сейчас уже идут просрочки и судя по предыдущем...  social_injustice   \n",
       "145  Так у него сиськи как у бабы, лол. Смотришь на...      body_shaming   \n",
       "117  помогите мне ! дайте совет ! как мне поступить...           suicide   \n",
       "90   Негр или латинос в большинстве своём, жестокий...         terrorism   \n",
       "\n",
       "             nikolay_1 nikolay_2         varvara_1      varvara_2  \\\n",
       "132   social_injustice       NaN  social_injustice            NaN   \n",
       "145  sexual_minorities       NaN      body_shaming            NaN   \n",
       "117            suicide       NaN           suicide            NaN   \n",
       "90              racism       NaN            racism  offline_crime   \n",
       "\n",
       "     is_one_expert_match  \n",
       "132                 True  \n",
       "145                False  \n",
       "117                 True  \n",
       "90                  True  "
      ]
     },
     "execution_count": 64,
     "metadata": {},
     "output_type": "execute_result"
    }
   ],
   "source": [
    "df_kw_lbl.sample(4)"
   ]
  },
  {
   "cell_type": "code",
   "execution_count": 50,
   "metadata": {},
   "outputs": [],
   "source": [
    "df_kw_lbl_somehow_agreed = df_kw_lbl[df_kw_lbl['is_one_expert_match'] == True]"
   ]
  },
  {
   "cell_type": "code",
   "execution_count": 54,
   "metadata": {},
   "outputs": [
    {
     "name": "stderr",
     "output_type": "stream",
     "text": [
      "<ipython-input-54-f4d057cf3152>:1: SettingWithCopyWarning: \n",
      "A value is trying to be set on a copy of a slice from a DataFrame.\n",
      "Try using .loc[row_indexer,col_indexer] = value instead\n",
      "\n",
      "See the caveats in the documentation: https://pandas.pydata.org/pandas-docs/stable/user_guide/indexing.html#returning-a-view-versus-a-copy\n",
      "  df_kw_lbl_somehow_agreed['engaged_topics'] = df_kw_lbl_somehow_agreed.apply(lambda x: set([v for v in x[['nikolay_1','nikolay_2','varvara_1','varvara_2']] if isinstance(v,str)]),\n"
     ]
    }
   ],
   "source": [
    "df_kw_lbl_somehow_agreed['engaged_topics'] = df_kw_lbl_somehow_agreed.apply(lambda x: set([v for v in x[['nikolay_1','nikolay_2','varvara_1','varvara_2']] if isinstance(v,str)]),\n",
    "                                                                           axis = 1)"
   ]
  },
  {
   "cell_type": "code",
   "execution_count": 55,
   "metadata": {},
   "outputs": [
    {
     "data": {
      "text/html": [
       "<div>\n",
       "<style scoped>\n",
       "    .dataframe tbody tr th:only-of-type {\n",
       "        vertical-align: middle;\n",
       "    }\n",
       "\n",
       "    .dataframe tbody tr th {\n",
       "        vertical-align: top;\n",
       "    }\n",
       "\n",
       "    .dataframe thead th {\n",
       "        text-align: right;\n",
       "    }\n",
       "</style>\n",
       "<table border=\"1\" class=\"dataframe\">\n",
       "  <thead>\n",
       "    <tr style=\"text-align: right;\">\n",
       "      <th></th>\n",
       "      <th>text</th>\n",
       "      <th>topic</th>\n",
       "      <th>nikolay_1</th>\n",
       "      <th>nikolay_2</th>\n",
       "      <th>varvara_1</th>\n",
       "      <th>varvara_2</th>\n",
       "      <th>is_one_expert_match</th>\n",
       "      <th>engaged_topics</th>\n",
       "    </tr>\n",
       "  </thead>\n",
       "  <tbody>\n",
       "    <tr>\n",
       "      <th>0</th>\n",
       "      <td>, NUMBER,NUMBER годпа прошло примерно, никто в...</td>\n",
       "      <td>offline_crime</td>\n",
       "      <td>offline_crime</td>\n",
       "      <td>NaN</td>\n",
       "      <td>offline_crime</td>\n",
       "      <td>NaN</td>\n",
       "      <td>True</td>\n",
       "      <td>{offline_crime}</td>\n",
       "    </tr>\n",
       "    <tr>\n",
       "      <th>3</th>\n",
       "      <td>\"Хороший\" товарищ Конечно ему понравилось, что...</td>\n",
       "      <td>online_crime</td>\n",
       "      <td>gambling</td>\n",
       "      <td>NaN</td>\n",
       "      <td>gambling</td>\n",
       "      <td>online_crime</td>\n",
       "      <td>True</td>\n",
       "      <td>{gambling, online_crime}</td>\n",
       "    </tr>\n",
       "    <tr>\n",
       "      <th>4</th>\n",
       "      <td>NUMBER Кто сказал, что ты некрасивая?</td>\n",
       "      <td>body_shaming</td>\n",
       "      <td>body_shaming</td>\n",
       "      <td>NaN</td>\n",
       "      <td>body_shaming</td>\n",
       "      <td>NaN</td>\n",
       "      <td>True</td>\n",
       "      <td>{body_shaming}</td>\n",
       "    </tr>\n",
       "    <tr>\n",
       "      <th>5</th>\n",
       "      <td>NUMBER.Игровые долги копьё.Это важный моральны...</td>\n",
       "      <td>gambling</td>\n",
       "      <td>gambling</td>\n",
       "      <td>NaN</td>\n",
       "      <td>gambling</td>\n",
       "      <td>NaN</td>\n",
       "      <td>True</td>\n",
       "      <td>{gambling}</td>\n",
       "    </tr>\n",
       "    <tr>\n",
       "      <th>6</th>\n",
       "      <td>NUMBER% самоубийств подростков можно было бы б...</td>\n",
       "      <td>suicide</td>\n",
       "      <td>suicide</td>\n",
       "      <td>NaN</td>\n",
       "      <td>suicide</td>\n",
       "      <td>NaN</td>\n",
       "      <td>True</td>\n",
       "      <td>{suicide}</td>\n",
       "    </tr>\n",
       "  </tbody>\n",
       "</table>\n",
       "</div>"
      ],
      "text/plain": [
       "                                                text          topic  \\\n",
       "0  , NUMBER,NUMBER годпа прошло примерно, никто в...  offline_crime   \n",
       "3  \"Хороший\" товарищ Конечно ему понравилось, что...   online_crime   \n",
       "4              NUMBER Кто сказал, что ты некрасивая?   body_shaming   \n",
       "5  NUMBER.Игровые долги копьё.Это важный моральны...       gambling   \n",
       "6  NUMBER% самоубийств подростков можно было бы б...        suicide   \n",
       "\n",
       "       nikolay_1 nikolay_2      varvara_1     varvara_2  is_one_expert_match  \\\n",
       "0  offline_crime       NaN  offline_crime           NaN                 True   \n",
       "3       gambling       NaN       gambling  online_crime                 True   \n",
       "4   body_shaming       NaN   body_shaming           NaN                 True   \n",
       "5       gambling       NaN       gambling           NaN                 True   \n",
       "6        suicide       NaN        suicide           NaN                 True   \n",
       "\n",
       "             engaged_topics  \n",
       "0           {offline_crime}  \n",
       "3  {gambling, online_crime}  \n",
       "4            {body_shaming}  \n",
       "5                {gambling}  \n",
       "6                 {suicide}  "
      ]
     },
     "execution_count": 55,
     "metadata": {},
     "output_type": "execute_result"
    }
   ],
   "source": [
    "df_kw_lbl_somehow_agreed.head()"
   ]
  },
  {
   "cell_type": "code",
   "execution_count": 57,
   "metadata": {},
   "outputs": [
    {
     "name": "stderr",
     "output_type": "stream",
     "text": [
      "<ipython-input-57-7d1cfa09df86>:1: SettingWithCopyWarning: \n",
      "A value is trying to be set on a copy of a slice from a DataFrame.\n",
      "Try using .loc[row_indexer,col_indexer] = value instead\n",
      "\n",
      "See the caveats in the documentation: https://pandas.pydata.org/pandas-docs/stable/user_guide/indexing.html#returning-a-view-versus-a-copy\n",
      "  df_kw_lbl_somehow_agreed['anyhow_correct'] = df_kw_lbl_somehow_agreed.apply(lambda x: x['topic'] in x['engaged_topics'],\n"
     ]
    }
   ],
   "source": [
    "df_kw_lbl_somehow_agreed['anyhow_correct'] = df_kw_lbl_somehow_agreed.apply(lambda x: x['topic'] in x['engaged_topics'],\n",
    "                                                                           axis = 1)"
   ]
  },
  {
   "cell_type": "code",
   "execution_count": 58,
   "metadata": {
    "scrolled": true
   },
   "outputs": [
    {
     "data": {
      "text/plain": [
       "0.90625"
      ]
     },
     "execution_count": 58,
     "metadata": {},
     "output_type": "execute_result"
    }
   ],
   "source": [
    "len(df_kw_lbl_somehow_agreed[df_kw_lbl_somehow_agreed['anyhow_correct']==True])/len(df_kw_lbl_somehow_agreed)"
   ]
  },
  {
   "cell_type": "code",
   "execution_count": 59,
   "metadata": {},
   "outputs": [
    {
     "data": {
      "text/plain": [
       "0.7630787015545294"
      ]
     },
     "execution_count": 59,
     "metadata": {},
     "output_type": "execute_result"
    }
   ],
   "source": [
    "collected_data = []\n",
    "for item_idx,el in df_kw_lbl_somehow_agreed[df_kw_lbl_somehow_agreed['anyhow_correct']==True].iterrows():\n",
    "    for coder_name, coder_idx in zip(['topic','nikolay'],[0,1]):\n",
    "        \n",
    "        labels_list = []\n",
    "        if coder_name == 'nikolay':\n",
    "            for lbl_idx in ['1','2']:\n",
    "                columns_name  = coder_name + '_' + lbl_idx\n",
    "                vote = el[columns_name]\n",
    "                if isinstance(vote, str):\n",
    "                    labels_list.append(vote)\n",
    "            if len(labels_list) == 0:\n",
    "                labels_list.append('none')\n",
    "        else:\n",
    "            labels_list.append(el[coder_name])\n",
    "        \n",
    "        collected_triplet = (coder_idx,item_idx,frozenset(labels_list))#\n",
    "        collected_data.append(collected_triplet)\n",
    "                              \n",
    "task = AnnotationTask(distance = masi_distance)\n",
    "    \n",
    "task.load_array(collected_data)\n",
    "\n",
    "task.alpha()"
   ]
  },
  {
   "cell_type": "code",
   "execution_count": null,
   "metadata": {},
   "outputs": [],
   "source": []
  }
 ],
 "metadata": {
  "kernelspec": {
   "display_name": "Python 3",
   "language": "python",
   "name": "python3"
  },
  "language_info": {
   "codemirror_mode": {
    "name": "ipython",
    "version": 3
   },
   "file_extension": ".py",
   "mimetype": "text/x-python",
   "name": "python",
   "nbconvert_exporter": "python",
   "pygments_lexer": "ipython3",
   "version": "3.8.10"
  }
 },
 "nbformat": 4,
 "nbformat_minor": 4
}
