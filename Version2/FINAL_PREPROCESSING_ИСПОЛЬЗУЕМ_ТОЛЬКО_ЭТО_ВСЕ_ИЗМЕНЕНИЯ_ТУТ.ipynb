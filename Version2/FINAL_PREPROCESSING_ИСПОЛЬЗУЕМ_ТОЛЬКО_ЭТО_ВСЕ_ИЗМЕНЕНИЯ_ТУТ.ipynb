{
 "cells": [
  {
   "cell_type": "code",
   "execution_count": 83,
   "metadata": {},
   "outputs": [],
   "source": [
    "import pandas as pd\n",
    "import re"
   ]
  },
  {
   "cell_type": "markdown",
   "metadata": {},
   "source": [
    "# ЧИТАЕМ СУЩЕСТВУЩИЙ ДАТАСЕТ ДЛЯ ПРЕДОТВАРЩЕНИЯ ДУБЛИКАТОВ"
   ]
  },
  {
   "cell_type": "code",
   "execution_count": 2,
   "metadata": {
    "scrolled": true
   },
   "outputs": [],
   "source": [
    "df_fin = pd.read_csv(\"HYBRID_Steps12_unsafe_only.csv\")"
   ]
  },
  {
   "cell_type": "code",
   "execution_count": 3,
   "metadata": {},
   "outputs": [],
   "source": [
    "# df_fin = pd.concat([df1,df2,df3],0, ignore_index = True)"
   ]
  },
  {
   "cell_type": "code",
   "execution_count": 4,
   "metadata": {
    "scrolled": true
   },
   "outputs": [
    {
     "name": "stdout",
     "output_type": "stream",
     "text": [
      "<class 'pandas.core.frame.DataFrame'>\n",
      "RangeIndex: 35635 entries, 0 to 35634\n",
      "Data columns (total 2 columns):\n",
      " #   Column  Non-Null Count  Dtype  \n",
      "---  ------  --------------  -----  \n",
      " 0   text    35635 non-null  object \n",
      " 1   unsafe  35635 non-null  float64\n",
      "dtypes: float64(1), object(1)\n",
      "memory usage: 556.9+ KB\n"
     ]
    }
   ],
   "source": [
    "df_fin.info()"
   ]
  },
  {
   "cell_type": "code",
   "execution_count": 5,
   "metadata": {},
   "outputs": [],
   "source": [
    "existing_samples_set = set(df_fin['text'])"
   ]
  },
  {
   "cell_type": "code",
   "execution_count": 1,
   "metadata": {},
   "outputs": [],
   "source": [
    "def get_len(text):\n",
    "    if len(text.split()) > 5 and len (text)< 250:\n",
    "        return True\n",
    "    return None\n",
    "def is_mostly_russian(text):\n",
    "    text = str(text)\n",
    "    russian_letters_count = len(re.findall(\"[а-яА-Я]\",text))\n",
    "    eng_letters_count = len(re.findall(\"[a-zA-Z]\",text))\n",
    "    if russian_letters_count > eng_letters_count:\n",
    "        return True\n",
    "    return None\n",
    "def depersonalize(text):\n",
    "    text = str(text)\n",
    "    url_regex = r\"(?i)\\b((?:https?://|www\\d{0,3}[.]|[a-z0-9.\\-]+[.][a-z]{2,4}/)(?:[^\\s()<>]+|\\(([^\\s()<>]+|(\\([^\\s()<>]+\\)))*\\))+(?:\\(([^\\s()<>]+|(\\([^\\s()<>]+\\)))*\\)|[^\\s`!()\\[\\]{};:'\\\".,<>?«»“”‘’]))\"\n",
    "    text= re.sub(url_regex, \"url\", text)\n",
    "    text = re.sub(\"id[\\d]*\",'',text)\n",
    "    text = re.sub(\"> ?\",'',text)\n",
    "    text = re.sub(\"@[\\w]*\",'',text)\n",
    "#     text = re.sub(\"\\+[\\d]*\", \"\", text)\n",
    "    text = re.sub(\"[\\d]+\", \"NUMBER\", text)\n",
    "    text = re.sub(\">>\", \"\", text)\n",
    "#     text = re.sub(\"[\\d]{3,100}\", \"\", text)\n",
    "    text = re.sub(\"[\\t|\\n|\\r]\", \"\", text)\n",
    "#     text = re.sub(\"[(OP)|url|nickname|phone_number]\", \"\", text)\n",
    "    return text\n",
    "def lemmatize(text):\n",
    "    sentences_list = [s.text for s in sentenize(text)]\n",
    "    tokenized_sentences = [re.sub(\"[^а-яА-Я ]\", ' ',s).strip() for s in sentences_list]\n",
    "    tokenized_sentences = [s.split() for s in tokenized_sentences]\n",
    "    lemmas_list = [[morph.parse(w)[0].normal_form for w in words] for words in tokenized_sentences]\n",
    "    lemmas_string = [' '.join(sent) for sent in lemmas_list]\n",
    "    lemmas_string = '. '.join(lemmas_string)\n",
    "    return lemmas_string"
   ]
  },
  {
   "cell_type": "code",
   "execution_count": 7,
   "metadata": {},
   "outputs": [],
   "source": [
    "# df_fin['text'] = df_fin['text'].apply(depersonalize)"
   ]
  },
  {
   "cell_type": "code",
   "execution_count": 8,
   "metadata": {},
   "outputs": [],
   "source": [
    "# df_fin.head()"
   ]
  },
  {
   "cell_type": "code",
   "execution_count": 9,
   "metadata": {},
   "outputs": [],
   "source": [
    "# list(df_fin['text'])[1100:1200]"
   ]
  },
  {
   "cell_type": "markdown",
   "metadata": {},
   "source": [
    "# IMPORT DVACH"
   ]
  },
  {
   "cell_type": "code",
   "execution_count": 10,
   "metadata": {},
   "outputs": [],
   "source": [
    "import json\n",
    "from tqdm import tqdm\n",
    "import os\n",
    "import random "
   ]
  },
  {
   "cell_type": "code",
   "execution_count": 11,
   "metadata": {},
   "outputs": [],
   "source": [
    "with open(\"C://input//toxic_and_unsafe//AGGREGATE_RAW_AND_PROCESSED_UNSAFE//arhivach_data//data//1.json\") as f:\n",
    "        data = json.load(f)"
   ]
  },
  {
   "cell_type": "code",
   "execution_count": 12,
   "metadata": {},
   "outputs": [
    {
     "data": {
      "text/plain": [
       "19674"
      ]
     },
     "execution_count": 12,
     "metadata": {},
     "output_type": "execute_result"
    }
   ],
   "source": [
    "folder = \"C://input//toxic_and_unsafe//AGGREGATE_RAW_AND_PROCESSED_UNSAFE//arhivach_data//data\"\n",
    "\n",
    "len(os.listdir(folder))"
   ]
  },
  {
   "cell_type": "code",
   "execution_count": 13,
   "metadata": {},
   "outputs": [
    {
     "name": "stderr",
     "output_type": "stream",
     "text": [
      "100%|████████████████████████████████████████████████████████████████████████████| 19674/19674 [08:16<00:00, 39.59it/s]\n"
     ]
    }
   ],
   "source": [
    "collected_messages = []\n",
    "for file in tqdm(os.listdir(folder)):\n",
    "    path = os.path.join(folder,file)\n",
    "    with open(path) as f:\n",
    "        data = json.load(f)\n",
    "        for mes in data:\n",
    "            if len(mes['text'].split()) > 5 and len(mes['text']) < 250:\n",
    "                collected_messages.append(mes['text'])"
   ]
  },
  {
   "cell_type": "markdown",
   "metadata": {},
   "source": [
    "# IMPORT MAIL"
   ]
  },
  {
   "cell_type": "code",
   "execution_count": 14,
   "metadata": {},
   "outputs": [
    {
     "name": "stderr",
     "output_type": "stream",
     "text": [
      "C:\\Users\\N.Babakov\\AppData\\Local\\Packages\\PythonSoftwareFoundation.Python.3.8_qbz5n2kfra8p0\\LocalCache\\local-packages\\Python38\\site-packages\\IPython\\core\\interactiveshell.py:3145: DtypeWarning: Columns (0) have mixed types.Specify dtype option on import or set low_memory=False.\n",
      "  has_raised = await self.run_ast_nodes(code_ast.body, cell_name,\n"
     ]
    }
   ],
   "source": [
    "df_mail = pd.read_csv(\"C://input//toxic_and_unsafe//AGGREGATE_RAW_AND_PROCESSED_UNSAFE//mail//qa_csv_from_answers_jsonl.csv\")"
   ]
  },
  {
   "cell_type": "code",
   "execution_count": 15,
   "metadata": {},
   "outputs": [],
   "source": [
    "questions = set(df_mail['question'])"
   ]
  },
  {
   "cell_type": "code",
   "execution_count": 16,
   "metadata": {},
   "outputs": [],
   "source": [
    "mail_collected = list(questions) + list(df_mail['answer'])"
   ]
  },
  {
   "cell_type": "markdown",
   "metadata": {},
   "source": [
    "# IMPORT PIKABU"
   ]
  },
  {
   "cell_type": "code",
   "execution_count": null,
   "metadata": {},
   "outputs": [],
   "source": []
  },
  {
   "cell_type": "code",
   "execution_count": null,
   "metadata": {},
   "outputs": [],
   "source": []
  },
  {
   "cell_type": "code",
   "execution_count": null,
   "metadata": {},
   "outputs": [],
   "source": []
  },
  {
   "cell_type": "markdown",
   "metadata": {},
   "source": [
    "# Смешиваем и предобрабатываем"
   ]
  },
  {
   "cell_type": "code",
   "execution_count": 17,
   "metadata": {},
   "outputs": [],
   "source": [
    "SAMPLE_NUMBER = 200000"
   ]
  },
  {
   "cell_type": "code",
   "execution_count": 18,
   "metadata": {},
   "outputs": [],
   "source": [
    "mail_collected = random.sample(mail_collected, SAMPLE_NUMBER)"
   ]
  },
  {
   "cell_type": "code",
   "execution_count": 19,
   "metadata": {},
   "outputs": [],
   "source": [
    "collected_messages = random.sample(collected_messages, SAMPLE_NUMBER)"
   ]
  },
  {
   "cell_type": "code",
   "execution_count": 20,
   "metadata": {
    "scrolled": true
   },
   "outputs": [],
   "source": [
    "# sources = ['mail'] * SAMPLE_NUMBER + ['dvach'] * SAMPLE_NUMBER"
   ]
  },
  {
   "cell_type": "code",
   "execution_count": 21,
   "metadata": {},
   "outputs": [],
   "source": [
    "all_texts = collected_messages + mail_collected\n",
    "del collected_messages\n",
    "del mail_collected"
   ]
  },
  {
   "cell_type": "code",
   "execution_count": 36,
   "metadata": {},
   "outputs": [],
   "source": [
    "all_texts = [s  for s in all_texts if isinstance(s,str)]"
   ]
  },
  {
   "cell_type": "code",
   "execution_count": 22,
   "metadata": {},
   "outputs": [],
   "source": [
    "# df_all_samples = pd.DataFrame({'text':all_texts,\"source\":sources})\n",
    "# df_all_samples.info()"
   ]
  },
  {
   "cell_type": "code",
   "execution_count": 23,
   "metadata": {},
   "outputs": [],
   "source": []
  },
  {
   "cell_type": "code",
   "execution_count": 26,
   "metadata": {},
   "outputs": [
    {
     "data": {
      "text/plain": [
       "1609666665.7204766"
      ]
     },
     "execution_count": 26,
     "metadata": {},
     "output_type": "execute_result"
    }
   ],
   "source": [
    "import time\n",
    "time.time()"
   ]
  },
  {
   "cell_type": "code",
   "execution_count": 27,
   "metadata": {},
   "outputs": [],
   "source": [
    "def clean_text(text):\n",
    "    t = time.time()\n",
    "    processed_text = depersonalize(text)\n",
    "    print(\"depersonalize\",time.time()-t)\n",
    "    t = time.time()\n",
    "    is_len_ok = get_len(processed_text)\n",
    "    print(\"is_len_ok\",time.time()-t)\n",
    "    t = time.time()\n",
    "    if is_len_ok is None:\n",
    "        return None\n",
    "#     print(\"is_mostly_russian...\")\n",
    "    is_rus = is_mostly_russian(processed_text)\n",
    "    print(\"is_mostly_russian\",time.time()-t)\n",
    "    t = time.time()\n",
    "    if is_rus is None:\n",
    "        return None\n",
    "#     print(\"existing_samples_set...\")\n",
    "    if processed_text in existing_samples_set:\n",
    "        return None\n",
    "    \n",
    "    return processed_text"
   ]
  },
  {
   "cell_type": "code",
   "execution_count": 28,
   "metadata": {},
   "outputs": [
    {
     "name": "stdout",
     "output_type": "stream",
     "text": [
      "depersonalize 0.0\n",
      "is_len_ok 0.0\n"
     ]
    }
   ],
   "source": [
    "clean_text(\"фыыва привт332\")"
   ]
  },
  {
   "cell_type": "code",
   "execution_count": 47,
   "metadata": {},
   "outputs": [
    {
     "data": {
      "text/plain": [
       "'фыыва привт'"
      ]
     },
     "execution_count": 47,
     "metadata": {},
     "output_type": "execute_result"
    }
   ],
   "source": [
    "depersonalize(\"фыыва привт332\")"
   ]
  },
  {
   "cell_type": "code",
   "execution_count": 37,
   "metadata": {
    "scrolled": true
   },
   "outputs": [],
   "source": [
    "# preprocessed_no_duplicates_list = []\n",
    "# exception_count = 0\n",
    "# for t in tqdm(all_texts):\n",
    "#     if isinstance(t, str):\n",
    "#         try:\n",
    "#             cleaned_t = clean_text(t)\n",
    "#             if cleaned_t is not None:\n",
    "#                 preprocessed_no_duplicates_list.append(cleaned_t)\n",
    "#         except:\n",
    "#             exception_count +=1\n",
    "#     if len(preprocessed_no_duplicates_list)%10000 and len(preprocessed_no_duplicates_list) > 0:\n",
    "#         df_all_samples = pd.DataFrame({'text':preprocessed_no_duplicates_list})\n",
    "#         df_all_samples.to_csv(\"OtvetiVS2ch_preprocessed_iteration2.csv\", index = None)\n",
    "# print(\"exception_count {}\".format(exception_count))"
   ]
  },
  {
   "cell_type": "code",
   "execution_count": 30,
   "metadata": {},
   "outputs": [
    {
     "name": "stderr",
     "output_type": "stream",
     "text": [
      "C:\\Users\\N.Babakov\\AppData\\Local\\Packages\\PythonSoftwareFoundation.Python.3.8_qbz5n2kfra8p0\\LocalCache\\local-packages\\Python38\\site-packages\\tqdm\\std.py:668: FutureWarning: The Panel class is removed from pandas. Accessing it from the top-level namespace will also be removed in the next version\n",
      "  from pandas import Panel\n"
     ]
    }
   ],
   "source": [
    "tqdm.pandas()"
   ]
  },
  {
   "cell_type": "markdown",
   "metadata": {},
   "source": [
    "# apply"
   ]
  },
  {
   "cell_type": "code",
   "execution_count": 65,
   "metadata": {},
   "outputs": [],
   "source": [
    "def is_in_existing_df(text):\n",
    "    if text in existing_samples_set:\n",
    "        return None\n",
    "    return False"
   ]
  },
  {
   "cell_type": "code",
   "execution_count": null,
   "metadata": {},
   "outputs": [],
   "source": [
    "# def clean_dataframe(df, text_column):\n",
    "#     df.dropna(inplace = True)\n",
    "#     df['processed'] = df[text_column].apply(depersonalize)\n",
    "    \n",
    "#     df['most_rus'] = df['processed'].apply(is_mostly_russian)\n",
    "#     df.dropna(inplace = True)\n",
    "    \n",
    "#     df['good_len'] = df['processed'].apply(get_len)\n",
    "#     df.dropna(inplace = True)\n",
    "    \n",
    "#     df['is_existent'] = df['processed'].apply(is_in_existing_df)\n",
    "#     df.dropna(inplace = True)\n",
    "    \n",
    "#     del df_all_samples['most_rus']\n",
    "#     del df_all_samples['good_len']\n",
    "#     del df_all_samples['text']\n",
    "#     del df_all_samples['is_existent']\n",
    "    \n",
    "#     return df"
   ]
  },
  {
   "cell_type": "code",
   "execution_count": 73,
   "metadata": {},
   "outputs": [],
   "source": [
    "# df_pr = pd.DataFrame({\"text\":list(set(all_texts))})\n",
    "df_pr = pd.DataFrame({\"text\":list(set(all_texts))})"
   ]
  },
  {
   "cell_type": "code",
   "execution_count": 40,
   "metadata": {},
   "outputs": [
    {
     "data": {
      "text/plain": [
       "395960"
      ]
     },
     "execution_count": 40,
     "metadata": {},
     "output_type": "execute_result"
    }
   ],
   "source": [
    "len(df_pr)"
   ]
  },
  {
   "cell_type": "code",
   "execution_count": 59,
   "metadata": {},
   "outputs": [
    {
     "name": "stderr",
     "output_type": "stream",
     "text": [
      "100%|█████████████████████████████████████████████████████████████████████████| 395960/395960 [40:52<00:00, 161.46it/s]\n"
     ]
    },
    {
     "data": {
      "text/html": [
       "<div>\n",
       "<style scoped>\n",
       "    .dataframe tbody tr th:only-of-type {\n",
       "        vertical-align: middle;\n",
       "    }\n",
       "\n",
       "    .dataframe tbody tr th {\n",
       "        vertical-align: top;\n",
       "    }\n",
       "\n",
       "    .dataframe thead th {\n",
       "        text-align: right;\n",
       "    }\n",
       "</style>\n",
       "<table border=\"1\" class=\"dataframe\">\n",
       "  <thead>\n",
       "    <tr style=\"text-align: right;\">\n",
       "      <th></th>\n",
       "      <th>text</th>\n",
       "      <th>processed</th>\n",
       "    </tr>\n",
       "  </thead>\n",
       "  <tbody>\n",
       "    <tr>\n",
       "      <th>0</th>\n",
       "      <td>попробуйте переехать на восток, недалеко, райо...</td>\n",
       "      <td>попробуйте переехать на восток, недалеко, райо...</td>\n",
       "    </tr>\n",
       "    <tr>\n",
       "      <th>1</th>\n",
       "      <td>\\n&gt;&gt;2896999И сколько времени должно пройти с н...</td>\n",
       "      <td>И сколько времени должно пройти с начала трени...</td>\n",
       "    </tr>\n",
       "    <tr>\n",
       "      <th>2</th>\n",
       "      <td>ПОЛЬЗЫ ДЛЯ ОБЫЧНОГО ДВУНОГО НЕТ, ДЛЯ АНДРОДА С...</td>\n",
       "      <td>ПОЛЬЗЫ ДЛЯ ОБЫЧНОГО ДВУНОГО НЕТ, ДЛЯ АНДРОДА С...</td>\n",
       "    </tr>\n",
       "    <tr>\n",
       "      <th>3</th>\n",
       "      <td>Могу предложить сталкера Battlefield Call of duty</td>\n",
       "      <td>Могу предложить сталкера Bttfd C f dty</td>\n",
       "    </tr>\n",
       "    <tr>\n",
       "      <th>4</th>\n",
       "      <td>да уж точно не то-что они там сейчас готовят.....</td>\n",
       "      <td>да уж точно не то-что они там сейчас готовят.....</td>\n",
       "    </tr>\n",
       "  </tbody>\n",
       "</table>\n",
       "</div>"
      ],
      "text/plain": [
       "                                                text  \\\n",
       "0  попробуйте переехать на восток, недалеко, райо...   \n",
       "1  \\n>>2896999И сколько времени должно пройти с н...   \n",
       "2  ПОЛЬЗЫ ДЛЯ ОБЫЧНОГО ДВУНОГО НЕТ, ДЛЯ АНДРОДА С...   \n",
       "3  Могу предложить сталкера Battlefield Call of duty   \n",
       "4  да уж точно не то-что они там сейчас готовят.....   \n",
       "\n",
       "                                           processed  \n",
       "0  попробуйте переехать на восток, недалеко, райо...  \n",
       "1  И сколько времени должно пройти с начала трени...  \n",
       "2  ПОЛЬЗЫ ДЛЯ ОБЫЧНОГО ДВУНОГО НЕТ, ДЛЯ АНДРОДА С...  \n",
       "3             Могу предложить сталкера Bttfd C f dty  \n",
       "4  да уж точно не то-что они там сейчас готовят.....  "
      ]
     },
     "execution_count": 59,
     "metadata": {},
     "output_type": "execute_result"
    }
   ],
   "source": [
    "df_pr['processed'] =  df_pr['text'].progress_apply(depersonalize)\n",
    "# df_pr['processed'] =  df_pr['text'].apply(depersonalize)\n",
    "df_pr.head()"
   ]
  },
  {
   "cell_type": "code",
   "execution_count": 93,
   "metadata": {},
   "outputs": [
    {
     "data": {
      "text/html": [
       "<div>\n",
       "<style scoped>\n",
       "    .dataframe tbody tr th:only-of-type {\n",
       "        vertical-align: middle;\n",
       "    }\n",
       "\n",
       "    .dataframe tbody tr th {\n",
       "        vertical-align: top;\n",
       "    }\n",
       "\n",
       "    .dataframe thead th {\n",
       "        text-align: right;\n",
       "    }\n",
       "</style>\n",
       "<table border=\"1\" class=\"dataframe\">\n",
       "  <thead>\n",
       "    <tr style=\"text-align: right;\">\n",
       "      <th></th>\n",
       "      <th>processed</th>\n",
       "      <th>topic_1</th>\n",
       "      <th>topic_2</th>\n",
       "    </tr>\n",
       "  </thead>\n",
       "  <tbody>\n",
       "    <tr>\n",
       "      <th>0</th>\n",
       "      <td>…Опять завыла собака. Я решился подойти к окну...</td>\n",
       "      <td>weapons</td>\n",
       "      <td>NaN</td>\n",
       "    </tr>\n",
       "    <tr>\n",
       "      <th>1</th>\n",
       "      <td>В правой руке она держала странный изогнутый и...</td>\n",
       "      <td>weapons</td>\n",
       "      <td>NaN</td>\n",
       "    </tr>\n",
       "    <tr>\n",
       "      <th>2</th>\n",
       "      <td>-проникновения инородных предметов в тело. ост...</td>\n",
       "      <td>weapons</td>\n",
       "      <td>NaN</td>\n",
       "    </tr>\n",
       "    <tr>\n",
       "      <th>3</th>\n",
       "      <td>Так! быстро! У тебя по левой стороне раны, у м...</td>\n",
       "      <td>terrorism</td>\n",
       "      <td>NaN</td>\n",
       "    </tr>\n",
       "    <tr>\n",
       "      <th>4</th>\n",
       "      <td>Моральной поддержки,чтоб в петлю не лезть...мы...</td>\n",
       "      <td>suicide</td>\n",
       "      <td>NaN</td>\n",
       "    </tr>\n",
       "  </tbody>\n",
       "</table>\n",
       "</div>"
      ],
      "text/plain": [
       "                                           processed    topic_1 topic_2\n",
       "0  …Опять завыла собака. Я решился подойти к окну...    weapons     NaN\n",
       "1  В правой руке она держала странный изогнутый и...    weapons     NaN\n",
       "2  -проникновения инородных предметов в тело. ост...    weapons     NaN\n",
       "3  Так! быстро! У тебя по левой стороне раны, у м...  terrorism     NaN\n",
       "4  Моральной поддержки,чтоб в петлю не лезть...мы...    suicide     NaN"
      ]
     },
     "execution_count": 93,
     "metadata": {},
     "output_type": "execute_result"
    }
   ],
   "source": [
    "df_pr = pd.read_csv(\"../merge_ready/SELF_MARKED_export_ready_st2.csv\")\n",
    "df_pr.head()"
   ]
  },
  {
   "cell_type": "code",
   "execution_count": 94,
   "metadata": {},
   "outputs": [
    {
     "data": {
      "text/plain": [
       "7499"
      ]
     },
     "execution_count": 94,
     "metadata": {},
     "output_type": "execute_result"
    }
   ],
   "source": [
    "len(df_pr)"
   ]
  },
  {
   "cell_type": "code",
   "execution_count": 95,
   "metadata": {},
   "outputs": [
    {
     "name": "stderr",
     "output_type": "stream",
     "text": [
      "100%|███████████████████████████████████████████████████████████████████████████| 7499/7499 [00:00<00:00, 33012.12it/s]\n"
     ]
    }
   ],
   "source": [
    "df_pr['most_rus'] = df_pr['processed'].progress_apply(is_mostly_russian)"
   ]
  },
  {
   "cell_type": "code",
   "execution_count": 97,
   "metadata": {},
   "outputs": [
    {
     "data": {
      "text/plain": [
       "Counter({True: 7498, None: 1})"
      ]
     },
     "execution_count": 97,
     "metadata": {},
     "output_type": "execute_result"
    }
   ],
   "source": [
    "Counter(df_pr['most_rus'])"
   ]
  },
  {
   "cell_type": "code",
   "execution_count": 98,
   "metadata": {},
   "outputs": [
    {
     "data": {
      "text/html": [
       "<div>\n",
       "<style scoped>\n",
       "    .dataframe tbody tr th:only-of-type {\n",
       "        vertical-align: middle;\n",
       "    }\n",
       "\n",
       "    .dataframe tbody tr th {\n",
       "        vertical-align: top;\n",
       "    }\n",
       "\n",
       "    .dataframe thead th {\n",
       "        text-align: right;\n",
       "    }\n",
       "</style>\n",
       "<table border=\"1\" class=\"dataframe\">\n",
       "  <thead>\n",
       "    <tr style=\"text-align: right;\">\n",
       "      <th></th>\n",
       "      <th>processed</th>\n",
       "      <th>topic_1</th>\n",
       "      <th>topic_2</th>\n",
       "      <th>most_rus</th>\n",
       "    </tr>\n",
       "  </thead>\n",
       "  <tbody>\n",
       "    <tr>\n",
       "      <th>0</th>\n",
       "      <td>…Опять завыла собака. Я решился подойти к окну...</td>\n",
       "      <td>weapons</td>\n",
       "      <td>NaN</td>\n",
       "      <td>True</td>\n",
       "    </tr>\n",
       "    <tr>\n",
       "      <th>1</th>\n",
       "      <td>В правой руке она держала странный изогнутый и...</td>\n",
       "      <td>weapons</td>\n",
       "      <td>NaN</td>\n",
       "      <td>True</td>\n",
       "    </tr>\n",
       "    <tr>\n",
       "      <th>2</th>\n",
       "      <td>-проникновения инородных предметов в тело. ост...</td>\n",
       "      <td>weapons</td>\n",
       "      <td>NaN</td>\n",
       "      <td>True</td>\n",
       "    </tr>\n",
       "    <tr>\n",
       "      <th>3</th>\n",
       "      <td>Так! быстро! У тебя по левой стороне раны, у м...</td>\n",
       "      <td>terrorism</td>\n",
       "      <td>NaN</td>\n",
       "      <td>True</td>\n",
       "    </tr>\n",
       "    <tr>\n",
       "      <th>4</th>\n",
       "      <td>Моральной поддержки,чтоб в петлю не лезть...мы...</td>\n",
       "      <td>suicide</td>\n",
       "      <td>NaN</td>\n",
       "      <td>True</td>\n",
       "    </tr>\n",
       "  </tbody>\n",
       "</table>\n",
       "</div>"
      ],
      "text/plain": [
       "                                           processed    topic_1 topic_2  \\\n",
       "0  …Опять завыла собака. Я решился подойти к окну...    weapons     NaN   \n",
       "1  В правой руке она держала странный изогнутый и...    weapons     NaN   \n",
       "2  -проникновения инородных предметов в тело. ост...    weapons     NaN   \n",
       "3  Так! быстро! У тебя по левой стороне раны, у м...  terrorism     NaN   \n",
       "4  Моральной поддержки,чтоб в петлю не лезть...мы...    suicide     NaN   \n",
       "\n",
       "  most_rus  \n",
       "0     True  \n",
       "1     True  \n",
       "2     True  \n",
       "3     True  \n",
       "4     True  "
      ]
     },
     "execution_count": 98,
     "metadata": {},
     "output_type": "execute_result"
    }
   ],
   "source": [
    "df_pr.head()"
   ]
  },
  {
   "cell_type": "code",
   "execution_count": 99,
   "metadata": {},
   "outputs": [
    {
     "name": "stdout",
     "output_type": "stream",
     "text": [
      "<class 'pandas.core.frame.DataFrame'>\n",
      "Int64Index: 33 entries, 14 to 4284\n",
      "Data columns (total 4 columns):\n",
      " #   Column     Non-Null Count  Dtype \n",
      "---  ------     --------------  ----- \n",
      " 0   processed  33 non-null     object\n",
      " 1   topic_1    33 non-null     object\n",
      " 2   topic_2    33 non-null     object\n",
      " 3   most_rus   33 non-null     object\n",
      "dtypes: object(4)\n",
      "memory usage: 1.3+ KB\n"
     ]
    }
   ],
   "source": [
    "df_pr.dropna(inplace = True)\n",
    "df_pr.info()"
   ]
  },
  {
   "cell_type": "code",
   "execution_count": 86,
   "metadata": {},
   "outputs": [
    {
     "data": {
      "text/html": [
       "<div>\n",
       "<style scoped>\n",
       "    .dataframe tbody tr th:only-of-type {\n",
       "        vertical-align: middle;\n",
       "    }\n",
       "\n",
       "    .dataframe tbody tr th {\n",
       "        vertical-align: top;\n",
       "    }\n",
       "\n",
       "    .dataframe thead th {\n",
       "        text-align: right;\n",
       "    }\n",
       "</style>\n",
       "<table border=\"1\" class=\"dataframe\">\n",
       "  <thead>\n",
       "    <tr style=\"text-align: right;\">\n",
       "      <th></th>\n",
       "      <th>processed</th>\n",
       "      <th>topic_1</th>\n",
       "      <th>topic_2</th>\n",
       "      <th>most_rus</th>\n",
       "      <th>good_len</th>\n",
       "    </tr>\n",
       "  </thead>\n",
       "  <tbody>\n",
       "    <tr>\n",
       "      <th>14</th>\n",
       "      <td>хочу  в  прокуратуру подать  заявление,доведен...</td>\n",
       "      <td>suicide</td>\n",
       "      <td>crime_real</td>\n",
       "      <td>True</td>\n",
       "      <td>True</td>\n",
       "    </tr>\n",
       "    <tr>\n",
       "      <th>36</th>\n",
       "      <td>Если всё таки пойду то потрачу на психотерапев...</td>\n",
       "      <td>suicide</td>\n",
       "      <td>halth_shaming</td>\n",
       "      <td>True</td>\n",
       "      <td>True</td>\n",
       "    </tr>\n",
       "    <tr>\n",
       "      <th>78</th>\n",
       "      <td>отчего-то вспомнила эту  тему... 2 алко-коктей...</td>\n",
       "      <td>suicide</td>\n",
       "      <td>drugs</td>\n",
       "      <td>True</td>\n",
       "      <td>True</td>\n",
       "    </tr>\n",
       "    <tr>\n",
       "      <th>157</th>\n",
       "      <td>Пока мы не получили абстрактное мышление и не ...</td>\n",
       "      <td>suicide</td>\n",
       "      <td>drugs</td>\n",
       "      <td>True</td>\n",
       "      <td>True</td>\n",
       "    </tr>\n",
       "    <tr>\n",
       "      <th>1354</th>\n",
       "      <td>А в суд коллекторы как с монитором пойдут?Пони...</td>\n",
       "      <td>social</td>\n",
       "      <td>crime_web</td>\n",
       "      <td>True</td>\n",
       "      <td>True</td>\n",
       "    </tr>\n",
       "  </tbody>\n",
       "</table>\n",
       "</div>"
      ],
      "text/plain": [
       "                                              processed  topic_1  \\\n",
       "14    хочу  в  прокуратуру подать  заявление,доведен...  suicide   \n",
       "36    Если всё таки пойду то потрачу на психотерапев...  suicide   \n",
       "78    отчего-то вспомнила эту  тему... 2 алко-коктей...  suicide   \n",
       "157   Пока мы не получили абстрактное мышление и не ...  suicide   \n",
       "1354  А в суд коллекторы как с монитором пойдут?Пони...   social   \n",
       "\n",
       "            topic_2 most_rus  good_len  \n",
       "14       crime_real     True      True  \n",
       "36    halth_shaming     True      True  \n",
       "78            drugs     True      True  \n",
       "157           drugs     True      True  \n",
       "1354      crime_web     True      True  "
      ]
     },
     "execution_count": 86,
     "metadata": {},
     "output_type": "execute_result"
    }
   ],
   "source": [
    "df_pr['good_len'] = df_pr['processed'].apply(get_len)\n",
    "df_pr.dropna(inplace = True)\n",
    "df_pr.head()"
   ]
  },
  {
   "cell_type": "code",
   "execution_count": 87,
   "metadata": {},
   "outputs": [
    {
     "name": "stderr",
     "output_type": "stream",
     "text": [
      "100%|████████████████████████████████████████████████████████████████████████████████| 33/33 [00:00<00:00, 4721.22it/s]\n"
     ]
    }
   ],
   "source": [
    "df_pr['is_existent'] = df_pr['processed'].progress_apply(is_in_existing_df)"
   ]
  },
  {
   "cell_type": "code",
   "execution_count": 88,
   "metadata": {},
   "outputs": [
    {
     "data": {
      "text/plain": [
       "Counter({False: 33})"
      ]
     },
     "execution_count": 88,
     "metadata": {},
     "output_type": "execute_result"
    }
   ],
   "source": [
    "from collections import Counter\n",
    "Counter(df_pr['is_existent'])"
   ]
  },
  {
   "cell_type": "code",
   "execution_count": 80,
   "metadata": {},
   "outputs": [
    {
     "data": {
      "text/html": [
       "<div>\n",
       "<style scoped>\n",
       "    .dataframe tbody tr th:only-of-type {\n",
       "        vertical-align: middle;\n",
       "    }\n",
       "\n",
       "    .dataframe tbody tr th {\n",
       "        vertical-align: top;\n",
       "    }\n",
       "\n",
       "    .dataframe thead th {\n",
       "        text-align: right;\n",
       "    }\n",
       "</style>\n",
       "<table border=\"1\" class=\"dataframe\">\n",
       "  <thead>\n",
       "    <tr style=\"text-align: right;\">\n",
       "      <th></th>\n",
       "      <th>text</th>\n",
       "      <th>processed</th>\n",
       "      <th>most_rus</th>\n",
       "      <th>good_len</th>\n",
       "      <th>is_existent</th>\n",
       "    </tr>\n",
       "  </thead>\n",
       "  <tbody>\n",
       "    <tr>\n",
       "      <th>1</th>\n",
       "      <td>\\n&gt;&gt;2896999И сколько времени должно пройти с н...</td>\n",
       "      <td>И сколько времени должно пройти с начала трени...</td>\n",
       "      <td>True</td>\n",
       "      <td>True</td>\n",
       "      <td>False</td>\n",
       "    </tr>\n",
       "    <tr>\n",
       "      <th>2</th>\n",
       "      <td>ПОЛЬЗЫ ДЛЯ ОБЫЧНОГО ДВУНОГО НЕТ, ДЛЯ АНДРОДА С...</td>\n",
       "      <td>ПОЛЬЗЫ ДЛЯ ОБЫЧНОГО ДВУНОГО НЕТ, ДЛЯ АНДРОДА С...</td>\n",
       "      <td>True</td>\n",
       "      <td>True</td>\n",
       "      <td>False</td>\n",
       "    </tr>\n",
       "    <tr>\n",
       "      <th>3</th>\n",
       "      <td>Могу предложить сталкера Battlefield Call of duty</td>\n",
       "      <td>Могу предложить сталкера Bttfd C f dty</td>\n",
       "      <td>True</td>\n",
       "      <td>True</td>\n",
       "      <td>False</td>\n",
       "    </tr>\n",
       "    <tr>\n",
       "      <th>4</th>\n",
       "      <td>да уж точно не то-что они там сейчас готовят.....</td>\n",
       "      <td>да уж точно не то-что они там сейчас готовят.....</td>\n",
       "      <td>True</td>\n",
       "      <td>True</td>\n",
       "      <td>False</td>\n",
       "    </tr>\n",
       "    <tr>\n",
       "      <th>5</th>\n",
       "      <td>Фига се, жизнь животных губить за яйца, а мясо...</td>\n",
       "      <td>Фига се, жизнь животных губить за яйца, а мясо...</td>\n",
       "      <td>True</td>\n",
       "      <td>True</td>\n",
       "      <td>False</td>\n",
       "    </tr>\n",
       "  </tbody>\n",
       "</table>\n",
       "</div>"
      ],
      "text/plain": [
       "                                                text  \\\n",
       "1  \\n>>2896999И сколько времени должно пройти с н...   \n",
       "2  ПОЛЬЗЫ ДЛЯ ОБЫЧНОГО ДВУНОГО НЕТ, ДЛЯ АНДРОДА С...   \n",
       "3  Могу предложить сталкера Battlefield Call of duty   \n",
       "4  да уж точно не то-что они там сейчас готовят.....   \n",
       "5  Фига се, жизнь животных губить за яйца, а мясо...   \n",
       "\n",
       "                                           processed most_rus good_len  \\\n",
       "1  И сколько времени должно пройти с начала трени...     True     True   \n",
       "2  ПОЛЬЗЫ ДЛЯ ОБЫЧНОГО ДВУНОГО НЕТ, ДЛЯ АНДРОДА С...     True     True   \n",
       "3             Могу предложить сталкера Bttfd C f dty     True     True   \n",
       "4  да уж точно не то-что они там сейчас готовят.....     True     True   \n",
       "5  Фига се, жизнь животных губить за яйца, а мясо...     True     True   \n",
       "\n",
       "  is_existent  \n",
       "1       False  \n",
       "2       False  \n",
       "3       False  \n",
       "4       False  \n",
       "5       False  "
      ]
     },
     "execution_count": 80,
     "metadata": {},
     "output_type": "execute_result"
    }
   ],
   "source": [
    "df_pr.dropna(inplace = True)\n",
    "df_pr.head()"
   ]
  },
  {
   "cell_type": "code",
   "execution_count": 81,
   "metadata": {},
   "outputs": [],
   "source": [
    "del df_pr['text']\n",
    "del df_pr['most_rus']\n",
    "del df_pr['is_existent']\n",
    "del df_pr['good_len']"
   ]
  },
  {
   "cell_type": "code",
   "execution_count": 82,
   "metadata": {},
   "outputs": [
    {
     "data": {
      "text/plain": [
       "315143"
      ]
     },
     "execution_count": 82,
     "metadata": {},
     "output_type": "execute_result"
    }
   ],
   "source": [
    "len(df_pr)"
   ]
  },
  {
   "cell_type": "code",
   "execution_count": 72,
   "metadata": {},
   "outputs": [],
   "source": [
    "# df_pr.to_csv(\"OtvetiVS2ch_preprocessed-NO_FILTER.csv\", index = None) \n",
    "df_pr.to_csv(\"OtvetiVS2ch_preprocessed_iteration2.csv\", index = None)"
   ]
  },
  {
   "cell_type": "code",
   "execution_count": null,
   "metadata": {},
   "outputs": [],
   "source": []
  }
 ],
 "metadata": {
  "kernelspec": {
   "display_name": "Python 3",
   "language": "python",
   "name": "python3"
  },
  "language_info": {
   "codemirror_mode": {
    "name": "ipython",
    "version": 3
   },
   "file_extension": ".py",
   "mimetype": "text/x-python",
   "name": "python",
   "nbconvert_exporter": "python",
   "pygments_lexer": "ipython3",
   "version": "3.8.10"
  }
 },
 "nbformat": 4,
 "nbformat_minor": 4
}
