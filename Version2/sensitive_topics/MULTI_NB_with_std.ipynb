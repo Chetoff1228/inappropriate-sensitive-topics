{
 "cells": [
  {
   "cell_type": "code",
   "execution_count": null,
   "metadata": {},
   "outputs": [],
   "source": [
    "https://scikit-learn.org/stable/tutorial/text_analytics/working_with_text_data.html"
   ]
  },
  {
   "cell_type": "code",
   "execution_count": 51,
   "metadata": {},
   "outputs": [],
   "source": [
    "import pandas as pd\n",
    "from sklearn.linear_model import LogisticRegression\n",
    "from sklearn.model_selection import cross_val_score, StratifiedKFold\n",
    "from sklearn.feature_extraction.text import TfidfVectorizer\n",
    "from scipy.sparse import hstack\n",
    "from matplotlib import pyplot as plt\n",
    "import seaborn as sns\n",
    "from sklearn.metrics import classification_report\n",
    "from sklearn.naive_bayes import MultinomialNB\n",
    "from sklearn.feature_extraction.text import TfidfTransformer\n",
    "from sklearn.metrics import precision_recall_fscore_support\n",
    "import statistics\n",
    "import numpy as np"
   ]
  },
  {
   "cell_type": "code",
   "execution_count": 52,
   "metadata": {},
   "outputs": [],
   "source": [
    "# df = pd.read_csv(\"train.csv\")\n",
    "# df_val = pd.read_csv(\"val.csv\")\n",
    "# df_test = pd.read_csv(\"test.csv\")\n",
    "\n",
    "# RST = 0\n",
    "# RST = 1\n",
    "RST = 3\n",
    "df = pd.read_csv(\"./splits_final/train_randst{}.csv\".format(RST))\n",
    "df_val = pd.read_csv(\"./splits_final/val_randst{}.csv\".format(RST))\n",
    "df_test = pd.read_csv(\"./splits_final/test_randst{}.csv\".format(RST))"
   ]
  },
  {
   "cell_type": "code",
   "execution_count": 53,
   "metadata": {},
   "outputs": [],
   "source": [
    "def round_val(val):\n",
    "    return round(val)\n",
    "label_name = 'inappropriate'\n",
    "threshold = 0\n",
    "df = df[(df[label_name] >= 1-threshold)|(df[label_name] <=threshold)]\n",
    "df_val = df_val[(df_val[label_name] >= 1-threshold)|(df_val[label_name] <=threshold)]\n",
    "df_test = df_test[(df_test[label_name] >= 1-threshold) | (df_test[label_name] <=threshold)]\n",
    "\n",
    "df[label_name] = df[label_name].apply(round_val)\n",
    "df_val[label_name] = df_val[label_name].apply(round_val)\n",
    "df_test[label_name] = df_test[label_name].apply(round_val)"
   ]
  },
  {
   "cell_type": "code",
   "execution_count": 54,
   "metadata": {},
   "outputs": [
    {
     "name": "stderr",
     "output_type": "stream",
     "text": [
      "[nltk_data] Downloading package stopwords to\n",
      "[nltk_data]     C:\\Users\\N.Babakov\\AppData\\Roaming\\nltk_data...\n",
      "[nltk_data]   Package stopwords is already up-to-date!\n"
     ]
    }
   ],
   "source": [
    ">>> import pymorphy2\n",
    "import re\n",
    ">>> morph = pymorphy2.MorphAnalyzer()\n",
    "\n",
    "from pymystem3 import Mystem\n",
    "from string import punctuation\n",
    "from tqdm import tqdm\n",
    "mystem = Mystem() \n",
    "\n",
    "import nltk\n",
    "nltk.download(\"stopwords\")\n",
    "from nltk.corpus import stopwords\n",
    "russian_stopwords = stopwords.words(\"russian\")"
   ]
  },
  {
   "cell_type": "code",
   "execution_count": 55,
   "metadata": {},
   "outputs": [
    {
     "data": {
      "text/plain": [
       "'мама мыло'"
      ]
     },
     "execution_count": 55,
     "metadata": {},
     "output_type": "execute_result"
    }
   ],
   "source": [
    "def preprocess_text(text):\n",
    "    \n",
    "    text = re.sub(\"[^а-яА-Я]\",\" \",text)\n",
    "    text = re.sub(\" +\",\" \",text)\n",
    "    text = text.split()\n",
    "\n",
    "    tokens = [morph.parse(w)[0].normal_form for w in text]\n",
    "    tokens = [token for token in tokens if token not in russian_stopwords\\\n",
    "              and token != \" \" \\\n",
    "              and token.strip() not in punctuation]\n",
    "    \n",
    "    text = \" \".join(tokens)\n",
    "    \n",
    "    return text\n",
    "\n",
    "preprocess_text(\"мама23663 мыла /!\")"
   ]
  },
  {
   "cell_type": "code",
   "execution_count": 56,
   "metadata": {},
   "outputs": [],
   "source": [
    "train_val = pd.concat([df, df_val])\n"
   ]
  },
  {
   "cell_type": "code",
   "execution_count": 57,
   "metadata": {},
   "outputs": [
    {
     "name": "stderr",
     "output_type": "stream",
     "text": [
      "100%|███████████████████████████████████████████████████████████████████████████| 95379/95379 [10:10<00:00, 156.35it/s]\n"
     ]
    }
   ],
   "source": [
    "processed = []\n",
    "for t in tqdm(train_val['text'].tolist()):\n",
    "    pr = preprocess_text(t)\n",
    "    processed.append(pr)\n",
    "    \n",
    "train_val['processed'] = processed"
   ]
  },
  {
   "cell_type": "code",
   "execution_count": 58,
   "metadata": {},
   "outputs": [
    {
     "name": "stderr",
     "output_type": "stream",
     "text": [
      "100%|███████████████████████████████████████████████████████████████████████████| 10693/10693 [01:11<00:00, 150.47it/s]\n"
     ]
    }
   ],
   "source": [
    "processed = []\n",
    "for t in tqdm(df_test['text'].tolist()):\n",
    "    pr = preprocess_text(t)\n",
    "    processed.append(pr)\n",
    "df_test['processed'] = processed"
   ]
  },
  {
   "cell_type": "code",
   "execution_count": 59,
   "metadata": {},
   "outputs": [],
   "source": [
    "# train_val.to_csv(\"train_val_simp_processed.csv\",index = None)\n",
    "# df_test.to_csv(\"test_simp_processed.csv\",index = None)\n",
    "\n",
    "train_val.to_csv(\"train_val_simp_processed_rst{}.csv\".format(RST),index = None)\n",
    "df_test.to_csv(\"test_simp_processed_rst{}.csv\".format(RST),index = None)"
   ]
  },
  {
   "cell_type": "code",
   "execution_count": 60,
   "metadata": {},
   "outputs": [],
   "source": [
    "# train_val = pd.read_csv(\"train_val_simp_processed.csv\")\n",
    "# df_test= pd.read_csv(\"test_simp_processed.csv\")\n",
    "\n",
    "train_val = pd.read_csv(\"train_val_simp_processed_rst{}.csv\".format(RST))\n",
    "df_test= pd.read_csv(\"test_simp_processed_rst{}.csv\".format(RST))"
   ]
  },
  {
   "cell_type": "code",
   "execution_count": null,
   "metadata": {},
   "outputs": [],
   "source": []
  },
  {
   "cell_type": "code",
   "execution_count": null,
   "metadata": {},
   "outputs": [],
   "source": [
    "# MNB "
   ]
  },
  {
   "cell_type": "code",
   "execution_count": 61,
   "metadata": {},
   "outputs": [],
   "source": [
    "from sklearn.pipeline import Pipeline\n",
    "from sklearn.feature_extraction.text import CountVectorizer\n",
    "text_clf = Pipeline([\n",
    "    ('vect', CountVectorizer()),\n",
    "    ('tfidf', TfidfTransformer()),\n",
    "    ('clf', MultinomialNB()),\n",
    "])"
   ]
  },
  {
   "cell_type": "code",
   "execution_count": 62,
   "metadata": {
    "scrolled": true
   },
   "outputs": [
    {
     "data": {
      "text/plain": [
       "Pipeline(steps=[('vect', CountVectorizer()), ('tfidf', TfidfTransformer()),\n",
       "                ('clf', MultinomialNB())])"
      ]
     },
     "execution_count": 62,
     "metadata": {},
     "output_type": "execute_result"
    }
   ],
   "source": [
    "text_clf.fit(train_val.processed.values.astype('U'), train_val.inappropriate.tolist())"
   ]
  },
  {
   "cell_type": "code",
   "execution_count": 63,
   "metadata": {},
   "outputs": [],
   "source": [
    "predicted = text_clf.predict(df_test.processed.values.astype('U'))"
   ]
  },
  {
   "cell_type": "code",
   "execution_count": 64,
   "metadata": {},
   "outputs": [
    {
     "data": {
      "text/plain": [
       "array([1, 1, 0, ..., 0, 0, 0])"
      ]
     },
     "execution_count": 64,
     "metadata": {},
     "output_type": "execute_result"
    }
   ],
   "source": [
    "predicted"
   ]
  },
  {
   "cell_type": "code",
   "execution_count": 37,
   "metadata": {},
   "outputs": [],
   "source": [
    "# is_correct = [i == j for i,j in zip(df_test['inappropriate'].tolist(), predicted)]\n",
    "# df_res = pd.DataFrame({'correct':is_correct})\n",
    "# df_res.to_csv(\"tf_idf_nb.csv\",index = None)"
   ]
  },
  {
   "cell_type": "code",
   "execution_count": 79,
   "metadata": {
    "scrolled": true
   },
   "outputs": [
    {
     "data": {
      "text/plain": [
       "(0.8216945860378545, 0.8285794444963995, 0.82328598742569, None)"
      ]
     },
     "execution_count": 79,
     "metadata": {},
     "output_type": "execute_result"
    }
   ],
   "source": [
    "precision_recall_fscore_support(df_test['inappropriate'], predicted, average='weighted')"
   ]
  },
  {
   "cell_type": "code",
   "execution_count": 19,
   "metadata": {},
   "outputs": [],
   "source": [
    "# (0.7976464004625521, 0.7700899195456696, 0.6982848836679432, None) -- PBLIC\n",
    "# (0.7976464004625521, 0.7700899195456696, 0.6982848836679432, None) --RST0\n",
    "# (0.7918775952457945, 0.7710155952833777, 0.7008159000605697, None) --RST1\n",
    "(0.8002019427256051, 0.7715327784531937, 0.701345281861393, None)"
   ]
  },
  {
   "cell_type": "code",
   "execution_count": 66,
   "metadata": {},
   "outputs": [
    {
     "name": "stdout",
     "output_type": "stream",
     "text": [
      "prec 0.7964666666666668 0.0034422215049135256\n",
      "recal 0.7708333333333334 0.0006236095644623044\n",
      "fsc 0.6997666666666666 0.0013572848714335194\n"
     ]
    }
   ],
   "source": [
    "prec = [0.7976, 0.7918,0.80]\n",
    "rec = [0.770,0.771, 0.7715]\n",
    "fsc = [0.698, 0.7,0.7013]\n",
    "get_metrics(prec, rec, fsc)"
   ]
  },
  {
   "cell_type": "code",
   "execution_count": 67,
   "metadata": {},
   "outputs": [
    {
     "name": "stdout",
     "output_type": "stream",
     "text": [
      "              precision    recall  f1-score   support\n",
      "\n",
      "           0       0.77      0.99      0.87      7928\n",
      "           1       0.90      0.13      0.23      2765\n",
      "\n",
      "    accuracy                           0.77     10693\n",
      "   macro avg       0.83      0.56      0.55     10693\n",
      "weighted avg       0.80      0.77      0.70     10693\n",
      "\n"
     ]
    }
   ],
   "source": [
    "print(classification_report(df_test['inappropriate'], predicted))"
   ]
  },
  {
   "cell_type": "code",
   "execution_count": 21,
   "metadata": {},
   "outputs": [],
   "source": [
    "## SGD"
   ]
  },
  {
   "cell_type": "code",
   "execution_count": 68,
   "metadata": {},
   "outputs": [],
   "source": [
    "from sklearn.linear_model import SGDClassifier\n",
    "text_clf = Pipeline([\n",
    "    ('vect', CountVectorizer()),\n",
    "    ('tfidf', TfidfTransformer()),\n",
    "    ('clf', SGDClassifier(loss='hinge', penalty='l2',\n",
    "                          alpha=1e-3, random_state=42,\n",
    "                          max_iter=5, tol=None)),\n",
    "])\n"
   ]
  },
  {
   "cell_type": "code",
   "execution_count": 69,
   "metadata": {},
   "outputs": [
    {
     "data": {
      "text/plain": [
       "Pipeline(steps=[('vect', CountVectorizer()), ('tfidf', TfidfTransformer()),\n",
       "                ('clf',\n",
       "                 SGDClassifier(alpha=0.001, max_iter=5, random_state=42,\n",
       "                               tol=None))])"
      ]
     },
     "execution_count": 69,
     "metadata": {},
     "output_type": "execute_result"
    }
   ],
   "source": [
    "text_clf.fit(train_val.processed.values.astype('U'), train_val.inappropriate.tolist())"
   ]
  },
  {
   "cell_type": "code",
   "execution_count": 70,
   "metadata": {},
   "outputs": [],
   "source": [
    "predicted = text_clf.predict(df_test.processed.values.astype('U'))\n",
    "# is_correct = [i == j for i,j in zip(df_test['inappropriate'].tolist(), predicted)]\n",
    "# df_res = pd.DataFrame({'correct':is_correct})\n",
    "# df_res.to_csv(\"tf_idf_sgd.csv\",index = None)"
   ]
  },
  {
   "cell_type": "code",
   "execution_count": 71,
   "metadata": {},
   "outputs": [
    {
     "data": {
      "text/plain": [
       "(0.8085405920600582, 0.7418872159356589, 0.6324305755690145, None)"
      ]
     },
     "execution_count": 71,
     "metadata": {},
     "output_type": "execute_result"
    }
   ],
   "source": [
    "precision_recall_fscore_support(df_test['inappropriate'], predicted, average='weighted')"
   ]
  },
  {
   "cell_type": "code",
   "execution_count": null,
   "metadata": {},
   "outputs": [],
   "source": [
    "# (0.8086577015494752, 0.7421675343114056, 0.6325234614624268, None -- PUBLIC\n",
    "# (0.8086577015494752, 0.7421675343114056, 0.6325234614624268, None) --RST0\n",
    "# (0.8091492600875875, 0.8176112590338531, 0.8110678250234805, None)--RST0\n",
    "0.8085405920600582, 0.7418872159356589, 0.6324305755690145"
   ]
  },
  {
   "cell_type": "code",
   "execution_count": 47,
   "metadata": {},
   "outputs": [],
   "source": [
    "def get_metrics(prec, recal, fsc):\n",
    "    print(\"prec\",np.mean(prec),np.std(prec))\n",
    "    print(\"recal\",np.mean(recal),np.std(recal))\n",
    "    print(\"fsc\",np.mean(fsc),np.std(fsc))"
   ]
  },
  {
   "cell_type": "code",
   "execution_count": 72,
   "metadata": {},
   "outputs": [
    {
     "name": "stdout",
     "output_type": "stream",
     "text": [
      "prec 0.8083333333333332 0.00047140452079103207\n",
      "recal 0.7669333333333332 0.03540257366664492\n",
      "fsc 0.6916666666666668 0.08438140922159469\n"
     ]
    }
   ],
   "source": [
    "pr = [0.808, 0.809,0.808 ]\n",
    "rec = [0.742,0.817,0.7418]\n",
    "f_sc = [0.632,  0.811, 0.632]\n",
    "get_metrics(pr, rec, f_sc)"
   ]
  },
  {
   "cell_type": "code",
   "execution_count": 73,
   "metadata": {},
   "outputs": [
    {
     "name": "stdout",
     "output_type": "stream",
     "text": [
      "              precision    recall  f1-score   support\n",
      "\n",
      "           0       0.74      1.00      0.85      7928\n",
      "           1       1.00      0.00      0.00      2765\n",
      "\n",
      "    accuracy                           0.74     10693\n",
      "   macro avg       0.87      0.50      0.43     10693\n",
      "weighted avg       0.81      0.74      0.63     10693\n",
      "\n"
     ]
    }
   ],
   "source": [
    "print(classification_report(df_test['inappropriate'], predicted))"
   ]
  },
  {
   "cell_type": "code",
   "execution_count": 80,
   "metadata": {},
   "outputs": [],
   "source": [
    "# BERT_STD"
   ]
  },
  {
   "cell_type": "code",
   "execution_count": 81,
   "metadata": {},
   "outputs": [
    {
     "data": {
      "text/plain": [
       "(0.8219650238428571, 0.012928157447163446)"
      ]
     },
     "execution_count": 81,
     "metadata": {},
     "output_type": "execute_result"
    }
   ],
   "source": [
    "f = [0.8005571591,\n",
    "0.8075699641,\n",
    "0.8178817601,\n",
    "0.8278513865,\n",
    "0.8296364764,\n",
    "0.8302465235,\n",
    "0.8400118972]\n",
    "np.mean(f),np.std(f)"
   ]
  },
  {
   "cell_type": "code",
   "execution_count": 82,
   "metadata": {},
   "outputs": [
    {
     "data": {
      "text/plain": [
       "(0.8432951252, 0.005094773681746005)"
      ]
     },
     "execution_count": 82,
     "metadata": {},
     "output_type": "execute_result"
    }
   ],
   "source": [
    "p = [0.8347609946,\n",
    "0.8381595759,\n",
    "0.8419571719,\n",
    "0.8444693817,\n",
    "0.8453056798,\n",
    "0.8475647549,\n",
    "0.8508483176]\n",
    "np.mean(p),np.std(p)"
   ]
  },
  {
   "cell_type": "code",
   "execution_count": 83,
   "metadata": {},
   "outputs": [
    {
     "data": {
      "text/plain": [
       "(0.8266762612571429, 0.012127927102742882)"
      ]
     },
     "execution_count": 83,
     "metadata": {},
     "output_type": "execute_result"
    }
   ],
   "source": [
    "r = [0.8063696426,\n",
    "0.8126376419,\n",
    "0.8239583333,\n",
    "0.8322916667,\n",
    "0.8338541667,\n",
    "0.8346153846,\n",
    "0.843006993]\n",
    "np.mean(r),np.std(r)"
   ]
  },
  {
   "cell_type": "code",
   "execution_count": null,
   "metadata": {},
   "outputs": [],
   "source": []
  },
  {
   "cell_type": "code",
   "execution_count": null,
   "metadata": {},
   "outputs": [],
   "source": [
    "# LogisticRegression"
   ]
  },
  {
   "cell_type": "code",
   "execution_count": 74,
   "metadata": {},
   "outputs": [],
   "source": [
    "from sklearn.linear_model import SGDClassifier\n",
    "text_clf = Pipeline([\n",
    "    ('vect', CountVectorizer()),\n",
    "    ('tfidf', TfidfTransformer()),\n",
    "    ('clf', LogisticRegression(C=5e1, solver='lbfgs', multi_class='multinomial', random_state=17, n_jobs=4)),])"
   ]
  },
  {
   "cell_type": "code",
   "execution_count": 75,
   "metadata": {},
   "outputs": [
    {
     "data": {
      "text/plain": [
       "Pipeline(steps=[('vect', CountVectorizer()), ('tfidf', TfidfTransformer()),\n",
       "                ('clf',\n",
       "                 LogisticRegression(C=50.0, multi_class='multinomial', n_jobs=4,\n",
       "                                    random_state=17))])"
      ]
     },
     "execution_count": 75,
     "metadata": {},
     "output_type": "execute_result"
    }
   ],
   "source": [
    "text_clf.fit(train_val.processed.values.astype('U'), train_val.inappropriate.tolist())"
   ]
  },
  {
   "cell_type": "code",
   "execution_count": 76,
   "metadata": {},
   "outputs": [],
   "source": [
    "predicted = text_clf.predict(df_test.processed.values.astype('U'))"
   ]
  },
  {
   "cell_type": "code",
   "execution_count": 77,
   "metadata": {},
   "outputs": [
    {
     "data": {
      "text/plain": [
       "(0.8216945860378545, 0.8285794444963995, 0.82328598742569, None)"
      ]
     },
     "execution_count": 77,
     "metadata": {},
     "output_type": "execute_result"
    }
   ],
   "source": [
    "precision_recall_fscore_support(df_test['inappropriate'], predicted, average='weighted')"
   ]
  },
  {
   "cell_type": "code",
   "execution_count": 28,
   "metadata": {},
   "outputs": [],
   "source": [
    "# (0.8175494470282394, 0.8258400378608614, 0.8184311232990775, None) -- PUBLIC\n",
    "# (0.8175494470282394, 0.8258400378608614, 0.8184311232990775, None) --RST0\n",
    "# (0.8091492600875875, 0.8176112590338531, 0.8110678250234805, None)--RST1\n",
    "0.8216945860378545, 0.8285794444963995, 0.82328598742569"
   ]
  },
  {
   "cell_type": "code",
   "execution_count": 78,
   "metadata": {},
   "outputs": [
    {
     "name": "stdout",
     "output_type": "stream",
     "text": [
      "prec 0.8160966666666667 0.0052347577679286\n",
      "recal 0.8233333333333333 0.004642796092394711\n",
      "fsc 0.8174266666666666 0.005029654284562908\n"
     ]
    }
   ],
   "source": [
    "prec = [0.8175, 0.8091,0.82169]\n",
    "rec = [0.825, 0.817,0.828]\n",
    "fsc = [0.818,  0.811,0.82328]\n",
    "get_metrics(prec, rec, fsc)"
   ]
  },
  {
   "cell_type": "code",
   "execution_count": null,
   "metadata": {},
   "outputs": [],
   "source": [
    "is_correct = [i == j for i,j in zip(df_test['inappropriate'].tolist(), predicted)]\n",
    "df_res = pd.DataFrame({'correct':is_correct})\n",
    "df_res.to_csv(\"tf_idf_logreg.csv\",index = None)"
   ]
  },
  {
   "cell_type": "code",
   "execution_count": null,
   "metadata": {},
   "outputs": [],
   "source": []
  },
  {
   "cell_type": "code",
   "execution_count": null,
   "metadata": {},
   "outputs": [],
   "source": []
  },
  {
   "cell_type": "code",
   "execution_count": null,
   "metadata": {},
   "outputs": [],
   "source": []
  },
  {
   "cell_type": "code",
   "execution_count": null,
   "metadata": {},
   "outputs": [],
   "source": [
    "from sklearn.model_selection import GridSearchCV\n",
    "parameters = {\n",
    "    'vect__ngram_range': [(1, 1), (1, 2)],\n",
    "    'tfidf__use_idf': (True, False),\n",
    "    'clf__alpha': (1e-2, 1e-3),\n",
    "}"
   ]
  },
  {
   "cell_type": "code",
   "execution_count": null,
   "metadata": {},
   "outputs": [],
   "source": [
    "gs_clf = GridSearchCV(text_clf, parameters, cv=5, n_jobs=-1)"
   ]
  },
  {
   "cell_type": "code",
   "execution_count": null,
   "metadata": {},
   "outputs": [],
   "source": [
    "gs_clf = gs_clf.fit(train_val.processed.tolist(), train_val.inappropriate.tolist())"
   ]
  },
  {
   "cell_type": "code",
   "execution_count": null,
   "metadata": {},
   "outputs": [],
   "source": [
    "gs_clf.best_score_"
   ]
  },
  {
   "cell_type": "code",
   "execution_count": null,
   "metadata": {},
   "outputs": [],
   "source": [
    "predicted = gs_clf.predict(df_test.processed.tolist())"
   ]
  },
  {
   "cell_type": "code",
   "execution_count": null,
   "metadata": {},
   "outputs": [],
   "source": [
    "precision_recall_fscore_support(df_test['inappropriate'], predicted, average='weighted')"
   ]
  },
  {
   "cell_type": "code",
   "execution_count": null,
   "metadata": {},
   "outputs": [],
   "source": [
    "print(classification_report(df_test['inappropriate'], predicted))"
   ]
  }
 ],
 "metadata": {
  "kernelspec": {
   "display_name": "Python 3",
   "language": "python",
   "name": "python3"
  },
  "language_info": {
   "codemirror_mode": {
    "name": "ipython",
    "version": 3
   },
   "file_extension": ".py",
   "mimetype": "text/x-python",
   "name": "python",
   "nbconvert_exporter": "python",
   "pygments_lexer": "ipython3",
   "version": "3.8.10"
  }
 },
 "nbformat": 4,
 "nbformat_minor": 4
}
