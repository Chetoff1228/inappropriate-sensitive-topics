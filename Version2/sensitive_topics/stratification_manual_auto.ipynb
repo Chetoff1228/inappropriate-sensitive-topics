{
 "cells": [
  {
   "cell_type": "raw",
   "metadata": {},
   "source": [
    "Идея - проверить качество обучения на только ручных данных и на ручных + полуавтоматических\n",
    "При этом используем одинаковый тестсет"
   ]
  },
  {
   "cell_type": "markdown",
   "metadata": {},
   "source": [
    "# Стратифицируем только ручные"
   ]
  },
  {
   "cell_type": "code",
   "execution_count": 1,
   "metadata": {},
   "outputs": [],
   "source": [
    "import pandas as pd\n",
    "from collections import Counter\n",
    "import os\n"
   ]
  },
  {
   "cell_type": "code",
   "execution_count": 2,
   "metadata": {},
   "outputs": [],
   "source": [
    "df_manual =pd.read_csv(\"../../Version1//sensitive_topics/Sensitive_topics_crowdsource_only.csv\")"
   ]
  },
  {
   "cell_type": "code",
   "execution_count": 3,
   "metadata": {},
   "outputs": [
    {
     "data": {
      "text/plain": [
       "Index(['text', 'offline_crime', 'online_crime', 'drugs', 'gambling',\n",
       "       'pornography', 'prostitution', 'slavery', 'suicide', 'terrorism',\n",
       "       'weapons', 'body_shaming', 'health_shaming', 'politics', 'racism',\n",
       "       'religion', 'sexual_minorities', 'sexism', 'social_injustice'],\n",
       "      dtype='object')"
      ]
     },
     "execution_count": 3,
     "metadata": {},
     "output_type": "execute_result"
    }
   ],
   "source": [
    "df_manual.columns"
   ]
  },
  {
   "cell_type": "code",
   "execution_count": 4,
   "metadata": {},
   "outputs": [
    {
     "data": {
      "text/plain": [
       "(18,\n",
       " ['offline_crime',\n",
       "  'online_crime',\n",
       "  'drugs',\n",
       "  'gambling',\n",
       "  'pornography',\n",
       "  'prostitution',\n",
       "  'slavery',\n",
       "  'suicide',\n",
       "  'terrorism',\n",
       "  'weapons',\n",
       "  'body_shaming',\n",
       "  'health_shaming',\n",
       "  'politics',\n",
       "  'racism',\n",
       "  'religion',\n",
       "  'sexual_minorities',\n",
       "  'sexism',\n",
       "  'social_injustice'])"
      ]
     },
     "execution_count": 4,
     "metadata": {},
     "output_type": "execute_result"
    }
   ],
   "source": [
    "topics = list(df_manual.columns)[1:]\n",
    "len(topics), topics"
   ]
  },
  {
   "cell_type": "code",
   "execution_count": 5,
   "metadata": {},
   "outputs": [],
   "source": [
    "is_multilabel = []\n",
    "multilabel_samples_count = 0\n",
    "for i,el in df_manual.iterrows():\n",
    "    current_non_null_topics_count = 0\n",
    "    for t in topics:\n",
    "        if el[t] >= 0.5:\n",
    "            current_non_null_topics_count += 1\n",
    "    if current_non_null_topics_count > 1:\n",
    "        multilabel_samples_count += 1\n",
    "        is_multilabel.append(current_non_null_topics_count)\n",
    "    elif current_non_null_topics_count == 1:\n",
    "        is_multilabel.append(1)\n",
    "    else:\n",
    "        is_multilabel.append(0)"
   ]
  },
  {
   "cell_type": "code",
   "execution_count": 6,
   "metadata": {},
   "outputs": [],
   "source": [
    "df_manual['multiclass'] = is_multilabel"
   ]
  },
  {
   "cell_type": "code",
   "execution_count": 7,
   "metadata": {},
   "outputs": [
    {
     "data": {
      "text/html": [
       "<div>\n",
       "<style scoped>\n",
       "    .dataframe tbody tr th:only-of-type {\n",
       "        vertical-align: middle;\n",
       "    }\n",
       "\n",
       "    .dataframe tbody tr th {\n",
       "        vertical-align: top;\n",
       "    }\n",
       "\n",
       "    .dataframe thead th {\n",
       "        text-align: right;\n",
       "    }\n",
       "</style>\n",
       "<table border=\"1\" class=\"dataframe\">\n",
       "  <thead>\n",
       "    <tr style=\"text-align: right;\">\n",
       "      <th></th>\n",
       "      <th>text</th>\n",
       "      <th>offline_crime</th>\n",
       "      <th>online_crime</th>\n",
       "      <th>drugs</th>\n",
       "      <th>gambling</th>\n",
       "      <th>pornography</th>\n",
       "      <th>prostitution</th>\n",
       "      <th>slavery</th>\n",
       "      <th>suicide</th>\n",
       "      <th>terrorism</th>\n",
       "      <th>weapons</th>\n",
       "      <th>body_shaming</th>\n",
       "      <th>health_shaming</th>\n",
       "      <th>politics</th>\n",
       "      <th>racism</th>\n",
       "      <th>religion</th>\n",
       "      <th>sexual_minorities</th>\n",
       "      <th>sexism</th>\n",
       "      <th>social_injustice</th>\n",
       "      <th>multiclass</th>\n",
       "    </tr>\n",
       "  </thead>\n",
       "  <tbody>\n",
       "    <tr>\n",
       "      <th>0</th>\n",
       "      <td>Нееет, родаки обязаны родив личинку дать ей об...</td>\n",
       "      <td>0.0</td>\n",
       "      <td>0.0</td>\n",
       "      <td>0.0</td>\n",
       "      <td>0.0</td>\n",
       "      <td>0.0</td>\n",
       "      <td>0.0</td>\n",
       "      <td>0.0</td>\n",
       "      <td>0.0</td>\n",
       "      <td>0.0</td>\n",
       "      <td>0.0</td>\n",
       "      <td>0.0</td>\n",
       "      <td>0.0</td>\n",
       "      <td>0.0</td>\n",
       "      <td>0.19</td>\n",
       "      <td>0.0</td>\n",
       "      <td>1.0</td>\n",
       "      <td>1.0</td>\n",
       "      <td>1.0</td>\n",
       "      <td>3</td>\n",
       "    </tr>\n",
       "    <tr>\n",
       "      <th>1</th>\n",
       "      <td>баба в мусульманских странах она не имеет прав...</td>\n",
       "      <td>1.0</td>\n",
       "      <td>0.0</td>\n",
       "      <td>0.0</td>\n",
       "      <td>0.0</td>\n",
       "      <td>0.0</td>\n",
       "      <td>0.0</td>\n",
       "      <td>0.0</td>\n",
       "      <td>0.0</td>\n",
       "      <td>0.0</td>\n",
       "      <td>0.0</td>\n",
       "      <td>0.0</td>\n",
       "      <td>0.0</td>\n",
       "      <td>0.0</td>\n",
       "      <td>0.00</td>\n",
       "      <td>1.0</td>\n",
       "      <td>0.0</td>\n",
       "      <td>1.0</td>\n",
       "      <td>1.0</td>\n",
       "      <td>4</td>\n",
       "    </tr>\n",
       "  </tbody>\n",
       "</table>\n",
       "</div>"
      ],
      "text/plain": [
       "                                                text  offline_crime  \\\n",
       "0  Нееет, родаки обязаны родив личинку дать ей об...            0.0   \n",
       "1  баба в мусульманских странах она не имеет прав...            1.0   \n",
       "\n",
       "   online_crime  drugs  gambling  pornography  prostitution  slavery  suicide  \\\n",
       "0           0.0    0.0       0.0          0.0           0.0      0.0      0.0   \n",
       "1           0.0    0.0       0.0          0.0           0.0      0.0      0.0   \n",
       "\n",
       "   terrorism  weapons  body_shaming  health_shaming  politics  racism  \\\n",
       "0        0.0      0.0           0.0             0.0       0.0    0.19   \n",
       "1        0.0      0.0           0.0             0.0       0.0    0.00   \n",
       "\n",
       "   religion  sexual_minorities  sexism  social_injustice  multiclass  \n",
       "0       0.0                1.0     1.0               1.0           3  \n",
       "1       1.0                0.0     1.0               1.0           4  "
      ]
     },
     "execution_count": 7,
     "metadata": {},
     "output_type": "execute_result"
    }
   ],
   "source": [
    "df_manual.head(2)"
   ]
  },
  {
   "cell_type": "code",
   "execution_count": 8,
   "metadata": {},
   "outputs": [],
   "source": [
    "df_multi_none = df_manual[df_manual['multiclass'] == 0]\n",
    "df_multi_mono = df_manual[df_manual['multiclass'] == 1]\n",
    "df_multi_many = df_manual[df_manual['multiclass'] > 1]"
   ]
  },
  {
   "cell_type": "code",
   "execution_count": 10,
   "metadata": {},
   "outputs": [],
   "source": [
    "split_train = 0.7\n",
    "split_val = 0.85\n",
    "\n",
    "# RANDOM_STATE = 0\n",
    "# RANDOM_STATE = 1\n",
    "RANDOM_STATE = 2"
   ]
  },
  {
   "cell_type": "code",
   "execution_count": 11,
   "metadata": {},
   "outputs": [],
   "source": [
    "def split(df):\n",
    "    df_shuffled = df.sample(frac=1, random_state = RANDOM_STATE).reset_index(drop=True)\n",
    "\n",
    "    split_index_train = int(len(df_shuffled)*split_train)\n",
    "    split_index_val = int(len(df_shuffled)*split_val)\n",
    "\n",
    "    df_shuffled_train = df_shuffled[:split_index_train]\n",
    "    df_shuffled_val = df_shuffled[split_index_train:split_index_val]\n",
    "    df_shuffled_test = df_shuffled[split_index_val:]\n",
    "    \n",
    "    return df_shuffled_train, df_shuffled_val, df_shuffled_test"
   ]
  },
  {
   "cell_type": "code",
   "execution_count": 12,
   "metadata": {},
   "outputs": [],
   "source": [
    "# No topics\n",
    "df_multi_none_train, df_multi_none_val, df_multi_none_test = split(df_multi_none)"
   ]
  },
  {
   "cell_type": "code",
   "execution_count": 13,
   "metadata": {},
   "outputs": [],
   "source": [
    "#One label samples\n",
    "handled_samples = set()\n",
    "df_multi_mono_train_list = []\n",
    "df_multi_mono_val_list = []\n",
    "df_multi_mono_test_list = []\n",
    "for t in topics:\n",
    "    df_mono_current_topic = df_multi_mono[df_multi_mono[t] >= 0.5]\n",
    "    df_mono_current_topic_train, df_mono_current_topic_val, df_mono_current_topic_test = split(df_mono_current_topic)\n",
    "    \n",
    "    df_multi_mono_train_list.append(df_mono_current_topic_train)\n",
    "    df_multi_mono_val_list.append(df_mono_current_topic_val)\n",
    "    df_multi_mono_test_list.append(df_mono_current_topic_test)\n",
    "    \n",
    "df_multi_mono_train = pd.concat(df_multi_mono_train_list)\n",
    "df_multi_mono_val = pd.concat(df_multi_mono_val_list)\n",
    "df_multi_mono_test = pd.concat(df_multi_mono_test_list)"
   ]
  },
  {
   "cell_type": "code",
   "execution_count": 14,
   "metadata": {},
   "outputs": [],
   "source": [
    "## Adjust multi"
   ]
  },
  {
   "cell_type": "code",
   "execution_count": 15,
   "metadata": {},
   "outputs": [],
   "source": [
    "one_sample_labels = []\n",
    "for i,el in df_multi_many.iterrows():\n",
    "    current_el_classes = []\n",
    "    for t in topics:\n",
    "        if el[t] > 0.5:\n",
    "            current_el_classes.append(t)\n",
    "    current_el_classes = sorted(current_el_classes)\n",
    "    current_el_classes = '='.join(current_el_classes)\n",
    "    one_sample_labels.append(current_el_classes)\n"
   ]
  },
  {
   "cell_type": "code",
   "execution_count": 16,
   "metadata": {},
   "outputs": [
    {
     "data": {
      "text/plain": [
       "[('pornography=sexual_minorities', 261),\n",
       " ('politics=racism=social_injustice', 214),\n",
       " ('politics=racism', 192),\n",
       " ('body_shaming=pornography', 117),\n",
       " ('pornography=sexism', 114),\n",
       " ('prostitution=sexism', 91),\n",
       " ('politics=weapons', 87),\n",
       " ('politics=terrorism', 63),\n",
       " ('politics=social_injustice', 62),\n",
       " ('offline_crime=politics', 61)]"
      ]
     },
     "execution_count": 16,
     "metadata": {},
     "output_type": "execute_result"
    }
   ],
   "source": [
    "c = Counter(one_sample_labels)\n",
    "multisamples_counter_dict = dict(c)\n",
    "c.most_common(10)"
   ]
  },
  {
   "cell_type": "code",
   "execution_count": 17,
   "metadata": {},
   "outputs": [
    {
     "name": "stderr",
     "output_type": "stream",
     "text": [
      "<ipython-input-17-71733ff6f017>:1: SettingWithCopyWarning: \n",
      "A value is trying to be set on a copy of a slice from a DataFrame.\n",
      "Try using .loc[row_indexer,col_indexer] = value instead\n",
      "\n",
      "See the caveats in the documentation: https://pandas.pydata.org/pandas-docs/stable/user_guide/indexing.html#returning-a-view-versus-a-copy\n",
      "  df_multi_many['multiclass'] = one_sample_labels\n"
     ]
    }
   ],
   "source": [
    "df_multi_many['multiclass'] = one_sample_labels"
   ]
  },
  {
   "cell_type": "code",
   "execution_count": 18,
   "metadata": {},
   "outputs": [],
   "source": [
    "df_multi_many_train_list = []\n",
    "df_multi_many_val_list = []\n",
    "df_multi_many_test_list = []\n",
    "\n",
    "total_count = 0\n",
    "\n",
    "for multi_topics,count in multisamples_counter_dict.items():\n",
    "    df_multi_current_topic = df_multi_many[df_multi_many['multiclass'] ==multi_topics]\n",
    "    \n",
    "    try:\n",
    "        len(df_multi_current_topic) == count\n",
    "    except Exception as e:\n",
    "        print(multi_topics,count, len(df_multi_current_topic))\n",
    "        \n",
    "    total_count += count\n",
    "    if count < 2:\n",
    "        df_multi_many_train_list.append(df_multi_current_topic)\n",
    "    else:\n",
    "        df_multi_current_topic_train, df_multi_current_topic_val, df_multi_current_topic_test = split(df_multi_current_topic)\n",
    "        df_multi_many_train_list.append(df_multi_current_topic_train)\n",
    "        df_multi_many_val_list.append(df_multi_current_topic_val)\n",
    "        df_multi_many_test_list.append(df_multi_current_topic_test)\n",
    "        \n",
    "df_multi_many_train = pd.concat(df_multi_many_train_list)\n",
    "df_multi_many_val = pd.concat(df_multi_many_val_list)    \n",
    "df_multi_many_test = pd.concat(df_multi_many_test_list) "
   ]
  },
  {
   "cell_type": "code",
   "execution_count": 19,
   "metadata": {},
   "outputs": [
    {
     "data": {
      "text/plain": [
       "(3096, 3096)"
      ]
     },
     "execution_count": 19,
     "metadata": {},
     "output_type": "execute_result"
    }
   ],
   "source": [
    "len(df_multi_many_train) + len(df_multi_many_val) + len(df_multi_many_test), len(df_multi_many)"
   ]
  },
  {
   "cell_type": "code",
   "execution_count": 20,
   "metadata": {},
   "outputs": [
    {
     "data": {
      "text/plain": [
       "(2131, 417, 0.16)"
      ]
     },
     "execution_count": 20,
     "metadata": {},
     "output_type": "execute_result"
    }
   ],
   "source": [
    "len(df_multi_many_train), len(df_multi_many_val), round(len(df_multi_many_val)/ (len(df_multi_many_train) + len(df_multi_many_val)),2)"
   ]
  },
  {
   "cell_type": "code",
   "execution_count": 21,
   "metadata": {},
   "outputs": [],
   "source": [
    "necessary_columns = ['text'] + topics"
   ]
  },
  {
   "cell_type": "code",
   "execution_count": 22,
   "metadata": {},
   "outputs": [],
   "source": [
    "df_multi_mono_train = df_multi_mono_train[necessary_columns]\n",
    "df_multi_mono_val = df_multi_mono_val[necessary_columns]\n",
    "df_multi_mono_test = df_multi_mono_test[necessary_columns]\n",
    "\n",
    "df_multi_none_train = df_multi_none_train[necessary_columns]\n",
    "df_multi_none_val = df_multi_none_val[necessary_columns]\n",
    "df_multi_none_test = df_multi_none_test[necessary_columns]\n",
    "\n",
    "df_multi_many_train = df_multi_many_train[necessary_columns]\n",
    "df_multi_many_val = df_multi_many_val[necessary_columns]\n",
    "df_multi_many_test = df_multi_many_test[necessary_columns]"
   ]
  },
  {
   "cell_type": "code",
   "execution_count": 23,
   "metadata": {},
   "outputs": [],
   "source": [
    "df_train = pd.concat([df_multi_mono_train,df_multi_many_train, df_multi_none_train ])\n",
    "df_train.drop_duplicates(inplace=True, subset = ['text'], keep = 'first')\n",
    "\n",
    "df_val = pd.concat([df_multi_mono_val,df_multi_many_val,df_multi_none_val ])\n",
    "df_val.drop_duplicates(inplace=True, subset = ['text'], keep = 'first')\n",
    "\n",
    "df_test = pd.concat([df_multi_mono_test,df_multi_none_test,df_multi_many_test])\n",
    "df_test.drop_duplicates(inplace=True, subset = ['text'], keep = 'first')"
   ]
  },
  {
   "cell_type": "code",
   "execution_count": 24,
   "metadata": {},
   "outputs": [],
   "source": [
    "## Sanity check"
   ]
  },
  {
   "cell_type": "code",
   "execution_count": 25,
   "metadata": {},
   "outputs": [
    {
     "data": {
      "text/plain": [
       "(9941, 9938)"
      ]
     },
     "execution_count": 25,
     "metadata": {},
     "output_type": "execute_result"
    }
   ],
   "source": [
    "df_assert = pd.concat([df_train, df_val, df_test]) \n",
    "len(df_assert['text']) , len(set(df_assert['text']))"
   ]
  },
  {
   "cell_type": "code",
   "execution_count": 26,
   "metadata": {},
   "outputs": [],
   "source": [
    "df_train.to_csv(\"./compare_manual_manuallVSsemiauto/train_manual_only_rst_{}.csv\".format(RANDOM_STATE), index = None)\n",
    "df_val.to_csv(\"./compare_manual_manuallVSsemiauto/val_manual_only_rst_{}.csv\".format(RANDOM_STATE), index = None)\n",
    "df_test.to_csv(\"./compare_manual_manuallVSsemiauto/test_manual_only_rst_{}.csv\".format(RANDOM_STATE), index = None)"
   ]
  },
  {
   "cell_type": "markdown",
   "metadata": {},
   "source": [
    "# Добавляем к трейну все остальное"
   ]
  },
  {
   "cell_type": "code",
   "execution_count": 27,
   "metadata": {},
   "outputs": [
    {
     "data": {
      "text/plain": [
       "33303"
      ]
     },
     "execution_count": 27,
     "metadata": {},
     "output_type": "execute_result"
    }
   ],
   "source": [
    "df_all = pd.read_csv(\"sensitive_topics.csv\")\n",
    "len(df_all)"
   ]
  },
  {
   "cell_type": "code",
   "execution_count": 28,
   "metadata": {},
   "outputs": [],
   "source": [
    "manual_set = set(df_manual['text'])"
   ]
  },
  {
   "cell_type": "code",
   "execution_count": 29,
   "metadata": {},
   "outputs": [
    {
     "data": {
      "text/plain": [
       "26186"
      ]
     },
     "execution_count": 29,
     "metadata": {},
     "output_type": "execute_result"
    }
   ],
   "source": [
    "df_all_semi_automative = df_all[~df_all.text.isin(manual_set)]\n",
    "len(df_all_semi_automative)"
   ]
  },
  {
   "cell_type": "code",
   "execution_count": 30,
   "metadata": {},
   "outputs": [],
   "source": [
    "df_train_with_semiauto = pd.concat([df_train, df_all_semi_automative])"
   ]
  },
  {
   "cell_type": "code",
   "execution_count": 31,
   "metadata": {},
   "outputs": [
    {
     "data": {
      "text/plain": [
       "33100"
      ]
     },
     "execution_count": 31,
     "metadata": {},
     "output_type": "execute_result"
    }
   ],
   "source": [
    "len(df_train_with_semiauto)"
   ]
  },
  {
   "cell_type": "code",
   "execution_count": 32,
   "metadata": {},
   "outputs": [],
   "source": [
    "df_train_with_semiauto.to_csv(\"./compare_manual_manuallVSsemiauto/train_manualVSsemiauto_rst_{}.csv\".format(RANDOM_STATE), index = None)\n"
   ]
  },
  {
   "cell_type": "code",
   "execution_count": null,
   "metadata": {},
   "outputs": [],
   "source": []
  }
 ],
 "metadata": {
  "kernelspec": {
   "display_name": "Python 3",
   "language": "python",
   "name": "python3"
  },
  "language_info": {
   "codemirror_mode": {
    "name": "ipython",
    "version": 3
   },
   "file_extension": ".py",
   "mimetype": "text/x-python",
   "name": "python",
   "nbconvert_exporter": "python",
   "pygments_lexer": "ipython3",
   "version": "3.8.10"
  }
 },
 "nbformat": 4,
 "nbformat_minor": 4
}
