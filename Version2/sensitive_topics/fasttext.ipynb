{
 "cells": [
  {
   "cell_type": "code",
   "execution_count": null,
   "metadata": {},
   "outputs": [],
   "source": [
    "!pip install --upgrade torch"
   ]
  },
  {
   "cell_type": "code",
   "execution_count": 1,
   "metadata": {},
   "outputs": [],
   "source": [
    "import pandas as pd\n",
    "from nltk.tokenize import wordpunct_tokenize\n",
    "import numpy as np\n",
    "from tqdm import tqdm\n",
    "from sklearn.metrics import accuracy_score, precision_recall_fscore_support, roc_auc_score\n",
    "\n",
    "\n",
    "import torch\n",
    "from torch.utils.data import Dataset, DataLoader\n",
    "from torch import nn\n",
    "from torch.autograd import Variable\n",
    "from torch.nn import functional as F\n",
    "\n",
    "import random"
   ]
  },
  {
   "cell_type": "code",
   "execution_count": 2,
   "metadata": {},
   "outputs": [],
   "source": [
    "RST = 0\n",
    "df = pd.read_csv(\"./compare_manual_manuallVSsemiauto/train_manualVSsemiauto_rst_{}.csv\".format(RST))\n",
    "df_val = pd.read_csv(\"./compare_manual_manuallVSsemiauto/val_manual_only_rst_{}.csv\".format(RST))\n",
    "df_test = pd.read_csv(\"./compare_manual_manuallVSsemiauto/test_manual_only_rst_{}.csv\".format(RST))"
   ]
  },
  {
   "cell_type": "code",
   "execution_count": 3,
   "metadata": {},
   "outputs": [
    {
     "data": {
      "text/plain": [
       "['offline_crime',\n",
       " 'online_crime',\n",
       " 'drugs',\n",
       " 'gambling',\n",
       " 'pornography',\n",
       " 'prostitution',\n",
       " 'slavery',\n",
       " 'suicide',\n",
       " 'terrorism',\n",
       " 'weapons',\n",
       " 'body_shaming',\n",
       " 'health_shaming',\n",
       " 'politics',\n",
       " 'racism',\n",
       " 'religion',\n",
       " 'sexual_minorities',\n",
       " 'sexism',\n",
       " 'social_injustice',\n",
       " 'none']"
      ]
     },
     "execution_count": 3,
     "metadata": {},
     "output_type": "execute_result"
    }
   ],
   "source": [
    "necessary_columns = list(df.columns)[1:] \n",
    "topics_list = necessary_columns + ['none']\n",
    "topics_list"
   ]
  },
  {
   "cell_type": "code",
   "execution_count": 5,
   "metadata": {},
   "outputs": [],
   "source": [
    "def get_labels(dataframe):\n",
    "    labels =[]\n",
    "    for i, el in dataframe.iterrows():\n",
    "        current_sample_labels = []\n",
    "        any_class = False\n",
    "        for clm in necessary_columns:\n",
    "            if el[clm] == 1:\n",
    "                any_class = True\n",
    "                current_sample_labels.append(clm)\n",
    "        if any_class == False:\n",
    "            current_sample_labels.append(\"none\")\n",
    "#         random_label = random.sample(current_sample_labels,1)[0]\n",
    "#         labels.append(random_label)\n",
    "    \n",
    "        current_sample_labels = ','.join(current_sample_labels)\n",
    "        labels.append(current_sample_labels)\n",
    "        \n",
    "    return labels\n",
    "train_labels = get_labels(df)\n",
    "val_labels = get_labels(df_val)\n",
    "test_labels = get_labels(df_test)"
   ]
  },
  {
   "cell_type": "code",
   "execution_count": 6,
   "metadata": {},
   "outputs": [],
   "source": [
    "df = pd.DataFrame({'text':list(df['text']), 'labels':train_labels})\n",
    "df_val = pd.DataFrame({'text':list(df_val['text']), 'labels':val_labels})\n",
    "df_test = pd.DataFrame({'text':list(df_test['text']), 'labels':test_labels})"
   ]
  },
  {
   "cell_type": "code",
   "execution_count": 7,
   "metadata": {},
   "outputs": [],
   "source": [
    "mapping = dict()\n",
    "mapping['none'] = 0\n",
    "\n",
    "for label in train_labels:\n",
    "    if label not in mapping:\n",
    "        mapping[label] = len(mapping)\n",
    "\n",
    "for label in test_labels:\n",
    "    if label not in mapping:\n",
    "        mapping[label] = len(mapping)\n",
    "        \n",
    "for label in val_labels:\n",
    "    if label not in mapping:\n",
    "        mapping[label] = len(mapping)"
   ]
  },
  {
   "cell_type": "code",
   "execution_count": 8,
   "metadata": {},
   "outputs": [],
   "source": [
    "df['class'] = df['labels'].apply(lambda x: mapping[x])\n",
    "df_test['class'] = df_test['labels'].apply(lambda x: mapping[x])\n",
    "df_val['class'] = df_val['labels'].apply(lambda x: mapping[x])"
   ]
  },
  {
   "cell_type": "code",
   "execution_count": 9,
   "metadata": {},
   "outputs": [],
   "source": [
    "# train_val = pd.concat([df,df_val])"
   ]
  },
  {
   "cell_type": "code",
   "execution_count": 10,
   "metadata": {},
   "outputs": [],
   "source": [
    "# train_val.head()"
   ]
  },
  {
   "cell_type": "code",
   "execution_count": 11,
   "metadata": {},
   "outputs": [],
   "source": [
    "x_train = df['text'].tolist()\n",
    "y_train = df['class'].tolist()\n",
    "\n",
    "x_val = df_val['text'].tolist()\n",
    "y_val = df_val['class'].tolist()\n",
    "\n",
    "x_test = df_test['text'].tolist()\n",
    "y_test = df_test['class'].tolist()"
   ]
  },
  {
   "cell_type": "code",
   "execution_count": null,
   "metadata": {},
   "outputs": [],
   "source": [
    "!wget https://dl.fbaipublicfiles.com/fasttext/vectors-crawl/cc.ru.300.vec.gz"
   ]
  },
  {
   "cell_type": "code",
   "execution_count": null,
   "metadata": {},
   "outputs": [],
   "source": [
    "!gunzip cc.ru.300.vec.gz\n"
   ]
  },
  {
   "cell_type": "code",
   "execution_count": 12,
   "metadata": {},
   "outputs": [],
   "source": [
    "pad_token = 'PAD'\n",
    "\n",
    "vocab = dict()\n",
    "embeddings = list()\n",
    "\n",
    "vocab_size = 400000\n",
    "embedding_dim = 300\n",
    "\n",
    "vocab[pad_token] = len(vocab)\n",
    "embeddings.append(np.zeros(embedding_dim))"
   ]
  },
  {
   "cell_type": "code",
   "execution_count": 13,
   "metadata": {},
   "outputs": [],
   "source": [
    "with open('cc.ru.300.vec', 'r') as f:\n",
    "    a = f.readline()\n",
    "    for line in f:\n",
    "        parts = line.strip().split()\n",
    "        token = ' '.join(parts[:-embedding_dim])\n",
    "        if token in vocab:\n",
    "            continue\n",
    "        word_vector = np.array(list(map(float, parts[-embedding_dim:])))\n",
    "        \n",
    "        vocab[token] = len(vocab)\n",
    "        embeddings.append(word_vector)\n",
    "        \n",
    "        if len(vocab) == vocab_size:\n",
    "            break"
   ]
  },
  {
   "cell_type": "code",
   "execution_count": 14,
   "metadata": {},
   "outputs": [
    {
     "data": {
      "text/plain": [
       "(400000, 300)"
      ]
     },
     "execution_count": 14,
     "metadata": {},
     "output_type": "execute_result"
    }
   ],
   "source": [
    "embeddings = np.stack(embeddings)\n",
    "embeddings.shape"
   ]
  },
  {
   "cell_type": "code",
   "execution_count": 15,
   "metadata": {},
   "outputs": [],
   "source": [
    "max_len = 45"
   ]
  },
  {
   "cell_type": "code",
   "execution_count": 16,
   "metadata": {},
   "outputs": [],
   "source": [
    "class UnsafeData(Dataset):\n",
    "\n",
    "    def __init__(self, texts, targets, vocab, max_len, pad_index = 0):\n",
    "        \n",
    "        super().__init__()\n",
    "        \n",
    "        self.texts = texts\n",
    "        self.targets = targets        \n",
    "        self.max_len = max_len\n",
    "        self.pad_index = pad_index\n",
    "        \n",
    "        self.vocab = vocab\n",
    "\n",
    "    def __len__(self):\n",
    "        \n",
    "        return len(self.texts)\n",
    "    \n",
    "    \n",
    "    def tokenization(self, text):\n",
    "        \n",
    "        tokens = wordpunct_tokenize(text)        \n",
    "        token_indices = [self.vocab[tok] for tok in tokens if tok in self.vocab]\n",
    "        \n",
    "        return token_indices\n",
    "    \n",
    "    def padding(self, text):\n",
    "        \n",
    "        text = text[:self.max_len]        \n",
    "        text += [self.pad_index] * (self.max_len - len(text))        \n",
    "        return text\n",
    "\n",
    "    \n",
    "    def __getitem__(self, index):\n",
    "        x = self.texts[index]\n",
    "        x = self.tokenization(x)\n",
    "        x = self.padding(x)\n",
    "        \n",
    "        y = self.targets[index]\n",
    "        \n",
    "        x = torch.tensor(x).long()\n",
    "        y = torch.tensor(y).float()\n",
    "        \n",
    "        return x, y"
   ]
  },
  {
   "cell_type": "code",
   "execution_count": 17,
   "metadata": {},
   "outputs": [],
   "source": [
    "train_dataset = UnsafeData(x_train, y_train, vocab, max_len)\n",
    "val_dataset = UnsafeData(x_val, y_val, vocab, max_len)\n",
    "test_dataset = UnsafeData(x_test, y_test, vocab, max_len)"
   ]
  },
  {
   "cell_type": "code",
   "execution_count": 18,
   "metadata": {},
   "outputs": [
    {
     "data": {
      "text/plain": [
       "(tensor([   18, 30755,    78,    12,  5738,    28,   202, 87566, 49430,    57,\n",
       "          2148,     3,     0,     0,     0,     0,     0,     0,     0,     0,\n",
       "             0,     0,     0,     0,     0,     0,     0,     0,     0,     0,\n",
       "             0,     0,     0,     0,     0,     0,     0,     0,     0,     0,\n",
       "             0,     0,     0,     0,     0]), tensor(1.))"
      ]
     },
     "execution_count": 18,
     "metadata": {},
     "output_type": "execute_result"
    }
   ],
   "source": [
    "test_dataset.__getitem__(0)"
   ]
  },
  {
   "cell_type": "code",
   "execution_count": 19,
   "metadata": {},
   "outputs": [
    {
     "data": {
      "text/plain": [
       "(33100, 1585)"
      ]
     },
     "execution_count": 19,
     "metadata": {},
     "output_type": "execute_result"
    }
   ],
   "source": [
    "len(train_dataset), len(test_dataset)"
   ]
  },
  {
   "cell_type": "code",
   "execution_count": 20,
   "metadata": {},
   "outputs": [],
   "source": [
    "train_loader = DataLoader(train_dataset, batch_size=32, shuffle = True)\n",
    "val_loader = DataLoader(val_dataset, batch_size=32, shuffle = False)\n",
    "test_loader = DataLoader(test_dataset, batch_size=32, shuffle = False)"
   ]
  },
  {
   "cell_type": "code",
   "execution_count": 21,
   "metadata": {},
   "outputs": [
    {
     "data": {
      "text/plain": [
       "(torch.Size([32, 45]), torch.Size([32]))"
      ]
     },
     "execution_count": 21,
     "metadata": {},
     "output_type": "execute_result"
    }
   ],
   "source": [
    "for x, y in train_loader:\n",
    "    break\n",
    "x.shape, y.shape"
   ]
  },
  {
   "cell_type": "code",
   "execution_count": 22,
   "metadata": {},
   "outputs": [
    {
     "data": {
      "text/plain": [
       "(torch.Size([32, 45]), torch.Size([32]))"
      ]
     },
     "execution_count": 22,
     "metadata": {},
     "output_type": "execute_result"
    }
   ],
   "source": [
    "for x, y in val_loader:\n",
    "    break\n",
    "x.shape, y.shape"
   ]
  },
  {
   "cell_type": "code",
   "execution_count": 23,
   "metadata": {},
   "outputs": [],
   "source": [
    "embeddings = torch.tensor(embeddings).float()"
   ]
  },
  {
   "cell_type": "code",
   "execution_count": 24,
   "metadata": {},
   "outputs": [],
   "source": [
    "class RCNN(nn.Module):\n",
    "    \n",
    "    def __init__(self, embeddings, embedding_dim, hidden_size, hidden_size_linear, class_num, dropout, n_layers):\n",
    "        super(RCNN, self).__init__()\n",
    "        self.embedding = nn.Embedding.from_pretrained(embeddings, padding_idx=0)\n",
    "        self.lstm = nn.LSTM(embedding_dim, hidden_size, batch_first=True, bidirectional=True, dropout=dropout, num_layers=n_layers)\n",
    "        self.W = nn.Linear(embedding_dim + 2*hidden_size, hidden_size_linear)\n",
    "        self.fc = nn.Linear(hidden_size_linear, class_num)\n",
    "        self.act = nn.Softmax()\n",
    "\n",
    "        \n",
    "    def forward(self, x):\n",
    "        # x = |bs, seq_len|\n",
    "        x_emb = self.embedding(x)\n",
    "        # x_emb = |bs, seq_len, embedding_dim|\n",
    "        output, _ = self.lstm(x_emb)\n",
    "        # output = |bs, seq_len, 2*hidden_size|\n",
    "        output = torch.cat([output, x_emb], 2)\n",
    "        # output = |bs, seq_len, embedding_dim + 2*hidden_size|\n",
    "        output = self.W(output).transpose(1, 2)\n",
    "        # output = |bs, seq_len, hidden_size_linear| -> |bs, hidden_size_linear, seq_len|\n",
    "        output = F.max_pool1d(output, output.size(2)).squeeze(2)\n",
    "        # output = |bs, hidden_size_linear|\n",
    "        output = self.fc(output)\n",
    "        return output\n",
    "        # output = |bs, class_num|\n",
    "#         return torch.argmax(self.act(output),dim=1)\n",
    "#         return self.act(output)"
   ]
  },
  {
   "cell_type": "code",
   "execution_count": 25,
   "metadata": {},
   "outputs": [],
   "source": [
    "model = RCNN(\n",
    "    embeddings = embeddings,\n",
    "    embedding_dim = 300,\n",
    "    hidden_size = 300,\n",
    "    hidden_size_linear = 128,\n",
    "    class_num = len(mapping),\n",
    "    n_layers = 4,\n",
    "    dropout = 0.5\n",
    ")"
   ]
  },
  {
   "cell_type": "code",
   "execution_count": 26,
   "metadata": {},
   "outputs": [],
   "source": [
    "optimizer = torch.optim.Adam(model.parameters())\n",
    "criterion = nn.CrossEntropyLoss()\n",
    "\n",
    "device = torch.device('cuda:7')\n",
    "model.to(device);\n",
    "\n",
    "x = x.to(device)\n",
    "y = y.to(device)\n",
    "out = model(x).squeeze()\n",
    "y = y.long()\n",
    "# loss(out, y)"
   ]
  },
  {
   "cell_type": "code",
   "execution_count": 27,
   "metadata": {},
   "outputs": [
    {
     "data": {
      "text/plain": [
       "2555"
      ]
     },
     "execution_count": 27,
     "metadata": {},
     "output_type": "execute_result"
    }
   ],
   "source": [
    "int(x[0][0].cpu())"
   ]
  },
  {
   "cell_type": "code",
   "execution_count": 28,
   "metadata": {},
   "outputs": [],
   "source": [
    "target_vaiables_id2topic_dict = {val:key for key, val in mapping.items()}\n",
    "\n",
    "def adjust_multilabel_onedim(y, is_pred):\n",
    "    y_adjusted = []\n",
    "    for y_c in y:\n",
    "        y_test_curr = [0]*19\n",
    "        \n",
    "        if is_pred == False:\n",
    "            y_c = target_vaiables_id2topic_dict[int(y_c.cpu())]\n",
    "        else:\n",
    "#             print(y_c)\n",
    "            m = nn.Softmax(dim=0)\n",
    "            y_c = torch.argmax(m(y_c))\n",
    "#             print(y_c)\n",
    "            y_c = int(y_c.cpu())\n",
    "#             print(y_c)\n",
    "            y_c = target_vaiables_id2topic_dict[y_c]\n",
    "#             print(y_c)\n",
    "        for tag in y_c.split(\",\"):\n",
    "            topic_index = topics_list.index(tag)\n",
    "            y_test_curr[topic_index] = 1\n",
    "        y_adjusted.append(y_test_curr)\n",
    "#         break\n",
    "    return y_adjusted\n",
    "\n",
    "def metrics(labels, pred):\n",
    "    \n",
    "    labels = adjust_multilabel_onedim(labels,is_pred = False)\n",
    "    pred = adjust_multilabel_onedim(pred, is_pred = True)\n",
    "    \n",
    "    precision, recall, f1, _ = precision_recall_fscore_support(labels, pred, average='weighted', zero_division = 0)\n",
    "    acc = accuracy_score(labels, pred)\n",
    "    return {\n",
    "        'accuracy': acc,\n",
    "        'f1': f1,\n",
    "        'precision': precision,\n",
    "        'recall': recall\n",
    "    }"
   ]
  },
  {
   "cell_type": "code",
   "execution_count": 31,
   "metadata": {},
   "outputs": [
    {
     "data": {
      "text/plain": [
       "337"
      ]
     },
     "execution_count": 31,
     "metadata": {},
     "output_type": "execute_result"
    }
   ],
   "source": [
    "len(target_vaiables_id2topic_dict)"
   ]
  },
  {
   "cell_type": "code",
   "execution_count": 29,
   "metadata": {},
   "outputs": [],
   "source": [
    "def train(model, loader, optimizer, criterion, last_n_losses=200, verbose=True):\n",
    "\n",
    "    losses = []\n",
    "    f_scores = []\n",
    "    accuracy_scores = []\n",
    "    precision_scores = []\n",
    "    recall_scores = []\n",
    "    #roc_auc_scores = []\n",
    "\n",
    "    progress_bar = tqdm(total=len(loader), disable=not verbose, desc='Train')\n",
    "\n",
    "    model.train()\n",
    "\n",
    "    for x, y in loader:\n",
    "\n",
    "        x = x.to(device)\n",
    "        y = y.to(device)\n",
    "        \n",
    "        optimizer.zero_grad()\n",
    "        \n",
    "        yhat = model(x).squeeze()\n",
    "        \n",
    "#         yhat = yhat.long() \n",
    "        y = y.long()\n",
    "    \n",
    "#         print(y)\n",
    "#         print(yhat)\n",
    "    \n",
    "        loss = criterion(yhat, y)\n",
    "        loss.backward()\n",
    "        optimizer.step()\n",
    "        \n",
    "        cur_metrics = metrics(y.cpu(), yhat.detach().cpu())\n",
    "\n",
    "\n",
    "        losses.append(loss.item())\n",
    "        f_scores.append(cur_metrics['f1'])\n",
    "        accuracy_scores.append(cur_metrics['accuracy'])\n",
    "        precision_scores.append(cur_metrics['precision'])\n",
    "        recall_scores.append(cur_metrics['recall'])\n",
    "        #roc_auc_scores.append(cur_metrics['roc_auc'])\n",
    "        \n",
    "\n",
    "        progress_bar.set_postfix(loss=np.mean(losses[-last_n_losses:]), f1=np.mean(f_scores[-last_n_losses:]),\n",
    "                                accuracy=np.mean(accuracy_scores[-last_n_losses:]))\n",
    "        \n",
    "        progress_bar.update()\n",
    "\n",
    "    progress_bar.close()\n",
    "    \n",
    "    return {'loss': np.sum(losses)/len(loader), 'f_score': np.sum(f_scores)/len(loader), 'accuracy': np.sum(accuracy_scores)/len(loader),\n",
    "           'precision': np.sum(precision_scores)/len(loader), 'recall': np.sum(recall_scores)/len(loader)}"
   ]
  },
  {
   "cell_type": "code",
   "execution_count": null,
   "metadata": {},
   "outputs": [],
   "source": [
    "train_metrics = train(model, train_loader, optimizer, criterion)"
   ]
  },
  {
   "cell_type": "code",
   "execution_count": 37,
   "metadata": {},
   "outputs": [],
   "source": [
    "tqdm._instances.clear()\n"
   ]
  },
  {
   "cell_type": "code",
   "execution_count": 34,
   "metadata": {},
   "outputs": [],
   "source": [
    "def evaluate(model, loader, criterion, last_n_losses=200, verbose=True):\n",
    "\n",
    "    losses = []\n",
    "    f_scores = []\n",
    "    accuracy_scores = []\n",
    "    precision_scores = []\n",
    "    recall_scores = []\n",
    "    #roc_auc_scores = []\n",
    "\n",
    "    progress_bar = tqdm(total=len(loader), disable=not verbose, desc='Eval')\n",
    "\n",
    "    model.eval()\n",
    "    with torch.no_grad():\n",
    "\n",
    "        for x, y in loader:\n",
    "\n",
    "            x = x.to(device)\n",
    "            y = y.to(device)\n",
    "            y = y.long()\n",
    "            yhat = model(x).squeeze()\n",
    "        \n",
    "            loss = criterion(yhat, y)\n",
    "        \n",
    "            cur_metrics = metrics(y.cpu(), yhat.detach().cpu())\n",
    "\n",
    "\n",
    "            losses.append(loss.item())\n",
    "            f_scores.append(cur_metrics['f1'])\n",
    "            accuracy_scores.append(cur_metrics['accuracy'])\n",
    "            precision_scores.append(cur_metrics['precision'])\n",
    "            recall_scores.append(cur_metrics['recall'])\n",
    "            #roc_auc_scores.append(cur_metrics['roc_auc'])\n",
    "        \n",
    "\n",
    "            progress_bar.set_postfix(loss=np.mean(losses[-last_n_losses:]), f1=np.mean(f_scores[-last_n_losses:]),\n",
    "                                accuracy=np.mean(accuracy_scores[-last_n_losses:]))\n",
    "        \n",
    "            progress_bar.update()\n",
    "\n",
    "        progress_bar.close()\n",
    "    \n",
    "    return {'loss': np.sum(losses)/len(loader), 'f_score': np.sum(f_scores)/len(loader), 'accuracy': np.sum(accuracy_scores)/len(loader),\n",
    "           'precision': np.sum(precision_scores)/len(loader), 'recall': np.sum(recall_scores)/len(loader)}"
   ]
  },
  {
   "cell_type": "code",
   "execution_count": 35,
   "metadata": {},
   "outputs": [],
   "source": [
    "save_best_model_path = './ft_model/best_model_state_dict.pth'\n",
    "save_best_optimizer_path = './ft_model/best_optimizer_state_dict.pth'"
   ]
  },
  {
   "cell_type": "code",
   "execution_count": 36,
   "metadata": {},
   "outputs": [
    {
     "name": "stderr",
     "output_type": "stream",
     "text": [
      "Train: 100%|██████████| 1035/1035 [00:42<00:00, 24.48it/s, accuracy=0.665, f1=0.665, loss=1.36]\n",
      "Eval: 100%|██████████| 46/46 [00:00<00:00, 65.81it/s, accuracy=0.468, f1=0.648, loss=2.29]\n",
      "Train:  78%|███████▊  | 811/1035 [02:24<00:39,  5.63it/s, accuracy=0.376, f1=0.304, loss=2.44]\n"
     ]
    },
    {
     "name": "stdout",
     "output_type": "stream",
     "text": [
      "{'loss': 2.2942951464134715, 'f_score': 0.6476643121452252, 'accuracy': 0.468070652173913, 'precision': 0.9055675643453895, 'recall': 0.5534243581898879}\n"
     ]
    },
    {
     "name": "stderr",
     "output_type": "stream",
     "text": [
      "Train: 100%|██████████| 1035/1035 [00:42<00:00, 24.08it/s, accuracy=0.691, f1=0.69, loss=1.22] \n",
      "Eval: 100%|██████████| 46/46 [00:00<00:00, 55.16it/s, accuracy=0.478, f1=0.667, loss=2.18]\n"
     ]
    },
    {
     "name": "stdout",
     "output_type": "stream",
     "text": [
      "{'loss': 2.1787300032118093, 'f_score': 0.6672042743688312, 'accuracy': 0.47758152173913043, 'precision': 0.9094117877113268, 'recall': 0.5640021778689861}\n"
     ]
    },
    {
     "name": "stderr",
     "output_type": "stream",
     "text": [
      "Train: 100%|██████████| 1035/1035 [00:41<00:00, 25.03it/s, accuracy=0.704, f1=0.709, loss=1.12]\n",
      "Eval: 100%|██████████| 46/46 [00:00<00:00, 64.44it/s, accuracy=0.469, f1=0.67, loss=2.19] \n",
      "Train:   0%|          | 3/1035 [00:00<00:41, 24.62it/s, accuracy=0.734, f1=0.713, loss=1.1]"
     ]
    },
    {
     "name": "stdout",
     "output_type": "stream",
     "text": [
      "{'loss': 2.1890755820533503, 'f_score': 0.6701343793667188, 'accuracy': 0.46875, 'precision': 0.9215122212688925, 'recall': 0.5614271161580843}\n"
     ]
    },
    {
     "name": "stderr",
     "output_type": "stream",
     "text": [
      "Train: 100%|██████████| 1035/1035 [00:41<00:00, 24.92it/s, accuracy=0.711, f1=0.72, loss=1.09] \n",
      "Eval: 100%|██████████| 46/46 [00:00<00:00, 62.17it/s, accuracy=0.493, f1=0.689, loss=2.12] \n"
     ]
    },
    {
     "name": "stdout",
     "output_type": "stream",
     "text": [
      "{'loss': 2.1203996234613918, 'f_score': 0.6888646255161361, 'accuracy': 0.49252717391304346, 'precision': 0.9248144741245328, 'recall': 0.5855448220162642}\n"
     ]
    },
    {
     "name": "stderr",
     "output_type": "stream",
     "text": [
      "Train: 100%|██████████| 1035/1035 [00:43<00:00, 23.53it/s, accuracy=0.73, f1=0.734, loss=0.97]  \n",
      "Eval: 100%|██████████| 46/46 [00:00<00:00, 66.39it/s, accuracy=0.503, f1=0.693, loss=2.09]\n"
     ]
    },
    {
     "name": "stdout",
     "output_type": "stream",
     "text": [
      "{'loss': 2.085290964530862, 'f_score': 0.692756547981403, 'accuracy': 0.5027173913043478, 'precision': 0.9191347107315866, 'recall': 0.5929792098328497}\n"
     ]
    },
    {
     "name": "stderr",
     "output_type": "stream",
     "text": [
      "Train: 100%|██████████| 1035/1035 [00:46<00:00, 22.39it/s, accuracy=0.744, f1=0.752, loss=0.931]\n",
      "Eval: 100%|██████████| 46/46 [00:00<00:00, 62.73it/s, accuracy=0.51, f1=0.703, loss=2.05] \n"
     ]
    },
    {
     "name": "stdout",
     "output_type": "stream",
     "text": [
      "{'loss': 2.0507029152434804, 'f_score': 0.7030529231299978, 'accuracy': 0.5101902173913043, 'precision': 0.9247956187285027, 'recall': 0.6060868953703629}\n"
     ]
    },
    {
     "name": "stderr",
     "output_type": "stream",
     "text": [
      "Train: 100%|██████████| 1035/1035 [00:42<00:00, 24.46it/s, accuracy=0.744, f1=0.755, loss=0.914]\n",
      "Eval: 100%|██████████| 46/46 [00:00<00:00, 63.56it/s, accuracy=0.499, f1=0.684, loss=2.11]"
     ]
    },
    {
     "name": "stdout",
     "output_type": "stream",
     "text": [
      "{'loss': 2.1127007376888525, 'f_score': 0.6835244690323752, 'accuracy': 0.4986413043478261, 'precision': 0.9224296665111421, 'recall': 0.5848369636503938}\n"
     ]
    },
    {
     "name": "stderr",
     "output_type": "stream",
     "text": [
      "\n"
     ]
    }
   ],
   "source": [
    "n_epochs = 7\n",
    "best_valid_loss = float('inf')\n",
    "patience = 0\n",
    "for epoch in range(n_epochs):\n",
    "     \n",
    "    #train the model\n",
    "    train_metrics = train(model, train_loader, optimizer, criterion)\n",
    "    \n",
    "    #evaluate the model\n",
    "    valid_metrics = evaluate(model, val_loader, criterion)\n",
    "    \n",
    "#     print(train_metrics)\n",
    "    print(valid_metrics)\n",
    "    \n",
    "    #save the best model\n",
    "    if valid_metrics['loss'] < best_valid_loss:\n",
    "        best_valid_loss = valid_metrics['loss']\n",
    "        torch.save(model.state_dict(), save_best_model_path)\n",
    "        torch.save(optimizer.state_dict(), save_best_optimizer_path)\n",
    "    else:\n",
    "        patience +=1\n",
    "        if patience>3:\n",
    "            break"
   ]
  },
  {
   "cell_type": "code",
   "execution_count": null,
   "metadata": {},
   "outputs": [],
   "source": [
    "{'loss': 1.4320457201936971, 'f_score': 0.6779545482652473, 'accuracy': 0.6073369565217391, 'precision': 0.8145186363681608, 'recall': 0.6073369565217391}"
   ]
  },
  {
   "cell_type": "code",
   "execution_count": 42,
   "metadata": {},
   "outputs": [
    {
     "data": {
      "text/plain": [
       "<All keys matched successfully>"
      ]
     },
     "execution_count": 42,
     "metadata": {},
     "output_type": "execute_result"
    }
   ],
   "source": [
    "model.load_state_dict(torch.load(save_best_model_path))"
   ]
  },
  {
   "cell_type": "code",
   "execution_count": 38,
   "metadata": {},
   "outputs": [
    {
     "name": "stderr",
     "output_type": "stream",
     "text": [
      "Eval: 100%|██████████| 50/50 [00:00<00:00, 59.96it/s, accuracy=0.478, f1=0.673, loss=2.53]\n"
     ]
    },
    {
     "data": {
      "text/plain": [
       "{'loss': 2.5312773221731186,\n",
       " 'f_score': 0.6730060751423094,\n",
       " 'accuracy': 0.4779044117647059,\n",
       " 'precision': 0.8930062045970715,\n",
       " 'recall': 0.5808135202265351}"
      ]
     },
     "execution_count": 38,
     "metadata": {},
     "output_type": "execute_result"
    }
   ],
   "source": [
    "evaluate(model, test_loader, criterion)"
   ]
  },
  {
   "cell_type": "code",
   "execution_count": null,
   "metadata": {},
   "outputs": [],
   "source": [
    "много семплов на класс \n",
    "{'loss': 2.5312773221731186,\n",
    " 'f_score': 0.6730060751423094,\n",
    " 'accuracy': 0.4779044117647059,\n",
    " 'precision': 0.8930062045970715,\n",
    " 'recall': 0.5808135202265351}"
   ]
  },
  {
   "cell_type": "code",
   "execution_count": null,
   "metadata": {},
   "outputs": [],
   "source": [
    "test на 1семпл - 1 класс\n",
    "{'loss': 1.4456687247753144,\n",
    " 'f_score': 0.640342492941638,\n",
    " 'accuracy': 0.5839338235294117,\n",
    " 'precision': 0.7558313916440501,\n",
    " 'recall': 0.5839338235294117"
   ]
  }
 ],
 "metadata": {
  "kernelspec": {
   "display_name": "Python 3",
   "language": "python",
   "name": "python3"
  },
  "language_info": {
   "codemirror_mode": {
    "name": "ipython",
    "version": 3
   },
   "file_extension": ".py",
   "mimetype": "text/x-python",
   "name": "python",
   "nbconvert_exporter": "python",
   "pygments_lexer": "ipython3",
   "version": "3.7.4"
  }
 },
 "nbformat": 4,
 "nbformat_minor": 4
}
