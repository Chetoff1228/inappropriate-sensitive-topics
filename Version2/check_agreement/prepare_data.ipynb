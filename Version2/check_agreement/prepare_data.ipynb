{
 "cells": [
  {
   "cell_type": "code",
   "execution_count": 1,
   "metadata": {},
   "outputs": [],
   "source": [
    "import os\n",
    "import pandas as pd"
   ]
  },
  {
   "cell_type": "code",
   "execution_count": 2,
   "metadata": {},
   "outputs": [],
   "source": [
    "df_collect_list = []\n",
    "for f in os.listdir('./'):\n",
    "    if f.endswith('.tsv'):\n",
    "        df = pd.read_csv(f,sep = '\\t')\n",
    "        df = df[df['GOLDEN:result'].isna()][['INPUT:text','OUTPUT:result','ASSIGNMENT:worker_id']]\n",
    "        df.dropna(inplace = True)\n",
    "#         print(df.head())\n",
    "        df_collect_list.append(df)\n",
    "#         break"
   ]
  },
  {
   "cell_type": "code",
   "execution_count": 3,
   "metadata": {},
   "outputs": [
    {
     "name": "stdout",
     "output_type": "stream",
     "text": [
      "572765\n"
     ]
    },
    {
     "data": {
      "text/html": [
       "<div>\n",
       "<style scoped>\n",
       "    .dataframe tbody tr th:only-of-type {\n",
       "        vertical-align: middle;\n",
       "    }\n",
       "\n",
       "    .dataframe tbody tr th {\n",
       "        vertical-align: top;\n",
       "    }\n",
       "\n",
       "    .dataframe thead th {\n",
       "        text-align: right;\n",
       "    }\n",
       "</style>\n",
       "<table border=\"1\" class=\"dataframe\">\n",
       "  <thead>\n",
       "    <tr style=\"text-align: right;\">\n",
       "      <th></th>\n",
       "      <th>INPUT:text</th>\n",
       "      <th>OUTPUT:result</th>\n",
       "      <th>ASSIGNMENT:worker_id</th>\n",
       "    </tr>\n",
       "  </thead>\n",
       "  <tbody>\n",
       "    <tr>\n",
       "      <th>1</th>\n",
       "      <td>Буржуины говорят, что при капитализме все прод...</td>\n",
       "      <td>yes</td>\n",
       "      <td>0f5d863bd5ad9443fc38f725cb98fd55</td>\n",
       "    </tr>\n",
       "    <tr>\n",
       "      <th>2</th>\n",
       "      <td>Йа тебя умоляю.1 РФ отжала внаглую Крым2 На До...</td>\n",
       "      <td>yes</td>\n",
       "      <td>0f5d863bd5ad9443fc38f725cb98fd55</td>\n",
       "    </tr>\n",
       "    <tr>\n",
       "      <th>3</th>\n",
       "      <td>Специально примерил свой рюк с рпс, справа и с...</td>\n",
       "      <td>no</td>\n",
       "      <td>0f5d863bd5ad9443fc38f725cb98fd55</td>\n",
       "    </tr>\n",
       "    <tr>\n",
       "      <th>4</th>\n",
       "      <td>В сущности опошленный сокращенный сборник из п...</td>\n",
       "      <td>yes</td>\n",
       "      <td>0f5d863bd5ad9443fc38f725cb98fd55</td>\n",
       "    </tr>\n",
       "    <tr>\n",
       "      <th>6</th>\n",
       "      <td>криминальная милиция, всю ночь отдел милиции з...</td>\n",
       "      <td>yes</td>\n",
       "      <td>0f5d863bd5ad9443fc38f725cb98fd55</td>\n",
       "    </tr>\n",
       "  </tbody>\n",
       "</table>\n",
       "</div>"
      ],
      "text/plain": [
       "                                          INPUT:text OUTPUT:result  \\\n",
       "1  Буржуины говорят, что при капитализме все прод...           yes   \n",
       "2  Йа тебя умоляю.1 РФ отжала внаглую Крым2 На До...           yes   \n",
       "3  Специально примерил свой рюк с рпс, справа и с...            no   \n",
       "4  В сущности опошленный сокращенный сборник из п...           yes   \n",
       "6  криминальная милиция, всю ночь отдел милиции з...           yes   \n",
       "\n",
       "               ASSIGNMENT:worker_id  \n",
       "1  0f5d863bd5ad9443fc38f725cb98fd55  \n",
       "2  0f5d863bd5ad9443fc38f725cb98fd55  \n",
       "3  0f5d863bd5ad9443fc38f725cb98fd55  \n",
       "4  0f5d863bd5ad9443fc38f725cb98fd55  \n",
       "6  0f5d863bd5ad9443fc38f725cb98fd55  "
      ]
     },
     "execution_count": 3,
     "metadata": {},
     "output_type": "execute_result"
    }
   ],
   "source": [
    "df_overall = pd.concat(df_collect_list)\n",
    "print(len(df_overall))\n",
    "df_overall.head()"
   ]
  },
  {
   "cell_type": "code",
   "execution_count": 5,
   "metadata": {},
   "outputs": [
    {
     "data": {
      "text/plain": [
       "170324"
      ]
     },
     "execution_count": 5,
     "metadata": {},
     "output_type": "execute_result"
    }
   ],
   "source": [
    "df_overall_unique = df_overall.drop_duplicates(subset = ['INPUT:text'])\n",
    "len(df_overall_unique)"
   ]
  },
  {
   "cell_type": "code",
   "execution_count": 9,
   "metadata": {},
   "outputs": [],
   "source": [
    "collected_from_toloka_texts = set(df_overall_unique['INPUT:text'])"
   ]
  },
  {
   "cell_type": "code",
   "execution_count": 6,
   "metadata": {},
   "outputs": [],
   "source": [
    "df_published = pd.read_csv(\"../appropriateness/Appropriateness.csv\")"
   ]
  },
  {
   "cell_type": "code",
   "execution_count": 8,
   "metadata": {},
   "outputs": [],
   "source": [
    "published_set = set(df_published['text'])"
   ]
  },
  {
   "cell_type": "code",
   "execution_count": 10,
   "metadata": {},
   "outputs": [
    {
     "data": {
      "text/plain": [
       "148839"
      ]
     },
     "execution_count": 10,
     "metadata": {},
     "output_type": "execute_result"
    }
   ],
   "source": [
    "len(published_set & collected_from_toloka_texts)"
   ]
  },
  {
   "cell_type": "code",
   "execution_count": 14,
   "metadata": {},
   "outputs": [
    {
     "name": "stdout",
     "output_type": "stream",
     "text": [
      "572755\n"
     ]
    }
   ],
   "source": [
    "df_overall.drop_duplicates(inplace=True)\n",
    "print(len(df_overall))"
   ]
  },
  {
   "cell_type": "code",
   "execution_count": null,
   "metadata": {},
   "outputs": [],
   "source": []
  },
  {
   "cell_type": "code",
   "execution_count": null,
   "metadata": {},
   "outputs": [],
   "source": []
  },
  {
   "cell_type": "code",
   "execution_count": null,
   "metadata": {},
   "outputs": [],
   "source": []
  },
  {
   "cell_type": "code",
   "execution_count": 15,
   "metadata": {},
   "outputs": [],
   "source": [
    "df_overall.to_csv(\"ALL_LABELLED.csv\",index = None)"
   ]
  },
  {
   "cell_type": "code",
   "execution_count": null,
   "metadata": {},
   "outputs": [],
   "source": []
  }
 ],
 "metadata": {
  "kernelspec": {
   "display_name": "Python 3",
   "language": "python",
   "name": "python3"
  },
  "language_info": {
   "codemirror_mode": {
    "name": "ipython",
    "version": 3
   },
   "file_extension": ".py",
   "mimetype": "text/x-python",
   "name": "python",
   "nbconvert_exporter": "python",
   "pygments_lexer": "ipython3",
   "version": "3.8.10"
  }
 },
 "nbformat": 4,
 "nbformat_minor": 4
}
