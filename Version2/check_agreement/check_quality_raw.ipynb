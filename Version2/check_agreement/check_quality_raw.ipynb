{
 "cells": [
  {
   "cell_type": "code",
   "execution_count": 9,
   "metadata": {},
   "outputs": [],
   "source": [
    "import os\n",
    "import pandas as pd\n",
    "from nltk.metrics.agreement import AnnotationTask\n",
    "import krippendorff\n",
    "import numpy as np\n",
    "from collections import Counter\n",
    "import re"
   ]
  },
  {
   "cell_type": "code",
   "execution_count": 2,
   "metadata": {},
   "outputs": [],
   "source": [
    "def get_unique_texts_from_df(path):\n",
    "    df = pd.read_csv(path, sep = '\\t')\n",
    "    df = df[df['GOLDEN:result'].isna()]\n",
    "    df.dropna(subset = ['INPUT:text'], inplace = True)\n",
    "    return df, set(df['INPUT:text'])\n"
   ]
  },
  {
   "cell_type": "code",
   "execution_count": 6,
   "metadata": {},
   "outputs": [],
   "source": [
    "def calculate_krippendorf_from_raw_df_nltk(df):\n",
    "    coolected_data = []\n",
    "    collected_texts = []\n",
    "    named_collected_data_dict = {}\n",
    "    \n",
    "    text2ids = {}\n",
    "    for t in set(df['INPUT:text'].tolist()):\n",
    "        if t not in text2ids:\n",
    "            text2ids[t] = len(text2ids)\n",
    "    df['text_idx'] = df['INPUT:text'].map(text2ids)\n",
    "    ids2text = {idx:text for text,idx in text2ids.items()}\n",
    "    \n",
    "    worker2id = {}\n",
    "    for pair in df['ASSIGNMENT:worker_id'].tolist():\n",
    "        if pair not in worker2id:\n",
    "            worker2id[pair] = len(worker2id)\n",
    "    df['worker_idx'] = df['ASSIGNMENT:worker_id'].map(worker2id)\n",
    "    \n",
    "    for i,el in df.iterrows():\n",
    "        coder_idx = el['worker_idx']\n",
    "        item_idx = el['text_idx']\n",
    "        label = el['OUTPUT:result']\n",
    "        \n",
    "        collected_triplet = (coder_idx,item_idx,label )\n",
    "        coolected_data.append(collected_triplet)\n",
    "        \n",
    "#         data_curr = [el['INPUT:text'],el['OUTPUT:result'],el['CONFIDENCE:result']]\n",
    "        collected_texts.append(el['INPUT:text'])\n",
    "    \n",
    "    t = AnnotationTask(data=coolected_data)\n",
    "    \n",
    "    return t.alpha()\n",
    "\n",
    "\n",
    "def process_toloka_results_batch(file):\n",
    "        \n",
    "    coresponding_raw_data_file_path = file[:-4]+'r.tsv'\n",
    "    \n",
    "    df_agg, agg_unique_texts = get_unique_texts_from_df(file)\n",
    "    \n",
    "    df_raw, raw_unique_texts = get_unique_texts_from_df(coresponding_raw_data_file_path)\n",
    "    \n",
    "    if len(raw_unique_texts) != len(agg_unique_texts & raw_unique_texts):\n",
    "        print(len(raw_unique_texts), len(agg_unique_texts), len(agg_unique_texts & raw_unique_texts))\n",
    "    \n",
    "    nltk_alpha = calculate_krippendorf_from_raw_df_nltk(df_raw)\n",
    "    \n",
    "\n",
    "    filename = file.split('/')[-1]\n",
    "    df_agg_report = pd.DataFrame(index = [filename],columns = [['alpha']] , data = [[nltk_alpha]])\n",
    "    \n",
    "\n",
    "    return df_agg_report\n",
    "\n",
    "df_ag_r =  process_toloka_results_batch(\"./clean_collection/step1/s1g1.tsv\",)"
   ]
  },
  {
   "cell_type": "code",
   "execution_count": 7,
   "metadata": {},
   "outputs": [
    {
     "data": {
      "text/html": [
       "<div>\n",
       "<style scoped>\n",
       "    .dataframe tbody tr th:only-of-type {\n",
       "        vertical-align: middle;\n",
       "    }\n",
       "\n",
       "    .dataframe tbody tr th {\n",
       "        vertical-align: top;\n",
       "    }\n",
       "\n",
       "    .dataframe thead tr th {\n",
       "        text-align: left;\n",
       "    }\n",
       "</style>\n",
       "<table border=\"1\" class=\"dataframe\">\n",
       "  <thead>\n",
       "    <tr>\n",
       "      <th></th>\n",
       "      <th>alpha</th>\n",
       "    </tr>\n",
       "  </thead>\n",
       "  <tbody>\n",
       "    <tr>\n",
       "      <th>s1g1.tsv</th>\n",
       "      <td>0.341238</td>\n",
       "    </tr>\n",
       "  </tbody>\n",
       "</table>\n",
       "</div>"
      ],
      "text/plain": [
       "             alpha\n",
       "s1g1.tsv  0.341238"
      ]
     },
     "execution_count": 7,
     "metadata": {},
     "output_type": "execute_result"
    }
   ],
   "source": [
    "df_ag_r.head()"
   ]
  },
  {
   "cell_type": "code",
   "execution_count": 10,
   "metadata": {},
   "outputs": [
    {
     "name": "stdout",
     "output_type": "stream",
     "text": [
      "2135 2124 2124\n",
      "1760 1759 1759\n",
      "26434 26434 26432\n",
      "18319 18319 18317\n",
      "17455 17455 17454\n"
     ]
    }
   ],
   "source": [
    "def analysis():\n",
    "    folder_with_folders = './clean_collection/'\n",
    "    df_reports_list = []\n",
    "    value_counts_list = []\n",
    "    value_counts_strict_data_list = []\n",
    "    for folder in os.listdir(folder_with_folders):\n",
    "        final_folder = os.path.join(folder_with_folders, folder)\n",
    "        if os.path.isdir(final_folder):\n",
    "            for file in os.listdir(final_folder):\n",
    "                if re.match('s\\dg\\d.tsv',file) or re.match('s\\d.tsv',file):\n",
    "                    filepath  = os.path.join(final_folder,file)\n",
    "                    df_report = process_toloka_results_batch(filepath)\n",
    "                    df_reports_list.append(df_report)\n",
    "\n",
    "    df_reports_overall = pd.concat(df_reports_list)\n",
    "    return df_reports_overall\n",
    "df_all = analysis()"
   ]
  },
  {
   "cell_type": "code",
   "execution_count": 11,
   "metadata": {},
   "outputs": [
    {
     "data": {
      "text/html": [
       "<div>\n",
       "<style scoped>\n",
       "    .dataframe tbody tr th:only-of-type {\n",
       "        vertical-align: middle;\n",
       "    }\n",
       "\n",
       "    .dataframe tbody tr th {\n",
       "        vertical-align: top;\n",
       "    }\n",
       "\n",
       "    .dataframe thead tr th {\n",
       "        text-align: left;\n",
       "    }\n",
       "</style>\n",
       "<table border=\"1\" class=\"dataframe\">\n",
       "  <thead>\n",
       "    <tr>\n",
       "      <th></th>\n",
       "      <th>alpha</th>\n",
       "    </tr>\n",
       "  </thead>\n",
       "  <tbody>\n",
       "    <tr>\n",
       "      <th>step1\\s1g1.tsv</th>\n",
       "      <td>0.341238</td>\n",
       "    </tr>\n",
       "    <tr>\n",
       "      <th>step1\\s1g2.tsv</th>\n",
       "      <td>0.395047</td>\n",
       "    </tr>\n",
       "    <tr>\n",
       "      <th>step1\\s1g3.tsv</th>\n",
       "      <td>0.369597</td>\n",
       "    </tr>\n",
       "    <tr>\n",
       "      <th>step2\\s2g1.tsv</th>\n",
       "      <td>0.413621</td>\n",
       "    </tr>\n",
       "    <tr>\n",
       "      <th>step2\\s2g2.tsv</th>\n",
       "      <td>0.383587</td>\n",
       "    </tr>\n",
       "    <tr>\n",
       "      <th>step2\\s2g3.tsv</th>\n",
       "      <td>0.375858</td>\n",
       "    </tr>\n",
       "    <tr>\n",
       "      <th>step3\\s3g1.tsv</th>\n",
       "      <td>0.398130</td>\n",
       "    </tr>\n",
       "    <tr>\n",
       "      <th>step3\\s3g2.tsv</th>\n",
       "      <td>0.440545</td>\n",
       "    </tr>\n",
       "    <tr>\n",
       "      <th>step3\\s3g3.tsv</th>\n",
       "      <td>0.413057</td>\n",
       "    </tr>\n",
       "    <tr>\n",
       "      <th>step4\\s4g1.tsv</th>\n",
       "      <td>0.349669</td>\n",
       "    </tr>\n",
       "    <tr>\n",
       "      <th>step4\\s4g2.tsv</th>\n",
       "      <td>0.295053</td>\n",
       "    </tr>\n",
       "    <tr>\n",
       "      <th>step4\\s4g3.tsv</th>\n",
       "      <td>0.335799</td>\n",
       "    </tr>\n",
       "    <tr>\n",
       "      <th>step56\\s5.tsv</th>\n",
       "      <td>0.317060</td>\n",
       "    </tr>\n",
       "    <tr>\n",
       "      <th>step56\\s6.tsv</th>\n",
       "      <td>0.714844</td>\n",
       "    </tr>\n",
       "  </tbody>\n",
       "</table>\n",
       "</div>"
      ],
      "text/plain": [
       "                   alpha\n",
       "step1\\s1g1.tsv  0.341238\n",
       "step1\\s1g2.tsv  0.395047\n",
       "step1\\s1g3.tsv  0.369597\n",
       "step2\\s2g1.tsv  0.413621\n",
       "step2\\s2g2.tsv  0.383587\n",
       "step2\\s2g3.tsv  0.375858\n",
       "step3\\s3g1.tsv  0.398130\n",
       "step3\\s3g2.tsv  0.440545\n",
       "step3\\s3g3.tsv  0.413057\n",
       "step4\\s4g1.tsv  0.349669\n",
       "step4\\s4g2.tsv  0.295053\n",
       "step4\\s4g3.tsv  0.335799\n",
       "step56\\s5.tsv   0.317060\n",
       "step56\\s6.tsv   0.714844"
      ]
     },
     "execution_count": 11,
     "metadata": {},
     "output_type": "execute_result"
    }
   ],
   "source": [
    "df_all.head(100)"
   ]
  },
  {
   "cell_type": "code",
   "execution_count": 14,
   "metadata": {},
   "outputs": [
    {
     "data": {
      "text/plain": [
       "MultiIndex([('alpha',)],\n",
       "           )"
      ]
     },
     "execution_count": 14,
     "metadata": {},
     "output_type": "execute_result"
    }
   ],
   "source": [
    "df_all.columns"
   ]
  },
  {
   "cell_type": "code",
   "execution_count": 16,
   "metadata": {},
   "outputs": [
    {
     "data": {
      "text/plain": [
       "alpha    0.395936\n",
       "dtype: float64"
      ]
     },
     "execution_count": 16,
     "metadata": {},
     "output_type": "execute_result"
    }
   ],
   "source": [
    "df_all[['alpha']].mean()"
   ]
  }
 ],
 "metadata": {
  "kernelspec": {
   "display_name": "Python 3",
   "language": "python",
   "name": "python3"
  },
  "language_info": {
   "codemirror_mode": {
    "name": "ipython",
    "version": 3
   },
   "file_extension": ".py",
   "mimetype": "text/x-python",
   "name": "python",
   "nbconvert_exporter": "python",
   "pygments_lexer": "ipython3",
   "version": "3.8.10"
  }
 },
 "nbformat": 4,
 "nbformat_minor": 4
}
