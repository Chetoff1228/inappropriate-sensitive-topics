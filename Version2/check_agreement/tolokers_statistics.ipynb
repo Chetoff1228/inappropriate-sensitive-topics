{
 "cells": [
  {
   "cell_type": "code",
   "execution_count": 8,
   "metadata": {},
   "outputs": [],
   "source": [
    "import pandas as pd\n",
    "import os\n",
    "import re"
   ]
  },
  {
   "cell_type": "code",
   "execution_count": 15,
   "metadata": {},
   "outputs": [],
   "source": [
    "def analysis():\n",
    "    folder_with_folders = './clean_collection/'\n",
    "    df_reports_list = []\n",
    "    value_counts_list = []\n",
    "    value_counts_strict_data_list = []\n",
    "    workers_ids= []\n",
    "    for folder in os.listdir(folder_with_folders):\n",
    "        final_folder = os.path.join(folder_with_folders, folder)\n",
    "        if os.path.isdir(final_folder):\n",
    "            for file in os.listdir(final_folder):\n",
    "                if re.match('s\\dg\\d.tsv',file) or re.match('s\\d.tsv',file):\n",
    "                    filepath  = os.path.join(final_folder,file)\n",
    "                    coresponding_raw_data_file_path = filepath[:-4]+'r.tsv'\n",
    "                    df_raw = pd.read_csv(coresponding_raw_data_file_path, sep = '\\t')                \n",
    "                    workers_ids.extend(df_raw['ASSIGNMENT:worker_id'].tolist())\n",
    "    return set(workers_ids)"
   ]
  },
  {
   "cell_type": "code",
   "execution_count": 16,
   "metadata": {},
   "outputs": [],
   "source": [
    "widx = analysis()"
   ]
  },
  {
   "cell_type": "code",
   "execution_count": 17,
   "metadata": {},
   "outputs": [
    {
     "data": {
      "text/plain": [
       "2680"
      ]
     },
     "execution_count": 17,
     "metadata": {},
     "output_type": "execute_result"
    }
   ],
   "source": [
    "len(widx)"
   ]
  }
 ],
 "metadata": {
  "kernelspec": {
   "display_name": "Python 3",
   "language": "python",
   "name": "python3"
  },
  "language_info": {
   "codemirror_mode": {
    "name": "ipython",
    "version": 3
   },
   "file_extension": ".py",
   "mimetype": "text/x-python",
   "name": "python",
   "nbconvert_exporter": "python",
   "pygments_lexer": "ipython3",
   "version": "3.8.10"
  }
 },
 "nbformat": 4,
 "nbformat_minor": 4
}
