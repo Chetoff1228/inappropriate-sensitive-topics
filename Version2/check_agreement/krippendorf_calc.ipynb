{
 "cells": [
  {
   "cell_type": "code",
   "execution_count": 1,
   "metadata": {},
   "outputs": [],
   "source": [
    "import pandas as pd\n",
    "import krippendorff\n",
    "from nltk.metrics.agreement import AnnotationTask\n",
    "import numpy as np"
   ]
  },
  {
   "cell_type": "markdown",
   "metadata": {},
   "source": [
    "# Берем только 100проц качеств семплы и анализируем только их"
   ]
  },
  {
   "cell_type": "code",
   "execution_count": 2,
   "metadata": {},
   "outputs": [],
   "source": [
    "THRESHOLD = 0.95"
   ]
  },
  {
   "cell_type": "code",
   "execution_count": 3,
   "metadata": {},
   "outputs": [],
   "source": [
    "df_agg = pd.read_csv(\"../appropriateness/Appropriateness.csv\")"
   ]
  },
  {
   "cell_type": "code",
   "execution_count": 4,
   "metadata": {},
   "outputs": [],
   "source": [
    "df_agg = df_agg[df_agg['inappropriate']>THRESHOLD]"
   ]
  },
  {
   "cell_type": "code",
   "execution_count": 5,
   "metadata": {},
   "outputs": [
    {
     "data": {
      "text/html": [
       "<div>\n",
       "<style scoped>\n",
       "    .dataframe tbody tr th:only-of-type {\n",
       "        vertical-align: middle;\n",
       "    }\n",
       "\n",
       "    .dataframe tbody tr th {\n",
       "        vertical-align: top;\n",
       "    }\n",
       "\n",
       "    .dataframe thead th {\n",
       "        text-align: right;\n",
       "    }\n",
       "</style>\n",
       "<table border=\"1\" class=\"dataframe\">\n",
       "  <thead>\n",
       "    <tr style=\"text-align: right;\">\n",
       "      <th></th>\n",
       "      <th>text</th>\n",
       "      <th>inappropriate</th>\n",
       "      <th>offline_crime</th>\n",
       "      <th>online_crime</th>\n",
       "      <th>drugs</th>\n",
       "      <th>gambling</th>\n",
       "      <th>pornography</th>\n",
       "      <th>prostitution</th>\n",
       "      <th>slavery</th>\n",
       "      <th>suicide</th>\n",
       "      <th>...</th>\n",
       "      <th>body_shaming</th>\n",
       "      <th>health_shaming</th>\n",
       "      <th>politics</th>\n",
       "      <th>racism</th>\n",
       "      <th>religion</th>\n",
       "      <th>sexual_minorities</th>\n",
       "      <th>sexism</th>\n",
       "      <th>social_injustice</th>\n",
       "      <th>human_labeled</th>\n",
       "      <th>toxic_auto</th>\n",
       "    </tr>\n",
       "  </thead>\n",
       "  <tbody>\n",
       "    <tr>\n",
       "      <th>1</th>\n",
       "      <td>Читаю. Драки, грабежи, ДТП. Изредка убийства, ...</td>\n",
       "      <td>1.0</td>\n",
       "      <td>1.0</td>\n",
       "      <td>0.0</td>\n",
       "      <td>0.0</td>\n",
       "      <td>0.0</td>\n",
       "      <td>0.0</td>\n",
       "      <td>0.0</td>\n",
       "      <td>0.0</td>\n",
       "      <td>0.0</td>\n",
       "      <td>...</td>\n",
       "      <td>0.0</td>\n",
       "      <td>0.0</td>\n",
       "      <td>0.0</td>\n",
       "      <td>0.0</td>\n",
       "      <td>0.0</td>\n",
       "      <td>0.0</td>\n",
       "      <td>0.0</td>\n",
       "      <td>0.0</td>\n",
       "      <td>0</td>\n",
       "      <td>0.18</td>\n",
       "    </tr>\n",
       "    <tr>\n",
       "      <th>4</th>\n",
       "      <td>а зачем ты на проураинские митинги выходил? во...</td>\n",
       "      <td>1.0</td>\n",
       "      <td>0.0</td>\n",
       "      <td>0.0</td>\n",
       "      <td>0.0</td>\n",
       "      <td>0.0</td>\n",
       "      <td>0.0</td>\n",
       "      <td>0.0</td>\n",
       "      <td>0.0</td>\n",
       "      <td>0.0</td>\n",
       "      <td>...</td>\n",
       "      <td>0.0</td>\n",
       "      <td>0.0</td>\n",
       "      <td>0.0</td>\n",
       "      <td>1.0</td>\n",
       "      <td>0.0</td>\n",
       "      <td>0.0</td>\n",
       "      <td>0.0</td>\n",
       "      <td>0.0</td>\n",
       "      <td>0</td>\n",
       "      <td>0.40</td>\n",
       "    </tr>\n",
       "    <tr>\n",
       "      <th>5</th>\n",
       "      <td>зато теперь не будут бегать от взгляда пиндосо...</td>\n",
       "      <td>1.0</td>\n",
       "      <td>1.0</td>\n",
       "      <td>0.0</td>\n",
       "      <td>0.0</td>\n",
       "      <td>0.0</td>\n",
       "      <td>0.0</td>\n",
       "      <td>0.0</td>\n",
       "      <td>0.0</td>\n",
       "      <td>0.0</td>\n",
       "      <td>...</td>\n",
       "      <td>0.0</td>\n",
       "      <td>0.0</td>\n",
       "      <td>0.0</td>\n",
       "      <td>0.0</td>\n",
       "      <td>0.0</td>\n",
       "      <td>0.0</td>\n",
       "      <td>0.0</td>\n",
       "      <td>0.0</td>\n",
       "      <td>0</td>\n",
       "      <td>0.39</td>\n",
       "    </tr>\n",
       "    <tr>\n",
       "      <th>6</th>\n",
       "      <td>рабская тоталитарная страна, толи дело на Укра...</td>\n",
       "      <td>1.0</td>\n",
       "      <td>0.0</td>\n",
       "      <td>0.0</td>\n",
       "      <td>0.0</td>\n",
       "      <td>0.0</td>\n",
       "      <td>0.0</td>\n",
       "      <td>0.0</td>\n",
       "      <td>1.0</td>\n",
       "      <td>0.0</td>\n",
       "      <td>...</td>\n",
       "      <td>0.0</td>\n",
       "      <td>0.0</td>\n",
       "      <td>0.0</td>\n",
       "      <td>0.0</td>\n",
       "      <td>0.0</td>\n",
       "      <td>0.0</td>\n",
       "      <td>0.0</td>\n",
       "      <td>0.0</td>\n",
       "      <td>0</td>\n",
       "      <td>0.38</td>\n",
       "    </tr>\n",
       "    <tr>\n",
       "      <th>7</th>\n",
       "      <td>там местных NUMBER% от населения, они хорошо ж...</td>\n",
       "      <td>1.0</td>\n",
       "      <td>0.0</td>\n",
       "      <td>0.0</td>\n",
       "      <td>0.0</td>\n",
       "      <td>0.0</td>\n",
       "      <td>0.0</td>\n",
       "      <td>0.0</td>\n",
       "      <td>1.0</td>\n",
       "      <td>0.0</td>\n",
       "      <td>...</td>\n",
       "      <td>0.0</td>\n",
       "      <td>0.0</td>\n",
       "      <td>0.0</td>\n",
       "      <td>0.0</td>\n",
       "      <td>0.0</td>\n",
       "      <td>0.0</td>\n",
       "      <td>0.0</td>\n",
       "      <td>0.0</td>\n",
       "      <td>0</td>\n",
       "      <td>0.03</td>\n",
       "    </tr>\n",
       "  </tbody>\n",
       "</table>\n",
       "<p>5 rows × 22 columns</p>\n",
       "</div>"
      ],
      "text/plain": [
       "                                                text  inappropriate  \\\n",
       "1  Читаю. Драки, грабежи, ДТП. Изредка убийства, ...            1.0   \n",
       "4  а зачем ты на проураинские митинги выходил? во...            1.0   \n",
       "5  зато теперь не будут бегать от взгляда пиндосо...            1.0   \n",
       "6  рабская тоталитарная страна, толи дело на Укра...            1.0   \n",
       "7  там местных NUMBER% от населения, они хорошо ж...            1.0   \n",
       "\n",
       "   offline_crime  online_crime  drugs  gambling  pornography  prostitution  \\\n",
       "1            1.0           0.0    0.0       0.0          0.0           0.0   \n",
       "4            0.0           0.0    0.0       0.0          0.0           0.0   \n",
       "5            1.0           0.0    0.0       0.0          0.0           0.0   \n",
       "6            0.0           0.0    0.0       0.0          0.0           0.0   \n",
       "7            0.0           0.0    0.0       0.0          0.0           0.0   \n",
       "\n",
       "   slavery  suicide  ...  body_shaming  health_shaming  politics  racism  \\\n",
       "1      0.0      0.0  ...           0.0             0.0       0.0     0.0   \n",
       "4      0.0      0.0  ...           0.0             0.0       0.0     1.0   \n",
       "5      0.0      0.0  ...           0.0             0.0       0.0     0.0   \n",
       "6      1.0      0.0  ...           0.0             0.0       0.0     0.0   \n",
       "7      1.0      0.0  ...           0.0             0.0       0.0     0.0   \n",
       "\n",
       "   religion  sexual_minorities  sexism  social_injustice  human_labeled  \\\n",
       "1       0.0                0.0     0.0               0.0              0   \n",
       "4       0.0                0.0     0.0               0.0              0   \n",
       "5       0.0                0.0     0.0               0.0              0   \n",
       "6       0.0                0.0     0.0               0.0              0   \n",
       "7       0.0                0.0     0.0               0.0              0   \n",
       "\n",
       "   toxic_auto  \n",
       "1        0.18  \n",
       "4        0.40  \n",
       "5        0.39  \n",
       "6        0.38  \n",
       "7        0.03  \n",
       "\n",
       "[5 rows x 22 columns]"
      ]
     },
     "execution_count": 5,
     "metadata": {},
     "output_type": "execute_result"
    }
   ],
   "source": [
    "df_agg.head()"
   ]
  },
  {
   "cell_type": "code",
   "execution_count": 6,
   "metadata": {},
   "outputs": [],
   "source": [
    "df = pd.read_csv(\"ALL_LABELLED.csv\")"
   ]
  },
  {
   "cell_type": "code",
   "execution_count": 7,
   "metadata": {},
   "outputs": [
    {
     "data": {
      "text/html": [
       "<div>\n",
       "<style scoped>\n",
       "    .dataframe tbody tr th:only-of-type {\n",
       "        vertical-align: middle;\n",
       "    }\n",
       "\n",
       "    .dataframe tbody tr th {\n",
       "        vertical-align: top;\n",
       "    }\n",
       "\n",
       "    .dataframe thead th {\n",
       "        text-align: right;\n",
       "    }\n",
       "</style>\n",
       "<table border=\"1\" class=\"dataframe\">\n",
       "  <thead>\n",
       "    <tr style=\"text-align: right;\">\n",
       "      <th></th>\n",
       "      <th>INPUT:text</th>\n",
       "      <th>OUTPUT:result</th>\n",
       "      <th>ASSIGNMENT:worker_id</th>\n",
       "    </tr>\n",
       "  </thead>\n",
       "  <tbody>\n",
       "    <tr>\n",
       "      <th>0</th>\n",
       "      <td>Буржуины говорят, что при капитализме все прод...</td>\n",
       "      <td>yes</td>\n",
       "      <td>0f5d863bd5ad9443fc38f725cb98fd55</td>\n",
       "    </tr>\n",
       "    <tr>\n",
       "      <th>1</th>\n",
       "      <td>Йа тебя умоляю.1 РФ отжала внаглую Крым2 На До...</td>\n",
       "      <td>yes</td>\n",
       "      <td>0f5d863bd5ad9443fc38f725cb98fd55</td>\n",
       "    </tr>\n",
       "    <tr>\n",
       "      <th>2</th>\n",
       "      <td>Специально примерил свой рюк с рпс, справа и с...</td>\n",
       "      <td>no</td>\n",
       "      <td>0f5d863bd5ad9443fc38f725cb98fd55</td>\n",
       "    </tr>\n",
       "    <tr>\n",
       "      <th>3</th>\n",
       "      <td>В сущности опошленный сокращенный сборник из п...</td>\n",
       "      <td>yes</td>\n",
       "      <td>0f5d863bd5ad9443fc38f725cb98fd55</td>\n",
       "    </tr>\n",
       "    <tr>\n",
       "      <th>4</th>\n",
       "      <td>криминальная милиция, всю ночь отдел милиции з...</td>\n",
       "      <td>yes</td>\n",
       "      <td>0f5d863bd5ad9443fc38f725cb98fd55</td>\n",
       "    </tr>\n",
       "  </tbody>\n",
       "</table>\n",
       "</div>"
      ],
      "text/plain": [
       "                                          INPUT:text OUTPUT:result  \\\n",
       "0  Буржуины говорят, что при капитализме все прод...           yes   \n",
       "1  Йа тебя умоляю.1 РФ отжала внаглую Крым2 На До...           yes   \n",
       "2  Специально примерил свой рюк с рпс, справа и с...            no   \n",
       "3  В сущности опошленный сокращенный сборник из п...           yes   \n",
       "4  криминальная милиция, всю ночь отдел милиции з...           yes   \n",
       "\n",
       "               ASSIGNMENT:worker_id  \n",
       "0  0f5d863bd5ad9443fc38f725cb98fd55  \n",
       "1  0f5d863bd5ad9443fc38f725cb98fd55  \n",
       "2  0f5d863bd5ad9443fc38f725cb98fd55  \n",
       "3  0f5d863bd5ad9443fc38f725cb98fd55  \n",
       "4  0f5d863bd5ad9443fc38f725cb98fd55  "
      ]
     },
     "execution_count": 7,
     "metadata": {},
     "output_type": "execute_result"
    }
   ],
   "source": [
    "df.head()"
   ]
  },
  {
   "cell_type": "code",
   "execution_count": 8,
   "metadata": {
    "scrolled": true
   },
   "outputs": [
    {
     "data": {
      "text/plain": [
       "572755"
      ]
     },
     "execution_count": 8,
     "metadata": {},
     "output_type": "execute_result"
    }
   ],
   "source": [
    "len(df)"
   ]
  },
  {
   "cell_type": "code",
   "execution_count": 9,
   "metadata": {},
   "outputs": [],
   "source": [
    "# df['ishighconf'] = df['INPUT:text'].isin(df_agg.text.tolist())\n",
    "# df = df[df['ishighconf'] == True]"
   ]
  },
  {
   "cell_type": "code",
   "execution_count": null,
   "metadata": {},
   "outputs": [],
   "source": []
  },
  {
   "cell_type": "code",
   "execution_count": 10,
   "metadata": {},
   "outputs": [
    {
     "data": {
      "text/plain": [
       "572755"
      ]
     },
     "execution_count": 10,
     "metadata": {},
     "output_type": "execute_result"
    }
   ],
   "source": [
    "len(df)"
   ]
  },
  {
   "cell_type": "code",
   "execution_count": 11,
   "metadata": {},
   "outputs": [
    {
     "data": {
      "text/html": [
       "<div>\n",
       "<style scoped>\n",
       "    .dataframe tbody tr th:only-of-type {\n",
       "        vertical-align: middle;\n",
       "    }\n",
       "\n",
       "    .dataframe tbody tr th {\n",
       "        vertical-align: top;\n",
       "    }\n",
       "\n",
       "    .dataframe thead th {\n",
       "        text-align: right;\n",
       "    }\n",
       "</style>\n",
       "<table border=\"1\" class=\"dataframe\">\n",
       "  <thead>\n",
       "    <tr style=\"text-align: right;\">\n",
       "      <th></th>\n",
       "      <th>INPUT:text</th>\n",
       "      <th>OUTPUT:result</th>\n",
       "      <th>ASSIGNMENT:worker_id</th>\n",
       "    </tr>\n",
       "  </thead>\n",
       "  <tbody>\n",
       "    <tr>\n",
       "      <th>0</th>\n",
       "      <td>Буржуины говорят, что при капитализме все прод...</td>\n",
       "      <td>yes</td>\n",
       "      <td>0f5d863bd5ad9443fc38f725cb98fd55</td>\n",
       "    </tr>\n",
       "    <tr>\n",
       "      <th>1</th>\n",
       "      <td>Йа тебя умоляю.1 РФ отжала внаглую Крым2 На До...</td>\n",
       "      <td>yes</td>\n",
       "      <td>0f5d863bd5ad9443fc38f725cb98fd55</td>\n",
       "    </tr>\n",
       "    <tr>\n",
       "      <th>2</th>\n",
       "      <td>Специально примерил свой рюк с рпс, справа и с...</td>\n",
       "      <td>no</td>\n",
       "      <td>0f5d863bd5ad9443fc38f725cb98fd55</td>\n",
       "    </tr>\n",
       "    <tr>\n",
       "      <th>3</th>\n",
       "      <td>В сущности опошленный сокращенный сборник из п...</td>\n",
       "      <td>yes</td>\n",
       "      <td>0f5d863bd5ad9443fc38f725cb98fd55</td>\n",
       "    </tr>\n",
       "    <tr>\n",
       "      <th>4</th>\n",
       "      <td>криминальная милиция, всю ночь отдел милиции з...</td>\n",
       "      <td>yes</td>\n",
       "      <td>0f5d863bd5ad9443fc38f725cb98fd55</td>\n",
       "    </tr>\n",
       "  </tbody>\n",
       "</table>\n",
       "</div>"
      ],
      "text/plain": [
       "                                          INPUT:text OUTPUT:result  \\\n",
       "0  Буржуины говорят, что при капитализме все прод...           yes   \n",
       "1  Йа тебя умоляю.1 РФ отжала внаглую Крым2 На До...           yes   \n",
       "2  Специально примерил свой рюк с рпс, справа и с...            no   \n",
       "3  В сущности опошленный сокращенный сборник из п...           yes   \n",
       "4  криминальная милиция, всю ночь отдел милиции з...           yes   \n",
       "\n",
       "               ASSIGNMENT:worker_id  \n",
       "0  0f5d863bd5ad9443fc38f725cb98fd55  \n",
       "1  0f5d863bd5ad9443fc38f725cb98fd55  \n",
       "2  0f5d863bd5ad9443fc38f725cb98fd55  \n",
       "3  0f5d863bd5ad9443fc38f725cb98fd55  \n",
       "4  0f5d863bd5ad9443fc38f725cb98fd55  "
      ]
     },
     "execution_count": 11,
     "metadata": {},
     "output_type": "execute_result"
    }
   ],
   "source": [
    "df.head()"
   ]
  },
  {
   "cell_type": "code",
   "execution_count": 12,
   "metadata": {},
   "outputs": [],
   "source": [
    "task2id = {}\n",
    "for pair in df['INPUT:text'].tolist():\n",
    "    if pair not in task2id:\n",
    "        task2id[pair] = len(task2id)"
   ]
  },
  {
   "cell_type": "code",
   "execution_count": 13,
   "metadata": {},
   "outputs": [],
   "source": [
    "df['task_idx'] = df['INPUT:text'].map(task2id)"
   ]
  },
  {
   "cell_type": "code",
   "execution_count": 14,
   "metadata": {},
   "outputs": [],
   "source": [
    "worker2id = {}\n",
    "for pair in df['ASSIGNMENT:worker_id'].tolist():\n",
    "    if pair not in task2id:\n",
    "        worker2id[pair] = len(worker2id)"
   ]
  },
  {
   "cell_type": "code",
   "execution_count": 15,
   "metadata": {},
   "outputs": [],
   "source": [
    "df['worker_idx'] = df['ASSIGNMENT:worker_id'].map(worker2id)"
   ]
  },
  {
   "cell_type": "code",
   "execution_count": 16,
   "metadata": {},
   "outputs": [
    {
     "data": {
      "text/plain": [
       "2697"
      ]
     },
     "execution_count": 16,
     "metadata": {},
     "output_type": "execute_result"
    }
   ],
   "source": [
    "len(worker2id)"
   ]
  },
  {
   "cell_type": "code",
   "execution_count": 17,
   "metadata": {},
   "outputs": [
    {
     "data": {
      "text/html": [
       "<div>\n",
       "<style scoped>\n",
       "    .dataframe tbody tr th:only-of-type {\n",
       "        vertical-align: middle;\n",
       "    }\n",
       "\n",
       "    .dataframe tbody tr th {\n",
       "        vertical-align: top;\n",
       "    }\n",
       "\n",
       "    .dataframe thead th {\n",
       "        text-align: right;\n",
       "    }\n",
       "</style>\n",
       "<table border=\"1\" class=\"dataframe\">\n",
       "  <thead>\n",
       "    <tr style=\"text-align: right;\">\n",
       "      <th></th>\n",
       "      <th>INPUT:text</th>\n",
       "      <th>OUTPUT:result</th>\n",
       "      <th>ASSIGNMENT:worker_id</th>\n",
       "      <th>task_idx</th>\n",
       "      <th>worker_idx</th>\n",
       "    </tr>\n",
       "  </thead>\n",
       "  <tbody>\n",
       "    <tr>\n",
       "      <th>0</th>\n",
       "      <td>Буржуины говорят, что при капитализме все прод...</td>\n",
       "      <td>yes</td>\n",
       "      <td>0f5d863bd5ad9443fc38f725cb98fd55</td>\n",
       "      <td>0</td>\n",
       "      <td>1519</td>\n",
       "    </tr>\n",
       "    <tr>\n",
       "      <th>1</th>\n",
       "      <td>Йа тебя умоляю.1 РФ отжала внаглую Крым2 На До...</td>\n",
       "      <td>yes</td>\n",
       "      <td>0f5d863bd5ad9443fc38f725cb98fd55</td>\n",
       "      <td>1</td>\n",
       "      <td>1519</td>\n",
       "    </tr>\n",
       "    <tr>\n",
       "      <th>2</th>\n",
       "      <td>Специально примерил свой рюк с рпс, справа и с...</td>\n",
       "      <td>no</td>\n",
       "      <td>0f5d863bd5ad9443fc38f725cb98fd55</td>\n",
       "      <td>2</td>\n",
       "      <td>1519</td>\n",
       "    </tr>\n",
       "    <tr>\n",
       "      <th>3</th>\n",
       "      <td>В сущности опошленный сокращенный сборник из п...</td>\n",
       "      <td>yes</td>\n",
       "      <td>0f5d863bd5ad9443fc38f725cb98fd55</td>\n",
       "      <td>3</td>\n",
       "      <td>1519</td>\n",
       "    </tr>\n",
       "    <tr>\n",
       "      <th>4</th>\n",
       "      <td>криминальная милиция, всю ночь отдел милиции з...</td>\n",
       "      <td>yes</td>\n",
       "      <td>0f5d863bd5ad9443fc38f725cb98fd55</td>\n",
       "      <td>4</td>\n",
       "      <td>1519</td>\n",
       "    </tr>\n",
       "    <tr>\n",
       "      <th>5</th>\n",
       "      <td>Их много и под руководством Рамзана они не ста...</td>\n",
       "      <td>yes</td>\n",
       "      <td>0f5d863bd5ad9443fc38f725cb98fd55</td>\n",
       "      <td>5</td>\n",
       "      <td>1519</td>\n",
       "    </tr>\n",
       "    <tr>\n",
       "      <th>6</th>\n",
       "      <td>&gt;пластиковые картыУ нас не Швеция, чтобы ими м...</td>\n",
       "      <td>no</td>\n",
       "      <td>0f5d863bd5ad9443fc38f725cb98fd55</td>\n",
       "      <td>6</td>\n",
       "      <td>1519</td>\n",
       "    </tr>\n",
       "    <tr>\n",
       "      <th>7</th>\n",
       "      <td>Россияне, а почему вы не любите Европу с Амери...</td>\n",
       "      <td>yes</td>\n",
       "      <td>0f5d863bd5ad9443fc38f725cb98fd55</td>\n",
       "      <td>7</td>\n",
       "      <td>1519</td>\n",
       "    </tr>\n",
       "    <tr>\n",
       "      <th>8</th>\n",
       "      <td>Гильзы те же самые порох и тд</td>\n",
       "      <td>yes</td>\n",
       "      <td>0f5d863bd5ad9443fc38f725cb98fd55</td>\n",
       "      <td>8</td>\n",
       "      <td>1519</td>\n",
       "    </tr>\n",
       "    <tr>\n",
       "      <th>9</th>\n",
       "      <td>наши усе.евреи лишь на 50 %как Обама</td>\n",
       "      <td>yes</td>\n",
       "      <td>0f5d863bd5ad9443fc38f725cb98fd55</td>\n",
       "      <td>9</td>\n",
       "      <td>1519</td>\n",
       "    </tr>\n",
       "  </tbody>\n",
       "</table>\n",
       "</div>"
      ],
      "text/plain": [
       "                                          INPUT:text OUTPUT:result  \\\n",
       "0  Буржуины говорят, что при капитализме все прод...           yes   \n",
       "1  Йа тебя умоляю.1 РФ отжала внаглую Крым2 На До...           yes   \n",
       "2  Специально примерил свой рюк с рпс, справа и с...            no   \n",
       "3  В сущности опошленный сокращенный сборник из п...           yes   \n",
       "4  криминальная милиция, всю ночь отдел милиции з...           yes   \n",
       "5  Их много и под руководством Рамзана они не ста...           yes   \n",
       "6  >пластиковые картыУ нас не Швеция, чтобы ими м...            no   \n",
       "7  Россияне, а почему вы не любите Европу с Амери...           yes   \n",
       "8                      Гильзы те же самые порох и тд           yes   \n",
       "9               наши усе.евреи лишь на 50 %как Обама           yes   \n",
       "\n",
       "               ASSIGNMENT:worker_id  task_idx  worker_idx  \n",
       "0  0f5d863bd5ad9443fc38f725cb98fd55         0        1519  \n",
       "1  0f5d863bd5ad9443fc38f725cb98fd55         1        1519  \n",
       "2  0f5d863bd5ad9443fc38f725cb98fd55         2        1519  \n",
       "3  0f5d863bd5ad9443fc38f725cb98fd55         3        1519  \n",
       "4  0f5d863bd5ad9443fc38f725cb98fd55         4        1519  \n",
       "5  0f5d863bd5ad9443fc38f725cb98fd55         5        1519  \n",
       "6  0f5d863bd5ad9443fc38f725cb98fd55         6        1519  \n",
       "7  0f5d863bd5ad9443fc38f725cb98fd55         7        1519  \n",
       "8  0f5d863bd5ad9443fc38f725cb98fd55         8        1519  \n",
       "9  0f5d863bd5ad9443fc38f725cb98fd55         9        1519  "
      ]
     },
     "execution_count": 17,
     "metadata": {},
     "output_type": "execute_result"
    }
   ],
   "source": [
    "df.head(10)"
   ]
  },
  {
   "cell_type": "markdown",
   "metadata": {},
   "source": [
    "## Считаем криппендорфа разными способами"
   ]
  },
  {
   "cell_type": "code",
   "execution_count": 18,
   "metadata": {},
   "outputs": [],
   "source": [
    "#nltk"
   ]
  },
  {
   "cell_type": "code",
   "execution_count": 19,
   "metadata": {},
   "outputs": [],
   "source": [
    "coolected_data = []\n",
    "\n",
    "for i,el in df.iterrows():\n",
    "    coder_idx = el['worker_idx']\n",
    "    item_idx = el['task_idx']\n",
    "    label = el['OUTPUT:result']\n",
    "    \n",
    "    collected_triplet = (coder_idx,item_idx,label )\n",
    "    coolected_data.append(collected_triplet)"
   ]
  },
  {
   "cell_type": "code",
   "execution_count": 20,
   "metadata": {},
   "outputs": [],
   "source": [
    "t = AnnotationTask(data=coolected_data)"
   ]
  },
  {
   "cell_type": "code",
   "execution_count": 21,
   "metadata": {},
   "outputs": [
    {
     "data": {
      "text/plain": [
       "0.37682856824678856"
      ]
     },
     "execution_count": 21,
     "metadata": {},
     "output_type": "execute_result"
    }
   ],
   "source": [
    "t.alpha()# 0.3811896661786297 - если оценивать все семплы"
   ]
  },
  {
   "cell_type": "code",
   "execution_count": 22,
   "metadata": {},
   "outputs": [
    {
     "data": {
      "text/plain": [
       "[(1519, 0, 'yes'),\n",
       " (1519, 1, 'yes'),\n",
       " (1519, 2, 'no'),\n",
       " (1519, 3, 'yes'),\n",
       " (1519, 4, 'yes')]"
      ]
     },
     "execution_count": 22,
     "metadata": {},
     "output_type": "execute_result"
    }
   ],
   "source": [
    "coolected_data[:5]"
   ]
  },
  {
   "cell_type": "code",
   "execution_count": 23,
   "metadata": {},
   "outputs": [],
   "source": [
    "#krippendorff package"
   ]
  },
  {
   "cell_type": "code",
   "execution_count": 24,
   "metadata": {},
   "outputs": [
    {
     "data": {
      "text/plain": [
       "170324"
      ]
     },
     "execution_count": 24,
     "metadata": {},
     "output_type": "execute_result"
    }
   ],
   "source": [
    "len(task2id)"
   ]
  },
  {
   "cell_type": "code",
   "execution_count": 25,
   "metadata": {},
   "outputs": [],
   "source": [
    "count_dict = {i:{'yes':0,\"no\":0} for i in range(len(task2id))}\n",
    "for coder_idx,item_idx,label in coolected_data:\n",
    "    count_dict[item_idx][label] += 1"
   ]
  },
  {
   "cell_type": "code",
   "execution_count": 26,
   "metadata": {},
   "outputs": [
    {
     "data": {
      "text/plain": [
       "{'yes': 0, 'no': 3}"
      ]
     },
     "execution_count": 26,
     "metadata": {},
     "output_type": "execute_result"
    }
   ],
   "source": [
    "count_dict[50]"
   ]
  },
  {
   "cell_type": "code",
   "execution_count": 27,
   "metadata": {},
   "outputs": [],
   "source": [
    "value_counts = []\n",
    "for i in range(len(task2id)):\n",
    "    current_count_element = [0,0,0]\n",
    "    for idx, lbl in enumerate(['yes','no']):\n",
    "        current_count_element[idx] = count_dict[i][lbl]\n",
    "    value_counts.append(current_count_element)"
   ]
  },
  {
   "cell_type": "code",
   "execution_count": 28,
   "metadata": {},
   "outputs": [
    {
     "data": {
      "text/plain": [
       "[[3, 0, 0], [3, 0, 0], [0, 3, 0], [2, 1, 0], [3, 0, 0], [3, 0, 0]]"
      ]
     },
     "execution_count": 28,
     "metadata": {},
     "output_type": "execute_result"
    }
   ],
   "source": [
    "value_counts[:6]"
   ]
  },
  {
   "cell_type": "code",
   "execution_count": 29,
   "metadata": {},
   "outputs": [
    {
     "data": {
      "text/plain": [
       "0.376828568246805"
      ]
     },
     "execution_count": 29,
     "metadata": {},
     "output_type": "execute_result"
    }
   ],
   "source": [
    "krippendorff.alpha(value_counts=np.array(value_counts),level_of_measurement='nominal')"
   ]
  },
  {
   "cell_type": "code",
   "execution_count": 30,
   "metadata": {},
   "outputs": [],
   "source": [
    "# Метод напрямки посмотреть кол-во разномастных ответов"
   ]
  },
  {
   "cell_type": "code",
   "execution_count": 31,
   "metadata": {},
   "outputs": [],
   "source": [
    "from collections import Counter"
   ]
  },
  {
   "cell_type": "code",
   "execution_count": 32,
   "metadata": {},
   "outputs": [],
   "source": [
    "value_counts_adjusted = [''.join(sorted([str(el) for el in vc if el != 0])) for vc in value_counts]"
   ]
  },
  {
   "cell_type": "code",
   "execution_count": 33,
   "metadata": {
    "scrolled": true
   },
   "outputs": [
    {
     "data": {
      "text/plain": [
       "['3', '3', '3', '12', '3', '3']"
      ]
     },
     "execution_count": 33,
     "metadata": {},
     "output_type": "execute_result"
    }
   ],
   "source": [
    "value_counts_adjusted[:6]"
   ]
  },
  {
   "cell_type": "code",
   "execution_count": 34,
   "metadata": {},
   "outputs": [
    {
     "data": {
      "text/plain": [
       "{'3': 84431,\n",
       " '12': 43179,\n",
       " '14': 2877,\n",
       " '13': 8326,\n",
       " '22': 4746,\n",
       " '4': 3967,\n",
       " '15': 1142,\n",
       " '24': 1161,\n",
       " '6': 1214,\n",
       " '33': 632,\n",
       " '5': 2340,\n",
       " '23': 3286,\n",
       " '34': 429,\n",
       " '26': 230,\n",
       " '25': 423,\n",
       " '16': 583,\n",
       " '44': 110,\n",
       " '11': 1716,\n",
       " '2': 6611,\n",
       " '56': 24,\n",
       " '18': 108,\n",
       " '37': 55,\n",
       " '17': 271,\n",
       " '10': 78,\n",
       " '7': 696,\n",
       " '45': 98,\n",
       " '19': 59,\n",
       " '47': 33,\n",
       " '8': 313,\n",
       " '35': 219,\n",
       " '46': 52,\n",
       " '36': 117,\n",
       " '27': 106,\n",
       " '110': 35,\n",
       " '9': 157,\n",
       " '68': 5,\n",
       " '111': 18,\n",
       " '29': 26,\n",
       " '57': 12,\n",
       " '38': 27,\n",
       " '66': 8,\n",
       " '102': 13,\n",
       " '49': 4,\n",
       " '104': 3,\n",
       " '28': 74,\n",
       " '55': 34,\n",
       " '112': 18,\n",
       " '39': 15,\n",
       " '132': 3,\n",
       " '48': 22,\n",
       " '58': 4,\n",
       " '113': 13,\n",
       " '59': 4,\n",
       " '134': 2,\n",
       " '144': 1,\n",
       " '116': 1,\n",
       " '67': 6,\n",
       " '103': 3,\n",
       " '114': 4,\n",
       " '77': 2,\n",
       " '122': 2,\n",
       " '106': 3,\n",
       " '162': 2,\n",
       " '142': 1,\n",
       " '117': 1,\n",
       " '155': 1,\n",
       " '79': 2,\n",
       " '78': 1,\n",
       " '123': 1,\n",
       " '1': 164}"
      ]
     },
     "execution_count": 34,
     "metadata": {},
     "output_type": "execute_result"
    }
   ],
   "source": [
    "adjusted_dict_counter = dict(Counter(value_counts_adjusted))\n",
    "adjusted_dict_counter"
   ]
  },
  {
   "cell_type": "code",
   "execution_count": 35,
   "metadata": {},
   "outputs": [
    {
     "name": "stdout",
     "output_type": "stream",
     "text": [
      "Total agreed samples percent = 0.57\n",
      "Almost agreed samples percent = 0.32\n"
     ]
    }
   ],
   "source": [
    "total_agreement_count = 0\n",
    "almost_agreed_count = 0\n",
    "for cnt, cnt_num in adjusted_dict_counter.items():\n",
    "    if cnt in ('2','3','4','5'):\n",
    "        total_agreement_count += cnt_num\n",
    "    elif cnt in ('12','13','14'):\n",
    "        almost_agreed_count += cnt_num\n",
    "        \n",
    "print(\"Total agreed samples percent = {}\".format(round(total_agreement_count/len(task2id),2)))\n",
    "print(\"Almost agreed samples percent = {}\".format(round(almost_agreed_count/len(task2id),2)))"
   ]
  },
  {
   "cell_type": "code",
   "execution_count": null,
   "metadata": {},
   "outputs": [],
   "source": []
  },
  {
   "cell_type": "code",
   "execution_count": null,
   "metadata": {},
   "outputs": [],
   "source": []
  }
 ],
 "metadata": {
  "kernelspec": {
   "display_name": "Python 3",
   "language": "python",
   "name": "python3"
  },
  "language_info": {
   "codemirror_mode": {
    "name": "ipython",
    "version": 3
   },
   "file_extension": ".py",
   "mimetype": "text/x-python",
   "name": "python",
   "nbconvert_exporter": "python",
   "pygments_lexer": "ipython3",
   "version": "3.8.10"
  }
 },
 "nbformat": 4,
 "nbformat_minor": 4
}
