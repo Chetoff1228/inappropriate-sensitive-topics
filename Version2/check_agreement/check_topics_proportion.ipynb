{
 "cells": [
  {
   "cell_type": "code",
   "execution_count": 1,
   "metadata": {},
   "outputs": [],
   "source": [
    "import pandas as pd\n",
    "from collections import Counter"
   ]
  },
  {
   "cell_type": "code",
   "execution_count": 2,
   "metadata": {},
   "outputs": [],
   "source": [
    "# df_new_filtered = pd.read_csv(\"Inappropriate_095_top_vs_one.csv\")\n",
    "df_new_filtered = pd.read_csv(\"Inappropriate_09_top_vs_one.csv\")"
   ]
  },
  {
   "cell_type": "code",
   "execution_count": 3,
   "metadata": {},
   "outputs": [
    {
     "data": {
      "text/html": [
       "<div>\n",
       "<style scoped>\n",
       "    .dataframe tbody tr th:only-of-type {\n",
       "        vertical-align: middle;\n",
       "    }\n",
       "\n",
       "    .dataframe tbody tr th {\n",
       "        vertical-align: top;\n",
       "    }\n",
       "\n",
       "    .dataframe thead th {\n",
       "        text-align: right;\n",
       "    }\n",
       "</style>\n",
       "<table border=\"1\" class=\"dataframe\">\n",
       "  <thead>\n",
       "    <tr style=\"text-align: right;\">\n",
       "      <th></th>\n",
       "      <th>INPUT:text</th>\n",
       "      <th>OUTPUT:result</th>\n",
       "      <th>CONFIDENCE:result</th>\n",
       "    </tr>\n",
       "  </thead>\n",
       "  <tbody>\n",
       "    <tr>\n",
       "      <th>0</th>\n",
       "      <td>Бедный Ниссон, его бесконечных детей то похища...</td>\n",
       "      <td>yes</td>\n",
       "      <td>0.9526</td>\n",
       "    </tr>\n",
       "    <tr>\n",
       "      <th>1</th>\n",
       "      <td>Все кто лишился девстенности после 14 - омежки...</td>\n",
       "      <td>yes</td>\n",
       "      <td>0.9972</td>\n",
       "    </tr>\n",
       "    <tr>\n",
       "      <th>2</th>\n",
       "      <td>Не знаю сам почему её туда отправили. Не торга...</td>\n",
       "      <td>no</td>\n",
       "      <td>0.9783</td>\n",
       "    </tr>\n",
       "    <tr>\n",
       "      <th>3</th>\n",
       "      <td>&gt; Проституция легальнаНелегальное предпринимат...</td>\n",
       "      <td>yes</td>\n",
       "      <td>0.9986</td>\n",
       "    </tr>\n",
       "    <tr>\n",
       "      <th>4</th>\n",
       "      <td>Я бы повстречался с порноактрисой, только я не...</td>\n",
       "      <td>yes</td>\n",
       "      <td>0.9998</td>\n",
       "    </tr>\n",
       "  </tbody>\n",
       "</table>\n",
       "</div>"
      ],
      "text/plain": [
       "                                          INPUT:text OUTPUT:result  \\\n",
       "0  Бедный Ниссон, его бесконечных детей то похища...           yes   \n",
       "1  Все кто лишился девстенности после 14 - омежки...           yes   \n",
       "2  Не знаю сам почему её туда отправили. Не торга...            no   \n",
       "3  > Проституция легальнаНелегальное предпринимат...           yes   \n",
       "4  Я бы повстречался с порноактрисой, только я не...           yes   \n",
       "\n",
       "   CONFIDENCE:result  \n",
       "0             0.9526  \n",
       "1             0.9972  \n",
       "2             0.9783  \n",
       "3             0.9986  \n",
       "4             0.9998  "
      ]
     },
     "execution_count": 3,
     "metadata": {},
     "output_type": "execute_result"
    }
   ],
   "source": [
    "df_new_filtered.head()"
   ]
  },
  {
   "cell_type": "code",
   "execution_count": 4,
   "metadata": {},
   "outputs": [],
   "source": [
    "df_new_filtered.drop_duplicates(subset=['INPUT:text'],inplace = True)"
   ]
  },
  {
   "cell_type": "code",
   "execution_count": 5,
   "metadata": {},
   "outputs": [],
   "source": [
    "df_published = pd.read_csv(\"../appropriateness/Appropriateness.csv\")"
   ]
  },
  {
   "cell_type": "code",
   "execution_count": 6,
   "metadata": {},
   "outputs": [
    {
     "data": {
      "text/plain": [
       "124597"
      ]
     },
     "execution_count": 6,
     "metadata": {},
     "output_type": "execute_result"
    }
   ],
   "source": [
    "non_processed_texts_new_filtered = set([txt for txt in df_new_filtered['INPUT:text'].tolist()])\n",
    "len(non_processed_texts_new_filtered)"
   ]
  },
  {
   "cell_type": "code",
   "execution_count": 7,
   "metadata": {},
   "outputs": [],
   "source": [
    "df_published.drop_duplicates(subset=['text'],inplace = True)"
   ]
  },
  {
   "cell_type": "code",
   "execution_count": 8,
   "metadata": {},
   "outputs": [
    {
     "data": {
      "text/html": [
       "<div>\n",
       "<style scoped>\n",
       "    .dataframe tbody tr th:only-of-type {\n",
       "        vertical-align: middle;\n",
       "    }\n",
       "\n",
       "    .dataframe tbody tr th {\n",
       "        vertical-align: top;\n",
       "    }\n",
       "\n",
       "    .dataframe thead th {\n",
       "        text-align: right;\n",
       "    }\n",
       "</style>\n",
       "<table border=\"1\" class=\"dataframe\">\n",
       "  <thead>\n",
       "    <tr style=\"text-align: right;\">\n",
       "      <th></th>\n",
       "      <th>text</th>\n",
       "      <th>inappropriate</th>\n",
       "      <th>offline_crime</th>\n",
       "      <th>online_crime</th>\n",
       "      <th>drugs</th>\n",
       "      <th>gambling</th>\n",
       "      <th>pornography</th>\n",
       "      <th>prostitution</th>\n",
       "      <th>slavery</th>\n",
       "      <th>suicide</th>\n",
       "      <th>...</th>\n",
       "      <th>body_shaming</th>\n",
       "      <th>health_shaming</th>\n",
       "      <th>politics</th>\n",
       "      <th>racism</th>\n",
       "      <th>religion</th>\n",
       "      <th>sexual_minorities</th>\n",
       "      <th>sexism</th>\n",
       "      <th>social_injustice</th>\n",
       "      <th>human_labeled</th>\n",
       "      <th>toxic_auto</th>\n",
       "    </tr>\n",
       "  </thead>\n",
       "  <tbody>\n",
       "    <tr>\n",
       "      <th>0</th>\n",
       "      <td>Начальники ДК и нынешнего места работы?</td>\n",
       "      <td>0.0</td>\n",
       "      <td>0.0</td>\n",
       "      <td>0.0</td>\n",
       "      <td>0.0</td>\n",
       "      <td>0.0</td>\n",
       "      <td>0.0</td>\n",
       "      <td>0.0</td>\n",
       "      <td>0.0</td>\n",
       "      <td>0.0</td>\n",
       "      <td>...</td>\n",
       "      <td>0.0</td>\n",
       "      <td>0.0</td>\n",
       "      <td>0.0</td>\n",
       "      <td>0.0</td>\n",
       "      <td>0.0</td>\n",
       "      <td>0.0</td>\n",
       "      <td>0.0</td>\n",
       "      <td>1.0</td>\n",
       "      <td>0</td>\n",
       "      <td>0.09</td>\n",
       "    </tr>\n",
       "    <tr>\n",
       "      <th>1</th>\n",
       "      <td>Читаю. Драки, грабежи, ДТП. Изредка убийства, ...</td>\n",
       "      <td>1.0</td>\n",
       "      <td>1.0</td>\n",
       "      <td>0.0</td>\n",
       "      <td>0.0</td>\n",
       "      <td>0.0</td>\n",
       "      <td>0.0</td>\n",
       "      <td>0.0</td>\n",
       "      <td>0.0</td>\n",
       "      <td>0.0</td>\n",
       "      <td>...</td>\n",
       "      <td>0.0</td>\n",
       "      <td>0.0</td>\n",
       "      <td>0.0</td>\n",
       "      <td>0.0</td>\n",
       "      <td>0.0</td>\n",
       "      <td>0.0</td>\n",
       "      <td>0.0</td>\n",
       "      <td>0.0</td>\n",
       "      <td>0</td>\n",
       "      <td>0.18</td>\n",
       "    </tr>\n",
       "    <tr>\n",
       "      <th>2</th>\n",
       "      <td>Допустимо, если информация не нарушает правил ...</td>\n",
       "      <td>0.0</td>\n",
       "      <td>0.0</td>\n",
       "      <td>1.0</td>\n",
       "      <td>0.0</td>\n",
       "      <td>0.0</td>\n",
       "      <td>0.0</td>\n",
       "      <td>0.0</td>\n",
       "      <td>0.0</td>\n",
       "      <td>0.0</td>\n",
       "      <td>...</td>\n",
       "      <td>0.0</td>\n",
       "      <td>0.0</td>\n",
       "      <td>0.0</td>\n",
       "      <td>0.0</td>\n",
       "      <td>0.0</td>\n",
       "      <td>0.0</td>\n",
       "      <td>0.0</td>\n",
       "      <td>0.0</td>\n",
       "      <td>0</td>\n",
       "      <td>0.02</td>\n",
       "    </tr>\n",
       "    <tr>\n",
       "      <th>3</th>\n",
       "      <td>В больницу при приеме на работу тоже мед комис...</td>\n",
       "      <td>0.0</td>\n",
       "      <td>0.0</td>\n",
       "      <td>0.0</td>\n",
       "      <td>0.0</td>\n",
       "      <td>0.0</td>\n",
       "      <td>0.0</td>\n",
       "      <td>0.0</td>\n",
       "      <td>0.0</td>\n",
       "      <td>0.0</td>\n",
       "      <td>...</td>\n",
       "      <td>0.0</td>\n",
       "      <td>1.0</td>\n",
       "      <td>0.0</td>\n",
       "      <td>0.0</td>\n",
       "      <td>0.0</td>\n",
       "      <td>0.0</td>\n",
       "      <td>0.0</td>\n",
       "      <td>0.0</td>\n",
       "      <td>0</td>\n",
       "      <td>0.00</td>\n",
       "    </tr>\n",
       "    <tr>\n",
       "      <th>4</th>\n",
       "      <td>а зачем ты на проураинские митинги выходил? во...</td>\n",
       "      <td>1.0</td>\n",
       "      <td>0.0</td>\n",
       "      <td>0.0</td>\n",
       "      <td>0.0</td>\n",
       "      <td>0.0</td>\n",
       "      <td>0.0</td>\n",
       "      <td>0.0</td>\n",
       "      <td>0.0</td>\n",
       "      <td>0.0</td>\n",
       "      <td>...</td>\n",
       "      <td>0.0</td>\n",
       "      <td>0.0</td>\n",
       "      <td>0.0</td>\n",
       "      <td>1.0</td>\n",
       "      <td>0.0</td>\n",
       "      <td>0.0</td>\n",
       "      <td>0.0</td>\n",
       "      <td>0.0</td>\n",
       "      <td>0</td>\n",
       "      <td>0.40</td>\n",
       "    </tr>\n",
       "  </tbody>\n",
       "</table>\n",
       "<p>5 rows × 22 columns</p>\n",
       "</div>"
      ],
      "text/plain": [
       "                                                text  inappropriate  \\\n",
       "0            Начальники ДК и нынешнего места работы?            0.0   \n",
       "1  Читаю. Драки, грабежи, ДТП. Изредка убийства, ...            1.0   \n",
       "2  Допустимо, если информация не нарушает правил ...            0.0   \n",
       "3  В больницу при приеме на работу тоже мед комис...            0.0   \n",
       "4  а зачем ты на проураинские митинги выходил? во...            1.0   \n",
       "\n",
       "   offline_crime  online_crime  drugs  gambling  pornography  prostitution  \\\n",
       "0            0.0           0.0    0.0       0.0          0.0           0.0   \n",
       "1            1.0           0.0    0.0       0.0          0.0           0.0   \n",
       "2            0.0           1.0    0.0       0.0          0.0           0.0   \n",
       "3            0.0           0.0    0.0       0.0          0.0           0.0   \n",
       "4            0.0           0.0    0.0       0.0          0.0           0.0   \n",
       "\n",
       "   slavery  suicide  ...  body_shaming  health_shaming  politics  racism  \\\n",
       "0      0.0      0.0  ...           0.0             0.0       0.0     0.0   \n",
       "1      0.0      0.0  ...           0.0             0.0       0.0     0.0   \n",
       "2      0.0      0.0  ...           0.0             0.0       0.0     0.0   \n",
       "3      0.0      0.0  ...           0.0             1.0       0.0     0.0   \n",
       "4      0.0      0.0  ...           0.0             0.0       0.0     1.0   \n",
       "\n",
       "   religion  sexual_minorities  sexism  social_injustice  human_labeled  \\\n",
       "0       0.0                0.0     0.0               1.0              0   \n",
       "1       0.0                0.0     0.0               0.0              0   \n",
       "2       0.0                0.0     0.0               0.0              0   \n",
       "3       0.0                0.0     0.0               0.0              0   \n",
       "4       0.0                0.0     0.0               0.0              0   \n",
       "\n",
       "   toxic_auto  \n",
       "0        0.09  \n",
       "1        0.18  \n",
       "2        0.02  \n",
       "3        0.00  \n",
       "4        0.40  \n",
       "\n",
       "[5 rows x 22 columns]"
      ]
     },
     "execution_count": 8,
     "metadata": {},
     "output_type": "execute_result"
    }
   ],
   "source": [
    "df_published.head()"
   ]
  },
  {
   "cell_type": "code",
   "execution_count": 9,
   "metadata": {},
   "outputs": [
    {
     "data": {
      "text/plain": [
       "163312"
      ]
     },
     "execution_count": 9,
     "metadata": {},
     "output_type": "execute_result"
    }
   ],
   "source": [
    "processed_texts_vers2 = set([txt for txt in df_published['text'].tolist()])\n",
    "len(processed_texts_vers2)"
   ]
  },
  {
   "cell_type": "code",
   "execution_count": 10,
   "metadata": {
    "scrolled": true
   },
   "outputs": [
    {
     "data": {
      "text/plain": [
       "16503"
      ]
     },
     "execution_count": 10,
     "metadata": {},
     "output_type": "execute_result"
    }
   ],
   "source": [
    "len(non_processed_texts_new_filtered - processed_texts_vers2)"
   ]
  },
  {
   "cell_type": "code",
   "execution_count": 11,
   "metadata": {},
   "outputs": [],
   "source": [
    "import re\n",
    "def get_len(text):\n",
    "    if len(text.split()) > 5 and len (text)< 250:\n",
    "        return True\n",
    "    return None\n",
    "def is_mostly_russian(text):\n",
    "    text = str(text)\n",
    "    russian_letters_count = len(re.findall(\"[а-яА-Я]\",text))\n",
    "    eng_letters_count = len(re.findall(\"[a-zA-Z]\",text))\n",
    "    if russian_letters_count > eng_letters_count:\n",
    "        return True\n",
    "    return None\n",
    "def depersonalize(text):\n",
    "    text = str(text)\n",
    "    url_regex = r\"(?i)\\b((?:https?://|www\\d{0,3}[.]|[a-z0-9.\\-]+[.][a-z]{2,4}/)(?:[^\\s()<>]+|\\(([^\\s()<>]+|(\\([^\\s()<>]+\\)))*\\))+(?:\\(([^\\s()<>]+|(\\([^\\s()<>]+\\)))*\\)|[^\\s`!()\\[\\]{};:'\\\".,<>?«»“”‘’]))\"\n",
    "    text= re.sub(url_regex, \"url\", text)\n",
    "    text = re.sub(\"id[\\d]*\",'',text)\n",
    "    text = re.sub(\"> ?\",'',text)\n",
    "    text = re.sub(\"@[\\w]*\",'',text)\n",
    "#     text = re.sub(\"\\+[\\d]*\", \"\", text)\n",
    "    text = re.sub(\"[\\d]+\", \"NUMBER\", text)\n",
    "    text = re.sub(\">>\", \"\", text)\n",
    "#     text = re.sub(\"[\\d]{3,100}\", \"\", text)\n",
    "    text = re.sub(\"[\\t|\\n|\\r]\", \"\", text)\n",
    "#     text = re.sub(\"[(OP)|url|nickname|phone_number]\", \"\", text)\n",
    "    return text"
   ]
  },
  {
   "cell_type": "code",
   "execution_count": 12,
   "metadata": {},
   "outputs": [],
   "source": [
    "processed_texts_new_filtered = set([depersonalize(txt) for txt in non_processed_texts_new_filtered])"
   ]
  },
  {
   "cell_type": "code",
   "execution_count": 13,
   "metadata": {},
   "outputs": [
    {
     "data": {
      "text/plain": [
       "{1}"
      ]
     },
     "execution_count": 13,
     "metadata": {},
     "output_type": "execute_result"
    }
   ],
   "source": [
    "a = set([1,2,3])\n",
    "b = set([2,3,4,5,])\n",
    "a - b"
   ]
  },
  {
   "cell_type": "code",
   "execution_count": 14,
   "metadata": {},
   "outputs": [
    {
     "data": {
      "text/plain": [
       "5638"
      ]
     },
     "execution_count": 14,
     "metadata": {},
     "output_type": "execute_result"
    }
   ],
   "source": [
    "len(processed_texts_new_filtered - processed_texts_vers2)"
   ]
  },
  {
   "cell_type": "code",
   "execution_count": 15,
   "metadata": {},
   "outputs": [],
   "source": [
    "df_new_filtered['text'] = df_new_filtered['INPUT:text'].apply(depersonalize)"
   ]
  },
  {
   "cell_type": "code",
   "execution_count": 16,
   "metadata": {},
   "outputs": [],
   "source": [
    "df_new_filtered['direct_map'] = df_new_filtered['text'].isin(processed_texts_vers2)"
   ]
  },
  {
   "cell_type": "code",
   "execution_count": 17,
   "metadata": {},
   "outputs": [
    {
     "data": {
      "text/plain": [
       "Counter({True: 118959, False: 5638})"
      ]
     },
     "execution_count": 17,
     "metadata": {},
     "output_type": "execute_result"
    }
   ],
   "source": [
    "Counter(df_new_filtered['direct_map'])"
   ]
  },
  {
   "cell_type": "markdown",
   "metadata": {},
   "source": [
    "# Там где не нашлись данные"
   ]
  },
  {
   "cell_type": "code",
   "execution_count": null,
   "metadata": {},
   "outputs": [],
   "source": [
    "df_new_filtered_NO_direct_data = df_new_filtered[df_new_filtered['direct_map'] == False]"
   ]
  },
  {
   "cell_type": "code",
   "execution_count": null,
   "metadata": {},
   "outputs": [],
   "source": [
    "# df_new_filtered_NO_direct_data.to_csv(\"no_direct_data.csv\",index = None)\n",
    "df_new_filtered_NO_direct_data.to_csv(\"no_direct_data_09.csv\",index = None)"
   ]
  },
  {
   "cell_type": "code",
   "execution_count": null,
   "metadata": {},
   "outputs": [],
   "source": [
    "# !pip install transformers"
   ]
  },
  {
   "cell_type": "code",
   "execution_count": 18,
   "metadata": {},
   "outputs": [],
   "source": [
    "df_new_filtered_NO_direct_data = pd.read_csv(\"no_direct_data_autolabeled_09.csv\")"
   ]
  },
  {
   "cell_type": "code",
   "execution_count": 19,
   "metadata": {},
   "outputs": [
    {
     "data": {
      "text/html": [
       "<div>\n",
       "<style scoped>\n",
       "    .dataframe tbody tr th:only-of-type {\n",
       "        vertical-align: middle;\n",
       "    }\n",
       "\n",
       "    .dataframe tbody tr th {\n",
       "        vertical-align: top;\n",
       "    }\n",
       "\n",
       "    .dataframe thead th {\n",
       "        text-align: right;\n",
       "    }\n",
       "</style>\n",
       "<table border=\"1\" class=\"dataframe\">\n",
       "  <thead>\n",
       "    <tr style=\"text-align: right;\">\n",
       "      <th></th>\n",
       "      <th>INPUT:text</th>\n",
       "      <th>OUTPUT:result</th>\n",
       "      <th>CONFIDENCE:result</th>\n",
       "      <th>text</th>\n",
       "      <th>direct_map</th>\n",
       "      <th>onerow_multi</th>\n",
       "    </tr>\n",
       "  </thead>\n",
       "  <tbody>\n",
       "    <tr>\n",
       "      <th>0</th>\n",
       "      <td>Возьми лучше вместо плодовитых ещё декадентов,...</td>\n",
       "      <td>yes</td>\n",
       "      <td>0.9982</td>\n",
       "      <td>Возьми лучше вместо плодовитых ещё декадентов,...</td>\n",
       "      <td>False</td>\n",
       "      <td>slavery</td>\n",
       "    </tr>\n",
       "    <tr>\n",
       "      <th>1</th>\n",
       "      <td>Никогда не брал ее в руки.</td>\n",
       "      <td>no</td>\n",
       "      <td>0.9999</td>\n",
       "      <td>Никогда не брал ее в руки.</td>\n",
       "      <td>False</td>\n",
       "      <td>none</td>\n",
       "    </tr>\n",
       "    <tr>\n",
       "      <th>2</th>\n",
       "      <td>Только для таких дегенератов, как ты, которые ...</td>\n",
       "      <td>yes</td>\n",
       "      <td>0.9998</td>\n",
       "      <td>Только для таких дегенератов, как ты, которые ...</td>\n",
       "      <td>False</td>\n",
       "      <td>social_injustice</td>\n",
       "    </tr>\n",
       "    <tr>\n",
       "      <th>3</th>\n",
       "      <td>ладнокогда тебе в очко засунут шампанское, ста...</td>\n",
       "      <td>yes</td>\n",
       "      <td>0.9995</td>\n",
       "      <td>ладнокогда тебе в очко засунут шампанское, ста...</td>\n",
       "      <td>False</td>\n",
       "      <td>pornography</td>\n",
       "    </tr>\n",
       "    <tr>\n",
       "      <th>4</th>\n",
       "      <td>Хотя много кто и росияней самоубился бы чтобы ...</td>\n",
       "      <td>yes</td>\n",
       "      <td>0.9974</td>\n",
       "      <td>Хотя много кто и росияней самоубился бы чтобы ...</td>\n",
       "      <td>False</td>\n",
       "      <td>sexism</td>\n",
       "    </tr>\n",
       "  </tbody>\n",
       "</table>\n",
       "</div>"
      ],
      "text/plain": [
       "                                          INPUT:text OUTPUT:result  \\\n",
       "0  Возьми лучше вместо плодовитых ещё декадентов,...           yes   \n",
       "1                         Никогда не брал ее в руки.            no   \n",
       "2  Только для таких дегенератов, как ты, которые ...           yes   \n",
       "3  ладнокогда тебе в очко засунут шампанское, ста...           yes   \n",
       "4  Хотя много кто и росияней самоубился бы чтобы ...           yes   \n",
       "\n",
       "   CONFIDENCE:result                                               text  \\\n",
       "0             0.9982  Возьми лучше вместо плодовитых ещё декадентов,...   \n",
       "1             0.9999                         Никогда не брал ее в руки.   \n",
       "2             0.9998  Только для таких дегенератов, как ты, которые ...   \n",
       "3             0.9995  ладнокогда тебе в очко засунут шампанское, ста...   \n",
       "4             0.9974  Хотя много кто и росияней самоубился бы чтобы ...   \n",
       "\n",
       "   direct_map      onerow_multi  \n",
       "0       False           slavery  \n",
       "1       False              none  \n",
       "2       False  social_injustice  \n",
       "3       False       pornography  \n",
       "4       False            sexism  "
      ]
     },
     "execution_count": 19,
     "metadata": {},
     "output_type": "execute_result"
    }
   ],
   "source": [
    "df_new_filtered_NO_direct_data.head()"
   ]
  },
  {
   "cell_type": "code",
   "execution_count": null,
   "metadata": {},
   "outputs": [],
   "source": [
    "# set(df_new_filtered_NO_direct_data['onerow_multi'])"
   ]
  },
  {
   "cell_type": "code",
   "execution_count": 20,
   "metadata": {},
   "outputs": [],
   "source": [
    "topics = ['offline_crime', 'online_crime', 'drugs', 'gambling', 'pornography',\n",
    "       'prostitution', 'slavery', 'suicide', 'terrorism', 'weapons',\n",
    "       'body_shaming', 'health_shaming', 'politics', 'racism', 'religion',\n",
    "       'sexual_minorities', 'sexism', 'social_injustice']"
   ]
  },
  {
   "cell_type": "code",
   "execution_count": 21,
   "metadata": {},
   "outputs": [],
   "source": [
    "data_append = []\n",
    "for  _,el in df_new_filtered_NO_direct_data.iterrows():\n",
    "    current_topic_list = [0]*len(topics)\n",
    "    current_topic_list.extend([0,0])\n",
    "    current_elemen_topics = el['onerow_multi'].split(',')\n",
    "    for t in current_elemen_topics:\n",
    "        if t == 'none': continue\n",
    "        current_topic_list[topics.index(t)] = 1\n",
    "    data_append.append(current_topic_list)"
   ]
  },
  {
   "cell_type": "code",
   "execution_count": 22,
   "metadata": {},
   "outputs": [
    {
     "data": {
      "text/plain": [
       "[[0, 0, 0, 0, 0, 0, 1, 0, 0, 0, 0, 0, 0, 0, 0, 0, 0, 0, 0, 0],\n",
       " [0, 0, 0, 0, 0, 0, 0, 0, 0, 0, 0, 0, 0, 0, 0, 0, 0, 0, 0, 0]]"
      ]
     },
     "execution_count": 22,
     "metadata": {},
     "output_type": "execute_result"
    }
   ],
   "source": [
    "data_append[:2]"
   ]
  },
  {
   "cell_type": "code",
   "execution_count": 23,
   "metadata": {},
   "outputs": [],
   "source": [
    "df_append = pd.DataFrame(data = data_append, columns = topics + ['human_labeled', 'toxic_auto'])"
   ]
  },
  {
   "cell_type": "code",
   "execution_count": 24,
   "metadata": {},
   "outputs": [
    {
     "data": {
      "text/html": [
       "<div>\n",
       "<style scoped>\n",
       "    .dataframe tbody tr th:only-of-type {\n",
       "        vertical-align: middle;\n",
       "    }\n",
       "\n",
       "    .dataframe tbody tr th {\n",
       "        vertical-align: top;\n",
       "    }\n",
       "\n",
       "    .dataframe thead th {\n",
       "        text-align: right;\n",
       "    }\n",
       "</style>\n",
       "<table border=\"1\" class=\"dataframe\">\n",
       "  <thead>\n",
       "    <tr style=\"text-align: right;\">\n",
       "      <th></th>\n",
       "      <th>offline_crime</th>\n",
       "      <th>online_crime</th>\n",
       "      <th>drugs</th>\n",
       "      <th>gambling</th>\n",
       "      <th>pornography</th>\n",
       "      <th>prostitution</th>\n",
       "      <th>slavery</th>\n",
       "      <th>suicide</th>\n",
       "      <th>terrorism</th>\n",
       "      <th>weapons</th>\n",
       "      <th>body_shaming</th>\n",
       "      <th>health_shaming</th>\n",
       "      <th>politics</th>\n",
       "      <th>racism</th>\n",
       "      <th>religion</th>\n",
       "      <th>sexual_minorities</th>\n",
       "      <th>sexism</th>\n",
       "      <th>social_injustice</th>\n",
       "      <th>human_labeled</th>\n",
       "      <th>toxic_auto</th>\n",
       "    </tr>\n",
       "  </thead>\n",
       "  <tbody>\n",
       "    <tr>\n",
       "      <th>0</th>\n",
       "      <td>0</td>\n",
       "      <td>0</td>\n",
       "      <td>0</td>\n",
       "      <td>0</td>\n",
       "      <td>0</td>\n",
       "      <td>0</td>\n",
       "      <td>1</td>\n",
       "      <td>0</td>\n",
       "      <td>0</td>\n",
       "      <td>0</td>\n",
       "      <td>0</td>\n",
       "      <td>0</td>\n",
       "      <td>0</td>\n",
       "      <td>0</td>\n",
       "      <td>0</td>\n",
       "      <td>0</td>\n",
       "      <td>0</td>\n",
       "      <td>0</td>\n",
       "      <td>0</td>\n",
       "      <td>0</td>\n",
       "    </tr>\n",
       "    <tr>\n",
       "      <th>1</th>\n",
       "      <td>0</td>\n",
       "      <td>0</td>\n",
       "      <td>0</td>\n",
       "      <td>0</td>\n",
       "      <td>0</td>\n",
       "      <td>0</td>\n",
       "      <td>0</td>\n",
       "      <td>0</td>\n",
       "      <td>0</td>\n",
       "      <td>0</td>\n",
       "      <td>0</td>\n",
       "      <td>0</td>\n",
       "      <td>0</td>\n",
       "      <td>0</td>\n",
       "      <td>0</td>\n",
       "      <td>0</td>\n",
       "      <td>0</td>\n",
       "      <td>0</td>\n",
       "      <td>0</td>\n",
       "      <td>0</td>\n",
       "    </tr>\n",
       "    <tr>\n",
       "      <th>2</th>\n",
       "      <td>0</td>\n",
       "      <td>0</td>\n",
       "      <td>0</td>\n",
       "      <td>0</td>\n",
       "      <td>0</td>\n",
       "      <td>0</td>\n",
       "      <td>0</td>\n",
       "      <td>0</td>\n",
       "      <td>0</td>\n",
       "      <td>0</td>\n",
       "      <td>0</td>\n",
       "      <td>0</td>\n",
       "      <td>0</td>\n",
       "      <td>0</td>\n",
       "      <td>0</td>\n",
       "      <td>0</td>\n",
       "      <td>0</td>\n",
       "      <td>1</td>\n",
       "      <td>0</td>\n",
       "      <td>0</td>\n",
       "    </tr>\n",
       "    <tr>\n",
       "      <th>3</th>\n",
       "      <td>0</td>\n",
       "      <td>0</td>\n",
       "      <td>0</td>\n",
       "      <td>0</td>\n",
       "      <td>1</td>\n",
       "      <td>0</td>\n",
       "      <td>0</td>\n",
       "      <td>0</td>\n",
       "      <td>0</td>\n",
       "      <td>0</td>\n",
       "      <td>0</td>\n",
       "      <td>0</td>\n",
       "      <td>0</td>\n",
       "      <td>0</td>\n",
       "      <td>0</td>\n",
       "      <td>0</td>\n",
       "      <td>0</td>\n",
       "      <td>0</td>\n",
       "      <td>0</td>\n",
       "      <td>0</td>\n",
       "    </tr>\n",
       "    <tr>\n",
       "      <th>4</th>\n",
       "      <td>0</td>\n",
       "      <td>0</td>\n",
       "      <td>0</td>\n",
       "      <td>0</td>\n",
       "      <td>0</td>\n",
       "      <td>0</td>\n",
       "      <td>0</td>\n",
       "      <td>0</td>\n",
       "      <td>0</td>\n",
       "      <td>0</td>\n",
       "      <td>0</td>\n",
       "      <td>0</td>\n",
       "      <td>0</td>\n",
       "      <td>0</td>\n",
       "      <td>0</td>\n",
       "      <td>0</td>\n",
       "      <td>1</td>\n",
       "      <td>0</td>\n",
       "      <td>0</td>\n",
       "      <td>0</td>\n",
       "    </tr>\n",
       "  </tbody>\n",
       "</table>\n",
       "</div>"
      ],
      "text/plain": [
       "   offline_crime  online_crime  drugs  gambling  pornography  prostitution  \\\n",
       "0              0             0      0         0            0             0   \n",
       "1              0             0      0         0            0             0   \n",
       "2              0             0      0         0            0             0   \n",
       "3              0             0      0         0            1             0   \n",
       "4              0             0      0         0            0             0   \n",
       "\n",
       "   slavery  suicide  terrorism  weapons  body_shaming  health_shaming  \\\n",
       "0        1        0          0        0             0               0   \n",
       "1        0        0          0        0             0               0   \n",
       "2        0        0          0        0             0               0   \n",
       "3        0        0          0        0             0               0   \n",
       "4        0        0          0        0             0               0   \n",
       "\n",
       "   politics  racism  religion  sexual_minorities  sexism  social_injustice  \\\n",
       "0         0       0         0                  0       0                 0   \n",
       "1         0       0         0                  0       0                 0   \n",
       "2         0       0         0                  0       0                 1   \n",
       "3         0       0         0                  0       0                 0   \n",
       "4         0       0         0                  0       1                 0   \n",
       "\n",
       "   human_labeled  toxic_auto  \n",
       "0              0           0  \n",
       "1              0           0  \n",
       "2              0           0  \n",
       "3              0           0  \n",
       "4              0           0  "
      ]
     },
     "execution_count": 24,
     "metadata": {},
     "output_type": "execute_result"
    }
   ],
   "source": [
    "df_append.head()"
   ]
  },
  {
   "cell_type": "code",
   "execution_count": 25,
   "metadata": {},
   "outputs": [],
   "source": [
    "df_new_filtered_NO_direct_data = pd.concat([df_new_filtered_NO_direct_data,df_append], axis = 1)"
   ]
  },
  {
   "cell_type": "code",
   "execution_count": 26,
   "metadata": {},
   "outputs": [
    {
     "data": {
      "text/html": [
       "<div>\n",
       "<style scoped>\n",
       "    .dataframe tbody tr th:only-of-type {\n",
       "        vertical-align: middle;\n",
       "    }\n",
       "\n",
       "    .dataframe tbody tr th {\n",
       "        vertical-align: top;\n",
       "    }\n",
       "\n",
       "    .dataframe thead th {\n",
       "        text-align: right;\n",
       "    }\n",
       "</style>\n",
       "<table border=\"1\" class=\"dataframe\">\n",
       "  <thead>\n",
       "    <tr style=\"text-align: right;\">\n",
       "      <th></th>\n",
       "      <th>INPUT:text</th>\n",
       "      <th>OUTPUT:result</th>\n",
       "      <th>CONFIDENCE:result</th>\n",
       "      <th>text</th>\n",
       "      <th>direct_map</th>\n",
       "      <th>onerow_multi</th>\n",
       "      <th>offline_crime</th>\n",
       "      <th>online_crime</th>\n",
       "      <th>drugs</th>\n",
       "      <th>gambling</th>\n",
       "      <th>...</th>\n",
       "      <th>body_shaming</th>\n",
       "      <th>health_shaming</th>\n",
       "      <th>politics</th>\n",
       "      <th>racism</th>\n",
       "      <th>religion</th>\n",
       "      <th>sexual_minorities</th>\n",
       "      <th>sexism</th>\n",
       "      <th>social_injustice</th>\n",
       "      <th>human_labeled</th>\n",
       "      <th>toxic_auto</th>\n",
       "    </tr>\n",
       "  </thead>\n",
       "  <tbody>\n",
       "    <tr>\n",
       "      <th>0</th>\n",
       "      <td>Возьми лучше вместо плодовитых ещё декадентов,...</td>\n",
       "      <td>yes</td>\n",
       "      <td>0.9982</td>\n",
       "      <td>Возьми лучше вместо плодовитых ещё декадентов,...</td>\n",
       "      <td>False</td>\n",
       "      <td>slavery</td>\n",
       "      <td>0</td>\n",
       "      <td>0</td>\n",
       "      <td>0</td>\n",
       "      <td>0</td>\n",
       "      <td>...</td>\n",
       "      <td>0</td>\n",
       "      <td>0</td>\n",
       "      <td>0</td>\n",
       "      <td>0</td>\n",
       "      <td>0</td>\n",
       "      <td>0</td>\n",
       "      <td>0</td>\n",
       "      <td>0</td>\n",
       "      <td>0</td>\n",
       "      <td>0</td>\n",
       "    </tr>\n",
       "    <tr>\n",
       "      <th>1</th>\n",
       "      <td>Никогда не брал ее в руки.</td>\n",
       "      <td>no</td>\n",
       "      <td>0.9999</td>\n",
       "      <td>Никогда не брал ее в руки.</td>\n",
       "      <td>False</td>\n",
       "      <td>none</td>\n",
       "      <td>0</td>\n",
       "      <td>0</td>\n",
       "      <td>0</td>\n",
       "      <td>0</td>\n",
       "      <td>...</td>\n",
       "      <td>0</td>\n",
       "      <td>0</td>\n",
       "      <td>0</td>\n",
       "      <td>0</td>\n",
       "      <td>0</td>\n",
       "      <td>0</td>\n",
       "      <td>0</td>\n",
       "      <td>0</td>\n",
       "      <td>0</td>\n",
       "      <td>0</td>\n",
       "    </tr>\n",
       "    <tr>\n",
       "      <th>2</th>\n",
       "      <td>Только для таких дегенератов, как ты, которые ...</td>\n",
       "      <td>yes</td>\n",
       "      <td>0.9998</td>\n",
       "      <td>Только для таких дегенератов, как ты, которые ...</td>\n",
       "      <td>False</td>\n",
       "      <td>social_injustice</td>\n",
       "      <td>0</td>\n",
       "      <td>0</td>\n",
       "      <td>0</td>\n",
       "      <td>0</td>\n",
       "      <td>...</td>\n",
       "      <td>0</td>\n",
       "      <td>0</td>\n",
       "      <td>0</td>\n",
       "      <td>0</td>\n",
       "      <td>0</td>\n",
       "      <td>0</td>\n",
       "      <td>0</td>\n",
       "      <td>1</td>\n",
       "      <td>0</td>\n",
       "      <td>0</td>\n",
       "    </tr>\n",
       "    <tr>\n",
       "      <th>3</th>\n",
       "      <td>ладнокогда тебе в очко засунут шампанское, ста...</td>\n",
       "      <td>yes</td>\n",
       "      <td>0.9995</td>\n",
       "      <td>ладнокогда тебе в очко засунут шампанское, ста...</td>\n",
       "      <td>False</td>\n",
       "      <td>pornography</td>\n",
       "      <td>0</td>\n",
       "      <td>0</td>\n",
       "      <td>0</td>\n",
       "      <td>0</td>\n",
       "      <td>...</td>\n",
       "      <td>0</td>\n",
       "      <td>0</td>\n",
       "      <td>0</td>\n",
       "      <td>0</td>\n",
       "      <td>0</td>\n",
       "      <td>0</td>\n",
       "      <td>0</td>\n",
       "      <td>0</td>\n",
       "      <td>0</td>\n",
       "      <td>0</td>\n",
       "    </tr>\n",
       "    <tr>\n",
       "      <th>4</th>\n",
       "      <td>Хотя много кто и росияней самоубился бы чтобы ...</td>\n",
       "      <td>yes</td>\n",
       "      <td>0.9974</td>\n",
       "      <td>Хотя много кто и росияней самоубился бы чтобы ...</td>\n",
       "      <td>False</td>\n",
       "      <td>sexism</td>\n",
       "      <td>0</td>\n",
       "      <td>0</td>\n",
       "      <td>0</td>\n",
       "      <td>0</td>\n",
       "      <td>...</td>\n",
       "      <td>0</td>\n",
       "      <td>0</td>\n",
       "      <td>0</td>\n",
       "      <td>0</td>\n",
       "      <td>0</td>\n",
       "      <td>0</td>\n",
       "      <td>1</td>\n",
       "      <td>0</td>\n",
       "      <td>0</td>\n",
       "      <td>0</td>\n",
       "    </tr>\n",
       "  </tbody>\n",
       "</table>\n",
       "<p>5 rows × 26 columns</p>\n",
       "</div>"
      ],
      "text/plain": [
       "                                          INPUT:text OUTPUT:result  \\\n",
       "0  Возьми лучше вместо плодовитых ещё декадентов,...           yes   \n",
       "1                         Никогда не брал ее в руки.            no   \n",
       "2  Только для таких дегенератов, как ты, которые ...           yes   \n",
       "3  ладнокогда тебе в очко засунут шампанское, ста...           yes   \n",
       "4  Хотя много кто и росияней самоубился бы чтобы ...           yes   \n",
       "\n",
       "   CONFIDENCE:result                                               text  \\\n",
       "0             0.9982  Возьми лучше вместо плодовитых ещё декадентов,...   \n",
       "1             0.9999                         Никогда не брал ее в руки.   \n",
       "2             0.9998  Только для таких дегенератов, как ты, которые ...   \n",
       "3             0.9995  ладнокогда тебе в очко засунут шампанское, ста...   \n",
       "4             0.9974  Хотя много кто и росияней самоубился бы чтобы ...   \n",
       "\n",
       "   direct_map      onerow_multi  offline_crime  online_crime  drugs  gambling  \\\n",
       "0       False           slavery              0             0      0         0   \n",
       "1       False              none              0             0      0         0   \n",
       "2       False  social_injustice              0             0      0         0   \n",
       "3       False       pornography              0             0      0         0   \n",
       "4       False            sexism              0             0      0         0   \n",
       "\n",
       "   ...  body_shaming  health_shaming  politics  racism  religion  \\\n",
       "0  ...             0               0         0       0         0   \n",
       "1  ...             0               0         0       0         0   \n",
       "2  ...             0               0         0       0         0   \n",
       "3  ...             0               0         0       0         0   \n",
       "4  ...             0               0         0       0         0   \n",
       "\n",
       "   sexual_minorities  sexism  social_injustice  human_labeled  toxic_auto  \n",
       "0                  0       0                 0              0           0  \n",
       "1                  0       0                 0              0           0  \n",
       "2                  0       0                 1              0           0  \n",
       "3                  0       0                 0              0           0  \n",
       "4                  0       1                 0              0           0  \n",
       "\n",
       "[5 rows x 26 columns]"
      ]
     },
     "execution_count": 26,
     "metadata": {},
     "output_type": "execute_result"
    }
   ],
   "source": [
    "df_new_filtered_NO_direct_data.head()"
   ]
  },
  {
   "cell_type": "markdown",
   "metadata": {},
   "source": [
    "# Там где есть просто мапящиеся метаданные"
   ]
  },
  {
   "cell_type": "code",
   "execution_count": 27,
   "metadata": {},
   "outputs": [],
   "source": [
    "df_new_filtered_with_direct_data = df_new_filtered[df_new_filtered['direct_map'] == True]"
   ]
  },
  {
   "cell_type": "code",
   "execution_count": 28,
   "metadata": {},
   "outputs": [
    {
     "data": {
      "text/html": [
       "<div>\n",
       "<style scoped>\n",
       "    .dataframe tbody tr th:only-of-type {\n",
       "        vertical-align: middle;\n",
       "    }\n",
       "\n",
       "    .dataframe tbody tr th {\n",
       "        vertical-align: top;\n",
       "    }\n",
       "\n",
       "    .dataframe thead th {\n",
       "        text-align: right;\n",
       "    }\n",
       "</style>\n",
       "<table border=\"1\" class=\"dataframe\">\n",
       "  <thead>\n",
       "    <tr style=\"text-align: right;\">\n",
       "      <th></th>\n",
       "      <th>INPUT:text</th>\n",
       "      <th>OUTPUT:result</th>\n",
       "      <th>CONFIDENCE:result</th>\n",
       "      <th>text</th>\n",
       "      <th>direct_map</th>\n",
       "    </tr>\n",
       "  </thead>\n",
       "  <tbody>\n",
       "    <tr>\n",
       "      <th>0</th>\n",
       "      <td>Бедный Ниссон, его бесконечных детей то похища...</td>\n",
       "      <td>yes</td>\n",
       "      <td>0.9526</td>\n",
       "      <td>Бедный Ниссон, его бесконечных детей то похища...</td>\n",
       "      <td>True</td>\n",
       "    </tr>\n",
       "    <tr>\n",
       "      <th>1</th>\n",
       "      <td>Все кто лишился девстенности после 14 - омежки...</td>\n",
       "      <td>yes</td>\n",
       "      <td>0.9972</td>\n",
       "      <td>Все кто лишился девстенности после NUMBER - ом...</td>\n",
       "      <td>True</td>\n",
       "    </tr>\n",
       "    <tr>\n",
       "      <th>2</th>\n",
       "      <td>Не знаю сам почему её туда отправили. Не торга...</td>\n",
       "      <td>no</td>\n",
       "      <td>0.9783</td>\n",
       "      <td>Не знаю сам почему её туда отправили. Не торга...</td>\n",
       "      <td>True</td>\n",
       "    </tr>\n",
       "    <tr>\n",
       "      <th>3</th>\n",
       "      <td>&gt; Проституция легальнаНелегальное предпринимат...</td>\n",
       "      <td>yes</td>\n",
       "      <td>0.9986</td>\n",
       "      <td>Проституция легальнаНелегальное предпринимател...</td>\n",
       "      <td>True</td>\n",
       "    </tr>\n",
       "    <tr>\n",
       "      <th>4</th>\n",
       "      <td>Я бы повстречался с порноактрисой, только я не...</td>\n",
       "      <td>yes</td>\n",
       "      <td>0.9998</td>\n",
       "      <td>Я бы повстречался с порноактрисой, только я не...</td>\n",
       "      <td>True</td>\n",
       "    </tr>\n",
       "  </tbody>\n",
       "</table>\n",
       "</div>"
      ],
      "text/plain": [
       "                                          INPUT:text OUTPUT:result  \\\n",
       "0  Бедный Ниссон, его бесконечных детей то похища...           yes   \n",
       "1  Все кто лишился девстенности после 14 - омежки...           yes   \n",
       "2  Не знаю сам почему её туда отправили. Не торга...            no   \n",
       "3  > Проституция легальнаНелегальное предпринимат...           yes   \n",
       "4  Я бы повстречался с порноактрисой, только я не...           yes   \n",
       "\n",
       "   CONFIDENCE:result                                               text  \\\n",
       "0             0.9526  Бедный Ниссон, его бесконечных детей то похища...   \n",
       "1             0.9972  Все кто лишился девстенности после NUMBER - ом...   \n",
       "2             0.9783  Не знаю сам почему её туда отправили. Не торга...   \n",
       "3             0.9986  Проституция легальнаНелегальное предпринимател...   \n",
       "4             0.9998  Я бы повстречался с порноактрисой, только я не...   \n",
       "\n",
       "   direct_map  \n",
       "0        True  \n",
       "1        True  \n",
       "2        True  \n",
       "3        True  \n",
       "4        True  "
      ]
     },
     "execution_count": 28,
     "metadata": {},
     "output_type": "execute_result"
    }
   ],
   "source": [
    "df_new_filtered_with_direct_data.head()"
   ]
  },
  {
   "cell_type": "code",
   "execution_count": 42,
   "metadata": {},
   "outputs": [],
   "source": [
    "df_published = df_published.rename(columns = {'text':'publ_text'})"
   ]
  },
  {
   "cell_type": "code",
   "execution_count": 43,
   "metadata": {},
   "outputs": [],
   "source": [
    "df_new_filtered_with_direct_data_merged = df_new_filtered_with_direct_data.merge(df_published, how = 'inner',\n",
    "                                                                                 left_on = 'text',\n",
    "                                                                                right_on = 'publ_text')"
   ]
  },
  {
   "cell_type": "code",
   "execution_count": 44,
   "metadata": {},
   "outputs": [
    {
     "data": {
      "text/plain": [
       "118959"
      ]
     },
     "execution_count": 44,
     "metadata": {},
     "output_type": "execute_result"
    }
   ],
   "source": [
    "len(df_new_filtered_with_direct_data_merged)"
   ]
  },
  {
   "cell_type": "code",
   "execution_count": 45,
   "metadata": {},
   "outputs": [
    {
     "data": {
      "text/plain": [
       "Index(['INPUT:text', 'OUTPUT:result', 'CONFIDENCE:result', 'text',\n",
       "       'direct_map', 'publ_text', 'inappropriate', 'offline_crime',\n",
       "       'online_crime', 'drugs', 'gambling', 'pornography', 'prostitution',\n",
       "       'slavery', 'suicide', 'terrorism', 'weapons', 'body_shaming',\n",
       "       'health_shaming', 'politics', 'racism', 'religion', 'sexual_minorities',\n",
       "       'sexism', 'social_injustice', 'human_labeled', 'toxic_auto'],\n",
       "      dtype='object')"
      ]
     },
     "execution_count": 45,
     "metadata": {},
     "output_type": "execute_result"
    }
   ],
   "source": [
    "df_new_filtered_with_direct_data_merged.columns"
   ]
  },
  {
   "cell_type": "code",
   "execution_count": 46,
   "metadata": {},
   "outputs": [
    {
     "data": {
      "text/html": [
       "<div>\n",
       "<style scoped>\n",
       "    .dataframe tbody tr th:only-of-type {\n",
       "        vertical-align: middle;\n",
       "    }\n",
       "\n",
       "    .dataframe tbody tr th {\n",
       "        vertical-align: top;\n",
       "    }\n",
       "\n",
       "    .dataframe thead th {\n",
       "        text-align: right;\n",
       "    }\n",
       "</style>\n",
       "<table border=\"1\" class=\"dataframe\">\n",
       "  <thead>\n",
       "    <tr style=\"text-align: right;\">\n",
       "      <th></th>\n",
       "      <th>INPUT:text</th>\n",
       "      <th>OUTPUT:result</th>\n",
       "      <th>CONFIDENCE:result</th>\n",
       "      <th>text</th>\n",
       "      <th>direct_map</th>\n",
       "      <th>publ_text</th>\n",
       "      <th>inappropriate</th>\n",
       "      <th>offline_crime</th>\n",
       "      <th>online_crime</th>\n",
       "      <th>drugs</th>\n",
       "      <th>...</th>\n",
       "      <th>body_shaming</th>\n",
       "      <th>health_shaming</th>\n",
       "      <th>politics</th>\n",
       "      <th>racism</th>\n",
       "      <th>religion</th>\n",
       "      <th>sexual_minorities</th>\n",
       "      <th>sexism</th>\n",
       "      <th>social_injustice</th>\n",
       "      <th>human_labeled</th>\n",
       "      <th>toxic_auto</th>\n",
       "    </tr>\n",
       "  </thead>\n",
       "  <tbody>\n",
       "    <tr>\n",
       "      <th>94891</th>\n",
       "      <td>Блин, не прознал, что Вы девушка). Извините, ч...</td>\n",
       "      <td>no</td>\n",
       "      <td>0.9952</td>\n",
       "      <td>Блин, не прознал, что Вы девушка). Извините, ч...</td>\n",
       "      <td>True</td>\n",
       "      <td>Блин, не прознал, что Вы девушка). Извините, ч...</td>\n",
       "      <td>0.0</td>\n",
       "      <td>0.0</td>\n",
       "      <td>0.0</td>\n",
       "      <td>0.0</td>\n",
       "      <td>...</td>\n",
       "      <td>0.0</td>\n",
       "      <td>0.0</td>\n",
       "      <td>0.0</td>\n",
       "      <td>0.0</td>\n",
       "      <td>0.0</td>\n",
       "      <td>0.0</td>\n",
       "      <td>1.0</td>\n",
       "      <td>0.0</td>\n",
       "      <td>0</td>\n",
       "      <td>0.16</td>\n",
       "    </tr>\n",
       "    <tr>\n",
       "      <th>43661</th>\n",
       "      <td>За сколько за раз рублей ☼ ☼ ☼ грабил людей Ба...</td>\n",
       "      <td>no</td>\n",
       "      <td>0.9989</td>\n",
       "      <td>За сколько за раз рублей ☼ ☼ ☼ грабил людей Ба...</td>\n",
       "      <td>True</td>\n",
       "      <td>За сколько за раз рублей ☼ ☼ ☼ грабил людей Ба...</td>\n",
       "      <td>0.0</td>\n",
       "      <td>1.0</td>\n",
       "      <td>0.0</td>\n",
       "      <td>0.0</td>\n",
       "      <td>...</td>\n",
       "      <td>0.0</td>\n",
       "      <td>0.0</td>\n",
       "      <td>0.0</td>\n",
       "      <td>0.0</td>\n",
       "      <td>0.0</td>\n",
       "      <td>0.0</td>\n",
       "      <td>0.0</td>\n",
       "      <td>0.0</td>\n",
       "      <td>0</td>\n",
       "      <td>0.26</td>\n",
       "    </tr>\n",
       "  </tbody>\n",
       "</table>\n",
       "<p>2 rows × 27 columns</p>\n",
       "</div>"
      ],
      "text/plain": [
       "                                              INPUT:text OUTPUT:result  \\\n",
       "94891  Блин, не прознал, что Вы девушка). Извините, ч...            no   \n",
       "43661  За сколько за раз рублей ☼ ☼ ☼ грабил людей Ба...            no   \n",
       "\n",
       "       CONFIDENCE:result                                               text  \\\n",
       "94891             0.9952  Блин, не прознал, что Вы девушка). Извините, ч...   \n",
       "43661             0.9989  За сколько за раз рублей ☼ ☼ ☼ грабил людей Ба...   \n",
       "\n",
       "       direct_map                                          publ_text  \\\n",
       "94891        True  Блин, не прознал, что Вы девушка). Извините, ч...   \n",
       "43661        True  За сколько за раз рублей ☼ ☼ ☼ грабил людей Ба...   \n",
       "\n",
       "       inappropriate  offline_crime  online_crime  drugs  ...  body_shaming  \\\n",
       "94891            0.0            0.0           0.0    0.0  ...           0.0   \n",
       "43661            0.0            1.0           0.0    0.0  ...           0.0   \n",
       "\n",
       "       health_shaming  politics  racism  religion  sexual_minorities  sexism  \\\n",
       "94891             0.0       0.0     0.0       0.0                0.0     1.0   \n",
       "43661             0.0       0.0     0.0       0.0                0.0     0.0   \n",
       "\n",
       "       social_injustice  human_labeled  toxic_auto  \n",
       "94891               0.0              0        0.16  \n",
       "43661               0.0              0        0.26  \n",
       "\n",
       "[2 rows x 27 columns]"
      ]
     },
     "execution_count": 46,
     "metadata": {},
     "output_type": "execute_result"
    }
   ],
   "source": [
    "df_new_filtered_with_direct_data_merged.sample(2)"
   ]
  },
  {
   "cell_type": "code",
   "execution_count": 48,
   "metadata": {},
   "outputs": [
    {
     "data": {
      "text/plain": [
       "Counter({True: 118959})"
      ]
     },
     "execution_count": 48,
     "metadata": {},
     "output_type": "execute_result"
    }
   ],
   "source": [
    "Counter(df_new_filtered_with_direct_data_merged['text'] == df_new_filtered_with_direct_data_merged['publ_text'])"
   ]
  },
  {
   "cell_type": "markdown",
   "metadata": {},
   "source": [
    "# Мерджим"
   ]
  },
  {
   "cell_type": "code",
   "execution_count": 49,
   "metadata": {},
   "outputs": [],
   "source": [
    "df_new_filtered_with_direct_data_merged.drop(columns=['direct_map','inappropriate','publ_text'],inplace = True)"
   ]
  },
  {
   "cell_type": "code",
   "execution_count": null,
   "metadata": {},
   "outputs": [],
   "source": [
    "# df_new_filtered_NO_direct_data.drop(columns=['direct_map', 'onerow_multi'],inplace = True)"
   ]
  },
  {
   "cell_type": "code",
   "execution_count": 51,
   "metadata": {},
   "outputs": [
    {
     "data": {
      "text/plain": [
       "Index(['INPUT:text', 'OUTPUT:result', 'CONFIDENCE:result', 'text',\n",
       "       'offline_crime', 'online_crime', 'drugs', 'gambling', 'pornography',\n",
       "       'prostitution', 'slavery', 'suicide', 'terrorism', 'weapons',\n",
       "       'body_shaming', 'health_shaming', 'politics', 'racism', 'religion',\n",
       "       'sexual_minorities', 'sexism', 'social_injustice', 'human_labeled',\n",
       "       'toxic_auto'],\n",
       "      dtype='object')"
      ]
     },
     "execution_count": 51,
     "metadata": {},
     "output_type": "execute_result"
    }
   ],
   "source": [
    "df_new_filtered_with_direct_data_merged.columns "
   ]
  },
  {
   "cell_type": "code",
   "execution_count": 57,
   "metadata": {},
   "outputs": [],
   "source": [
    "df_new_filtered_NO_direct_data.drop(columns=['direct_map'],inplace = True)"
   ]
  },
  {
   "cell_type": "code",
   "execution_count": 58,
   "metadata": {},
   "outputs": [
    {
     "data": {
      "text/plain": [
       "Index(['INPUT:text', 'OUTPUT:result', 'CONFIDENCE:result', 'text',\n",
       "       'offline_crime', 'online_crime', 'drugs', 'gambling', 'pornography',\n",
       "       'prostitution', 'slavery', 'suicide', 'terrorism', 'weapons',\n",
       "       'body_shaming', 'health_shaming', 'politics', 'racism', 'religion',\n",
       "       'sexual_minorities', 'sexism', 'social_injustice', 'human_labeled',\n",
       "       'toxic_auto'],\n",
       "      dtype='object')"
      ]
     },
     "execution_count": 58,
     "metadata": {},
     "output_type": "execute_result"
    }
   ],
   "source": [
    "df_new_filtered_NO_direct_data.columns"
   ]
  },
  {
   "cell_type": "code",
   "execution_count": 59,
   "metadata": {},
   "outputs": [
    {
     "data": {
      "text/plain": [
       "array([ True,  True,  True,  True,  True,  True,  True,  True,  True,\n",
       "        True,  True,  True,  True,  True,  True,  True,  True,  True,\n",
       "        True,  True,  True,  True,  True,  True])"
      ]
     },
     "execution_count": 59,
     "metadata": {},
     "output_type": "execute_result"
    }
   ],
   "source": [
    "df_new_filtered_with_direct_data_merged.columns == df_new_filtered_NO_direct_data.columns"
   ]
  },
  {
   "cell_type": "code",
   "execution_count": 60,
   "metadata": {},
   "outputs": [
    {
     "data": {
      "text/plain": [
       "Index(['INPUT:text', 'OUTPUT:result', 'CONFIDENCE:result', 'text',\n",
       "       'offline_crime', 'online_crime', 'drugs', 'gambling', 'pornography',\n",
       "       'prostitution', 'slavery', 'suicide', 'terrorism', 'weapons',\n",
       "       'body_shaming', 'health_shaming', 'politics', 'racism', 'religion',\n",
       "       'sexual_minorities', 'sexism', 'social_injustice', 'human_labeled',\n",
       "       'toxic_auto'],\n",
       "      dtype='object')"
      ]
     },
     "execution_count": 60,
     "metadata": {},
     "output_type": "execute_result"
    }
   ],
   "source": [
    "df_new_filtered_with_direct_data_merged.columns"
   ]
  },
  {
   "cell_type": "code",
   "execution_count": null,
   "metadata": {},
   "outputs": [],
   "source": [
    "df_new_filtered_NO_direct_data.columns"
   ]
  },
  {
   "cell_type": "code",
   "execution_count": 61,
   "metadata": {},
   "outputs": [],
   "source": [
    "df_new_filtered_MERGED = pd.concat([df_new_filtered_with_direct_data_merged,df_new_filtered_NO_direct_data])"
   ]
  },
  {
   "cell_type": "code",
   "execution_count": 62,
   "metadata": {},
   "outputs": [
    {
     "data": {
      "text/plain": [
       "Counter({1: 6025, 0: 118572})"
      ]
     },
     "execution_count": 62,
     "metadata": {},
     "output_type": "execute_result"
    }
   ],
   "source": [
    "Counter(df_new_filtered_MERGED['human_labeled'])"
   ]
  },
  {
   "cell_type": "code",
   "execution_count": 63,
   "metadata": {},
   "outputs": [
    {
     "data": {
      "text/html": [
       "<div>\n",
       "<style scoped>\n",
       "    .dataframe tbody tr th:only-of-type {\n",
       "        vertical-align: middle;\n",
       "    }\n",
       "\n",
       "    .dataframe tbody tr th {\n",
       "        vertical-align: top;\n",
       "    }\n",
       "\n",
       "    .dataframe thead th {\n",
       "        text-align: right;\n",
       "    }\n",
       "</style>\n",
       "<table border=\"1\" class=\"dataframe\">\n",
       "  <thead>\n",
       "    <tr style=\"text-align: right;\">\n",
       "      <th></th>\n",
       "      <th>INPUT:text</th>\n",
       "      <th>OUTPUT:result</th>\n",
       "      <th>CONFIDENCE:result</th>\n",
       "      <th>text</th>\n",
       "      <th>offline_crime</th>\n",
       "      <th>online_crime</th>\n",
       "      <th>drugs</th>\n",
       "      <th>gambling</th>\n",
       "      <th>pornography</th>\n",
       "      <th>prostitution</th>\n",
       "      <th>...</th>\n",
       "      <th>body_shaming</th>\n",
       "      <th>health_shaming</th>\n",
       "      <th>politics</th>\n",
       "      <th>racism</th>\n",
       "      <th>religion</th>\n",
       "      <th>sexual_minorities</th>\n",
       "      <th>sexism</th>\n",
       "      <th>social_injustice</th>\n",
       "      <th>human_labeled</th>\n",
       "      <th>toxic_auto</th>\n",
       "    </tr>\n",
       "  </thead>\n",
       "  <tbody>\n",
       "    <tr>\n",
       "      <th>0</th>\n",
       "      <td>Бедный Ниссон, его бесконечных детей то похища...</td>\n",
       "      <td>yes</td>\n",
       "      <td>0.9526</td>\n",
       "      <td>Бедный Ниссон, его бесконечных детей то похища...</td>\n",
       "      <td>1.0</td>\n",
       "      <td>0.0</td>\n",
       "      <td>0.0</td>\n",
       "      <td>0.0</td>\n",
       "      <td>0.0</td>\n",
       "      <td>0.0</td>\n",
       "      <td>...</td>\n",
       "      <td>0.0</td>\n",
       "      <td>0.31</td>\n",
       "      <td>0.0</td>\n",
       "      <td>0.0</td>\n",
       "      <td>0.0</td>\n",
       "      <td>0.0</td>\n",
       "      <td>0.0</td>\n",
       "      <td>1.00</td>\n",
       "      <td>1</td>\n",
       "      <td>0.59</td>\n",
       "    </tr>\n",
       "    <tr>\n",
       "      <th>1</th>\n",
       "      <td>Все кто лишился девстенности после 14 - омежки...</td>\n",
       "      <td>yes</td>\n",
       "      <td>0.9972</td>\n",
       "      <td>Все кто лишился девстенности после NUMBER - ом...</td>\n",
       "      <td>0.0</td>\n",
       "      <td>0.0</td>\n",
       "      <td>0.0</td>\n",
       "      <td>0.0</td>\n",
       "      <td>1.0</td>\n",
       "      <td>0.0</td>\n",
       "      <td>...</td>\n",
       "      <td>0.0</td>\n",
       "      <td>0.00</td>\n",
       "      <td>0.0</td>\n",
       "      <td>0.0</td>\n",
       "      <td>0.0</td>\n",
       "      <td>0.0</td>\n",
       "      <td>1.0</td>\n",
       "      <td>0.00</td>\n",
       "      <td>0</td>\n",
       "      <td>0.58</td>\n",
       "    </tr>\n",
       "    <tr>\n",
       "      <th>2</th>\n",
       "      <td>Не знаю сам почему её туда отправили. Не торга...</td>\n",
       "      <td>no</td>\n",
       "      <td>0.9783</td>\n",
       "      <td>Не знаю сам почему её туда отправили. Не торга...</td>\n",
       "      <td>0.0</td>\n",
       "      <td>0.0</td>\n",
       "      <td>0.0</td>\n",
       "      <td>0.0</td>\n",
       "      <td>0.0</td>\n",
       "      <td>0.0</td>\n",
       "      <td>...</td>\n",
       "      <td>0.0</td>\n",
       "      <td>0.00</td>\n",
       "      <td>0.0</td>\n",
       "      <td>0.0</td>\n",
       "      <td>0.0</td>\n",
       "      <td>0.0</td>\n",
       "      <td>0.0</td>\n",
       "      <td>0.75</td>\n",
       "      <td>1</td>\n",
       "      <td>0.01</td>\n",
       "    </tr>\n",
       "    <tr>\n",
       "      <th>3</th>\n",
       "      <td>&gt; Проституция легальнаНелегальное предпринимат...</td>\n",
       "      <td>yes</td>\n",
       "      <td>0.9986</td>\n",
       "      <td>Проституция легальнаНелегальное предпринимател...</td>\n",
       "      <td>0.0</td>\n",
       "      <td>0.0</td>\n",
       "      <td>0.0</td>\n",
       "      <td>0.0</td>\n",
       "      <td>0.0</td>\n",
       "      <td>1.0</td>\n",
       "      <td>...</td>\n",
       "      <td>0.0</td>\n",
       "      <td>0.00</td>\n",
       "      <td>0.0</td>\n",
       "      <td>0.0</td>\n",
       "      <td>0.0</td>\n",
       "      <td>0.0</td>\n",
       "      <td>0.0</td>\n",
       "      <td>0.00</td>\n",
       "      <td>0</td>\n",
       "      <td>0.16</td>\n",
       "    </tr>\n",
       "    <tr>\n",
       "      <th>4</th>\n",
       "      <td>Я бы повстречался с порноактрисой, только я не...</td>\n",
       "      <td>yes</td>\n",
       "      <td>0.9998</td>\n",
       "      <td>Я бы повстречался с порноактрисой, только я не...</td>\n",
       "      <td>0.0</td>\n",
       "      <td>0.0</td>\n",
       "      <td>0.0</td>\n",
       "      <td>0.0</td>\n",
       "      <td>1.0</td>\n",
       "      <td>0.0</td>\n",
       "      <td>...</td>\n",
       "      <td>0.0</td>\n",
       "      <td>0.00</td>\n",
       "      <td>0.0</td>\n",
       "      <td>0.0</td>\n",
       "      <td>0.0</td>\n",
       "      <td>0.0</td>\n",
       "      <td>0.0</td>\n",
       "      <td>0.00</td>\n",
       "      <td>1</td>\n",
       "      <td>0.64</td>\n",
       "    </tr>\n",
       "  </tbody>\n",
       "</table>\n",
       "<p>5 rows × 24 columns</p>\n",
       "</div>"
      ],
      "text/plain": [
       "                                          INPUT:text OUTPUT:result  \\\n",
       "0  Бедный Ниссон, его бесконечных детей то похища...           yes   \n",
       "1  Все кто лишился девстенности после 14 - омежки...           yes   \n",
       "2  Не знаю сам почему её туда отправили. Не торга...            no   \n",
       "3  > Проституция легальнаНелегальное предпринимат...           yes   \n",
       "4  Я бы повстречался с порноактрисой, только я не...           yes   \n",
       "\n",
       "   CONFIDENCE:result                                               text  \\\n",
       "0             0.9526  Бедный Ниссон, его бесконечных детей то похища...   \n",
       "1             0.9972  Все кто лишился девстенности после NUMBER - ом...   \n",
       "2             0.9783  Не знаю сам почему её туда отправили. Не торга...   \n",
       "3             0.9986  Проституция легальнаНелегальное предпринимател...   \n",
       "4             0.9998  Я бы повстречался с порноактрисой, только я не...   \n",
       "\n",
       "   offline_crime  online_crime  drugs  gambling  pornography  prostitution  \\\n",
       "0            1.0           0.0    0.0       0.0          0.0           0.0   \n",
       "1            0.0           0.0    0.0       0.0          1.0           0.0   \n",
       "2            0.0           0.0    0.0       0.0          0.0           0.0   \n",
       "3            0.0           0.0    0.0       0.0          0.0           1.0   \n",
       "4            0.0           0.0    0.0       0.0          1.0           0.0   \n",
       "\n",
       "   ...  body_shaming  health_shaming  politics  racism  religion  \\\n",
       "0  ...           0.0            0.31       0.0     0.0       0.0   \n",
       "1  ...           0.0            0.00       0.0     0.0       0.0   \n",
       "2  ...           0.0            0.00       0.0     0.0       0.0   \n",
       "3  ...           0.0            0.00       0.0     0.0       0.0   \n",
       "4  ...           0.0            0.00       0.0     0.0       0.0   \n",
       "\n",
       "   sexual_minorities  sexism  social_injustice  human_labeled  toxic_auto  \n",
       "0                0.0     0.0              1.00              1        0.59  \n",
       "1                0.0     1.0              0.00              0        0.58  \n",
       "2                0.0     0.0              0.75              1        0.01  \n",
       "3                0.0     0.0              0.00              0        0.16  \n",
       "4                0.0     0.0              0.00              1        0.64  \n",
       "\n",
       "[5 rows x 24 columns]"
      ]
     },
     "execution_count": 63,
     "metadata": {},
     "output_type": "execute_result"
    }
   ],
   "source": [
    "df_new_filtered_MERGED.head()"
   ]
  },
  {
   "cell_type": "code",
   "execution_count": 64,
   "metadata": {},
   "outputs": [],
   "source": [
    "df_new_filtered_MERGED['INPUT:text'] = df_new_filtered_MERGED['text']\n",
    "del df_new_filtered_MERGED['text']"
   ]
  },
  {
   "cell_type": "code",
   "execution_count": 66,
   "metadata": {},
   "outputs": [],
   "source": [
    "conf = []\n",
    "for i,el in df_new_filtered_MERGED.iterrows():\n",
    "    if el['OUTPUT:result'] == 'yes':\n",
    "        conf.append(el['CONFIDENCE:result'])\n",
    "    else:\n",
    "        conf.append(1 - float(el['CONFIDENCE:result']))\n",
    "    "
   ]
  },
  {
   "cell_type": "code",
   "execution_count": 67,
   "metadata": {},
   "outputs": [
    {
     "data": {
      "text/plain": [
       "[0.9526,\n",
       " 0.9972,\n",
       " 0.021700000000000053,\n",
       " 0.9986,\n",
       " 0.9998,\n",
       " 0.07809999999999995,\n",
       " 9.999999999998899e-05,\n",
       " 0.9998,\n",
       " 0.9105,\n",
       " 9.999999999998899e-05]"
      ]
     },
     "execution_count": 67,
     "metadata": {},
     "output_type": "execute_result"
    }
   ],
   "source": [
    "conf[:10]"
   ]
  },
  {
   "cell_type": "code",
   "execution_count": 68,
   "metadata": {},
   "outputs": [],
   "source": [
    "df_new_filtered_MERGED['CONFIDENCE:result'] = conf\n",
    "del df_new_filtered_MERGED['OUTPUT:result']\n",
    "df_new_filtered_MERGED.rename(columns = {'CONFIDENCE:result':'inappropriate'}, inplace = True)"
   ]
  },
  {
   "cell_type": "code",
   "execution_count": 70,
   "metadata": {},
   "outputs": [],
   "source": [
    "df_new_filtered_MERGED.rename(columns = {'INPUT:text':'text'}, inplace = True)"
   ]
  },
  {
   "cell_type": "code",
   "execution_count": 71,
   "metadata": {},
   "outputs": [
    {
     "data": {
      "text/html": [
       "<div>\n",
       "<style scoped>\n",
       "    .dataframe tbody tr th:only-of-type {\n",
       "        vertical-align: middle;\n",
       "    }\n",
       "\n",
       "    .dataframe tbody tr th {\n",
       "        vertical-align: top;\n",
       "    }\n",
       "\n",
       "    .dataframe thead th {\n",
       "        text-align: right;\n",
       "    }\n",
       "</style>\n",
       "<table border=\"1\" class=\"dataframe\">\n",
       "  <thead>\n",
       "    <tr style=\"text-align: right;\">\n",
       "      <th></th>\n",
       "      <th>text</th>\n",
       "      <th>inappropriate</th>\n",
       "      <th>offline_crime</th>\n",
       "      <th>online_crime</th>\n",
       "      <th>drugs</th>\n",
       "      <th>gambling</th>\n",
       "      <th>pornography</th>\n",
       "      <th>prostitution</th>\n",
       "      <th>slavery</th>\n",
       "      <th>suicide</th>\n",
       "      <th>...</th>\n",
       "      <th>body_shaming</th>\n",
       "      <th>health_shaming</th>\n",
       "      <th>politics</th>\n",
       "      <th>racism</th>\n",
       "      <th>religion</th>\n",
       "      <th>sexual_minorities</th>\n",
       "      <th>sexism</th>\n",
       "      <th>social_injustice</th>\n",
       "      <th>human_labeled</th>\n",
       "      <th>toxic_auto</th>\n",
       "    </tr>\n",
       "  </thead>\n",
       "  <tbody>\n",
       "    <tr>\n",
       "      <th>0</th>\n",
       "      <td>Бедный Ниссон, его бесконечных детей то похища...</td>\n",
       "      <td>0.9526</td>\n",
       "      <td>1.0</td>\n",
       "      <td>0.0</td>\n",
       "      <td>0.0</td>\n",
       "      <td>0.0</td>\n",
       "      <td>0.0</td>\n",
       "      <td>0.0</td>\n",
       "      <td>1.0</td>\n",
       "      <td>0.0</td>\n",
       "      <td>...</td>\n",
       "      <td>0.0</td>\n",
       "      <td>0.31</td>\n",
       "      <td>0.0</td>\n",
       "      <td>0.0</td>\n",
       "      <td>0.0</td>\n",
       "      <td>0.0</td>\n",
       "      <td>0.0</td>\n",
       "      <td>1.00</td>\n",
       "      <td>1</td>\n",
       "      <td>0.59</td>\n",
       "    </tr>\n",
       "    <tr>\n",
       "      <th>1</th>\n",
       "      <td>Все кто лишился девстенности после NUMBER - ом...</td>\n",
       "      <td>0.9972</td>\n",
       "      <td>0.0</td>\n",
       "      <td>0.0</td>\n",
       "      <td>0.0</td>\n",
       "      <td>0.0</td>\n",
       "      <td>1.0</td>\n",
       "      <td>0.0</td>\n",
       "      <td>0.0</td>\n",
       "      <td>0.0</td>\n",
       "      <td>...</td>\n",
       "      <td>0.0</td>\n",
       "      <td>0.00</td>\n",
       "      <td>0.0</td>\n",
       "      <td>0.0</td>\n",
       "      <td>0.0</td>\n",
       "      <td>0.0</td>\n",
       "      <td>1.0</td>\n",
       "      <td>0.00</td>\n",
       "      <td>0</td>\n",
       "      <td>0.58</td>\n",
       "    </tr>\n",
       "    <tr>\n",
       "      <th>2</th>\n",
       "      <td>Не знаю сам почему её туда отправили. Не торга...</td>\n",
       "      <td>0.0217</td>\n",
       "      <td>0.0</td>\n",
       "      <td>0.0</td>\n",
       "      <td>0.0</td>\n",
       "      <td>0.0</td>\n",
       "      <td>0.0</td>\n",
       "      <td>0.0</td>\n",
       "      <td>0.0</td>\n",
       "      <td>0.0</td>\n",
       "      <td>...</td>\n",
       "      <td>0.0</td>\n",
       "      <td>0.00</td>\n",
       "      <td>0.0</td>\n",
       "      <td>0.0</td>\n",
       "      <td>0.0</td>\n",
       "      <td>0.0</td>\n",
       "      <td>0.0</td>\n",
       "      <td>0.75</td>\n",
       "      <td>1</td>\n",
       "      <td>0.01</td>\n",
       "    </tr>\n",
       "    <tr>\n",
       "      <th>3</th>\n",
       "      <td>Проституция легальнаНелегальное предпринимател...</td>\n",
       "      <td>0.9986</td>\n",
       "      <td>0.0</td>\n",
       "      <td>0.0</td>\n",
       "      <td>0.0</td>\n",
       "      <td>0.0</td>\n",
       "      <td>0.0</td>\n",
       "      <td>1.0</td>\n",
       "      <td>0.0</td>\n",
       "      <td>0.0</td>\n",
       "      <td>...</td>\n",
       "      <td>0.0</td>\n",
       "      <td>0.00</td>\n",
       "      <td>0.0</td>\n",
       "      <td>0.0</td>\n",
       "      <td>0.0</td>\n",
       "      <td>0.0</td>\n",
       "      <td>0.0</td>\n",
       "      <td>0.00</td>\n",
       "      <td>0</td>\n",
       "      <td>0.16</td>\n",
       "    </tr>\n",
       "    <tr>\n",
       "      <th>4</th>\n",
       "      <td>Я бы повстречался с порноактрисой, только я не...</td>\n",
       "      <td>0.9998</td>\n",
       "      <td>0.0</td>\n",
       "      <td>0.0</td>\n",
       "      <td>0.0</td>\n",
       "      <td>0.0</td>\n",
       "      <td>1.0</td>\n",
       "      <td>0.0</td>\n",
       "      <td>0.0</td>\n",
       "      <td>0.0</td>\n",
       "      <td>...</td>\n",
       "      <td>0.0</td>\n",
       "      <td>0.00</td>\n",
       "      <td>0.0</td>\n",
       "      <td>0.0</td>\n",
       "      <td>0.0</td>\n",
       "      <td>0.0</td>\n",
       "      <td>0.0</td>\n",
       "      <td>0.00</td>\n",
       "      <td>1</td>\n",
       "      <td>0.64</td>\n",
       "    </tr>\n",
       "  </tbody>\n",
       "</table>\n",
       "<p>5 rows × 22 columns</p>\n",
       "</div>"
      ],
      "text/plain": [
       "                                                text  inappropriate  \\\n",
       "0  Бедный Ниссон, его бесконечных детей то похища...         0.9526   \n",
       "1  Все кто лишился девстенности после NUMBER - ом...         0.9972   \n",
       "2  Не знаю сам почему её туда отправили. Не торга...         0.0217   \n",
       "3  Проституция легальнаНелегальное предпринимател...         0.9986   \n",
       "4  Я бы повстречался с порноактрисой, только я не...         0.9998   \n",
       "\n",
       "   offline_crime  online_crime  drugs  gambling  pornography  prostitution  \\\n",
       "0            1.0           0.0    0.0       0.0          0.0           0.0   \n",
       "1            0.0           0.0    0.0       0.0          1.0           0.0   \n",
       "2            0.0           0.0    0.0       0.0          0.0           0.0   \n",
       "3            0.0           0.0    0.0       0.0          0.0           1.0   \n",
       "4            0.0           0.0    0.0       0.0          1.0           0.0   \n",
       "\n",
       "   slavery  suicide  ...  body_shaming  health_shaming  politics  racism  \\\n",
       "0      1.0      0.0  ...           0.0            0.31       0.0     0.0   \n",
       "1      0.0      0.0  ...           0.0            0.00       0.0     0.0   \n",
       "2      0.0      0.0  ...           0.0            0.00       0.0     0.0   \n",
       "3      0.0      0.0  ...           0.0            0.00       0.0     0.0   \n",
       "4      0.0      0.0  ...           0.0            0.00       0.0     0.0   \n",
       "\n",
       "   religion  sexual_minorities  sexism  social_injustice  human_labeled  \\\n",
       "0       0.0                0.0     0.0              1.00              1   \n",
       "1       0.0                0.0     1.0              0.00              0   \n",
       "2       0.0                0.0     0.0              0.75              1   \n",
       "3       0.0                0.0     0.0              0.00              0   \n",
       "4       0.0                0.0     0.0              0.00              1   \n",
       "\n",
       "   toxic_auto  \n",
       "0        0.59  \n",
       "1        0.58  \n",
       "2        0.01  \n",
       "3        0.16  \n",
       "4        0.64  \n",
       "\n",
       "[5 rows x 22 columns]"
      ]
     },
     "execution_count": 71,
     "metadata": {},
     "output_type": "execute_result"
    }
   ],
   "source": [
    "df_new_filtered_MERGED.head()"
   ]
  },
  {
   "cell_type": "code",
   "execution_count": 72,
   "metadata": {},
   "outputs": [
    {
     "data": {
      "text/plain": [
       "124597"
      ]
     },
     "execution_count": 72,
     "metadata": {},
     "output_type": "execute_result"
    }
   ],
   "source": [
    "len(df_new_filtered_MERGED)"
   ]
  },
  {
   "cell_type": "code",
   "execution_count": 73,
   "metadata": {},
   "outputs": [],
   "source": [
    "df_new_filtered_MERGED.to_csv(\"Inappropriate_09_top_vs_one_with_multi.csv\",index = None)"
   ]
  },
  {
   "cell_type": "code",
   "execution_count": null,
   "metadata": {},
   "outputs": [],
   "source": [
    "len(df_new_filtered_MERGED)"
   ]
  },
  {
   "cell_type": "code",
   "execution_count": null,
   "metadata": {},
   "outputs": [],
   "source": [
    "# Считаем пропорции"
   ]
  },
  {
   "cell_type": "code",
   "execution_count": null,
   "metadata": {},
   "outputs": [],
   "source": [
    "import numpy as np\n",
    "import matplotlib.pyplot as plt "
   ]
  },
  {
   "cell_type": "code",
   "execution_count": null,
   "metadata": {},
   "outputs": [],
   "source": [
    "df_new_filtered_MERGED =pd.read_csv(\"Inappropriate_095_top_vs_one_with_multi.csv\")"
   ]
  },
  {
   "cell_type": "code",
   "execution_count": null,
   "metadata": {},
   "outputs": [],
   "source": [
    "topics = ['offline_crime', 'online_crime', 'drugs', 'gambling', 'pornography',\n",
    "       'prostitution', 'slavery', 'suicide', 'terrorism', 'weapons',\n",
    "       'body_shaming', 'health_shaming', 'politics', 'racism', 'religion',\n",
    "       'sexual_minorities', 'sexism', 'social_injustice']"
   ]
  },
  {
   "cell_type": "code",
   "execution_count": null,
   "metadata": {},
   "outputs": [],
   "source": [
    "def get_count(df):\n",
    "    \n",
    "    def round_up(val):\n",
    "        if float(val) > 0.5:\n",
    "            return 1\n",
    "        return 0\n",
    "\n",
    "    df_count = pd.DataFrame()\n",
    "    for c in topics:\n",
    "        if c != 'text':\n",
    "            df_count[c] = df[c].apply(round_up)\n",
    "            \n",
    "    counts = []\n",
    "    names = []\n",
    "    for col in df_count.columns:\n",
    "        cnt = sum(df_count[col])\n",
    "        counts.append(cnt)\n",
    "        names.append(col)\n",
    "        \n",
    "    df_count_fin = pd.DataFrame({'class':names, 'count':counts})\n",
    "    df_count_fin_sorted = df_count_fin.sort_values('count', ascending = False)\n",
    "    return df_count_fin_sorted, len(df)"
   ]
  },
  {
   "cell_type": "code",
   "execution_count": null,
   "metadata": {},
   "outputs": [],
   "source": [
    "def plot_df(df, df_len):\n",
    "    dct = {}\n",
    "    for  i,d in df.iterrows():\n",
    "        t,c = d\n",
    "        dct[t] = c\n",
    "    same_order_values = [dct[t] for t in topics]\n",
    "    \n",
    "        # Generate a normal distribution, center at x=0 and y=5\n",
    "    x_positions = np.arange(len(topics) )\n",
    "    y = same_order_values\n",
    "\n",
    "    # We can set the number of bins with the `bins` kwarg\n",
    "    plt.bar(x_positions,y, align='center', alpha=0.5)\n",
    "    plt.xticks(x_positions, topics)\n",
    "    plt.xticks(rotation = 85, fontsize=14)\n",
    "    plt.ylabel('count per topic', fontsize=14)\n",
    "    plt.title(\"Total сount of samples = {}\".format(df_len), fontsize=14)\n",
    "\n",
    "    plt.show()\n",
    "#     plt.savefig(\"multi_count.pdf\",format='pdf', bbox_inches='tight')"
   ]
  },
  {
   "cell_type": "code",
   "execution_count": null,
   "metadata": {},
   "outputs": [],
   "source": [
    "df_new_filtered_with_direct_data_merged.head()"
   ]
  },
  {
   "cell_type": "code",
   "execution_count": null,
   "metadata": {},
   "outputs": [],
   "source": []
  },
  {
   "cell_type": "code",
   "execution_count": null,
   "metadata": {},
   "outputs": [],
   "source": [
    "dfr, df_len = get_count(df_new_filtered_MERGED)\n",
    "plot_df(dfr, df_len)"
   ]
  }
 ],
 "metadata": {
  "kernelspec": {
   "display_name": "Python 3",
   "language": "python",
   "name": "python3"
  },
  "language_info": {
   "codemirror_mode": {
    "name": "ipython",
    "version": 3
   },
   "file_extension": ".py",
   "mimetype": "text/x-python",
   "name": "python",
   "nbconvert_exporter": "python",
   "pygments_lexer": "ipython3",
   "version": "3.8.10"
  }
 },
 "nbformat": 4,
 "nbformat_minor": 4
}
