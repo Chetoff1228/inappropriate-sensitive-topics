{
 "cells": [
  {
   "cell_type": "code",
   "execution_count": 9,
   "metadata": {},
   "outputs": [],
   "source": [
    "import pandas as pd\n",
    "from collections import Counter"
   ]
  },
  {
   "cell_type": "code",
   "execution_count": 41,
   "metadata": {},
   "outputs": [],
   "source": [
    "df_new_filtered = pd.read_csv(\"Inappropriate_095_top_vs_one.csv\")"
   ]
  },
  {
   "cell_type": "code",
   "execution_count": 42,
   "metadata": {},
   "outputs": [
    {
     "data": {
      "text/html": [
       "<div>\n",
       "<style scoped>\n",
       "    .dataframe tbody tr th:only-of-type {\n",
       "        vertical-align: middle;\n",
       "    }\n",
       "\n",
       "    .dataframe tbody tr th {\n",
       "        vertical-align: top;\n",
       "    }\n",
       "\n",
       "    .dataframe thead th {\n",
       "        text-align: right;\n",
       "    }\n",
       "</style>\n",
       "<table border=\"1\" class=\"dataframe\">\n",
       "  <thead>\n",
       "    <tr style=\"text-align: right;\">\n",
       "      <th></th>\n",
       "      <th>INPUT:text</th>\n",
       "      <th>OUTPUT:result</th>\n",
       "      <th>CONFIDENCE:result</th>\n",
       "    </tr>\n",
       "  </thead>\n",
       "  <tbody>\n",
       "    <tr>\n",
       "      <th>0</th>\n",
       "      <td>только проституции, а не порно, толстяк</td>\n",
       "      <td>yes</td>\n",
       "      <td>0.9995</td>\n",
       "    </tr>\n",
       "    <tr>\n",
       "      <th>1</th>\n",
       "      <td>- Как Вы боритесь от навязчивых грешных мыслях...</td>\n",
       "      <td>no</td>\n",
       "      <td>0.9734</td>\n",
       "    </tr>\n",
       "    <tr>\n",
       "      <th>2</th>\n",
       "      <td>Куда можно пойти работать в 12 лет? очень нужн...</td>\n",
       "      <td>no</td>\n",
       "      <td>0.9991</td>\n",
       "    </tr>\n",
       "    <tr>\n",
       "      <th>3</th>\n",
       "      <td>торговля людьми, оружием и наркотиками простит...</td>\n",
       "      <td>yes</td>\n",
       "      <td>0.9999</td>\n",
       "    </tr>\n",
       "    <tr>\n",
       "      <th>4</th>\n",
       "      <td>Новость про порно без фулла как секс без женщины</td>\n",
       "      <td>yes</td>\n",
       "      <td>0.9966</td>\n",
       "    </tr>\n",
       "  </tbody>\n",
       "</table>\n",
       "</div>"
      ],
      "text/plain": [
       "                                          INPUT:text OUTPUT:result  \\\n",
       "0            только проституции, а не порно, толстяк           yes   \n",
       "1  - Как Вы боритесь от навязчивых грешных мыслях...            no   \n",
       "2  Куда можно пойти работать в 12 лет? очень нужн...            no   \n",
       "3  торговля людьми, оружием и наркотиками простит...           yes   \n",
       "4   Новость про порно без фулла как секс без женщины           yes   \n",
       "\n",
       "   CONFIDENCE:result  \n",
       "0             0.9995  \n",
       "1             0.9734  \n",
       "2             0.9991  \n",
       "3             0.9999  \n",
       "4             0.9966  "
      ]
     },
     "execution_count": 42,
     "metadata": {},
     "output_type": "execute_result"
    }
   ],
   "source": [
    "df_new_filtered.head()"
   ]
  },
  {
   "cell_type": "code",
   "execution_count": 43,
   "metadata": {},
   "outputs": [],
   "source": [
    "df_new_filtered.drop_duplicates(subset=['INPUT:text'],inplace = True)"
   ]
  },
  {
   "cell_type": "code",
   "execution_count": 44,
   "metadata": {},
   "outputs": [],
   "source": [
    "df_published = pd.read_csv(\"../appropriateness/Appropriateness.csv\")"
   ]
  },
  {
   "cell_type": "code",
   "execution_count": 45,
   "metadata": {},
   "outputs": [
    {
     "data": {
      "text/plain": [
       "108812"
      ]
     },
     "execution_count": 45,
     "metadata": {},
     "output_type": "execute_result"
    }
   ],
   "source": [
    "non_processed_texts_new_filtered = set([txt for txt in df_new_filtered['INPUT:text'].tolist()])\n",
    "len(non_processed_texts_new_filtered)"
   ]
  },
  {
   "cell_type": "code",
   "execution_count": 60,
   "metadata": {},
   "outputs": [],
   "source": [
    "df_published.drop_duplicates(subset=['text'],inplace = True)"
   ]
  },
  {
   "cell_type": "code",
   "execution_count": 61,
   "metadata": {},
   "outputs": [
    {
     "data": {
      "text/html": [
       "<div>\n",
       "<style scoped>\n",
       "    .dataframe tbody tr th:only-of-type {\n",
       "        vertical-align: middle;\n",
       "    }\n",
       "\n",
       "    .dataframe tbody tr th {\n",
       "        vertical-align: top;\n",
       "    }\n",
       "\n",
       "    .dataframe thead th {\n",
       "        text-align: right;\n",
       "    }\n",
       "</style>\n",
       "<table border=\"1\" class=\"dataframe\">\n",
       "  <thead>\n",
       "    <tr style=\"text-align: right;\">\n",
       "      <th></th>\n",
       "      <th>text</th>\n",
       "      <th>inappropriate</th>\n",
       "      <th>offline_crime</th>\n",
       "      <th>online_crime</th>\n",
       "      <th>drugs</th>\n",
       "      <th>gambling</th>\n",
       "      <th>pornography</th>\n",
       "      <th>prostitution</th>\n",
       "      <th>slavery</th>\n",
       "      <th>suicide</th>\n",
       "      <th>...</th>\n",
       "      <th>body_shaming</th>\n",
       "      <th>health_shaming</th>\n",
       "      <th>politics</th>\n",
       "      <th>racism</th>\n",
       "      <th>religion</th>\n",
       "      <th>sexual_minorities</th>\n",
       "      <th>sexism</th>\n",
       "      <th>social_injustice</th>\n",
       "      <th>human_labeled</th>\n",
       "      <th>toxic_auto</th>\n",
       "    </tr>\n",
       "  </thead>\n",
       "  <tbody>\n",
       "    <tr>\n",
       "      <th>0</th>\n",
       "      <td>Начальники ДК и нынешнего места работы?</td>\n",
       "      <td>0.0</td>\n",
       "      <td>0.0</td>\n",
       "      <td>0.0</td>\n",
       "      <td>0.0</td>\n",
       "      <td>0.0</td>\n",
       "      <td>0.0</td>\n",
       "      <td>0.0</td>\n",
       "      <td>0.0</td>\n",
       "      <td>0.0</td>\n",
       "      <td>...</td>\n",
       "      <td>0.0</td>\n",
       "      <td>0.0</td>\n",
       "      <td>0.0</td>\n",
       "      <td>0.0</td>\n",
       "      <td>0.0</td>\n",
       "      <td>0.0</td>\n",
       "      <td>0.0</td>\n",
       "      <td>1.0</td>\n",
       "      <td>0</td>\n",
       "      <td>0.09</td>\n",
       "    </tr>\n",
       "    <tr>\n",
       "      <th>1</th>\n",
       "      <td>Читаю. Драки, грабежи, ДТП. Изредка убийства, ...</td>\n",
       "      <td>1.0</td>\n",
       "      <td>1.0</td>\n",
       "      <td>0.0</td>\n",
       "      <td>0.0</td>\n",
       "      <td>0.0</td>\n",
       "      <td>0.0</td>\n",
       "      <td>0.0</td>\n",
       "      <td>0.0</td>\n",
       "      <td>0.0</td>\n",
       "      <td>...</td>\n",
       "      <td>0.0</td>\n",
       "      <td>0.0</td>\n",
       "      <td>0.0</td>\n",
       "      <td>0.0</td>\n",
       "      <td>0.0</td>\n",
       "      <td>0.0</td>\n",
       "      <td>0.0</td>\n",
       "      <td>0.0</td>\n",
       "      <td>0</td>\n",
       "      <td>0.18</td>\n",
       "    </tr>\n",
       "    <tr>\n",
       "      <th>2</th>\n",
       "      <td>Допустимо, если информация не нарушает правил ...</td>\n",
       "      <td>0.0</td>\n",
       "      <td>0.0</td>\n",
       "      <td>1.0</td>\n",
       "      <td>0.0</td>\n",
       "      <td>0.0</td>\n",
       "      <td>0.0</td>\n",
       "      <td>0.0</td>\n",
       "      <td>0.0</td>\n",
       "      <td>0.0</td>\n",
       "      <td>...</td>\n",
       "      <td>0.0</td>\n",
       "      <td>0.0</td>\n",
       "      <td>0.0</td>\n",
       "      <td>0.0</td>\n",
       "      <td>0.0</td>\n",
       "      <td>0.0</td>\n",
       "      <td>0.0</td>\n",
       "      <td>0.0</td>\n",
       "      <td>0</td>\n",
       "      <td>0.02</td>\n",
       "    </tr>\n",
       "    <tr>\n",
       "      <th>3</th>\n",
       "      <td>В больницу при приеме на работу тоже мед комис...</td>\n",
       "      <td>0.0</td>\n",
       "      <td>0.0</td>\n",
       "      <td>0.0</td>\n",
       "      <td>0.0</td>\n",
       "      <td>0.0</td>\n",
       "      <td>0.0</td>\n",
       "      <td>0.0</td>\n",
       "      <td>0.0</td>\n",
       "      <td>0.0</td>\n",
       "      <td>...</td>\n",
       "      <td>0.0</td>\n",
       "      <td>1.0</td>\n",
       "      <td>0.0</td>\n",
       "      <td>0.0</td>\n",
       "      <td>0.0</td>\n",
       "      <td>0.0</td>\n",
       "      <td>0.0</td>\n",
       "      <td>0.0</td>\n",
       "      <td>0</td>\n",
       "      <td>0.00</td>\n",
       "    </tr>\n",
       "    <tr>\n",
       "      <th>4</th>\n",
       "      <td>а зачем ты на проураинские митинги выходил? во...</td>\n",
       "      <td>1.0</td>\n",
       "      <td>0.0</td>\n",
       "      <td>0.0</td>\n",
       "      <td>0.0</td>\n",
       "      <td>0.0</td>\n",
       "      <td>0.0</td>\n",
       "      <td>0.0</td>\n",
       "      <td>0.0</td>\n",
       "      <td>0.0</td>\n",
       "      <td>...</td>\n",
       "      <td>0.0</td>\n",
       "      <td>0.0</td>\n",
       "      <td>0.0</td>\n",
       "      <td>1.0</td>\n",
       "      <td>0.0</td>\n",
       "      <td>0.0</td>\n",
       "      <td>0.0</td>\n",
       "      <td>0.0</td>\n",
       "      <td>0</td>\n",
       "      <td>0.40</td>\n",
       "    </tr>\n",
       "  </tbody>\n",
       "</table>\n",
       "<p>5 rows × 22 columns</p>\n",
       "</div>"
      ],
      "text/plain": [
       "                                                text  inappropriate  \\\n",
       "0            Начальники ДК и нынешнего места работы?            0.0   \n",
       "1  Читаю. Драки, грабежи, ДТП. Изредка убийства, ...            1.0   \n",
       "2  Допустимо, если информация не нарушает правил ...            0.0   \n",
       "3  В больницу при приеме на работу тоже мед комис...            0.0   \n",
       "4  а зачем ты на проураинские митинги выходил? во...            1.0   \n",
       "\n",
       "   offline_crime  online_crime  drugs  gambling  pornography  prostitution  \\\n",
       "0            0.0           0.0    0.0       0.0          0.0           0.0   \n",
       "1            1.0           0.0    0.0       0.0          0.0           0.0   \n",
       "2            0.0           1.0    0.0       0.0          0.0           0.0   \n",
       "3            0.0           0.0    0.0       0.0          0.0           0.0   \n",
       "4            0.0           0.0    0.0       0.0          0.0           0.0   \n",
       "\n",
       "   slavery  suicide  ...  body_shaming  health_shaming  politics  racism  \\\n",
       "0      0.0      0.0  ...           0.0             0.0       0.0     0.0   \n",
       "1      0.0      0.0  ...           0.0             0.0       0.0     0.0   \n",
       "2      0.0      0.0  ...           0.0             0.0       0.0     0.0   \n",
       "3      0.0      0.0  ...           0.0             1.0       0.0     0.0   \n",
       "4      0.0      0.0  ...           0.0             0.0       0.0     1.0   \n",
       "\n",
       "   religion  sexual_minorities  sexism  social_injustice  human_labeled  \\\n",
       "0       0.0                0.0     0.0               1.0              0   \n",
       "1       0.0                0.0     0.0               0.0              0   \n",
       "2       0.0                0.0     0.0               0.0              0   \n",
       "3       0.0                0.0     0.0               0.0              0   \n",
       "4       0.0                0.0     0.0               0.0              0   \n",
       "\n",
       "   toxic_auto  \n",
       "0        0.09  \n",
       "1        0.18  \n",
       "2        0.02  \n",
       "3        0.00  \n",
       "4        0.40  \n",
       "\n",
       "[5 rows x 22 columns]"
      ]
     },
     "execution_count": 61,
     "metadata": {},
     "output_type": "execute_result"
    }
   ],
   "source": [
    "df_published.head()"
   ]
  },
  {
   "cell_type": "code",
   "execution_count": 62,
   "metadata": {},
   "outputs": [
    {
     "data": {
      "text/plain": [
       "163312"
      ]
     },
     "execution_count": 62,
     "metadata": {},
     "output_type": "execute_result"
    }
   ],
   "source": [
    "processed_texts_vers2 = set([txt for txt in df_published['text'].tolist()])\n",
    "len(processed_texts_vers2)"
   ]
  },
  {
   "cell_type": "code",
   "execution_count": 63,
   "metadata": {
    "scrolled": true
   },
   "outputs": [
    {
     "data": {
      "text/plain": [
       "15184"
      ]
     },
     "execution_count": 63,
     "metadata": {},
     "output_type": "execute_result"
    }
   ],
   "source": [
    "len(non_processed_texts_new_filtered - processed_texts_vers2)"
   ]
  },
  {
   "cell_type": "code",
   "execution_count": 64,
   "metadata": {},
   "outputs": [],
   "source": [
    "import re\n",
    "def get_len(text):\n",
    "    if len(text.split()) > 5 and len (text)< 250:\n",
    "        return True\n",
    "    return None\n",
    "def is_mostly_russian(text):\n",
    "    text = str(text)\n",
    "    russian_letters_count = len(re.findall(\"[а-яА-Я]\",text))\n",
    "    eng_letters_count = len(re.findall(\"[a-zA-Z]\",text))\n",
    "    if russian_letters_count > eng_letters_count:\n",
    "        return True\n",
    "    return None\n",
    "def depersonalize(text):\n",
    "    text = str(text)\n",
    "    url_regex = r\"(?i)\\b((?:https?://|www\\d{0,3}[.]|[a-z0-9.\\-]+[.][a-z]{2,4}/)(?:[^\\s()<>]+|\\(([^\\s()<>]+|(\\([^\\s()<>]+\\)))*\\))+(?:\\(([^\\s()<>]+|(\\([^\\s()<>]+\\)))*\\)|[^\\s`!()\\[\\]{};:'\\\".,<>?«»“”‘’]))\"\n",
    "    text= re.sub(url_regex, \"url\", text)\n",
    "    text = re.sub(\"id[\\d]*\",'',text)\n",
    "    text = re.sub(\"> ?\",'',text)\n",
    "    text = re.sub(\"@[\\w]*\",'',text)\n",
    "#     text = re.sub(\"\\+[\\d]*\", \"\", text)\n",
    "    text = re.sub(\"[\\d]+\", \"NUMBER\", text)\n",
    "    text = re.sub(\">>\", \"\", text)\n",
    "#     text = re.sub(\"[\\d]{3,100}\", \"\", text)\n",
    "    text = re.sub(\"[\\t|\\n|\\r]\", \"\", text)\n",
    "#     text = re.sub(\"[(OP)|url|nickname|phone_number]\", \"\", text)\n",
    "    return text"
   ]
  },
  {
   "cell_type": "code",
   "execution_count": 65,
   "metadata": {},
   "outputs": [],
   "source": [
    "processed_texts_new_filtered = set([depersonalize(txt) for txt in non_processed_texts_new_filtered])"
   ]
  },
  {
   "cell_type": "code",
   "execution_count": 66,
   "metadata": {},
   "outputs": [
    {
     "data": {
      "text/plain": [
       "{1}"
      ]
     },
     "execution_count": 66,
     "metadata": {},
     "output_type": "execute_result"
    }
   ],
   "source": [
    "a = set([1,2,3])\n",
    "b = set([2,3,4,5,])\n",
    "a - b"
   ]
  },
  {
   "cell_type": "code",
   "execution_count": 67,
   "metadata": {},
   "outputs": [
    {
     "data": {
      "text/plain": [
       "5178"
      ]
     },
     "execution_count": 67,
     "metadata": {},
     "output_type": "execute_result"
    }
   ],
   "source": [
    "len(processed_texts_new_filtered - processed_texts_vers2)"
   ]
  },
  {
   "cell_type": "code",
   "execution_count": 68,
   "metadata": {},
   "outputs": [],
   "source": [
    "df_new_filtered['text'] = df_new_filtered['INPUT:text'].apply(depersonalize)"
   ]
  },
  {
   "cell_type": "code",
   "execution_count": 69,
   "metadata": {},
   "outputs": [],
   "source": [
    "df_new_filtered['direct_map'] = df_new_filtered['text'].isin(processed_texts_vers2)"
   ]
  },
  {
   "cell_type": "code",
   "execution_count": 70,
   "metadata": {},
   "outputs": [
    {
     "data": {
      "text/plain": [
       "Counter({True: 103634, False: 5178})"
      ]
     },
     "execution_count": 70,
     "metadata": {},
     "output_type": "execute_result"
    }
   ],
   "source": [
    "Counter(df_new_filtered['direct_map'])"
   ]
  },
  {
   "cell_type": "markdown",
   "metadata": {},
   "source": [
    "# Там где не нашлись данные"
   ]
  },
  {
   "cell_type": "code",
   "execution_count": 90,
   "metadata": {},
   "outputs": [],
   "source": [
    "df_new_filtered_NO_direct_data = df_new_filtered[df_new_filtered['direct_map'] == False]"
   ]
  },
  {
   "cell_type": "code",
   "execution_count": 111,
   "metadata": {},
   "outputs": [],
   "source": [
    "df_new_filtered_NO_direct_data.to_csv(\"no_direct_data.csv\",index = None)"
   ]
  },
  {
   "cell_type": "code",
   "execution_count": 94,
   "metadata": {},
   "outputs": [],
   "source": [
    "# !pip install transformers"
   ]
  },
  {
   "cell_type": "code",
   "execution_count": 112,
   "metadata": {},
   "outputs": [],
   "source": [
    "df_new_filtered_NO_direct_data = pd.read_csv(\"no_direct_data_autolabeled.csv\")"
   ]
  },
  {
   "cell_type": "code",
   "execution_count": 113,
   "metadata": {},
   "outputs": [
    {
     "data": {
      "text/html": [
       "<div>\n",
       "<style scoped>\n",
       "    .dataframe tbody tr th:only-of-type {\n",
       "        vertical-align: middle;\n",
       "    }\n",
       "\n",
       "    .dataframe tbody tr th {\n",
       "        vertical-align: top;\n",
       "    }\n",
       "\n",
       "    .dataframe thead th {\n",
       "        text-align: right;\n",
       "    }\n",
       "</style>\n",
       "<table border=\"1\" class=\"dataframe\">\n",
       "  <thead>\n",
       "    <tr style=\"text-align: right;\">\n",
       "      <th></th>\n",
       "      <th>INPUT:text</th>\n",
       "      <th>OUTPUT:result</th>\n",
       "      <th>CONFIDENCE:result</th>\n",
       "      <th>text</th>\n",
       "      <th>direct_map</th>\n",
       "      <th>onerow_multi</th>\n",
       "    </tr>\n",
       "  </thead>\n",
       "  <tbody>\n",
       "    <tr>\n",
       "      <th>0</th>\n",
       "      <td>Алкоголь для быдла. Уж если начинать то с героина</td>\n",
       "      <td>yes</td>\n",
       "      <td>0.9999</td>\n",
       "      <td>Алкоголь для быдла. Уж если начинать то с героина</td>\n",
       "      <td>False</td>\n",
       "      <td>drugs</td>\n",
       "    </tr>\n",
       "    <tr>\n",
       "      <th>1</th>\n",
       "      <td>Возьми лучше вместо плодовитых ещё декадентов,...</td>\n",
       "      <td>yes</td>\n",
       "      <td>0.9982</td>\n",
       "      <td>Возьми лучше вместо плодовитых ещё декадентов,...</td>\n",
       "      <td>False</td>\n",
       "      <td>slavery</td>\n",
       "    </tr>\n",
       "    <tr>\n",
       "      <th>2</th>\n",
       "      <td>В рашке у баб по закону больше прав, чем у муж...</td>\n",
       "      <td>yes</td>\n",
       "      <td>0.9999</td>\n",
       "      <td>В рашке у баб по закону больше прав, чем у муж...</td>\n",
       "      <td>False</td>\n",
       "      <td>sexism</td>\n",
       "    </tr>\n",
       "    <tr>\n",
       "      <th>3</th>\n",
       "      <td>ладнокогда тебе в очко засунут шампанское, ста...</td>\n",
       "      <td>yes</td>\n",
       "      <td>0.9995</td>\n",
       "      <td>ладнокогда тебе в очко засунут шампанское, ста...</td>\n",
       "      <td>False</td>\n",
       "      <td>pornography</td>\n",
       "    </tr>\n",
       "    <tr>\n",
       "      <th>4</th>\n",
       "      <td>А про фроську - одногдазые проститутки</td>\n",
       "      <td>yes</td>\n",
       "      <td>0.9997</td>\n",
       "      <td>А про фроську - одногдазые проститутки</td>\n",
       "      <td>False</td>\n",
       "      <td>prostitution</td>\n",
       "    </tr>\n",
       "  </tbody>\n",
       "</table>\n",
       "</div>"
      ],
      "text/plain": [
       "                                          INPUT:text OUTPUT:result  \\\n",
       "0  Алкоголь для быдла. Уж если начинать то с героина           yes   \n",
       "1  Возьми лучше вместо плодовитых ещё декадентов,...           yes   \n",
       "2  В рашке у баб по закону больше прав, чем у муж...           yes   \n",
       "3  ладнокогда тебе в очко засунут шампанское, ста...           yes   \n",
       "4             А про фроську - одногдазые проститутки           yes   \n",
       "\n",
       "   CONFIDENCE:result                                               text  \\\n",
       "0             0.9999  Алкоголь для быдла. Уж если начинать то с героина   \n",
       "1             0.9982  Возьми лучше вместо плодовитых ещё декадентов,...   \n",
       "2             0.9999  В рашке у баб по закону больше прав, чем у муж...   \n",
       "3             0.9995  ладнокогда тебе в очко засунут шампанское, ста...   \n",
       "4             0.9997             А про фроську - одногдазые проститутки   \n",
       "\n",
       "   direct_map  onerow_multi  \n",
       "0       False         drugs  \n",
       "1       False       slavery  \n",
       "2       False        sexism  \n",
       "3       False   pornography  \n",
       "4       False  prostitution  "
      ]
     },
     "execution_count": 113,
     "metadata": {},
     "output_type": "execute_result"
    }
   ],
   "source": [
    "df_new_filtered_NO_direct_data.head()"
   ]
  },
  {
   "cell_type": "code",
   "execution_count": 118,
   "metadata": {},
   "outputs": [],
   "source": [
    "# set(df_new_filtered_NO_direct_data['onerow_multi'])"
   ]
  },
  {
   "cell_type": "code",
   "execution_count": 115,
   "metadata": {},
   "outputs": [],
   "source": [
    "topics = ['offline_crime', 'online_crime', 'drugs', 'gambling', 'pornography',\n",
    "       'prostitution', 'slavery', 'suicide', 'terrorism', 'weapons',\n",
    "       'body_shaming', 'health_shaming', 'politics', 'racism', 'religion',\n",
    "       'sexual_minorities', 'sexism', 'social_injustice']"
   ]
  },
  {
   "cell_type": "code",
   "execution_count": 121,
   "metadata": {},
   "outputs": [],
   "source": [
    "data_append = []\n",
    "for  _,el in df_new_filtered_NO_direct_data.iterrows():\n",
    "    current_topic_list = [0]*len(topics)\n",
    "    current_topic_list.extend([0,0])\n",
    "    current_elemen_topics = el['onerow_multi'].split(',')\n",
    "    for t in current_elemen_topics:\n",
    "        if t == 'none': continue\n",
    "        current_topic_list[topics.index(t)] = 1\n",
    "    data_append.append(current_topic_list)"
   ]
  },
  {
   "cell_type": "code",
   "execution_count": 122,
   "metadata": {},
   "outputs": [
    {
     "data": {
      "text/plain": [
       "[[0, 0, 1, 0, 0, 0, 0, 0, 0, 0, 0, 0, 0, 0, 0, 0, 0, 0, 0, 0],\n",
       " [0, 0, 0, 0, 0, 0, 1, 0, 0, 0, 0, 0, 0, 0, 0, 0, 0, 0, 0, 0]]"
      ]
     },
     "execution_count": 122,
     "metadata": {},
     "output_type": "execute_result"
    }
   ],
   "source": [
    "data_append[:2]"
   ]
  },
  {
   "cell_type": "code",
   "execution_count": 123,
   "metadata": {},
   "outputs": [],
   "source": [
    "df_append = pd.DataFrame(data = data_append, columns = topics + ['human_labeled', 'toxic_auto'])"
   ]
  },
  {
   "cell_type": "code",
   "execution_count": 124,
   "metadata": {},
   "outputs": [
    {
     "data": {
      "text/html": [
       "<div>\n",
       "<style scoped>\n",
       "    .dataframe tbody tr th:only-of-type {\n",
       "        vertical-align: middle;\n",
       "    }\n",
       "\n",
       "    .dataframe tbody tr th {\n",
       "        vertical-align: top;\n",
       "    }\n",
       "\n",
       "    .dataframe thead th {\n",
       "        text-align: right;\n",
       "    }\n",
       "</style>\n",
       "<table border=\"1\" class=\"dataframe\">\n",
       "  <thead>\n",
       "    <tr style=\"text-align: right;\">\n",
       "      <th></th>\n",
       "      <th>offline_crime</th>\n",
       "      <th>online_crime</th>\n",
       "      <th>drugs</th>\n",
       "      <th>gambling</th>\n",
       "      <th>pornography</th>\n",
       "      <th>prostitution</th>\n",
       "      <th>slavery</th>\n",
       "      <th>suicide</th>\n",
       "      <th>terrorism</th>\n",
       "      <th>weapons</th>\n",
       "      <th>body_shaming</th>\n",
       "      <th>health_shaming</th>\n",
       "      <th>politics</th>\n",
       "      <th>racism</th>\n",
       "      <th>religion</th>\n",
       "      <th>sexual_minorities</th>\n",
       "      <th>sexism</th>\n",
       "      <th>social_injustice</th>\n",
       "      <th>human_labeled</th>\n",
       "      <th>toxic_auto</th>\n",
       "    </tr>\n",
       "  </thead>\n",
       "  <tbody>\n",
       "    <tr>\n",
       "      <th>0</th>\n",
       "      <td>0</td>\n",
       "      <td>0</td>\n",
       "      <td>1</td>\n",
       "      <td>0</td>\n",
       "      <td>0</td>\n",
       "      <td>0</td>\n",
       "      <td>0</td>\n",
       "      <td>0</td>\n",
       "      <td>0</td>\n",
       "      <td>0</td>\n",
       "      <td>0</td>\n",
       "      <td>0</td>\n",
       "      <td>0</td>\n",
       "      <td>0</td>\n",
       "      <td>0</td>\n",
       "      <td>0</td>\n",
       "      <td>0</td>\n",
       "      <td>0</td>\n",
       "      <td>0</td>\n",
       "      <td>0</td>\n",
       "    </tr>\n",
       "    <tr>\n",
       "      <th>1</th>\n",
       "      <td>0</td>\n",
       "      <td>0</td>\n",
       "      <td>0</td>\n",
       "      <td>0</td>\n",
       "      <td>0</td>\n",
       "      <td>0</td>\n",
       "      <td>1</td>\n",
       "      <td>0</td>\n",
       "      <td>0</td>\n",
       "      <td>0</td>\n",
       "      <td>0</td>\n",
       "      <td>0</td>\n",
       "      <td>0</td>\n",
       "      <td>0</td>\n",
       "      <td>0</td>\n",
       "      <td>0</td>\n",
       "      <td>0</td>\n",
       "      <td>0</td>\n",
       "      <td>0</td>\n",
       "      <td>0</td>\n",
       "    </tr>\n",
       "    <tr>\n",
       "      <th>2</th>\n",
       "      <td>0</td>\n",
       "      <td>0</td>\n",
       "      <td>0</td>\n",
       "      <td>0</td>\n",
       "      <td>0</td>\n",
       "      <td>0</td>\n",
       "      <td>0</td>\n",
       "      <td>0</td>\n",
       "      <td>0</td>\n",
       "      <td>0</td>\n",
       "      <td>0</td>\n",
       "      <td>0</td>\n",
       "      <td>0</td>\n",
       "      <td>0</td>\n",
       "      <td>0</td>\n",
       "      <td>0</td>\n",
       "      <td>1</td>\n",
       "      <td>0</td>\n",
       "      <td>0</td>\n",
       "      <td>0</td>\n",
       "    </tr>\n",
       "    <tr>\n",
       "      <th>3</th>\n",
       "      <td>0</td>\n",
       "      <td>0</td>\n",
       "      <td>0</td>\n",
       "      <td>0</td>\n",
       "      <td>1</td>\n",
       "      <td>0</td>\n",
       "      <td>0</td>\n",
       "      <td>0</td>\n",
       "      <td>0</td>\n",
       "      <td>0</td>\n",
       "      <td>0</td>\n",
       "      <td>0</td>\n",
       "      <td>0</td>\n",
       "      <td>0</td>\n",
       "      <td>0</td>\n",
       "      <td>0</td>\n",
       "      <td>0</td>\n",
       "      <td>0</td>\n",
       "      <td>0</td>\n",
       "      <td>0</td>\n",
       "    </tr>\n",
       "    <tr>\n",
       "      <th>4</th>\n",
       "      <td>0</td>\n",
       "      <td>0</td>\n",
       "      <td>0</td>\n",
       "      <td>0</td>\n",
       "      <td>0</td>\n",
       "      <td>1</td>\n",
       "      <td>0</td>\n",
       "      <td>0</td>\n",
       "      <td>0</td>\n",
       "      <td>0</td>\n",
       "      <td>0</td>\n",
       "      <td>0</td>\n",
       "      <td>0</td>\n",
       "      <td>0</td>\n",
       "      <td>0</td>\n",
       "      <td>0</td>\n",
       "      <td>0</td>\n",
       "      <td>0</td>\n",
       "      <td>0</td>\n",
       "      <td>0</td>\n",
       "    </tr>\n",
       "  </tbody>\n",
       "</table>\n",
       "</div>"
      ],
      "text/plain": [
       "   offline_crime  online_crime  drugs  gambling  pornography  prostitution  \\\n",
       "0              0             0      1         0            0             0   \n",
       "1              0             0      0         0            0             0   \n",
       "2              0             0      0         0            0             0   \n",
       "3              0             0      0         0            1             0   \n",
       "4              0             0      0         0            0             1   \n",
       "\n",
       "   slavery  suicide  terrorism  weapons  body_shaming  health_shaming  \\\n",
       "0        0        0          0        0             0               0   \n",
       "1        1        0          0        0             0               0   \n",
       "2        0        0          0        0             0               0   \n",
       "3        0        0          0        0             0               0   \n",
       "4        0        0          0        0             0               0   \n",
       "\n",
       "   politics  racism  religion  sexual_minorities  sexism  social_injustice  \\\n",
       "0         0       0         0                  0       0                 0   \n",
       "1         0       0         0                  0       0                 0   \n",
       "2         0       0         0                  0       1                 0   \n",
       "3         0       0         0                  0       0                 0   \n",
       "4         0       0         0                  0       0                 0   \n",
       "\n",
       "   human_labeled  toxic_auto  \n",
       "0              0           0  \n",
       "1              0           0  \n",
       "2              0           0  \n",
       "3              0           0  \n",
       "4              0           0  "
      ]
     },
     "execution_count": 124,
     "metadata": {},
     "output_type": "execute_result"
    }
   ],
   "source": [
    "df_append.head()"
   ]
  },
  {
   "cell_type": "code",
   "execution_count": 125,
   "metadata": {},
   "outputs": [],
   "source": [
    "df_new_filtered_NO_direct_data = pd.concat([df_new_filtered_NO_direct_data,df_append], axis = 1)"
   ]
  },
  {
   "cell_type": "code",
   "execution_count": 126,
   "metadata": {},
   "outputs": [
    {
     "data": {
      "text/html": [
       "<div>\n",
       "<style scoped>\n",
       "    .dataframe tbody tr th:only-of-type {\n",
       "        vertical-align: middle;\n",
       "    }\n",
       "\n",
       "    .dataframe tbody tr th {\n",
       "        vertical-align: top;\n",
       "    }\n",
       "\n",
       "    .dataframe thead th {\n",
       "        text-align: right;\n",
       "    }\n",
       "</style>\n",
       "<table border=\"1\" class=\"dataframe\">\n",
       "  <thead>\n",
       "    <tr style=\"text-align: right;\">\n",
       "      <th></th>\n",
       "      <th>INPUT:text</th>\n",
       "      <th>OUTPUT:result</th>\n",
       "      <th>CONFIDENCE:result</th>\n",
       "      <th>text</th>\n",
       "      <th>direct_map</th>\n",
       "      <th>onerow_multi</th>\n",
       "      <th>offline_crime</th>\n",
       "      <th>online_crime</th>\n",
       "      <th>drugs</th>\n",
       "      <th>gambling</th>\n",
       "      <th>...</th>\n",
       "      <th>body_shaming</th>\n",
       "      <th>health_shaming</th>\n",
       "      <th>politics</th>\n",
       "      <th>racism</th>\n",
       "      <th>religion</th>\n",
       "      <th>sexual_minorities</th>\n",
       "      <th>sexism</th>\n",
       "      <th>social_injustice</th>\n",
       "      <th>human_labeled</th>\n",
       "      <th>toxic_auto</th>\n",
       "    </tr>\n",
       "  </thead>\n",
       "  <tbody>\n",
       "    <tr>\n",
       "      <th>0</th>\n",
       "      <td>Алкоголь для быдла. Уж если начинать то с героина</td>\n",
       "      <td>yes</td>\n",
       "      <td>0.9999</td>\n",
       "      <td>Алкоголь для быдла. Уж если начинать то с героина</td>\n",
       "      <td>False</td>\n",
       "      <td>drugs</td>\n",
       "      <td>0</td>\n",
       "      <td>0</td>\n",
       "      <td>1</td>\n",
       "      <td>0</td>\n",
       "      <td>...</td>\n",
       "      <td>0</td>\n",
       "      <td>0</td>\n",
       "      <td>0</td>\n",
       "      <td>0</td>\n",
       "      <td>0</td>\n",
       "      <td>0</td>\n",
       "      <td>0</td>\n",
       "      <td>0</td>\n",
       "      <td>0</td>\n",
       "      <td>0</td>\n",
       "    </tr>\n",
       "    <tr>\n",
       "      <th>1</th>\n",
       "      <td>Возьми лучше вместо плодовитых ещё декадентов,...</td>\n",
       "      <td>yes</td>\n",
       "      <td>0.9982</td>\n",
       "      <td>Возьми лучше вместо плодовитых ещё декадентов,...</td>\n",
       "      <td>False</td>\n",
       "      <td>slavery</td>\n",
       "      <td>0</td>\n",
       "      <td>0</td>\n",
       "      <td>0</td>\n",
       "      <td>0</td>\n",
       "      <td>...</td>\n",
       "      <td>0</td>\n",
       "      <td>0</td>\n",
       "      <td>0</td>\n",
       "      <td>0</td>\n",
       "      <td>0</td>\n",
       "      <td>0</td>\n",
       "      <td>0</td>\n",
       "      <td>0</td>\n",
       "      <td>0</td>\n",
       "      <td>0</td>\n",
       "    </tr>\n",
       "    <tr>\n",
       "      <th>2</th>\n",
       "      <td>В рашке у баб по закону больше прав, чем у муж...</td>\n",
       "      <td>yes</td>\n",
       "      <td>0.9999</td>\n",
       "      <td>В рашке у баб по закону больше прав, чем у муж...</td>\n",
       "      <td>False</td>\n",
       "      <td>sexism</td>\n",
       "      <td>0</td>\n",
       "      <td>0</td>\n",
       "      <td>0</td>\n",
       "      <td>0</td>\n",
       "      <td>...</td>\n",
       "      <td>0</td>\n",
       "      <td>0</td>\n",
       "      <td>0</td>\n",
       "      <td>0</td>\n",
       "      <td>0</td>\n",
       "      <td>0</td>\n",
       "      <td>1</td>\n",
       "      <td>0</td>\n",
       "      <td>0</td>\n",
       "      <td>0</td>\n",
       "    </tr>\n",
       "    <tr>\n",
       "      <th>3</th>\n",
       "      <td>ладнокогда тебе в очко засунут шампанское, ста...</td>\n",
       "      <td>yes</td>\n",
       "      <td>0.9995</td>\n",
       "      <td>ладнокогда тебе в очко засунут шампанское, ста...</td>\n",
       "      <td>False</td>\n",
       "      <td>pornography</td>\n",
       "      <td>0</td>\n",
       "      <td>0</td>\n",
       "      <td>0</td>\n",
       "      <td>0</td>\n",
       "      <td>...</td>\n",
       "      <td>0</td>\n",
       "      <td>0</td>\n",
       "      <td>0</td>\n",
       "      <td>0</td>\n",
       "      <td>0</td>\n",
       "      <td>0</td>\n",
       "      <td>0</td>\n",
       "      <td>0</td>\n",
       "      <td>0</td>\n",
       "      <td>0</td>\n",
       "    </tr>\n",
       "    <tr>\n",
       "      <th>4</th>\n",
       "      <td>А про фроську - одногдазые проститутки</td>\n",
       "      <td>yes</td>\n",
       "      <td>0.9997</td>\n",
       "      <td>А про фроську - одногдазые проститутки</td>\n",
       "      <td>False</td>\n",
       "      <td>prostitution</td>\n",
       "      <td>0</td>\n",
       "      <td>0</td>\n",
       "      <td>0</td>\n",
       "      <td>0</td>\n",
       "      <td>...</td>\n",
       "      <td>0</td>\n",
       "      <td>0</td>\n",
       "      <td>0</td>\n",
       "      <td>0</td>\n",
       "      <td>0</td>\n",
       "      <td>0</td>\n",
       "      <td>0</td>\n",
       "      <td>0</td>\n",
       "      <td>0</td>\n",
       "      <td>0</td>\n",
       "    </tr>\n",
       "  </tbody>\n",
       "</table>\n",
       "<p>5 rows × 26 columns</p>\n",
       "</div>"
      ],
      "text/plain": [
       "                                          INPUT:text OUTPUT:result  \\\n",
       "0  Алкоголь для быдла. Уж если начинать то с героина           yes   \n",
       "1  Возьми лучше вместо плодовитых ещё декадентов,...           yes   \n",
       "2  В рашке у баб по закону больше прав, чем у муж...           yes   \n",
       "3  ладнокогда тебе в очко засунут шампанское, ста...           yes   \n",
       "4             А про фроську - одногдазые проститутки           yes   \n",
       "\n",
       "   CONFIDENCE:result                                               text  \\\n",
       "0             0.9999  Алкоголь для быдла. Уж если начинать то с героина   \n",
       "1             0.9982  Возьми лучше вместо плодовитых ещё декадентов,...   \n",
       "2             0.9999  В рашке у баб по закону больше прав, чем у муж...   \n",
       "3             0.9995  ладнокогда тебе в очко засунут шампанское, ста...   \n",
       "4             0.9997             А про фроську - одногдазые проститутки   \n",
       "\n",
       "   direct_map  onerow_multi  offline_crime  online_crime  drugs  gambling  \\\n",
       "0       False         drugs              0             0      1         0   \n",
       "1       False       slavery              0             0      0         0   \n",
       "2       False        sexism              0             0      0         0   \n",
       "3       False   pornography              0             0      0         0   \n",
       "4       False  prostitution              0             0      0         0   \n",
       "\n",
       "   ...  body_shaming  health_shaming  politics  racism  religion  \\\n",
       "0  ...             0               0         0       0         0   \n",
       "1  ...             0               0         0       0         0   \n",
       "2  ...             0               0         0       0         0   \n",
       "3  ...             0               0         0       0         0   \n",
       "4  ...             0               0         0       0         0   \n",
       "\n",
       "   sexual_minorities  sexism  social_injustice  human_labeled  toxic_auto  \n",
       "0                  0       0                 0              0           0  \n",
       "1                  0       0                 0              0           0  \n",
       "2                  0       1                 0              0           0  \n",
       "3                  0       0                 0              0           0  \n",
       "4                  0       0                 0              0           0  \n",
       "\n",
       "[5 rows x 26 columns]"
      ]
     },
     "execution_count": 126,
     "metadata": {},
     "output_type": "execute_result"
    }
   ],
   "source": [
    "df_new_filtered_NO_direct_data.head()"
   ]
  },
  {
   "cell_type": "markdown",
   "metadata": {},
   "source": [
    "# Там где есть просто мапящиеся метаданные"
   ]
  },
  {
   "cell_type": "code",
   "execution_count": 71,
   "metadata": {},
   "outputs": [],
   "source": [
    "df_new_filtered_with_direct_data = df_new_filtered[df_new_filtered['direct_map'] == True]"
   ]
  },
  {
   "cell_type": "code",
   "execution_count": 72,
   "metadata": {},
   "outputs": [
    {
     "data": {
      "text/html": [
       "<div>\n",
       "<style scoped>\n",
       "    .dataframe tbody tr th:only-of-type {\n",
       "        vertical-align: middle;\n",
       "    }\n",
       "\n",
       "    .dataframe tbody tr th {\n",
       "        vertical-align: top;\n",
       "    }\n",
       "\n",
       "    .dataframe thead th {\n",
       "        text-align: right;\n",
       "    }\n",
       "</style>\n",
       "<table border=\"1\" class=\"dataframe\">\n",
       "  <thead>\n",
       "    <tr style=\"text-align: right;\">\n",
       "      <th></th>\n",
       "      <th>INPUT:text</th>\n",
       "      <th>OUTPUT:result</th>\n",
       "      <th>CONFIDENCE:result</th>\n",
       "      <th>text</th>\n",
       "      <th>direct_map</th>\n",
       "    </tr>\n",
       "  </thead>\n",
       "  <tbody>\n",
       "    <tr>\n",
       "      <th>0</th>\n",
       "      <td>только проституции, а не порно, толстяк</td>\n",
       "      <td>yes</td>\n",
       "      <td>0.9995</td>\n",
       "      <td>только проституции, а не порно, толстяк</td>\n",
       "      <td>True</td>\n",
       "    </tr>\n",
       "    <tr>\n",
       "      <th>1</th>\n",
       "      <td>- Как Вы боритесь от навязчивых грешных мыслях...</td>\n",
       "      <td>no</td>\n",
       "      <td>0.9734</td>\n",
       "      <td>- Как Вы боритесь от навязчивых грешных мыслях...</td>\n",
       "      <td>True</td>\n",
       "    </tr>\n",
       "    <tr>\n",
       "      <th>2</th>\n",
       "      <td>Куда можно пойти работать в 12 лет? очень нужн...</td>\n",
       "      <td>no</td>\n",
       "      <td>0.9991</td>\n",
       "      <td>Куда можно пойти работать в NUMBER лет? очень ...</td>\n",
       "      <td>True</td>\n",
       "    </tr>\n",
       "    <tr>\n",
       "      <th>3</th>\n",
       "      <td>торговля людьми, оружием и наркотиками простит...</td>\n",
       "      <td>yes</td>\n",
       "      <td>0.9999</td>\n",
       "      <td>торговля людьми, оружием и наркотиками простит...</td>\n",
       "      <td>True</td>\n",
       "    </tr>\n",
       "    <tr>\n",
       "      <th>4</th>\n",
       "      <td>Новость про порно без фулла как секс без женщины</td>\n",
       "      <td>yes</td>\n",
       "      <td>0.9966</td>\n",
       "      <td>Новость про порно без фулла как секс без женщины</td>\n",
       "      <td>True</td>\n",
       "    </tr>\n",
       "  </tbody>\n",
       "</table>\n",
       "</div>"
      ],
      "text/plain": [
       "                                          INPUT:text OUTPUT:result  \\\n",
       "0            только проституции, а не порно, толстяк           yes   \n",
       "1  - Как Вы боритесь от навязчивых грешных мыслях...            no   \n",
       "2  Куда можно пойти работать в 12 лет? очень нужн...            no   \n",
       "3  торговля людьми, оружием и наркотиками простит...           yes   \n",
       "4   Новость про порно без фулла как секс без женщины           yes   \n",
       "\n",
       "   CONFIDENCE:result                                               text  \\\n",
       "0             0.9995            только проституции, а не порно, толстяк   \n",
       "1             0.9734  - Как Вы боритесь от навязчивых грешных мыслях...   \n",
       "2             0.9991  Куда можно пойти работать в NUMBER лет? очень ...   \n",
       "3             0.9999  торговля людьми, оружием и наркотиками простит...   \n",
       "4             0.9966   Новость про порно без фулла как секс без женщины   \n",
       "\n",
       "   direct_map  \n",
       "0        True  \n",
       "1        True  \n",
       "2        True  \n",
       "3        True  \n",
       "4        True  "
      ]
     },
     "execution_count": 72,
     "metadata": {},
     "output_type": "execute_result"
    }
   ],
   "source": [
    "df_new_filtered_with_direct_data.head()"
   ]
  },
  {
   "cell_type": "code",
   "execution_count": 73,
   "metadata": {},
   "outputs": [],
   "source": [
    "df_new_filtered_with_direct_data_merged = df_new_filtered_with_direct_data.merge(df_published, how = 'left',on = 'text')"
   ]
  },
  {
   "cell_type": "code",
   "execution_count": 74,
   "metadata": {},
   "outputs": [
    {
     "data": {
      "text/plain": [
       "103634"
      ]
     },
     "execution_count": 74,
     "metadata": {},
     "output_type": "execute_result"
    }
   ],
   "source": [
    "len(df_new_filtered_with_direct_data_merged)"
   ]
  },
  {
   "cell_type": "code",
   "execution_count": 114,
   "metadata": {},
   "outputs": [
    {
     "data": {
      "text/plain": [
       "Index(['INPUT:text', 'OUTPUT:result', 'CONFIDENCE:result', 'text',\n",
       "       'direct_map', 'inappropriate', 'offline_crime', 'online_crime', 'drugs',\n",
       "       'gambling', 'pornography', 'prostitution', 'slavery', 'suicide',\n",
       "       'terrorism', 'weapons', 'body_shaming', 'health_shaming', 'politics',\n",
       "       'racism', 'religion', 'sexual_minorities', 'sexism', 'social_injustice',\n",
       "       'human_labeled', 'toxic_auto'],\n",
       "      dtype='object')"
      ]
     },
     "execution_count": 114,
     "metadata": {},
     "output_type": "execute_result"
    }
   ],
   "source": [
    "df_new_filtered_with_direct_data_merged.columns"
   ]
  },
  {
   "cell_type": "code",
   "execution_count": 132,
   "metadata": {},
   "outputs": [
    {
     "data": {
      "text/html": [
       "<div>\n",
       "<style scoped>\n",
       "    .dataframe tbody tr th:only-of-type {\n",
       "        vertical-align: middle;\n",
       "    }\n",
       "\n",
       "    .dataframe tbody tr th {\n",
       "        vertical-align: top;\n",
       "    }\n",
       "\n",
       "    .dataframe thead th {\n",
       "        text-align: right;\n",
       "    }\n",
       "</style>\n",
       "<table border=\"1\" class=\"dataframe\">\n",
       "  <thead>\n",
       "    <tr style=\"text-align: right;\">\n",
       "      <th></th>\n",
       "      <th>INPUT:text</th>\n",
       "      <th>OUTPUT:result</th>\n",
       "      <th>CONFIDENCE:result</th>\n",
       "      <th>text</th>\n",
       "      <th>direct_map</th>\n",
       "      <th>inappropriate</th>\n",
       "      <th>offline_crime</th>\n",
       "      <th>online_crime</th>\n",
       "      <th>drugs</th>\n",
       "      <th>gambling</th>\n",
       "      <th>...</th>\n",
       "      <th>body_shaming</th>\n",
       "      <th>health_shaming</th>\n",
       "      <th>politics</th>\n",
       "      <th>racism</th>\n",
       "      <th>religion</th>\n",
       "      <th>sexual_minorities</th>\n",
       "      <th>sexism</th>\n",
       "      <th>social_injustice</th>\n",
       "      <th>human_labeled</th>\n",
       "      <th>toxic_auto</th>\n",
       "    </tr>\n",
       "  </thead>\n",
       "  <tbody>\n",
       "    <tr>\n",
       "      <th>32867</th>\n",
       "      <td>Только со счастливой концовкой. Где его казнят...</td>\n",
       "      <td>no</td>\n",
       "      <td>0.9924</td>\n",
       "      <td>Только со счастливой концовкой. Где его казнят...</td>\n",
       "      <td>True</td>\n",
       "      <td>0.0</td>\n",
       "      <td>1.0</td>\n",
       "      <td>0.0</td>\n",
       "      <td>0.0</td>\n",
       "      <td>0.0</td>\n",
       "      <td>...</td>\n",
       "      <td>0.0</td>\n",
       "      <td>0.0</td>\n",
       "      <td>0.0</td>\n",
       "      <td>0.0</td>\n",
       "      <td>0.0</td>\n",
       "      <td>0.0</td>\n",
       "      <td>0.0</td>\n",
       "      <td>0.0</td>\n",
       "      <td>0</td>\n",
       "      <td>0.24</td>\n",
       "    </tr>\n",
       "    <tr>\n",
       "      <th>26329</th>\n",
       "      <td>Суицид в молодежной среде-противоречиво написа...</td>\n",
       "      <td>no</td>\n",
       "      <td>0.9859</td>\n",
       "      <td>Суицид в молодежной среде-противоречиво написа...</td>\n",
       "      <td>True</td>\n",
       "      <td>0.0</td>\n",
       "      <td>0.0</td>\n",
       "      <td>0.0</td>\n",
       "      <td>0.0</td>\n",
       "      <td>0.0</td>\n",
       "      <td>...</td>\n",
       "      <td>0.0</td>\n",
       "      <td>0.0</td>\n",
       "      <td>0.0</td>\n",
       "      <td>0.0</td>\n",
       "      <td>0.0</td>\n",
       "      <td>0.0</td>\n",
       "      <td>0.0</td>\n",
       "      <td>0.0</td>\n",
       "      <td>1</td>\n",
       "      <td>0.01</td>\n",
       "    </tr>\n",
       "    <tr>\n",
       "      <th>20333</th>\n",
       "      <td>Так то ж через 3 месяца произошло, а уходили -...</td>\n",
       "      <td>no</td>\n",
       "      <td>0.9928</td>\n",
       "      <td>Так то ж через NUMBER месяца произошло, а уход...</td>\n",
       "      <td>True</td>\n",
       "      <td>0.0</td>\n",
       "      <td>0.0</td>\n",
       "      <td>0.0</td>\n",
       "      <td>0.0</td>\n",
       "      <td>0.0</td>\n",
       "      <td>...</td>\n",
       "      <td>0.0</td>\n",
       "      <td>0.0</td>\n",
       "      <td>0.0</td>\n",
       "      <td>0.0</td>\n",
       "      <td>0.0</td>\n",
       "      <td>0.0</td>\n",
       "      <td>0.0</td>\n",
       "      <td>0.0</td>\n",
       "      <td>0</td>\n",
       "      <td>0.00</td>\n",
       "    </tr>\n",
       "    <tr>\n",
       "      <th>37994</th>\n",
       "      <td>Скачиваем с торрента вот здесь Скрытый текст:Д...</td>\n",
       "      <td>yes</td>\n",
       "      <td>0.9953</td>\n",
       "      <td>Скачиваем с торрента вот здесь Скрытый текст:Д...</td>\n",
       "      <td>True</td>\n",
       "      <td>1.0</td>\n",
       "      <td>0.0</td>\n",
       "      <td>1.0</td>\n",
       "      <td>0.0</td>\n",
       "      <td>0.0</td>\n",
       "      <td>...</td>\n",
       "      <td>0.0</td>\n",
       "      <td>0.0</td>\n",
       "      <td>0.0</td>\n",
       "      <td>0.0</td>\n",
       "      <td>0.0</td>\n",
       "      <td>0.0</td>\n",
       "      <td>0.0</td>\n",
       "      <td>0.0</td>\n",
       "      <td>1</td>\n",
       "      <td>0.13</td>\n",
       "    </tr>\n",
       "    <tr>\n",
       "      <th>4118</th>\n",
       "      <td>То есть разделения на женские и мужские дела н...</td>\n",
       "      <td>no</td>\n",
       "      <td>0.9980</td>\n",
       "      <td>То есть разделения на женские и мужские дела н...</td>\n",
       "      <td>True</td>\n",
       "      <td>0.0</td>\n",
       "      <td>0.0</td>\n",
       "      <td>0.0</td>\n",
       "      <td>0.0</td>\n",
       "      <td>0.0</td>\n",
       "      <td>...</td>\n",
       "      <td>0.0</td>\n",
       "      <td>0.0</td>\n",
       "      <td>0.0</td>\n",
       "      <td>0.0</td>\n",
       "      <td>0.0</td>\n",
       "      <td>0.0</td>\n",
       "      <td>0.0</td>\n",
       "      <td>0.0</td>\n",
       "      <td>0</td>\n",
       "      <td>0.01</td>\n",
       "    </tr>\n",
       "    <tr>\n",
       "      <th>65184</th>\n",
       "      <td>От слов что, \"бедность - опора Путина\" так стр...</td>\n",
       "      <td>yes</td>\n",
       "      <td>0.9977</td>\n",
       "      <td>От слов что, \"бедность - опора Путина\" так стр...</td>\n",
       "      <td>True</td>\n",
       "      <td>1.0</td>\n",
       "      <td>0.0</td>\n",
       "      <td>0.0</td>\n",
       "      <td>0.0</td>\n",
       "      <td>0.0</td>\n",
       "      <td>...</td>\n",
       "      <td>0.0</td>\n",
       "      <td>0.0</td>\n",
       "      <td>0.0</td>\n",
       "      <td>0.0</td>\n",
       "      <td>0.0</td>\n",
       "      <td>0.0</td>\n",
       "      <td>0.0</td>\n",
       "      <td>1.0</td>\n",
       "      <td>1</td>\n",
       "      <td>0.19</td>\n",
       "    </tr>\n",
       "    <tr>\n",
       "      <th>50246</th>\n",
       "      <td>русский мир от гниющих экономик европы и америки</td>\n",
       "      <td>yes</td>\n",
       "      <td>0.9966</td>\n",
       "      <td>русский мир от гниющих экономик европы и америки</td>\n",
       "      <td>True</td>\n",
       "      <td>1.0</td>\n",
       "      <td>0.0</td>\n",
       "      <td>0.0</td>\n",
       "      <td>0.0</td>\n",
       "      <td>0.0</td>\n",
       "      <td>...</td>\n",
       "      <td>0.0</td>\n",
       "      <td>0.0</td>\n",
       "      <td>1.0</td>\n",
       "      <td>0.0</td>\n",
       "      <td>0.0</td>\n",
       "      <td>0.0</td>\n",
       "      <td>0.0</td>\n",
       "      <td>1.0</td>\n",
       "      <td>0</td>\n",
       "      <td>0.06</td>\n",
       "    </tr>\n",
       "    <tr>\n",
       "      <th>32464</th>\n",
       "      <td>Кого вы бы назвали самым красивым актером в ис...</td>\n",
       "      <td>no</td>\n",
       "      <td>0.9994</td>\n",
       "      <td>Кого вы бы назвали самым красивым актером в ис...</td>\n",
       "      <td>True</td>\n",
       "      <td>0.0</td>\n",
       "      <td>0.0</td>\n",
       "      <td>0.0</td>\n",
       "      <td>0.0</td>\n",
       "      <td>0.0</td>\n",
       "      <td>...</td>\n",
       "      <td>1.0</td>\n",
       "      <td>0.0</td>\n",
       "      <td>0.0</td>\n",
       "      <td>0.0</td>\n",
       "      <td>0.0</td>\n",
       "      <td>0.0</td>\n",
       "      <td>0.0</td>\n",
       "      <td>0.0</td>\n",
       "      <td>0</td>\n",
       "      <td>0.11</td>\n",
       "    </tr>\n",
       "    <tr>\n",
       "      <th>47704</th>\n",
       "      <td>Гуманизм и операция по прерыванию беременности...</td>\n",
       "      <td>no</td>\n",
       "      <td>0.9701</td>\n",
       "      <td>Гуманизм и операция по прерыванию беременности...</td>\n",
       "      <td>True</td>\n",
       "      <td>0.0</td>\n",
       "      <td>0.0</td>\n",
       "      <td>0.0</td>\n",
       "      <td>0.0</td>\n",
       "      <td>0.0</td>\n",
       "      <td>...</td>\n",
       "      <td>0.0</td>\n",
       "      <td>1.0</td>\n",
       "      <td>0.0</td>\n",
       "      <td>0.0</td>\n",
       "      <td>0.0</td>\n",
       "      <td>0.0</td>\n",
       "      <td>0.0</td>\n",
       "      <td>0.0</td>\n",
       "      <td>0</td>\n",
       "      <td>0.13</td>\n",
       "    </tr>\n",
       "    <tr>\n",
       "      <th>50322</th>\n",
       "      <td>Да любой мало. К хорошему быстро привыкаешь.</td>\n",
       "      <td>no</td>\n",
       "      <td>0.9963</td>\n",
       "      <td>Да любой мало. К хорошему быстро привыкаешь.</td>\n",
       "      <td>True</td>\n",
       "      <td>0.0</td>\n",
       "      <td>0.0</td>\n",
       "      <td>0.0</td>\n",
       "      <td>0.0</td>\n",
       "      <td>0.0</td>\n",
       "      <td>...</td>\n",
       "      <td>0.0</td>\n",
       "      <td>0.0</td>\n",
       "      <td>0.0</td>\n",
       "      <td>0.0</td>\n",
       "      <td>0.0</td>\n",
       "      <td>0.0</td>\n",
       "      <td>0.0</td>\n",
       "      <td>0.0</td>\n",
       "      <td>0</td>\n",
       "      <td>0.01</td>\n",
       "    </tr>\n",
       "  </tbody>\n",
       "</table>\n",
       "<p>10 rows × 26 columns</p>\n",
       "</div>"
      ],
      "text/plain": [
       "                                              INPUT:text OUTPUT:result  \\\n",
       "32867  Только со счастливой концовкой. Где его казнят...            no   \n",
       "26329  Суицид в молодежной среде-противоречиво написа...            no   \n",
       "20333  Так то ж через 3 месяца произошло, а уходили -...            no   \n",
       "37994  Скачиваем с торрента вот здесь Скрытый текст:Д...           yes   \n",
       "4118   То есть разделения на женские и мужские дела н...            no   \n",
       "65184  От слов что, \"бедность - опора Путина\" так стр...           yes   \n",
       "50246   русский мир от гниющих экономик европы и америки           yes   \n",
       "32464  Кого вы бы назвали самым красивым актером в ис...            no   \n",
       "47704  Гуманизм и операция по прерыванию беременности...            no   \n",
       "50322       Да любой мало. К хорошему быстро привыкаешь.            no   \n",
       "\n",
       "       CONFIDENCE:result                                               text  \\\n",
       "32867             0.9924  Только со счастливой концовкой. Где его казнят...   \n",
       "26329             0.9859  Суицид в молодежной среде-противоречиво написа...   \n",
       "20333             0.9928  Так то ж через NUMBER месяца произошло, а уход...   \n",
       "37994             0.9953  Скачиваем с торрента вот здесь Скрытый текст:Д...   \n",
       "4118              0.9980  То есть разделения на женские и мужские дела н...   \n",
       "65184             0.9977  От слов что, \"бедность - опора Путина\" так стр...   \n",
       "50246             0.9966   русский мир от гниющих экономик европы и америки   \n",
       "32464             0.9994  Кого вы бы назвали самым красивым актером в ис...   \n",
       "47704             0.9701  Гуманизм и операция по прерыванию беременности...   \n",
       "50322             0.9963       Да любой мало. К хорошему быстро привыкаешь.   \n",
       "\n",
       "       direct_map  inappropriate  offline_crime  online_crime  drugs  \\\n",
       "32867        True            0.0            1.0           0.0    0.0   \n",
       "26329        True            0.0            0.0           0.0    0.0   \n",
       "20333        True            0.0            0.0           0.0    0.0   \n",
       "37994        True            1.0            0.0           1.0    0.0   \n",
       "4118         True            0.0            0.0           0.0    0.0   \n",
       "65184        True            1.0            0.0           0.0    0.0   \n",
       "50246        True            1.0            0.0           0.0    0.0   \n",
       "32464        True            0.0            0.0           0.0    0.0   \n",
       "47704        True            0.0            0.0           0.0    0.0   \n",
       "50322        True            0.0            0.0           0.0    0.0   \n",
       "\n",
       "       gambling  ...  body_shaming  health_shaming  politics  racism  \\\n",
       "32867       0.0  ...           0.0             0.0       0.0     0.0   \n",
       "26329       0.0  ...           0.0             0.0       0.0     0.0   \n",
       "20333       0.0  ...           0.0             0.0       0.0     0.0   \n",
       "37994       0.0  ...           0.0             0.0       0.0     0.0   \n",
       "4118        0.0  ...           0.0             0.0       0.0     0.0   \n",
       "65184       0.0  ...           0.0             0.0       0.0     0.0   \n",
       "50246       0.0  ...           0.0             0.0       1.0     0.0   \n",
       "32464       0.0  ...           1.0             0.0       0.0     0.0   \n",
       "47704       0.0  ...           0.0             1.0       0.0     0.0   \n",
       "50322       0.0  ...           0.0             0.0       0.0     0.0   \n",
       "\n",
       "       religion  sexual_minorities  sexism  social_injustice  human_labeled  \\\n",
       "32867       0.0                0.0     0.0               0.0              0   \n",
       "26329       0.0                0.0     0.0               0.0              1   \n",
       "20333       0.0                0.0     0.0               0.0              0   \n",
       "37994       0.0                0.0     0.0               0.0              1   \n",
       "4118        0.0                0.0     0.0               0.0              0   \n",
       "65184       0.0                0.0     0.0               1.0              1   \n",
       "50246       0.0                0.0     0.0               1.0              0   \n",
       "32464       0.0                0.0     0.0               0.0              0   \n",
       "47704       0.0                0.0     0.0               0.0              0   \n",
       "50322       0.0                0.0     0.0               0.0              0   \n",
       "\n",
       "       toxic_auto  \n",
       "32867        0.24  \n",
       "26329        0.01  \n",
       "20333        0.00  \n",
       "37994        0.13  \n",
       "4118         0.01  \n",
       "65184        0.19  \n",
       "50246        0.06  \n",
       "32464        0.11  \n",
       "47704        0.13  \n",
       "50322        0.01  \n",
       "\n",
       "[10 rows x 26 columns]"
      ]
     },
     "execution_count": 132,
     "metadata": {},
     "output_type": "execute_result"
    }
   ],
   "source": [
    "df_new_filtered_with_direct_data_merged.sample(10)"
   ]
  },
  {
   "cell_type": "markdown",
   "metadata": {},
   "source": [
    "# Мерджим"
   ]
  },
  {
   "cell_type": "code",
   "execution_count": 139,
   "metadata": {},
   "outputs": [],
   "source": [
    "df_new_filtered_with_direct_data_merged.drop(columns=['direct_map','inappropriate'],inplace = True)"
   ]
  },
  {
   "cell_type": "code",
   "execution_count": 140,
   "metadata": {},
   "outputs": [],
   "source": [
    "df_new_filtered_NO_direct_data.drop(columns=['direct_map', 'onerow_multi'],inplace = True)"
   ]
  },
  {
   "cell_type": "code",
   "execution_count": 141,
   "metadata": {},
   "outputs": [
    {
     "data": {
      "text/plain": [
       "array([ True,  True,  True,  True,  True,  True,  True,  True,  True,\n",
       "        True,  True,  True,  True,  True,  True,  True,  True,  True,\n",
       "        True,  True,  True,  True,  True,  True])"
      ]
     },
     "execution_count": 141,
     "metadata": {},
     "output_type": "execute_result"
    }
   ],
   "source": [
    "df_new_filtered_with_direct_data_merged.columns == df_new_filtered_NO_direct_data.columns"
   ]
  },
  {
   "cell_type": "code",
   "execution_count": 142,
   "metadata": {},
   "outputs": [
    {
     "data": {
      "text/plain": [
       "Index(['INPUT:text', 'OUTPUT:result', 'CONFIDENCE:result', 'text',\n",
       "       'offline_crime', 'online_crime', 'drugs', 'gambling', 'pornography',\n",
       "       'prostitution', 'slavery', 'suicide', 'terrorism', 'weapons',\n",
       "       'body_shaming', 'health_shaming', 'politics', 'racism', 'religion',\n",
       "       'sexual_minorities', 'sexism', 'social_injustice', 'human_labeled',\n",
       "       'toxic_auto'],\n",
       "      dtype='object')"
      ]
     },
     "execution_count": 142,
     "metadata": {},
     "output_type": "execute_result"
    }
   ],
   "source": [
    "df_new_filtered_with_direct_data_merged.columns"
   ]
  },
  {
   "cell_type": "code",
   "execution_count": 143,
   "metadata": {},
   "outputs": [
    {
     "data": {
      "text/plain": [
       "Index(['INPUT:text', 'OUTPUT:result', 'CONFIDENCE:result', 'text',\n",
       "       'offline_crime', 'online_crime', 'drugs', 'gambling', 'pornography',\n",
       "       'prostitution', 'slavery', 'suicide', 'terrorism', 'weapons',\n",
       "       'body_shaming', 'health_shaming', 'politics', 'racism', 'religion',\n",
       "       'sexual_minorities', 'sexism', 'social_injustice', 'human_labeled',\n",
       "       'toxic_auto'],\n",
       "      dtype='object')"
      ]
     },
     "execution_count": 143,
     "metadata": {},
     "output_type": "execute_result"
    }
   ],
   "source": [
    "df_new_filtered_NO_direct_data.columns"
   ]
  },
  {
   "cell_type": "code",
   "execution_count": 144,
   "metadata": {},
   "outputs": [],
   "source": [
    "df_new_filtered_MERGED = pd.concat([df_new_filtered_with_direct_data_merged,df_new_filtered_NO_direct_data])"
   ]
  },
  {
   "cell_type": "code",
   "execution_count": 154,
   "metadata": {},
   "outputs": [
    {
     "data": {
      "text/plain": [
       "Counter({1: 5349, 0: 103463})"
      ]
     },
     "execution_count": 154,
     "metadata": {},
     "output_type": "execute_result"
    }
   ],
   "source": [
    "Counter(df_new_filtered_MERGED['human_labeled'])"
   ]
  },
  {
   "cell_type": "code",
   "execution_count": 155,
   "metadata": {},
   "outputs": [],
   "source": [
    "df_new_filtered_MERGED.to_csv(\"Inappropriate_095_top_vs_one_with_multi.csv\",index = None)"
   ]
  },
  {
   "cell_type": "code",
   "execution_count": 145,
   "metadata": {},
   "outputs": [
    {
     "data": {
      "text/plain": [
       "108812"
      ]
     },
     "execution_count": 145,
     "metadata": {},
     "output_type": "execute_result"
    }
   ],
   "source": [
    "len(df_new_filtered_MERGED)"
   ]
  },
  {
   "cell_type": "code",
   "execution_count": 98,
   "metadata": {},
   "outputs": [],
   "source": [
    "# Считаем пропорции"
   ]
  },
  {
   "cell_type": "code",
   "execution_count": null,
   "metadata": {},
   "outputs": [],
   "source": [
    "import numpy as np\n",
    "import matplotlib.pyplot as plt "
   ]
  },
  {
   "cell_type": "code",
   "execution_count": 10,
   "metadata": {},
   "outputs": [],
   "source": [
    "df_new_filtered_MERGED =pd.read_csv(\"Inappropriate_095_top_vs_one_with_multi.csv\")"
   ]
  },
  {
   "cell_type": "code",
   "execution_count": 11,
   "metadata": {},
   "outputs": [],
   "source": [
    "topics = ['offline_crime', 'online_crime', 'drugs', 'gambling', 'pornography',\n",
    "       'prostitution', 'slavery', 'suicide', 'terrorism', 'weapons',\n",
    "       'body_shaming', 'health_shaming', 'politics', 'racism', 'religion',\n",
    "       'sexual_minorities', 'sexism', 'social_injustice']"
   ]
  },
  {
   "cell_type": "code",
   "execution_count": 12,
   "metadata": {},
   "outputs": [],
   "source": [
    "def get_count(df):\n",
    "    \n",
    "    def round_up(val):\n",
    "        if float(val) > 0.5:\n",
    "            return 1\n",
    "        return 0\n",
    "\n",
    "    df_count = pd.DataFrame()\n",
    "    for c in topics:\n",
    "        if c != 'text':\n",
    "            df_count[c] = df[c].apply(round_up)\n",
    "            \n",
    "    counts = []\n",
    "    names = []\n",
    "    for col in df_count.columns:\n",
    "        cnt = sum(df_count[col])\n",
    "        counts.append(cnt)\n",
    "        names.append(col)\n",
    "        \n",
    "    df_count_fin = pd.DataFrame({'class':names, 'count':counts})\n",
    "    df_count_fin_sorted = df_count_fin.sort_values('count', ascending = False)\n",
    "    return df_count_fin_sorted, len(df)"
   ]
  },
  {
   "cell_type": "code",
   "execution_count": 13,
   "metadata": {},
   "outputs": [],
   "source": [
    "def plot_df(df, df_len):\n",
    "    dct = {}\n",
    "    for  i,d in df.iterrows():\n",
    "        t,c = d\n",
    "        dct[t] = c\n",
    "    same_order_values = [dct[t] for t in topics]\n",
    "    \n",
    "        # Generate a normal distribution, center at x=0 and y=5\n",
    "    x_positions = np.arange(len(topics) )\n",
    "    y = same_order_values\n",
    "\n",
    "    # We can set the number of bins with the `bins` kwarg\n",
    "    plt.bar(x_positions,y, align='center', alpha=0.5)\n",
    "    plt.xticks(x_positions, topics)\n",
    "    plt.xticks(rotation = 85, fontsize=14)\n",
    "    plt.ylabel('count per topic', fontsize=14)\n",
    "    plt.title(\"Total сount of samples = {}\".format(df_len), fontsize=14)\n",
    "\n",
    "    plt.show()\n",
    "#     plt.savefig(\"multi_count.pdf\",format='pdf', bbox_inches='tight')"
   ]
  },
  {
   "cell_type": "code",
   "execution_count": 14,
   "metadata": {},
   "outputs": [
    {
     "data": {
      "image/png": "[encoded data removed]",
      "text/plain": [
       "<Figure size 432x288 with 1 Axes>"
      ]
     },
     "metadata": {
      "needs_background": "light"
     },
     "output_type": "display_data"
    }
   ],
   "source": [
    "dfr, df_len = get_count(df_new_filtered_MERGED)\n",
    "plot_df(dfr, df_len)"
   ]
  }
 ],
 "metadata": {
  "kernelspec": {
   "display_name": "Python 3",
   "language": "python",
   "name": "python3"
  },
  "language_info": {
   "codemirror_mode": {
    "name": "ipython",
    "version": 3
   },
   "file_extension": ".py",
   "mimetype": "text/x-python",
   "name": "python",
   "nbconvert_exporter": "python",
   "pygments_lexer": "ipython3",
   "version": "3.8.10"
  }
 },
 "nbformat": 4,
 "nbformat_minor": 4
}
