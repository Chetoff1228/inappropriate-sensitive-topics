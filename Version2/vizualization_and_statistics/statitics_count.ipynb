{
 "cells": [
  {
   "cell_type": "code",
   "execution_count": 1,
   "metadata": {},
   "outputs": [],
   "source": [
    "import pandas as pd\n",
    "import numpy as np\n",
    "import matplotlib.pyplot as plt \n",
    "import re"
   ]
  },
  {
   "cell_type": "code",
   "execution_count": 2,
   "metadata": {},
   "outputs": [],
   "source": [
    "df = pd.read_csv(\"sensitive_quantity.csv\")"
   ]
  },
  {
   "cell_type": "code",
   "execution_count": 3,
   "metadata": {},
   "outputs": [],
   "source": [
    "df.columns = ['topic','count']"
   ]
  },
  {
   "cell_type": "code",
   "execution_count": 4,
   "metadata": {},
   "outputs": [
    {
     "data": {
      "text/html": [
       "<div>\n",
       "<style scoped>\n",
       "    .dataframe tbody tr th:only-of-type {\n",
       "        vertical-align: middle;\n",
       "    }\n",
       "\n",
       "    .dataframe tbody tr th {\n",
       "        vertical-align: top;\n",
       "    }\n",
       "\n",
       "    .dataframe thead th {\n",
       "        text-align: right;\n",
       "    }\n",
       "</style>\n",
       "<table border=\"1\" class=\"dataframe\">\n",
       "  <thead>\n",
       "    <tr style=\"text-align: right;\">\n",
       "      <th></th>\n",
       "      <th>topic</th>\n",
       "      <th>count</th>\n",
       "    </tr>\n",
       "  </thead>\n",
       "  <tbody>\n",
       "    <tr>\n",
       "      <th>0</th>\n",
       "      <td>body shaming</td>\n",
       "      <td>1,203</td>\n",
       "    </tr>\n",
       "    <tr>\n",
       "      <th>1</th>\n",
       "      <td>drugs</td>\n",
       "      <td>3,852</td>\n",
       "    </tr>\n",
       "    <tr>\n",
       "      <th>2</th>\n",
       "      <td>gambling</td>\n",
       "      <td>2,062</td>\n",
       "    </tr>\n",
       "    <tr>\n",
       "      <th>3</th>\n",
       "      <td>health shaming</td>\n",
       "      <td>1,731</td>\n",
       "    </tr>\n",
       "    <tr>\n",
       "      <th>4</th>\n",
       "      <td>offline crime</td>\n",
       "      <td>1,835</td>\n",
       "    </tr>\n",
       "  </tbody>\n",
       "</table>\n",
       "</div>"
      ],
      "text/plain": [
       "            topic  count\n",
       "0    body shaming  1,203\n",
       "1           drugs  3,852\n",
       "2        gambling  2,062\n",
       "3  health shaming  1,731\n",
       "4   offline crime  1,835"
      ]
     },
     "execution_count": 4,
     "metadata": {},
     "output_type": "execute_result"
    }
   ],
   "source": [
    "df.head()"
   ]
  },
  {
   "cell_type": "code",
   "execution_count": 5,
   "metadata": {},
   "outputs": [
    {
     "data": {
      "text/plain": [
       "'1,203'"
      ]
     },
     "execution_count": 5,
     "metadata": {},
     "output_type": "execute_result"
    }
   ],
   "source": [
    "df.iloc[0]['count']"
   ]
  },
  {
   "cell_type": "code",
   "execution_count": 6,
   "metadata": {},
   "outputs": [
    {
     "data": {
      "text/plain": [
       "1203"
      ]
     },
     "execution_count": 6,
     "metadata": {},
     "output_type": "execute_result"
    }
   ],
   "source": [
    "def digitize(s):\n",
    "    return int(re.sub(',','',s))\n",
    "digitize(df.iloc[0]['count'])"
   ]
  },
  {
   "cell_type": "code",
   "execution_count": 7,
   "metadata": {},
   "outputs": [],
   "source": [
    "df['count'] = df['count'].apply(digitize)"
   ]
  },
  {
   "cell_type": "code",
   "execution_count": 8,
   "metadata": {},
   "outputs": [],
   "source": [
    "same_order_list = ['weapons',\n",
    "  'drugs',\n",
    "  'religion',\n",
    "  'body shaming',\n",
    "  'racism',\n",
    "  'prostitution',\n",
    "  'slavery',\n",
    "  'health shaming',\n",
    "  'sexism',\n",
    "  'pornography',\n",
    "  'politics',\n",
    "  'sexual minorities',\n",
    "  'offline crime',\n",
    "  'suicide',\n",
    "  'gambling',\n",
    "  'terrorism',\n",
    "  'social injustice',\n",
    "  'online crime']"
   ]
  },
  {
   "cell_type": "code",
   "execution_count": 9,
   "metadata": {},
   "outputs": [],
   "source": [
    "dct = {}\n",
    "for  i,d in df.iterrows():\n",
    "    t,c = d\n",
    "#     print(t,c)\n",
    "    dct[t] = c\n",
    "#     break"
   ]
  },
  {
   "cell_type": "code",
   "execution_count": 10,
   "metadata": {},
   "outputs": [],
   "source": [
    "same_order_values = [dct[t] for t in same_order_list]"
   ]
  },
  {
   "cell_type": "code",
   "execution_count": 11,
   "metadata": {},
   "outputs": [
    {
     "data": {
      "text/plain": [
       "[2222,\n",
       " 3852,\n",
       " 4072,\n",
       " 1203,\n",
       " 1572,\n",
       " 1291,\n",
       " 1054,\n",
       " 1731,\n",
       " 1592,\n",
       " 2002,\n",
       " 2155,\n",
       " 1967,\n",
       " 1835,\n",
       " 1407,\n",
       " 2062,\n",
       " 1303,\n",
       " 1875,\n",
       " 1033]"
      ]
     },
     "execution_count": 11,
     "metadata": {},
     "output_type": "execute_result"
    }
   ],
   "source": [
    "same_order_values"
   ]
  },
  {
   "cell_type": "code",
   "execution_count": 15,
   "metadata": {},
   "outputs": [
    {
     "data": {
      "image/png": "[encoded data removed]",
      "text/plain": [
       "<Figure size 432x288 with 2 Axes>"
      ]
     },
     "metadata": {
      "needs_background": "light"
     },
     "output_type": "display_data"
    }
   ],
   "source": [
    "N_points = 100000\n",
    "n_bins = 20\n",
    "\n",
    "# Generate a normal distribution, center at x=0 and y=5\n",
    "x = np.random.randn(N_points)\n",
    "y = .4 * x + np.random.randn(100000) + 5\n",
    "\n",
    "fig, axs = plt.subplots(1, 2, sharey=True, tight_layout=True)\n",
    "\n",
    "# We can set the number of bins with the `bins` kwarg\n",
    "axs[0].hist(x, bins=n_bins)\n",
    "axs[1].hist(y, bins=n_bins)\n",
    "\n",
    "plt.show()"
   ]
  },
  {
   "cell_type": "code",
   "execution_count": 16,
   "metadata": {},
   "outputs": [
    {
     "data": {
      "image/png": "[encoded data removed]",
      "text/plain": [
       "<Figure size 432x288 with 1 Axes>"
      ]
     },
     "metadata": {
      "needs_background": "light"
     },
     "output_type": "display_data"
    }
   ],
   "source": [
    "N_points = 100000\n",
    "n_bins = 20\n",
    "\n",
    "# Generate a normal distribution, center at x=0 and y=5\n",
    "x = np.random.randn(N_points)\n",
    "y = .4 * x + np.random.randn(100000) + 5\n",
    "\n",
    "# We can set the number of bins with the `bins` kwarg\n",
    "plt.hist(x, bins=n_bins)\n",
    "\n",
    "plt.show()"
   ]
  },
  {
   "cell_type": "code",
   "execution_count": 29,
   "metadata": {},
   "outputs": [
    {
     "data": {
      "image/png": "[encoded data removed]",
      "text/plain": [
       "<Figure size 432x288 with 1 Axes>"
      ]
     },
     "metadata": {
      "needs_background": "light"
     },
     "output_type": "display_data"
    }
   ],
   "source": [
    "# Generate a normal distribution, center at x=0 and y=5\n",
    "x_positions = np.arange(len(same_order_list) )\n",
    "y = same_order_values\n",
    "\n",
    "# We can set the number of bins with the `bins` kwarg\n",
    "plt.bar(x_positions,y, align='center', alpha=0.5)\n",
    "plt.xticks(x_positions, same_order_list)\n",
    "plt.xticks(rotation = 85, fontsize=14)\n",
    "plt.ylabel('count per topic', fontsize=14)\n",
    "plt.title(\"Total сount of samples = 33k\", fontsize=14)\n",
    "\n",
    "# plt.show()\n",
    "plt.savefig(\"multi_count.pdf\",format='pdf', bbox_inches='tight')"
   ]
  },
  {
   "cell_type": "code",
   "execution_count": null,
   "metadata": {},
   "outputs": [],
   "source": [
    "fig, ax = plt.subplots()\n",
    "\n",
    "objects = lbl_per_cnt\n",
    "y_pos = np.arange(len(data))\n",
    "performance = data\n",
    "\n",
    "plt.bar(y_pos, performance, align='center', alpha=0.5)\n",
    "plt.xticks(y_pos, objects)\n",
    "plt.rc('xtick', labelsize=12)\n",
    "plt.xlabel('Topics per sample', fontsize=12)\n",
    "plt.ylabel('# samples', fontsize=12)\n",
    "\n",
    "ax2 = ax.twinx()\n",
    "plt.sca(ax2)\n",
    "plt.bar(y_pos, data_pcnt, align='center', alpha=0.5)\n",
    "\n",
    "plt.ylabel('Percentage', fontsize=12)\n",
    "# plt.title('Programming language usage')\n",
    "\n",
    "fig.savefig(\"topcis_per_sample.pdf\",format='pdf', bbox_inches='tight')"
   ]
  }
 ],
 "metadata": {
  "kernelspec": {
   "display_name": "Python 3",
   "language": "python",
   "name": "python3"
  },
  "language_info": {
   "codemirror_mode": {
    "name": "ipython",
    "version": 3
   },
   "file_extension": ".py",
   "mimetype": "text/x-python",
   "name": "python",
   "nbconvert_exporter": "python",
   "pygments_lexer": "ipython3",
   "version": "3.8.10"
  }
 },
 "nbformat": 4,
 "nbformat_minor": 4
}
