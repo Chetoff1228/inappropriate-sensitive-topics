{
 "cells": [
  {
   "cell_type": "markdown",
   "metadata": {},
   "source": [
    "https://docs.google.com/spreadsheets/d/1SePE_0xWnwd0C2vbAkfmkkKX1wsdepPHhf_LRGufC08/edit#gid=441676530"
   ]
  },
  {
   "cell_type": "markdown",
   "metadata": {},
   "source": [
    "https://machinelearningmastery.com/mcnemars-test-for-machine-learning/"
   ]
  },
  {
   "cell_type": "code",
   "execution_count": 4,
   "metadata": {},
   "outputs": [
    {
     "name": "stdout",
     "output_type": "stream",
     "text": [
      "statistic=1.000, p-value=0.000\n",
      "Different proportions of errors (reject H0)\n"
     ]
    }
   ],
   "source": [
    "# Example of calculating the mcnemar test\n",
    "from statsmodels.stats.contingency_tables import mcnemar\n",
    "# define contingency table\n",
    "table = [[4, 20],\n",
    "\t\t [1, 3]]\n",
    "# calculate mcnemar test\n",
    "result = mcnemar(table, exact=True)\n",
    "# summarize the finding\n",
    "print('statistic=%.3f, p-value=%.3f' % (result.statistic, result.pvalue))\n",
    "# interpret the p-value\n",
    "alpha = 0.05\n",
    "if result.pvalue > alpha:\n",
    "\tprint('Same proportions of errors (fail to reject H0)')\n",
    "else:\n",
    "\tprint('Different proportions of errors (reject H0)')"
   ]
  },
  {
   "cell_type": "code",
   "execution_count": 40,
   "metadata": {},
   "outputs": [],
   "source": [
    "import pandas as pd\n",
    "import os"
   ]
  },
  {
   "cell_type": "code",
   "execution_count": 27,
   "metadata": {},
   "outputs": [],
   "source": [
    "# df_f = pd.read_csv(\"./sign/tf_idf_logreg.csv\")\n",
    "df_f = pd.read_csv(\"./sign/conv_high_conf.csv\")\n",
    "\n",
    "df_s = pd.read_csv(\"./sign/tf_idf_nb.csv\")"
   ]
  },
  {
   "cell_type": "code",
   "execution_count": 29,
   "metadata": {},
   "outputs": [
    {
     "data": {
      "text/html": [
       "<div>\n",
       "<style scoped>\n",
       "    .dataframe tbody tr th:only-of-type {\n",
       "        vertical-align: middle;\n",
       "    }\n",
       "\n",
       "    .dataframe tbody tr th {\n",
       "        vertical-align: top;\n",
       "    }\n",
       "\n",
       "    .dataframe thead th {\n",
       "        text-align: right;\n",
       "    }\n",
       "</style>\n",
       "<table border=\"1\" class=\"dataframe\">\n",
       "  <thead>\n",
       "    <tr style=\"text-align: right;\">\n",
       "      <th></th>\n",
       "      <th>correct</th>\n",
       "    </tr>\n",
       "  </thead>\n",
       "  <tbody>\n",
       "    <tr>\n",
       "      <th>0</th>\n",
       "      <td>True</td>\n",
       "    </tr>\n",
       "    <tr>\n",
       "      <th>1</th>\n",
       "      <td>False</td>\n",
       "    </tr>\n",
       "    <tr>\n",
       "      <th>2</th>\n",
       "      <td>True</td>\n",
       "    </tr>\n",
       "    <tr>\n",
       "      <th>3</th>\n",
       "      <td>False</td>\n",
       "    </tr>\n",
       "    <tr>\n",
       "      <th>4</th>\n",
       "      <td>False</td>\n",
       "    </tr>\n",
       "  </tbody>\n",
       "</table>\n",
       "</div>"
      ],
      "text/plain": [
       "   correct\n",
       "0     True\n",
       "1    False\n",
       "2     True\n",
       "3    False\n",
       "4    False"
      ]
     },
     "execution_count": 29,
     "metadata": {},
     "output_type": "execute_result"
    }
   ],
   "source": [
    "df_f.head()"
   ]
  },
  {
   "cell_type": "code",
   "execution_count": 30,
   "metadata": {},
   "outputs": [
    {
     "data": {
      "text/plain": [
       "(10565, 10565)"
      ]
     },
     "execution_count": 30,
     "metadata": {},
     "output_type": "execute_result"
    }
   ],
   "source": [
    "len(df_f), len(df_s)"
   ]
  },
  {
   "cell_type": "code",
   "execution_count": 38,
   "metadata": {},
   "outputs": [],
   "source": [
    "def get_table(df1,df2):\n",
    "    yes_yes = df1[(df1.correct == df2.correct)&(df1.correct==True)]\n",
    "    no_no = df1[(df1.correct == df2.correct)&(df1.correct==False)]\n",
    "#     print(len(yes_yes), set(yes_yes))\n",
    "#     print(len(no_no), set(no_no))\n",
    "    \n",
    "    yes_no = df1[(df1.correct != df2.correct)&(df1.correct==True)]\n",
    "    no_yes = df1[(df1.correct != df2.correct)&(df1.correct==False)]\n",
    "#     print(len(yes_no), set(yes_no))\n",
    "#     print(len(no_yes), set(no_yes))\n",
    "    \n",
    "    return [[len(yes_yes), len(yes_no)],[len(no_yes),len(no_no)]]\n",
    "    \n",
    "tbl = get_table(df_f, df_s)"
   ]
  },
  {
   "cell_type": "code",
   "execution_count": 22,
   "metadata": {},
   "outputs": [
    {
     "data": {
      "text/plain": [
       "10565"
      ]
     },
     "execution_count": 22,
     "metadata": {},
     "output_type": "execute_result"
    }
   ],
   "source": [
    "sum(tbl[0]) + sum(tbl[1])"
   ]
  },
  {
   "cell_type": "code",
   "execution_count": 35,
   "metadata": {},
   "outputs": [],
   "source": [
    "def tst(tale_mcnemar):\n",
    "    result = mcnemar(tale_mcnemar, exact=True)\n",
    "    # summarize the finding\n",
    "    print('statistic=%.6f, p-value=%.6f' % (result.statistic, result.pvalue))\n",
    "    # interpret the p-value\n",
    "    alpha = 0.05\n",
    "    if result.pvalue > alpha:\n",
    "        print('Same proportions of errors (fail to reject H0)')\n",
    "    else:\n",
    "        print('Different proportions of errors (reject H0)')"
   ]
  },
  {
   "cell_type": "code",
   "execution_count": 36,
   "metadata": {},
   "outputs": [
    {
     "data": {
      "text/plain": [
       "[[7599, 1758], [537, 671]]"
      ]
     },
     "execution_count": 36,
     "metadata": {},
     "output_type": "execute_result"
    }
   ],
   "source": [
    "tbl"
   ]
  },
  {
   "cell_type": "code",
   "execution_count": 37,
   "metadata": {},
   "outputs": [
    {
     "name": "stdout",
     "output_type": "stream",
     "text": [
      "statistic=537.000000, p-value=0.000000\n",
      "Different proportions of errors (reject H0)\n"
     ]
    }
   ],
   "source": [
    "tst(tbl)"
   ]
  },
  {
   "cell_type": "code",
   "execution_count": 48,
   "metadata": {},
   "outputs": [
    {
     "name": "stdout",
     "output_type": "stream",
     "text": [
      "./sign\\conv_high_conf_SPEC_TOKENS.csv\n",
      "[9072, 285]\n",
      "[317, 891]\n",
      "statistic=285.000000, p-value=0.206385\n",
      "Same proportions of errors (fail to reject H0)\n",
      "====================================================================================================\n",
      "./sign\\tf_idf_logreg.csv\n",
      "[8222, 1135]\n",
      "[503, 705]\n",
      "statistic=503.000000, p-value=0.000000\n",
      "Different proportions of errors (reject H0)\n",
      "====================================================================================================\n",
      "./sign\\tf_idf_nb.csv\n",
      "[7599, 1758]\n",
      "[537, 671]\n",
      "statistic=537.000000, p-value=0.000000\n",
      "Different proportions of errors (reject H0)\n",
      "====================================================================================================\n",
      "./sign\\tf_idf_sgd.csv\n",
      "[7295, 2062]\n",
      "[546, 662]\n",
      "statistic=546.000000, p-value=0.000000\n",
      "Different proportions of errors (reject H0)\n",
      "====================================================================================================\n"
     ]
    }
   ],
   "source": [
    "# reference_model_res = 'conv_high_conf_SPEC_TOKENS'\n",
    "reference_model_res = 'conv_high_conf_regular'\n",
    "compared_path = []\n",
    "reference_path = ''\n",
    "for f in os.listdir(\"./sign\"):\n",
    "    if reference_model_res not in f:\n",
    "        compared_path.append(os.path.join(\"./sign\", f))\n",
    "    else:\n",
    "        reference_path = os.path.join(\"./sign\", f)\n",
    "        \n",
    "df_first = pd.read_csv(reference_path)\n",
    "for comp_path in compared_path:\n",
    "    print(comp_path)\n",
    "    df_compared = pd.read_csv(comp_path)\n",
    "    comp_tbl = get_table(df_first, df_compared)\n",
    "    print(comp_tbl[0])\n",
    "    print(comp_tbl[1])\n",
    "    tst(comp_tbl)\n",
    "    print(\"=\"*100)\n",
    "\n"
   ]
  }
 ],
 "metadata": {
  "kernelspec": {
   "display_name": "Python 3",
   "language": "python",
   "name": "python3"
  },
  "language_info": {
   "codemirror_mode": {
    "name": "ipython",
    "version": 3
   },
   "file_extension": ".py",
   "mimetype": "text/x-python",
   "name": "python",
   "nbconvert_exporter": "python",
   "pygments_lexer": "ipython3",
   "version": "3.8.8"
  }
 },
 "nbformat": 4,
 "nbformat_minor": 4
}
