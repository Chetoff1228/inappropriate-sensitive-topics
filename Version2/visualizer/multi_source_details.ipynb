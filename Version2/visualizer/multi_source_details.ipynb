{
 "cells": [
  {
   "cell_type": "code",
   "execution_count": 19,
   "metadata": {},
   "outputs": [],
   "source": [
    "import pandas as pd\n",
    "\n",
    "import matplotlib.pyplot as plt\n",
    "# %matplotlib inline\n",
    "import seaborn as sns\n",
    "import matplotlib.pyplot as plt\n",
    "import numpy as np"
   ]
  },
  {
   "cell_type": "code",
   "execution_count": 2,
   "metadata": {},
   "outputs": [],
   "source": [
    "df = pd.read_csv(\"../check_agreement_topics/sensitive_topics_vers3.csv\")"
   ]
  },
  {
   "cell_type": "code",
   "execution_count": 3,
   "metadata": {},
   "outputs": [
    {
     "data": {
      "text/html": [
       "<div>\n",
       "<style scoped>\n",
       "    .dataframe tbody tr th:only-of-type {\n",
       "        vertical-align: middle;\n",
       "    }\n",
       "\n",
       "    .dataframe tbody tr th {\n",
       "        vertical-align: top;\n",
       "    }\n",
       "\n",
       "    .dataframe thead th {\n",
       "        text-align: right;\n",
       "    }\n",
       "</style>\n",
       "<table border=\"1\" class=\"dataframe\">\n",
       "  <thead>\n",
       "    <tr style=\"text-align: right;\">\n",
       "      <th></th>\n",
       "      <th>text</th>\n",
       "      <th>offline_crime</th>\n",
       "      <th>online_crime</th>\n",
       "      <th>drugs</th>\n",
       "      <th>gambling</th>\n",
       "      <th>pornography</th>\n",
       "      <th>prostitution</th>\n",
       "      <th>slavery</th>\n",
       "      <th>suicide</th>\n",
       "      <th>terrorism</th>\n",
       "      <th>weapons</th>\n",
       "      <th>body_shaming</th>\n",
       "      <th>health_shaming</th>\n",
       "      <th>politics</th>\n",
       "      <th>racism</th>\n",
       "      <th>religion</th>\n",
       "      <th>sexual_minorities</th>\n",
       "      <th>sexism</th>\n",
       "      <th>social_injustice</th>\n",
       "      <th>source</th>\n",
       "    </tr>\n",
       "  </thead>\n",
       "  <tbody>\n",
       "    <tr>\n",
       "      <th>0</th>\n",
       "      <td>РРРРРРЯЯЯЯЯЯЯ РУССКИЕ ВАНЬКИ НИКОМУ НЕ НУЖНЫ!!...</td>\n",
       "      <td>0.0</td>\n",
       "      <td>0.0</td>\n",
       "      <td>0.0</td>\n",
       "      <td>0.0</td>\n",
       "      <td>0.0</td>\n",
       "      <td>0.0</td>\n",
       "      <td>0.0</td>\n",
       "      <td>0.0</td>\n",
       "      <td>0.0</td>\n",
       "      <td>0.0</td>\n",
       "      <td>0.0</td>\n",
       "      <td>0.0</td>\n",
       "      <td>0.0</td>\n",
       "      <td>1.0</td>\n",
       "      <td>0.0</td>\n",
       "      <td>0.0</td>\n",
       "      <td>1.0</td>\n",
       "      <td>0.0</td>\n",
       "      <td>toloka</td>\n",
       "    </tr>\n",
       "    <tr>\n",
       "      <th>1</th>\n",
       "      <td>Бабы это вообще безхуйные сиськастые ссущие си...</td>\n",
       "      <td>0.0</td>\n",
       "      <td>0.0</td>\n",
       "      <td>0.0</td>\n",
       "      <td>0.0</td>\n",
       "      <td>0.0</td>\n",
       "      <td>0.0</td>\n",
       "      <td>0.0</td>\n",
       "      <td>0.0</td>\n",
       "      <td>0.0</td>\n",
       "      <td>0.0</td>\n",
       "      <td>0.0</td>\n",
       "      <td>0.0</td>\n",
       "      <td>0.0</td>\n",
       "      <td>0.0</td>\n",
       "      <td>0.0</td>\n",
       "      <td>0.0</td>\n",
       "      <td>1.0</td>\n",
       "      <td>0.0</td>\n",
       "      <td>trtest</td>\n",
       "    </tr>\n",
       "    <tr>\n",
       "      <th>2</th>\n",
       "      <td>изнасиловалиа говорила что девственницаЯ так д...</td>\n",
       "      <td>0.0</td>\n",
       "      <td>0.0</td>\n",
       "      <td>0.0</td>\n",
       "      <td>0.0</td>\n",
       "      <td>1.0</td>\n",
       "      <td>0.0</td>\n",
       "      <td>0.0</td>\n",
       "      <td>0.0</td>\n",
       "      <td>0.0</td>\n",
       "      <td>0.0</td>\n",
       "      <td>0.0</td>\n",
       "      <td>0.0</td>\n",
       "      <td>0.0</td>\n",
       "      <td>0.0</td>\n",
       "      <td>0.0</td>\n",
       "      <td>0.0</td>\n",
       "      <td>1.0</td>\n",
       "      <td>0.0</td>\n",
       "      <td>trtest</td>\n",
       "    </tr>\n",
       "    <tr>\n",
       "      <th>3</th>\n",
       "      <td>Взгляните на пизду. Как психически здоровый че...</td>\n",
       "      <td>0.0</td>\n",
       "      <td>0.0</td>\n",
       "      <td>0.0</td>\n",
       "      <td>0.0</td>\n",
       "      <td>1.0</td>\n",
       "      <td>0.0</td>\n",
       "      <td>0.0</td>\n",
       "      <td>0.0</td>\n",
       "      <td>0.0</td>\n",
       "      <td>0.0</td>\n",
       "      <td>0.0</td>\n",
       "      <td>1.0</td>\n",
       "      <td>0.0</td>\n",
       "      <td>0.0</td>\n",
       "      <td>0.0</td>\n",
       "      <td>0.0</td>\n",
       "      <td>1.0</td>\n",
       "      <td>0.0</td>\n",
       "      <td>toloka</td>\n",
       "    </tr>\n",
       "    <tr>\n",
       "      <th>4</th>\n",
       "      <td>так она не шлюха.видно что нищенка    и при эт...</td>\n",
       "      <td>0.0</td>\n",
       "      <td>0.0</td>\n",
       "      <td>0.0</td>\n",
       "      <td>0.0</td>\n",
       "      <td>0.0</td>\n",
       "      <td>1.0</td>\n",
       "      <td>0.0</td>\n",
       "      <td>0.0</td>\n",
       "      <td>0.0</td>\n",
       "      <td>0.0</td>\n",
       "      <td>0.0</td>\n",
       "      <td>0.0</td>\n",
       "      <td>0.0</td>\n",
       "      <td>0.0</td>\n",
       "      <td>0.0</td>\n",
       "      <td>0.0</td>\n",
       "      <td>1.0</td>\n",
       "      <td>1.0</td>\n",
       "      <td>trtest</td>\n",
       "    </tr>\n",
       "  </tbody>\n",
       "</table>\n",
       "</div>"
      ],
      "text/plain": [
       "                                                text  offline_crime  \\\n",
       "0  РРРРРРЯЯЯЯЯЯЯ РУССКИЕ ВАНЬКИ НИКОМУ НЕ НУЖНЫ!!...            0.0   \n",
       "1  Бабы это вообще безхуйные сиськастые ссущие си...            0.0   \n",
       "2  изнасиловалиа говорила что девственницаЯ так д...            0.0   \n",
       "3  Взгляните на пизду. Как психически здоровый че...            0.0   \n",
       "4  так она не шлюха.видно что нищенка    и при эт...            0.0   \n",
       "\n",
       "   online_crime  drugs  gambling  pornography  prostitution  slavery  suicide  \\\n",
       "0           0.0    0.0       0.0          0.0           0.0      0.0      0.0   \n",
       "1           0.0    0.0       0.0          0.0           0.0      0.0      0.0   \n",
       "2           0.0    0.0       0.0          1.0           0.0      0.0      0.0   \n",
       "3           0.0    0.0       0.0          1.0           0.0      0.0      0.0   \n",
       "4           0.0    0.0       0.0          0.0           1.0      0.0      0.0   \n",
       "\n",
       "   terrorism  weapons  body_shaming  health_shaming  politics  racism  \\\n",
       "0        0.0      0.0           0.0             0.0       0.0     1.0   \n",
       "1        0.0      0.0           0.0             0.0       0.0     0.0   \n",
       "2        0.0      0.0           0.0             0.0       0.0     0.0   \n",
       "3        0.0      0.0           0.0             1.0       0.0     0.0   \n",
       "4        0.0      0.0           0.0             0.0       0.0     0.0   \n",
       "\n",
       "   religion  sexual_minorities  sexism  social_injustice  source  \n",
       "0       0.0                0.0     1.0               0.0  toloka  \n",
       "1       0.0                0.0     1.0               0.0  trtest  \n",
       "2       0.0                0.0     1.0               0.0  trtest  \n",
       "3       0.0                0.0     1.0               0.0  toloka  \n",
       "4       0.0                0.0     1.0               1.0  trtest  "
      ]
     },
     "execution_count": 3,
     "metadata": {},
     "output_type": "execute_result"
    }
   ],
   "source": [
    "df.head()"
   ]
  },
  {
   "cell_type": "code",
   "execution_count": 4,
   "metadata": {},
   "outputs": [
    {
     "data": {
      "text/plain": [
       "[('kw', 21656),\n",
       " ('toloka', 8766),\n",
       " ('self', 1978),\n",
       " ('no_kw_manual_relabel', 600),\n",
       " ('toloka_real_manual_relabel', 526),\n",
       " ('trtest', 378)]"
      ]
     },
     "execution_count": 4,
     "metadata": {},
     "output_type": "execute_result"
    }
   ],
   "source": [
    "from collections import Counter\n",
    "Counter(df['source']).most_common(10)"
   ]
  },
  {
   "cell_type": "code",
   "execution_count": 5,
   "metadata": {},
   "outputs": [],
   "source": [
    "df_kw = df[df['source'] == 'kw']"
   ]
  },
  {
   "cell_type": "code",
   "execution_count": 6,
   "metadata": {},
   "outputs": [],
   "source": [
    "df_self= df[df['source'].isin(['self','no_kw_manual_relabel'])]"
   ]
  },
  {
   "cell_type": "code",
   "execution_count": 7,
   "metadata": {},
   "outputs": [],
   "source": [
    "df_toloka= df[df['source'].isin(['toloka','toloka_real_manual_relabel','trtest'])]"
   ]
  },
  {
   "cell_type": "code",
   "execution_count": 52,
   "metadata": {},
   "outputs": [],
   "source": [
    "def get_count(df):\n",
    "    \n",
    "    def round_up(val):\n",
    "        if float(val) > 0.5:\n",
    "            return 1\n",
    "        return 0\n",
    "\n",
    "    df_count = pd.DataFrame()\n",
    "    for c in topics:\n",
    "        if c != 'text':\n",
    "            df_count[c] = df[c].apply(round_up)\n",
    "            \n",
    "    counts = []\n",
    "    names = []\n",
    "    for col in df_count.columns:\n",
    "        cnt = sum(df_count[col])\n",
    "        counts.append(cnt)\n",
    "        names.append(col)\n",
    "        \n",
    "    df_count_fin = pd.DataFrame({'class':names, 'count':counts})\n",
    "    df_count_fin_sorted = df_count_fin.sort_values('class', ascending = False)\n",
    "    return df_count_fin_sorted"
   ]
  },
  {
   "cell_type": "code",
   "execution_count": 53,
   "metadata": {},
   "outputs": [],
   "source": [
    "topics = sorted(['offline_crime', 'online_crime', 'drugs', 'gambling', 'pornography',\n",
    "       'prostitution', 'slavery', 'suicide', 'terrorism', 'weapons',\n",
    "       'body_shaming', 'health_shaming', 'politics', 'racism', 'religion',\n",
    "       'sexual_minorities', 'sexism', 'social_injustice'])\n",
    "\n",
    "# topics"
   ]
  },
  {
   "cell_type": "code",
   "execution_count": 54,
   "metadata": {},
   "outputs": [],
   "source": [
    "df_kw_CNT = get_count(df_kw)\n",
    "df_self_CNT = get_count(df_self)\n",
    "df_toloka_CNT = get_count(df_toloka)"
   ]
  },
  {
   "cell_type": "code",
   "execution_count": 55,
   "metadata": {},
   "outputs": [
    {
     "data": {
      "text/html": [
       "<div>\n",
       "<style scoped>\n",
       "    .dataframe tbody tr th:only-of-type {\n",
       "        vertical-align: middle;\n",
       "    }\n",
       "\n",
       "    .dataframe tbody tr th {\n",
       "        vertical-align: top;\n",
       "    }\n",
       "\n",
       "    .dataframe thead th {\n",
       "        text-align: right;\n",
       "    }\n",
       "</style>\n",
       "<table border=\"1\" class=\"dataframe\">\n",
       "  <thead>\n",
       "    <tr style=\"text-align: right;\">\n",
       "      <th></th>\n",
       "      <th>class</th>\n",
       "      <th>count</th>\n",
       "    </tr>\n",
       "  </thead>\n",
       "  <tbody>\n",
       "    <tr>\n",
       "      <th>17</th>\n",
       "      <td>weapons</td>\n",
       "      <td>736</td>\n",
       "    </tr>\n",
       "    <tr>\n",
       "      <th>16</th>\n",
       "      <td>terrorism</td>\n",
       "      <td>1041</td>\n",
       "    </tr>\n",
       "    <tr>\n",
       "      <th>15</th>\n",
       "      <td>suicide</td>\n",
       "      <td>371</td>\n",
       "    </tr>\n",
       "    <tr>\n",
       "      <th>14</th>\n",
       "      <td>social_injustice</td>\n",
       "      <td>826</td>\n",
       "    </tr>\n",
       "    <tr>\n",
       "      <th>13</th>\n",
       "      <td>slavery</td>\n",
       "      <td>844</td>\n",
       "    </tr>\n",
       "  </tbody>\n",
       "</table>\n",
       "</div>"
      ],
      "text/plain": [
       "               class  count\n",
       "17           weapons    736\n",
       "16         terrorism   1041\n",
       "15           suicide    371\n",
       "14  social_injustice    826\n",
       "13           slavery    844"
      ]
     },
     "execution_count": 55,
     "metadata": {},
     "output_type": "execute_result"
    }
   ],
   "source": [
    "df_kw_CNT.head()"
   ]
  },
  {
   "cell_type": "code",
   "execution_count": 56,
   "metadata": {},
   "outputs": [
    {
     "data": {
      "text/plain": [
       "array([ 0,  2,  4,  6,  8, 10, 12, 14, 16, 18, 20, 22, 24, 26, 28, 30, 32,\n",
       "       34])"
      ]
     },
     "execution_count": 56,
     "metadata": {},
     "output_type": "execute_result"
    }
   ],
   "source": [
    "np.array([2*i for i in range(len(df_kw_CNT))])"
   ]
  },
  {
   "cell_type": "code",
   "execution_count": 57,
   "metadata": {},
   "outputs": [
    {
     "data": {
      "image/png": "[encoded data removed]",
      "text/plain": [
       "<Figure size 432x288 with 1 Axes>"
      ]
     },
     "metadata": {
      "needs_background": "light"
     },
     "output_type": "display_data"
    }
   ],
   "source": [
    "# plt.figure(figsize=(16,14))\n",
    "\n",
    "fig, ax = plt.subplots()\n",
    "topic_width = 0.35\n",
    "x_topics = np.arange(len(df_kw_CNT))\n",
    "# x_topics = np.array([1.5*i for i in range(len(df_kw_CNT))])\n",
    "\n",
    "\n",
    "# rects1 = ax.bar(x - width/2, men_means, width, label='Men')\n",
    "# rects2 = ax.bar(x + width/2, women_means, width, label='Women')\n",
    "\n",
    "ax.bar(x_topics - topic_width/2, df_kw_CNT['count'].tolist(), topic_width, label='keywords', capsize=2,edgecolor = 'white')\n",
    "ax.bar(x_topics + topic_width/2, df_self_CNT['count'].tolist(), topic_width, label='self-annotation', capsize=2,)\n",
    "ax.bar(x_topics + topic_width , df_toloka_CNT['count'].tolist(), topic_width, label='crowdsource', capsize=2,)\n",
    "\n",
    "# rects2 = ax.bar(x_topics + topic_width/2, multi_dataset_count, topic_width, color='r', label = 'Sensitive dataset')\n",
    "\n",
    "ax.set_xticks(x_topics)\n",
    "ax.set_xticklabels(df_kw_CNT['class'].tolist())\n",
    "\n",
    "plt.xticks(rotation = 85, fontsize=13)\n",
    "ax.set_ylabel('Samples count')\n",
    "# ax.set_title('Scores by group and gender')\n",
    "ax.legend(loc='best')\n",
    "\n",
    "# ax.legend(bbox_to_anchor=(0.15, 1.1), loc='upper left',fontsize=12)\n",
    "\n",
    "# \n",
    "\n",
    "# plt.show()\n",
    "plt.savefig(\"multilabel_source_plot.pdf\",format='pdf', bbox_inches='tight')"
   ]
  },
  {
   "cell_type": "code",
   "execution_count": null,
   "metadata": {},
   "outputs": [],
   "source": []
  }
 ],
 "metadata": {
  "kernelspec": {
   "display_name": "Python 3",
   "language": "python",
   "name": "python3"
  },
  "language_info": {
   "codemirror_mode": {
    "name": "ipython",
    "version": 3
   },
   "file_extension": ".py",
   "mimetype": "text/x-python",
   "name": "python",
   "nbconvert_exporter": "python",
   "pygments_lexer": "ipython3",
   "version": "3.8.10"
  }
 },
 "nbformat": 4,
 "nbformat_minor": 4
}
