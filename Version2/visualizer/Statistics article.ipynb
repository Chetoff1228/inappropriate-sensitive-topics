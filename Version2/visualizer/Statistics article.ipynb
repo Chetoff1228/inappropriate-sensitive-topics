{
 "cells": [
  {
   "cell_type": "markdown",
   "metadata": {},
   "source": [
    "# Confidence"
   ]
  },
  {
   "cell_type": "code",
   "execution_count": 1,
   "metadata": {},
   "outputs": [],
   "source": [
    "import pandas as pd\n",
    "import numpy as np"
   ]
  },
  {
   "cell_type": "code",
   "execution_count": 3,
   "metadata": {},
   "outputs": [],
   "source": [
    "# df_h = pd.read_csv(\"../data_text/Hybrid_final_vs_splits/stages/H3_for_PUBLICATION_no_conflicts.csv\")\n",
    "df_h = pd.read_csv(\"C:/Users/N.Babakov/inappropriate-sensitive-topics/Inappropriateness_sensitive_topics_2.0/appropriateness/Appropriateness.csv\")"
   ]
  },
  {
   "cell_type": "code",
   "execution_count": 4,
   "metadata": {},
   "outputs": [
    {
     "data": {
      "text/plain": [
       "163332"
      ]
     },
     "execution_count": 4,
     "metadata": {},
     "output_type": "execute_result"
    }
   ],
   "source": [
    "len(df_h)"
   ]
  },
  {
   "cell_type": "code",
   "execution_count": 5,
   "metadata": {},
   "outputs": [
    {
     "data": {
      "text/plain": [
       "(8822, 154510)"
      ]
     },
     "execution_count": 5,
     "metadata": {},
     "output_type": "execute_result"
    }
   ],
   "source": [
    "len(df_h[df_h['human_labeled']==1]),len(df_h[df_h['human_labeled']==0])"
   ]
  },
  {
   "cell_type": "code",
   "execution_count": 24,
   "metadata": {},
   "outputs": [
    {
     "data": {
      "text/plain": [
       "(74376, 63219.6)"
      ]
     },
     "execution_count": 24,
     "metadata": {},
     "output_type": "execute_result"
    }
   ],
   "source": [
    "df_h_cut = df_h[(df_h['inappropriate']>0.8)|(df_h['inappropriate']<0.2)]\n",
    "len(df_h_cut), len(df_h_cut)*0.85"
   ]
  },
  {
   "cell_type": "code",
   "execution_count": 6,
   "metadata": {},
   "outputs": [
    {
     "data": {
      "text/html": [
       "<div>\n",
       "<style scoped>\n",
       "    .dataframe tbody tr th:only-of-type {\n",
       "        vertical-align: middle;\n",
       "    }\n",
       "\n",
       "    .dataframe tbody tr th {\n",
       "        vertical-align: top;\n",
       "    }\n",
       "\n",
       "    .dataframe thead th {\n",
       "        text-align: right;\n",
       "    }\n",
       "</style>\n",
       "<table border=\"1\" class=\"dataframe\">\n",
       "  <thead>\n",
       "    <tr style=\"text-align: right;\">\n",
       "      <th></th>\n",
       "      <th>text</th>\n",
       "      <th>inappropriate</th>\n",
       "      <th>offline_crime</th>\n",
       "      <th>online_crime</th>\n",
       "      <th>drugs</th>\n",
       "      <th>gambling</th>\n",
       "      <th>pornography</th>\n",
       "      <th>prostitution</th>\n",
       "      <th>slavery</th>\n",
       "      <th>suicide</th>\n",
       "      <th>...</th>\n",
       "      <th>body_shaming</th>\n",
       "      <th>health_shaming</th>\n",
       "      <th>politics</th>\n",
       "      <th>racism</th>\n",
       "      <th>religion</th>\n",
       "      <th>sexual_minorities</th>\n",
       "      <th>sexism</th>\n",
       "      <th>social_injustice</th>\n",
       "      <th>human_labeled</th>\n",
       "      <th>toxic_auto</th>\n",
       "    </tr>\n",
       "  </thead>\n",
       "  <tbody>\n",
       "    <tr>\n",
       "      <th>0</th>\n",
       "      <td>Начальники ДК и нынешнего места работы?</td>\n",
       "      <td>0.0</td>\n",
       "      <td>0.0</td>\n",
       "      <td>0.0</td>\n",
       "      <td>0.0</td>\n",
       "      <td>0.0</td>\n",
       "      <td>0.0</td>\n",
       "      <td>0.0</td>\n",
       "      <td>0.0</td>\n",
       "      <td>0.0</td>\n",
       "      <td>...</td>\n",
       "      <td>0.0</td>\n",
       "      <td>0.0</td>\n",
       "      <td>0.0</td>\n",
       "      <td>0.0</td>\n",
       "      <td>0.0</td>\n",
       "      <td>0.0</td>\n",
       "      <td>0.0</td>\n",
       "      <td>1.0</td>\n",
       "      <td>0</td>\n",
       "      <td>0.09</td>\n",
       "    </tr>\n",
       "    <tr>\n",
       "      <th>1</th>\n",
       "      <td>Читаю. Драки, грабежи, ДТП. Изредка убийства, ...</td>\n",
       "      <td>1.0</td>\n",
       "      <td>1.0</td>\n",
       "      <td>0.0</td>\n",
       "      <td>0.0</td>\n",
       "      <td>0.0</td>\n",
       "      <td>0.0</td>\n",
       "      <td>0.0</td>\n",
       "      <td>0.0</td>\n",
       "      <td>0.0</td>\n",
       "      <td>...</td>\n",
       "      <td>0.0</td>\n",
       "      <td>0.0</td>\n",
       "      <td>0.0</td>\n",
       "      <td>0.0</td>\n",
       "      <td>0.0</td>\n",
       "      <td>0.0</td>\n",
       "      <td>0.0</td>\n",
       "      <td>0.0</td>\n",
       "      <td>0</td>\n",
       "      <td>0.18</td>\n",
       "    </tr>\n",
       "    <tr>\n",
       "      <th>2</th>\n",
       "      <td>Допустимо, если информация не нарушает правил ...</td>\n",
       "      <td>0.0</td>\n",
       "      <td>0.0</td>\n",
       "      <td>1.0</td>\n",
       "      <td>0.0</td>\n",
       "      <td>0.0</td>\n",
       "      <td>0.0</td>\n",
       "      <td>0.0</td>\n",
       "      <td>0.0</td>\n",
       "      <td>0.0</td>\n",
       "      <td>...</td>\n",
       "      <td>0.0</td>\n",
       "      <td>0.0</td>\n",
       "      <td>0.0</td>\n",
       "      <td>0.0</td>\n",
       "      <td>0.0</td>\n",
       "      <td>0.0</td>\n",
       "      <td>0.0</td>\n",
       "      <td>0.0</td>\n",
       "      <td>0</td>\n",
       "      <td>0.02</td>\n",
       "    </tr>\n",
       "    <tr>\n",
       "      <th>3</th>\n",
       "      <td>В больницу при приеме на работу тоже мед комис...</td>\n",
       "      <td>0.0</td>\n",
       "      <td>0.0</td>\n",
       "      <td>0.0</td>\n",
       "      <td>0.0</td>\n",
       "      <td>0.0</td>\n",
       "      <td>0.0</td>\n",
       "      <td>0.0</td>\n",
       "      <td>0.0</td>\n",
       "      <td>0.0</td>\n",
       "      <td>...</td>\n",
       "      <td>0.0</td>\n",
       "      <td>1.0</td>\n",
       "      <td>0.0</td>\n",
       "      <td>0.0</td>\n",
       "      <td>0.0</td>\n",
       "      <td>0.0</td>\n",
       "      <td>0.0</td>\n",
       "      <td>0.0</td>\n",
       "      <td>0</td>\n",
       "      <td>0.00</td>\n",
       "    </tr>\n",
       "    <tr>\n",
       "      <th>4</th>\n",
       "      <td>а зачем ты на проураинские митинги выходил? во...</td>\n",
       "      <td>1.0</td>\n",
       "      <td>0.0</td>\n",
       "      <td>0.0</td>\n",
       "      <td>0.0</td>\n",
       "      <td>0.0</td>\n",
       "      <td>0.0</td>\n",
       "      <td>0.0</td>\n",
       "      <td>0.0</td>\n",
       "      <td>0.0</td>\n",
       "      <td>...</td>\n",
       "      <td>0.0</td>\n",
       "      <td>0.0</td>\n",
       "      <td>0.0</td>\n",
       "      <td>1.0</td>\n",
       "      <td>0.0</td>\n",
       "      <td>0.0</td>\n",
       "      <td>0.0</td>\n",
       "      <td>0.0</td>\n",
       "      <td>0</td>\n",
       "      <td>0.40</td>\n",
       "    </tr>\n",
       "  </tbody>\n",
       "</table>\n",
       "<p>5 rows × 22 columns</p>\n",
       "</div>"
      ],
      "text/plain": [
       "                                                text  inappropriate  \\\n",
       "0            Начальники ДК и нынешнего места работы?            0.0   \n",
       "1  Читаю. Драки, грабежи, ДТП. Изредка убийства, ...            1.0   \n",
       "2  Допустимо, если информация не нарушает правил ...            0.0   \n",
       "3  В больницу при приеме на работу тоже мед комис...            0.0   \n",
       "4  а зачем ты на проураинские митинги выходил? во...            1.0   \n",
       "\n",
       "   offline_crime  online_crime  drugs  gambling  pornography  prostitution  \\\n",
       "0            0.0           0.0    0.0       0.0          0.0           0.0   \n",
       "1            1.0           0.0    0.0       0.0          0.0           0.0   \n",
       "2            0.0           1.0    0.0       0.0          0.0           0.0   \n",
       "3            0.0           0.0    0.0       0.0          0.0           0.0   \n",
       "4            0.0           0.0    0.0       0.0          0.0           0.0   \n",
       "\n",
       "   slavery  suicide  ...  body_shaming  health_shaming  politics  racism  \\\n",
       "0      0.0      0.0  ...           0.0             0.0       0.0     0.0   \n",
       "1      0.0      0.0  ...           0.0             0.0       0.0     0.0   \n",
       "2      0.0      0.0  ...           0.0             0.0       0.0     0.0   \n",
       "3      0.0      0.0  ...           0.0             1.0       0.0     0.0   \n",
       "4      0.0      0.0  ...           0.0             0.0       0.0     1.0   \n",
       "\n",
       "   religion  sexual_minorities  sexism  social_injustice  human_labeled  \\\n",
       "0       0.0                0.0     0.0               1.0              0   \n",
       "1       0.0                0.0     0.0               0.0              0   \n",
       "2       0.0                0.0     0.0               0.0              0   \n",
       "3       0.0                0.0     0.0               0.0              0   \n",
       "4       0.0                0.0     0.0               0.0              0   \n",
       "\n",
       "   toxic_auto  \n",
       "0        0.09  \n",
       "1        0.18  \n",
       "2        0.02  \n",
       "3        0.00  \n",
       "4        0.40  \n",
       "\n",
       "[5 rows x 22 columns]"
      ]
     },
     "execution_count": 6,
     "metadata": {},
     "output_type": "execute_result"
    }
   ],
   "source": [
    "df_h.head()"
   ]
  },
  {
   "cell_type": "code",
   "execution_count": 7,
   "metadata": {},
   "outputs": [],
   "source": [
    "unsfae = list(df_h['inappropriate'])"
   ]
  },
  {
   "cell_type": "code",
   "execution_count": 8,
   "metadata": {},
   "outputs": [],
   "source": [
    "unsfae_adj = [el if el >=0.5 else 1 - el for el in unsfae]"
   ]
  },
  {
   "cell_type": "code",
   "execution_count": 9,
   "metadata": {},
   "outputs": [
    {
     "data": {
      "text/plain": [
       "0.9320158327823085"
      ]
     },
     "execution_count": 9,
     "metadata": {},
     "output_type": "execute_result"
    }
   ],
   "source": [
    "np.mean(unsfae_adj)"
   ]
  },
  {
   "cell_type": "code",
   "execution_count": 10,
   "metadata": {},
   "outputs": [
    {
     "data": {
      "text/plain": [
       "1.0"
      ]
     },
     "execution_count": 10,
     "metadata": {},
     "output_type": "execute_result"
    }
   ],
   "source": [
    "np.median(unsfae_adj)"
   ]
  },
  {
   "cell_type": "markdown",
   "metadata": {},
   "source": [
    "# Crowdosurce"
   ]
  },
  {
   "cell_type": "code",
   "execution_count": 15,
   "metadata": {},
   "outputs": [],
   "source": [
    "df_cr = pd.read_csv(\"../data_text/Multi_crowdsource_all.csv\")"
   ]
  },
  {
   "cell_type": "code",
   "execution_count": 16,
   "metadata": {
    "scrolled": true
   },
   "outputs": [
    {
     "data": {
      "text/html": [
       "<div>\n",
       "<style scoped>\n",
       "    .dataframe tbody tr th:only-of-type {\n",
       "        vertical-align: middle;\n",
       "    }\n",
       "\n",
       "    .dataframe tbody tr th {\n",
       "        vertical-align: top;\n",
       "    }\n",
       "\n",
       "    .dataframe thead th {\n",
       "        text-align: right;\n",
       "    }\n",
       "</style>\n",
       "<table border=\"1\" class=\"dataframe\">\n",
       "  <thead>\n",
       "    <tr style=\"text-align: right;\">\n",
       "      <th></th>\n",
       "      <th>text</th>\n",
       "      <th>Преступления (убийство, насилие, похищения, махинации), тюремная жизнь, судебные процессы</th>\n",
       "      <th>Преступления в интернете (взломы, обход блокировок,вирусы,пиратский контент, персональные данные, торренты)</th>\n",
       "      <th>Наркотики/табак/алкоголь</th>\n",
       "      <th>Азартные игры</th>\n",
       "      <th>Эротика/порнография/подробности половых актов/извращения</th>\n",
       "      <th>Проституция</th>\n",
       "      <th>Рабство, торговля людьми/органами</th>\n",
       "      <th>Призывы к самоубийству/обсуждение способов самоубийства</th>\n",
       "      <th>Терроризм (призывы и подготовка к террактам/войнам)</th>\n",
       "      <th>Оружие</th>\n",
       "      <th>Внешность/одежда человека</th>\n",
       "      <th>Болезни, инвалидность, психические заболевания</th>\n",
       "      <th>Политика/исторические и современные конфликты/военная служба</th>\n",
       "      <th>Расизм, национализм</th>\n",
       "      <th>Религия</th>\n",
       "      <th>ЛГБТ (лесбиянки, гомосексуалисты, бисексуалы, траснегендеры)</th>\n",
       "      <th>Стереотипы о мужчинах/женщинах</th>\n",
       "      <th>Социальное неравенство (деньги, образование, место жительства итд)</th>\n",
       "    </tr>\n",
       "  </thead>\n",
       "  <tbody>\n",
       "    <tr>\n",
       "      <th>0</th>\n",
       "      <td>Нееет, родаки обязаны родив личинку дать ей об...</td>\n",
       "      <td>0.0</td>\n",
       "      <td>0.0</td>\n",
       "      <td>0.0</td>\n",
       "      <td>0.0</td>\n",
       "      <td>0.0</td>\n",
       "      <td>0.0</td>\n",
       "      <td>0.0</td>\n",
       "      <td>0.0</td>\n",
       "      <td>0.0</td>\n",
       "      <td>0.0</td>\n",
       "      <td>0.0</td>\n",
       "      <td>0.0</td>\n",
       "      <td>0.0</td>\n",
       "      <td>0.19</td>\n",
       "      <td>0.0</td>\n",
       "      <td>1.0</td>\n",
       "      <td>1.0</td>\n",
       "      <td>1.0</td>\n",
       "    </tr>\n",
       "    <tr>\n",
       "      <th>1</th>\n",
       "      <td>баба в мусульманских странах она не имеет прав...</td>\n",
       "      <td>1.0</td>\n",
       "      <td>0.0</td>\n",
       "      <td>0.0</td>\n",
       "      <td>0.0</td>\n",
       "      <td>0.0</td>\n",
       "      <td>0.0</td>\n",
       "      <td>0.0</td>\n",
       "      <td>0.0</td>\n",
       "      <td>0.0</td>\n",
       "      <td>0.0</td>\n",
       "      <td>0.0</td>\n",
       "      <td>0.0</td>\n",
       "      <td>0.0</td>\n",
       "      <td>0.00</td>\n",
       "      <td>1.0</td>\n",
       "      <td>0.0</td>\n",
       "      <td>1.0</td>\n",
       "      <td>1.0</td>\n",
       "    </tr>\n",
       "    <tr>\n",
       "      <th>2</th>\n",
       "      <td>Группа в основном толстая, хотя фотки настоящи...</td>\n",
       "      <td>0.0</td>\n",
       "      <td>0.0</td>\n",
       "      <td>0.0</td>\n",
       "      <td>0.0</td>\n",
       "      <td>0.0</td>\n",
       "      <td>0.0</td>\n",
       "      <td>0.0</td>\n",
       "      <td>0.0</td>\n",
       "      <td>0.0</td>\n",
       "      <td>0.0</td>\n",
       "      <td>0.0</td>\n",
       "      <td>0.0</td>\n",
       "      <td>1.0</td>\n",
       "      <td>1.00</td>\n",
       "      <td>0.0</td>\n",
       "      <td>0.0</td>\n",
       "      <td>1.0</td>\n",
       "      <td>1.0</td>\n",
       "    </tr>\n",
       "    <tr>\n",
       "      <th>3</th>\n",
       "      <td>Учи японский и едь в Японию там у них характер...</td>\n",
       "      <td>0.0</td>\n",
       "      <td>0.0</td>\n",
       "      <td>0.0</td>\n",
       "      <td>0.0</td>\n",
       "      <td>0.0</td>\n",
       "      <td>0.0</td>\n",
       "      <td>0.0</td>\n",
       "      <td>0.0</td>\n",
       "      <td>0.0</td>\n",
       "      <td>0.0</td>\n",
       "      <td>0.0</td>\n",
       "      <td>0.0</td>\n",
       "      <td>0.0</td>\n",
       "      <td>0.79</td>\n",
       "      <td>0.0</td>\n",
       "      <td>0.0</td>\n",
       "      <td>1.0</td>\n",
       "      <td>1.0</td>\n",
       "    </tr>\n",
       "    <tr>\n",
       "      <th>4</th>\n",
       "      <td>но ведь в сборнике анекдотов конституции рахи ...</td>\n",
       "      <td>0.0</td>\n",
       "      <td>0.0</td>\n",
       "      <td>0.0</td>\n",
       "      <td>0.0</td>\n",
       "      <td>0.0</td>\n",
       "      <td>0.0</td>\n",
       "      <td>1.0</td>\n",
       "      <td>0.0</td>\n",
       "      <td>0.0</td>\n",
       "      <td>0.0</td>\n",
       "      <td>0.0</td>\n",
       "      <td>0.0</td>\n",
       "      <td>1.0</td>\n",
       "      <td>0.00</td>\n",
       "      <td>0.0</td>\n",
       "      <td>0.0</td>\n",
       "      <td>1.0</td>\n",
       "      <td>1.0</td>\n",
       "    </tr>\n",
       "  </tbody>\n",
       "</table>\n",
       "</div>"
      ],
      "text/plain": [
       "                                                text  \\\n",
       "0  Нееет, родаки обязаны родив личинку дать ей об...   \n",
       "1  баба в мусульманских странах она не имеет прав...   \n",
       "2  Группа в основном толстая, хотя фотки настоящи...   \n",
       "3  Учи японский и едь в Японию там у них характер...   \n",
       "4  но ведь в сборнике анекдотов конституции рахи ...   \n",
       "\n",
       "   Преступления (убийство, насилие, похищения, махинации), тюремная жизнь, судебные процессы  \\\n",
       "0                                                0.0                                           \n",
       "1                                                1.0                                           \n",
       "2                                                0.0                                           \n",
       "3                                                0.0                                           \n",
       "4                                                0.0                                           \n",
       "\n",
       "   Преступления в интернете (взломы, обход блокировок,вирусы,пиратский контент, персональные данные, торренты)  \\\n",
       "0                                                0.0                                                             \n",
       "1                                                0.0                                                             \n",
       "2                                                0.0                                                             \n",
       "3                                                0.0                                                             \n",
       "4                                                0.0                                                             \n",
       "\n",
       "   Наркотики/табак/алкоголь  Азартные игры  \\\n",
       "0                       0.0            0.0   \n",
       "1                       0.0            0.0   \n",
       "2                       0.0            0.0   \n",
       "3                       0.0            0.0   \n",
       "4                       0.0            0.0   \n",
       "\n",
       "   Эротика/порнография/подробности половых актов/извращения  Проституция  \\\n",
       "0                                                0.0                 0.0   \n",
       "1                                                0.0                 0.0   \n",
       "2                                                0.0                 0.0   \n",
       "3                                                0.0                 0.0   \n",
       "4                                                0.0                 0.0   \n",
       "\n",
       "   Рабство, торговля людьми/органами  \\\n",
       "0                                0.0   \n",
       "1                                0.0   \n",
       "2                                0.0   \n",
       "3                                0.0   \n",
       "4                                1.0   \n",
       "\n",
       "   Призывы к самоубийству/обсуждение способов самоубийства  \\\n",
       "0                                                0.0         \n",
       "1                                                0.0         \n",
       "2                                                0.0         \n",
       "3                                                0.0         \n",
       "4                                                0.0         \n",
       "\n",
       "   Терроризм (призывы и подготовка к террактам/войнам)  Оружие  \\\n",
       "0                                                0.0       0.0   \n",
       "1                                                0.0       0.0   \n",
       "2                                                0.0       0.0   \n",
       "3                                                0.0       0.0   \n",
       "4                                                0.0       0.0   \n",
       "\n",
       "   Внешность/одежда человека  Болезни, инвалидность, психические заболевания  \\\n",
       "0                        0.0                                             0.0   \n",
       "1                        0.0                                             0.0   \n",
       "2                        0.0                                             0.0   \n",
       "3                        0.0                                             0.0   \n",
       "4                        0.0                                             0.0   \n",
       "\n",
       "   Политика/исторические и современные конфликты/военная служба  \\\n",
       "0                                                0.0              \n",
       "1                                                0.0              \n",
       "2                                                1.0              \n",
       "3                                                0.0              \n",
       "4                                                1.0              \n",
       "\n",
       "   Расизм, национализм  Религия  \\\n",
       "0                 0.19      0.0   \n",
       "1                 0.00      1.0   \n",
       "2                 1.00      0.0   \n",
       "3                 0.79      0.0   \n",
       "4                 0.00      0.0   \n",
       "\n",
       "   ЛГБТ (лесбиянки, гомосексуалисты, бисексуалы, траснегендеры)  \\\n",
       "0                                                1.0              \n",
       "1                                                0.0              \n",
       "2                                                0.0              \n",
       "3                                                0.0              \n",
       "4                                                0.0              \n",
       "\n",
       "   Стереотипы о мужчинах/женщинах  \\\n",
       "0                             1.0   \n",
       "1                             1.0   \n",
       "2                             1.0   \n",
       "3                             1.0   \n",
       "4                             1.0   \n",
       "\n",
       "   Социальное неравенство (деньги, образование, место жительства итд)  \n",
       "0                                                1.0                   \n",
       "1                                                1.0                   \n",
       "2                                                1.0                   \n",
       "3                                                1.0                   \n",
       "4                                                1.0                   "
      ]
     },
     "execution_count": 16,
     "metadata": {},
     "output_type": "execute_result"
    }
   ],
   "source": [
    "df_cr.head()"
   ]
  },
  {
   "cell_type": "code",
   "execution_count": 17,
   "metadata": {},
   "outputs": [],
   "source": [
    "columns_nec = list(df_cr.columns)[1:]"
   ]
  },
  {
   "cell_type": "code",
   "execution_count": 18,
   "metadata": {},
   "outputs": [],
   "source": [
    "collected_condifences_raw = []\n",
    "for c in columns_nec:\n",
    "    curr_conf = list(df_cr[c])\n",
    "    collected_condifences_raw.extend(curr_conf)"
   ]
  },
  {
   "cell_type": "code",
   "execution_count": 19,
   "metadata": {},
   "outputs": [],
   "source": [
    "collected_condifences_adj = [el if el >=0.5 else 1 - el for el in collected_condifences_raw]"
   ]
  },
  {
   "cell_type": "code",
   "execution_count": 20,
   "metadata": {},
   "outputs": [
    {
     "data": {
      "text/plain": [
       "0.996626333724373"
      ]
     },
     "execution_count": 20,
     "metadata": {},
     "output_type": "execute_result"
    }
   ],
   "source": [
    "np.mean(collected_condifences_adj)"
   ]
  },
  {
   "cell_type": "code",
   "execution_count": 21,
   "metadata": {},
   "outputs": [
    {
     "data": {
      "text/plain": [
       "1.0"
      ]
     },
     "execution_count": 21,
     "metadata": {},
     "output_type": "execute_result"
    }
   ],
   "source": [
    "np.median(collected_condifences_adj)"
   ]
  },
  {
   "cell_type": "markdown",
   "metadata": {},
   "source": [
    "# PIE CHART для топиков на семпл"
   ]
  },
  {
   "cell_type": "code",
   "execution_count": 25,
   "metadata": {},
   "outputs": [
    {
     "data": {
      "image/png": "[encoded data removed]",
      "text/plain": [
       "<Figure size 720x504 with 1 Axes>"
      ]
     },
     "metadata": {},
     "output_type": "display_data"
    }
   ],
   "source": [
    "# Import libraries \n",
    "from matplotlib import pyplot as plt \n",
    "import numpy as np \n",
    "\n",
    "\n",
    "# Creating dataset \n",
    "cars = ['AUDI', 'BMW', 'FORD', \n",
    "\t\t'TESLA', 'JAGUAR', 'MERCEDES'] \n",
    "\n",
    "data = [23, 17, 35, 29, 12, 41] \n",
    "\n",
    "# Creating plot \n",
    "fig = plt.figure(figsize =(10, 7)) \n",
    "plt.pie(data, labels = cars) \n",
    "\n",
    "# show plot \n",
    "plt.show() "
   ]
  },
  {
   "cell_type": "code",
   "execution_count": 2,
   "metadata": {},
   "outputs": [
    {
     "data": {
      "image/png": "[encoded data removed]",
      "text/plain": [
       "<Figure size 720x504 with 1 Axes>"
      ]
     },
     "metadata": {},
     "output_type": "display_data"
    }
   ],
   "source": [
    "# Import libraries \n",
    "import numpy as np \n",
    "import matplotlib.pyplot as plt \n",
    "\n",
    "\n",
    "# Creating dataset \n",
    "cars = ['AUDI', 'BMW', 'FORD', \n",
    "\t\t'TESLA', 'JAGUAR', 'MERCEDES'] \n",
    "\n",
    "data = [23, 17, 35, 29, 12, 41] \n",
    "\n",
    "\n",
    "# Creating explode data \n",
    "explode = (0.1, 0.0, 0.2, 0.3, 0.0, 0.0) \n",
    "\n",
    "# Creating color parameters \n",
    "colors = ( \"orange\", \"cyan\", \"brown\", \n",
    "\t\t\"grey\", \"indigo\", \"beige\") \n",
    "\n",
    "# Wedge properties \n",
    "wp = { 'linewidth' : 1, 'edgecolor' : \"green\" } \n",
    "\n",
    "# Creating autocpt arguments \n",
    "def func(pct, allvalues): \n",
    "\tabsolute = int(pct / 100.*np.sum(allvalues)) \n",
    "\treturn \"{:.1f}%\\n({:d} g)\".format(pct, absolute) \n",
    "\n",
    "# Creating plot \n",
    "fig, ax = plt.subplots(figsize =(10, 7)) \n",
    "wedges, texts, autotexts = ax.pie(data, \n",
    "\t\t\t\t\t\t\t\tautopct = lambda pct: func(pct, data), \n",
    "\t\t\t\t\t\t\t\texplode = explode, \n",
    "\t\t\t\t\t\t\t\tlabels = cars, \n",
    "\t\t\t\t\t\t\t\tshadow = True, \n",
    "\t\t\t\t\t\t\t\tcolors = colors, \n",
    "\t\t\t\t\t\t\t\tstartangle = 90, \n",
    "\t\t\t\t\t\t\t\twedgeprops = wp, \n",
    "\t\t\t\t\t\t\t\ttextprops = dict(color =\"magenta\")) \n",
    "\n",
    "# Adding legend \n",
    "ax.legend(wedges, cars, \n",
    "\t\ttitle =\"Cars\", \n",
    "\t\tloc =\"center left\", \n",
    "\t\tbbox_to_anchor =(1, 0, 0.5, 1)) \n",
    "\n",
    "plt.setp(autotexts, size = 8, weight =\"bold\") \n",
    "ax.set_title(\"Customizing pie chart\") \n",
    "\n",
    "# show plot \n",
    "plt.show() \n"
   ]
  },
  {
   "cell_type": "code",
   "execution_count": 27,
   "metadata": {},
   "outputs": [
    {
     "data": {
      "image/png": "[encoded data removed]",
      "text/plain": [
       "<Figure size 720x432 with 1 Axes>"
      ]
     },
     "metadata": {},
     "output_type": "display_data"
    }
   ],
   "source": [
    "\n",
    "\n",
    "# Creating dataset \n",
    "# cars = [0, 1, 2, 3, '4+'] \n",
    "cars = [0, 1, 2, 3, '4+'] \n",
    "\n",
    "data = [3479, 18908, 2313, 819, 145+13] \n",
    "\n",
    "\n",
    "# Creating explode data \n",
    "explode = (0.0, 0.0, 0.0, 0.2, 0.5) \n",
    "\n",
    "# Creating color parameters \n",
    "colors = ( \"orange\", \"white\", \"brown\", \n",
    "\t\t\"grey\", \"cyan\") \n",
    "\n",
    "# Wedge properties \n",
    "wp = { 'linewidth' : 1, 'edgecolor' : \"green\" } \n",
    "\n",
    "# Creating autocpt arguments \n",
    "def func(pct, allvalues): \n",
    "\tabsolute = int(pct / 100.*np.sum(allvalues)) \n",
    "\treturn \"{:.1f}%\\n({:d})\".format(pct, absolute) \n",
    "\n",
    "# Creating plot \n",
    "fig, ax = plt.subplots(figsize =(10, 6)) \n",
    "wedges, texts, autotexts = ax.pie(data, \n",
    "\t\t\t\t\t\t\t\tautopct = lambda pct: func(pct, data), \n",
    "\t\t\t\t\t\t\t\texplode = explode, \n",
    "\t\t\t\t\t\t\t\tlabels = cars, \n",
    "\t\t\t\t\t\t\t\tshadow = False, \n",
    "\t\t\t\t\t\t\t\tcolors = colors, \n",
    "\t\t\t\t\t\t\t\tstartangle = 90, \n",
    "\t\t\t\t\t\t\t\twedgeprops = wp, \n",
    "\t\t\t\t\t\t\t\ttextprops = dict(color =\"black\"))#, pctdistance=1.1, labeldistance=1.2) #1.2\n",
    "\n",
    "# Adding legend \n",
    "# ax.legend(wedges, cars, \n",
    "# \t\ttitle =\"Topics per sample\", \n",
    "# \t\tloc =\"upper left\", \n",
    "# \t\tbbox_to_anchor =(1, 0, 0.5, 1)) \n",
    "\n",
    "for txt in texts:\n",
    "    txt.set_fontsize(16)\n",
    "    \n",
    "plt.setp(autotexts, size = 12, weight =\"bold\") \n",
    "# ax.set_title(\"Customizing pie chart\") \n",
    "plt.tight_layout()\n",
    "# show plot \n",
    "# plt.show() \n",
    "plt.savefig(\"piechart.eps\",format='eps')"
   ]
  },
  {
   "cell_type": "code",
   "execution_count": 40,
   "metadata": {},
   "outputs": [],
   "source": [
    "cars = [0, 1, 2, 3, 'gt4'] \n",
    "data = [3479, 18908, 2313, 819, 145+13] \n",
    "df_count_sample = pd.DataFrame({'count':cars,'number':data})"
   ]
  },
  {
   "cell_type": "code",
   "execution_count": 41,
   "metadata": {},
   "outputs": [
    {
     "data": {
      "text/html": [
       "<div>\n",
       "<style scoped>\n",
       "    .dataframe tbody tr th:only-of-type {\n",
       "        vertical-align: middle;\n",
       "    }\n",
       "\n",
       "    .dataframe tbody tr th {\n",
       "        vertical-align: top;\n",
       "    }\n",
       "\n",
       "    .dataframe thead th {\n",
       "        text-align: right;\n",
       "    }\n",
       "</style>\n",
       "<table border=\"1\" class=\"dataframe\">\n",
       "  <thead>\n",
       "    <tr style=\"text-align: right;\">\n",
       "      <th></th>\n",
       "      <th>count</th>\n",
       "      <th>number</th>\n",
       "    </tr>\n",
       "  </thead>\n",
       "  <tbody>\n",
       "    <tr>\n",
       "      <th>0</th>\n",
       "      <td>0</td>\n",
       "      <td>3479</td>\n",
       "    </tr>\n",
       "    <tr>\n",
       "      <th>1</th>\n",
       "      <td>1</td>\n",
       "      <td>18908</td>\n",
       "    </tr>\n",
       "    <tr>\n",
       "      <th>2</th>\n",
       "      <td>2</td>\n",
       "      <td>2313</td>\n",
       "    </tr>\n",
       "    <tr>\n",
       "      <th>3</th>\n",
       "      <td>3</td>\n",
       "      <td>819</td>\n",
       "    </tr>\n",
       "    <tr>\n",
       "      <th>4</th>\n",
       "      <td>gt</td>\n",
       "      <td>158</td>\n",
       "    </tr>\n",
       "  </tbody>\n",
       "</table>\n",
       "</div>"
      ],
      "text/plain": [
       "  count  number\n",
       "0     0    3479\n",
       "1     1   18908\n",
       "2     2    2313\n",
       "3     3     819\n",
       "4    gt     158"
      ]
     },
     "execution_count": 41,
     "metadata": {},
     "output_type": "execute_result"
    }
   ],
   "source": [
    "df_count_sample"
   ]
  },
  {
   "cell_type": "code",
   "execution_count": 42,
   "metadata": {},
   "outputs": [
    {
     "data": {
      "text/plain": [
       "<AxesSubplot:ylabel='Appropriateness'>"
      ]
     },
     "execution_count": 42,
     "metadata": {},
     "output_type": "execute_result"
    },
    {
     "data": {
      "image/png": "[encoded data removed]",
      "text/plain": [
       "<Figure size 432x288 with 1 Axes>"
      ]
     },
     "metadata": {
      "needs_background": "light"
     },
     "output_type": "display_data"
    }
   ],
   "source": [
    "df_count_sample['number'].plot( kind='barh', xlabel = 'Appropriateness', ylabel = 'count')\n"
   ]
  },
  {
   "cell_type": "code",
   "execution_count": 4,
   "metadata": {
    "scrolled": true
   },
   "outputs": [
    {
     "data": {
      "text/plain": [
       "[Text(-0.49550336198919054, 1.0929210485014045, '0'),\n",
       " Text(0.02774658783684061, -1.19967917663991, '1'),\n",
       " Text(0.5984099719222654, 1.04014686727596, '2'),\n",
       " Text(0.1937906843850356, 1.386522690274335, '3'),\n",
       " Text(0.032861371054436934, 1.6996823615877241, '4+')]"
      ]
     },
     "execution_count": 4,
     "metadata": {},
     "output_type": "execute_result"
    }
   ],
   "source": [
    "texts"
   ]
  },
  {
   "cell_type": "code",
   "execution_count": 48,
   "metadata": {},
   "outputs": [
    {
     "data": {
      "text/plain": [
       "[3479, 18908, 2313, 819, 158]"
      ]
     },
     "execution_count": 48,
     "metadata": {},
     "output_type": "execute_result"
    }
   ],
   "source": [
    "data"
   ]
  },
  {
   "cell_type": "code",
   "execution_count": 49,
   "metadata": {},
   "outputs": [
    {
     "data": {
      "image/png": "[encoded data removed]",
      "text/plain": [
       "<Figure size 432x288 with 1 Axes>"
      ]
     },
     "metadata": {
      "needs_background": "light"
     },
     "output_type": "display_data"
    }
   ],
   "source": [
    "# import numpy as np\n",
    "# import matplotlib.pyplot as plt\n",
    "\n",
    "# # Fixing random state for reproducibility\n",
    "# np.random.seed(19680801)\n",
    "\n",
    "# mu, sigma = 100, 15\n",
    "# x = mu + sigma * np.random.randn(10000)\n",
    "\n",
    "# # the histogram of the data\n",
    "# n, bins, patches = plt.hist(data, 4, density=True, facecolor='g')#, alpha=0.75\n",
    "\n",
    "\n",
    "# plt.xlabel('Smarts')\n",
    "# plt.ylabel('Probability')\n",
    "# plt.title('Histogram of IQ')\n",
    "# # plt.text(60, .025, r'$\\mu=100,\\ \\sigma=15$')\n",
    "# plt.xlim(40, 160)\n",
    "# plt.ylim(0, 0.03)\n",
    "# plt.grid(True)\n",
    "# plt.show()"
   ]
  },
  {
   "cell_type": "code",
   "execution_count": 69,
   "metadata": {},
   "outputs": [],
   "source": [
    "from collections import Counter"
   ]
  },
  {
   "cell_type": "code",
   "execution_count": 26,
   "metadata": {},
   "outputs": [
    {
     "name": "stdout",
     "output_type": "stream",
     "text": [
      "0 3479\n",
      "1 18908\n",
      "2 2313\n",
      "3 819\n",
      "4+ 158\n"
     ]
    }
   ],
   "source": [
    "lbl_per_cnt = [0, 1, 2, 3, '4+'] \n",
    "data = [3479, 18908, 2313, 819, 145+13] \n",
    "data_adj = []\n",
    "for lpc,cnt in zip(lbl_per_cnt,data):\n",
    "    print(lpc,cnt)\n",
    "    adj_curr_list = [lpc] * cnt\n",
    "    data_adj.extend(adj_curr_list)\n"
   ]
  },
  {
   "cell_type": "code",
   "execution_count": 27,
   "metadata": {},
   "outputs": [
    {
     "ename": "NameError",
     "evalue": "name 'Counter' is not defined",
     "output_type": "error",
     "traceback": [
      "\u001b[1;31m---------------------------------------------------------------------------\u001b[0m",
      "\u001b[1;31mNameError\u001b[0m                                 Traceback (most recent call last)",
      "\u001b[1;32m<ipython-input-27-7aaea3d043ac>\u001b[0m in \u001b[0;36m<module>\u001b[1;34m\u001b[0m\n\u001b[1;32m----> 1\u001b[1;33m \u001b[0mCounter\u001b[0m\u001b[1;33m(\u001b[0m\u001b[0mdata_adj\u001b[0m\u001b[1;33m)\u001b[0m\u001b[1;33m\u001b[0m\u001b[1;33m\u001b[0m\u001b[0m\n\u001b[0m",
      "\u001b[1;31mNameError\u001b[0m: name 'Counter' is not defined"
     ]
    }
   ],
   "source": [
    "Counter(data_adj)"
   ]
  },
  {
   "cell_type": "code",
   "execution_count": 94,
   "metadata": {},
   "outputs": [
    {
     "data": {
      "text/plain": [
       "25677"
      ]
     },
     "execution_count": 94,
     "metadata": {},
     "output_type": "execute_result"
    }
   ],
   "source": [
    "len(data_adj)"
   ]
  },
  {
   "cell_type": "code",
   "execution_count": 28,
   "metadata": {},
   "outputs": [
    {
     "data": {
      "image/png": "[encoded data removed]",
      "text/plain": [
       "<Figure size 432x288 with 1 Axes>"
      ]
     },
     "metadata": {
      "needs_background": "light"
     },
     "output_type": "display_data"
    }
   ],
   "source": [
    "n, bins, patches = plt.hist(data_adj, 5, density=False, facecolor='g')\n",
    "\n",
    "plt.xlabel('Smarts')\n",
    "plt.ylabel('Probability')\n",
    "plt.title('Histogram of IQ')\n",
    "# plt.text(60, .025, r'$\\mu=100,\\ \\sigma=15$')\n",
    "# plt.xlim(0, 10)\n",
    "# plt.ylim(0, 0.03)\n",
    "plt.grid(True)\n",
    "plt.show()"
   ]
  },
  {
   "cell_type": "code",
   "execution_count": 29,
   "metadata": {},
   "outputs": [
    {
     "data": {
      "image/png": "[encoded data removed]",
      "text/plain": [
       "<Figure size 432x288 with 2 Axes>"
      ]
     },
     "metadata": {
      "needs_background": "light"
     },
     "output_type": "display_data"
    }
   ],
   "source": [
    "fig, ax = plt.subplots()\n",
    "n, bins, patches = plt.hist(data_adj, 5, density=False, facecolor='g')\n",
    "ax2 = ax.twinx()\n",
    "plt.sca(ax2)\n",
    "n, bins, patches = plt.hist(data_adj, 5, density=True, facecolor='g')\n",
    "\n",
    "plt.grid(True)\n",
    "plt.show()\n",
    "\n",
    "fig.savefig(\"topcis_per_sample.pdf\",format='pdf')"
   ]
  },
  {
   "cell_type": "code",
   "execution_count": 4,
   "metadata": {},
   "outputs": [
    {
     "data": {
      "image/png": "[encoded data removed]",
      "text/plain": [
       "<Figure size 640x480 with 1 Axes>"
      ]
     },
     "metadata": {},
     "output_type": "display_data"
    }
   ],
   "source": [
    "import matplotlib.pyplot as plt; plt.rcdefaults()\n",
    "import numpy as np\n",
    "import matplotlib.pyplot as plt\n",
    "\n",
    "objects = ('Python', 'C++', 'Java', 'Perl', 'Scala', 'Lisp')\n",
    "y_pos = np.arange(len(objects))\n",
    "performance = [10,8,6,4,2,1]\n",
    "\n",
    "plt.bar(y_pos, performance, align='center', alpha=0.1)\n",
    "plt.xticks(y_pos, objects)\n",
    "plt.ylabel('Usage')\n",
    "plt.title('Programming language usage')\n",
    "\n",
    "plt.show()"
   ]
  },
  {
   "cell_type": "code",
   "execution_count": 111,
   "metadata": {},
   "outputs": [
    {
     "data": {
      "text/plain": [
       "[3479, 18908, 2313, 819, 158]"
      ]
     },
     "execution_count": 111,
     "metadata": {},
     "output_type": "execute_result"
    }
   ],
   "source": [
    "data"
   ]
  },
  {
   "cell_type": "code",
   "execution_count": null,
   "metadata": {},
   "outputs": [],
   "source": []
  },
  {
   "cell_type": "code",
   "execution_count": 30,
   "metadata": {},
   "outputs": [
    {
     "data": {
      "image/png": "[encoded data removed]",
      "text/plain": [
       "<Figure size 432x288 with 1 Axes>"
      ]
     },
     "metadata": {
      "needs_background": "light"
     },
     "output_type": "display_data"
    }
   ],
   "source": [
    "objects = lbl_per_cnt\n",
    "y_pos = np.arange(len(data))\n",
    "performance = data\n",
    "\n",
    "plt.bar(y_pos, performance, align='center', alpha=0.5)\n",
    "plt.xticks(y_pos, objects)\n",
    "plt.ylabel('Usage')\n",
    "plt.title('Programming language usage')\n",
    "\n",
    "plt.show()"
   ]
  },
  {
   "cell_type": "code",
   "execution_count": 32,
   "metadata": {},
   "outputs": [],
   "source": [
    "data_pcnt = [round(el/sum(data),2) for el in data]"
   ]
  },
  {
   "cell_type": "code",
   "execution_count": 33,
   "metadata": {},
   "outputs": [
    {
     "data": {
      "text/plain": [
       "[0.14, 0.74, 0.09, 0.03, 0.01]"
      ]
     },
     "execution_count": 33,
     "metadata": {},
     "output_type": "execute_result"
    }
   ],
   "source": [
    "data_pcnt"
   ]
  },
  {
   "cell_type": "code",
   "execution_count": 54,
   "metadata": {},
   "outputs": [
    {
     "data": {
      "image/png": "[encoded data removed]",
      "text/plain": [
       "<Figure size 432x288 with 2 Axes>"
      ]
     },
     "metadata": {
      "needs_background": "light"
     },
     "output_type": "display_data"
    }
   ],
   "source": [
    "fig, ax = plt.subplots()\n",
    "\n",
    "objects = lbl_per_cnt\n",
    "y_pos = np.arange(len(data))\n",
    "performance = data\n",
    "\n",
    "plt.bar(y_pos, performance, align='center', alpha=0.5)\n",
    "plt.xticks(y_pos, objects)\n",
    "plt.rc('xtick', labelsize=15)\n",
    "plt.xlabel('Topics per sample', fontsize=18)\n",
    "plt.ylabel('# samples', fontsize=18)\n",
    "\n",
    "ax2 = ax.twinx()\n",
    "plt.sca(ax2)\n",
    "plt.bar(y_pos, data_pcnt, align='center', alpha=0.5)\n",
    "\n",
    "plt.ylabel('Percentage', fontsize=18)\n",
    "# plt.title('Programming language usage')\n",
    "\n",
    "fig.savefig(\"topcis_per_sample.pdf\",format='pdf', bbox_inches='tight')"
   ]
  },
  {
   "cell_type": "code",
   "execution_count": 99,
   "metadata": {},
   "outputs": [
    {
     "data": {
      "text/plain": [
       "array([0.13549091, 0.73637886, 0.09008062, 0.03804962])"
      ]
     },
     "execution_count": 99,
     "metadata": {},
     "output_type": "execute_result"
    }
   ],
   "source": [
    "n"
   ]
  },
  {
   "cell_type": "code",
   "execution_count": 81,
   "metadata": {},
   "outputs": [],
   "source": [
    "import matplotlib.pyplot as plt\n",
    "import seaborn as sns\n",
    "# fig, ax = plt.subplots()\n"
   ]
  },
  {
   "cell_type": "code",
   "execution_count": 91,
   "metadata": {},
   "outputs": [
    {
     "data": {
      "image/png": "[encoded data removed]",
      "text/plain": [
       "<Figure size 432x288 with 2 Axes>"
      ]
     },
     "metadata": {
      "needs_background": "light"
     },
     "output_type": "display_data"
    }
   ],
   "source": [
    "fig, ax = plt.subplots()\n",
    "sns.histplot(data_adj, bins=4)\n",
    "ax2 = ax.twinx()\n",
    "sns.kdeplot(data_adj, ax=ax2)\n",
    "plt.tight_layout()\n",
    "plt.show()"
   ]
  },
  {
   "cell_type": "markdown",
   "metadata": {},
   "source": [
    "# Words per sentence"
   ]
  },
  {
   "cell_type": "code",
   "execution_count": 5,
   "metadata": {},
   "outputs": [],
   "source": [
    "import pandas as pd\n",
    "import re\n",
    "import numpy as np \n",
    "import matplotlib.pyplot as plt "
   ]
  },
  {
   "cell_type": "code",
   "execution_count": 4,
   "metadata": {},
   "outputs": [],
   "source": [
    "df_multi = pd.read_csv(\"../data_text/crowd_vs_part123self.csv\")\n",
    "\n",
    "df_hybrid = pd.read_csv(\"../data_text/HYBRID_ST123_CLEANED_FINAL.csv\")\n"
   ]
  },
  {
   "cell_type": "code",
   "execution_count": 5,
   "metadata": {},
   "outputs": [],
   "source": [
    "def round_up(val):\n",
    "    if float(val) > 0.5:\n",
    "        return 1\n",
    "    return 0"
   ]
  },
  {
   "cell_type": "code",
   "execution_count": 6,
   "metadata": {},
   "outputs": [],
   "source": [
    "df_count = pd.DataFrame()\n",
    "for c in df_multi.columns:\n",
    "    if c != 'text':\n",
    "        df_count[c] = df_multi[c].apply(round_up)\n",
    "    else:\n",
    "        df_count[c] = df_multi[c]"
   ]
  },
  {
   "cell_type": "code",
   "execution_count": 51,
   "metadata": {},
   "outputs": [
    {
     "name": "stdout",
     "output_type": "stream",
     "text": [
      "<class 'pandas.core.frame.DataFrame'>\n",
      "RangeIndex: 25679 entries, 0 to 25678\n",
      "Data columns (total 21 columns):\n",
      " #   Column               Non-Null Count  Dtype \n",
      "---  ------               --------------  ----- \n",
      " 0   text                 25679 non-null  object\n",
      " 1   crime_real           25679 non-null  int64 \n",
      " 2   crime_web            25679 non-null  int64 \n",
      " 3   drugs                25679 non-null  int64 \n",
      " 4   gambling             25679 non-null  int64 \n",
      " 5   pornography          25679 non-null  int64 \n",
      " 6   prostitution         25679 non-null  int64 \n",
      " 7   slavery              25679 non-null  int64 \n",
      " 8   suicide              25679 non-null  int64 \n",
      " 9   terrorism            25679 non-null  int64 \n",
      " 10  weapons              25679 non-null  int64 \n",
      " 11  body_shaming         25679 non-null  int64 \n",
      " 12  halth_shaming        25679 non-null  int64 \n",
      " 13  politics             25679 non-null  int64 \n",
      " 14  racism               25679 non-null  int64 \n",
      " 15  religion             25679 non-null  int64 \n",
      " 16  sex_minorities       25679 non-null  int64 \n",
      " 17  sexism               25679 non-null  int64 \n",
      " 18  social               25679 non-null  int64 \n",
      " 19  wc                   25679 non-null  int64 \n",
      " 20  word count clusters  25679 non-null  object\n",
      "dtypes: int64(19), object(2)\n",
      "memory usage: 4.1+ MB\n"
     ]
    }
   ],
   "source": [
    "df_count.info()"
   ]
  },
  {
   "cell_type": "code",
   "execution_count": 10,
   "metadata": {},
   "outputs": [],
   "source": [
    "df_count_hybrid = pd.DataFrame()\n",
    "for c in df_multi.columns:\n",
    "    if c != 'text':\n",
    "        df_count_hybrid[c] = df_hybrid[c].apply(round_up)\n",
    "    else:\n",
    "        df_count_hybrid[c] = df_hybrid[c]"
   ]
  },
  {
   "cell_type": "code",
   "execution_count": 11,
   "metadata": {},
   "outputs": [],
   "source": [
    "topics = list(df_count.columns)[1:19]"
   ]
  },
  {
   "cell_type": "code",
   "execution_count": 12,
   "metadata": {},
   "outputs": [
    {
     "data": {
      "text/plain": [
       "['crime_real',\n",
       " 'crime_web',\n",
       " 'drugs',\n",
       " 'gambling',\n",
       " 'pornography',\n",
       " 'prostitution',\n",
       " 'slavery',\n",
       " 'suicide',\n",
       " 'terrorism',\n",
       " 'weapons',\n",
       " 'body_shaming',\n",
       " 'halth_shaming',\n",
       " 'politics',\n",
       " 'racism',\n",
       " 'religion',\n",
       " 'sex_minorities',\n",
       " 'sexism',\n",
       " 'social']"
      ]
     },
     "execution_count": 12,
     "metadata": {},
     "output_type": "execute_result"
    }
   ],
   "source": [
    "topics"
   ]
  },
  {
   "cell_type": "code",
   "execution_count": 13,
   "metadata": {},
   "outputs": [
    {
     "data": {
      "text/html": [
       "<div>\n",
       "<style scoped>\n",
       "    .dataframe tbody tr th:only-of-type {\n",
       "        vertical-align: middle;\n",
       "    }\n",
       "\n",
       "    .dataframe tbody tr th {\n",
       "        vertical-align: top;\n",
       "    }\n",
       "\n",
       "    .dataframe thead th {\n",
       "        text-align: right;\n",
       "    }\n",
       "</style>\n",
       "<table border=\"1\" class=\"dataframe\">\n",
       "  <thead>\n",
       "    <tr style=\"text-align: right;\">\n",
       "      <th></th>\n",
       "      <th>text</th>\n",
       "      <th>crime_real</th>\n",
       "      <th>crime_web</th>\n",
       "      <th>drugs</th>\n",
       "      <th>gambling</th>\n",
       "      <th>pornography</th>\n",
       "      <th>prostitution</th>\n",
       "      <th>slavery</th>\n",
       "      <th>suicide</th>\n",
       "      <th>terrorism</th>\n",
       "      <th>weapons</th>\n",
       "      <th>body_shaming</th>\n",
       "      <th>halth_shaming</th>\n",
       "      <th>politics</th>\n",
       "      <th>racism</th>\n",
       "      <th>religion</th>\n",
       "      <th>sex_minorities</th>\n",
       "      <th>sexism</th>\n",
       "      <th>social</th>\n",
       "    </tr>\n",
       "  </thead>\n",
       "  <tbody>\n",
       "    <tr>\n",
       "      <th>0</th>\n",
       "      <td>РРРРРРЯЯЯЯЯЯЯ РУССКИЕ ВАНЬКИ НИКОМУ НЕ НУЖНЫ!!...</td>\n",
       "      <td>0</td>\n",
       "      <td>0</td>\n",
       "      <td>0</td>\n",
       "      <td>0</td>\n",
       "      <td>0</td>\n",
       "      <td>0</td>\n",
       "      <td>0</td>\n",
       "      <td>0</td>\n",
       "      <td>0</td>\n",
       "      <td>0</td>\n",
       "      <td>0</td>\n",
       "      <td>0</td>\n",
       "      <td>0</td>\n",
       "      <td>1</td>\n",
       "      <td>0</td>\n",
       "      <td>0</td>\n",
       "      <td>1</td>\n",
       "      <td>0</td>\n",
       "    </tr>\n",
       "    <tr>\n",
       "      <th>1</th>\n",
       "      <td>По моему, быдло тот кто осуждает чужие предпоч...</td>\n",
       "      <td>0</td>\n",
       "      <td>0</td>\n",
       "      <td>0</td>\n",
       "      <td>0</td>\n",
       "      <td>1</td>\n",
       "      <td>1</td>\n",
       "      <td>0</td>\n",
       "      <td>0</td>\n",
       "      <td>0</td>\n",
       "      <td>0</td>\n",
       "      <td>0</td>\n",
       "      <td>0</td>\n",
       "      <td>0</td>\n",
       "      <td>0</td>\n",
       "      <td>0</td>\n",
       "      <td>0</td>\n",
       "      <td>1</td>\n",
       "      <td>0</td>\n",
       "    </tr>\n",
       "    <tr>\n",
       "      <th>2</th>\n",
       "      <td>Бабы это вообще безхуйные сиськастые ссущие си...</td>\n",
       "      <td>0</td>\n",
       "      <td>0</td>\n",
       "      <td>0</td>\n",
       "      <td>0</td>\n",
       "      <td>0</td>\n",
       "      <td>0</td>\n",
       "      <td>0</td>\n",
       "      <td>0</td>\n",
       "      <td>0</td>\n",
       "      <td>0</td>\n",
       "      <td>0</td>\n",
       "      <td>0</td>\n",
       "      <td>0</td>\n",
       "      <td>0</td>\n",
       "      <td>0</td>\n",
       "      <td>0</td>\n",
       "      <td>1</td>\n",
       "      <td>0</td>\n",
       "    </tr>\n",
       "    <tr>\n",
       "      <th>3</th>\n",
       "      <td>изнасиловалиа говорила что девственницаЯ так д...</td>\n",
       "      <td>0</td>\n",
       "      <td>0</td>\n",
       "      <td>0</td>\n",
       "      <td>0</td>\n",
       "      <td>1</td>\n",
       "      <td>0</td>\n",
       "      <td>0</td>\n",
       "      <td>0</td>\n",
       "      <td>0</td>\n",
       "      <td>0</td>\n",
       "      <td>0</td>\n",
       "      <td>0</td>\n",
       "      <td>0</td>\n",
       "      <td>0</td>\n",
       "      <td>0</td>\n",
       "      <td>0</td>\n",
       "      <td>1</td>\n",
       "      <td>0</td>\n",
       "    </tr>\n",
       "    <tr>\n",
       "      <th>4</th>\n",
       "      <td>и что ? не сосут только уебищные тни, видосов ...</td>\n",
       "      <td>0</td>\n",
       "      <td>0</td>\n",
       "      <td>0</td>\n",
       "      <td>0</td>\n",
       "      <td>1</td>\n",
       "      <td>1</td>\n",
       "      <td>0</td>\n",
       "      <td>0</td>\n",
       "      <td>0</td>\n",
       "      <td>0</td>\n",
       "      <td>0</td>\n",
       "      <td>0</td>\n",
       "      <td>0</td>\n",
       "      <td>0</td>\n",
       "      <td>0</td>\n",
       "      <td>0</td>\n",
       "      <td>1</td>\n",
       "      <td>0</td>\n",
       "    </tr>\n",
       "  </tbody>\n",
       "</table>\n",
       "</div>"
      ],
      "text/plain": [
       "                                                text  crime_real  crime_web  \\\n",
       "0  РРРРРРЯЯЯЯЯЯЯ РУССКИЕ ВАНЬКИ НИКОМУ НЕ НУЖНЫ!!...           0          0   \n",
       "1  По моему, быдло тот кто осуждает чужие предпоч...           0          0   \n",
       "2  Бабы это вообще безхуйные сиськастые ссущие си...           0          0   \n",
       "3  изнасиловалиа говорила что девственницаЯ так д...           0          0   \n",
       "4  и что ? не сосут только уебищные тни, видосов ...           0          0   \n",
       "\n",
       "   drugs  gambling  pornography  prostitution  slavery  suicide  terrorism  \\\n",
       "0      0         0            0             0        0        0          0   \n",
       "1      0         0            1             1        0        0          0   \n",
       "2      0         0            0             0        0        0          0   \n",
       "3      0         0            1             0        0        0          0   \n",
       "4      0         0            1             1        0        0          0   \n",
       "\n",
       "   weapons  body_shaming  halth_shaming  politics  racism  religion  \\\n",
       "0        0             0              0         0       1         0   \n",
       "1        0             0              0         0       0         0   \n",
       "2        0             0              0         0       0         0   \n",
       "3        0             0              0         0       0         0   \n",
       "4        0             0              0         0       0         0   \n",
       "\n",
       "   sex_minorities  sexism  social  \n",
       "0               0       1       0  \n",
       "1               0       1       0  \n",
       "2               0       1       0  \n",
       "3               0       1       0  \n",
       "4               0       1       0  "
      ]
     },
     "execution_count": 13,
     "metadata": {},
     "output_type": "execute_result"
    }
   ],
   "source": [
    "df_count.head()"
   ]
  },
  {
   "cell_type": "raw",
   "metadata": {},
   "source": [
    "# Средее кол-во слов в общем без тем"
   ]
  },
  {
   "cell_type": "code",
   "execution_count": 14,
   "metadata": {},
   "outputs": [
    {
     "data": {
      "text/plain": [
       "17"
      ]
     },
     "execution_count": 14,
     "metadata": {},
     "output_type": "execute_result"
    }
   ],
   "source": [
    "def get_words_count(text):\n",
    "    text_adjusted = re.sub('[^а-яА-яa-zA-z ]', ' ', text)\n",
    "    text_adjusted = re.sub(' +', ' ', text_adjusted)\n",
    "    return len(text_adjusted.split())\n",
    "get_words_count(df_count.iloc[0]['text'])"
   ]
  },
  {
   "cell_type": "code",
   "execution_count": 15,
   "metadata": {
    "scrolled": true
   },
   "outputs": [],
   "source": [
    "def get_words_count_cluster(count):\n",
    "    if count <= 10:\n",
    "        return '0-10'\n",
    "    elif count > 10 and count <= 20:\n",
    "        return '11-20'\n",
    "    elif count > 21 and count <= 30:\n",
    "        return '21-30'\n",
    "    elif count > 31 and count <= 40:\n",
    "        return '31-40'\n",
    "    elif count > 41 and count <= 50:\n",
    "        return '41-50'\n",
    "    else:\n",
    "        return '51+'\n",
    "\n",
    "df_count['wc'] = df_count['text'].apply(get_words_count)  \n",
    "df_count['word count clusters'] = df_count['wc'].apply(get_words_count_cluster)\n",
    "\n",
    "df_count_hybrid['wc'] = df_count_hybrid['text'].apply(get_words_count)  \n",
    "df_count_hybrid['word count clusters'] = df_count_hybrid['wc'].apply(get_words_count_cluster)"
   ]
  },
  {
   "cell_type": "code",
   "execution_count": null,
   "metadata": {},
   "outputs": [],
   "source": [
    "# plot_hyb = df_count['word count clusters'].value_counts().plot(kind='barh', xlabel = 'words per sample', ylabel = 'count')\n",
    "# fig_hyb = plot_hyb.get_figure()"
   ]
  },
  {
   "cell_type": "code",
   "execution_count": null,
   "metadata": {},
   "outputs": [],
   "source": [
    "df_count['word count clusters'].value_counts()"
   ]
  },
  {
   "cell_type": "code",
   "execution_count": 18,
   "metadata": {},
   "outputs": [
    {
     "data": {
      "image/png": "[encoded data removed]",
      "text/plain": [
       "<Figure size 432x288 with 2 Axes>"
      ]
     },
     "metadata": {
      "needs_background": "light"
     },
     "output_type": "display_data"
    }
   ],
   "source": [
    "import matplotlib.pyplot as plt\n",
    "fig, axes = plt.subplots(nrows=2, ncols=1)\n",
    "fig.suptitle('Words per sample')\n",
    "df_count['word count clusters'].value_counts().plot(ax=axes[0],kind='barh', xlabel = 'Unsafe topics', ylabel = 'count')\n",
    "df_count_hybrid['word count clusters'].value_counts().plot(ax=axes[1], kind='barh', xlabel = 'Appropriateness', ylabel = 'count')\n",
    "fig.savefig(\"wordcount_hybrid_and_multi.eps\",format='eps')"
   ]
  },
  {
   "cell_type": "markdown",
   "metadata": {},
   "source": [
    "# Average overall"
   ]
  },
  {
   "cell_type": "code",
   "execution_count": 49,
   "metadata": {},
   "outputs": [
    {
     "data": {
      "text/plain": [
       "(18.12625102223607, 16.0)"
      ]
     },
     "execution_count": 49,
     "metadata": {},
     "output_type": "execute_result"
    }
   ],
   "source": [
    "np.mean(list(df_count['wc'])),np.median(list(df_count['wc']))"
   ]
  },
  {
   "cell_type": "code",
   "execution_count": 50,
   "metadata": {},
   "outputs": [
    {
     "data": {
      "text/plain": [
       "(14.977373927524164, 13.0)"
      ]
     },
     "execution_count": 50,
     "metadata": {},
     "output_type": "execute_result"
    }
   ],
   "source": [
    "np.mean(list(df_count_hybrid['wc'])),np.median(list(df_count_hybrid['wc']))"
   ]
  },
  {
   "cell_type": "markdown",
   "metadata": {},
   "source": [
    "# Average by topic"
   ]
  },
  {
   "cell_type": "code",
   "execution_count": 54,
   "metadata": {},
   "outputs": [
    {
     "name": "stdout",
     "output_type": "stream",
     "text": [
      "crime_real 15.0 16.71\n",
      "crime_web 16.0 18.04\n",
      "drugs 17.0 18.59\n",
      "gambling 20.0 21.67\n",
      "pornography 13.0 15.27\n",
      "prostitution 14.0 16.71\n",
      "slavery 13.0 15.8\n",
      "suicide 19.0 20.15\n",
      "terrorism 15.0 16.92\n",
      "weapons 17.0 17.89\n",
      "body_shaming 11.0 14.05\n",
      "halth_shaming 17.0 18.49\n",
      "politics 15.0 17.21\n",
      "racism 15.0 16.63\n",
      "religion 19.0 20.24\n",
      "sex_minorities 18.0 19.61\n",
      "sexism 14.0 16.42\n",
      "social 15.0 17.45\n"
     ]
    }
   ],
   "source": [
    "for c in df_multi.columns:\n",
    "    if c != 'text':\n",
    "        df_count_multi_topic = df_count[df_count[c]==1]\n",
    "        print(c,\n",
    "              round(np.median(list(df_count_multi_topic['wc'])),2),\n",
    "                    round(np.mean(list(df_count_multi_topic['wc'])),2))"
   ]
  },
  {
   "cell_type": "code",
   "execution_count": null,
   "metadata": {},
   "outputs": [],
   "source": []
  },
  {
   "cell_type": "code",
   "execution_count": null,
   "metadata": {},
   "outputs": [],
   "source": []
  },
  {
   "cell_type": "markdown",
   "metadata": {},
   "source": [
    "# Unique words"
   ]
  },
  {
   "cell_type": "code",
   "execution_count": 25,
   "metadata": {},
   "outputs": [],
   "source": [
    "from tqdm import tqdm"
   ]
  },
  {
   "cell_type": "code",
   "execution_count": 39,
   "metadata": {},
   "outputs": [],
   "source": [
    "def get_words_set(text):\n",
    "    text = str(text)\n",
    "    \n",
    "    text_adjusted = re.sub('[^а-яА-яa-zA-z ]', ' ', text)\n",
    "    text_adjusted = re.sub(' +', ' ', text_adjusted)\n",
    "    text_adjusted = text_adjusted.lower()\n",
    "    unique_words_set = set(text_adjusted.split())\n",
    "    return unique_words_set"
   ]
  },
  {
   "cell_type": "code",
   "execution_count": 32,
   "metadata": {},
   "outputs": [],
   "source": [
    "multi_text = ''.join(list(df_multi['text']))"
   ]
  },
  {
   "cell_type": "code",
   "execution_count": 36,
   "metadata": {},
   "outputs": [
    {
     "data": {
      "text/plain": [
       "'АЙТЕ БЬЮТИФУЛПИПЛ СКОЗАЛИ!!!1По моему, быдло тот кто осуждает чужие предпочтения.А тёлки которые просто ебутся-бляди. Проиграл с двуличного лицемера.Бабы это вообще безхуйные сиськастые ссущие сидя сущест'"
      ]
     },
     "execution_count": 36,
     "metadata": {},
     "output_type": "execute_result"
    }
   ],
   "source": [
    "multi_text[100:304]"
   ]
  },
  {
   "cell_type": "code",
   "execution_count": 40,
   "metadata": {},
   "outputs": [],
   "source": [
    "multi_set = get_words_set(multi_text)"
   ]
  },
  {
   "cell_type": "code",
   "execution_count": 41,
   "metadata": {},
   "outputs": [
    {
     "data": {
      "text/plain": [
       "{'гипоалергенную',\n",
       " 'кремова',\n",
       " 'хайкика',\n",
       " 'сохранившимся',\n",
       " 'лопается',\n",
       " 'определят',\n",
       " 'едь',\n",
       " 'стреляет',\n",
       " 'шкафу',\n",
       " 'ебльнику',\n",
       " 'ценнике',\n",
       " 'попрошайничество',\n",
       " 'фанатичных',\n",
       " 'затычка',\n",
       " 'медосмотры',\n",
       " 'разбрасоватбсало',\n",
       " 'воспитал',\n",
       " 'личному',\n",
       " 'лестью',\n",
       " 'b',\n",
       " 'властьу',\n",
       " 'тудавполне',\n",
       " 'корректор',\n",
       " 'дозы',\n",
       " 'компенсация',\n",
       " 'дыхательной',\n",
       " 'местнх',\n",
       " 'каморы',\n",
       " 'еякуляции',\n",
       " 'женскую',\n",
       " 'производственном',\n",
       " 'плагиатирована',\n",
       " 'забивая',\n",
       " 'сварганивший',\n",
       " 'урвал',\n",
       " 'упругую',\n",
       " 'окружи',\n",
       " 'упование',\n",
       " 'достиг',\n",
       " 'пророку',\n",
       " 'ебалупситеррор',\n",
       " 'гипотетически',\n",
       " 'мужски',\n",
       " 'повстречался',\n",
       " 'kahr',\n",
       " 'ригелей',\n",
       " 'ипц',\n",
       " 'темная',\n",
       " 'лудоманииэто',\n",
       " 'лутшие',\n",
       " 'ширяев',\n",
       " 'кретины',\n",
       " 'кго',\n",
       " 'обесточатся',\n",
       " 'нашид',\n",
       " 'максимумне',\n",
       " 'пидарашка',\n",
       " 'мое',\n",
       " 'грибочки',\n",
       " 'наркозависимым',\n",
       " 'дистантных',\n",
       " 'лахова',\n",
       " 'ебанутой',\n",
       " 'вечных',\n",
       " 'произнесет',\n",
       " 'бега',\n",
       " 'кецалькоатль',\n",
       " 'все',\n",
       " 'спидозных',\n",
       " 'большой',\n",
       " 'наркоманчиками',\n",
       " 'задежек',\n",
       " 'получаю',\n",
       " 'совкопенсионеры',\n",
       " 'рочить',\n",
       " 'нагрузить',\n",
       " 'расширению',\n",
       " 'чачи',\n",
       " 'википедии',\n",
       " 'гармоническом',\n",
       " 'китов',\n",
       " 'суханинскому',\n",
       " 'розницу',\n",
       " 'осуждению',\n",
       " 'работают',\n",
       " 'забей',\n",
       " 'подвергнут',\n",
       " 'приднестровский',\n",
       " 'осуществил',\n",
       " 'ках',\n",
       " 'воронеже',\n",
       " 'stsx',\n",
       " 'тоталитарная',\n",
       " 'проживания',\n",
       " 'немножечко',\n",
       " 'оставте',\n",
       " 'хохлоскам',\n",
       " 'лжепророки',\n",
       " 'крайности',\n",
       " 'пролетали',\n",
       " 'надежные',\n",
       " 'опоздали',\n",
       " 'социалистическую',\n",
       " 'написание',\n",
       " 'восторге',\n",
       " 'оператора',\n",
       " 'нищенка',\n",
       " 'поступают',\n",
       " 'педорахипролетариатзначение',\n",
       " 'бобби',\n",
       " 'многострадальной',\n",
       " 'jv',\n",
       " 'действующие',\n",
       " 'входить',\n",
       " 'нимфомания',\n",
       " 'бьютtts',\n",
       " 'сышь',\n",
       " 'условных',\n",
       " 'мелкое',\n",
       " 'непорочное',\n",
       " 'дискографию',\n",
       " 'пишет',\n",
       " 'произношения',\n",
       " 'гайморит',\n",
       " 'нуждающемуся',\n",
       " 'протест',\n",
       " 'чорт',\n",
       " 'планировать',\n",
       " 'ругаетсяобращаться',\n",
       " 'посоветую',\n",
       " 'гэтланда',\n",
       " 'донбассе',\n",
       " 'двачер',\n",
       " 'промолчать',\n",
       " 'пистолетным',\n",
       " 'осуждали',\n",
       " 'вниманиеблядству',\n",
       " 'коляскиинвалидная',\n",
       " 'сломана',\n",
       " 'полнуб',\n",
       " 'таккидай',\n",
       " 'telegramтест',\n",
       " 'целая',\n",
       " 'соглашаться',\n",
       " 'уанясша',\n",
       " 'пердепрессия',\n",
       " 'запойные',\n",
       " 'проектах',\n",
       " 'гуманитарного',\n",
       " 'дум',\n",
       " 'собственном',\n",
       " 'рахи',\n",
       " 'сравни',\n",
       " 'немецким',\n",
       " 'низвержен',\n",
       " 'учитывать',\n",
       " 'падениями',\n",
       " 'edu',\n",
       " 'потомсвенным',\n",
       " 'нцу',\n",
       " 'сформировались',\n",
       " 'онным',\n",
       " 'мина',\n",
       " 'ааа',\n",
       " 'баклофена',\n",
       " 'черри',\n",
       " 'присудят',\n",
       " 'баньте',\n",
       " 'куран',\n",
       " 'проплаченный',\n",
       " 'рфукраина',\n",
       " 'бигендер',\n",
       " 'подожду',\n",
       " 'смертными',\n",
       " 'аа',\n",
       " 'примем',\n",
       " 'коммутатор',\n",
       " 'хм',\n",
       " 'мэр',\n",
       " 'жахнутьсяэто',\n",
       " 'отделив',\n",
       " 'самоубийству',\n",
       " 'пилядь',\n",
       " 'сорокет',\n",
       " 'вегас',\n",
       " 'воображали',\n",
       " 'общем',\n",
       " 'стичевских',\n",
       " 'дамочек',\n",
       " 'выражения',\n",
       " 'вебшторм',\n",
       " 'руководящий',\n",
       " 'величиной',\n",
       " 'шпилят',\n",
       " 'высокомерно',\n",
       " 'наделенных',\n",
       " 'женщиной',\n",
       " 'кэптэйн',\n",
       " 'потенциальную',\n",
       " 'полякам',\n",
       " 'лихорадки',\n",
       " 'главнееусатый',\n",
       " 'сопровождения',\n",
       " 'ау',\n",
       " 'практиковаться',\n",
       " 'банковских',\n",
       " 'конкурса',\n",
       " 'вызови',\n",
       " 'разбодяжить',\n",
       " 'подробности',\n",
       " 'курсивом',\n",
       " 'денге',\n",
       " 'критериям',\n",
       " 'расстройством',\n",
       " 'закрылась',\n",
       " 'браунингом',\n",
       " 'газировки',\n",
       " 'нигры',\n",
       " 'современными',\n",
       " 'динамитом',\n",
       " 'порнухой',\n",
       " 'открытый',\n",
       " 'кармановахахахахахамое',\n",
       " 'яко',\n",
       " 'советах',\n",
       " 'невралгии',\n",
       " 'язву',\n",
       " 'маманя',\n",
       " 'ударной',\n",
       " 'перерывов',\n",
       " 'прокручивает',\n",
       " 'твоейа',\n",
       " 'теле',\n",
       " 'револьверов',\n",
       " 'театром',\n",
       " 'творимых',\n",
       " 'агрессивный',\n",
       " 'ноге',\n",
       " 'гостдеп',\n",
       " 'стерватеррария',\n",
       " 'русакомчечены',\n",
       " 'однохуйственно',\n",
       " 'запускной',\n",
       " 'неограниченными',\n",
       " 'выкладываю',\n",
       " 'идиотысамые',\n",
       " 'возьмет',\n",
       " 'fgs',\n",
       " 'формат',\n",
       " 'себорея',\n",
       " 'обаману',\n",
       " 'нарушет',\n",
       " 'вотс',\n",
       " 'рабствекарты',\n",
       " 'хотяt',\n",
       " 'светлана',\n",
       " 'медведев',\n",
       " 'читалучи',\n",
       " 'дорогие',\n",
       " 'герая',\n",
       " 'ст',\n",
       " 'icq',\n",
       " 'нодопарашная',\n",
       " 'полос',\n",
       " 'докурилась',\n",
       " 'пола',\n",
       " 'нездадимся',\n",
       " 'sпосоветуйте',\n",
       " 'тупонут',\n",
       " 'рассмотреть',\n",
       " 'неверной',\n",
       " 'тратуарах',\n",
       " 'интоксикации',\n",
       " 'дващи',\n",
       " 'реалистичных',\n",
       " 'строб',\n",
       " 'крч',\n",
       " 'захотят',\n",
       " 'подливает',\n",
       " 'серотонинчиком',\n",
       " 'выбирай',\n",
       " 'неопрятная',\n",
       " 'эдж',\n",
       " 'клинические',\n",
       " 'таможне',\n",
       " 'продолжающей',\n",
       " 'неадекватно',\n",
       " 'удерживать',\n",
       " 'выражаясь',\n",
       " 'рвало',\n",
       " 'отписывайтесь',\n",
       " 'пдец',\n",
       " 'заведении',\n",
       " 'гашлоэпизодически',\n",
       " 'струны',\n",
       " 'агрессивное',\n",
       " 'туннелей',\n",
       " 'главврач',\n",
       " 'полчаса',\n",
       " 'инвалид',\n",
       " 'красотка',\n",
       " 'фея',\n",
       " 'огар',\n",
       " 'западничества',\n",
       " 'зарезервируй',\n",
       " 'подстраховаться',\n",
       " 'вообщетут',\n",
       " 'et',\n",
       " 'анхра',\n",
       " 'предназначения',\n",
       " 'связанными',\n",
       " 'хписькосос',\n",
       " 'неизмеримо',\n",
       " 'втыкала',\n",
       " 'игрушку',\n",
       " 'ордло',\n",
       " 'spiritus',\n",
       " 'постычтоб',\n",
       " 'возможные',\n",
       " 'параною',\n",
       " 'отнесу',\n",
       " 'покончил',\n",
       " 'рядовой',\n",
       " 'сайтестенд',\n",
       " 'заочницы',\n",
       " 'настроилась',\n",
       " 'размышлял',\n",
       " 'колено',\n",
       " 'мартин',\n",
       " 'расщиренные',\n",
       " 'скотина',\n",
       " 'панкреатитачасть',\n",
       " 'диспетчер',\n",
       " 'видя',\n",
       " 'затаскать',\n",
       " 'sr',\n",
       " 'привязку',\n",
       " 'движением',\n",
       " 'звонов',\n",
       " 'карают',\n",
       " 'живы',\n",
       " 'приколу',\n",
       " 'батарей',\n",
       " 'склонение',\n",
       " 'лада',\n",
       " 'изобр',\n",
       " 'правилах',\n",
       " 'подарили',\n",
       " 'кормиться',\n",
       " 'патчемпароли',\n",
       " 'опасное',\n",
       " 'долгиперсональные',\n",
       " 'конфессий',\n",
       " 'жри',\n",
       " 'успеете',\n",
       " 'копипащу',\n",
       " 'поясах',\n",
       " 'великороссовясно',\n",
       " 'наставницы',\n",
       " 'клеймо',\n",
       " 'созданным',\n",
       " 'памяти',\n",
       " 'антонова',\n",
       " 'канонический',\n",
       " 'пило',\n",
       " 'житетльсва',\n",
       " 'понюхать',\n",
       " 'иерусалиме',\n",
       " 'войдитерамер',\n",
       " 'повреждению',\n",
       " 'вызовут',\n",
       " 'иудеях',\n",
       " 'гломерулонефрит',\n",
       " 'хохлушка',\n",
       " 'устоявшейся',\n",
       " 'безумные',\n",
       " 'достигнутом',\n",
       " 'признать',\n",
       " 'допустимо',\n",
       " 'приблизьтесь',\n",
       " 'мыл',\n",
       " 'бессонные',\n",
       " 'лизать',\n",
       " 'инфантильных',\n",
       " 'бодипозитивщиц',\n",
       " 'сиськой',\n",
       " 'выздоровливают',\n",
       " 'прессованной',\n",
       " 'ведру',\n",
       " 'сберекак',\n",
       " 'червивые',\n",
       " 'перезаряжать',\n",
       " 'уебский',\n",
       " 'платную',\n",
       " 'спрячьте',\n",
       " 'побоялась',\n",
       " 'гетероориентации',\n",
       " 'предстоящем',\n",
       " 'сидел',\n",
       " 'глушение',\n",
       " 'добавленной',\n",
       " 'проективных',\n",
       " 'пират',\n",
       " 'мощами',\n",
       " 'гнушался',\n",
       " 'железобетонных',\n",
       " 'ллях',\n",
       " 'мелочитогда',\n",
       " 'пророчествах',\n",
       " 'зарплатуосознаю',\n",
       " 'истинном',\n",
       " 'морали',\n",
       " 'юзали',\n",
       " 'ресурсами',\n",
       " 'блокировщик',\n",
       " 'ромом',\n",
       " 'сравните',\n",
       " 'свести',\n",
       " 'порадуйся',\n",
       " 'предметам',\n",
       " 'коррупции',\n",
       " 'асексуалодебилов',\n",
       " 'внимательность',\n",
       " 'терминов',\n",
       " 'горошек',\n",
       " 'нагреву',\n",
       " 'isc',\n",
       " 'амисульприд',\n",
       " 'привлекался',\n",
       " 'опиушники',\n",
       " 'сссрбыло',\n",
       " 'пробный',\n",
       " 'поправку',\n",
       " 'ополчении',\n",
       " 'сцен',\n",
       " 'бревнотян',\n",
       " 'закваски',\n",
       " 'зависимость',\n",
       " 'увлеклись',\n",
       " 'эээха',\n",
       " 'любовнице',\n",
       " 'жж',\n",
       " 'плашмя',\n",
       " 'увеличивает',\n",
       " 'византии',\n",
       " 'джорджу',\n",
       " 'невролог',\n",
       " 'мясистый',\n",
       " 'совершенству',\n",
       " 'слежу',\n",
       " 'настоящую',\n",
       " 'понадобится',\n",
       " 'скопления',\n",
       " 'силклан',\n",
       " 'телками',\n",
       " 'кпопблевотуа',\n",
       " 'статистически',\n",
       " 'такоевасян',\n",
       " 'травм',\n",
       " 'шабат',\n",
       " 'зарылся',\n",
       " 'нацгвардия',\n",
       " 'токсичен',\n",
       " 'тишь',\n",
       " 'путевку',\n",
       " 'допустим',\n",
       " 'равной',\n",
       " 'когтей',\n",
       " 'плиииз',\n",
       " 'вирнулися',\n",
       " 'ветхий',\n",
       " 'страшных',\n",
       " 'прибавь',\n",
       " 'пятой',\n",
       " 'ладно',\n",
       " 'посланное',\n",
       " 'изгнания',\n",
       " 'животеиз',\n",
       " 'forumreligions',\n",
       " 'независмо',\n",
       " 'боже',\n",
       " 'дуркуя',\n",
       " 'парфюм',\n",
       " 'изучили',\n",
       " 'контроляс',\n",
       " 'выворачивает',\n",
       " 'отношениям',\n",
       " 'названиями',\n",
       " 'одноклеточном',\n",
       " 'предстоящим',\n",
       " 'почет',\n",
       " 'спортивными',\n",
       " 'отведен',\n",
       " 'одержимый',\n",
       " 'примечания',\n",
       " 'мусорам',\n",
       " 'туннеля',\n",
       " 'торпедпутает',\n",
       " 'биваку',\n",
       " 'звонила',\n",
       " 'поисках',\n",
       " 'первостепенно',\n",
       " 'дрочат',\n",
       " 'сказку',\n",
       " 'идейных',\n",
       " 'трансмутацию',\n",
       " 'стояночные',\n",
       " 'шойгу',\n",
       " 'коленами',\n",
       " 'по',\n",
       " 'впадаю',\n",
       " 'покупаешь',\n",
       " 'странное',\n",
       " 'исполняемой',\n",
       " 'начертанное',\n",
       " 'использующим',\n",
       " 'неплохи',\n",
       " 'пренебрегают',\n",
       " 'мнениемлауреат',\n",
       " 'порванный',\n",
       " 'напомнишь',\n",
       " 'холодного',\n",
       " 'датский',\n",
       " 'замашек',\n",
       " 'дозарядка',\n",
       " 'нарымское',\n",
       " 'девочка',\n",
       " 'делат',\n",
       " 'узна',\n",
       " 'забанила',\n",
       " 'отвечающие',\n",
       " 'требованиюпроизводители',\n",
       " 'переноса',\n",
       " 'вывел',\n",
       " 'гилод',\n",
       " 'юра',\n",
       " 'фемки',\n",
       " 'немаловажный',\n",
       " 'крана',\n",
       " 'храбрый',\n",
       " 'египте',\n",
       " 'както',\n",
       " 'дедушкой',\n",
       " 'знаем',\n",
       " 'советских',\n",
       " 'миша',\n",
       " 'совершит',\n",
       " 'овалов',\n",
       " 'дибил',\n",
       " 'побеждаем',\n",
       " 'алкоголичкой',\n",
       " 'доверительное',\n",
       " 'гарантом',\n",
       " 'изменение',\n",
       " 'уроков',\n",
       " 'булом',\n",
       " 'схожумне',\n",
       " 'гадать',\n",
       " 'красножопых',\n",
       " 'зпу',\n",
       " 'дневном',\n",
       " 'откровенничайте',\n",
       " 'прокачать',\n",
       " 'угадывать',\n",
       " 'наладится',\n",
       " 'помирала',\n",
       " 'сошла',\n",
       " 'выставить',\n",
       " 'необходимого',\n",
       " 'разгона',\n",
       " 'гоняли',\n",
       " 'чукотку',\n",
       " 'знаковая',\n",
       " 'текстомесли',\n",
       " 'статьями',\n",
       " 'хохлошлюх',\n",
       " 'пересекалась',\n",
       " 'разоблачается',\n",
       " 'отверстие',\n",
       " 'поебень',\n",
       " 'компоновка',\n",
       " 'изнасиловано',\n",
       " 'мчит',\n",
       " 'театральная',\n",
       " 'разовой',\n",
       " 'империи',\n",
       " 'лейкозом',\n",
       " 'ездры',\n",
       " 'продольно',\n",
       " 'прострацию',\n",
       " 'ртами',\n",
       " 'израсходованных',\n",
       " 'зовив',\n",
       " 'подаватель',\n",
       " 'величину',\n",
       " 'красную',\n",
       " 'нную',\n",
       " 'оскорбления',\n",
       " 'парень',\n",
       " 'напрасно',\n",
       " 'продвинулся',\n",
       " 'дочитаю',\n",
       " 'начитывает',\n",
       " 'роща',\n",
       " 'закончили',\n",
       " 'государствопиздецкий',\n",
       " 'белсата',\n",
       " 'дмитрии',\n",
       " 'солнцеликий',\n",
       " 'наказывать',\n",
       " 'аиф',\n",
       " 'подбегание',\n",
       " 'отчаяния',\n",
       " 'хозяен',\n",
       " 'собрался',\n",
       " 'поедешь',\n",
       " 'соверш',\n",
       " 'недал',\n",
       " 'вырастила',\n",
       " 'приходят',\n",
       " 'университетом',\n",
       " 'проиграли',\n",
       " 'кручу',\n",
       " 'честью',\n",
       " 'оказываюсь',\n",
       " 'сладострастном',\n",
       " 'прощает',\n",
       " 'введен',\n",
       " 'меркантильная',\n",
       " 'выживания',\n",
       " 'заботах',\n",
       " 'самот',\n",
       " 'впечатляет',\n",
       " 'самоубиватьсягрех',\n",
       " 'суженой',\n",
       " 'sn',\n",
       " 'оборотов',\n",
       " 'площадками',\n",
       " 'патрубка',\n",
       " 'инкассаторского',\n",
       " 'выхода',\n",
       " 'успехбез',\n",
       " 'гнабите',\n",
       " 'подлый',\n",
       " 'изъять',\n",
       " 'подъездов',\n",
       " 'магазине',\n",
       " 'помогла',\n",
       " 'бухатьзамени',\n",
       " 'трель',\n",
       " 'велотренажер',\n",
       " 'месяцты',\n",
       " 'совмещающий',\n",
       " 'вдумчиво',\n",
       " 'переоценила',\n",
       " 'самовозрастающая',\n",
       " 'прическе',\n",
       " 'нпп',\n",
       " 'чечня',\n",
       " 'мудрые',\n",
       " 'всем',\n",
       " 'вывести',\n",
       " 'группками',\n",
       " 'слили',\n",
       " 'таблетках',\n",
       " 'крепко',\n",
       " 'зарабатывали',\n",
       " 'писюны',\n",
       " 'мойся',\n",
       " 'усиленным',\n",
       " 'женят',\n",
       " 'булкина',\n",
       " 'исполняющей',\n",
       " 'заглазно',\n",
       " 'невестой',\n",
       " 'арди',\n",
       " 'брошенного',\n",
       " 'мвф',\n",
       " 'качка',\n",
       " 'терпецьмастер',\n",
       " 'пеной',\n",
       " 'поторчать',\n",
       " 'гост',\n",
       " 'кормушку',\n",
       " 'прыщавого',\n",
       " 'торчите',\n",
       " 'филипинцев',\n",
       " 'заявлял',\n",
       " 'ненужно',\n",
       " 'ремиссии',\n",
       " 'лазерный',\n",
       " 'вырастит',\n",
       " 'тусить',\n",
       " 'обеде',\n",
       " 'лудоманском',\n",
       " 'школах',\n",
       " 'задержать',\n",
       " 'кайфждали',\n",
       " 'стерво',\n",
       " 'обж',\n",
       " 'палатой',\n",
       " 'индульгирования',\n",
       " 'пулеметов',\n",
       " 'базовая',\n",
       " 'инстинктов',\n",
       " 'декиа',\n",
       " 'царства',\n",
       " 'штатную',\n",
       " 'навечно',\n",
       " 'заемщик',\n",
       " 'самодуров',\n",
       " 'изберет',\n",
       " 'гомофобиикстати',\n",
       " 'безнаказанными',\n",
       " 'расстреж',\n",
       " 'обратите',\n",
       " 'стадом',\n",
       " 'руський',\n",
       " 'смягчить',\n",
       " 'другогодля',\n",
       " 'знакомыхtt',\n",
       " 'дышать',\n",
       " 'насечкойнеполная',\n",
       " 'семенович',\n",
       " 'пойдетя',\n",
       " 'писюлику',\n",
       " 'влечения',\n",
       " 'начав',\n",
       " 'временам',\n",
       " 'произносил',\n",
       " 'нарциссизма',\n",
       " 'обнимашек',\n",
       " 'зеков',\n",
       " 'дмакс',\n",
       " 'продуктов',\n",
       " 'эффектам',\n",
       " 'победили',\n",
       " 'одеваем',\n",
       " 'кристос',\n",
       " 'обмотана',\n",
       " 'подумал',\n",
       " 'дочитать',\n",
       " 'призракхохлы',\n",
       " 'приоткрывают',\n",
       " 'потомкам',\n",
       " 'знаетпросто',\n",
       " 'эпосе',\n",
       " 'либераха',\n",
       " 'карину',\n",
       " 'смежной',\n",
       " 'попаду',\n",
       " 'ляжет',\n",
       " 'шмотом',\n",
       " 'веществом',\n",
       " 'порноакт',\n",
       " 'течто',\n",
       " 'подведите',\n",
       " 'сталина',\n",
       " 'чистейший',\n",
       " 'неизвестный',\n",
       " 'молекулярной',\n",
       " 'камеры',\n",
       " 'dс',\n",
       " 'пользовался',\n",
       " 'лифтов',\n",
       " 'годами',\n",
       " 'следующее',\n",
       " 'козлов',\n",
       " 'бывший',\n",
       " 'защищен',\n",
       " 'старшей',\n",
       " 'осознает',\n",
       " 'ряде',\n",
       " 'хрю',\n",
       " 'ям',\n",
       " 'коммуналке',\n",
       " 'ощупь',\n",
       " 'прописывают',\n",
       " 'владельцами',\n",
       " 'интернетики',\n",
       " 'проявлены',\n",
       " 'собратьев',\n",
       " 'худшая',\n",
       " 'мазохист',\n",
       " 'юлия',\n",
       " 'объективной',\n",
       " 'даш',\n",
       " 'мистики',\n",
       " 'пробивают',\n",
       " 'тусила',\n",
       " 'спираль',\n",
       " 'вка',\n",
       " 'gvy',\n",
       " 'сириуслино',\n",
       " 'сильнее',\n",
       " 'доступными',\n",
       " 'мясорубка',\n",
       " 'идиотыхуейки',\n",
       " 'комфорт',\n",
       " 'набрасываться',\n",
       " 'блядскоей',\n",
       " 'восходящая',\n",
       " 'переквалификации',\n",
       " 'вит',\n",
       " 'монашествующим',\n",
       " 'работоблядок',\n",
       " 'жителями',\n",
       " 'джунд',\n",
       " 'отказалось',\n",
       " 'овощном',\n",
       " 'низких',\n",
       " 'зайцеву',\n",
       " 'подрядчикам',\n",
       " 'превративших',\n",
       " 'промзоне',\n",
       " 'весомые',\n",
       " 'раздачами',\n",
       " 'характеризующие',\n",
       " 'завод',\n",
       " 'завязался',\n",
       " 'занимать',\n",
       " 'нельзякак',\n",
       " 'шипение',\n",
       " 'самиру',\n",
       " 'знает',\n",
       " 'шпагах',\n",
       " 'оригами',\n",
       " 'авиационные',\n",
       " 'былопали',\n",
       " 'ответственный',\n",
       " 'ступеням',\n",
       " 'фарисейская',\n",
       " 'диагнозов',\n",
       " 'синагогах',\n",
       " 'совестьо',\n",
       " 'переезд',\n",
       " 'игруте',\n",
       " 'параличами',\n",
       " 'фена',\n",
       " 'покерить',\n",
       " 'шейхам',\n",
       " 'ура',\n",
       " 'потница',\n",
       " 'перестанешь',\n",
       " 'религей',\n",
       " 'желудке',\n",
       " 'погибший',\n",
       " 'конференция',\n",
       " 'родинки',\n",
       " 'повествует',\n",
       " 'отверстия',\n",
       " 'задвижки',\n",
       " 'дрожжи',\n",
       " 'покровский',\n",
       " 'зарегистрируйтесь',\n",
       " 'злым',\n",
       " 'рыбалки',\n",
       " 'добавить',\n",
       " 'википедия',\n",
       " 'сенате',\n",
       " 'оставались',\n",
       " 'пропитым',\n",
       " 'подчинения',\n",
       " 'файлообменнике',\n",
       " 'международную',\n",
       " 'писи',\n",
       " 'хата',\n",
       " 'вставшее',\n",
       " 'доступа',\n",
       " 'учитель',\n",
       " 'почту',\n",
       " 'сознался',\n",
       " 'маоизм',\n",
       " 'отработает',\n",
       " 'путаться',\n",
       " 'страшненькие',\n",
       " 'европейцы',\n",
       " 'аный',\n",
       " 'метания',\n",
       " 'дешевого',\n",
       " 'передозировкой',\n",
       " 'корректнее',\n",
       " 'глотка',\n",
       " 'самцов',\n",
       " 'торговцев',\n",
       " 'саудовской',\n",
       " 'пастухам',\n",
       " 'карлантипо',\n",
       " 'дульный',\n",
       " 'топикавсе',\n",
       " 'автомобильные',\n",
       " 'вырвется',\n",
       " 'сборки',\n",
       " 'оаэ',\n",
       " 'объяснити',\n",
       " 'est',\n",
       " 'амфетаминакак',\n",
       " 'раскидал',\n",
       " 'злые',\n",
       " 'лудоманша',\n",
       " 'угодников',\n",
       " 'разом',\n",
       " 'нападающий',\n",
       " 'копрофагамгоспода',\n",
       " 'разнообразиекак',\n",
       " 'алкогольную',\n",
       " 'супругаи',\n",
       " 'видятбичевский',\n",
       " 'коксик',\n",
       " 'город',\n",
       " 'меняются',\n",
       " 'шагам',\n",
       " 'конституция',\n",
       " 'обновляться',\n",
       " 'создателя',\n",
       " 'фиброматоз',\n",
       " 'предадите',\n",
       " 'тяжеловато',\n",
       " 'отключ',\n",
       " 'последнейвне',\n",
       " 'субличности',\n",
       " 'заступит',\n",
       " 'квалифицирует',\n",
       " 'свойств',\n",
       " 'эксклюзив',\n",
       " 'супа',\n",
       " 'полудиком',\n",
       " 'западными',\n",
       " 'дури',\n",
       " 'игор',\n",
       " 'стареньких',\n",
       " 'тупорылыми',\n",
       " 'связанно',\n",
       " 'максимумну',\n",
       " 'врали',\n",
       " 'жиру',\n",
       " 'майкрософт',\n",
       " 'пятно',\n",
       " 'откр',\n",
       " 'причитавшихся',\n",
       " 'рутрекер',\n",
       " 'отцовски',\n",
       " 'валид',\n",
       " 'довело',\n",
       " 'бабули',\n",
       " 'сшаинтернатские',\n",
       " 'eys',\n",
       " 'успокоит',\n",
       " 'шлюхаобворовать',\n",
       " 'страницы',\n",
       " 'платок',\n",
       " 'чистыми',\n",
       " 'логово',\n",
       " 'посудомойкам',\n",
       " 'обращайсяфорс',\n",
       " 'поджогчто',\n",
       " 'прицельная',\n",
       " 'сектантом',\n",
       " 'инфекционностью',\n",
       " 'чехословакии',\n",
       " 'нарко',\n",
       " 'аллергииновый',\n",
       " 'мучного',\n",
       " 'богословами',\n",
       " 'хачевские',\n",
       " 'персонально',\n",
       " 'замените',\n",
       " 'частича',\n",
       " 'блогов',\n",
       " 'бегунков',\n",
       " 'чтож',\n",
       " 'курдов',\n",
       " 'территория',\n",
       " 'насилии',\n",
       " 'идолу',\n",
       " 'нейтралитет',\n",
       " 'раньше',\n",
       " 'зеро',\n",
       " 'постиг',\n",
       " 'педагогических',\n",
       " 'сюжетного',\n",
       " 'порос',\n",
       " 'кончился',\n",
       " 'увеличены',\n",
       " 'составления',\n",
       " 'штанах',\n",
       " 'стаффтрясло',\n",
       " 'повторения',\n",
       " 'выпускают',\n",
       " 'разном',\n",
       " 'пивчацкого',\n",
       " 'поделюсь',\n",
       " 'похожего',\n",
       " 'вооруженный',\n",
       " 'существаизнасиловалиа',\n",
       " 'слову',\n",
       " 'охладел',\n",
       " 'оргромная',\n",
       " 'ответка',\n",
       " 'шачиматы',\n",
       " ...}"
      ]
     },
     "execution_count": 41,
     "metadata": {},
     "output_type": "execute_result"
    }
   ],
   "source": [
    "multi_set"
   ]
  },
  {
   "cell_type": "code",
   "execution_count": 42,
   "metadata": {},
   "outputs": [
    {
     "data": {
      "text/plain": [
       "76095"
      ]
     },
     "execution_count": 42,
     "metadata": {},
     "output_type": "execute_result"
    }
   ],
   "source": [
    "len(multi_set)"
   ]
  },
  {
   "cell_type": "code",
   "execution_count": 26,
   "metadata": {},
   "outputs": [
    {
     "name": "stderr",
     "output_type": "stream",
     "text": [
      "100%|███████████████████████████████████████████████████████████████████████████| 25679/25679 [01:49<00:00, 233.53it/s]\n"
     ]
    }
   ],
   "source": [
    "# unique_multi_set = set()\n",
    "# for i, el in tqdm(df_multi.iterrows(), total = len(df_multi)):\n",
    "#     sample_words_set = get_words_set(el['text'])\n",
    "#     unique_multi_set = unique_multi_set.union(sample_words_set)"
   ]
  },
  {
   "cell_type": "code",
   "execution_count": 28,
   "metadata": {},
   "outputs": [
    {
     "data": {
      "text/plain": [
       "81085"
      ]
     },
     "execution_count": 28,
     "metadata": {},
     "output_type": "execute_result"
    }
   ],
   "source": [
    "len(unique_multi_set)"
   ]
  },
  {
   "cell_type": "code",
   "execution_count": 44,
   "metadata": {},
   "outputs": [
    {
     "data": {
      "text/plain": [
       "155674"
      ]
     },
     "execution_count": 44,
     "metadata": {},
     "output_type": "execute_result"
    }
   ],
   "source": [
    "hybrid_text = ''.join(list(df_hybrid['text']))\n",
    "hybrid_set = get_words_set(hybrid_text)\n",
    "len(hybrid_set)"
   ]
  },
  {
   "cell_type": "code",
   "execution_count": null,
   "metadata": {},
   "outputs": [],
   "source": []
  }
 ],
 "metadata": {
  "kernelspec": {
   "display_name": "Python 3",
   "language": "python",
   "name": "python3"
  },
  "language_info": {
   "codemirror_mode": {
    "name": "ipython",
    "version": 3
   },
   "file_extension": ".py",
   "mimetype": "text/x-python",
   "name": "python",
   "nbconvert_exporter": "python",
   "pygments_lexer": "ipython3",
   "version": "3.8.10"
  }
 },
 "nbformat": 4,
 "nbformat_minor": 4
}
