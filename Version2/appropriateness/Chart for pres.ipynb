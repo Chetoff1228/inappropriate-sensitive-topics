{
 "cells": [
  {
   "cell_type": "code",
   "execution_count": 1,
   "metadata": {},
   "outputs": [],
   "source": [
    "import pandas as pd\n",
    "import numpy as np"
   ]
  },
  {
   "cell_type": "code",
   "execution_count": 41,
   "metadata": {},
   "outputs": [],
   "source": [
    "df = pd.read_csv(\"Appropriateness.csv\")"
   ]
  },
  {
   "cell_type": "code",
   "execution_count": 45,
   "metadata": {},
   "outputs": [],
   "source": [
    "df_high_conf = df[(df['inappropriate']==0)|(df['inappropriate']==1)]"
   ]
  },
  {
   "cell_type": "code",
   "execution_count": 42,
   "metadata": {},
   "outputs": [
    {
     "data": {
      "text/plain": [
       "Index(['text', 'inappropriate', 'offline_crime', 'online_crime', 'drugs',\n",
       "       'gambling', 'pornography', 'prostitution', 'slavery', 'suicide',\n",
       "       'terrorism', 'weapons', 'body_shaming', 'health_shaming', 'politics',\n",
       "       'racism', 'religion', 'sexual_minorities', 'sexism', 'social_injustice',\n",
       "       'human_labeled', 'toxic_auto'],\n",
       "      dtype='object')"
      ]
     },
     "execution_count": 42,
     "metadata": {},
     "output_type": "execute_result"
    }
   ],
   "source": [
    "df.columns"
   ]
  },
  {
   "cell_type": "code",
   "execution_count": 43,
   "metadata": {},
   "outputs": [],
   "source": [
    "topics = set(df.columns) - set(['text', 'inappropriate', 'human_labeled', 'toxic_auto'])"
   ]
  },
  {
   "cell_type": "code",
   "execution_count": 44,
   "metadata": {},
   "outputs": [
    {
     "data": {
      "text/plain": [
       "18"
      ]
     },
     "execution_count": 44,
     "metadata": {},
     "output_type": "execute_result"
    }
   ],
   "source": [
    "len(topics)"
   ]
  },
  {
   "cell_type": "code",
   "execution_count": 6,
   "metadata": {},
   "outputs": [],
   "source": [
    "def round_up(val):\n",
    "    if float(val) > 0.5:\n",
    "        return 1\n",
    "    return 0"
   ]
  },
  {
   "cell_type": "code",
   "execution_count": 7,
   "metadata": {},
   "outputs": [],
   "source": [
    "def get_topic_count(dataframe):\n",
    "    df_count = pd.DataFrame()\n",
    "    for c in topics:\n",
    "        df_count[c] = dataframe[c].apply(round_up)\n",
    "    df_count['inappropriate'] = dataframe['inappropriate']\n",
    "    \n",
    "    counts = []\n",
    "    app_percentage = []\n",
    "    names = []\n",
    "    for col in topics:\n",
    "        cnt = sum(df_count[col])\n",
    "        app_samples = len(df_count[(df_count[col]==1)&(df_count['inappropriate']>= 0.5)])\n",
    "        inapp_samples = len(df_count[(df_count[col]==1)&(df_count['inappropriate']< 0.5)])\n",
    "        current_app_percentage = round(app_samples/(app_samples+inapp_samples), 2)\n",
    "        \n",
    "        counts.append(cnt)\n",
    "        app_percentage.append(current_app_percentage)\n",
    "        names.append(col)\n",
    "         \n",
    "    df_count_fin = pd.DataFrame({'topic':names, 'count':counts, 'percentage':app_percentage})\n",
    "    df_count_fin_sorted = df_count_fin.sort_values('topic', ascending = False)\n",
    "    df_count_fin_sorted.reset_index(drop=True,inplace = True)\n",
    "\n",
    "    return df_count_fin_sorted"
   ]
  },
  {
   "cell_type": "code",
   "execution_count": 8,
   "metadata": {},
   "outputs": [],
   "source": [
    "df_counted = get_topic_count(df)"
   ]
  },
  {
   "cell_type": "code",
   "execution_count": 46,
   "metadata": {},
   "outputs": [],
   "source": [
    "df_counted_high_conf = get_topic_count(df_high_conf)"
   ]
  },
  {
   "cell_type": "code",
   "execution_count": 60,
   "metadata": {},
   "outputs": [
    {
     "data": {
      "text/html": [
       "<div>\n",
       "<style scoped>\n",
       "    .dataframe tbody tr th:only-of-type {\n",
       "        vertical-align: middle;\n",
       "    }\n",
       "\n",
       "    .dataframe tbody tr th {\n",
       "        vertical-align: top;\n",
       "    }\n",
       "\n",
       "    .dataframe thead th {\n",
       "        text-align: right;\n",
       "    }\n",
       "</style>\n",
       "<table border=\"1\" class=\"dataframe\">\n",
       "  <thead>\n",
       "    <tr style=\"text-align: right;\">\n",
       "      <th></th>\n",
       "      <th>topic</th>\n",
       "      <th>count</th>\n",
       "      <th>percentage</th>\n",
       "    </tr>\n",
       "  </thead>\n",
       "  <tbody>\n",
       "    <tr>\n",
       "      <th>0</th>\n",
       "      <td>weapons</td>\n",
       "      <td>4327</td>\n",
       "      <td>0.29</td>\n",
       "    </tr>\n",
       "    <tr>\n",
       "      <th>1</th>\n",
       "      <td>terrorism</td>\n",
       "      <td>3394</td>\n",
       "      <td>0.61</td>\n",
       "    </tr>\n",
       "    <tr>\n",
       "      <th>2</th>\n",
       "      <td>suicide</td>\n",
       "      <td>3330</td>\n",
       "      <td>0.50</td>\n",
       "    </tr>\n",
       "    <tr>\n",
       "      <th>3</th>\n",
       "      <td>social_injustice</td>\n",
       "      <td>5599</td>\n",
       "      <td>0.24</td>\n",
       "    </tr>\n",
       "    <tr>\n",
       "      <th>4</th>\n",
       "      <td>slavery</td>\n",
       "      <td>3793</td>\n",
       "      <td>0.35</td>\n",
       "    </tr>\n",
       "    <tr>\n",
       "      <th>5</th>\n",
       "      <td>sexual_minorities</td>\n",
       "      <td>3985</td>\n",
       "      <td>0.45</td>\n",
       "    </tr>\n",
       "    <tr>\n",
       "      <th>6</th>\n",
       "      <td>sexism</td>\n",
       "      <td>4883</td>\n",
       "      <td>0.25</td>\n",
       "    </tr>\n",
       "    <tr>\n",
       "      <th>7</th>\n",
       "      <td>religion</td>\n",
       "      <td>4478</td>\n",
       "      <td>0.36</td>\n",
       "    </tr>\n",
       "    <tr>\n",
       "      <th>8</th>\n",
       "      <td>racism</td>\n",
       "      <td>4173</td>\n",
       "      <td>0.50</td>\n",
       "    </tr>\n",
       "    <tr>\n",
       "      <th>9</th>\n",
       "      <td>prostitution</td>\n",
       "      <td>4924</td>\n",
       "      <td>0.24</td>\n",
       "    </tr>\n",
       "    <tr>\n",
       "      <th>10</th>\n",
       "      <td>pornography</td>\n",
       "      <td>4934</td>\n",
       "      <td>0.54</td>\n",
       "    </tr>\n",
       "    <tr>\n",
       "      <th>11</th>\n",
       "      <td>politics</td>\n",
       "      <td>4837</td>\n",
       "      <td>0.35</td>\n",
       "    </tr>\n",
       "    <tr>\n",
       "      <th>12</th>\n",
       "      <td>online_crime</td>\n",
       "      <td>4238</td>\n",
       "      <td>0.33</td>\n",
       "    </tr>\n",
       "    <tr>\n",
       "      <th>13</th>\n",
       "      <td>offline_crime</td>\n",
       "      <td>4893</td>\n",
       "      <td>0.34</td>\n",
       "    </tr>\n",
       "    <tr>\n",
       "      <th>14</th>\n",
       "      <td>health_shaming</td>\n",
       "      <td>6581</td>\n",
       "      <td>0.10</td>\n",
       "    </tr>\n",
       "    <tr>\n",
       "      <th>15</th>\n",
       "      <td>gambling</td>\n",
       "      <td>5278</td>\n",
       "      <td>0.13</td>\n",
       "    </tr>\n",
       "    <tr>\n",
       "      <th>16</th>\n",
       "      <td>drugs</td>\n",
       "      <td>5197</td>\n",
       "      <td>0.47</td>\n",
       "    </tr>\n",
       "    <tr>\n",
       "      <th>17</th>\n",
       "      <td>body_shaming</td>\n",
       "      <td>5621</td>\n",
       "      <td>0.17</td>\n",
       "    </tr>\n",
       "  </tbody>\n",
       "</table>\n",
       "</div>"
      ],
      "text/plain": [
       "                topic  count  percentage\n",
       "0             weapons   4327        0.29\n",
       "1           terrorism   3394        0.61\n",
       "2             suicide   3330        0.50\n",
       "3    social_injustice   5599        0.24\n",
       "4             slavery   3793        0.35\n",
       "5   sexual_minorities   3985        0.45\n",
       "6              sexism   4883        0.25\n",
       "7            religion   4478        0.36\n",
       "8              racism   4173        0.50\n",
       "9        prostitution   4924        0.24\n",
       "10        pornography   4934        0.54\n",
       "11           politics   4837        0.35\n",
       "12       online_crime   4238        0.33\n",
       "13      offline_crime   4893        0.34\n",
       "14     health_shaming   6581        0.10\n",
       "15           gambling   5278        0.13\n",
       "16              drugs   5197        0.47\n",
       "17       body_shaming   5621        0.17"
      ]
     },
     "execution_count": 60,
     "metadata": {},
     "output_type": "execute_result"
    }
   ],
   "source": [
    "df_counted_high_conf.head(100)"
   ]
  },
  {
   "cell_type": "code",
   "execution_count": 9,
   "metadata": {},
   "outputs": [
    {
     "data": {
      "text/html": [
       "<div>\n",
       "<style scoped>\n",
       "    .dataframe tbody tr th:only-of-type {\n",
       "        vertical-align: middle;\n",
       "    }\n",
       "\n",
       "    .dataframe tbody tr th {\n",
       "        vertical-align: top;\n",
       "    }\n",
       "\n",
       "    .dataframe thead th {\n",
       "        text-align: right;\n",
       "    }\n",
       "</style>\n",
       "<table border=\"1\" class=\"dataframe\">\n",
       "  <thead>\n",
       "    <tr style=\"text-align: right;\">\n",
       "      <th></th>\n",
       "      <th>topic</th>\n",
       "      <th>count</th>\n",
       "      <th>percentage</th>\n",
       "    </tr>\n",
       "  </thead>\n",
       "  <tbody>\n",
       "    <tr>\n",
       "      <th>0</th>\n",
       "      <td>weapons</td>\n",
       "      <td>7951</td>\n",
       "      <td>0.30</td>\n",
       "    </tr>\n",
       "    <tr>\n",
       "      <th>1</th>\n",
       "      <td>terrorism</td>\n",
       "      <td>7301</td>\n",
       "      <td>0.53</td>\n",
       "    </tr>\n",
       "    <tr>\n",
       "      <th>2</th>\n",
       "      <td>suicide</td>\n",
       "      <td>6425</td>\n",
       "      <td>0.45</td>\n",
       "    </tr>\n",
       "    <tr>\n",
       "      <th>3</th>\n",
       "      <td>social_injustice</td>\n",
       "      <td>7494</td>\n",
       "      <td>0.28</td>\n",
       "    </tr>\n",
       "    <tr>\n",
       "      <th>4</th>\n",
       "      <td>slavery</td>\n",
       "      <td>6700</td>\n",
       "      <td>0.38</td>\n",
       "    </tr>\n",
       "    <tr>\n",
       "      <th>5</th>\n",
       "      <td>sexual_minorities</td>\n",
       "      <td>7994</td>\n",
       "      <td>0.43</td>\n",
       "    </tr>\n",
       "    <tr>\n",
       "      <th>6</th>\n",
       "      <td>sexism</td>\n",
       "      <td>8137</td>\n",
       "      <td>0.29</td>\n",
       "    </tr>\n",
       "    <tr>\n",
       "      <th>7</th>\n",
       "      <td>religion</td>\n",
       "      <td>8142</td>\n",
       "      <td>0.38</td>\n",
       "    </tr>\n",
       "    <tr>\n",
       "      <th>8</th>\n",
       "      <td>racism</td>\n",
       "      <td>6816</td>\n",
       "      <td>0.48</td>\n",
       "    </tr>\n",
       "    <tr>\n",
       "      <th>9</th>\n",
       "      <td>prostitution</td>\n",
       "      <td>8249</td>\n",
       "      <td>0.28</td>\n",
       "    </tr>\n",
       "    <tr>\n",
       "      <th>10</th>\n",
       "      <td>pornography</td>\n",
       "      <td>7889</td>\n",
       "      <td>0.52</td>\n",
       "    </tr>\n",
       "    <tr>\n",
       "      <th>11</th>\n",
       "      <td>politics</td>\n",
       "      <td>7105</td>\n",
       "      <td>0.38</td>\n",
       "    </tr>\n",
       "    <tr>\n",
       "      <th>12</th>\n",
       "      <td>online_crime</td>\n",
       "      <td>8174</td>\n",
       "      <td>0.35</td>\n",
       "    </tr>\n",
       "    <tr>\n",
       "      <th>13</th>\n",
       "      <td>offline_crime</td>\n",
       "      <td>8003</td>\n",
       "      <td>0.37</td>\n",
       "    </tr>\n",
       "    <tr>\n",
       "      <th>14</th>\n",
       "      <td>health_shaming</td>\n",
       "      <td>7945</td>\n",
       "      <td>0.13</td>\n",
       "    </tr>\n",
       "    <tr>\n",
       "      <th>15</th>\n",
       "      <td>gambling</td>\n",
       "      <td>8096</td>\n",
       "      <td>0.20</td>\n",
       "    </tr>\n",
       "    <tr>\n",
       "      <th>16</th>\n",
       "      <td>drugs</td>\n",
       "      <td>7835</td>\n",
       "      <td>0.46</td>\n",
       "    </tr>\n",
       "    <tr>\n",
       "      <th>17</th>\n",
       "      <td>body_shaming</td>\n",
       "      <td>8103</td>\n",
       "      <td>0.21</td>\n",
       "    </tr>\n",
       "  </tbody>\n",
       "</table>\n",
       "</div>"
      ],
      "text/plain": [
       "                topic  count  percentage\n",
       "0             weapons   7951        0.30\n",
       "1           terrorism   7301        0.53\n",
       "2             suicide   6425        0.45\n",
       "3    social_injustice   7494        0.28\n",
       "4             slavery   6700        0.38\n",
       "5   sexual_minorities   7994        0.43\n",
       "6              sexism   8137        0.29\n",
       "7            religion   8142        0.38\n",
       "8              racism   6816        0.48\n",
       "9        prostitution   8249        0.28\n",
       "10        pornography   7889        0.52\n",
       "11           politics   7105        0.38\n",
       "12       online_crime   8174        0.35\n",
       "13      offline_crime   8003        0.37\n",
       "14     health_shaming   7945        0.13\n",
       "15           gambling   8096        0.20\n",
       "16              drugs   7835        0.46\n",
       "17       body_shaming   8103        0.21"
      ]
     },
     "execution_count": 9,
     "metadata": {},
     "output_type": "execute_result"
    }
   ],
   "source": [
    "df_counted.head(100)"
   ]
  },
  {
   "cell_type": "markdown",
   "metadata": {},
   "source": [
    "# Stacked bar samples"
   ]
  },
  {
   "cell_type": "code",
   "execution_count": 10,
   "metadata": {},
   "outputs": [
    {
     "data": {
      "image/png": "[encoded data removed]",
      "text/plain": [
       "<Figure size 432x288 with 1 Axes>"
      ]
     },
     "metadata": {
      "needs_background": "light"
     },
     "output_type": "display_data"
    }
   ],
   "source": [
    "# https://matplotlib.org/stable/gallery/lines_bars_and_markers/bar_stacked.html\n",
    "    \n",
    "import matplotlib.pyplot as plt\n",
    "\n",
    "\n",
    "labels = ['G1', 'G2', 'G3', 'G4', 'G5']\n",
    "men_means = [20, 35, 30, 35, 27]\n",
    "women_means = [25, 32, 34, 20, 25]\n",
    "men_std = [2, 3, 4, 1, 2]\n",
    "women_std = [3, 5, 2, 3, 3]\n",
    "width = 0.35       # the width of the bars: can also be len(x) sequence\n",
    "\n",
    "fig, ax = plt.subplots()\n",
    "\n",
    "ax.bar(labels, men_means, width, yerr=men_std, label='Men')\n",
    "ax.bar(labels, women_means, width, yerr=women_std, bottom=men_means,\n",
    "       label='Women')\n",
    "\n",
    "ax.set_ylabel('Scores')\n",
    "ax.set_title('Scores by group and gender')\n",
    "ax.legend()\n",
    "\n",
    "plt.show()"
   ]
  },
  {
   "cell_type": "code",
   "execution_count": null,
   "metadata": {},
   "outputs": [],
   "source": []
  },
  {
   "cell_type": "code",
   "execution_count": 11,
   "metadata": {},
   "outputs": [
    {
     "data": {
      "image/png": "[encoded data removed]",
      "text/plain": [
       "<Figure size 432x288 with 1 Axes>"
      ]
     },
     "metadata": {
      "needs_background": "light"
     },
     "output_type": "display_data"
    }
   ],
   "source": [
    "labels = ['G1', 'G2', 'G3', 'G4', 'G5']\n",
    "men_means = [20, 35, 30, 35, 27]\n",
    "women_means = [25, 32, 34, 20, 25]\n",
    "width = 0.35       # the width of the bars: can also be len(x) sequence\n",
    "\n",
    "fig, ax = plt.subplots()\n",
    "\n",
    "ax.bar(labels, men_means, width, label='Men')\n",
    "ax.bar(labels, women_means, width, bottom=men_means,\n",
    "       label='Women')\n",
    "\n",
    "ax.set_ylabel('Scores')\n",
    "ax.set_title('Scores by group and gender')\n",
    "ax.legend()\n",
    "\n",
    "plt.show()"
   ]
  },
  {
   "cell_type": "code",
   "execution_count": 12,
   "metadata": {
    "scrolled": true
   },
   "outputs": [
    {
     "data": {
      "text/plain": [
       "'sdad dfds'"
      ]
     },
     "execution_count": 12,
     "metadata": {},
     "output_type": "execute_result"
    }
   ],
   "source": [
    "import re\n",
    "re.sub(\"_\", \" \", \"sdad_dfds\")"
   ]
  },
  {
   "cell_type": "markdown",
   "metadata": {},
   "source": [
    "# ALL SAMPLES COUNT`"
   ]
  },
  {
   "cell_type": "code",
   "execution_count": 13,
   "metadata": {},
   "outputs": [],
   "source": [
    "topics_labels = df_counted.topic.tolist()\n",
    "topics_labels = [re.sub(\"_\", \" \", el) for el in topics_labels]"
   ]
  },
  {
   "cell_type": "code",
   "execution_count": 14,
   "metadata": {},
   "outputs": [],
   "source": [
    "c = df_counted['count'].tolist()\n",
    "p = df_counted['percentage'].tolist()\n",
    "p_inv = [1-el for el in p]"
   ]
  },
  {
   "cell_type": "code",
   "execution_count": 15,
   "metadata": {},
   "outputs": [],
   "source": [
    "cv = np.array(c)\n",
    "pv = np.array(p)\n",
    "pv_inv = np.array(p_inv)"
   ]
  },
  {
   "cell_type": "code",
   "execution_count": 16,
   "metadata": {},
   "outputs": [
    {
     "data": {
      "text/plain": [
       "array([7951, 7301, 6425, 7494, 6700, 7994, 8137, 8142, 6816, 8249, 7889,\n",
       "       7105, 8174, 8003, 7945, 8096, 7835, 8103])"
      ]
     },
     "execution_count": 16,
     "metadata": {},
     "output_type": "execute_result"
    }
   ],
   "source": [
    "cv"
   ]
  },
  {
   "cell_type": "code",
   "execution_count": 17,
   "metadata": {},
   "outputs": [],
   "source": [
    "inappropriate_count = cv * pv"
   ]
  },
  {
   "cell_type": "code",
   "execution_count": 18,
   "metadata": {},
   "outputs": [],
   "source": [
    "appropriate_count = cv * pv_inv"
   ]
  },
  {
   "cell_type": "code",
   "execution_count": 19,
   "metadata": {},
   "outputs": [
    {
     "data": {
      "text/plain": [
       "array([2385.3 , 3869.53, 2891.25, 2098.32, 2546.  , 3437.42, 2359.73,\n",
       "       3093.96, 3271.68, 2309.72, 4102.28, 2699.9 , 2860.9 , 2961.11,\n",
       "       1032.85, 1619.2 , 3604.1 , 1701.63])"
      ]
     },
     "execution_count": 19,
     "metadata": {},
     "output_type": "execute_result"
    }
   ],
   "source": [
    "inappropriate_count"
   ]
  },
  {
   "cell_type": "code",
   "execution_count": 20,
   "metadata": {},
   "outputs": [
    {
     "data": {
      "text/plain": [
       "array([5565.7 , 3431.47, 3533.75, 5395.68, 4154.  , 4556.58, 5777.27,\n",
       "       5048.04, 3544.32, 5939.28, 3786.72, 4405.1 , 5313.1 , 5041.89,\n",
       "       6912.15, 6476.8 , 4230.9 , 6401.37])"
      ]
     },
     "execution_count": 20,
     "metadata": {},
     "output_type": "execute_result"
    }
   ],
   "source": [
    "appropriate_count"
   ]
  },
  {
   "cell_type": "code",
   "execution_count": 21,
   "metadata": {},
   "outputs": [],
   "source": [
    "inappropriate_count = [int(el) for el in inappropriate_count]\n",
    "appropriate_count = [int(el) for el in appropriate_count]"
   ]
  },
  {
   "cell_type": "code",
   "execution_count": 22,
   "metadata": {},
   "outputs": [
    {
     "data": {
      "text/plain": [
       "[2385,\n",
       " 3869,\n",
       " 2891,\n",
       " 2098,\n",
       " 2546,\n",
       " 3437,\n",
       " 2359,\n",
       " 3093,\n",
       " 3271,\n",
       " 2309,\n",
       " 4102,\n",
       " 2699,\n",
       " 2860,\n",
       " 2961,\n",
       " 1032,\n",
       " 1619,\n",
       " 3604,\n",
       " 1701]"
      ]
     },
     "execution_count": 22,
     "metadata": {},
     "output_type": "execute_result"
    }
   ],
   "source": [
    "inappropriate_count"
   ]
  },
  {
   "cell_type": "markdown",
   "metadata": {},
   "source": [
    "# HIGH CONF"
   ]
  },
  {
   "cell_type": "code",
   "execution_count": 49,
   "metadata": {},
   "outputs": [],
   "source": [
    "topics_labels_high_conf = df_counted_high_conf.topic.tolist()\n",
    "topics_labels_high_conf = [re.sub(\"_\", \" \", el) for el in topics_labels_high_conf]"
   ]
  },
  {
   "cell_type": "code",
   "execution_count": 50,
   "metadata": {},
   "outputs": [],
   "source": [
    "c_HC = df_counted_high_conf['count'].tolist()\n",
    "p_HC = df_counted_high_conf['percentage'].tolist()\n",
    "p_inv_HC = [1-el for el in p_HC]"
   ]
  },
  {
   "cell_type": "code",
   "execution_count": 53,
   "metadata": {},
   "outputs": [],
   "source": [
    "c_HC = np.array(c_HC)\n",
    "p_HC = np.array(p_HC)\n",
    "p_inv_HC = np.array(p_inv_HC)"
   ]
  },
  {
   "cell_type": "code",
   "execution_count": 52,
   "metadata": {},
   "outputs": [
    {
     "data": {
      "text/plain": [
       "array([4327, 3394, 3330, 5599, 3793, 3985, 4883, 4478, 4173, 4924, 4934,\n",
       "       4837, 4238, 4893, 6581, 5278, 5197, 5621])"
      ]
     },
     "execution_count": 52,
     "metadata": {},
     "output_type": "execute_result"
    }
   ],
   "source": [
    "c_HC"
   ]
  },
  {
   "cell_type": "code",
   "execution_count": 54,
   "metadata": {},
   "outputs": [
    {
     "data": {
      "text/plain": [
       "array([0.29, 0.61, 0.5 , 0.24, 0.35, 0.45, 0.25, 0.36, 0.5 , 0.24, 0.54,\n",
       "       0.35, 0.33, 0.34, 0.1 , 0.13, 0.47, 0.17])"
      ]
     },
     "execution_count": 54,
     "metadata": {},
     "output_type": "execute_result"
    }
   ],
   "source": [
    "p_HC"
   ]
  },
  {
   "cell_type": "code",
   "execution_count": 55,
   "metadata": {},
   "outputs": [
    {
     "data": {
      "text/plain": [
       "array([0.71, 0.39, 0.5 , 0.76, 0.65, 0.55, 0.75, 0.64, 0.5 , 0.76, 0.46,\n",
       "       0.65, 0.67, 0.66, 0.9 , 0.87, 0.53, 0.83])"
      ]
     },
     "execution_count": 55,
     "metadata": {},
     "output_type": "execute_result"
    }
   ],
   "source": [
    "p_inv_HC"
   ]
  },
  {
   "cell_type": "code",
   "execution_count": 56,
   "metadata": {},
   "outputs": [],
   "source": [
    "inappropriate_count_HC = c_HC * pv\n",
    "appropriate_count_HC = c_HC * p_inv_HC"
   ]
  },
  {
   "cell_type": "code",
   "execution_count": 57,
   "metadata": {},
   "outputs": [],
   "source": [
    "inappropriate_count_HC = [int(el) for el in inappropriate_count_HC]\n",
    "appropriate_count_HC = [int(el) for el in appropriate_count_HC]"
   ]
  },
  {
   "cell_type": "code",
   "execution_count": 58,
   "metadata": {},
   "outputs": [
    {
     "data": {
      "text/plain": [
       "[1298,\n",
       " 1798,\n",
       " 1498,\n",
       " 1567,\n",
       " 1441,\n",
       " 1713,\n",
       " 1416,\n",
       " 1701,\n",
       " 2003,\n",
       " 1378,\n",
       " 2565,\n",
       " 1838,\n",
       " 1483,\n",
       " 1810,\n",
       " 855,\n",
       " 1055,\n",
       " 2390,\n",
       " 1180]"
      ]
     },
     "execution_count": 58,
     "metadata": {},
     "output_type": "execute_result"
    }
   ],
   "source": [
    "inappropriate_count_HC"
   ]
  },
  {
   "cell_type": "code",
   "execution_count": 59,
   "metadata": {},
   "outputs": [
    {
     "data": {
      "text/plain": [
       "[3072,\n",
       " 1323,\n",
       " 1665,\n",
       " 4255,\n",
       " 2465,\n",
       " 2191,\n",
       " 3662,\n",
       " 2865,\n",
       " 2086,\n",
       " 3742,\n",
       " 2269,\n",
       " 3144,\n",
       " 2839,\n",
       " 3229,\n",
       " 5922,\n",
       " 4591,\n",
       " 2754,\n",
       " 4665]"
      ]
     },
     "execution_count": 59,
     "metadata": {},
     "output_type": "execute_result"
    }
   ],
   "source": [
    "appropriate_count_HC"
   ]
  },
  {
   "cell_type": "markdown",
   "metadata": {},
   "source": [
    "# DRAW"
   ]
  },
  {
   "cell_type": "code",
   "execution_count": 23,
   "metadata": {},
   "outputs": [],
   "source": [
    "topic_width = 0.35"
   ]
  },
  {
   "cell_type": "code",
   "execution_count": 24,
   "metadata": {},
   "outputs": [],
   "source": [
    "from matplotlib.pyplot import figure"
   ]
  },
  {
   "cell_type": "code",
   "execution_count": 26,
   "metadata": {},
   "outputs": [
    {
     "data": {
      "image/png": "[encoded data removed]",
      "text/plain": [
       "<Figure size 432x288 with 1 Axes>"
      ]
     },
     "metadata": {
      "needs_background": "light"
     },
     "output_type": "display_data"
    }
   ],
   "source": [
    "# plt.figure(figsize=(16,14))\n",
    "\n",
    "fig, ax = plt.subplots()\n",
    "\n",
    "ax.bar(topics_labels, inappropriate_count, topic_width, label='Inappropriate')\n",
    "ax.bar(topics_labels, appropriate_count, topic_width, bottom=inappropriate_count,\n",
    "       label='Appropriate')\n",
    "\n",
    "\n",
    "plt.xticks(rotation = 85, fontsize=12)\n",
    "ax.set_ylabel('Samples count')\n",
    "# ax.set_title('Scores by group and gender')\n",
    "ax.legend(loc='best')\n",
    "\n",
    "# \n",
    "\n",
    "plt.show()\n",
    "# plt.savefig(\"binary_counts.pdf\",format='pdf', bbox_inches='tight')"
   ]
  },
  {
   "cell_type": "markdown",
   "metadata": {},
   "source": [
    "## Multiple bars"
   ]
  },
  {
   "cell_type": "code",
   "execution_count": 27,
   "metadata": {},
   "outputs": [
    {
     "data": {
      "image/png": "[encoded data removed]",
      "text/plain": [
       "<Figure size 432x288 with 1 Axes>"
      ]
     },
     "metadata": {
      "needs_background": "light"
     },
     "output_type": "display_data"
    }
   ],
   "source": [
    "import matplotlib.pyplot as plt\n",
    "from matplotlib.dates import date2num\n",
    "import datetime\n",
    "\n",
    "x = [\n",
    "    datetime.datetime(2011, 1, 4, 0, 0),\n",
    "    datetime.datetime(2011, 1, 5, 0, 0),\n",
    "    datetime.datetime(2011, 1, 6, 0, 0)\n",
    "]\n",
    "x = date2num(x)\n",
    "\n",
    "y = [4, 9, 2]\n",
    "z = [1, 2, 3]\n",
    "k = [11, 12, 13]\n",
    "\n",
    "ax = plt.subplot(111)\n",
    "ax.bar(x-0.2, y, width=0.2, color='b', align='center')\n",
    "ax.bar(x, z, width=0.2, color='g', align='center')\n",
    "ax.bar(x+0.2, k, width=0.2, color='r', align='center')\n",
    "ax.xaxis_date()\n",
    "\n",
    "plt.show()"
   ]
  },
  {
   "cell_type": "code",
   "execution_count": 28,
   "metadata": {},
   "outputs": [],
   "source": [
    "import matplotlib\n",
    "import matplotlib.pyplot as plt\n",
    "import numpy as np"
   ]
  },
  {
   "cell_type": "code",
   "execution_count": 29,
   "metadata": {},
   "outputs": [
    {
     "data": {
      "image/png": "[encoded data removed]",
      "text/plain": [
       "<Figure size 432x288 with 1 Axes>"
      ]
     },
     "metadata": {
      "needs_background": "light"
     },
     "output_type": "display_data"
    }
   ],
   "source": [
    "\n",
    "\n",
    "\n",
    "labels = ['G1', 'G2', 'G3', 'G4', 'G5']\n",
    "men_means = [20, 34, 30, 35, 27]\n",
    "women_means = [25, 32, 34, 20, 25]\n",
    "\n",
    "x = np.arange(len(labels))  # the label locations\n",
    "width = 0.35  # the width of the bars\n",
    "\n",
    "fig, ax = plt.subplots()\n",
    "rects1 = ax.bar(x - width/2, men_means, width, label='Men')\n",
    "rects2 = ax.bar(x + width/2, women_means, width, label='Women')\n",
    "\n",
    "# Add some text for labels, title and custom x-axis tick labels, etc.\n",
    "ax.set_ylabel('Scores')\n",
    "ax.set_title('Scores by group and gender')\n",
    "ax.set_xticks(x)\n",
    "ax.set_xticklabels(labels)\n",
    "ax.legend()\n",
    "\n",
    "\n",
    "def autolabel(rects):\n",
    "    \"\"\"Attach a text label above each bar in *rects*, displaying its height.\"\"\"\n",
    "    for rect in rects:\n",
    "        height = rect.get_height()\n",
    "        ax.annotate('{}'.format(height),\n",
    "                    xy=(rect.get_x() + rect.get_width() / 2, height),\n",
    "                    xytext=(0, 3),  # 3 points vertical offset\n",
    "                    textcoords=\"offset points\",\n",
    "                    ha='center', va='bottom')\n",
    "\n",
    "\n",
    "autolabel(rects1)\n",
    "autolabel(rects2)\n",
    "\n",
    "fig.tight_layout()\n",
    "\n",
    "plt.show()\n"
   ]
  },
  {
   "cell_type": "markdown",
   "metadata": {},
   "source": [
    "## Get data"
   ]
  },
  {
   "cell_type": "code",
   "execution_count": 30,
   "metadata": {},
   "outputs": [],
   "source": [
    "df_multi = pd.read_csv(\"C:/Users/N.Babakov/python_notebooks/toloka/statistics/sensitive/Journal article check - Sheet7.csv\")"
   ]
  },
  {
   "cell_type": "code",
   "execution_count": 31,
   "metadata": {},
   "outputs": [
    {
     "data": {
      "text/html": [
       "<div>\n",
       "<style scoped>\n",
       "    .dataframe tbody tr th:only-of-type {\n",
       "        vertical-align: middle;\n",
       "    }\n",
       "\n",
       "    .dataframe tbody tr th {\n",
       "        vertical-align: top;\n",
       "    }\n",
       "\n",
       "    .dataframe thead th {\n",
       "        text-align: right;\n",
       "    }\n",
       "</style>\n",
       "<table border=\"1\" class=\"dataframe\">\n",
       "  <thead>\n",
       "    <tr style=\"text-align: right;\">\n",
       "      <th></th>\n",
       "      <th>Sensitive topic</th>\n",
       "      <th>ST v2</th>\n",
       "    </tr>\n",
       "  </thead>\n",
       "  <tbody>\n",
       "    <tr>\n",
       "      <th>0</th>\n",
       "      <td>body shaming</td>\n",
       "      <td>1,203</td>\n",
       "    </tr>\n",
       "    <tr>\n",
       "      <th>1</th>\n",
       "      <td>drugs</td>\n",
       "      <td>3,852</td>\n",
       "    </tr>\n",
       "    <tr>\n",
       "      <th>2</th>\n",
       "      <td>gambling</td>\n",
       "      <td>2,062</td>\n",
       "    </tr>\n",
       "    <tr>\n",
       "      <th>3</th>\n",
       "      <td>health shaming</td>\n",
       "      <td>1,731</td>\n",
       "    </tr>\n",
       "    <tr>\n",
       "      <th>4</th>\n",
       "      <td>offline crime</td>\n",
       "      <td>1,835</td>\n",
       "    </tr>\n",
       "  </tbody>\n",
       "</table>\n",
       "</div>"
      ],
      "text/plain": [
       "  Sensitive topic  ST v2\n",
       "0    body shaming  1,203\n",
       "1           drugs  3,852\n",
       "2        gambling  2,062\n",
       "3  health shaming  1,731\n",
       "4   offline crime  1,835"
      ]
     },
     "execution_count": 31,
     "metadata": {},
     "output_type": "execute_result"
    }
   ],
   "source": [
    "df_multi.head()"
   ]
  },
  {
   "cell_type": "code",
   "execution_count": 32,
   "metadata": {},
   "outputs": [],
   "source": [
    "# df_multi = df_multi.sort_values('Sensitive topic', ascending = False)"
   ]
  },
  {
   "cell_type": "code",
   "execution_count": 33,
   "metadata": {},
   "outputs": [],
   "source": [
    "list_topics = df_counted.topic.tolist() "
   ]
  },
  {
   "cell_type": "code",
   "execution_count": 34,
   "metadata": {},
   "outputs": [],
   "source": [
    "list_topics = [re.sub(\"_\", \" \", el) for el in list_topics]"
   ]
  },
  {
   "cell_type": "code",
   "execution_count": 35,
   "metadata": {},
   "outputs": [
    {
     "data": {
      "text/plain": [
       "False"
      ]
     },
     "execution_count": 35,
     "metadata": {},
     "output_type": "execute_result"
    }
   ],
   "source": [
    "list_topics == df_multi['Sensitive topic'].tolist()"
   ]
  },
  {
   "cell_type": "code",
   "execution_count": 36,
   "metadata": {},
   "outputs": [
    {
     "data": {
      "text/html": [
       "<div>\n",
       "<style scoped>\n",
       "    .dataframe tbody tr th:only-of-type {\n",
       "        vertical-align: middle;\n",
       "    }\n",
       "\n",
       "    .dataframe tbody tr th {\n",
       "        vertical-align: top;\n",
       "    }\n",
       "\n",
       "    .dataframe thead th {\n",
       "        text-align: right;\n",
       "    }\n",
       "</style>\n",
       "<table border=\"1\" class=\"dataframe\">\n",
       "  <thead>\n",
       "    <tr style=\"text-align: right;\">\n",
       "      <th></th>\n",
       "      <th>Sensitive topic</th>\n",
       "      <th>ST v2</th>\n",
       "    </tr>\n",
       "  </thead>\n",
       "  <tbody>\n",
       "    <tr>\n",
       "      <th>0</th>\n",
       "      <td>body shaming</td>\n",
       "      <td>1,203</td>\n",
       "    </tr>\n",
       "    <tr>\n",
       "      <th>1</th>\n",
       "      <td>drugs</td>\n",
       "      <td>3,852</td>\n",
       "    </tr>\n",
       "    <tr>\n",
       "      <th>2</th>\n",
       "      <td>gambling</td>\n",
       "      <td>2,062</td>\n",
       "    </tr>\n",
       "    <tr>\n",
       "      <th>3</th>\n",
       "      <td>health shaming</td>\n",
       "      <td>1,731</td>\n",
       "    </tr>\n",
       "    <tr>\n",
       "      <th>4</th>\n",
       "      <td>offline crime</td>\n",
       "      <td>1,835</td>\n",
       "    </tr>\n",
       "  </tbody>\n",
       "</table>\n",
       "</div>"
      ],
      "text/plain": [
       "  Sensitive topic  ST v2\n",
       "0    body shaming  1,203\n",
       "1           drugs  3,852\n",
       "2        gambling  2,062\n",
       "3  health shaming  1,731\n",
       "4   offline crime  1,835"
      ]
     },
     "execution_count": 36,
     "metadata": {},
     "output_type": "execute_result"
    }
   ],
   "source": [
    "df_multi.head()"
   ]
  },
  {
   "cell_type": "code",
   "execution_count": 37,
   "metadata": {},
   "outputs": [],
   "source": [
    "multi_dataset_count = df_multi['ST v2'].tolist()"
   ]
  },
  {
   "cell_type": "code",
   "execution_count": 38,
   "metadata": {},
   "outputs": [
    {
     "data": {
      "text/plain": [
       "['weapons',\n",
       " 'terrorism',\n",
       " 'suicide',\n",
       " 'social injustice',\n",
       " 'slavery',\n",
       " 'sexual minorities',\n",
       " 'sexism',\n",
       " 'religion',\n",
       " 'racism',\n",
       " 'prostitution',\n",
       " 'pornography',\n",
       " 'politics',\n",
       " 'online crime',\n",
       " 'offline crime',\n",
       " 'health shaming',\n",
       " 'gambling',\n",
       " 'drugs',\n",
       " 'body shaming']"
      ]
     },
     "execution_count": 38,
     "metadata": {},
     "output_type": "execute_result"
    }
   ],
   "source": [
    "topics_labels"
   ]
  },
  {
   "cell_type": "code",
   "execution_count": 39,
   "metadata": {},
   "outputs": [
    {
     "data": {
      "text/plain": [
       "[1203,\n",
       " 3852,\n",
       " 2062,\n",
       " 1731,\n",
       " 1835,\n",
       " 1033,\n",
       " 2155,\n",
       " 2002,\n",
       " 1291,\n",
       " 1572,\n",
       " 4072,\n",
       " 1592,\n",
       " 1967,\n",
       " 1054,\n",
       " 1875,\n",
       " 1407,\n",
       " 1303,\n",
       " 2222]"
      ]
     },
     "execution_count": 39,
     "metadata": {},
     "output_type": "execute_result"
    }
   ],
   "source": [
    "multi_dataset_count = [re.sub(',','',el) for el in multi_dataset_count]\n",
    "multi_dataset_count = [int(el) for el in multi_dataset_count]\n",
    "\n",
    "multi_dataset_count"
   ]
  },
  {
   "cell_type": "code",
   "execution_count": 40,
   "metadata": {
    "scrolled": false
   },
   "outputs": [
    {
     "data": {
      "image/png": "[encoded data removed]",
      "text/plain": [
       "<Figure size 432x288 with 1 Axes>"
      ]
     },
     "metadata": {
      "needs_background": "light"
     },
     "output_type": "display_data"
    }
   ],
   "source": [
    "# plt.figure(figsize=(16,14))\n",
    "\n",
    "fig, ax = plt.subplots()\n",
    "\n",
    "x_topics = np.arange(len(topics_labels))\n",
    "\n",
    "# rects1 = ax.bar(x - width/2, men_means, width, label='Men')\n",
    "# rects2 = ax.bar(x + width/2, women_means, width, label='Women')\n",
    "\n",
    "rects1 = ax.bar(x_topics - topic_width/2, inappropriate_count, topic_width, label='Inappropriate')\n",
    "rects2 = ax.bar(x_topics - topic_width/2, appropriate_count, topic_width, bottom=inappropriate_count,\n",
    "       label='Appropriate')\n",
    "\n",
    "rects2 = ax.bar(x_topics + topic_width/2, multi_dataset_count, topic_width, color='r', label = 'Topics dataset')\n",
    "\n",
    "ax.set_xticks(x_topics)\n",
    "ax.set_xticklabels(topics_labels)\n",
    "\n",
    "plt.xticks(rotation = 85, fontsize=13)\n",
    "ax.set_ylabel('Samples count')\n",
    "# ax.set_title('Scores by group and gender')\n",
    "# ax.legend(loc='best')\n",
    "\n",
    "ax.legend(bbox_to_anchor=(0.05, 1.1), loc='upper left',fontsize=12)\n",
    "\n",
    "# \n",
    "\n",
    "plt.show()\n",
    "# plt.savefig(\"counts.pdf\",format='pdf', bbox_inches='tight')"
   ]
  },
  {
   "cell_type": "code",
   "execution_count": 80,
   "metadata": {},
   "outputs": [
    {
     "data": {
      "text/plain": [
       "array([ 0,  1,  2,  3,  4,  5,  6,  7,  8,  9, 10, 11, 12, 13, 14, 15, 16,\n",
       "       17])"
      ]
     },
     "execution_count": 80,
     "metadata": {},
     "output_type": "execute_result"
    }
   ],
   "source": [
    "x_topics"
   ]
  },
  {
   "cell_type": "code",
   "execution_count": 81,
   "metadata": {},
   "outputs": [
    {
     "data": {
      "image/png": "[encoded data removed]",
      "text/plain": [
       "<Figure size 432x288 with 1 Axes>"
      ]
     },
     "metadata": {
      "needs_background": "light"
     },
     "output_type": "display_data"
    }
   ],
   "source": [
    "import matplotlib.pyplot as plt\n",
    "from matplotlib.dates import date2num\n",
    "import datetime\n",
    "\n",
    "x = [\n",
    "    datetime.datetime(2011, 1, 4, 0, 0),\n",
    "    datetime.datetime(2011, 1, 5, 0, 0),\n",
    "    datetime.datetime(2011, 1, 6, 0, 0)\n",
    "]\n",
    "x = date2num(x)\n",
    "\n",
    "y = [4, 9, 2]\n",
    "z = [1, 2, 3]\n",
    "k = [11, 12, 13]\n",
    "\n",
    "ax = plt.subplot(111)\n",
    "ax.bar(x-0.2, y, width=0.2, color='b', align='center')\n",
    "ax.bar(x, z, width=0.2, color='g', align='center')\n",
    "ax.bar(x+0.2, k, width=0.2, color='r', align='center')\n",
    "ax.xaxis_date()\n",
    "\n",
    "plt.show()"
   ]
  },
  {
   "cell_type": "code",
   "execution_count": 101,
   "metadata": {},
   "outputs": [
    {
     "data": {
      "text/plain": [
       "array([ 0.2,  1.2,  2.2,  3.2,  4.2,  5.2,  6.2,  7.2,  8.2,  9.2, 10.2,\n",
       "       11.2, 12.2, 13.2, 14.2, 15.2, 16.2, 17.2])"
      ]
     },
     "execution_count": 101,
     "metadata": {},
     "output_type": "execute_result"
    }
   ],
   "source": [
    "x_topics = np.arange(len(topics_labels))\n",
    "x_topics = [el+ 0.2 for el in x_topics]\n",
    "x_topics = np.array(x_topics)\n",
    "x_topics"
   ]
  },
  {
   "cell_type": "code",
   "execution_count": 128,
   "metadata": {},
   "outputs": [
    {
     "data": {
      "image/png": "[encoded data removed]",
      "text/plain": [
       "<Figure size 756x468 with 1 Axes>"
      ]
     },
     "metadata": {
      "needs_background": "light"
     },
     "output_type": "display_data"
    }
   ],
   "source": [
    "# plt.figure(figsize=(16,14))\n",
    "topic_width_MANY_DIM = 0.265\n",
    "\n",
    "fig, ax = plt.subplots()\n",
    "\n",
    "x_topics = np.arange(len(topics_labels))\n",
    "x_topics = [el + 3.5 for el in x_topics]\n",
    "x_topics = np.array(x_topics)\n",
    "\n",
    "\n",
    "ax.bar(x_topics - 0.3, inappropriate_count, topic_width_MANY_DIM, label='Inappropriate', color='lightcoral')\n",
    "ax.bar(x_topics - 0.3, appropriate_count, topic_width_MANY_DIM, bottom=inappropriate_count,color='limegreen', label='Appropriate')\n",
    "\n",
    "ax.bar(x_topics, inappropriate_count_HC, topic_width_MANY_DIM, label='Inappropriate_100%',color = 'red')\n",
    "ax.bar(x_topics, appropriate_count_HC, topic_width_MANY_DIM, bottom=inappropriate_count_HC,color = 'green',\n",
    "       label='Appropriate_100%')\n",
    "\n",
    "ax.bar(x_topics + 0.3, multi_dataset_count, topic_width_MANY_DIM, color='gray', label = 'Topics dataset')\n",
    "\n",
    "# ax.set_xticks(x_topics)\n",
    "# ax.set_xticklabels(topics_labels)\n",
    "plt.xticks(x_topics, topics_labels)\n",
    "\n",
    "plt.xticks(rotation = 85, fontsize=13)\n",
    "ax.set_ylabel('Samples count', fontsize=13)\n",
    "# ax.set_title('Scores by group and gender')\n",
    "# ax.legend(loc='best')\n",
    "\n",
    "ax.legend(bbox_to_anchor=(0.05, 1.15), loc='upper left',fontsize=13, ncol = 2)\n",
    "\n",
    "# \n",
    "fig.set_size_inches(10.5, 6.5)\n",
    "\n",
    "# plt.show()\n",
    "plt.savefig(\"al_datasets_counts.pdf\",format='pdf', bbox_inches='tight')"
   ]
  }
 ],
 "metadata": {
  "kernelspec": {
   "display_name": "Python 3",
   "language": "python",
   "name": "python3"
  },
  "language_info": {
   "codemirror_mode": {
    "name": "ipython",
    "version": 3
   },
   "file_extension": ".py",
   "mimetype": "text/x-python",
   "name": "python",
   "nbconvert_exporter": "python",
   "pygments_lexer": "ipython3",
   "version": "3.8.10"
  }
 },
 "nbformat": 4,
 "nbformat_minor": 4
}
