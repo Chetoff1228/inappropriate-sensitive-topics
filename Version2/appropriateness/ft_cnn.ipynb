{
 "cells": [
  {
   "cell_type": "code",
   "execution_count": null,
   "metadata": {},
   "outputs": [],
   "source": [
    "import pandas as pd\n",
    "import os\n",
    "import numpy as np\n",
    "\n",
    "import pandas as pd\n",
    "from nltk.tokenize import wordpunct_tokenize\n",
    "import numpy as np\n",
    "from tqdm import tqdm\n",
    "from sklearn.metrics import accuracy_score, precision_recall_fscore_support, roc_auc_score\n",
    "\n",
    "\n",
    "import torch\n",
    "from torch.utils.data import Dataset, DataLoader\n",
    "from torch import nn\n",
    "from torch.autograd import Variable\n",
    "from torch.nn import functional as F"
   ]
  },
  {
   "cell_type": "code",
   "execution_count": null,
   "metadata": {},
   "outputs": [],
   "source": [
    "df = pd.read_csv(\"Inappropriate_09_top_vs_one_with_multi.csv\")\n"
   ]
  },
  {
   "cell_type": "code",
   "execution_count": null,
   "metadata": {},
   "outputs": [],
   "source": [
    "df.head()"
   ]
  },
  {
   "cell_type": "code",
   "execution_count": null,
   "metadata": {},
   "outputs": [],
   "source": [
    "THRESHOLD = 0.75\n",
    "df_unsafe = df[df['inappropriate'] > THRESHOLD]\n",
    "df_safe = df[df['inappropriate'] <= THRESHOLD]"
   ]
  },
  {
   "cell_type": "code",
   "execution_count": null,
   "metadata": {},
   "outputs": [],
   "source": [
    "for rs in [1,2,3,4]:\n",
    "    df_unsafe_shuf = df_unsafe.sample(frac=1, random_state = rs).reset_index(drop=True)\n",
    "    split_train = int(len(df_unsafe_shuf) * 0.8)\n",
    "    split_val = int(len(df_unsafe_shuf) * 0.9)\n",
    "    df_unsafe_shuf_train = df_unsafe_shuf[:split_train]\n",
    "    df_unsafe_shuf_val = df_unsafe_shuf[split_train:split_val]\n",
    "    df_unsafe_shuf_test= df_unsafe_shuf[split_val:]\n",
    "\n",
    "    df_safe_shuf = df_safe.sample(frac=1, random_state = rs).reset_index(drop=True)\n",
    "    split_train = int(len(df_safe_shuf) * 0.8)\n",
    "    split_val = int(len(df_safe_shuf) * 0.9)\n",
    "    df_safe_shuf_train = df_safe_shuf[:split_train]\n",
    "    df_safe_shuf_val = df_safe_shuf[split_train:split_val]\n",
    "    df_safe_shuf_test = df_safe_shuf[split_val:]\n",
    "\n",
    "    df_tr = pd.concat([df_unsafe_shuf_train, df_safe_shuf_train])\n",
    "    df_val = pd.concat([df_unsafe_shuf_val, df_safe_shuf_val])\n",
    "    df_test = pd.concat([df_unsafe_shuf_test, df_safe_shuf_test])\n",
    "    \n",
    "    train_path = \"train_randst{}.csv\".format(rs)\n",
    "    val_path = \"val_randst{}.csv\".format(rs)\n",
    "    test_path = \"test_randst{}.csv\".format(rs)\n",
    "    \n",
    "    train_path = os.path.join(\"./splits\",train_path)\n",
    "    val_path = os.path.join(\"./splits\",val_path)\n",
    "    test_path = os.path.join(\"./splits\",test_path)\n",
    "    \n",
    "    df_tr.to_csv(train_path, index = None)\n",
    "    df_val.to_csv(val_path, index = None)\n",
    "    df_test.to_csv(test_path, index = None)\n"
   ]
  },
  {
   "cell_type": "code",
   "execution_count": null,
   "metadata": {},
   "outputs": [],
   "source": [
    "# !wget https://dl.fbaipublicfiles.com/fasttext/vectors-crawl/cc.ru.300.vec.gz\n",
    "# !gunzip cc.ru.300.vec.gz\n"
   ]
  },
  {
   "cell_type": "code",
   "execution_count": null,
   "metadata": {},
   "outputs": [],
   "source": [
    "RST = 1\n",
    "train_df = pd.read_csv('./splits/train_randst{}.csv'.format(RST))\n",
    "val_df = pd.read_csv('./splits/val_randst{}.csv'.format(RST))\n",
    "test_df = pd.read_csv('./splits/test_randst{}.csv'.format(RST))\n",
    "                     \n",
    "train_df = train_df[[\"text\", \"inappropriate\"]]\n",
    "val_df = test_df[[\"text\", \"inappropriate\"]]\n",
    "test_df = test_df[[\"text\", \"inappropriate\"]]\n",
    "\n",
    "for d in [train_df, val_df, test_df]:\n",
    "    d['inappropriate'] = d['inappropriate'].apply(round)\n"
   ]
  },
  {
   "cell_type": "code",
   "execution_count": null,
   "metadata": {},
   "outputs": [],
   "source": [
    "pad_token = 'PAD'\n",
    "\n",
    "vocab = dict()\n",
    "embeddings = list()\n",
    "\n",
    "vocab_size = 400000\n",
    "embedding_dim = 300\n",
    "\n",
    "vocab[pad_token] = len(vocab)\n",
    "embeddings.append(np.zeros(embedding_dim))"
   ]
  },
  {
   "cell_type": "code",
   "execution_count": null,
   "metadata": {},
   "outputs": [],
   "source": [
    "\n",
    "with open('cc.ru.300.vec', 'r') as f:\n",
    "    a = f.readline()\n",
    "    for line in f:\n",
    "        parts = line.strip().split()\n",
    "        token = ' '.join(parts[:-embedding_dim])\n",
    "        if token in vocab:\n",
    "            continue\n",
    "        word_vector = np.array(list(map(float, parts[-embedding_dim:])))\n",
    "        \n",
    "        vocab[token] = len(vocab)\n",
    "        embeddings.append(word_vector)\n",
    "        \n",
    "        if len(vocab) == vocab_size:\n",
    "            break"
   ]
  },
  {
   "cell_type": "code",
   "execution_count": null,
   "metadata": {},
   "outputs": [],
   "source": [
    "\n",
    "embeddings = np.stack(embeddings)\n",
    "embeddings.shape"
   ]
  },
  {
   "cell_type": "code",
   "execution_count": null,
   "metadata": {},
   "outputs": [],
   "source": [
    "max_len = 128\n"
   ]
  },
  {
   "cell_type": "code",
   "execution_count": null,
   "metadata": {},
   "outputs": [],
   "source": [
    "x_train = train_df['text'].tolist()\n",
    "y_train = train_df['inappropriate'].tolist()\n",
    "x_test = test_df['text'].tolist()\n",
    "y_test = test_df['inappropriate'].tolist()"
   ]
  },
  {
   "cell_type": "code",
   "execution_count": null,
   "metadata": {},
   "outputs": [],
   "source": [
    "class UnsafeData(Dataset):\n",
    "\n",
    "    def __init__(self, texts, targets, vocab, max_len, pad_index = 0):\n",
    "        \n",
    "        super().__init__()\n",
    "        \n",
    "        self.texts = texts\n",
    "        self.targets = targets        \n",
    "        self.max_len = max_len\n",
    "        self.pad_index = pad_index\n",
    "        \n",
    "        self.vocab = vocab\n",
    "\n",
    "    def __len__(self):\n",
    "        \n",
    "        return len(self.texts)\n",
    "    \n",
    "    \n",
    "    def tokenization(self, text):\n",
    "        \n",
    "        tokens = wordpunct_tokenize(text)        \n",
    "        token_indices = [self.vocab[tok] for tok in tokens if tok in self.vocab]\n",
    "        \n",
    "        return token_indices\n",
    "    \n",
    "    def padding(self, text):\n",
    "        \n",
    "        text = text[:self.max_len]        \n",
    "        text += [self.pad_index] * (self.max_len - len(text))        \n",
    "        return text\n",
    "\n",
    "    \n",
    "    def __getitem__(self, index):\n",
    "        x = self.texts[index]\n",
    "        y = self.targets[index]\n",
    "        \n",
    "        x = self.tokenization(x)\n",
    "        x = self.padding(x)\n",
    "        \n",
    "        x = torch.tensor(x).long()\n",
    "        y = torch.tensor(y).float()\n",
    "        \n",
    "        return x, y"
   ]
  },
  {
   "cell_type": "code",
   "execution_count": null,
   "metadata": {},
   "outputs": [],
   "source": [
    "train_dataset = UnsafeData(x_train, y_train, vocab, max_len)\n",
    "val_dataset = UnsafeData(x_train, y_train, vocab, max_len)\n",
    "test_dataset = UnsafeData(x_test, y_test, vocab, max_len)"
   ]
  },
  {
   "cell_type": "code",
   "execution_count": null,
   "metadata": {},
   "outputs": [],
   "source": [
    "train_loader = DataLoader(train_dataset, batch_size=8, shuffle = True)\n",
    "test_loader = DataLoader(test_dataset, batch_size=8, shuffle = False)"
   ]
  },
  {
   "cell_type": "code",
   "execution_count": null,
   "metadata": {},
   "outputs": [],
   "source": [
    "for x, y in test_loader:\n",
    "    break\n",
    "\n",
    "x.shape, y.shape"
   ]
  },
  {
   "cell_type": "code",
   "execution_count": null,
   "metadata": {},
   "outputs": [],
   "source": [
    "embeddings = torch.tensor(embeddings).float()\n"
   ]
  },
  {
   "cell_type": "code",
   "execution_count": null,
   "metadata": {},
   "outputs": [],
   "source": [
    "\n",
    "class RCNN(nn.Module):\n",
    "\n",
    "    \n",
    "    def __init__(self, embeddings, embedding_dim, hidden_size, hidden_size_linear, class_num, dropout, n_layers):\n",
    "        super(RCNN, self).__init__()\n",
    "        self.embedding = nn.Embedding.from_pretrained(embeddings, padding_idx=0)\n",
    "        self.lstm = nn.LSTM(embedding_dim, hidden_size, batch_first=True, bidirectional=True, dropout=dropout, num_layers=n_layers)\n",
    "        self.W = nn.Linear(embedding_dim + 2*hidden_size, hidden_size_linear)\n",
    "        self.fc = nn.Linear(hidden_size_linear, class_num)\n",
    "        \n",
    "        self.act = nn.Sigmoid()\n",
    "\n",
    "        \n",
    "    def forward(self, x):\n",
    "        # x = |bs, seq_len|\n",
    "        x_emb = self.embedding(x)\n",
    "        # x_emb = |bs, seq_len, embedding_dim|\n",
    "        output, _ = self.lstm(x_emb)\n",
    "        # output = |bs, seq_len, 2*hidden_size|\n",
    "        output = torch.cat([output, x_emb], 2)\n",
    "        # output = |bs, seq_len, embedding_dim + 2*hidden_size|\n",
    "        output = self.W(output).transpose(1, 2)\n",
    "        # output = |bs, seq_len, hidden_size_linear| -> |bs, hidden_size_linear, seq_len|\n",
    "        output = F.max_pool1d(output, output.size(2)).squeeze(2)\n",
    "        # output = |bs, hidden_size_linear|\n",
    "        output = self.fc(output)\n",
    "        # output = |bs, class_num|\n",
    "        return self.act(output)"
   ]
  },
  {
   "cell_type": "code",
   "execution_count": null,
   "metadata": {},
   "outputs": [],
   "source": [
    "model = RCNN(\n",
    "    embeddings = embeddings,\n",
    "    embedding_dim = 300,\n",
    "    hidden_size = 300,\n",
    "    hidden_size_linear = 128,\n",
    "    class_num = 1,\n",
    "    n_layers = 4,\n",
    "    dropout = 0.5\n",
    ")"
   ]
  },
  {
   "cell_type": "code",
   "execution_count": null,
   "metadata": {},
   "outputs": [],
   "source": [
    "optimizer = torch.optim.Adam(model.parameters())\n",
    "criterion = nn.BCELoss()"
   ]
  },
  {
   "cell_type": "code",
   "execution_count": null,
   "metadata": {},
   "outputs": [],
   "source": [
    "def metrics(true, predictions):\n",
    "    \n",
    "    rounded_preds = torch.round(predictions)\n",
    "    \n",
    "    precision, recall, f1, _ = precision_recall_fscore_support(true, rounded_preds, average='weighted', zero_division = 0)\n",
    "    acc = accuracy_score(true, rounded_preds)\n",
    "    #roc_auc = roc_auc_score(true, predictions)\n",
    "    \n",
    "    return {\n",
    "        'accuracy': acc,\n",
    "        'f1': f1,\n",
    "        'precision': precision,\n",
    "        'recall': recall\n",
    "        #'roc_auc': roc_auc\n",
    "    }"
   ]
  },
  {
   "cell_type": "code",
   "execution_count": null,
   "metadata": {},
   "outputs": [],
   "source": [
    "device = torch.device('cuda:1')\n",
    "# device = torch.device('cpu')\n",
    "model.to(device);"
   ]
  },
  {
   "cell_type": "code",
   "execution_count": null,
   "metadata": {},
   "outputs": [],
   "source": [
    "def train(model, loader, optimizer, criterion, last_n_losses=200, verbose=True):\n",
    "\n",
    "    losses = []\n",
    "    f_scores = []\n",
    "    accuracy_scores = []\n",
    "    precision_scores = []\n",
    "    recall_scores = []\n",
    "    #roc_auc_scores = []\n",
    "\n",
    "    progress_bar = tqdm(total=len(loader), disable=not verbose, desc='Train')\n",
    "\n",
    "    model.train()\n",
    "\n",
    "    for x, y in loader:\n",
    "\n",
    "        x = x.to(device)\n",
    "        y = y.to(device)\n",
    "        \n",
    "        optimizer.zero_grad()\n",
    "        \n",
    "        yhat = model(x).squeeze()\n",
    "        \n",
    "        loss = criterion(yhat, y)\n",
    "        loss.backward()\n",
    "        optimizer.step()\n",
    "        \n",
    "        cur_metrics = metrics(y.cpu(), yhat.detach().cpu())\n",
    "\n",
    "\n",
    "        losses.append(loss.item())\n",
    "        f_scores.append(cur_metrics['f1'])\n",
    "        accuracy_scores.append(cur_metrics['accuracy'])\n",
    "        precision_scores.append(cur_metrics['precision'])\n",
    "        recall_scores.append(cur_metrics['recall'])\n",
    "        #roc_auc_scores.append(cur_metrics['roc_auc'])\n",
    "        \n",
    "\n",
    "        progress_bar.set_postfix(loss=np.mean(losses[-last_n_losses:]), f1=np.mean(f_scores[-last_n_losses:]),\n",
    "                                accuracy=np.mean(accuracy_scores[-last_n_losses:]))\n",
    "        \n",
    "        progress_bar.update()\n",
    "\n",
    "    progress_bar.close()\n",
    "    \n",
    "    return {'loss': np.sum(losses)/len(loader), 'f_score': np.sum(f_scores)/len(loader), 'accuracy': np.sum(accuracy_scores)/len(loader),\n",
    "           'precision': np.sum(precision_scores)/len(loader), 'recall': np.sum(recall_scores)/len(loader)}"
   ]
  },
  {
   "cell_type": "code",
   "execution_count": null,
   "metadata": {},
   "outputs": [],
   "source": [
    "tqdm._instances.clear()\n"
   ]
  },
  {
   "cell_type": "code",
   "execution_count": null,
   "metadata": {},
   "outputs": [],
   "source": [
    "\n",
    "def evaluate(model, loader, criterion, last_n_losses=200, verbose=True):\n",
    "\n",
    "    losses = []\n",
    "    f_scores = []\n",
    "    accuracy_scores = []\n",
    "    precision_scores = []\n",
    "    recall_scores = []\n",
    "    #roc_auc_scores = []\n",
    "\n",
    "    progress_bar = tqdm(total=len(loader), disable=not verbose, desc='Eval')\n",
    "\n",
    "    model.eval()\n",
    "    with torch.no_grad():\n",
    "\n",
    "        for x, y in loader:\n",
    "\n",
    "            x = x.to(device)\n",
    "            y = y.to(device)\n",
    "        \n",
    "            yhat = model(x).squeeze()\n",
    "        \n",
    "            loss = criterion(yhat, y)\n",
    "        \n",
    "            cur_metrics = metrics(y.cpu(), yhat.detach().cpu())\n",
    "\n",
    "\n",
    "            losses.append(loss.item())\n",
    "            f_scores.append(cur_metrics['f1'])\n",
    "            accuracy_scores.append(cur_metrics['accuracy'])\n",
    "            precision_scores.append(cur_metrics['precision'])\n",
    "            recall_scores.append(cur_metrics['recall'])\n",
    "            #roc_auc_scores.append(cur_metrics['roc_auc'])\n",
    "        \n",
    "\n",
    "            progress_bar.set_postfix(loss=np.mean(losses[-last_n_losses:]), f1=np.mean(f_scores[-last_n_losses:]),\n",
    "                                accuracy=np.mean(accuracy_scores[-last_n_losses:]))\n",
    "        \n",
    "            progress_bar.update()\n",
    "\n",
    "        progress_bar.close()\n",
    "    \n",
    "    return {'loss': np.sum(losses)/len(loader), 'f_score': np.sum(f_scores)/len(loader), 'accuracy': np.sum(accuracy_scores)/len(loader),\n",
    "           'precision': np.sum(precision_scores)/len(loader), 'recall': np.sum(recall_scores)/len(loader)}"
   ]
  },
  {
   "cell_type": "code",
   "execution_count": null,
   "metadata": {},
   "outputs": [],
   "source": [
    "save_best_model_path = 'best_model_state_dict.pth'\n",
    "save_best_optimizer_path = 'best_optimizer_state_dict.pth'"
   ]
  },
  {
   "cell_type": "code",
   "execution_count": null,
   "metadata": {},
   "outputs": [],
   "source": [
    "n_epochs = 7\n",
    "best_valid_loss = float('inf')\n",
    "patience = 0\n",
    "for epoch in range(n_epochs):\n",
    "     \n",
    "    #train the model\n",
    "    train_metrics = train(model, train_loader, optimizer, criterion)\n",
    "    \n",
    "    #evaluate the model\n",
    "    valid_metrics = evaluate(model, test_loader, criterion)\n",
    "    \n",
    "    print(train_metrics)\n",
    "    print(valid_metrics)\n",
    "    \n",
    "    #save the best model\n",
    "    if valid_metrics['loss'] < best_valid_loss:\n",
    "        best_valid_loss = valid_metrics['loss']\n",
    "        torch.save(model.state_dict(), save_best_model_path)\n",
    "        torch.save(optimizer.state_dict(), save_best_optimizer_path)\n",
    "    else:\n",
    "        patience +=1\n",
    "        if patience>3:\n",
    "            break"
   ]
  },
  {
   "cell_type": "code",
   "execution_count": null,
   "metadata": {},
   "outputs": [],
   "source": []
  }
 ],
 "metadata": {
  "kernelspec": {
   "display_name": "Python 3",
   "language": "python",
   "name": "python3"
  },
  "language_info": {
   "codemirror_mode": {
    "name": "ipython",
    "version": 3
   },
   "file_extension": ".py",
   "mimetype": "text/x-python",
   "name": "python",
   "nbconvert_exporter": "python",
   "pygments_lexer": "ipython3",
   "version": "3.7.4"
  }
 },
 "nbformat": 4,
 "nbformat_minor": 4
}
