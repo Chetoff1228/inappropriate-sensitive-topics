{
 "cells": [
  {
   "cell_type": "markdown",
   "metadata": {},
   "source": [
    "## Модель"
   ]
  },
  {
   "cell_type": "code",
   "execution_count": 1,
   "metadata": {},
   "outputs": [],
   "source": [
    "from transformers import BertTokenizer, BertForSequenceClassification\n",
    "import torch\n",
    "from sklearn.metrics import f1_score, roc_auc_score, precision_score, recall_score, accuracy_score"
   ]
  },
  {
   "cell_type": "code",
   "execution_count": 1,
   "metadata": {},
   "outputs": [],
   "source": [
    "import numpy as np\n",
    "import pandas as pd"
   ]
  },
  {
   "cell_type": "code",
   "execution_count": 3,
   "metadata": {},
   "outputs": [],
   "source": [
    "model_name = 'DeepPavlov/rubert-base-cased-conversational'"
   ]
  },
  {
   "cell_type": "code",
   "execution_count": 4,
   "metadata": {},
   "outputs": [],
   "source": [
    "tokenizer = BertTokenizer.from_pretrained(model_name)"
   ]
  },
  {
   "cell_type": "code",
   "execution_count": 5,
   "metadata": {},
   "outputs": [
    {
     "name": "stderr",
     "output_type": "stream",
     "text": [
      "Some weights of BertForSequenceClassification were not initialized from the model checkpoint at DeepPavlov/rubert-base-cased-conversational and are newly initialized: ['classifier.weight', 'classifier.bias']\n",
      "You should probably TRAIN this model on a down-stream task to be able to use it for predictions and inference.\n"
     ]
    }
   ],
   "source": [
    "model = BertForSequenceClassification.from_pretrained(model_name)"
   ]
  },
  {
   "cell_type": "markdown",
   "metadata": {},
   "source": [
    "## Данные"
   ]
  },
  {
   "cell_type": "code",
   "execution_count": 2,
   "metadata": {},
   "outputs": [],
   "source": [
    "# df = pd.read_csv(\"train.csv\")\n",
    "# df_val = pd.read_csv(\"val.csv\")\n",
    "# df_test = pd.read_csv(\"test.csv\")\n",
    "\n",
    "# df = pd.read_csv(\"train_aggreem.csv\")\n",
    "# df_val = pd.read_csv(\"val_aggreem.csv\")\n",
    "# df_test = pd.read_csv(\"test_aggreem.csv\")\n",
    "\n",
    "# RST = 1\n",
    "# RST = 2\n",
    "# RST = 3\n",
    "RST = 4\n",
    "df = pd.read_csv('./splits/train_randst{}.csv'.format(RST))\n",
    "df_val = pd.read_csv('./splits/val_randst{}.csv'.format(RST))\n",
    "df_test = pd.read_csv('./splits/test_randst{}.csv'.format(RST))\n",
    "                     \n",
    "# train_df = train_df[[\"text\", \"inappropriate\"]]\n",
    "# val_df = test_df[[\"text\", \"inappropriate\"]]\n",
    "# test_df = test_df[[\"text\", \"inappropriate\"]]\n",
    "\n",
    "for d in [df, df_val, df_test]:\n",
    "    d['inappropriate'] = d['inappropriate'].apply(round)\n"
   ]
  },
  {
   "cell_type": "code",
   "execution_count": 4,
   "metadata": {},
   "outputs": [
    {
     "data": {
      "text/plain": [
       "124597"
      ]
     },
     "execution_count": 4,
     "metadata": {},
     "output_type": "execute_result"
    }
   ],
   "source": [
    "len(df)+len(df_val)+len(df_test)"
   ]
  },
  {
   "cell_type": "code",
   "execution_count": 7,
   "metadata": {},
   "outputs": [
    {
     "data": {
      "text/plain": [
       "Index(['text', 'inappropriate', 'offline_crime', 'online_crime', 'drugs',\n",
       "       'gambling', 'pornography', 'prostitution', 'slavery', 'suicide',\n",
       "       'terrorism', 'weapons', 'body_shaming', 'health_shaming', 'politics',\n",
       "       'racism', 'religion', 'sexual_minorities', 'sexism', 'social_injustice',\n",
       "       'human_labeled', 'toxic_auto'],\n",
       "      dtype='object')"
      ]
     },
     "execution_count": 7,
     "metadata": {},
     "output_type": "execute_result"
    }
   ],
   "source": [
    "df.columns"
   ]
  },
  {
   "cell_type": "code",
   "execution_count": 8,
   "metadata": {},
   "outputs": [],
   "source": [
    "def round_val(val):\n",
    "    return round(val)"
   ]
  },
  {
   "cell_type": "code",
   "execution_count": 9,
   "metadata": {},
   "outputs": [],
   "source": [
    "# label_name = 'inappropriate'\n",
    "# threshold = 0\n",
    "# df = df[(df[label_name] >= 1-threshold)|(df[label_name] <=threshold)]\n",
    "# df_val = df_val[(df_val[label_name] >= 1-threshold)|(df_val[label_name] <=threshold)]\n",
    "# df_test = df_test[(df_test[label_name] >= 1-threshold) | (df_test[label_name] <=threshold)]\n",
    "\n",
    "# df[label_name] = df[label_name].apply(round_val)\n",
    "# df_val[label_name] = df_val[label_name].apply(round_val)\n",
    "# df_test[label_name] = df_test[label_name].apply(round_val)"
   ]
  },
  {
   "cell_type": "code",
   "execution_count": 10,
   "metadata": {},
   "outputs": [
    {
     "data": {
      "text/plain": [
       "Index(['text', 'inappropriate', 'offline_crime', 'online_crime', 'drugs',\n",
       "       'gambling', 'pornography', 'prostitution', 'slavery', 'suicide',\n",
       "       'terrorism', 'weapons', 'body_shaming', 'health_shaming', 'politics',\n",
       "       'racism', 'religion', 'sexual_minorities', 'sexism', 'social_injustice',\n",
       "       'human_labeled', 'toxic_auto'],\n",
       "      dtype='object')"
      ]
     },
     "execution_count": 10,
     "metadata": {},
     "output_type": "execute_result"
    }
   ],
   "source": [
    "df.columns"
   ]
  },
  {
   "cell_type": "code",
   "execution_count": 11,
   "metadata": {},
   "outputs": [],
   "source": [
    "class UnsafeDataset(torch.utils.data.Dataset):\n",
    "    def __init__(self, encodings, labels=None):\n",
    "        self.encodings = encodings\n",
    "        self.labels = labels\n",
    "\n",
    "    def __getitem__(self, idx):\n",
    "        item = {key: val[idx] for key, val in self.encodings.items()}\n",
    "        if self.labels is not None:\n",
    "            item['labels'] = self.labels[idx]\n",
    "        return item\n",
    "\n",
    "    def __len__(self):\n",
    "        return len(self.encodings['input_ids'])"
   ]
  },
  {
   "cell_type": "code",
   "execution_count": 12,
   "metadata": {},
   "outputs": [],
   "source": [
    "train_dataset = UnsafeDataset(tokenizer(df.text.tolist(),\n",
    "                                        max_length=64,\n",
    "                                        truncation=True,\n",
    "                                        padding='longest'), df.inappropriate.tolist())"
   ]
  },
  {
   "cell_type": "code",
   "execution_count": 13,
   "metadata": {},
   "outputs": [],
   "source": [
    "eval_dataset = UnsafeDataset(tokenizer(df_val.text.tolist(),\n",
    "                                       max_length=64,\n",
    "                                       truncation=True,\n",
    "                                       padding='longest'), df_val.inappropriate.tolist())\n"
   ]
  },
  {
   "cell_type": "code",
   "execution_count": 14,
   "metadata": {},
   "outputs": [],
   "source": [
    "test_dataset = UnsafeDataset(tokenizer(df_test.text.tolist(),\n",
    "                                       max_length=64,\n",
    "                                       truncation=True,\n",
    "                                       padding='longest'), df_test.inappropriate.tolist())"
   ]
  },
  {
   "cell_type": "markdown",
   "metadata": {},
   "source": [
    "## Обучение"
   ]
  },
  {
   "cell_type": "code",
   "execution_count": 15,
   "metadata": {},
   "outputs": [],
   "source": [
    "import os\n",
    "os.environ['CUDA_VISIBLE_DEVICES']= '6'"
   ]
  },
  {
   "cell_type": "code",
   "execution_count": 16,
   "metadata": {},
   "outputs": [],
   "source": [
    "from transformers import Trainer, TrainingArguments\n",
    "from transformers.file_utils import cached_property\n",
    "from typing import Tuple\n",
    "\n",
    "device = torch.device('cuda')\n",
    "\n",
    "class TrAr(TrainingArguments):\n",
    "    @cached_property\n",
    "    def _setup_devices(self) -> Tuple[\"torch.device\", int]:\n",
    "        return device"
   ]
  },
  {
   "cell_type": "code",
   "execution_count": 17,
   "metadata": {},
   "outputs": [],
   "source": [
    "# torch.cuda.set_device(device)\n",
    "model.to(device);"
   ]
  },
  {
   "cell_type": "code",
   "execution_count": 18,
   "metadata": {},
   "outputs": [],
   "source": [
    "for param in model.bert.parameters():\n",
    "    param.requires_grad=True"
   ]
  },
  {
   "cell_type": "code",
   "execution_count": 19,
   "metadata": {},
   "outputs": [],
   "source": [
    "training_args = TrAr(\n",
    "    output_dir='./unsafe/FINAL_VERS',   # output directory\n",
    "    overwrite_output_dir=True,\n",
    "    num_train_epochs=5,            # total # of training epochs\n",
    "    per_device_train_batch_size=32,  # batch size per device during training\n",
    "    per_device_eval_batch_size=32,   # batch size for evaluation\n",
    "    warmup_steps=0,               # number of warmup steps for learning rate scheduler\n",
    "    weight_decay=1e-8,              # strength of weight decay\n",
    "    learning_rate=2e-5,\n",
    "    save_total_limit=2,\n",
    "    logging_dir='./logs',           # directory for storing logs\n",
    "    logging_steps=2500,\n",
    "    eval_steps=2500,\n",
    "    save_steps=2500,\n",
    "    evaluation_strategy='steps',metric_for_best_model = 'f1',greater_is_better = True, load_best_model_at_end = True, report_to='none'\n",
    ")"
   ]
  },
  {
   "cell_type": "code",
   "execution_count": 20,
   "metadata": {},
   "outputs": [],
   "source": [
    "from sklearn.metrics import accuracy_score, precision_recall_fscore_support\n",
    "from sklearn.metrics import roc_auc_score\n",
    "def compute_metrics(pred):\n",
    "    labels = pred.label_ids\n",
    "    preds_prob = pred.predictions[:,-1]\n",
    "    rauc = roc_auc_score(labels, preds_prob)\n",
    "    \n",
    "    preds = pred.predictions.argmax(-1)\n",
    "    precision, recall, f1, _ = precision_recall_fscore_support(labels, preds, average='weighted')\n",
    "    acc = accuracy_score(labels, preds)\n",
    "    return {\n",
    "        'accuracy': acc,\n",
    "        'f1': f1,\n",
    "        'precision': precision,\n",
    "        'recall': recall,\n",
    "        \"roc_auc\":rauc\n",
    "    }"
   ]
  },
  {
   "cell_type": "code",
   "execution_count": 21,
   "metadata": {},
   "outputs": [],
   "source": [
    "trainer = Trainer(\n",
    "    model=model,                         # the instantiated 🤗 Transformers model to be trained\n",
    "    args=training_args,                  # training arguments, defined above\n",
    "    train_dataset=train_dataset,         # training dataset\n",
    "    eval_dataset=eval_dataset,           # evaluation dataset\n",
    "    tokenizer=tokenizer,\n",
    "    compute_metrics  = compute_metrics\n",
    ")"
   ]
  },
  {
   "cell_type": "code",
   "execution_count": 22,
   "metadata": {},
   "outputs": [],
   "source": [
    "from transformers.trainer_callback import EarlyStoppingCallback\n",
    "trainer.add_callback(EarlyStoppingCallback(2)) "
   ]
  },
  {
   "cell_type": "code",
   "execution_count": 23,
   "metadata": {},
   "outputs": [
    {
     "data": {
      "text/plain": [
       "device(type='cuda')"
      ]
     },
     "execution_count": 23,
     "metadata": {},
     "output_type": "execute_result"
    }
   ],
   "source": [
    "training_args.device"
   ]
  },
  {
   "cell_type": "code",
   "execution_count": 24,
   "metadata": {},
   "outputs": [
    {
     "name": "stderr",
     "output_type": "stream",
     "text": [
      "***** Running training *****\n",
      "  Num examples = 99677\n",
      "  Num Epochs = 5\n",
      "  Instantaneous batch size per device = 32\n",
      "  Total train batch size (w. parallel, distributed & accumulation) = 32\n",
      "  Gradient Accumulation steps = 1\n",
      "  Total optimization steps = 15575\n"
     ]
    },
    {
     "data": {
      "text/html": [
       "\n",
       "    <div>\n",
       "      \n",
       "      <progress value='7500' max='15575' style='width:300px; height:20px; vertical-align: middle;'></progress>\n",
       "      [ 7500/15575 19:47 < 21:18, 6.32 it/s, Epoch 2/5]\n",
       "    </div>\n",
       "    <table border=\"1\" class=\"dataframe\">\n",
       "  <thead>\n",
       "    <tr style=\"text-align: left;\">\n",
       "      <th>Step</th>\n",
       "      <th>Training Loss</th>\n",
       "      <th>Validation Loss</th>\n",
       "      <th>Accuracy</th>\n",
       "      <th>F1</th>\n",
       "      <th>Precision</th>\n",
       "      <th>Recall</th>\n",
       "      <th>Roc Auc</th>\n",
       "    </tr>\n",
       "  </thead>\n",
       "  <tbody>\n",
       "    <tr>\n",
       "      <td>2500</td>\n",
       "      <td>0.335000</td>\n",
       "      <td>0.290585</td>\n",
       "      <td>0.875923</td>\n",
       "      <td>0.873164</td>\n",
       "      <td>0.872847</td>\n",
       "      <td>0.875923</td>\n",
       "      <td>0.931783</td>\n",
       "    </tr>\n",
       "    <tr>\n",
       "      <td>5000</td>\n",
       "      <td>0.203800</td>\n",
       "      <td>0.367803</td>\n",
       "      <td>0.870626</td>\n",
       "      <td>0.865481</td>\n",
       "      <td>0.867373</td>\n",
       "      <td>0.870626</td>\n",
       "      <td>0.929167</td>\n",
       "    </tr>\n",
       "    <tr>\n",
       "      <td>7500</td>\n",
       "      <td>0.126300</td>\n",
       "      <td>0.526586</td>\n",
       "      <td>0.874318</td>\n",
       "      <td>0.872730</td>\n",
       "      <td>0.871977</td>\n",
       "      <td>0.874318</td>\n",
       "      <td>0.926649</td>\n",
       "    </tr>\n",
       "  </tbody>\n",
       "</table><p>"
      ],
      "text/plain": [
       "<IPython.core.display.HTML object>"
      ]
     },
     "metadata": {},
     "output_type": "display_data"
    },
    {
     "name": "stderr",
     "output_type": "stream",
     "text": [
      "***** Running Evaluation *****\n",
      "  Num examples = 12460\n",
      "  Batch size = 32\n",
      "Saving model checkpoint to ./unsafe/FINAL_VERS/checkpoint-2500\n",
      "Configuration saved in ./unsafe/FINAL_VERS/checkpoint-2500/config.json\n",
      "Model weights saved in ./unsafe/FINAL_VERS/checkpoint-2500/pytorch_model.bin\n",
      "tokenizer config file saved in ./unsafe/FINAL_VERS/checkpoint-2500/tokenizer_config.json\n",
      "Special tokens file saved in ./unsafe/FINAL_VERS/checkpoint-2500/special_tokens_map.json\n",
      "***** Running Evaluation *****\n",
      "  Num examples = 12460\n",
      "  Batch size = 32\n",
      "Saving model checkpoint to ./unsafe/FINAL_VERS/checkpoint-5000\n",
      "Configuration saved in ./unsafe/FINAL_VERS/checkpoint-5000/config.json\n",
      "Model weights saved in ./unsafe/FINAL_VERS/checkpoint-5000/pytorch_model.bin\n",
      "tokenizer config file saved in ./unsafe/FINAL_VERS/checkpoint-5000/tokenizer_config.json\n",
      "Special tokens file saved in ./unsafe/FINAL_VERS/checkpoint-5000/special_tokens_map.json\n",
      "Deleting older checkpoint [unsafe/FINAL_VERS/checkpoint-7500] due to args.save_total_limit\n",
      "***** Running Evaluation *****\n",
      "  Num examples = 12460\n",
      "  Batch size = 32\n",
      "Saving model checkpoint to ./unsafe/FINAL_VERS/checkpoint-7500\n",
      "Configuration saved in ./unsafe/FINAL_VERS/checkpoint-7500/config.json\n",
      "Model weights saved in ./unsafe/FINAL_VERS/checkpoint-7500/pytorch_model.bin\n",
      "tokenizer config file saved in ./unsafe/FINAL_VERS/checkpoint-7500/tokenizer_config.json\n",
      "Special tokens file saved in ./unsafe/FINAL_VERS/checkpoint-7500/special_tokens_map.json\n",
      "Deleting older checkpoint [unsafe/FINAL_VERS/checkpoint-5000] due to args.save_total_limit\n",
      "\n",
      "\n",
      "Training completed. Do not forget to share your model on huggingface.co/models =)\n",
      "\n",
      "\n",
      "Loading best model from ./unsafe/FINAL_VERS/checkpoint-2500 (score: 0.8731642235432208).\n"
     ]
    },
    {
     "data": {
      "text/plain": [
       "TrainOutput(global_step=7500, training_loss=0.22169110107421874, metrics={'train_runtime': 1187.4157, 'train_samples_per_second': 419.722, 'train_steps_per_second': 13.117, 'total_flos': 7893134327508480.0, 'train_loss': 0.22169110107421874, 'epoch': 2.41})"
      ]
     },
     "execution_count": 24,
     "metadata": {},
     "output_type": "execute_result"
    }
   ],
   "source": [
    "trainer.train()"
   ]
  },
  {
   "cell_type": "markdown",
   "metadata": {},
   "source": [
    "## Evaluation"
   ]
  },
  {
   "cell_type": "code",
   "execution_count": 25,
   "metadata": {},
   "outputs": [
    {
     "name": "stderr",
     "output_type": "stream",
     "text": [
      "***** Running Evaluation *****\n",
      "  Num examples = 12460\n",
      "  Batch size = 32\n"
     ]
    },
    {
     "data": {
      "text/html": [
       "\n",
       "    <div>\n",
       "      \n",
       "      <progress value='390' max='390' style='width:300px; height:20px; vertical-align: middle;'></progress>\n",
       "      [390/390 00:16]\n",
       "    </div>\n",
       "    "
      ],
      "text/plain": [
       "<IPython.core.display.HTML object>"
      ]
     },
     "metadata": {},
     "output_type": "display_data"
    },
    {
     "data": {
      "text/plain": [
       "{'eval_loss': 0.2874436378479004,\n",
       " 'eval_accuracy': 0.8794542536115569,\n",
       " 'eval_f1': 0.8768171192254086,\n",
       " 'eval_precision': 0.8765662325398438,\n",
       " 'eval_recall': 0.8794542536115569,\n",
       " 'eval_roc_auc': 0.9338746374606537,\n",
       " 'eval_runtime': 16.4635,\n",
       " 'eval_samples_per_second': 756.825,\n",
       " 'eval_steps_per_second': 23.689,\n",
       " 'epoch': 2.41}"
      ]
     },
     "execution_count": 25,
     "metadata": {},
     "output_type": "execute_result"
    }
   ],
   "source": [
    "trainer.evaluate(test_dataset)"
   ]
  },
  {
   "cell_type": "code",
   "execution_count": 1,
   "metadata": {},
   "outputs": [],
   "source": [
    "data = [[0.8765, 0.879, 0.876, 0.933],\n",
    "        [0.872, 0.873, 0.8730, 0.9302],\n",
    "        [0.8735,0.87399,0.8737,0.9300],\n",
    "       [0.8724,0.87399,0.8727,0.93009]]"
   ]
  },
  {
   "cell_type": "code",
   "execution_count": 4,
   "metadata": {},
   "outputs": [],
   "source": [
    "import numpy as np"
   ]
  },
  {
   "cell_type": "code",
   "execution_count": 5,
   "metadata": {},
   "outputs": [
    {
     "data": {
      "text/plain": [
       "array([0.8736   , 0.874995 , 0.87385  , 0.9308225])"
      ]
     },
     "execution_count": 5,
     "metadata": {},
     "output_type": "execute_result"
    }
   ],
   "source": [
    "np.mean(data, axis= 0)"
   ]
  },
  {
   "cell_type": "code",
   "execution_count": 6,
   "metadata": {},
   "outputs": [
    {
     "data": {
      "text/plain": [
       "array([0.0017621 , 0.00234734, 0.00129325, 0.00125917])"
      ]
     },
     "execution_count": 6,
     "metadata": {},
     "output_type": "execute_result"
    }
   ],
   "source": [
    "np.std(data, axis= 0)"
   ]
  },
  {
   "cell_type": "code",
   "execution_count": null,
   "metadata": {},
   "outputs": [],
   "source": [
    "rst4\n",
    "{'eval_loss': 0.2874436378479004,\n",
    " 'eval_accuracy': 0.8794542536115569,\n",
    " 'eval_f1': 0.8768171192254086,\n",
    " 'eval_precision': 0.8765662325398438,\n",
    " 'eval_recall': 0.8794542536115569,\n",
    " 'eval_roc_auc': 0.9338746374606537,\n",
    " 'eval_runtime': 16.4635,\n",
    " 'eval_samples_per_second': 756.825,\n",
    " 'eval_steps_per_second': 23.689,\n",
    " 'epoch': 2.41}"
   ]
  },
  {
   "cell_type": "raw",
   "metadata": {},
   "source": [
    "rst3\n",
    "{'eval_loss': 0.3035500645637512,\n",
    " 'eval_accuracy': 0.8734349919743178,\n",
    " 'eval_f1': 0.8730073088851781,\n",
    " 'eval_precision': 0.8726432901207516,\n",
    " 'eval_recall': 0.8734349919743178,\n",
    " 'eval_roc_auc': 0.9302956638768558,\n",
    " 'eval_runtime': 16.4334,\n",
    " 'eval_samples_per_second': 758.21,\n",
    " 'eval_steps_per_second': 23.732,\n",
    " 'epoch': 2.41}"
   ]
  },
  {
   "cell_type": "raw",
   "metadata": {},
   "source": [
    "rst2 \n",
    "{'eval_loss': 0.5307201147079468,\n",
    " 'eval_accuracy': 0.8739967897271268,\n",
    " 'eval_f1': 0.8737889380377645,\n",
    " 'eval_precision': 0.8735964803172215,\n",
    " 'eval_recall': 0.8739967897271268,\n",
    " 'eval_roc_auc': 0.930097927887141,\n",
    " 'eval_runtime': 16.7383,\n",
    " 'eval_samples_per_second': 744.401,\n",
    " 'eval_steps_per_second': 23.3,\n",
    " 'epoch': 4.82}"
   ]
  },
  {
   "cell_type": "raw",
   "metadata": {},
   "source": [
    "rst1\n",
    "'eval_f1': 0.8727483164146967,\n",
    " 'eval_precision': 0.8724291164600153,\n",
    " 'eval_recall': 0.8731139646869984,\n",
    " 'eval_roc_auc': 0.9305943212545986"
   ]
  },
  {
   "cell_type": "code",
   "execution_count": null,
   "metadata": {},
   "outputs": [],
   "source": [
    "pred = trainer.predict(test_dataset)"
   ]
  },
  {
   "cell_type": "code",
   "execution_count": null,
   "metadata": {},
   "outputs": [],
   "source": [
    "from sklearn.metrics import f1_score, roc_auc_score, precision_score, recall_score, accuracy_score"
   ]
  },
  {
   "cell_type": "code",
   "execution_count": null,
   "metadata": {},
   "outputs": [],
   "source": [
    "import numpy as np\n",
    "from scipy.special import softmax\n",
    "from sklearn.metrics import precision_recall_fscore_support, classification_report, roc_auc_score\n",
    "from sklearn.metrics import f1_score, roc_auc_score, precision_score, recall_score, accuracy_score\n",
    "# Function to calculate the accuracy of our predictions vs labels\n",
    "def get_metrics(preds):\n",
    "    preds, labels = preds.predictions, preds.label_ids\n",
    "    #standard round approach    \n",
    "    pred_flat = np.argmax(preds, axis=1).flatten()    \n",
    "    pr, rec, f, _ = precision_recall_fscore_support(labels, pred_flat, average='weighted')  \n",
    "    \n",
    "    print(\"precision\", pr)\n",
    "    print(\"recall\", rec)\n",
    "    print(\"fscore_weighted\", f)\n",
    "    \n",
    "    #adjust threshold approach\n",
    "    preds_adj = np.array([[float(el1),float(el2)] for el1,el2 in preds])\n",
    "    preds_adj = softmax(preds_adj, axis = 1)\n",
    "    roc_auc = roc_auc_score(labels, preds_adj[:, 1])\n",
    "    print(\"roc_auc\", roc_auc)\n",
    "    \n",
    "    all_metrcis = []\n",
    "    for threshold in [0.01,0.1,0.2,0.3,0.4,0.5,0.6,0.7,0.8,0.9, 1]:\n",
    "        metrcis = []\n",
    "        pred_labels = (preds_adj[:, 1] >= threshold).astype(int)\n",
    "        metrcis.append(threshold)\n",
    "        metrcis.append(round(f1_score(labels, pred_labels, average='weighted'),2))  \n",
    "        metrcis.append(round(precision_score(labels, pred_labels),2))  \n",
    "        metrcis.append(round(recall_score(labels, pred_labels),2))  \n",
    "        metrcis.append(round(accuracy_score(labels, pred_labels),2))  \n",
    "        all_metrcis.append(metrcis)\n",
    "\n",
    "    df_metrics = pd.DataFrame(data = all_metrcis, columns = ['threshold','f1','prec','rec','acc'])\n",
    "    df_metrics = df_metrics.sort_values(by='f1', ascending=False)\n",
    "    \n",
    "    print(classification_report(labels, pred_flat))\n",
    "    \n",
    "    print(df_metrics.head())\n",
    "    \n",
    "    return f\n",
    "\n",
    "get_metrics(pred)"
   ]
  }
 ],
 "metadata": {
  "kernelspec": {
   "display_name": "Python 3",
   "language": "python",
   "name": "python3"
  },
  "language_info": {
   "codemirror_mode": {
    "name": "ipython",
    "version": 3
   },
   "file_extension": ".py",
   "mimetype": "text/x-python",
   "name": "python",
   "nbconvert_exporter": "python",
   "pygments_lexer": "ipython3",
   "version": "3.7.4"
  }
 },
 "nbformat": 4,
 "nbformat_minor": 4
}
