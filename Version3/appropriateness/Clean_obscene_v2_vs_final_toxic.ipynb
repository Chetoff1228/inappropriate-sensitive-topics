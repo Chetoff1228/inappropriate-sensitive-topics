{
 "cells": [
  {
   "cell_type": "code",
   "execution_count": 1,
   "metadata": {},
   "outputs": [],
   "source": [
    "import pandas as pd\n",
    "import re\n",
    "from collections import Counter\n",
    "import random\n",
    "from profanity_filter import ProfanityFilter\n",
    "from obscene_words_filter.default import get_default_filter\n",
    "import obscene_words_filter\n",
    "filter_obscene_regex = get_default_filter()"
   ]
  },
  {
   "cell_type": "code",
   "execution_count": 89,
   "metadata": {},
   "outputs": [],
   "source": [
    "# df = pd.read_csv(\"FOR_HYBRID4_to_obscene.csv\")\n",
    "# df = pd.read_csv(\"../data_text/stories_3mln_new.csv\")\n",
    "# df = pd.read_csv(\"../data_text/HYBRID_Steps123456.csv\")\n",
    "\n",
    "df_inapp = pd.read_csv(\"Inappropriate_09_top_vs_one_with_multi.csv\")"
   ]
  },
  {
   "cell_type": "code",
   "execution_count": 90,
   "metadata": {},
   "outputs": [
    {
     "data": {
      "text/plain": [
       "124597"
      ]
     },
     "execution_count": 90,
     "metadata": {},
     "output_type": "execute_result"
    }
   ],
   "source": [
    "len(df_inapp)"
   ]
  },
  {
   "cell_type": "code",
   "execution_count": 56,
   "metadata": {},
   "outputs": [],
   "source": [
    "collected_data = []\n",
    "counter = 0\n",
    "total = 300000\n",
    "with open(\"C:\\\\input\\\\toxic_and_unsafe\\\\AGGREGATE_RAW_AND_PROCESSED_UNSAFE\\\\arhivach_data\\\\all_dvach.txt\", encoding = 'utf-8') as f:\n",
    "    for l in f.readlines():\n",
    "        collected_data.append(l.strip())\n",
    "        counter += 1\n",
    "        if counter == total: break\n",
    "    "
   ]
  },
  {
   "cell_type": "code",
   "execution_count": 57,
   "metadata": {},
   "outputs": [],
   "source": [
    "df = pd.DataFrame({'text':collected_data})"
   ]
  },
  {
   "cell_type": "code",
   "execution_count": 58,
   "metadata": {},
   "outputs": [],
   "source": [
    "df['len'] = df['text'].apply(lambda x: len(x.split()))"
   ]
  },
  {
   "cell_type": "code",
   "execution_count": 59,
   "metadata": {},
   "outputs": [],
   "source": [
    "df = df[(df['len'] > 5) & (df['len'] < 100)]"
   ]
  },
  {
   "cell_type": "code",
   "execution_count": 60,
   "metadata": {},
   "outputs": [
    {
     "data": {
      "text/html": [
       "<div>\n",
       "<style scoped>\n",
       "    .dataframe tbody tr th:only-of-type {\n",
       "        vertical-align: middle;\n",
       "    }\n",
       "\n",
       "    .dataframe tbody tr th {\n",
       "        vertical-align: top;\n",
       "    }\n",
       "\n",
       "    .dataframe thead th {\n",
       "        text-align: right;\n",
       "    }\n",
       "</style>\n",
       "<table border=\"1\" class=\"dataframe\">\n",
       "  <thead>\n",
       "    <tr style=\"text-align: right;\">\n",
       "      <th></th>\n",
       "      <th>text</th>\n",
       "      <th>len</th>\n",
       "    </tr>\n",
       "  </thead>\n",
       "  <tbody>\n",
       "    <tr>\n",
       "      <th>3</th>\n",
       "      <td>МАМА МАМА Я В ИСТОРИИ)))И ТУТ КАПЧИ НЕТУ)))</td>\n",
       "      <td>8</td>\n",
       "    </tr>\n",
       "    <tr>\n",
       "      <th>5</th>\n",
       "      <td>Всем привет, с вами Игорь Линк</td>\n",
       "      <td>6</td>\n",
       "    </tr>\n",
       "    <tr>\n",
       "      <th>7</th>\n",
       "      <td>Блядь, покемоны все? Что с серваками?</td>\n",
       "      <td>6</td>\n",
       "    </tr>\n",
       "    <tr>\n",
       "      <th>9</th>\n",
       "      <td>&gt; pokpok pok pokвся сутьсажа скрыл</td>\n",
       "      <td>6</td>\n",
       "    </tr>\n",
       "    <tr>\n",
       "      <th>10</th>\n",
       "      <td>Наконец-то вы съехали. Рад за вас, ребят!</td>\n",
       "      <td>7</td>\n",
       "    </tr>\n",
       "  </tbody>\n",
       "</table>\n",
       "</div>"
      ],
      "text/plain": [
       "                                           text  len\n",
       "3   МАМА МАМА Я В ИСТОРИИ)))И ТУТ КАПЧИ НЕТУ)))    8\n",
       "5                Всем привет, с вами Игорь Линк    6\n",
       "7         Блядь, покемоны все? Что с серваками?    6\n",
       "9            > pokpok pok pokвся сутьсажа скрыл    6\n",
       "10    Наконец-то вы съехали. Рад за вас, ребят!    7"
      ]
     },
     "execution_count": 60,
     "metadata": {},
     "output_type": "execute_result"
    }
   ],
   "source": [
    "df.head()"
   ]
  },
  {
   "cell_type": "markdown",
   "metadata": {},
   "source": [
    "# Прямой подхол"
   ]
  },
  {
   "cell_type": "code",
   "execution_count": 61,
   "metadata": {},
   "outputs": [],
   "source": [
    "exclude_list = ['какая','сила','дурак','хрен','дураки','мужу','муж','сосать','сосала',\n",
    "                'минут','минута','сил','стерва','блин','муд','дот','малафьи','гад','соси','сосать']"
   ]
  },
  {
   "cell_type": "code",
   "execution_count": 62,
   "metadata": {},
   "outputs": [],
   "source": [
    "mat_initial_form = []\n",
    "with open(\"C:\\\\Users\\\\N.Babakov\\\\python_notebooks\\\\toloka\\\\data_text\\\\MAT_FINAL_with_unigram_inflections.txt\", 'r', encoding = 'utf-8') as f:\n",
    "    for m in f.readlines():\n",
    "        m_cl = re.sub('\\n','',m)\n",
    "        mat_initial_form.append(m_cl)"
   ]
  },
  {
   "cell_type": "code",
   "execution_count": 63,
   "metadata": {},
   "outputs": [],
   "source": [
    "unigram_mat_set = set()\n",
    "ngram_mat_set = set()\n",
    "for mat in mat_initial_form:\n",
    "    if len(mat.split()) == 1:\n",
    "        if mat not in exclude_list:\n",
    "            unigram_mat_set.add(mat)\n",
    "    else:\n",
    "        ngram_mat_set.add(mat)"
   ]
  },
  {
   "cell_type": "markdown",
   "metadata": {},
   "source": [
    "# Регулярки"
   ]
  },
  {
   "cell_type": "code",
   "execution_count": 64,
   "metadata": {},
   "outputs": [
    {
     "name": "stdout",
     "output_type": "stream",
     "text": [
      "бля\n",
      "ебать\n"
     ]
    }
   ],
   "source": [
    "t = \"Да ебнутая, бля ебать уеба это просто ебнутая какой-то!\"\n",
    "for match in filter_obscene_regex.find_bad_word_matches_without_good_words(t): \n",
    "    start, end = match.span()\n",
    "    bad_word = t[start: end]\n",
    "    print(bad_word)"
   ]
  },
  {
   "cell_type": "markdown",
   "metadata": {},
   "source": [
    "# profanity_filter"
   ]
  },
  {
   "cell_type": "code",
   "execution_count": 65,
   "metadata": {
    "scrolled": true
   },
   "outputs": [],
   "source": [
    "# !pip install spacy --upgrade\n",
    "# !python -m spacy download ru_core_news_lg"
   ]
  },
  {
   "cell_type": "markdown",
   "metadata": {},
   "source": [
    "# Задаем функцию"
   ]
  },
  {
   "cell_type": "code",
   "execution_count": 66,
   "metadata": {},
   "outputs": [],
   "source": [
    "tsttxt = 'и да, в принципе у нас против Зенита никогда ничего не имели, это москвичи всех бля.'\n"
   ]
  },
  {
   "cell_type": "code",
   "execution_count": 67,
   "metadata": {},
   "outputs": [
    {
     "data": {
      "text/plain": [
       "'бля'"
      ]
     },
     "execution_count": 67,
     "metadata": {},
     "output_type": "execute_result"
    }
   ],
   "source": [
    "def is_any_obscene(txt):\n",
    "\n",
    "    txt = txt.lower()\n",
    "    \n",
    "#     for match in filter_obscene_regex.find_bad_word_matches_without_good_words(txt): \n",
    "#         start, end = match.span()\n",
    "#         bad_word = txt[start: end]\n",
    "#         return bad_word + \"_filt\"\n",
    "    \n",
    "    txt = re.sub('[^a-zA-Zа-яА-Я]', ' ', txt)\n",
    "    txt = re.sub(' +', ' ', txt)\n",
    "    txt = txt.split()\n",
    "    \n",
    "    any_obscene_unigram = any(word in unigram_mat_set for word in txt)\n",
    "    if any_obscene_unigram:\n",
    "        for word in txt:\n",
    "            if word in unigram_mat_set:\n",
    "                return word\n",
    "    \n",
    "    txt_join = ' '.join(txt)\n",
    "    any_obscene_ngram = any(ngram in txt_join for ngram in ngram_mat_set)\n",
    "    if any_obscene_ngram:\n",
    "        for ngram in ngram_mat_set:\n",
    "            if ngram in txt_join:\n",
    "                return ngram\n",
    "    \n",
    "    return 'clean'\n",
    "    \n",
    "is_any_obscene(tsttxt)"
   ]
  },
  {
   "cell_type": "markdown",
   "metadata": {},
   "source": [
    "# Отфильтровать новый"
   ]
  },
  {
   "cell_type": "code",
   "execution_count": 68,
   "metadata": {},
   "outputs": [],
   "source": [
    "from tqdm import tqdm"
   ]
  },
  {
   "cell_type": "code",
   "execution_count": 69,
   "metadata": {},
   "outputs": [],
   "source": [
    "tqdm.pandas()"
   ]
  },
  {
   "cell_type": "code",
   "execution_count": 48,
   "metadata": {},
   "outputs": [],
   "source": [
    "df_sm = df[:1000]"
   ]
  },
  {
   "cell_type": "code",
   "execution_count": 80,
   "metadata": {},
   "outputs": [],
   "source": []
  },
  {
   "cell_type": "code",
   "execution_count": 49,
   "metadata": {},
   "outputs": [
    {
     "name": "stderr",
     "output_type": "stream",
     "text": [
      "100%|███████████████████████████████████████████████████████████████████████████| 1000/1000 [00:00<00:00, 12409.92it/s]\n",
      "<ipython-input-49-42e61f5f526c>:1: SettingWithCopyWarning: \n",
      "A value is trying to be set on a copy of a slice from a DataFrame.\n",
      "Try using .loc[row_indexer,col_indexer] = value instead\n",
      "\n",
      "See the caveats in the documentation: https://pandas.pydata.org/pandas-docs/stable/user_guide/indexing.html#returning-a-view-versus-a-copy\n",
      "  df_sm['is_obscene'] = df_sm['text'].progress_apply(is_any_obscene)\n"
     ]
    }
   ],
   "source": [
    "df_sm['is_obscene'] = df_sm['text'].progress_apply(is_any_obscene)"
   ]
  },
  {
   "cell_type": "code",
   "execution_count": 70,
   "metadata": {
    "scrolled": true
   },
   "outputs": [
    {
     "name": "stderr",
     "output_type": "stream",
     "text": [
      "100%|███████████████████████████████████████████████████████████████████████| 172152/172152 [00:13<00:00, 13143.34it/s]\n"
     ]
    }
   ],
   "source": [
    "df['is_obscene'] = df['text'].progress_apply(is_any_obscene)"
   ]
  },
  {
   "cell_type": "code",
   "execution_count": 71,
   "metadata": {},
   "outputs": [
    {
     "data": {
      "text/plain": [
       "52421"
      ]
     },
     "execution_count": 71,
     "metadata": {},
     "output_type": "execute_result"
    }
   ],
   "source": [
    "len(df[df['is_obscene'] != 'clean'])"
   ]
  },
  {
   "cell_type": "code",
   "execution_count": 19,
   "metadata": {
    "scrolled": true
   },
   "outputs": [
    {
     "data": {
      "text/plain": [
       "[('clean', 123666),\n",
       " ('кун', 58),\n",
       " ('хули', 30),\n",
       " ('говна', 22),\n",
       " ('сиськи', 20),\n",
       " ('нахуя', 18),\n",
       " ('мини', 17),\n",
       " ('говном', 16),\n",
       " ('доту', 15),\n",
       " ('обосрался', 13),\n",
       " ('говне', 10),\n",
       " ('шлюх', 9),\n",
       " ('шлюхи', 9),\n",
       " ('куны', 9),\n",
       " ('жопе', 9),\n",
       " ('хуйни', 8),\n",
       " ('хуйню', 8),\n",
       " ('пиндосы', 7),\n",
       " ('дрочу', 7),\n",
       " ('дрочил', 7),\n",
       " ('дрочат', 7),\n",
       " ('жопы', 7),\n",
       " ('идиоты', 7),\n",
       " ('блять', 7),\n",
       " ('охуенная', 6),\n",
       " ('дебилы', 6),\n",
       " ('охуели', 6),\n",
       " ('херню', 6),\n",
       " ('ебли', 6),\n",
       " ('жопой', 6),\n",
       " ('лохов', 6),\n",
       " ('ссыт', 6),\n",
       " ('ебашил', 5),\n",
       " ('дрочки', 5),\n",
       " ('съебал', 5),\n",
       " ('заебали', 5),\n",
       " ('заебало', 5),\n",
       " ('подрочил', 5),\n",
       " ('охуенный', 5),\n",
       " ('ануса', 5),\n",
       " ('наебали', 5),\n",
       " ('дрочишь', 5),\n",
       " ('насрать', 5),\n",
       " ('похуй', 5),\n",
       " ('охуенное', 4),\n",
       " ('проебался', 4),\n",
       " ('сисек', 4),\n",
       " ('пизд', 4),\n",
       " ('срачи', 4),\n",
       " ('педики', 4),\n",
       " ('обоссал', 4),\n",
       " ('нахрена', 4),\n",
       " ('еблю', 4),\n",
       " ('пиздец', 4),\n",
       " ('ебала', 3),\n",
       " ('пиндосов', 3),\n",
       " ('доте', 3),\n",
       " ('шлюхами', 3),\n",
       " ('доты', 3),\n",
       " ('лохи', 3),\n",
       " ('охуительные', 3),\n",
       " ('анусы', 3),\n",
       " ('хреном', 3),\n",
       " ('обосрались', 3),\n",
       " ('обоссали', 3),\n",
       " ('дерьма', 3),\n",
       " ('охуевал', 3),\n",
       " ('уроды', 3),\n",
       " ('хуям', 3),\n",
       " ('мрази', 3),\n",
       " ('куну', 3),\n",
       " ('пендосов', 3),\n",
       " ('пиздецово', 3),\n",
       " ('обосралась', 3),\n",
       " ('залупу', 3),\n",
       " ('дерьмо', 3),\n",
       " ('говно', 3),\n",
       " ('хуйня', 3),\n",
       " ('жопу', 3),\n",
       " ('хуй', 3),\n",
       " ('проебал', 3),\n",
       " ('ебать', 3),\n",
       " ('какашками', 2),\n",
       " ('ебучие', 2),\n",
       " ('кунов', 2),\n",
       " ('проебут', 2),\n",
       " ('хуиту', 2),\n",
       " ('ебальника', 2),\n",
       " ('анусов', 2),\n",
       " ('сраном', 2),\n",
       " ('пиздой', 2),\n",
       " ('пизде', 2),\n",
       " ('сраной', 2),\n",
       " ('съебали', 2),\n",
       " ('охуеешь', 2),\n",
       " ('сук', 2),\n",
       " ('обоссыт', 2),\n",
       " ('ебанутые', 2),\n",
       " ('кунам', 2),\n",
       " ('минувшего', 2)]"
      ]
     },
     "execution_count": 19,
     "metadata": {},
     "output_type": "execute_result"
    }
   ],
   "source": [
    "Counter(df['is_obscene']).most_common(100)"
   ]
  },
  {
   "cell_type": "code",
   "execution_count": 72,
   "metadata": {},
   "outputs": [],
   "source": [
    "df_cleaned = df[df['is_obscene']=='clean']"
   ]
  },
  {
   "cell_type": "code",
   "execution_count": 73,
   "metadata": {},
   "outputs": [
    {
     "data": {
      "text/plain": [
       "(119731, 172152)"
      ]
     },
     "execution_count": 73,
     "metadata": {},
     "output_type": "execute_result"
    }
   ],
   "source": [
    "len(df_cleaned), len(df)"
   ]
  },
  {
   "cell_type": "code",
   "execution_count": 77,
   "metadata": {},
   "outputs": [
    {
     "name": "stderr",
     "output_type": "stream",
     "text": [
      "<ipython-input-77-e9cd728004e3>:1: SettingWithCopyWarning: \n",
      "A value is trying to be set on a copy of a slice from a DataFrame.\n",
      "Try using .loc[row_indexer,col_indexer] = value instead\n",
      "\n",
      "See the caveats in the documentation: https://pandas.pydata.org/pandas-docs/stable/user_guide/indexing.html#returning-a-view-versus-a-copy\n",
      "  df_cleaned['isdup'] = df_cleaned['text'].isin(df_inapp['text'])\n"
     ]
    }
   ],
   "source": []
  },
  {
   "cell_type": "code",
   "execution_count": 82,
   "metadata": {},
   "outputs": [],
   "source": [
    "import re\n",
    "def depersonalize(text):\n",
    "    text = str(text)\n",
    "    url_regex = r\"(?i)\\b((?:https?://|www\\d{0,3}[.]|[a-z0-9.\\-]+[.][a-z]{2,4}/)(?:[^\\s()<>]+|\\(([^\\s()<>]+|(\\([^\\s()<>]+\\)))*\\))+(?:\\(([^\\s()<>]+|(\\([^\\s()<>]+\\)))*\\)|[^\\s`!()\\[\\]{};:'\\\".,<>?«»“”‘’]))\"\n",
    "    text= re.sub(url_regex, \"url\", text)\n",
    "    text = re.sub(\"id[\\d]*\",'',text)\n",
    "    text = re.sub(\"> ?\",'',text)\n",
    "    text = re.sub(\"@[\\w]*\",'',text)\n",
    "#     text = re.sub(\"\\+[\\d]*\", \"\", text)\n",
    "    text = re.sub(\"[\\d]+\", \"NUMBER\", text)\n",
    "    text = re.sub(\">>\", \"\", text)\n",
    "#     text = re.sub(\"[\\d]{3,100}\", \"\", text)\n",
    "    text = re.sub(\"[\\t|\\n|\\r]\", \"\", text)\n",
    "#     text = re.sub(\"[(OP)|url|nickname|phone_number]\", \"\", text)\n",
    "    return text"
   ]
  },
  {
   "cell_type": "code",
   "execution_count": 83,
   "metadata": {},
   "outputs": [
    {
     "name": "stderr",
     "output_type": "stream",
     "text": [
      "<ipython-input-83-a8c3f4665281>:1: SettingWithCopyWarning: \n",
      "A value is trying to be set on a copy of a slice from a DataFrame.\n",
      "Try using .loc[row_indexer,col_indexer] = value instead\n",
      "\n",
      "See the caveats in the documentation: https://pandas.pydata.org/pandas-docs/stable/user_guide/indexing.html#returning-a-view-versus-a-copy\n",
      "  df_cleaned['text'] = df_cleaned['text'].apply(depersonalize)\n"
     ]
    }
   ],
   "source": [
    "df_cleaned['text'] = df_cleaned['text'].apply(depersonalize)"
   ]
  },
  {
   "cell_type": "code",
   "execution_count": 84,
   "metadata": {},
   "outputs": [
    {
     "name": "stderr",
     "output_type": "stream",
     "text": [
      "<ipython-input-84-e9cd728004e3>:1: SettingWithCopyWarning: \n",
      "A value is trying to be set on a copy of a slice from a DataFrame.\n",
      "Try using .loc[row_indexer,col_indexer] = value instead\n",
      "\n",
      "See the caveats in the documentation: https://pandas.pydata.org/pandas-docs/stable/user_guide/indexing.html#returning-a-view-versus-a-copy\n",
      "  df_cleaned['isdup'] = df_cleaned['text'].isin(df_inapp['text'])\n"
     ]
    }
   ],
   "source": [
    "df_cleaned['isdup'] = df_cleaned['text'].isin(df_inapp['text'])"
   ]
  },
  {
   "cell_type": "code",
   "execution_count": 85,
   "metadata": {},
   "outputs": [
    {
     "data": {
      "text/plain": [
       "Counter({False: 119524, True: 207})"
      ]
     },
     "execution_count": 85,
     "metadata": {},
     "output_type": "execute_result"
    }
   ],
   "source": [
    "Counter(df_cleaned['isdup'])"
   ]
  },
  {
   "cell_type": "code",
   "execution_count": 86,
   "metadata": {},
   "outputs": [],
   "source": [
    "df_cleaned = df_cleaned[df_cleaned['isdup'] == False]"
   ]
  },
  {
   "cell_type": "code",
   "execution_count": 87,
   "metadata": {},
   "outputs": [],
   "source": [
    "df_cleaned =df_cleaned[['text']]"
   ]
  },
  {
   "cell_type": "code",
   "execution_count": 88,
   "metadata": {},
   "outputs": [],
   "source": [
    "df_cleaned.to_csv(\"for_final_test_no_obscene.csv\", index = None)"
   ]
  },
  {
   "cell_type": "code",
   "execution_count": 23,
   "metadata": {},
   "outputs": [],
   "source": [
    "# df_cleaned.to_csv(\"FOR_HYBRID4_NO_obscene.csv\", index = None)\n",
    "# df_cleaned.to_csv(\"FOR_HYBRID5_NO_obscene.csv\", index = None)\n",
    "# df_cleaned.to_csv(\"../data_text/HFinal_no_obscene_from_dict_proc1.csv.csv\", index = None)"
   ]
  },
  {
   "cell_type": "code",
   "execution_count": 25,
   "metadata": {},
   "outputs": [],
   "source": [
    "# df_cleaned_unsafe = df_cleaned[['text','unsafe']]\n",
    "# df_cleaned_unsafe.to_csv(\"../data_text/HFinal_UNSAFE_ONLY_no_obscene_from_dict_proc1.csv\", index = None)"
   ]
  },
  {
   "cell_type": "code",
   "execution_count": null,
   "metadata": {},
   "outputs": [],
   "source": []
  },
  {
   "cell_type": "markdown",
   "metadata": {},
   "source": [
    "# Убираем токсичность"
   ]
  },
  {
   "cell_type": "code",
   "execution_count": 86,
   "metadata": {},
   "outputs": [],
   "source": [
    "df_autotoxic = pd.read_csv(\"../data_text/HFinal_no_obs_toxAuto_st2.csv\")"
   ]
  },
  {
   "cell_type": "code",
   "execution_count": 87,
   "metadata": {},
   "outputs": [
    {
     "data": {
      "text/html": [
       "<div>\n",
       "<style scoped>\n",
       "    .dataframe tbody tr th:only-of-type {\n",
       "        vertical-align: middle;\n",
       "    }\n",
       "\n",
       "    .dataframe tbody tr th {\n",
       "        vertical-align: top;\n",
       "    }\n",
       "\n",
       "    .dataframe thead th {\n",
       "        text-align: right;\n",
       "    }\n",
       "</style>\n",
       "<table border=\"1\" class=\"dataframe\">\n",
       "  <thead>\n",
       "    <tr style=\"text-align: right;\">\n",
       "      <th></th>\n",
       "      <th>text</th>\n",
       "      <th>unsafe</th>\n",
       "      <th>crime_real</th>\n",
       "      <th>crime_web</th>\n",
       "      <th>drugs</th>\n",
       "      <th>gambling</th>\n",
       "      <th>pornography</th>\n",
       "      <th>prostitution</th>\n",
       "      <th>slavery</th>\n",
       "      <th>suicide</th>\n",
       "      <th>...</th>\n",
       "      <th>politics</th>\n",
       "      <th>racism</th>\n",
       "      <th>religion</th>\n",
       "      <th>sex_minorities</th>\n",
       "      <th>sexism</th>\n",
       "      <th>social</th>\n",
       "      <th>human_labeled</th>\n",
       "      <th>is_obscene</th>\n",
       "      <th>abstr</th>\n",
       "      <th>toxic_auto</th>\n",
       "    </tr>\n",
       "  </thead>\n",
       "  <tbody>\n",
       "    <tr>\n",
       "      <th>0</th>\n",
       "      <td>Начальники ДК и нынешнего места работы?</td>\n",
       "      <td>0.0</td>\n",
       "      <td>0.0</td>\n",
       "      <td>0.0</td>\n",
       "      <td>0.0</td>\n",
       "      <td>0.0</td>\n",
       "      <td>0.0</td>\n",
       "      <td>0.0</td>\n",
       "      <td>0.0</td>\n",
       "      <td>0.0</td>\n",
       "      <td>...</td>\n",
       "      <td>0.0</td>\n",
       "      <td>0.0</td>\n",
       "      <td>0.0</td>\n",
       "      <td>0.0</td>\n",
       "      <td>0.0</td>\n",
       "      <td>1.0</td>\n",
       "      <td>0</td>\n",
       "      <td>clean</td>\n",
       "      <td>0</td>\n",
       "      <td>0.093190</td>\n",
       "    </tr>\n",
       "    <tr>\n",
       "      <th>1</th>\n",
       "      <td>Читаю. Драки, грабежи, ДТП. Изредка убийства, ...</td>\n",
       "      <td>1.0</td>\n",
       "      <td>1.0</td>\n",
       "      <td>0.0</td>\n",
       "      <td>0.0</td>\n",
       "      <td>0.0</td>\n",
       "      <td>0.0</td>\n",
       "      <td>0.0</td>\n",
       "      <td>0.0</td>\n",
       "      <td>0.0</td>\n",
       "      <td>...</td>\n",
       "      <td>0.0</td>\n",
       "      <td>0.0</td>\n",
       "      <td>0.0</td>\n",
       "      <td>0.0</td>\n",
       "      <td>0.0</td>\n",
       "      <td>0.0</td>\n",
       "      <td>0</td>\n",
       "      <td>clean</td>\n",
       "      <td>0</td>\n",
       "      <td>0.178655</td>\n",
       "    </tr>\n",
       "    <tr>\n",
       "      <th>2</th>\n",
       "      <td>Допустимо, если информация не нарушает правил ...</td>\n",
       "      <td>0.0</td>\n",
       "      <td>0.0</td>\n",
       "      <td>1.0</td>\n",
       "      <td>0.0</td>\n",
       "      <td>0.0</td>\n",
       "      <td>0.0</td>\n",
       "      <td>0.0</td>\n",
       "      <td>0.0</td>\n",
       "      <td>0.0</td>\n",
       "      <td>...</td>\n",
       "      <td>0.0</td>\n",
       "      <td>0.0</td>\n",
       "      <td>0.0</td>\n",
       "      <td>0.0</td>\n",
       "      <td>0.0</td>\n",
       "      <td>0.0</td>\n",
       "      <td>0</td>\n",
       "      <td>clean</td>\n",
       "      <td>0</td>\n",
       "      <td>0.016997</td>\n",
       "    </tr>\n",
       "    <tr>\n",
       "      <th>3</th>\n",
       "      <td>В больницу при приеме на работу тоже мед комис...</td>\n",
       "      <td>0.0</td>\n",
       "      <td>0.0</td>\n",
       "      <td>0.0</td>\n",
       "      <td>0.0</td>\n",
       "      <td>0.0</td>\n",
       "      <td>0.0</td>\n",
       "      <td>0.0</td>\n",
       "      <td>0.0</td>\n",
       "      <td>0.0</td>\n",
       "      <td>...</td>\n",
       "      <td>0.0</td>\n",
       "      <td>0.0</td>\n",
       "      <td>0.0</td>\n",
       "      <td>0.0</td>\n",
       "      <td>0.0</td>\n",
       "      <td>0.0</td>\n",
       "      <td>0</td>\n",
       "      <td>clean</td>\n",
       "      <td>0</td>\n",
       "      <td>0.003748</td>\n",
       "    </tr>\n",
       "    <tr>\n",
       "      <th>4</th>\n",
       "      <td>а зачем ты на проураинские митинги выходил? во...</td>\n",
       "      <td>1.0</td>\n",
       "      <td>0.0</td>\n",
       "      <td>0.0</td>\n",
       "      <td>0.0</td>\n",
       "      <td>0.0</td>\n",
       "      <td>0.0</td>\n",
       "      <td>0.0</td>\n",
       "      <td>0.0</td>\n",
       "      <td>0.0</td>\n",
       "      <td>...</td>\n",
       "      <td>0.0</td>\n",
       "      <td>1.0</td>\n",
       "      <td>0.0</td>\n",
       "      <td>0.0</td>\n",
       "      <td>0.0</td>\n",
       "      <td>0.0</td>\n",
       "      <td>0</td>\n",
       "      <td>clean</td>\n",
       "      <td>0</td>\n",
       "      <td>0.399137</td>\n",
       "    </tr>\n",
       "  </tbody>\n",
       "</table>\n",
       "<p>5 rows × 24 columns</p>\n",
       "</div>"
      ],
      "text/plain": [
       "                                                text  unsafe  crime_real  \\\n",
       "0            Начальники ДК и нынешнего места работы?     0.0         0.0   \n",
       "1  Читаю. Драки, грабежи, ДТП. Изредка убийства, ...     1.0         1.0   \n",
       "2  Допустимо, если информация не нарушает правил ...     0.0         0.0   \n",
       "3  В больницу при приеме на работу тоже мед комис...     0.0         0.0   \n",
       "4  а зачем ты на проураинские митинги выходил? во...     1.0         0.0   \n",
       "\n",
       "   crime_web  drugs  gambling  pornography  prostitution  slavery  suicide  \\\n",
       "0        0.0    0.0       0.0          0.0           0.0      0.0      0.0   \n",
       "1        0.0    0.0       0.0          0.0           0.0      0.0      0.0   \n",
       "2        1.0    0.0       0.0          0.0           0.0      0.0      0.0   \n",
       "3        0.0    0.0       0.0          0.0           0.0      0.0      0.0   \n",
       "4        0.0    0.0       0.0          0.0           0.0      0.0      0.0   \n",
       "\n",
       "   ...  politics  racism  religion  sex_minorities  sexism  social  \\\n",
       "0  ...       0.0     0.0       0.0             0.0     0.0     1.0   \n",
       "1  ...       0.0     0.0       0.0             0.0     0.0     0.0   \n",
       "2  ...       0.0     0.0       0.0             0.0     0.0     0.0   \n",
       "3  ...       0.0     0.0       0.0             0.0     0.0     0.0   \n",
       "4  ...       0.0     1.0       0.0             0.0     0.0     0.0   \n",
       "\n",
       "   human_labeled  is_obscene  abstr  toxic_auto  \n",
       "0              0       clean      0    0.093190  \n",
       "1              0       clean      0    0.178655  \n",
       "2              0       clean      0    0.016997  \n",
       "3              0       clean      0    0.003748  \n",
       "4              0       clean      0    0.399137  \n",
       "\n",
       "[5 rows x 24 columns]"
      ]
     },
     "execution_count": 87,
     "metadata": {},
     "output_type": "execute_result"
    }
   ],
   "source": [
    "df_autotoxic.head()"
   ]
  },
  {
   "cell_type": "code",
   "execution_count": 88,
   "metadata": {},
   "outputs": [
    {
     "data": {
      "text/plain": [
       "163350"
      ]
     },
     "execution_count": 88,
     "metadata": {},
     "output_type": "execute_result"
    }
   ],
   "source": [
    "len(df_autotoxic)"
   ]
  },
  {
   "cell_type": "code",
   "execution_count": 57,
   "metadata": {},
   "outputs": [],
   "source": [
    "import random"
   ]
  },
  {
   "cell_type": "code",
   "execution_count": 72,
   "metadata": {},
   "outputs": [
    {
     "data": {
      "text/plain": [
       "['Эти слова гарантируют отсутствие финансирования? Совсем мозги отсохли от двачевания?',\n",
       " 'я живу в Башкортостане и тут есть марийцы, татары, русские, а башкиров мало. Наверное, выглядят как люди.',\n",
       " 'Но он не содержит информационной нагрузки о том, говорить или нет. Наркоман, блеадь',\n",
       " 'Почему не растет борода на щеках?',\n",
       " 'Куришь сигареты всегда одна, может стреляешь у наркоманов, которые могут и намешать с торчевом?',\n",
       " 'не отделять логику от интерфейса в Бог мой, скажи, что ты никогда не будешь работать программистом.',\n",
       " 'Как самостоятельно, быстро и эффективно сломать себе палец?',\n",
       " 'А с этого места поподробнее, с меня как всегда.теперь это наебизнеса тред',\n",
       " 'Абу бог наш, а мы свидетели его.',\n",
       " 'Потому что ты тут один И ты должен проснуться']"
      ]
     },
     "execution_count": 72,
     "metadata": {},
     "output_type": "execute_result"
    }
   ],
   "source": [
    "random.sample(list(df_autotoxic[(df_autotoxic['toxic_auto']>0.5)&(df_autotoxic['toxic_auto']<0.75)]['text']),10)"
   ]
  },
  {
   "cell_type": "code",
   "execution_count": 89,
   "metadata": {},
   "outputs": [],
   "source": [
    "df_autotoxic_no_tox = df_autotoxic[df_autotoxic['toxic_auto']<0.75]"
   ]
  },
  {
   "cell_type": "code",
   "execution_count": 90,
   "metadata": {},
   "outputs": [
    {
     "data": {
      "text/plain": [
       "163332"
      ]
     },
     "execution_count": 90,
     "metadata": {},
     "output_type": "execute_result"
    }
   ],
   "source": [
    "len(df_autotoxic_no_tox)"
   ]
  },
  {
   "cell_type": "code",
   "execution_count": 91,
   "metadata": {},
   "outputs": [],
   "source": [
    "clmn = list(df_autotoxic_no_tox)"
   ]
  },
  {
   "cell_type": "code",
   "execution_count": 92,
   "metadata": {},
   "outputs": [
    {
     "data": {
      "text/plain": [
       "['text',\n",
       " 'unsafe',\n",
       " 'crime_real',\n",
       " 'crime_web',\n",
       " 'drugs',\n",
       " 'gambling',\n",
       " 'pornography',\n",
       " 'prostitution',\n",
       " 'slavery',\n",
       " 'suicide',\n",
       " 'terrorism',\n",
       " 'weapons',\n",
       " 'body_shaming',\n",
       " 'halth_shaming',\n",
       " 'politics',\n",
       " 'racism',\n",
       " 'religion',\n",
       " 'sex_minorities',\n",
       " 'sexism',\n",
       " 'social',\n",
       " 'human_labeled',\n",
       " 'is_obscene',\n",
       " 'abstr',\n",
       " 'toxic_auto']"
      ]
     },
     "execution_count": 92,
     "metadata": {},
     "output_type": "execute_result"
    }
   ],
   "source": [
    "clmn"
   ]
  },
  {
   "cell_type": "code",
   "execution_count": 93,
   "metadata": {},
   "outputs": [],
   "source": [
    "clmn_nec = clmn[:-3] + ['toxic_auto']"
   ]
  },
  {
   "cell_type": "code",
   "execution_count": 95,
   "metadata": {},
   "outputs": [
    {
     "data": {
      "text/plain": [
       "22"
      ]
     },
     "execution_count": 95,
     "metadata": {},
     "output_type": "execute_result"
    }
   ],
   "source": [
    "len(clmn_nec)"
   ]
  },
  {
   "cell_type": "code",
   "execution_count": 74,
   "metadata": {},
   "outputs": [
    {
     "data": {
      "text/plain": [
       "Index(['text', 'unsafe', 'crime_real', 'crime_web', 'drugs', 'gambling',\n",
       "       'pornography', 'prostitution', 'slavery', 'suicide', 'terrorism',\n",
       "       'weapons', 'body_shaming', 'halth_shaming', 'politics', 'racism',\n",
       "       'religion', 'sex_minorities', 'sexism', 'social', 'human_labeled',\n",
       "       'is_obscene', 'abstr', 'toxic_auto'],\n",
       "      dtype='object')"
      ]
     },
     "execution_count": 74,
     "metadata": {},
     "output_type": "execute_result"
    }
   ],
   "source": [
    "df_autotoxic_no_tox.columns"
   ]
  },
  {
   "cell_type": "code",
   "execution_count": 96,
   "metadata": {},
   "outputs": [],
   "source": [
    "df_autotoxic_no_tox = df_autotoxic_no_tox[clmn_nec]"
   ]
  },
  {
   "cell_type": "code",
   "execution_count": 97,
   "metadata": {},
   "outputs": [
    {
     "data": {
      "text/plain": [
       "163332"
      ]
     },
     "execution_count": 97,
     "metadata": {},
     "output_type": "execute_result"
    }
   ],
   "source": [
    "len(df_autotoxic_no_tox)"
   ]
  },
  {
   "cell_type": "code",
   "execution_count": 99,
   "metadata": {},
   "outputs": [],
   "source": [
    "def round_val(val):\n",
    "    return round(val,2)"
   ]
  },
  {
   "cell_type": "code",
   "execution_count": 100,
   "metadata": {},
   "outputs": [],
   "source": [
    "df_autotoxic_no_tox['toxic_auto'] = df_autotoxic_no_tox['toxic_auto'].apply(round_val)"
   ]
  },
  {
   "cell_type": "code",
   "execution_count": 101,
   "metadata": {},
   "outputs": [],
   "source": [
    "df_autotoxic_no_tox.to_csv(\"../data_text/HFinal_no_obs_no_tox075_st3.csv\", index = None)"
   ]
  },
  {
   "cell_type": "markdown",
   "metadata": {},
   "source": [
    "# Отфильтровать существующий гибрид, посомтреть на кол-во"
   ]
  },
  {
   "cell_type": "code",
   "execution_count": 41,
   "metadata": {},
   "outputs": [],
   "source": [
    "def is_any_obscene_v1(txt):\n",
    "\n",
    "    txt = txt.lower()    \n",
    "    txt = re.sub('[^a-zA-Zа-яА-Я]', ' ', txt)\n",
    "    txt = re.sub(' +', ' ', txt)\n",
    "    txt = txt.split()\n",
    "    \n",
    "    any_obscene_unigram = any(word in unigram_mat_set for word in txt)\n",
    "    if any_obscene_unigram:\n",
    "        for word in txt:\n",
    "            if word in unigram_mat_set:\n",
    "                return word\n",
    "    \n",
    "    txt_join = ' '.join(txt)\n",
    "    any_obscene_ngram = any(ngram in txt_join for ngram in ngram_mat_set)\n",
    "    if any_obscene_ngram:\n",
    "        for ngram in ngram_mat_set:\n",
    "            if ngram in txt_join:\n",
    "                return ngram\n",
    "    \n",
    "    return 'clean'"
   ]
  },
  {
   "cell_type": "code",
   "execution_count": 42,
   "metadata": {},
   "outputs": [],
   "source": [
    "df_hybrid123 = pd.read_csv(\"../data_text/HYBRID_ST123_rec_dp4_human_back.csv\")"
   ]
  },
  {
   "cell_type": "code",
   "execution_count": 43,
   "metadata": {},
   "outputs": [
    {
     "name": "stderr",
     "output_type": "stream",
     "text": [
      "100%|█████████████████████████████████████████████████████████████████████████| 88940/88940 [00:08<00:00, 10157.36it/s]\n"
     ]
    }
   ],
   "source": [
    "df_hybrid123['is_obscene'] = df_hybrid123['text'].progress_apply(is_any_obscene_v1)"
   ]
  },
  {
   "cell_type": "code",
   "execution_count": 48,
   "metadata": {
    "scrolled": true
   },
   "outputs": [
    {
     "data": {
      "text/plain": [
       "[('clean', 87857),\n",
       " ('кун', 88),\n",
       " ('хули', 41),\n",
       " ('говна', 31),\n",
       " ('сиськи', 26),\n",
       " ('нахуя', 21),\n",
       " ('мини', 20),\n",
       " ('доту', 19),\n",
       " ('говном', 18),\n",
       " ('обосрался', 15),\n",
       " ('говне', 15),\n",
       " ('куны', 14),\n",
       " ('шлюхи', 11),\n",
       " ('шлюх', 10),\n",
       " ('хуйни', 10),\n",
       " ('жопе', 10),\n",
       " ('жопы', 9),\n",
       " ('дебилы', 9),\n",
       " ('хуйню', 9),\n",
       " ('охуенная', 8),\n",
       " ('лохов', 8),\n",
       " ('жопой', 7),\n",
       " ('идиоты', 7),\n",
       " ('заебало', 7),\n",
       " ('ануса', 7),\n",
       " ('дрочу', 7),\n",
       " ('дрочил', 7),\n",
       " ('ебли', 7),\n",
       " ('пиндосы', 7),\n",
       " ('заебали', 6),\n",
       " ('охуели', 6),\n",
       " ('охуительные', 6),\n",
       " ('дерьма', 6),\n",
       " ('дрочат', 6),\n",
       " ('охуенный', 6),\n",
       " ('ссыт', 6),\n",
       " ('дрочки', 5),\n",
       " ('доте', 5),\n",
       " ('дрочишь', 5),\n",
       " ('обосрались', 5),\n",
       " ('наебали', 5),\n",
       " ('ебашил', 5),\n",
       " ('съебал', 5),\n",
       " ('подрочил', 5),\n",
       " ('обоссал', 5),\n",
       " ('срачи', 4),\n",
       " ('охуеешь', 4),\n",
       " ('сисек', 4),\n",
       " ('пиндосам', 4),\n",
       " ('педики', 4),\n",
       " ('доты', 4),\n",
       " ('кунов', 4),\n",
       " ('лохи', 4),\n",
       " ('проебался', 4),\n",
       " ('нахрена', 4),\n",
       " ('еблю', 4),\n",
       " ('охуенное', 4),\n",
       " ('какашки', 4),\n",
       " ('наеб', 3),\n",
       " ('дебилов', 3),\n",
       " ('ебанутые', 3),\n",
       " ('ебучих', 3),\n",
       " ('подонков', 3),\n",
       " ('уроды', 3),\n",
       " ('шлюхами', 3),\n",
       " ('сраном', 3),\n",
       " ('охуевал', 3),\n",
       " ('задрот', 3),\n",
       " ('прихуел', 3),\n",
       " ('трахаются', 3),\n",
       " ('кунами', 3),\n",
       " ('поеботы', 3),\n",
       " ('анусы', 3),\n",
       " ('ебала', 3),\n",
       " ('шлюхам', 3),\n",
       " ('проебали', 3),\n",
       " ('засрал', 3),\n",
       " ('сук', 3),\n",
       " ('пизд', 3),\n",
       " ('обоссали', 3),\n",
       " ('хреном', 3),\n",
       " ('херню', 3),\n",
       " ('херни', 3),\n",
       " ('мрази', 3),\n",
       " ('еби', 3),\n",
       " ('поссал', 3),\n",
       " ('пендосов', 3),\n",
       " ('пиндосов', 3),\n",
       " ('ссу', 3),\n",
       " ('дур', 3),\n",
       " ('дуры', 3),\n",
       " ('залупу', 3),\n",
       " ('пиздецово', 3),\n",
       " ('куну', 3),\n",
       " ('идиотов', 2),\n",
       " ('ебу', 2),\n",
       " ('дуру', 2),\n",
       " ('ебутся', 2),\n",
       " ('охуительная', 2),\n",
       " ('гондоны', 2)]"
      ]
     },
     "execution_count": 48,
     "metadata": {},
     "output_type": "execute_result"
    }
   ],
   "source": [
    "Counter(df_hybrid123['is_obscene']).most_common(100)"
   ]
  },
  {
   "cell_type": "code",
   "execution_count": 49,
   "metadata": {},
   "outputs": [],
   "source": [
    "df_hybrid123_cleaned = df_hybrid123[df_hybrid123['is_obscene']=='clean']"
   ]
  },
  {
   "cell_type": "code",
   "execution_count": 50,
   "metadata": {
    "scrolled": true
   },
   "outputs": [
    {
     "data": {
      "text/plain": [
       "(87857, 88940)"
      ]
     },
     "execution_count": 50,
     "metadata": {},
     "output_type": "execute_result"
    }
   ],
   "source": [
    "len(df_hybrid123_cleaned), len(df_hybrid123)"
   ]
  },
  {
   "cell_type": "code",
   "execution_count": 54,
   "metadata": {
    "scrolled": true
   },
   "outputs": [
    {
     "data": {
      "text/plain": [
       "19502"
      ]
     },
     "execution_count": 54,
     "metadata": {},
     "output_type": "execute_result"
    }
   ],
   "source": [
    "len(df_hybrid123_cleaned[df_hybrid123_cleaned['unsafe']>0.75])"
   ]
  },
  {
   "cell_type": "code",
   "execution_count": 55,
   "metadata": {},
   "outputs": [
    {
     "data": {
      "text/plain": [
       "20333"
      ]
     },
     "execution_count": 55,
     "metadata": {},
     "output_type": "execute_result"
    }
   ],
   "source": [
    "len(df_hybrid123[df_hybrid123['unsafe']>0.75])"
   ]
  },
  {
   "cell_type": "code",
   "execution_count": null,
   "metadata": {},
   "outputs": [],
   "source": []
  },
  {
   "cell_type": "code",
   "execution_count": 56,
   "metadata": {},
   "outputs": [],
   "source": []
  },
  {
   "cell_type": "code",
   "execution_count": null,
   "metadata": {},
   "outputs": [],
   "source": []
  }
 ],
 "metadata": {
  "kernelspec": {
   "display_name": "Python 3",
   "language": "python",
   "name": "python3"
  },
  "language_info": {
   "codemirror_mode": {
    "name": "ipython",
    "version": 3
   },
   "file_extension": ".py",
   "mimetype": "text/x-python",
   "name": "python",
   "nbconvert_exporter": "python",
   "pygments_lexer": "ipython3",
   "version": "3.8.10"
  }
 },
 "nbformat": 4,
 "nbformat_minor": 4
}
