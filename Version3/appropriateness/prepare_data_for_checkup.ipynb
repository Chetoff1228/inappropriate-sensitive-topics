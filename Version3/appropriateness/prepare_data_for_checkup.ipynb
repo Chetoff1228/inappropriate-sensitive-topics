{
 "cells": [
  {
   "cell_type": "code",
   "execution_count": null,
   "metadata": {},
   "outputs": [],
   "source": [
    "# Берем двач очищенный от матов, размечаем по тематикам и затем токсиком и недопустимостью, также отдельно без тематик. размечаем руками, смотрим что по результатам"
   ]
  },
  {
   "cell_type": "code",
   "execution_count": 1,
   "metadata": {},
   "outputs": [],
   "source": [
    "import pandas as pd\n",
    "from tqdm import tqdm"
   ]
  },
  {
   "cell_type": "code",
   "execution_count": 2,
   "metadata": {},
   "outputs": [],
   "source": [
    "# df = pd.read_csv(\"for_final_test_no_obscene.csv\")\n",
    "df =pd.read_csv(\"for_final_test_no_obscene_autoalbel.csv\")"
   ]
  },
  {
   "cell_type": "code",
   "execution_count": 3,
   "metadata": {},
   "outputs": [
    {
     "data": {
      "text/html": [
       "<div>\n",
       "<style scoped>\n",
       "    .dataframe tbody tr th:only-of-type {\n",
       "        vertical-align: middle;\n",
       "    }\n",
       "\n",
       "    .dataframe tbody tr th {\n",
       "        vertical-align: top;\n",
       "    }\n",
       "\n",
       "    .dataframe thead th {\n",
       "        text-align: right;\n",
       "    }\n",
       "</style>\n",
       "<table border=\"1\" class=\"dataframe\">\n",
       "  <thead>\n",
       "    <tr style=\"text-align: right;\">\n",
       "      <th></th>\n",
       "      <th>text</th>\n",
       "      <th>inapp</th>\n",
       "      <th>toxic</th>\n",
       "    </tr>\n",
       "  </thead>\n",
       "  <tbody>\n",
       "    <tr>\n",
       "      <th>0</th>\n",
       "      <td>МАМА МАМА Я В ИСТОРИИ)))И ТУТ КАПЧИ НЕТУ)))</td>\n",
       "      <td>0.020365</td>\n",
       "      <td>0.028794</td>\n",
       "    </tr>\n",
       "    <tr>\n",
       "      <th>1</th>\n",
       "      <td>Всем привет, с вами Игорь Линк</td>\n",
       "      <td>0.001812</td>\n",
       "      <td>0.886306</td>\n",
       "    </tr>\n",
       "    <tr>\n",
       "      <th>2</th>\n",
       "      <td>pokpok pok pokвся сутьсажа скрыл</td>\n",
       "      <td>0.577300</td>\n",
       "      <td>0.972156</td>\n",
       "    </tr>\n",
       "    <tr>\n",
       "      <th>3</th>\n",
       "      <td>Наконец-то вы съехали. Рад за вас, ребят!</td>\n",
       "      <td>0.006442</td>\n",
       "      <td>0.547558</td>\n",
       "    </tr>\n",
       "    <tr>\n",
       "      <th>4</th>\n",
       "      <td>NUMBERЧтоб покемонобояре не утруждали себя кап...</td>\n",
       "      <td>0.465591</td>\n",
       "      <td>0.992220</td>\n",
       "    </tr>\n",
       "  </tbody>\n",
       "</table>\n",
       "</div>"
      ],
      "text/plain": [
       "                                                text     inapp     toxic\n",
       "0        МАМА МАМА Я В ИСТОРИИ)))И ТУТ КАПЧИ НЕТУ)))  0.020365  0.028794\n",
       "1                     Всем привет, с вами Игорь Линк  0.001812  0.886306\n",
       "2                   pokpok pok pokвся сутьсажа скрыл  0.577300  0.972156\n",
       "3          Наконец-то вы съехали. Рад за вас, ребят!  0.006442  0.547558\n",
       "4  NUMBERЧтоб покемонобояре не утруждали себя кап...  0.465591  0.992220"
      ]
     },
     "execution_count": 3,
     "metadata": {},
     "output_type": "execute_result"
    }
   ],
   "source": [
    "df.head()"
   ]
  },
  {
   "cell_type": "code",
   "execution_count": 11,
   "metadata": {},
   "outputs": [],
   "source": [
    "from torch.utils.data import Dataset, DataLoader\n",
    "class UnsafeDataset(torch.utils.data.Dataset):\n",
    "    def __init__(self, text, labels=None):\n",
    "        self.text = text\n",
    "\n",
    "    def __getitem__(self, idx):\n",
    "        item = self.text[idx]\n",
    "        return item\n",
    "\n",
    "    def __len__(self):\n",
    "        return len(self.text)"
   ]
  },
  {
   "cell_type": "code",
   "execution_count": 12,
   "metadata": {},
   "outputs": [],
   "source": [
    "inference_dataset = UnsafeDataset(df.text.tolist())\n",
    "inference_dataloader = DataLoader(inference_dataset, batch_size = 32)"
   ]
  },
  {
   "cell_type": "code",
   "execution_count": 13,
   "metadata": {},
   "outputs": [],
   "source": [
    "for b in inference_dataloader:\n",
    "    pass\n",
    "    break\n",
    "# b"
   ]
  },
  {
   "cell_type": "markdown",
   "metadata": {},
   "source": [
    "### Inappropriateness"
   ]
  },
  {
   "cell_type": "code",
   "execution_count": 4,
   "metadata": {},
   "outputs": [],
   "source": [
    "from transformers import BertTokenizer, BertForSequenceClassification\n",
    "import torch\n"
   ]
  },
  {
   "cell_type": "code",
   "execution_count": 5,
   "metadata": {},
   "outputs": [],
   "source": [
    "device = torch.device('cuda:5')"
   ]
  },
  {
   "cell_type": "code",
   "execution_count": null,
   "metadata": {},
   "outputs": [],
   "source": [
    "model_name = 'Skoltech/russian-inappropriate-messages'\n",
    "\n",
    "tokenizer = BertTokenizer.from_pretrained(model_name)\n",
    "model = BertForSequenceClassification.from_pretrained(model_name);\n",
    "model.to(device);"
   ]
  },
  {
   "cell_type": "code",
   "execution_count": null,
   "metadata": {},
   "outputs": [],
   "source": [
    "res_inapp = []\n",
    "for b in tqdm(inference_dataloader):\n",
    "    with torch.no_grad():\n",
    "        tokenized = tokenizer.batch_encode_plus(b,max_length = 512,\n",
    "                                            pad_to_max_length=True,\n",
    "                                            truncation=True,\n",
    "                                            return_token_type_ids=False)\n",
    "        tokens_ids,mask = torch.tensor(tokenized['input_ids']),torch.tensor(tokenized['attention_mask']) \n",
    "        tokens_ids = tokens_ids.to(device)\n",
    "        mask = mask.to(device)\n",
    "        model_output = model(tokens_ids,mask)\n",
    "        soft = torch.softmax(model_output['logits'], dim = 1)\n",
    "        soft = [el.cpu().item() for el in soft]\n",
    "        res_inapp.extend(soft[:,1])\n",
    "#     break"
   ]
  },
  {
   "cell_type": "code",
   "execution_count": null,
   "metadata": {},
   "outputs": [],
   "source": [
    "df['inapp'] = res_inapp"
   ]
  },
  {
   "cell_type": "code",
   "execution_count": null,
   "metadata": {},
   "outputs": [],
   "source": [
    "df.to_csv(\"for_final_test_no_obscene_autoalbel.csv\",index = None)"
   ]
  },
  {
   "cell_type": "markdown",
   "metadata": {},
   "source": [
    "### Toxicity"
   ]
  },
  {
   "cell_type": "code",
   "execution_count": null,
   "metadata": {},
   "outputs": [],
   "source": [
    "model_name_toxic = 'sismetanin/rubert-toxic-pikabu-2ch'\n",
    "\n",
    "tokenizer_toxic = BertTokenizer.from_pretrained(model_name_toxic)\n",
    "model_toxic = BertForSequenceClassification.from_pretrained(model_name_toxic);\n"
   ]
  },
  {
   "cell_type": "code",
   "execution_count": 19,
   "metadata": {},
   "outputs": [],
   "source": [
    "model_toxic.to(device);"
   ]
  },
  {
   "cell_type": "code",
   "execution_count": 22,
   "metadata": {},
   "outputs": [
    {
     "name": "stderr",
     "output_type": "stream",
     "text": [
      "100%|██████████| 3736/3736 [24:15<00:00,  2.57it/s]\n"
     ]
    }
   ],
   "source": [
    "res_toxic = []\n",
    "for b in tqdm(inference_dataloader):\n",
    "    with torch.no_grad():\n",
    "        tokenized = tokenizer_toxic.batch_encode_plus(b,max_length = 512,\n",
    "                                            pad_to_max_length=True,\n",
    "                                            truncation=True,\n",
    "                                            return_token_type_ids=False)\n",
    "        tokens_ids,mask = torch.tensor(tokenized['input_ids']),torch.tensor(tokenized['attention_mask']) \n",
    "        tokens_ids = tokens_ids.to(device)\n",
    "        mask = mask.to(device)\n",
    "        model_output = model_toxic(tokens_ids,mask)\n",
    "        soft = torch.softmax(model_output['logits'], dim = 1)\n",
    "        soft = soft[:,1]\n",
    "        soft = [el.cpu().item() for el in soft]\n",
    "        res_toxic.extend(soft)\n",
    "#     break"
   ]
  },
  {
   "cell_type": "code",
   "execution_count": 23,
   "metadata": {},
   "outputs": [],
   "source": [
    "df['toxic'] = res_toxic"
   ]
  },
  {
   "cell_type": "code",
   "execution_count": 24,
   "metadata": {},
   "outputs": [],
   "source": [
    "df.to_csv(\"for_final_test_no_obscene_autoalbel.csv\",index = None)"
   ]
  },
  {
   "cell_type": "code",
   "execution_count": null,
   "metadata": {},
   "outputs": [],
   "source": []
  },
  {
   "cell_type": "markdown",
   "metadata": {},
   "source": [
    "### Sensitive topics"
   ]
  },
  {
   "cell_type": "code",
   "execution_count": 6,
   "metadata": {},
   "outputs": [],
   "source": [
    "model_name = 'Skoltech/russian-sensitive-topics'\n",
    "tokenizer = BertTokenizer.from_pretrained(model_name)\n",
    "model = BertForSequenceClassification.from_pretrained(model_name);"
   ]
  },
  {
   "cell_type": "code",
   "execution_count": 15,
   "metadata": {},
   "outputs": [],
   "source": [
    "model = model.to(device);"
   ]
  },
  {
   "cell_type": "code",
   "execution_count": 8,
   "metadata": {},
   "outputs": [],
   "source": [
    "import json\n",
    "with open(\"../sensitive_topics/id2topic.json\") as f:\n",
    "    target_vaiables_id2topic_dict = json.load( f)"
   ]
  },
  {
   "cell_type": "code",
   "execution_count": 9,
   "metadata": {},
   "outputs": [],
   "source": [
    "def adjust_multilabel(y):\n",
    "    y_adjusted = []\n",
    "    for y_c in y:\n",
    "        y_test_curr = [0]*19\n",
    "        index = str(int(np.argmax(y_c)))\n",
    "        y_c = target_vaiables_id2topic_dict[index]\n",
    "    return y_c"
   ]
  },
  {
   "cell_type": "code",
   "execution_count": 34,
   "metadata": {},
   "outputs": [
    {
     "name": "stderr",
     "output_type": "stream",
     "text": [
      "100%|██████████| 3736/3736 [24:12<00:00,  2.57it/s]\n"
     ]
    }
   ],
   "source": [
    "res_topic = []\n",
    "for b in tqdm(inference_dataloader):\n",
    "    with torch.no_grad():\n",
    "        tokenized = tokenizer.batch_encode_plus(b,max_length = 512,\n",
    "                                            pad_to_max_length=True,\n",
    "                                            truncation=True,\n",
    "                                            return_token_type_ids=False)\n",
    "        tokens_ids,mask = torch.tensor(tokenized['input_ids']),torch.tensor(tokenized['attention_mask']) \n",
    "        tokens_ids = tokens_ids.to(device)\n",
    "        mask = mask.to(device)\n",
    "        model_output = model(tokens_ids,mask)\n",
    "        logits = model_output['logits'].cpu()\n",
    "        preds = torch.argmax(logits,1).tolist()\n",
    "        preds = [target_vaiables_id2topic_dict[str(p)] for p in preds]\n",
    "        res_topic.extend(preds)\n",
    "#         soft = torch.softmax(model_output['logits'], dim = 1)\n",
    "#         soft = soft[:,1]\n",
    "#         soft = [el.cpu().item() for el in soft]\n",
    "#         res_toxic.extend(soft)\n",
    "#     break"
   ]
  },
  {
   "cell_type": "code",
   "execution_count": 35,
   "metadata": {},
   "outputs": [],
   "source": [
    "df['topic'] = res_topic"
   ]
  },
  {
   "cell_type": "code",
   "execution_count": 36,
   "metadata": {},
   "outputs": [],
   "source": [
    "df.to_csv(\"for_final_test_no_obscene_autoalbel.csv\",index = None)"
   ]
  },
  {
   "cell_type": "code",
   "execution_count": null,
   "metadata": {},
   "outputs": [],
   "source": []
  },
  {
   "cell_type": "markdown",
   "metadata": {},
   "source": [
    "# Select for labeling"
   ]
  },
  {
   "cell_type": "code",
   "execution_count": 21,
   "metadata": {},
   "outputs": [],
   "source": [
    "from collections import Counter"
   ]
  },
  {
   "cell_type": "code",
   "execution_count": 10,
   "metadata": {},
   "outputs": [],
   "source": [
    "df = pd.read_csv(\"for_final_test_no_obscene_autoalbel.csv\")"
   ]
  },
  {
   "cell_type": "code",
   "execution_count": 11,
   "metadata": {},
   "outputs": [
    {
     "data": {
      "text/html": [
       "<div>\n",
       "<style scoped>\n",
       "    .dataframe tbody tr th:only-of-type {\n",
       "        vertical-align: middle;\n",
       "    }\n",
       "\n",
       "    .dataframe tbody tr th {\n",
       "        vertical-align: top;\n",
       "    }\n",
       "\n",
       "    .dataframe thead th {\n",
       "        text-align: right;\n",
       "    }\n",
       "</style>\n",
       "<table border=\"1\" class=\"dataframe\">\n",
       "  <thead>\n",
       "    <tr style=\"text-align: right;\">\n",
       "      <th></th>\n",
       "      <th>text</th>\n",
       "      <th>inapp</th>\n",
       "      <th>toxic</th>\n",
       "      <th>topic</th>\n",
       "    </tr>\n",
       "  </thead>\n",
       "  <tbody>\n",
       "    <tr>\n",
       "      <th>0</th>\n",
       "      <td>МАМА МАМА Я В ИСТОРИИ)))И ТУТ КАПЧИ НЕТУ)))</td>\n",
       "      <td>0.020365</td>\n",
       "      <td>0.028794</td>\n",
       "      <td>none</td>\n",
       "    </tr>\n",
       "    <tr>\n",
       "      <th>1</th>\n",
       "      <td>Всем привет, с вами Игорь Линк</td>\n",
       "      <td>0.001812</td>\n",
       "      <td>0.886306</td>\n",
       "      <td>none</td>\n",
       "    </tr>\n",
       "    <tr>\n",
       "      <th>2</th>\n",
       "      <td>pokpok pok pokвся сутьсажа скрыл</td>\n",
       "      <td>0.577300</td>\n",
       "      <td>0.972156</td>\n",
       "      <td>none</td>\n",
       "    </tr>\n",
       "    <tr>\n",
       "      <th>3</th>\n",
       "      <td>Наконец-то вы съехали. Рад за вас, ребят!</td>\n",
       "      <td>0.006442</td>\n",
       "      <td>0.547558</td>\n",
       "      <td>none</td>\n",
       "    </tr>\n",
       "    <tr>\n",
       "      <th>4</th>\n",
       "      <td>NUMBERЧтоб покемонобояре не утруждали себя кап...</td>\n",
       "      <td>0.465591</td>\n",
       "      <td>0.992220</td>\n",
       "      <td>none</td>\n",
       "    </tr>\n",
       "  </tbody>\n",
       "</table>\n",
       "</div>"
      ],
      "text/plain": [
       "                                                text     inapp     toxic topic\n",
       "0        МАМА МАМА Я В ИСТОРИИ)))И ТУТ КАПЧИ НЕТУ)))  0.020365  0.028794  none\n",
       "1                     Всем привет, с вами Игорь Линк  0.001812  0.886306  none\n",
       "2                   pokpok pok pokвся сутьсажа скрыл  0.577300  0.972156  none\n",
       "3          Наконец-то вы съехали. Рад за вас, ребят!  0.006442  0.547558  none\n",
       "4  NUMBERЧтоб покемонобояре не утруждали себя кап...  0.465591  0.992220  none"
      ]
     },
     "execution_count": 11,
     "metadata": {},
     "output_type": "execute_result"
    }
   ],
   "source": [
    "df.head()"
   ]
  },
  {
   "cell_type": "code",
   "execution_count": 12,
   "metadata": {},
   "outputs": [],
   "source": [
    "df = df.sample(frac=1, random_state = 1).reset_index(drop=True)"
   ]
  },
  {
   "cell_type": "code",
   "execution_count": 7,
   "metadata": {},
   "outputs": [
    {
     "data": {
      "text/html": [
       "<div>\n",
       "<style scoped>\n",
       "    .dataframe tbody tr th:only-of-type {\n",
       "        vertical-align: middle;\n",
       "    }\n",
       "\n",
       "    .dataframe tbody tr th {\n",
       "        vertical-align: top;\n",
       "    }\n",
       "\n",
       "    .dataframe thead th {\n",
       "        text-align: right;\n",
       "    }\n",
       "</style>\n",
       "<table border=\"1\" class=\"dataframe\">\n",
       "  <thead>\n",
       "    <tr style=\"text-align: right;\">\n",
       "      <th></th>\n",
       "      <th>text</th>\n",
       "      <th>inapp</th>\n",
       "      <th>toxic</th>\n",
       "      <th>topic</th>\n",
       "    </tr>\n",
       "  </thead>\n",
       "  <tbody>\n",
       "    <tr>\n",
       "      <th>0</th>\n",
       "      <td>NUMBERНу вообще не у лягух, а у мелкого Ведра,...</td>\n",
       "      <td>0.006085</td>\n",
       "      <td>0.542380</td>\n",
       "      <td>none</td>\n",
       "    </tr>\n",
       "    <tr>\n",
       "      <th>1</th>\n",
       "      <td>NUMBERдержи без цензуры:url её когда она подкл...</td>\n",
       "      <td>0.442130</td>\n",
       "      <td>0.030260</td>\n",
       "      <td>none</td>\n",
       "    </tr>\n",
       "    <tr>\n",
       "      <th>2</th>\n",
       "      <td>NUMBERПетушок закукарекал Как там на личном? ))</td>\n",
       "      <td>0.931578</td>\n",
       "      <td>0.400233</td>\n",
       "      <td>none</td>\n",
       "    </tr>\n",
       "    <tr>\n",
       "      <th>3</th>\n",
       "      <td>NUMBERНашел NUMBER гиг/NUMBERбит шина NUMBER н...</td>\n",
       "      <td>0.995333</td>\n",
       "      <td>0.991154</td>\n",
       "      <td>racism</td>\n",
       "    </tr>\n",
       "    <tr>\n",
       "      <th>4</th>\n",
       "      <td>Ребят, а когда уже Witch появится в нормальном...</td>\n",
       "      <td>0.008427</td>\n",
       "      <td>0.035830</td>\n",
       "      <td>none</td>\n",
       "    </tr>\n",
       "  </tbody>\n",
       "</table>\n",
       "</div>"
      ],
      "text/plain": [
       "                                                text     inapp     toxic  \\\n",
       "0  NUMBERНу вообще не у лягух, а у мелкого Ведра,...  0.006085  0.542380   \n",
       "1  NUMBERдержи без цензуры:url её когда она подкл...  0.442130  0.030260   \n",
       "2    NUMBERПетушок закукарекал Как там на личном? ))  0.931578  0.400233   \n",
       "3  NUMBERНашел NUMBER гиг/NUMBERбит шина NUMBER н...  0.995333  0.991154   \n",
       "4  Ребят, а когда уже Witch появится в нормальном...  0.008427  0.035830   \n",
       "\n",
       "    topic  \n",
       "0    none  \n",
       "1    none  \n",
       "2    none  \n",
       "3  racism  \n",
       "4    none  "
      ]
     },
     "execution_count": 7,
     "metadata": {},
     "output_type": "execute_result"
    }
   ],
   "source": [
    "df.head()"
   ]
  },
  {
   "cell_type": "code",
   "execution_count": 13,
   "metadata": {},
   "outputs": [],
   "source": [
    "threshold = 0.75\n",
    "df['toxic_inapp'] = df.apply(lambda x: (x['toxic']>threshold)&(x['inapp']>threshold), axis = 1)\n",
    "df['toxic_app'] = df.apply(lambda x: (x['toxic']>threshold)&(x['inapp']<threshold), axis = 1)\n",
    "df['notoxic_inapp'] = df.apply(lambda x: (x['toxic']<threshold)&(x['inapp']>threshold), axis = 1)\n",
    "df['notoxic_app'] = df.apply(lambda x: (x['toxic']<threshold)&(x['inapp']<threshold), axis = 1)"
   ]
  },
  {
   "cell_type": "code",
   "execution_count": 16,
   "metadata": {},
   "outputs": [
    {
     "data": {
      "text/html": [
       "<div>\n",
       "<style scoped>\n",
       "    .dataframe tbody tr th:only-of-type {\n",
       "        vertical-align: middle;\n",
       "    }\n",
       "\n",
       "    .dataframe tbody tr th {\n",
       "        vertical-align: top;\n",
       "    }\n",
       "\n",
       "    .dataframe thead th {\n",
       "        text-align: right;\n",
       "    }\n",
       "</style>\n",
       "<table border=\"1\" class=\"dataframe\">\n",
       "  <thead>\n",
       "    <tr style=\"text-align: right;\">\n",
       "      <th></th>\n",
       "      <th>text</th>\n",
       "      <th>inapp</th>\n",
       "      <th>toxic</th>\n",
       "      <th>topic</th>\n",
       "      <th>toxic_inapp</th>\n",
       "      <th>toxic_app</th>\n",
       "      <th>notoxic_inapp</th>\n",
       "      <th>notoxic_app</th>\n",
       "    </tr>\n",
       "  </thead>\n",
       "  <tbody>\n",
       "    <tr>\n",
       "      <th>0</th>\n",
       "      <td>NUMBERНу вообще не у лягух, а у мелкого Ведра,...</td>\n",
       "      <td>0.006085</td>\n",
       "      <td>0.542380</td>\n",
       "      <td>none</td>\n",
       "      <td>False</td>\n",
       "      <td>False</td>\n",
       "      <td>False</td>\n",
       "      <td>True</td>\n",
       "    </tr>\n",
       "    <tr>\n",
       "      <th>1</th>\n",
       "      <td>NUMBERдержи без цензуры:url её когда она подкл...</td>\n",
       "      <td>0.442130</td>\n",
       "      <td>0.030260</td>\n",
       "      <td>none</td>\n",
       "      <td>False</td>\n",
       "      <td>False</td>\n",
       "      <td>False</td>\n",
       "      <td>True</td>\n",
       "    </tr>\n",
       "    <tr>\n",
       "      <th>2</th>\n",
       "      <td>NUMBERПетушок закукарекал Как там на личном? ))</td>\n",
       "      <td>0.931578</td>\n",
       "      <td>0.400233</td>\n",
       "      <td>none</td>\n",
       "      <td>False</td>\n",
       "      <td>False</td>\n",
       "      <td>True</td>\n",
       "      <td>False</td>\n",
       "    </tr>\n",
       "    <tr>\n",
       "      <th>3</th>\n",
       "      <td>NUMBERНашел NUMBER гиг/NUMBERбит шина NUMBER н...</td>\n",
       "      <td>0.995333</td>\n",
       "      <td>0.991154</td>\n",
       "      <td>racism</td>\n",
       "      <td>True</td>\n",
       "      <td>False</td>\n",
       "      <td>False</td>\n",
       "      <td>False</td>\n",
       "    </tr>\n",
       "    <tr>\n",
       "      <th>4</th>\n",
       "      <td>Ребят, а когда уже Witch появится в нормальном...</td>\n",
       "      <td>0.008427</td>\n",
       "      <td>0.035830</td>\n",
       "      <td>none</td>\n",
       "      <td>False</td>\n",
       "      <td>False</td>\n",
       "      <td>False</td>\n",
       "      <td>True</td>\n",
       "    </tr>\n",
       "  </tbody>\n",
       "</table>\n",
       "</div>"
      ],
      "text/plain": [
       "                                                text     inapp     toxic  \\\n",
       "0  NUMBERНу вообще не у лягух, а у мелкого Ведра,...  0.006085  0.542380   \n",
       "1  NUMBERдержи без цензуры:url её когда она подкл...  0.442130  0.030260   \n",
       "2    NUMBERПетушок закукарекал Как там на личном? ))  0.931578  0.400233   \n",
       "3  NUMBERНашел NUMBER гиг/NUMBERбит шина NUMBER н...  0.995333  0.991154   \n",
       "4  Ребят, а когда уже Witch появится в нормальном...  0.008427  0.035830   \n",
       "\n",
       "    topic  toxic_inapp  toxic_app  notoxic_inapp  notoxic_app  \n",
       "0    none        False      False          False         True  \n",
       "1    none        False      False          False         True  \n",
       "2    none        False      False           True        False  \n",
       "3  racism         True      False          False        False  \n",
       "4    none        False      False          False         True  "
      ]
     },
     "execution_count": 16,
     "metadata": {},
     "output_type": "execute_result"
    }
   ],
   "source": [
    "df.head()"
   ]
  },
  {
   "cell_type": "code",
   "execution_count": 15,
   "metadata": {},
   "outputs": [],
   "source": [
    "df_no_topic = df[df['topic']=='none']\n",
    "df_any_topic = df[df['topic']!='none']"
   ]
  },
  {
   "cell_type": "code",
   "execution_count": 37,
   "metadata": {},
   "outputs": [
    {
     "data": {
      "text/plain": [
       "Counter({True: 13498})"
      ]
     },
     "execution_count": 37,
     "metadata": {},
     "output_type": "execute_result"
    }
   ],
   "source": [
    "Counter(df[df['toxic_app']]['toxic_app'])"
   ]
  },
  {
   "cell_type": "code",
   "execution_count": 17,
   "metadata": {},
   "outputs": [],
   "source": [
    "def get_tox_app_proportional_df(df_curr):\n",
    "    collected_dfs = []\n",
    "    for tox_inapp_rel_type in ['toxic_inapp','toxic_app','notoxic_inapp','notoxic_app']:\n",
    "        df_curr_type = df_curr[df_curr[tox_inapp_rel_type]][:25]\n",
    "        collected_dfs.append(df_curr_type)\n",
    "    collected_dfs = pd.concat(collected_dfs)\n",
    "    collected_dfs.drop_duplicates(subset=['text'],inplace = True)\n",
    "    return collected_dfs"
   ]
  },
  {
   "cell_type": "code",
   "execution_count": 18,
   "metadata": {},
   "outputs": [],
   "source": [
    "df_no_topic_for_label = get_tox_app_proportional_df(df_no_topic)"
   ]
  },
  {
   "cell_type": "code",
   "execution_count": 22,
   "metadata": {},
   "outputs": [
    {
     "data": {
      "text/plain": [
       "Counter({True: 25, False: 75})"
      ]
     },
     "execution_count": 22,
     "metadata": {},
     "output_type": "execute_result"
    }
   ],
   "source": [
    "Counter(df_no_topic_for_label['toxic_inapp'])"
   ]
  },
  {
   "cell_type": "code",
   "execution_count": 23,
   "metadata": {},
   "outputs": [
    {
     "data": {
      "text/plain": [
       "Counter({False: 75, True: 25})"
      ]
     },
     "execution_count": 23,
     "metadata": {},
     "output_type": "execute_result"
    }
   ],
   "source": [
    "Counter(df_no_topic_for_label['notoxic_app'])"
   ]
  },
  {
   "cell_type": "code",
   "execution_count": 24,
   "metadata": {},
   "outputs": [
    {
     "data": {
      "text/plain": [
       "100"
      ]
     },
     "execution_count": 24,
     "metadata": {},
     "output_type": "execute_result"
    }
   ],
   "source": [
    "len(df_no_topic_for_label)"
   ]
  },
  {
   "cell_type": "code",
   "execution_count": 32,
   "metadata": {},
   "outputs": [],
   "source": [
    "# df_no_topic_for_label[df_no_topic_for_label['notoxic_inapp']==True]"
   ]
  },
  {
   "cell_type": "code",
   "execution_count": 33,
   "metadata": {},
   "outputs": [],
   "source": [
    "# df_no_topic_for_label.sample(10)"
   ]
  },
  {
   "cell_type": "code",
   "execution_count": 25,
   "metadata": {},
   "outputs": [],
   "source": [
    "df_any_topic_for_label = get_tox_app_proportional_df(df_any_topic)"
   ]
  },
  {
   "cell_type": "code",
   "execution_count": 28,
   "metadata": {},
   "outputs": [
    {
     "data": {
      "text/plain": [
       "Counter({False: 75, True: 25})"
      ]
     },
     "execution_count": 28,
     "metadata": {},
     "output_type": "execute_result"
    }
   ],
   "source": [
    "Counter(df_any_topic_for_label['notoxic_app'])"
   ]
  },
  {
   "cell_type": "code",
   "execution_count": 34,
   "metadata": {},
   "outputs": [
    {
     "data": {
      "text/plain": [
       "Counter({False: 75, True: 25})"
      ]
     },
     "execution_count": 34,
     "metadata": {},
     "output_type": "execute_result"
    }
   ],
   "source": [
    "Counter(df_any_topic_for_label['toxic_app'])"
   ]
  },
  {
   "cell_type": "code",
   "execution_count": 26,
   "metadata": {},
   "outputs": [],
   "source": [
    "df_any_topic_for_label.to_csv(\"verification_any_topic.csv\",index = None)"
   ]
  },
  {
   "cell_type": "code",
   "execution_count": 27,
   "metadata": {},
   "outputs": [],
   "source": [
    "df_no_topic_for_label.to_csv(\"verification_no_topic.csv\",index = None)"
   ]
  },
  {
   "cell_type": "code",
   "execution_count": null,
   "metadata": {},
   "outputs": [],
   "source": []
  }
 ],
 "metadata": {
  "kernelspec": {
   "display_name": "Python 3",
   "language": "python",
   "name": "python3"
  },
  "language_info": {
   "codemirror_mode": {
    "name": "ipython",
    "version": 3
   },
   "file_extension": ".py",
   "mimetype": "text/x-python",
   "name": "python",
   "nbconvert_exporter": "python",
   "pygments_lexer": "ipython3",
   "version": "3.7.4"
  }
 },
 "nbformat": 4,
 "nbformat_minor": 4
}
