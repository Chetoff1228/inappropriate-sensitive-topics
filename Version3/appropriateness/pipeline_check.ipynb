{
 "cells": [
  {
   "cell_type": "code",
   "execution_count": 52,
   "metadata": {},
   "outputs": [],
   "source": [
    "import pandas as pd\n",
    "from sklearn.metrics import cohen_kappa_score\n",
    "from collections import Counter\n",
    "from sklearn.metrics import confusion_matrix\n",
    "import seaborn as sn\n",
    "import pandas as pd\n",
    "import matplotlib.pyplot as plt\n",
    "import numpy as np"
   ]
  },
  {
   "cell_type": "code",
   "execution_count": 2,
   "metadata": {},
   "outputs": [],
   "source": [
    "df = pd.read_csv(\"verification_any_topic - verification_any_topic.csv\")"
   ]
  },
  {
   "cell_type": "code",
   "execution_count": 5,
   "metadata": {},
   "outputs": [],
   "source": [
    "df['Nikolay'] = df['Nikolay'].apply(round)"
   ]
  },
  {
   "cell_type": "code",
   "execution_count": 3,
   "metadata": {},
   "outputs": [
    {
     "data": {
      "text/html": [
       "<div>\n",
       "<style scoped>\n",
       "    .dataframe tbody tr th:only-of-type {\n",
       "        vertical-align: middle;\n",
       "    }\n",
       "\n",
       "    .dataframe tbody tr th {\n",
       "        vertical-align: top;\n",
       "    }\n",
       "\n",
       "    .dataframe thead th {\n",
       "        text-align: right;\n",
       "    }\n",
       "</style>\n",
       "<table border=\"1\" class=\"dataframe\">\n",
       "  <thead>\n",
       "    <tr style=\"text-align: right;\">\n",
       "      <th></th>\n",
       "      <th>text</th>\n",
       "      <th>inapp</th>\n",
       "      <th>toxic</th>\n",
       "      <th>topic</th>\n",
       "      <th>toxic_inapp</th>\n",
       "      <th>toxic_app</th>\n",
       "      <th>notoxic_inapp</th>\n",
       "      <th>notoxic_app</th>\n",
       "      <th>agree</th>\n",
       "      <th>binarized</th>\n",
       "      <th>average</th>\n",
       "      <th>Varvara</th>\n",
       "      <th>Nikolay</th>\n",
       "      <th>sanity_check</th>\n",
       "    </tr>\n",
       "  </thead>\n",
       "  <tbody>\n",
       "    <tr>\n",
       "      <th>0</th>\n",
       "      <td>(OP)Делить людей на быдло и не быдло - первый...</td>\n",
       "      <td>0.777729</td>\n",
       "      <td>0.978835</td>\n",
       "      <td>social_injustice</td>\n",
       "      <td>True</td>\n",
       "      <td>False</td>\n",
       "      <td>False</td>\n",
       "      <td>False</td>\n",
       "      <td>NaN</td>\n",
       "      <td>1</td>\n",
       "      <td>1.0</td>\n",
       "      <td>1</td>\n",
       "      <td>1.0</td>\n",
       "      <td>True</td>\n",
       "    </tr>\n",
       "    <tr>\n",
       "      <th>1</th>\n",
       "      <td>(OP)На третьем пике по середине обычный офисн...</td>\n",
       "      <td>0.991046</td>\n",
       "      <td>0.002133</td>\n",
       "      <td>social_injustice</td>\n",
       "      <td>False</td>\n",
       "      <td>False</td>\n",
       "      <td>True</td>\n",
       "      <td>False</td>\n",
       "      <td>NaN</td>\n",
       "      <td>1</td>\n",
       "      <td>1.0</td>\n",
       "      <td>1</td>\n",
       "      <td>1.0</td>\n",
       "      <td>True</td>\n",
       "    </tr>\n",
       "    <tr>\n",
       "      <th>2</th>\n",
       "      <td>(OP)Опчик, а я уже второй день колбашусь с по...</td>\n",
       "      <td>0.674704</td>\n",
       "      <td>0.007797</td>\n",
       "      <td>drugs</td>\n",
       "      <td>False</td>\n",
       "      <td>False</td>\n",
       "      <td>False</td>\n",
       "      <td>True</td>\n",
       "      <td>NaN</td>\n",
       "      <td>1</td>\n",
       "      <td>1.0</td>\n",
       "      <td>1</td>\n",
       "      <td>1.0</td>\n",
       "      <td>True</td>\n",
       "    </tr>\n",
       "    <tr>\n",
       "      <th>3</th>\n",
       "      <td>(OP)после этого вы меня будете уюеждать, что ...</td>\n",
       "      <td>0.642163</td>\n",
       "      <td>0.005001</td>\n",
       "      <td>social_injustice</td>\n",
       "      <td>False</td>\n",
       "      <td>False</td>\n",
       "      <td>False</td>\n",
       "      <td>True</td>\n",
       "      <td>NaN</td>\n",
       "      <td>1</td>\n",
       "      <td>1.0</td>\n",
       "      <td>1</td>\n",
       "      <td>1.0</td>\n",
       "      <td>True</td>\n",
       "    </tr>\n",
       "    <tr>\n",
       "      <th>4</th>\n",
       "      <td>(OP)У меня хоть на мужиков и стоит, но я каку...</td>\n",
       "      <td>0.862354</td>\n",
       "      <td>0.597659</td>\n",
       "      <td>sexism</td>\n",
       "      <td>False</td>\n",
       "      <td>False</td>\n",
       "      <td>True</td>\n",
       "      <td>False</td>\n",
       "      <td>NaN</td>\n",
       "      <td>1</td>\n",
       "      <td>1.0</td>\n",
       "      <td>1</td>\n",
       "      <td>1.0</td>\n",
       "      <td>True</td>\n",
       "    </tr>\n",
       "  </tbody>\n",
       "</table>\n",
       "</div>"
      ],
      "text/plain": [
       "                                                text     inapp     toxic  \\\n",
       "0   (OP)Делить людей на быдло и не быдло - первый...  0.777729  0.978835   \n",
       "1   (OP)На третьем пике по середине обычный офисн...  0.991046  0.002133   \n",
       "2   (OP)Опчик, а я уже второй день колбашусь с по...  0.674704  0.007797   \n",
       "3   (OP)после этого вы меня будете уюеждать, что ...  0.642163  0.005001   \n",
       "4   (OP)У меня хоть на мужиков и стоит, но я каку...  0.862354  0.597659   \n",
       "\n",
       "              topic  toxic_inapp  toxic_app  notoxic_inapp  notoxic_app  \\\n",
       "0  social_injustice         True      False          False        False   \n",
       "1  social_injustice        False      False           True        False   \n",
       "2             drugs        False      False          False         True   \n",
       "3  social_injustice        False      False          False         True   \n",
       "4            sexism        False      False           True        False   \n",
       "\n",
       "   agree  binarized  average  Varvara  Nikolay  sanity_check  \n",
       "0    NaN          1      1.0        1      1.0          True  \n",
       "1    NaN          1      1.0        1      1.0          True  \n",
       "2    NaN          1      1.0        1      1.0          True  \n",
       "3    NaN          1      1.0        1      1.0          True  \n",
       "4    NaN          1      1.0        1      1.0          True  "
      ]
     },
     "execution_count": 3,
     "metadata": {},
     "output_type": "execute_result"
    }
   ],
   "source": [
    "df.head()"
   ]
  },
  {
   "cell_type": "code",
   "execution_count": null,
   "metadata": {},
   "outputs": [],
   "source": []
  },
  {
   "cell_type": "code",
   "execution_count": 12,
   "metadata": {},
   "outputs": [],
   "source": [
    "df_test = df[df['toxic_inapp']]"
   ]
  },
  {
   "cell_type": "code",
   "execution_count": 13,
   "metadata": {},
   "outputs": [
    {
     "data": {
      "text/plain": [
       "0.24242424242424243"
      ]
     },
     "execution_count": 13,
     "metadata": {},
     "output_type": "execute_result"
    }
   ],
   "source": [
    "cohen_kappa_score(df_test['Varvara'],df_test['Nikolay'])"
   ]
  },
  {
   "cell_type": "code",
   "execution_count": 16,
   "metadata": {},
   "outputs": [
    {
     "data": {
      "text/plain": [
       "Counter({True: 21, False: 4})"
      ]
     },
     "execution_count": 16,
     "metadata": {},
     "output_type": "execute_result"
    }
   ],
   "source": [
    " Counter(df[df['toxic_inapp']]['Varvara'] == df[df['toxic_inapp']]['Nikolay'])"
   ]
  },
  {
   "cell_type": "code",
   "execution_count": 17,
   "metadata": {},
   "outputs": [
    {
     "data": {
      "text/plain": [
       "Counter({True: 22, False: 3})"
      ]
     },
     "execution_count": 17,
     "metadata": {},
     "output_type": "execute_result"
    }
   ],
   "source": [
    " Counter(df[df['notoxic_app']]['Varvara'] == df[df['notoxic_app']]['Nikolay'])"
   ]
  },
  {
   "cell_type": "code",
   "execution_count": 18,
   "metadata": {},
   "outputs": [
    {
     "data": {
      "text/plain": [
       "Counter({True: 21, False: 4})"
      ]
     },
     "execution_count": 18,
     "metadata": {},
     "output_type": "execute_result"
    }
   ],
   "source": [
    " Counter(df[df['notoxic_inapp']]['Varvara'] == df[df['notoxic_inapp']]['Nikolay'])"
   ]
  },
  {
   "cell_type": "code",
   "execution_count": null,
   "metadata": {},
   "outputs": [],
   "source": []
  },
  {
   "cell_type": "code",
   "execution_count": 6,
   "metadata": {},
   "outputs": [
    {
     "data": {
      "text/plain": [
       "0.6558704453441295"
      ]
     },
     "execution_count": 6,
     "metadata": {},
     "output_type": "execute_result"
    }
   ],
   "source": [
    "cohen_kappa_score(df['Varvara'],df['Nikolay'])"
   ]
  },
  {
   "cell_type": "code",
   "execution_count": 8,
   "metadata": {},
   "outputs": [],
   "source": [
    "def check_agreement_by_group(dfc):\n",
    "    collected_data = []\n",
    "    for tox_inapp_rel_type in ['toxic_inapp','toxic_app','notoxic_inapp','notoxic_app']:\n",
    "        df_curr_type = dfc[dfc[tox_inapp_rel_type]]\n",
    "        cappa = cohen_kappa_score(df_curr_type['Varvara'],df_curr_type['Nikolay'])\n",
    "        if tox_inapp_rel_type != 'notoxic_app':#должно быть так или иначе плохим\n",
    "            correct_rate = sum(df_curr_type['binarized'])/len(df_curr_type['binarized'])#в каком кол-ве случаев действительно плохо\n",
    "        else:\n",
    "            correct_rate = 1 - sum(df_curr_type['binarized'])/len(df_curr_type['binarized'])#в каком кол-ве случев действительно ок\n",
    "        collected_data.append([tox_inapp_rel_type, cappa,correct_rate])   \n",
    "    report_df = pd.DataFrame(data = collected_data, columns = ['group','cappa','correct_rate'])\n",
    "    return report_df\n",
    "\n",
    "dfr = check_agreement_by_group(df)"
   ]
  },
  {
   "cell_type": "code",
   "execution_count": 26,
   "metadata": {},
   "outputs": [],
   "source": [
    "def check_filtering(dfc):\n",
    "    collected_data = []\n",
    "    \n",
    "    df_bad = dfc[(dfc['toxic_inapp']==True)|(dfc['toxic_app']==True)|(dfc['notoxic_inapp']==True)]\n",
    "    cappa_bad = cohen_kappa_score(df_bad['Varvara'],df_bad['Nikolay'])\n",
    "    correct_rate_bad = sum(df_bad['binarized'])/len(df_bad['binarized'])\n",
    "    collected_data.append(['inapp/toxic',cappa_bad,correct_rate_bad])\n",
    "    \n",
    "    df_good = dfc[dfc['notoxic_app'] == True]\n",
    "    cappa_good = cohen_kappa_score(df_good['Varvara'],df_good['Nikolay'])\n",
    "    correct_rate_good = 1 - sum(df_good['binarized'])/len(df_good['binarized'])  \n",
    "    collected_data.append(['OK',cappa_good,correct_rate_good])\n",
    "    \n",
    "    report_df = pd.DataFrame(data = collected_data, columns = ['group','cappa','correct_rate'])\n",
    "    return report_df"
   ]
  },
  {
   "cell_type": "code",
   "execution_count": 61,
   "metadata": {},
   "outputs": [],
   "source": [
    "def get_conf_matrix(dfc):\n",
    "    collected_data = []\n",
    "    \n",
    "    df_bad = dfc[(dfc['toxic_inapp']==True)|(dfc['toxic_app']==True)|(dfc['notoxic_inapp']==True)]\n",
    "    predicts_bad = df_bad['binarized'].tolist()\n",
    "    trues_bad = [1] * len(df_bad['binarized'])\n",
    "    \n",
    "    df_good = dfc[dfc['notoxic_app'] == True]\n",
    "    predicts_good =  df_good['binarized'].tolist()\n",
    "    trues_good = [0] * len(df_good['binarized'])\n",
    "    \n",
    "    preds = predicts_bad + predicts_good\n",
    "    trues = trues_bad + trues_good\n",
    "    \n",
    "    \n",
    "\n",
    "    #Generate the confusion matrix\n",
    "    cf_matrix = confusion_matrix(trues, preds)\n",
    "    cf_matrix = cf_matrix/ cf_matrix.astype(np.float).sum(axis=0)\n",
    "    \n",
    "    df_cm = pd.DataFrame(cf_matrix, index = ['ok','toxic/inapp'],\n",
    "                  columns = ['ok','toxic/inapp'])\n",
    "\n",
    "    plt.figure(figsize = (3,3))\n",
    "    sn.heatmap(df_cm, annot=True)\n",
    "    "
   ]
  },
  {
   "cell_type": "markdown",
   "metadata": {},
   "source": [
    "# With any topic"
   ]
  },
  {
   "cell_type": "code",
   "execution_count": 62,
   "metadata": {
    "scrolled": true
   },
   "outputs": [
    {
     "data": {
      "text/html": [
       "<div>\n",
       "<style scoped>\n",
       "    .dataframe tbody tr th:only-of-type {\n",
       "        vertical-align: middle;\n",
       "    }\n",
       "\n",
       "    .dataframe tbody tr th {\n",
       "        vertical-align: top;\n",
       "    }\n",
       "\n",
       "    .dataframe thead th {\n",
       "        text-align: right;\n",
       "    }\n",
       "</style>\n",
       "<table border=\"1\" class=\"dataframe\">\n",
       "  <thead>\n",
       "    <tr style=\"text-align: right;\">\n",
       "      <th></th>\n",
       "      <th>group</th>\n",
       "      <th>cappa</th>\n",
       "      <th>correct_rate</th>\n",
       "    </tr>\n",
       "  </thead>\n",
       "  <tbody>\n",
       "    <tr>\n",
       "      <th>0</th>\n",
       "      <td>inapp/toxic</td>\n",
       "      <td>0.583002</td>\n",
       "      <td>0.76</td>\n",
       "    </tr>\n",
       "    <tr>\n",
       "      <th>1</th>\n",
       "      <td>OK</td>\n",
       "      <td>0.688797</td>\n",
       "      <td>0.68</td>\n",
       "    </tr>\n",
       "  </tbody>\n",
       "</table>\n",
       "</div>"
      ],
      "text/plain": [
       "         group     cappa  correct_rate\n",
       "0  inapp/toxic  0.583002          0.76\n",
       "1           OK  0.688797          0.68"
      ]
     },
     "execution_count": 62,
     "metadata": {},
     "output_type": "execute_result"
    }
   ],
   "source": [
    "check_filtering(df)"
   ]
  },
  {
   "cell_type": "code",
   "execution_count": 63,
   "metadata": {},
   "outputs": [
    {
     "data": {
      "image/png": "[encoded data removed]",
      "text/plain": [
       "<Figure size 216x216 with 2 Axes>"
      ]
     },
     "metadata": {
      "needs_background": "light"
     },
     "output_type": "display_data"
    }
   ],
   "source": [
    "get_conf_matrix(df)"
   ]
  },
  {
   "cell_type": "code",
   "execution_count": 9,
   "metadata": {},
   "outputs": [
    {
     "data": {
      "text/html": [
       "<div>\n",
       "<style scoped>\n",
       "    .dataframe tbody tr th:only-of-type {\n",
       "        vertical-align: middle;\n",
       "    }\n",
       "\n",
       "    .dataframe tbody tr th {\n",
       "        vertical-align: top;\n",
       "    }\n",
       "\n",
       "    .dataframe thead th {\n",
       "        text-align: right;\n",
       "    }\n",
       "</style>\n",
       "<table border=\"1\" class=\"dataframe\">\n",
       "  <thead>\n",
       "    <tr style=\"text-align: right;\">\n",
       "      <th></th>\n",
       "      <th>group</th>\n",
       "      <th>cappa</th>\n",
       "      <th>correct_rate</th>\n",
       "    </tr>\n",
       "  </thead>\n",
       "  <tbody>\n",
       "    <tr>\n",
       "      <th>0</th>\n",
       "      <td>toxic_inapp</td>\n",
       "      <td>0.242424</td>\n",
       "      <td>0.96</td>\n",
       "    </tr>\n",
       "    <tr>\n",
       "      <th>1</th>\n",
       "      <td>toxic_app</td>\n",
       "      <td>0.452555</td>\n",
       "      <td>0.44</td>\n",
       "    </tr>\n",
       "    <tr>\n",
       "      <th>2</th>\n",
       "      <td>notoxic_inapp</td>\n",
       "      <td>0.519231</td>\n",
       "      <td>0.88</td>\n",
       "    </tr>\n",
       "    <tr>\n",
       "      <th>3</th>\n",
       "      <td>notoxic_app</td>\n",
       "      <td>0.688797</td>\n",
       "      <td>0.68</td>\n",
       "    </tr>\n",
       "  </tbody>\n",
       "</table>\n",
       "</div>"
      ],
      "text/plain": [
       "           group     cappa  correct_rate\n",
       "0    toxic_inapp  0.242424          0.96\n",
       "1      toxic_app  0.452555          0.44\n",
       "2  notoxic_inapp  0.519231          0.88\n",
       "3    notoxic_app  0.688797          0.68"
      ]
     },
     "execution_count": 9,
     "metadata": {},
     "output_type": "execute_result"
    }
   ],
   "source": [
    "dfr.head()"
   ]
  },
  {
   "cell_type": "markdown",
   "metadata": {},
   "source": [
    "# No topic"
   ]
  },
  {
   "cell_type": "code",
   "execution_count": 28,
   "metadata": {},
   "outputs": [],
   "source": [
    "df_no_topic = pd.read_csv(\"verification_no_topic - verification_no_topic.csv\")"
   ]
  },
  {
   "cell_type": "code",
   "execution_count": 33,
   "metadata": {},
   "outputs": [],
   "source": [
    "df_no_topic['Nikolay'] = df_no_topic['Nikolay'].apply(round)\n",
    "df_no_topic['Varvara'] = df_no_topic['Varvara'].apply(round)"
   ]
  },
  {
   "cell_type": "code",
   "execution_count": 35,
   "metadata": {
    "scrolled": false
   },
   "outputs": [
    {
     "data": {
      "text/plain": [
       "0.7210043842168194"
      ]
     },
     "execution_count": 35,
     "metadata": {},
     "output_type": "execute_result"
    }
   ],
   "source": [
    "cohen_kappa_score(df_no_topic['Varvara'],df_no_topic['Nikolay'])"
   ]
  },
  {
   "cell_type": "code",
   "execution_count": 49,
   "metadata": {},
   "outputs": [
    {
     "data": {
      "image/png": "[encoded data removed]",
      "text/plain": [
       "<Figure size 216x216 with 2 Axes>"
      ]
     },
     "metadata": {
      "needs_background": "light"
     },
     "output_type": "display_data"
    }
   ],
   "source": [
    "get_conf_matrix(df_no_topic)"
   ]
  },
  {
   "cell_type": "code",
   "execution_count": 34,
   "metadata": {},
   "outputs": [
    {
     "data": {
      "text/html": [
       "<div>\n",
       "<style scoped>\n",
       "    .dataframe tbody tr th:only-of-type {\n",
       "        vertical-align: middle;\n",
       "    }\n",
       "\n",
       "    .dataframe tbody tr th {\n",
       "        vertical-align: top;\n",
       "    }\n",
       "\n",
       "    .dataframe thead th {\n",
       "        text-align: right;\n",
       "    }\n",
       "</style>\n",
       "<table border=\"1\" class=\"dataframe\">\n",
       "  <thead>\n",
       "    <tr style=\"text-align: right;\">\n",
       "      <th></th>\n",
       "      <th>group</th>\n",
       "      <th>cappa</th>\n",
       "      <th>correct_rate</th>\n",
       "    </tr>\n",
       "  </thead>\n",
       "  <tbody>\n",
       "    <tr>\n",
       "      <th>0</th>\n",
       "      <td>toxic_inapp</td>\n",
       "      <td>0.594595</td>\n",
       "      <td>0.88</td>\n",
       "    </tr>\n",
       "    <tr>\n",
       "      <th>1</th>\n",
       "      <td>toxic_app</td>\n",
       "      <td>0.693878</td>\n",
       "      <td>0.32</td>\n",
       "    </tr>\n",
       "    <tr>\n",
       "      <th>2</th>\n",
       "      <td>notoxic_inapp</td>\n",
       "      <td>0.402730</td>\n",
       "      <td>0.80</td>\n",
       "    </tr>\n",
       "    <tr>\n",
       "      <th>3</th>\n",
       "      <td>notoxic_app</td>\n",
       "      <td>0.778761</td>\n",
       "      <td>0.88</td>\n",
       "    </tr>\n",
       "  </tbody>\n",
       "</table>\n",
       "</div>"
      ],
      "text/plain": [
       "           group     cappa  correct_rate\n",
       "0    toxic_inapp  0.594595          0.88\n",
       "1      toxic_app  0.693878          0.32\n",
       "2  notoxic_inapp  0.402730          0.80\n",
       "3    notoxic_app  0.778761          0.88"
      ]
     },
     "execution_count": 34,
     "metadata": {},
     "output_type": "execute_result"
    }
   ],
   "source": [
    "dfr_notop = check_agreement_by_group(df_no_topic)\n",
    "dfr_notop.head()"
   ]
  }
 ],
 "metadata": {
  "kernelspec": {
   "display_name": "Python 3",
   "language": "python",
   "name": "python3"
  },
  "language_info": {
   "codemirror_mode": {
    "name": "ipython",
    "version": 3
   },
   "file_extension": ".py",
   "mimetype": "text/x-python",
   "name": "python",
   "nbconvert_exporter": "python",
   "pygments_lexer": "ipython3",
   "version": "3.8.10"
  }
 },
 "nbformat": 4,
 "nbformat_minor": 4
}
